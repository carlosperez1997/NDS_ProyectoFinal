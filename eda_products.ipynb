{
 "metadata": {
  "language_info": {
   "codemirror_mode": {
    "name": "ipython",
    "version": 3
   },
   "file_extension": ".py",
   "mimetype": "text/x-python",
   "name": "python",
   "nbconvert_exporter": "python",
   "pygments_lexer": "ipython3",
   "version": "3.8.3-final"
  },
  "orig_nbformat": 2,
  "kernelspec": {
   "name": "python3",
   "display_name": "Python 3",
   "language": "python"
  }
 },
 "nbformat": 4,
 "nbformat_minor": 2,
 "cells": [
  {
   "source": [
    "## Products\n",
    "\n",
    "El dataset 'products_df' tiene las siguientes variables:\n",
    "\n",
    "- **pk_cid** (int64)\n",
    "\n",
    "Identificador de cliente\n",
    "- **pk_partition** (object : date)\n",
    "\n",
    "Fecha de ingesta de los datos\n",
    "- **short_term_deposit** (int64 : bool)\n",
    "\n",
    "Short-term deposits\n",
    "- **loans** (int64 : bool)\n",
    "\n",
    "Préstamos\n",
    "- **mortgage** (int64 : bool)\n",
    "\n",
    "Mortgage\n",
    "- **funds** (int64 : bool)\n",
    "\n",
    "Fondos de inversión\n",
    "- **securities** (int64 : bool)\n",
    "\n",
    "Valores\n",
    "- **long_term_deposit** (int64 : bool)\n",
    "\n",
    "Depósitos a largo plazo\n",
    "- **em_account_pp** (int64 : bool)\n",
    "\n",
    "Cuenta easyMoney++\n",
    "\n",
    "- **credit_card** (int64 : bool)\n",
    "\n",
    "Tarjetas de crédito\n",
    "- **payroll** (float64)\n",
    "\n",
    "Domiciliaciones\n",
    "- **pension_plan** (float64)\n",
    "\n",
    "Plan de pensiones\n",
    "- **payroll_account** (int64 : bool)\n",
    "\n",
    "Cuenta bonificada por domiciliaciones\n",
    "- **emc_account** (int64 : bool)\n",
    "\n",
    "Cuenta easyMoney Crypto\n",
    "- **debit_card** (int64 : bool)\n",
    "\n",
    "Tarjetas de débito\n",
    "- **em_account_p** (int64 : bool) \n",
    "\n",
    "Cuenta easyMoney+\n",
    "- **em_acount** (int64 : bool)\n",
    "\n",
    "Cuenta easyMoney"
   ],
   "cell_type": "markdown",
   "metadata": {}
  },
  {
   "cell_type": "code",
   "execution_count": 8,
   "metadata": {},
   "outputs": [],
   "source": [
    "def df_description(df):\n",
    "    \"\"\" df_description: returns a briefly description of the variables in a dataframe\n",
    "        inputs: \n",
    "            - df : dataframe\n",
    "        outputs:\n",
    "            - None (prints information on the terminal)\n",
    "    \"\"\"\n",
    "    display(df.head().T)\n",
    "\n",
    "    print('\\n\\n Dataframe info: \\n')\n",
    "    display(df.info(verbose=True))\n",
    "\n",
    "    print('\\n\\n Dataframe description: ')\n",
    "    display(df.describe(include='all').T)  \n",
    "    return None\n",
    "\n",
    "def df_nulls(df):\n",
    "    pass"
   ]
  },
  {
   "cell_type": "code",
   "execution_count": 10,
   "metadata": {},
   "outputs": [
    {
     "output_type": "display_data",
     "data": {
      "text/plain": "                             0           1           2           3           4\npk_cid                 1375586     1050611     1050612     1050613     1050614\npk_partition        2018-01-28  2018-01-28  2018-01-28  2018-01-28  2018-01-28\nshort_term_deposit           0           0           0           1           0\nloans                        0           0           0           0           0\nmortgage                     0           0           0           0           0\nfunds                        0           0           0           0           0\nsecurities                   0           0           0           0           0\nlong_term_deposit            0           0           0           0           0\nem_account_pp                0           0           0           0           0\ncredit_card                  0           0           0           0           0\npayroll                      0           0           0           0           0\npension_plan                 0           0           0           0           0\npayroll_account              0           0           0           0           0\nemc_account                  0           0           0           0           0\ndebit_card                   0           0           0           0           0\nem_account_p                 0           0           0           0           0\nem_acount                    1           1           1           0           1",
      "text/html": "<div>\n<style scoped>\n    .dataframe tbody tr th:only-of-type {\n        vertical-align: middle;\n    }\n\n    .dataframe tbody tr th {\n        vertical-align: top;\n    }\n\n    .dataframe thead th {\n        text-align: right;\n    }\n</style>\n<table border=\"1\" class=\"dataframe\">\n  <thead>\n    <tr style=\"text-align: right;\">\n      <th></th>\n      <th>0</th>\n      <th>1</th>\n      <th>2</th>\n      <th>3</th>\n      <th>4</th>\n    </tr>\n  </thead>\n  <tbody>\n    <tr>\n      <th>pk_cid</th>\n      <td>1375586</td>\n      <td>1050611</td>\n      <td>1050612</td>\n      <td>1050613</td>\n      <td>1050614</td>\n    </tr>\n    <tr>\n      <th>pk_partition</th>\n      <td>2018-01-28</td>\n      <td>2018-01-28</td>\n      <td>2018-01-28</td>\n      <td>2018-01-28</td>\n      <td>2018-01-28</td>\n    </tr>\n    <tr>\n      <th>short_term_deposit</th>\n      <td>0</td>\n      <td>0</td>\n      <td>0</td>\n      <td>1</td>\n      <td>0</td>\n    </tr>\n    <tr>\n      <th>loans</th>\n      <td>0</td>\n      <td>0</td>\n      <td>0</td>\n      <td>0</td>\n      <td>0</td>\n    </tr>\n    <tr>\n      <th>mortgage</th>\n      <td>0</td>\n      <td>0</td>\n      <td>0</td>\n      <td>0</td>\n      <td>0</td>\n    </tr>\n    <tr>\n      <th>funds</th>\n      <td>0</td>\n      <td>0</td>\n      <td>0</td>\n      <td>0</td>\n      <td>0</td>\n    </tr>\n    <tr>\n      <th>securities</th>\n      <td>0</td>\n      <td>0</td>\n      <td>0</td>\n      <td>0</td>\n      <td>0</td>\n    </tr>\n    <tr>\n      <th>long_term_deposit</th>\n      <td>0</td>\n      <td>0</td>\n      <td>0</td>\n      <td>0</td>\n      <td>0</td>\n    </tr>\n    <tr>\n      <th>em_account_pp</th>\n      <td>0</td>\n      <td>0</td>\n      <td>0</td>\n      <td>0</td>\n      <td>0</td>\n    </tr>\n    <tr>\n      <th>credit_card</th>\n      <td>0</td>\n      <td>0</td>\n      <td>0</td>\n      <td>0</td>\n      <td>0</td>\n    </tr>\n    <tr>\n      <th>payroll</th>\n      <td>0</td>\n      <td>0</td>\n      <td>0</td>\n      <td>0</td>\n      <td>0</td>\n    </tr>\n    <tr>\n      <th>pension_plan</th>\n      <td>0</td>\n      <td>0</td>\n      <td>0</td>\n      <td>0</td>\n      <td>0</td>\n    </tr>\n    <tr>\n      <th>payroll_account</th>\n      <td>0</td>\n      <td>0</td>\n      <td>0</td>\n      <td>0</td>\n      <td>0</td>\n    </tr>\n    <tr>\n      <th>emc_account</th>\n      <td>0</td>\n      <td>0</td>\n      <td>0</td>\n      <td>0</td>\n      <td>0</td>\n    </tr>\n    <tr>\n      <th>debit_card</th>\n      <td>0</td>\n      <td>0</td>\n      <td>0</td>\n      <td>0</td>\n      <td>0</td>\n    </tr>\n    <tr>\n      <th>em_account_p</th>\n      <td>0</td>\n      <td>0</td>\n      <td>0</td>\n      <td>0</td>\n      <td>0</td>\n    </tr>\n    <tr>\n      <th>em_acount</th>\n      <td>1</td>\n      <td>1</td>\n      <td>1</td>\n      <td>0</td>\n      <td>1</td>\n    </tr>\n  </tbody>\n</table>\n</div>"
     },
     "metadata": {}
    },
    {
     "output_type": "stream",
     "name": "stdout",
     "text": [
      "\n\n Dataframe info: \n\n<class 'pandas.core.frame.DataFrame'>\nInt64Index: 5962924 entries, 0 to 13647308\nData columns (total 17 columns):\n #   Column              Dtype  \n---  ------              -----  \n 0   pk_cid              int64  \n 1   pk_partition        object \n 2   short_term_deposit  int64  \n 3   loans               int64  \n 4   mortgage            int64  \n 5   funds               int64  \n 6   securities          int64  \n 7   long_term_deposit   int64  \n 8   em_account_pp       int64  \n 9   credit_card         int64  \n 10  payroll             float64\n 11  pension_plan        float64\n 12  payroll_account     int64  \n 13  emc_account         int64  \n 14  debit_card          int64  \n 15  em_account_p        int64  \n 16  em_acount           int64  \ndtypes: float64(2), int64(14), object(1)\nmemory usage: 818.9+ MB\n"
     ]
    },
    {
     "output_type": "display_data",
     "data": {
      "text/plain": "None"
     },
     "metadata": {}
    },
    {
     "output_type": "stream",
     "name": "stdout",
     "text": [
      "\n\n Dataframe description: \n"
     ]
    },
    {
     "output_type": "display_data",
     "data": {
      "text/plain": "                          count unique         top    freq         mean  \\\npk_cid              5.96292e+06    NaN         NaN     NaN  1.23493e+06   \npk_partition            5962924     17  2019-05-28  442995          NaN   \nshort_term_deposit  5.96292e+06    NaN         NaN     NaN   0.00258162   \nloans               5.96292e+06    NaN         NaN     NaN   7.8485e-05   \nmortgage            5.96292e+06    NaN         NaN     NaN  5.43358e-05   \nfunds               5.96292e+06    NaN         NaN     NaN   0.00337066   \nsecurities          5.96292e+06    NaN         NaN     NaN   0.00371177   \nlong_term_deposit   5.96292e+06    NaN         NaN     NaN     0.016881   \nem_account_pp       5.96292e+06    NaN         NaN     NaN            0   \ncredit_card         5.96292e+06    NaN         NaN     NaN    0.0118844   \npayroll             5.96286e+06    NaN         NaN     NaN    0.0345114   \npension_plan        5.96286e+06    NaN         NaN     NaN    0.0365264   \npayroll_account     5.96292e+06    NaN         NaN     NaN    0.0552447   \nemc_account         5.96292e+06    NaN         NaN     NaN    0.0548323   \ndebit_card          5.96292e+06    NaN         NaN     NaN    0.0944114   \nem_account_p        5.96292e+06    NaN         NaN     NaN   5.7019e-06   \nem_acount           5.96292e+06    NaN         NaN     NaN     0.734808   \n\n                           std    min          25%         50%          75%  \\\npk_cid                  162302  15891  1.11253e+06  1.2311e+06  1.35234e+06   \npk_partition               NaN    NaN          NaN         NaN          NaN   \nshort_term_deposit    0.050744      0            0           0            0   \nloans               0.00885883      0            0           0            0   \nmortgage            0.00737108      0            0           0            0   \nfunds                0.0579595      0            0           0            0   \nsecurities           0.0608111      0            0           0            0   \nlong_term_deposit     0.128826      0            0           0            0   \nem_account_pp                0      0            0           0            0   \ncredit_card           0.108366      0            0           0            0   \npayroll               0.182539      0            0           0            0   \npension_plan          0.187596      0            0           0            0   \npayroll_account       0.228457      0            0           0            0   \nemc_account           0.227653      0            0           0            0   \ndebit_card              0.2924      0            0           0            0   \nem_account_p        0.00238786      0            0           0            0   \nem_acount             0.441436      0            0           1            1   \n\n                            max  \npk_cid              1.55369e+06  \npk_partition                NaN  \nshort_term_deposit            1  \nloans                         1  \nmortgage                      1  \nfunds                         1  \nsecurities                    1  \nlong_term_deposit             1  \nem_account_pp                 0  \ncredit_card                   1  \npayroll                       1  \npension_plan                  1  \npayroll_account               1  \nemc_account                   1  \ndebit_card                    1  \nem_account_p                  1  \nem_acount                     1  ",
      "text/html": "<div>\n<style scoped>\n    .dataframe tbody tr th:only-of-type {\n        vertical-align: middle;\n    }\n\n    .dataframe tbody tr th {\n        vertical-align: top;\n    }\n\n    .dataframe thead th {\n        text-align: right;\n    }\n</style>\n<table border=\"1\" class=\"dataframe\">\n  <thead>\n    <tr style=\"text-align: right;\">\n      <th></th>\n      <th>count</th>\n      <th>unique</th>\n      <th>top</th>\n      <th>freq</th>\n      <th>mean</th>\n      <th>std</th>\n      <th>min</th>\n      <th>25%</th>\n      <th>50%</th>\n      <th>75%</th>\n      <th>max</th>\n    </tr>\n  </thead>\n  <tbody>\n    <tr>\n      <th>pk_cid</th>\n      <td>5.96292e+06</td>\n      <td>NaN</td>\n      <td>NaN</td>\n      <td>NaN</td>\n      <td>1.23493e+06</td>\n      <td>162302</td>\n      <td>15891</td>\n      <td>1.11253e+06</td>\n      <td>1.2311e+06</td>\n      <td>1.35234e+06</td>\n      <td>1.55369e+06</td>\n    </tr>\n    <tr>\n      <th>pk_partition</th>\n      <td>5962924</td>\n      <td>17</td>\n      <td>2019-05-28</td>\n      <td>442995</td>\n      <td>NaN</td>\n      <td>NaN</td>\n      <td>NaN</td>\n      <td>NaN</td>\n      <td>NaN</td>\n      <td>NaN</td>\n      <td>NaN</td>\n    </tr>\n    <tr>\n      <th>short_term_deposit</th>\n      <td>5.96292e+06</td>\n      <td>NaN</td>\n      <td>NaN</td>\n      <td>NaN</td>\n      <td>0.00258162</td>\n      <td>0.050744</td>\n      <td>0</td>\n      <td>0</td>\n      <td>0</td>\n      <td>0</td>\n      <td>1</td>\n    </tr>\n    <tr>\n      <th>loans</th>\n      <td>5.96292e+06</td>\n      <td>NaN</td>\n      <td>NaN</td>\n      <td>NaN</td>\n      <td>7.8485e-05</td>\n      <td>0.00885883</td>\n      <td>0</td>\n      <td>0</td>\n      <td>0</td>\n      <td>0</td>\n      <td>1</td>\n    </tr>\n    <tr>\n      <th>mortgage</th>\n      <td>5.96292e+06</td>\n      <td>NaN</td>\n      <td>NaN</td>\n      <td>NaN</td>\n      <td>5.43358e-05</td>\n      <td>0.00737108</td>\n      <td>0</td>\n      <td>0</td>\n      <td>0</td>\n      <td>0</td>\n      <td>1</td>\n    </tr>\n    <tr>\n      <th>funds</th>\n      <td>5.96292e+06</td>\n      <td>NaN</td>\n      <td>NaN</td>\n      <td>NaN</td>\n      <td>0.00337066</td>\n      <td>0.0579595</td>\n      <td>0</td>\n      <td>0</td>\n      <td>0</td>\n      <td>0</td>\n      <td>1</td>\n    </tr>\n    <tr>\n      <th>securities</th>\n      <td>5.96292e+06</td>\n      <td>NaN</td>\n      <td>NaN</td>\n      <td>NaN</td>\n      <td>0.00371177</td>\n      <td>0.0608111</td>\n      <td>0</td>\n      <td>0</td>\n      <td>0</td>\n      <td>0</td>\n      <td>1</td>\n    </tr>\n    <tr>\n      <th>long_term_deposit</th>\n      <td>5.96292e+06</td>\n      <td>NaN</td>\n      <td>NaN</td>\n      <td>NaN</td>\n      <td>0.016881</td>\n      <td>0.128826</td>\n      <td>0</td>\n      <td>0</td>\n      <td>0</td>\n      <td>0</td>\n      <td>1</td>\n    </tr>\n    <tr>\n      <th>em_account_pp</th>\n      <td>5.96292e+06</td>\n      <td>NaN</td>\n      <td>NaN</td>\n      <td>NaN</td>\n      <td>0</td>\n      <td>0</td>\n      <td>0</td>\n      <td>0</td>\n      <td>0</td>\n      <td>0</td>\n      <td>0</td>\n    </tr>\n    <tr>\n      <th>credit_card</th>\n      <td>5.96292e+06</td>\n      <td>NaN</td>\n      <td>NaN</td>\n      <td>NaN</td>\n      <td>0.0118844</td>\n      <td>0.108366</td>\n      <td>0</td>\n      <td>0</td>\n      <td>0</td>\n      <td>0</td>\n      <td>1</td>\n    </tr>\n    <tr>\n      <th>payroll</th>\n      <td>5.96286e+06</td>\n      <td>NaN</td>\n      <td>NaN</td>\n      <td>NaN</td>\n      <td>0.0345114</td>\n      <td>0.182539</td>\n      <td>0</td>\n      <td>0</td>\n      <td>0</td>\n      <td>0</td>\n      <td>1</td>\n    </tr>\n    <tr>\n      <th>pension_plan</th>\n      <td>5.96286e+06</td>\n      <td>NaN</td>\n      <td>NaN</td>\n      <td>NaN</td>\n      <td>0.0365264</td>\n      <td>0.187596</td>\n      <td>0</td>\n      <td>0</td>\n      <td>0</td>\n      <td>0</td>\n      <td>1</td>\n    </tr>\n    <tr>\n      <th>payroll_account</th>\n      <td>5.96292e+06</td>\n      <td>NaN</td>\n      <td>NaN</td>\n      <td>NaN</td>\n      <td>0.0552447</td>\n      <td>0.228457</td>\n      <td>0</td>\n      <td>0</td>\n      <td>0</td>\n      <td>0</td>\n      <td>1</td>\n    </tr>\n    <tr>\n      <th>emc_account</th>\n      <td>5.96292e+06</td>\n      <td>NaN</td>\n      <td>NaN</td>\n      <td>NaN</td>\n      <td>0.0548323</td>\n      <td>0.227653</td>\n      <td>0</td>\n      <td>0</td>\n      <td>0</td>\n      <td>0</td>\n      <td>1</td>\n    </tr>\n    <tr>\n      <th>debit_card</th>\n      <td>5.96292e+06</td>\n      <td>NaN</td>\n      <td>NaN</td>\n      <td>NaN</td>\n      <td>0.0944114</td>\n      <td>0.2924</td>\n      <td>0</td>\n      <td>0</td>\n      <td>0</td>\n      <td>0</td>\n      <td>1</td>\n    </tr>\n    <tr>\n      <th>em_account_p</th>\n      <td>5.96292e+06</td>\n      <td>NaN</td>\n      <td>NaN</td>\n      <td>NaN</td>\n      <td>5.7019e-06</td>\n      <td>0.00238786</td>\n      <td>0</td>\n      <td>0</td>\n      <td>0</td>\n      <td>0</td>\n      <td>1</td>\n    </tr>\n    <tr>\n      <th>em_acount</th>\n      <td>5.96292e+06</td>\n      <td>NaN</td>\n      <td>NaN</td>\n      <td>NaN</td>\n      <td>0.734808</td>\n      <td>0.441436</td>\n      <td>0</td>\n      <td>0</td>\n      <td>1</td>\n      <td>1</td>\n      <td>1</td>\n    </tr>\n  </tbody>\n</table>\n</div>"
     },
     "metadata": {}
    }
   ],
   "source": [
    "import numpy as np \n",
    "import pandas as pd\n",
    "import matplotlib.pyplot as plt \n",
    "import seaborn as sns\n",
    "\n",
    "products = pd.read_csv('/Users/carlosperezricardo/Documents/DataScience/EasyMoney/data/products_df.csv', index_col=0)\n",
    "#products_all = pd.read_csv('./data/products_df.csv', index_col=0)\n",
    "df_description(products)"
   ]
  },
  {
   "cell_type": "code",
   "execution_count": 18,
   "metadata": {},
   "outputs": [
    {
     "output_type": "execute_result",
     "data": {
      "text/plain": [
       "2019-05-28    442995\n",
       "2019-04-28    439627\n",
       "2019-03-28    436183\n",
       "2019-02-28    431727\n",
       "2019-01-28    426875\n",
       "2018-12-28    422481\n",
       "2018-11-28    416387\n",
       "2018-10-28    402300\n",
       "2018-09-28    375323\n",
       "2018-08-28    352922\n",
       "2018-07-28    339339\n",
       "2018-06-28    252104\n",
       "2018-05-28    249926\n",
       "2018-04-28    247463\n",
       "2018-03-28    245258\n",
       "2018-02-28    242521\n",
       "2018-01-28    239493\n",
       "Name: pk_partition, dtype: int64"
      ]
     },
     "metadata": {},
     "execution_count": 18
    }
   ],
   "source": [
    "products['pk_partition'].value_counts()"
   ]
  },
  {
   "cell_type": "code",
   "execution_count": 11,
   "metadata": {},
   "outputs": [
    {
     "output_type": "stream",
     "name": "stdout",
     "text": [
      "El dataframe products ocupa 1154.3975715637207 MB antes de codificar columnas boolean\n",
      "El dataframe products_df ocupa 557.2953872680664 MB después de codificar columnas boolean\n"
     ]
    }
   ],
   "source": [
    "# Codificar variables logicas (1/0 = bool)\n",
    "from sys import getsizeof\n",
    "\n",
    "boolean_cols = [\"short_term_deposit\", \"loans\", \"mortgage\", \"funds\", \"securities\", \"long_term_deposit\", \"em_account_pp\", \"credit_card\", \"payroll_account\", \"emc_account\", \"debit_card\", \"em_account_p\", \"em_acount\", \"payroll\", \"pension_plan\"] \n",
    "# payroll y pension_plan tienen nulos en el dataset completo\n",
    "\n",
    "print('El dataframe products ocupa {} MB antes de codificar columnas boolean'.format(getsizeof(products)/1048576))\n",
    "\n",
    "for x in boolean_cols:\n",
    "    products[x] = products[x].astype(bool)\n",
    "\n",
    "print('El dataframe products_df ocupa {} MB después de codificar columnas boolean'.format(getsizeof(products)/1048576))"
   ]
  },
  {
   "cell_type": "code",
   "execution_count": 13,
   "metadata": {},
   "outputs": [
    {
     "output_type": "execute_result",
     "data": {
      "text/plain": [
       "pk_cid                0\n",
       "pk_partition          0\n",
       "short_term_deposit    0\n",
       "loans                 0\n",
       "mortgage              0\n",
       "funds                 0\n",
       "securities            0\n",
       "long_term_deposit     0\n",
       "em_account_pp         0\n",
       "credit_card           0\n",
       "payroll               0\n",
       "pension_plan          0\n",
       "payroll_account       0\n",
       "emc_account           0\n",
       "debit_card            0\n",
       "em_account_p          0\n",
       "em_acount             0\n",
       "dtype: int64"
      ]
     },
     "metadata": {},
     "execution_count": 13
    }
   ],
   "source": [
    "products.isnull().sum()"
   ]
  },
  {
   "cell_type": "code",
   "execution_count": 15,
   "metadata": {},
   "outputs": [],
   "source": []
  },
  {
   "cell_type": "code",
   "execution_count": 14,
   "metadata": {},
   "outputs": [
    {
     "output_type": "execute_result",
     "data": {
      "text/plain": [
       " 0    5377974\n",
       " 1      73053\n",
       "-1      55524\n",
       "Name: dif_debit_card, dtype: int64"
      ]
     },
     "metadata": {},
     "execution_count": 14
    }
   ],
   "source": [
    "products_sorted = products.sort_values(by=['pk_cid', 'pk_partition'])\n",
    "products_sorted['debit_card_previous_month'] = products_sorted.groupby('pk_cid')['debit_card'].shift(1)\n",
    "products_sorted['dif_debit_card'] = products_sorted['debit_card'] - products_sorted['debit_card_previous_month']\n",
    "x = products_sorted['dif_debit_card'].value_counts()"
   ]
  },
  {
   "cell_type": "code",
   "execution_count": null,
   "metadata": {},
   "outputs": [],
   "source": [
    "len(x)"
   ]
  },
  {
   "source": [
    "Cada mes quiero ver como han ido evolucionando las altas y bajas. \n",
    "De nuevos clientes existentes y de clientes existentes."
   ],
   "cell_type": "markdown",
   "metadata": {}
  },
  {
   "cell_type": "code",
   "execution_count": 16,
   "metadata": {},
   "outputs": [],
   "source": [
    "list_products = [\"short_term_deposit\", \"loans\", \"mortgage\", \"funds\", \"securities\", \"long_term_deposit\", \"em_account_pp\", \"credit_card\", \"payroll_account\", \"emc_account\", \"debit_card\", \"em_account_p\", \"em_acount\"]\n",
    "\n",
    "for prod in list_products:\n",
    "    col_prev = prod + 'prev_month'\n",
    "    col_diff = prod + 'diff'\n",
    "\n",
    "    products_sorted[col_prev] = products_sorted[prod].shift(1)\n",
    "    products_sorted[col_diff] = products_sorted[prod] - products_sorted[col_prev]"
   ]
  },
  {
   "cell_type": "code",
   "execution_count": null,
   "metadata": {},
   "outputs": [],
   "source": [
    "evolution_products = []\n",
    "\n",
    "partitions = ['2018-01-28','2018-02-28','2018-03-28','2018-04-28','2018-05-28','2018-06-28','2018-07-28','2018-08-28','2018-09-28','2018-10-28','2018-11-28','2018-12-28','2019-01-28','2019-02-28','2019-03-28','2019-04-28','2019-05-28']\n",
    "list_products = [\"short_term_deposit\", \"loans\", \"mortgage\", \"funds\", \"securities\", \"long_term_deposit\", \"em_account_pp\", \"credit_card\", \"payroll_account\", \"emc_account\", \"debit_card\", \"em_account_p\", \"em_acount\"]\n",
    "\n",
    "products_sorted = products.sort_values(by=['pk_cid', 'pk_partition'])\n",
    "\n",
    "for partition in  partition:\n",
    "    monthly_products = {}\n",
    "    for prod in  list_products:\n",
    "        # productos: 0: no activos, 1: altas, -1: bajas\n",
    "        col_prev = prod + '_prev_month'\n",
    "        col_diff = prod + '_diff'\n",
    "        \n",
    "        prod_df = products_sorted[ ['pk_cid', prod] ]\n",
    "        prod_df[col_prev] = prod_df.groupby('pk_cid')[prod].shift(1)\n",
    "        prod_df[col_diff] = prod_df[prod] - prod_df[col_prev]\n",
    "        results = products_sorted[col_diff].value_counts()\n",
    "\n",
    "        if len\n",
    "        monthly_products[prod] = [ results[0], results[1]] \n",
    "    \n",
    "    evolution_products.append(monthly_products)"
   ]
  },
  {
   "cell_type": "code",
   "execution_count": 17,
   "metadata": {},
   "outputs": [
    {
     "output_type": "execute_result",
     "data": {
      "text/plain": [
       "                                 4078994     5319232     7451107     8617948  \\\n",
       "pk_cid                             15891       15891       16063       16063   \n",
       "pk_partition                  2018-07-28  2018-08-28  2018-11-28  2018-12-28   \n",
       "short_term_deposit                 False       False       False       False   \n",
       "loans                              False       False       False       False   \n",
       "mortgage                           False       False       False       False   \n",
       "funds                              False       False       False       False   \n",
       "securities                         False       False       False       False   \n",
       "long_term_deposit                  False       False       False       False   \n",
       "em_account_pp                      False       False       False       False   \n",
       "credit_card                        False       False       False       False   \n",
       "payroll                            False       False       False       False   \n",
       "pension_plan                       False       False       False       False   \n",
       "payroll_account                    False       False       False       False   \n",
       "emc_account                        False       False       False       False   \n",
       "debit_card                         False       False       False       False   \n",
       "em_account_p                       False       False       False       False   \n",
       "em_acount                           True       False       False       False   \n",
       "short_term_depositprev_month         NaN       False       False       False   \n",
       "short_term_depositdiff               NaN           0           0           0   \n",
       "loansprev_month                      NaN       False       False       False   \n",
       "loansdiff                            NaN           0           0           0   \n",
       "mortgageprev_month                   NaN       False       False       False   \n",
       "mortgagediff                         NaN           0           0           0   \n",
       "fundsprev_month                      NaN       False       False       False   \n",
       "fundsdiff                            NaN           0           0           0   \n",
       "securitiesprev_month                 NaN       False       False       False   \n",
       "securitiesdiff                       NaN           0           0           0   \n",
       "long_term_depositprev_month          NaN       False       False       False   \n",
       "long_term_depositdiff                NaN           0           0           0   \n",
       "em_account_ppprev_month              NaN       False       False       False   \n",
       "em_account_ppdiff                    NaN           0           0           0   \n",
       "credit_cardprev_month                NaN       False       False       False   \n",
       "credit_carddiff                      NaN           0           0           0   \n",
       "payroll_accountprev_month            NaN       False       False       False   \n",
       "payroll_accountdiff                  NaN           0           0           0   \n",
       "emc_accountprev_month                NaN       False       False       False   \n",
       "emc_accountdiff                      NaN           0           0           0   \n",
       "debit_cardprev_month                 NaN       False       False       False   \n",
       "debit_carddiff                       NaN           0           0           0   \n",
       "em_account_pprev_month               NaN       False       False       False   \n",
       "em_account_pdiff                     NaN           0           0           0   \n",
       "em_acountprev_month                  NaN        True       False       False   \n",
       "em_acountdiff                        NaN          -1           0           0   \n",
       "\n",
       "                                 9401149  \n",
       "pk_cid                             16063  \n",
       "pk_partition                  2019-01-28  \n",
       "short_term_deposit                 False  \n",
       "loans                              False  \n",
       "mortgage                           False  \n",
       "funds                              False  \n",
       "securities                         False  \n",
       "long_term_deposit                  False  \n",
       "em_account_pp                      False  \n",
       "credit_card                        False  \n",
       "payroll                            False  \n",
       "pension_plan                       False  \n",
       "payroll_account                    False  \n",
       "emc_account                        False  \n",
       "debit_card                         False  \n",
       "em_account_p                       False  \n",
       "em_acount                          False  \n",
       "short_term_depositprev_month       False  \n",
       "short_term_depositdiff                 0  \n",
       "loansprev_month                    False  \n",
       "loansdiff                              0  \n",
       "mortgageprev_month                 False  \n",
       "mortgagediff                           0  \n",
       "fundsprev_month                    False  \n",
       "fundsdiff                              0  \n",
       "securitiesprev_month               False  \n",
       "securitiesdiff                         0  \n",
       "long_term_depositprev_month        False  \n",
       "long_term_depositdiff                  0  \n",
       "em_account_ppprev_month            False  \n",
       "em_account_ppdiff                      0  \n",
       "credit_cardprev_month              False  \n",
       "credit_carddiff                        0  \n",
       "payroll_accountprev_month          False  \n",
       "payroll_accountdiff                    0  \n",
       "emc_accountprev_month              False  \n",
       "emc_accountdiff                        0  \n",
       "debit_cardprev_month               False  \n",
       "debit_carddiff                         0  \n",
       "em_account_pprev_month             False  \n",
       "em_account_pdiff                       0  \n",
       "em_acountprev_month                False  \n",
       "em_acountdiff                          0  "
      ],
      "text/html": "<div>\n<style scoped>\n    .dataframe tbody tr th:only-of-type {\n        vertical-align: middle;\n    }\n\n    .dataframe tbody tr th {\n        vertical-align: top;\n    }\n\n    .dataframe thead th {\n        text-align: right;\n    }\n</style>\n<table border=\"1\" class=\"dataframe\">\n  <thead>\n    <tr style=\"text-align: right;\">\n      <th></th>\n      <th>4078994</th>\n      <th>5319232</th>\n      <th>7451107</th>\n      <th>8617948</th>\n      <th>9401149</th>\n    </tr>\n  </thead>\n  <tbody>\n    <tr>\n      <th>pk_cid</th>\n      <td>15891</td>\n      <td>15891</td>\n      <td>16063</td>\n      <td>16063</td>\n      <td>16063</td>\n    </tr>\n    <tr>\n      <th>pk_partition</th>\n      <td>2018-07-28</td>\n      <td>2018-08-28</td>\n      <td>2018-11-28</td>\n      <td>2018-12-28</td>\n      <td>2019-01-28</td>\n    </tr>\n    <tr>\n      <th>short_term_deposit</th>\n      <td>False</td>\n      <td>False</td>\n      <td>False</td>\n      <td>False</td>\n      <td>False</td>\n    </tr>\n    <tr>\n      <th>loans</th>\n      <td>False</td>\n      <td>False</td>\n      <td>False</td>\n      <td>False</td>\n      <td>False</td>\n    </tr>\n    <tr>\n      <th>mortgage</th>\n      <td>False</td>\n      <td>False</td>\n      <td>False</td>\n      <td>False</td>\n      <td>False</td>\n    </tr>\n    <tr>\n      <th>funds</th>\n      <td>False</td>\n      <td>False</td>\n      <td>False</td>\n      <td>False</td>\n      <td>False</td>\n    </tr>\n    <tr>\n      <th>securities</th>\n      <td>False</td>\n      <td>False</td>\n      <td>False</td>\n      <td>False</td>\n      <td>False</td>\n    </tr>\n    <tr>\n      <th>long_term_deposit</th>\n      <td>False</td>\n      <td>False</td>\n      <td>False</td>\n      <td>False</td>\n      <td>False</td>\n    </tr>\n    <tr>\n      <th>em_account_pp</th>\n      <td>False</td>\n      <td>False</td>\n      <td>False</td>\n      <td>False</td>\n      <td>False</td>\n    </tr>\n    <tr>\n      <th>credit_card</th>\n      <td>False</td>\n      <td>False</td>\n      <td>False</td>\n      <td>False</td>\n      <td>False</td>\n    </tr>\n    <tr>\n      <th>payroll</th>\n      <td>False</td>\n      <td>False</td>\n      <td>False</td>\n      <td>False</td>\n      <td>False</td>\n    </tr>\n    <tr>\n      <th>pension_plan</th>\n      <td>False</td>\n      <td>False</td>\n      <td>False</td>\n      <td>False</td>\n      <td>False</td>\n    </tr>\n    <tr>\n      <th>payroll_account</th>\n      <td>False</td>\n      <td>False</td>\n      <td>False</td>\n      <td>False</td>\n      <td>False</td>\n    </tr>\n    <tr>\n      <th>emc_account</th>\n      <td>False</td>\n      <td>False</td>\n      <td>False</td>\n      <td>False</td>\n      <td>False</td>\n    </tr>\n    <tr>\n      <th>debit_card</th>\n      <td>False</td>\n      <td>False</td>\n      <td>False</td>\n      <td>False</td>\n      <td>False</td>\n    </tr>\n    <tr>\n      <th>em_account_p</th>\n      <td>False</td>\n      <td>False</td>\n      <td>False</td>\n      <td>False</td>\n      <td>False</td>\n    </tr>\n    <tr>\n      <th>em_acount</th>\n      <td>True</td>\n      <td>False</td>\n      <td>False</td>\n      <td>False</td>\n      <td>False</td>\n    </tr>\n    <tr>\n      <th>short_term_depositprev_month</th>\n      <td>NaN</td>\n      <td>False</td>\n      <td>False</td>\n      <td>False</td>\n      <td>False</td>\n    </tr>\n    <tr>\n      <th>short_term_depositdiff</th>\n      <td>NaN</td>\n      <td>0</td>\n      <td>0</td>\n      <td>0</td>\n      <td>0</td>\n    </tr>\n    <tr>\n      <th>loansprev_month</th>\n      <td>NaN</td>\n      <td>False</td>\n      <td>False</td>\n      <td>False</td>\n      <td>False</td>\n    </tr>\n    <tr>\n      <th>loansdiff</th>\n      <td>NaN</td>\n      <td>0</td>\n      <td>0</td>\n      <td>0</td>\n      <td>0</td>\n    </tr>\n    <tr>\n      <th>mortgageprev_month</th>\n      <td>NaN</td>\n      <td>False</td>\n      <td>False</td>\n      <td>False</td>\n      <td>False</td>\n    </tr>\n    <tr>\n      <th>mortgagediff</th>\n      <td>NaN</td>\n      <td>0</td>\n      <td>0</td>\n      <td>0</td>\n      <td>0</td>\n    </tr>\n    <tr>\n      <th>fundsprev_month</th>\n      <td>NaN</td>\n      <td>False</td>\n      <td>False</td>\n      <td>False</td>\n      <td>False</td>\n    </tr>\n    <tr>\n      <th>fundsdiff</th>\n      <td>NaN</td>\n      <td>0</td>\n      <td>0</td>\n      <td>0</td>\n      <td>0</td>\n    </tr>\n    <tr>\n      <th>securitiesprev_month</th>\n      <td>NaN</td>\n      <td>False</td>\n      <td>False</td>\n      <td>False</td>\n      <td>False</td>\n    </tr>\n    <tr>\n      <th>securitiesdiff</th>\n      <td>NaN</td>\n      <td>0</td>\n      <td>0</td>\n      <td>0</td>\n      <td>0</td>\n    </tr>\n    <tr>\n      <th>long_term_depositprev_month</th>\n      <td>NaN</td>\n      <td>False</td>\n      <td>False</td>\n      <td>False</td>\n      <td>False</td>\n    </tr>\n    <tr>\n      <th>long_term_depositdiff</th>\n      <td>NaN</td>\n      <td>0</td>\n      <td>0</td>\n      <td>0</td>\n      <td>0</td>\n    </tr>\n    <tr>\n      <th>em_account_ppprev_month</th>\n      <td>NaN</td>\n      <td>False</td>\n      <td>False</td>\n      <td>False</td>\n      <td>False</td>\n    </tr>\n    <tr>\n      <th>em_account_ppdiff</th>\n      <td>NaN</td>\n      <td>0</td>\n      <td>0</td>\n      <td>0</td>\n      <td>0</td>\n    </tr>\n    <tr>\n      <th>credit_cardprev_month</th>\n      <td>NaN</td>\n      <td>False</td>\n      <td>False</td>\n      <td>False</td>\n      <td>False</td>\n    </tr>\n    <tr>\n      <th>credit_carddiff</th>\n      <td>NaN</td>\n      <td>0</td>\n      <td>0</td>\n      <td>0</td>\n      <td>0</td>\n    </tr>\n    <tr>\n      <th>payroll_accountprev_month</th>\n      <td>NaN</td>\n      <td>False</td>\n      <td>False</td>\n      <td>False</td>\n      <td>False</td>\n    </tr>\n    <tr>\n      <th>payroll_accountdiff</th>\n      <td>NaN</td>\n      <td>0</td>\n      <td>0</td>\n      <td>0</td>\n      <td>0</td>\n    </tr>\n    <tr>\n      <th>emc_accountprev_month</th>\n      <td>NaN</td>\n      <td>False</td>\n      <td>False</td>\n      <td>False</td>\n      <td>False</td>\n    </tr>\n    <tr>\n      <th>emc_accountdiff</th>\n      <td>NaN</td>\n      <td>0</td>\n      <td>0</td>\n      <td>0</td>\n      <td>0</td>\n    </tr>\n    <tr>\n      <th>debit_cardprev_month</th>\n      <td>NaN</td>\n      <td>False</td>\n      <td>False</td>\n      <td>False</td>\n      <td>False</td>\n    </tr>\n    <tr>\n      <th>debit_carddiff</th>\n      <td>NaN</td>\n      <td>0</td>\n      <td>0</td>\n      <td>0</td>\n      <td>0</td>\n    </tr>\n    <tr>\n      <th>em_account_pprev_month</th>\n      <td>NaN</td>\n      <td>False</td>\n      <td>False</td>\n      <td>False</td>\n      <td>False</td>\n    </tr>\n    <tr>\n      <th>em_account_pdiff</th>\n      <td>NaN</td>\n      <td>0</td>\n      <td>0</td>\n      <td>0</td>\n      <td>0</td>\n    </tr>\n    <tr>\n      <th>em_acountprev_month</th>\n      <td>NaN</td>\n      <td>True</td>\n      <td>False</td>\n      <td>False</td>\n      <td>False</td>\n    </tr>\n    <tr>\n      <th>em_acountdiff</th>\n      <td>NaN</td>\n      <td>-1</td>\n      <td>0</td>\n      <td>0</td>\n      <td>0</td>\n    </tr>\n  </tbody>\n</table>\n</div>"
     },
     "metadata": {},
     "execution_count": 17
    }
   ],
   "source": [
    "products_sorted.head().T"
   ]
  },
  {
   "source": [
    "Filtramos para quedarnos tan sólo con la última partición (la más reciente)."
   ],
   "cell_type": "markdown",
   "metadata": {}
  },
  {
   "cell_type": "code",
   "execution_count": 5,
   "metadata": {},
   "outputs": [
    {
     "output_type": "error",
     "ename": "NameError",
     "evalue": "name 'products_all' is not defined",
     "traceback": [
      "\u001b[0;31m---------------------------------------------------------------------------\u001b[0m",
      "\u001b[0;31mNameError\u001b[0m                                 Traceback (most recent call last)",
      "\u001b[0;32m<ipython-input-5-fe05a0c87b7a>\u001b[0m in \u001b[0;36m<module>\u001b[0;34m\u001b[0m\n\u001b[1;32m      4\u001b[0m \u001b[0mpartitions\u001b[0m \u001b[0;34m=\u001b[0m \u001b[0;34m[\u001b[0m\u001b[0;34m'2018-01-28'\u001b[0m\u001b[0;34m,\u001b[0m\u001b[0;34m'2018-02-28'\u001b[0m\u001b[0;34m,\u001b[0m\u001b[0;34m'2018-03-28'\u001b[0m\u001b[0;34m,\u001b[0m\u001b[0;34m'2018-04-28'\u001b[0m\u001b[0;34m,\u001b[0m\u001b[0;34m'2018-05-28'\u001b[0m\u001b[0;34m,\u001b[0m\u001b[0;34m'2018-06-28'\u001b[0m\u001b[0;34m,\u001b[0m\u001b[0;34m'2018-07-28'\u001b[0m\u001b[0;34m,\u001b[0m\u001b[0;34m'2018-08-28'\u001b[0m\u001b[0;34m,\u001b[0m\u001b[0;34m'2018-09-28'\u001b[0m\u001b[0;34m,\u001b[0m\u001b[0;34m'2018-10-28'\u001b[0m\u001b[0;34m,\u001b[0m\u001b[0;34m'2018-11-28'\u001b[0m\u001b[0;34m,\u001b[0m\u001b[0;34m'2018-12-28'\u001b[0m\u001b[0;34m,\u001b[0m\u001b[0;34m'2019-01-28'\u001b[0m\u001b[0;34m,\u001b[0m\u001b[0;34m'2019-02-28'\u001b[0m\u001b[0;34m,\u001b[0m\u001b[0;34m'2019-03-28'\u001b[0m\u001b[0;34m,\u001b[0m\u001b[0;34m'2019-04-28'\u001b[0m\u001b[0;34m,\u001b[0m\u001b[0;34m'2019-05-28'\u001b[0m\u001b[0;34m]\u001b[0m\u001b[0;34m\u001b[0m\u001b[0;34m\u001b[0m\u001b[0m\n\u001b[1;32m      5\u001b[0m \u001b[0;34m\u001b[0m\u001b[0m\n\u001b[0;32m----> 6\u001b[0;31m \u001b[0mpartitions_valuecounts\u001b[0m \u001b[0;34m=\u001b[0m \u001b[0mproducts_all\u001b[0m\u001b[0;34m[\u001b[0m\u001b[0;34m'pk_partition'\u001b[0m\u001b[0;34m]\u001b[0m\u001b[0;34m.\u001b[0m\u001b[0mvalue_counts\u001b[0m\u001b[0;34m(\u001b[0m\u001b[0;34m)\u001b[0m\u001b[0;34m\u001b[0m\u001b[0;34m\u001b[0m\u001b[0m\n\u001b[0m\u001b[1;32m      7\u001b[0m \u001b[0;34m\u001b[0m\u001b[0m\n\u001b[1;32m      8\u001b[0m \u001b[0mfig\u001b[0m\u001b[0;34m,\u001b[0m \u001b[0max\u001b[0m \u001b[0;34m=\u001b[0m \u001b[0mplt\u001b[0m\u001b[0;34m.\u001b[0m\u001b[0msubplots\u001b[0m\u001b[0;34m(\u001b[0m\u001b[0;34m)\u001b[0m\u001b[0;34m\u001b[0m\u001b[0;34m\u001b[0m\u001b[0m\n",
      "\u001b[0;31mNameError\u001b[0m: name 'products_all' is not defined"
     ]
    }
   ],
   "source": [
    "#partitions = products_all['pk_partition'].unique()\n",
    "#partitions = sorted(partitions)\n",
    "\n",
    "partitions = ['2018-01-28','2018-02-28','2018-03-28','2018-04-28','2018-05-28','2018-06-28','2018-07-28','2018-08-28','2018-09-28','2018-10-28','2018-11-28','2018-12-28','2019-01-28','2019-02-28','2019-03-28','2019-04-28','2019-05-28']\n",
    "\n",
    "partitions_valuecounts = products_all['pk_partition'].value_counts()\n",
    "\n",
    "fig, ax = plt.subplots()\n",
    "ax.barh(partitions_valuecounts.index, partitions_valuecounts[:])\n",
    "plt.show()"
   ]
  },
  {
   "cell_type": "code",
   "execution_count": 4,
   "metadata": {},
   "outputs": [
    {
     "output_type": "display_data",
     "data": {
      "text/plain": "          pk_cid pk_partition  short_term_deposit  loans  mortgage  funds  \\\n12715896  657826   2019-05-28                   0      0         0      0   \n12715899  657817   2019-05-28                   0      0         0      0   \n12715982  657986   2019-05-28                   0      0         0      0   \n12716026  657905   2019-05-28                   0      0         0      0   \n12716082  657336   2019-05-28                   0      0         0      0   \n\n          securities  long_term_deposit  em_account_pp  credit_card  payroll  \\\n12715896           0                  0              0            0      0.0   \n12715899           0                  0              0            0      0.0   \n12715982           0                  0              0            1      1.0   \n12716026           0                  1              0            0      0.0   \n12716082           0                  0              0            0      0.0   \n\n          pension_plan  payroll_account  emc_account  debit_card  \\\n12715896           0.0                0            0           0   \n12715899           0.0                0            0           0   \n12715982           1.0                1            1           1   \n12716026           0.0                0            0           0   \n12716082           0.0                0            0           0   \n\n          em_account_p  em_acount  \n12715896             0          1  \n12715899             0          0  \n12715982             0          0  \n12716026             0          1  \n12716082             0          1  ",
      "text/html": "<div>\n<style scoped>\n    .dataframe tbody tr th:only-of-type {\n        vertical-align: middle;\n    }\n\n    .dataframe tbody tr th {\n        vertical-align: top;\n    }\n\n    .dataframe thead th {\n        text-align: right;\n    }\n</style>\n<table border=\"1\" class=\"dataframe\">\n  <thead>\n    <tr style=\"text-align: right;\">\n      <th></th>\n      <th>pk_cid</th>\n      <th>pk_partition</th>\n      <th>short_term_deposit</th>\n      <th>loans</th>\n      <th>mortgage</th>\n      <th>funds</th>\n      <th>securities</th>\n      <th>long_term_deposit</th>\n      <th>em_account_pp</th>\n      <th>credit_card</th>\n      <th>payroll</th>\n      <th>pension_plan</th>\n      <th>payroll_account</th>\n      <th>emc_account</th>\n      <th>debit_card</th>\n      <th>em_account_p</th>\n      <th>em_acount</th>\n    </tr>\n  </thead>\n  <tbody>\n    <tr>\n      <th>12715896</th>\n      <td>657826</td>\n      <td>2019-05-28</td>\n      <td>0</td>\n      <td>0</td>\n      <td>0</td>\n      <td>0</td>\n      <td>0</td>\n      <td>0</td>\n      <td>0</td>\n      <td>0</td>\n      <td>0.0</td>\n      <td>0.0</td>\n      <td>0</td>\n      <td>0</td>\n      <td>0</td>\n      <td>0</td>\n      <td>1</td>\n    </tr>\n    <tr>\n      <th>12715899</th>\n      <td>657817</td>\n      <td>2019-05-28</td>\n      <td>0</td>\n      <td>0</td>\n      <td>0</td>\n      <td>0</td>\n      <td>0</td>\n      <td>0</td>\n      <td>0</td>\n      <td>0</td>\n      <td>0.0</td>\n      <td>0.0</td>\n      <td>0</td>\n      <td>0</td>\n      <td>0</td>\n      <td>0</td>\n      <td>0</td>\n    </tr>\n    <tr>\n      <th>12715982</th>\n      <td>657986</td>\n      <td>2019-05-28</td>\n      <td>0</td>\n      <td>0</td>\n      <td>0</td>\n      <td>0</td>\n      <td>0</td>\n      <td>0</td>\n      <td>0</td>\n      <td>1</td>\n      <td>1.0</td>\n      <td>1.0</td>\n      <td>1</td>\n      <td>1</td>\n      <td>1</td>\n      <td>0</td>\n      <td>0</td>\n    </tr>\n    <tr>\n      <th>12716026</th>\n      <td>657905</td>\n      <td>2019-05-28</td>\n      <td>0</td>\n      <td>0</td>\n      <td>0</td>\n      <td>0</td>\n      <td>0</td>\n      <td>1</td>\n      <td>0</td>\n      <td>0</td>\n      <td>0.0</td>\n      <td>0.0</td>\n      <td>0</td>\n      <td>0</td>\n      <td>0</td>\n      <td>0</td>\n      <td>1</td>\n    </tr>\n    <tr>\n      <th>12716082</th>\n      <td>657336</td>\n      <td>2019-05-28</td>\n      <td>0</td>\n      <td>0</td>\n      <td>0</td>\n      <td>0</td>\n      <td>0</td>\n      <td>0</td>\n      <td>0</td>\n      <td>0</td>\n      <td>0.0</td>\n      <td>0.0</td>\n      <td>0</td>\n      <td>0</td>\n      <td>0</td>\n      <td>0</td>\n      <td>1</td>\n    </tr>\n  </tbody>\n</table>\n</div>"
     },
     "metadata": {}
    },
    {
     "output_type": "stream",
     "name": "stdout",
     "text": [
      "\n\n Dataframe info: \n\n<class 'pandas.core.frame.DataFrame'>\nInt64Index: 442995 entries, 12715896 to 13647308\nData columns (total 17 columns):\n #   Column              Non-Null Count   Dtype  \n---  ------              --------------   -----  \n 0   pk_cid              442995 non-null  int64  \n 1   pk_partition        442995 non-null  object \n 2   short_term_deposit  442995 non-null  int64  \n 3   loans               442995 non-null  int64  \n 4   mortgage            442995 non-null  int64  \n 5   funds               442995 non-null  int64  \n 6   securities          442995 non-null  int64  \n 7   long_term_deposit   442995 non-null  int64  \n 8   em_account_pp       442995 non-null  int64  \n 9   credit_card         442995 non-null  int64  \n 10  payroll             442995 non-null  float64\n 11  pension_plan        442995 non-null  float64\n 12  payroll_account     442995 non-null  int64  \n 13  emc_account         442995 non-null  int64  \n 14  debit_card          442995 non-null  int64  \n 15  em_account_p        442995 non-null  int64  \n 16  em_acount           442995 non-null  int64  \ndtypes: float64(2), int64(14), object(1)\nmemory usage: 60.8+ MB\n"
     ]
    },
    {
     "output_type": "display_data",
     "data": {
      "text/plain": "None"
     },
     "metadata": {}
    },
    {
     "output_type": "stream",
     "name": "stdout",
     "text": [
      "\n\n Dataframe description: \n"
     ]
    },
    {
     "output_type": "display_data",
     "data": {
      "text/plain": "              pk_cid pk_partition  short_term_deposit          loans  \\\ncount   4.429950e+05       442995       442995.000000  442995.000000   \nunique           NaN            1                 NaN            NaN   \ntop              NaN   2019-05-28                 NaN            NaN   \nfreq             NaN       442995                 NaN            NaN   \nmean    1.271885e+06          NaN            0.000005       0.000068   \nstd     1.779574e+05          NaN            0.002125       0.008229   \nmin     1.606300e+04          NaN            0.000000       0.000000   \n25%     1.141604e+06          NaN            0.000000       0.000000   \n50%     1.280164e+06          NaN            0.000000       0.000000   \n75%     1.419056e+06          NaN            0.000000       0.000000   \nmax     1.553689e+06          NaN            1.000000       1.000000   \n\n             mortgage          funds     securities  long_term_deposit  \\\ncount   442995.000000  442995.000000  442995.000000      442995.000000   \nunique            NaN            NaN            NaN                NaN   \ntop               NaN            NaN            NaN                NaN   \nfreq              NaN            NaN            NaN                NaN   \nmean         0.000052       0.002968       0.004038           0.013835   \nstd          0.007205       0.054402       0.063420           0.116807   \nmin          0.000000       0.000000       0.000000           0.000000   \n25%          0.000000       0.000000       0.000000           0.000000   \n50%          0.000000       0.000000       0.000000           0.000000   \n75%          0.000000       0.000000       0.000000           0.000000   \nmax          1.000000       1.000000       1.000000           1.000000   \n\n        em_account_pp    credit_card        payroll   pension_plan  \\\ncount        442995.0  442995.000000  442995.000000  442995.000000   \nunique            NaN            NaN            NaN            NaN   \ntop               NaN            NaN            NaN            NaN   \nfreq              NaN            NaN            NaN            NaN   \nmean              0.0       0.010838       0.036869       0.039172   \nstd               0.0       0.103538       0.188442       0.194004   \nmin               0.0       0.000000       0.000000       0.000000   \n25%               0.0       0.000000       0.000000       0.000000   \n50%               0.0       0.000000       0.000000       0.000000   \n75%               0.0       0.000000       0.000000       0.000000   \nmax               0.0       1.000000       1.000000       1.000000   \n\n        payroll_account    emc_account     debit_card   em_account_p  \\\ncount     442995.000000  442995.000000  442995.000000  442995.000000   \nunique              NaN            NaN            NaN            NaN   \ntop                 NaN            NaN            NaN            NaN   \nfreq                NaN            NaN            NaN            NaN   \nmean           0.059886       0.055872       0.097656       0.000005   \nstd            0.237275       0.229675       0.296849       0.002125   \nmin            0.000000       0.000000       0.000000       0.000000   \n25%            0.000000       0.000000       0.000000       0.000000   \n50%            0.000000       0.000000       0.000000       0.000000   \n75%            0.000000       0.000000       0.000000       0.000000   \nmax            1.000000       1.000000       1.000000       1.000000   \n\n            em_acount  \ncount   442995.000000  \nunique            NaN  \ntop               NaN  \nfreq              NaN  \nmean         0.669037  \nstd          0.470560  \nmin          0.000000  \n25%          0.000000  \n50%          1.000000  \n75%          1.000000  \nmax          1.000000  ",
      "text/html": "<div>\n<style scoped>\n    .dataframe tbody tr th:only-of-type {\n        vertical-align: middle;\n    }\n\n    .dataframe tbody tr th {\n        vertical-align: top;\n    }\n\n    .dataframe thead th {\n        text-align: right;\n    }\n</style>\n<table border=\"1\" class=\"dataframe\">\n  <thead>\n    <tr style=\"text-align: right;\">\n      <th></th>\n      <th>pk_cid</th>\n      <th>pk_partition</th>\n      <th>short_term_deposit</th>\n      <th>loans</th>\n      <th>mortgage</th>\n      <th>funds</th>\n      <th>securities</th>\n      <th>long_term_deposit</th>\n      <th>em_account_pp</th>\n      <th>credit_card</th>\n      <th>payroll</th>\n      <th>pension_plan</th>\n      <th>payroll_account</th>\n      <th>emc_account</th>\n      <th>debit_card</th>\n      <th>em_account_p</th>\n      <th>em_acount</th>\n    </tr>\n  </thead>\n  <tbody>\n    <tr>\n      <th>count</th>\n      <td>4.429950e+05</td>\n      <td>442995</td>\n      <td>442995.000000</td>\n      <td>442995.000000</td>\n      <td>442995.000000</td>\n      <td>442995.000000</td>\n      <td>442995.000000</td>\n      <td>442995.000000</td>\n      <td>442995.0</td>\n      <td>442995.000000</td>\n      <td>442995.000000</td>\n      <td>442995.000000</td>\n      <td>442995.000000</td>\n      <td>442995.000000</td>\n      <td>442995.000000</td>\n      <td>442995.000000</td>\n      <td>442995.000000</td>\n    </tr>\n    <tr>\n      <th>unique</th>\n      <td>NaN</td>\n      <td>1</td>\n      <td>NaN</td>\n      <td>NaN</td>\n      <td>NaN</td>\n      <td>NaN</td>\n      <td>NaN</td>\n      <td>NaN</td>\n      <td>NaN</td>\n      <td>NaN</td>\n      <td>NaN</td>\n      <td>NaN</td>\n      <td>NaN</td>\n      <td>NaN</td>\n      <td>NaN</td>\n      <td>NaN</td>\n      <td>NaN</td>\n    </tr>\n    <tr>\n      <th>top</th>\n      <td>NaN</td>\n      <td>2019-05-28</td>\n      <td>NaN</td>\n      <td>NaN</td>\n      <td>NaN</td>\n      <td>NaN</td>\n      <td>NaN</td>\n      <td>NaN</td>\n      <td>NaN</td>\n      <td>NaN</td>\n      <td>NaN</td>\n      <td>NaN</td>\n      <td>NaN</td>\n      <td>NaN</td>\n      <td>NaN</td>\n      <td>NaN</td>\n      <td>NaN</td>\n    </tr>\n    <tr>\n      <th>freq</th>\n      <td>NaN</td>\n      <td>442995</td>\n      <td>NaN</td>\n      <td>NaN</td>\n      <td>NaN</td>\n      <td>NaN</td>\n      <td>NaN</td>\n      <td>NaN</td>\n      <td>NaN</td>\n      <td>NaN</td>\n      <td>NaN</td>\n      <td>NaN</td>\n      <td>NaN</td>\n      <td>NaN</td>\n      <td>NaN</td>\n      <td>NaN</td>\n      <td>NaN</td>\n    </tr>\n    <tr>\n      <th>mean</th>\n      <td>1.271885e+06</td>\n      <td>NaN</td>\n      <td>0.000005</td>\n      <td>0.000068</td>\n      <td>0.000052</td>\n      <td>0.002968</td>\n      <td>0.004038</td>\n      <td>0.013835</td>\n      <td>0.0</td>\n      <td>0.010838</td>\n      <td>0.036869</td>\n      <td>0.039172</td>\n      <td>0.059886</td>\n      <td>0.055872</td>\n      <td>0.097656</td>\n      <td>0.000005</td>\n      <td>0.669037</td>\n    </tr>\n    <tr>\n      <th>std</th>\n      <td>1.779574e+05</td>\n      <td>NaN</td>\n      <td>0.002125</td>\n      <td>0.008229</td>\n      <td>0.007205</td>\n      <td>0.054402</td>\n      <td>0.063420</td>\n      <td>0.116807</td>\n      <td>0.0</td>\n      <td>0.103538</td>\n      <td>0.188442</td>\n      <td>0.194004</td>\n      <td>0.237275</td>\n      <td>0.229675</td>\n      <td>0.296849</td>\n      <td>0.002125</td>\n      <td>0.470560</td>\n    </tr>\n    <tr>\n      <th>min</th>\n      <td>1.606300e+04</td>\n      <td>NaN</td>\n      <td>0.000000</td>\n      <td>0.000000</td>\n      <td>0.000000</td>\n      <td>0.000000</td>\n      <td>0.000000</td>\n      <td>0.000000</td>\n      <td>0.0</td>\n      <td>0.000000</td>\n      <td>0.000000</td>\n      <td>0.000000</td>\n      <td>0.000000</td>\n      <td>0.000000</td>\n      <td>0.000000</td>\n      <td>0.000000</td>\n      <td>0.000000</td>\n    </tr>\n    <tr>\n      <th>25%</th>\n      <td>1.141604e+06</td>\n      <td>NaN</td>\n      <td>0.000000</td>\n      <td>0.000000</td>\n      <td>0.000000</td>\n      <td>0.000000</td>\n      <td>0.000000</td>\n      <td>0.000000</td>\n      <td>0.0</td>\n      <td>0.000000</td>\n      <td>0.000000</td>\n      <td>0.000000</td>\n      <td>0.000000</td>\n      <td>0.000000</td>\n      <td>0.000000</td>\n      <td>0.000000</td>\n      <td>0.000000</td>\n    </tr>\n    <tr>\n      <th>50%</th>\n      <td>1.280164e+06</td>\n      <td>NaN</td>\n      <td>0.000000</td>\n      <td>0.000000</td>\n      <td>0.000000</td>\n      <td>0.000000</td>\n      <td>0.000000</td>\n      <td>0.000000</td>\n      <td>0.0</td>\n      <td>0.000000</td>\n      <td>0.000000</td>\n      <td>0.000000</td>\n      <td>0.000000</td>\n      <td>0.000000</td>\n      <td>0.000000</td>\n      <td>0.000000</td>\n      <td>1.000000</td>\n    </tr>\n    <tr>\n      <th>75%</th>\n      <td>1.419056e+06</td>\n      <td>NaN</td>\n      <td>0.000000</td>\n      <td>0.000000</td>\n      <td>0.000000</td>\n      <td>0.000000</td>\n      <td>0.000000</td>\n      <td>0.000000</td>\n      <td>0.0</td>\n      <td>0.000000</td>\n      <td>0.000000</td>\n      <td>0.000000</td>\n      <td>0.000000</td>\n      <td>0.000000</td>\n      <td>0.000000</td>\n      <td>0.000000</td>\n      <td>1.000000</td>\n    </tr>\n    <tr>\n      <th>max</th>\n      <td>1.553689e+06</td>\n      <td>NaN</td>\n      <td>1.000000</td>\n      <td>1.000000</td>\n      <td>1.000000</td>\n      <td>1.000000</td>\n      <td>1.000000</td>\n      <td>1.000000</td>\n      <td>0.0</td>\n      <td>1.000000</td>\n      <td>1.000000</td>\n      <td>1.000000</td>\n      <td>1.000000</td>\n      <td>1.000000</td>\n      <td>1.000000</td>\n      <td>1.000000</td>\n      <td>1.000000</td>\n    </tr>\n  </tbody>\n</table>\n</div>"
     },
     "metadata": {}
    }
   ],
   "source": [
    "products_df = products_all[ products_all['pk_partition'] == partitions[-1]]\n",
    "df_description(products_df)\n",
    "\n",
    "del products_all"
   ]
  },
  {
   "source": [
    "En la tabla de arriba se puede observar que todas las columnas están completas y no existe ningún valor nulo. Sin embargo, no ocurre lo mismo para el dataset que contiene todas las particiones donde las columnas *payroll* y *pension_plan* tienen de valores nulos."
   ],
   "cell_type": "markdown",
   "metadata": {}
  },
  {
   "cell_type": "code",
   "execution_count": 6,
   "metadata": {},
   "outputs": [
    {
     "output_type": "stream",
     "name": "stdout",
     "text": [
      "El dataframe products_df ocupa 86.51158618927002 MB antes de codificar columnas boolean\n",
      "El dataframe products_df ocupa 42.151926040649414 MB después de codificar columnas boolean\n"
     ]
    }
   ],
   "source": [
    "# Codificar variables logicas (1/0 = bool)\n",
    "from sys import getsizeof\n",
    "\n",
    "boolean_cols = [\"short_term_deposit\", \"loans\", \"mortgage\", \"funds\", \"securities\", \"long_term_deposit\", \"em_account_pp\", \"credit_card\", \"payroll_account\", \"emc_account\", \"debit_card\", \"em_account_p\", \"em_acount\", \"payroll\", \"pension_plan\"] # payroll y pension_plan tienen nulos en el dataset completo\n",
    "\n",
    "print('El dataframe products_df ocupa {} MB antes de codificar columnas boolean'.format(getsizeof(products_df)/1048576))\n",
    "\n",
    "for x in boolean_cols:\n",
    "    products_df[x] = products_df[x].astype(bool)\n",
    "\n",
    "print('El dataframe products_df ocupa {} MB después de codificar columnas boolean'.format(getsizeof(products_df)/1048576))"
   ]
  },
  {
   "cell_type": "code",
   "execution_count": 7,
   "metadata": {},
   "outputs": [
    {
     "output_type": "display_data",
     "data": {
      "text/plain": "          pk_cid pk_partition  short_term_deposit  loans  mortgage  funds  \\\n12715896  657826   2019-05-28               False  False     False  False   \n12715899  657817   2019-05-28               False  False     False  False   \n12715982  657986   2019-05-28               False  False     False  False   \n12716026  657905   2019-05-28               False  False     False  False   \n12716082  657336   2019-05-28               False  False     False  False   \n\n          securities  long_term_deposit  em_account_pp  credit_card  payroll  \\\n12715896       False              False          False        False    False   \n12715899       False              False          False        False    False   \n12715982       False              False          False         True     True   \n12716026       False               True          False        False    False   \n12716082       False              False          False        False    False   \n\n          pension_plan  payroll_account  emc_account  debit_card  \\\n12715896         False            False        False       False   \n12715899         False            False        False       False   \n12715982          True             True         True        True   \n12716026         False            False        False       False   \n12716082         False            False        False       False   \n\n          em_account_p  em_acount  \n12715896         False       True  \n12715899         False      False  \n12715982         False      False  \n12716026         False       True  \n12716082         False       True  ",
      "text/html": "<div>\n<style scoped>\n    .dataframe tbody tr th:only-of-type {\n        vertical-align: middle;\n    }\n\n    .dataframe tbody tr th {\n        vertical-align: top;\n    }\n\n    .dataframe thead th {\n        text-align: right;\n    }\n</style>\n<table border=\"1\" class=\"dataframe\">\n  <thead>\n    <tr style=\"text-align: right;\">\n      <th></th>\n      <th>pk_cid</th>\n      <th>pk_partition</th>\n      <th>short_term_deposit</th>\n      <th>loans</th>\n      <th>mortgage</th>\n      <th>funds</th>\n      <th>securities</th>\n      <th>long_term_deposit</th>\n      <th>em_account_pp</th>\n      <th>credit_card</th>\n      <th>payroll</th>\n      <th>pension_plan</th>\n      <th>payroll_account</th>\n      <th>emc_account</th>\n      <th>debit_card</th>\n      <th>em_account_p</th>\n      <th>em_acount</th>\n    </tr>\n  </thead>\n  <tbody>\n    <tr>\n      <th>12715896</th>\n      <td>657826</td>\n      <td>2019-05-28</td>\n      <td>False</td>\n      <td>False</td>\n      <td>False</td>\n      <td>False</td>\n      <td>False</td>\n      <td>False</td>\n      <td>False</td>\n      <td>False</td>\n      <td>False</td>\n      <td>False</td>\n      <td>False</td>\n      <td>False</td>\n      <td>False</td>\n      <td>False</td>\n      <td>True</td>\n    </tr>\n    <tr>\n      <th>12715899</th>\n      <td>657817</td>\n      <td>2019-05-28</td>\n      <td>False</td>\n      <td>False</td>\n      <td>False</td>\n      <td>False</td>\n      <td>False</td>\n      <td>False</td>\n      <td>False</td>\n      <td>False</td>\n      <td>False</td>\n      <td>False</td>\n      <td>False</td>\n      <td>False</td>\n      <td>False</td>\n      <td>False</td>\n      <td>False</td>\n    </tr>\n    <tr>\n      <th>12715982</th>\n      <td>657986</td>\n      <td>2019-05-28</td>\n      <td>False</td>\n      <td>False</td>\n      <td>False</td>\n      <td>False</td>\n      <td>False</td>\n      <td>False</td>\n      <td>False</td>\n      <td>True</td>\n      <td>True</td>\n      <td>True</td>\n      <td>True</td>\n      <td>True</td>\n      <td>True</td>\n      <td>False</td>\n      <td>False</td>\n    </tr>\n    <tr>\n      <th>12716026</th>\n      <td>657905</td>\n      <td>2019-05-28</td>\n      <td>False</td>\n      <td>False</td>\n      <td>False</td>\n      <td>False</td>\n      <td>False</td>\n      <td>True</td>\n      <td>False</td>\n      <td>False</td>\n      <td>False</td>\n      <td>False</td>\n      <td>False</td>\n      <td>False</td>\n      <td>False</td>\n      <td>False</td>\n      <td>True</td>\n    </tr>\n    <tr>\n      <th>12716082</th>\n      <td>657336</td>\n      <td>2019-05-28</td>\n      <td>False</td>\n      <td>False</td>\n      <td>False</td>\n      <td>False</td>\n      <td>False</td>\n      <td>False</td>\n      <td>False</td>\n      <td>False</td>\n      <td>False</td>\n      <td>False</td>\n      <td>False</td>\n      <td>False</td>\n      <td>False</td>\n      <td>False</td>\n      <td>True</td>\n    </tr>\n  </tbody>\n</table>\n</div>"
     },
     "metadata": {}
    },
    {
     "output_type": "stream",
     "name": "stdout",
     "text": [
      "\n\n Dataframe info: \n\n<class 'pandas.core.frame.DataFrame'>\nInt64Index: 442995 entries, 12715896 to 13647308\nData columns (total 17 columns):\n #   Column              Non-Null Count   Dtype \n---  ------              --------------   ----- \n 0   pk_cid              442995 non-null  int64 \n 1   pk_partition        442995 non-null  object\n 2   short_term_deposit  442995 non-null  bool  \n 3   loans               442995 non-null  bool  \n 4   mortgage            442995 non-null  bool  \n 5   funds               442995 non-null  bool  \n 6   securities          442995 non-null  bool  \n 7   long_term_deposit   442995 non-null  bool  \n 8   em_account_pp       442995 non-null  bool  \n 9   credit_card         442995 non-null  bool  \n 10  payroll             442995 non-null  bool  \n 11  pension_plan        442995 non-null  bool  \n 12  payroll_account     442995 non-null  bool  \n 13  emc_account         442995 non-null  bool  \n 14  debit_card          442995 non-null  bool  \n 15  em_account_p        442995 non-null  bool  \n 16  em_acount           442995 non-null  bool  \ndtypes: bool(15), int64(1), object(1)\nmemory usage: 16.5+ MB\n"
     ]
    },
    {
     "output_type": "display_data",
     "data": {
      "text/plain": "None"
     },
     "metadata": {}
    },
    {
     "output_type": "stream",
     "name": "stdout",
     "text": [
      "\n\n Dataframe description: \n"
     ]
    },
    {
     "output_type": "display_data",
     "data": {
      "text/plain": "              pk_cid pk_partition short_term_deposit   loans mortgage   funds  \\\ncount   4.429950e+05       442995             442995  442995   442995  442995   \nunique           NaN            1                  2       2        2       2   \ntop              NaN   2019-05-28              False   False    False   False   \nfreq             NaN       442995             442993  442965   442972  441680   \nmean    1.271885e+06          NaN                NaN     NaN      NaN     NaN   \nstd     1.779574e+05          NaN                NaN     NaN      NaN     NaN   \nmin     1.606300e+04          NaN                NaN     NaN      NaN     NaN   \n25%     1.141604e+06          NaN                NaN     NaN      NaN     NaN   \n50%     1.280164e+06          NaN                NaN     NaN      NaN     NaN   \n75%     1.419056e+06          NaN                NaN     NaN      NaN     NaN   \nmax     1.553689e+06          NaN                NaN     NaN      NaN     NaN   \n\n       securities long_term_deposit em_account_pp credit_card payroll  \\\ncount      442995            442995        442995      442995  442995   \nunique          2                 2             1           2       2   \ntop         False             False         False       False   False   \nfreq       441206            436866        442995      438194  426662   \nmean          NaN               NaN           NaN         NaN     NaN   \nstd           NaN               NaN           NaN         NaN     NaN   \nmin           NaN               NaN           NaN         NaN     NaN   \n25%           NaN               NaN           NaN         NaN     NaN   \n50%           NaN               NaN           NaN         NaN     NaN   \n75%           NaN               NaN           NaN         NaN     NaN   \nmax           NaN               NaN           NaN         NaN     NaN   \n\n       pension_plan payroll_account emc_account debit_card em_account_p  \\\ncount        442995          442995      442995     442995       442995   \nunique            2               2           2          2            2   \ntop           False           False       False      False        False   \nfreq         425642          416466      418244     399734       442993   \nmean            NaN             NaN         NaN        NaN          NaN   \nstd             NaN             NaN         NaN        NaN          NaN   \nmin             NaN             NaN         NaN        NaN          NaN   \n25%             NaN             NaN         NaN        NaN          NaN   \n50%             NaN             NaN         NaN        NaN          NaN   \n75%             NaN             NaN         NaN        NaN          NaN   \nmax             NaN             NaN         NaN        NaN          NaN   \n\n       em_acount  \ncount     442995  \nunique         2  \ntop         True  \nfreq      296380  \nmean         NaN  \nstd          NaN  \nmin          NaN  \n25%          NaN  \n50%          NaN  \n75%          NaN  \nmax          NaN  ",
      "text/html": "<div>\n<style scoped>\n    .dataframe tbody tr th:only-of-type {\n        vertical-align: middle;\n    }\n\n    .dataframe tbody tr th {\n        vertical-align: top;\n    }\n\n    .dataframe thead th {\n        text-align: right;\n    }\n</style>\n<table border=\"1\" class=\"dataframe\">\n  <thead>\n    <tr style=\"text-align: right;\">\n      <th></th>\n      <th>pk_cid</th>\n      <th>pk_partition</th>\n      <th>short_term_deposit</th>\n      <th>loans</th>\n      <th>mortgage</th>\n      <th>funds</th>\n      <th>securities</th>\n      <th>long_term_deposit</th>\n      <th>em_account_pp</th>\n      <th>credit_card</th>\n      <th>payroll</th>\n      <th>pension_plan</th>\n      <th>payroll_account</th>\n      <th>emc_account</th>\n      <th>debit_card</th>\n      <th>em_account_p</th>\n      <th>em_acount</th>\n    </tr>\n  </thead>\n  <tbody>\n    <tr>\n      <th>count</th>\n      <td>4.429950e+05</td>\n      <td>442995</td>\n      <td>442995</td>\n      <td>442995</td>\n      <td>442995</td>\n      <td>442995</td>\n      <td>442995</td>\n      <td>442995</td>\n      <td>442995</td>\n      <td>442995</td>\n      <td>442995</td>\n      <td>442995</td>\n      <td>442995</td>\n      <td>442995</td>\n      <td>442995</td>\n      <td>442995</td>\n      <td>442995</td>\n    </tr>\n    <tr>\n      <th>unique</th>\n      <td>NaN</td>\n      <td>1</td>\n      <td>2</td>\n      <td>2</td>\n      <td>2</td>\n      <td>2</td>\n      <td>2</td>\n      <td>2</td>\n      <td>1</td>\n      <td>2</td>\n      <td>2</td>\n      <td>2</td>\n      <td>2</td>\n      <td>2</td>\n      <td>2</td>\n      <td>2</td>\n      <td>2</td>\n    </tr>\n    <tr>\n      <th>top</th>\n      <td>NaN</td>\n      <td>2019-05-28</td>\n      <td>False</td>\n      <td>False</td>\n      <td>False</td>\n      <td>False</td>\n      <td>False</td>\n      <td>False</td>\n      <td>False</td>\n      <td>False</td>\n      <td>False</td>\n      <td>False</td>\n      <td>False</td>\n      <td>False</td>\n      <td>False</td>\n      <td>False</td>\n      <td>True</td>\n    </tr>\n    <tr>\n      <th>freq</th>\n      <td>NaN</td>\n      <td>442995</td>\n      <td>442993</td>\n      <td>442965</td>\n      <td>442972</td>\n      <td>441680</td>\n      <td>441206</td>\n      <td>436866</td>\n      <td>442995</td>\n      <td>438194</td>\n      <td>426662</td>\n      <td>425642</td>\n      <td>416466</td>\n      <td>418244</td>\n      <td>399734</td>\n      <td>442993</td>\n      <td>296380</td>\n    </tr>\n    <tr>\n      <th>mean</th>\n      <td>1.271885e+06</td>\n      <td>NaN</td>\n      <td>NaN</td>\n      <td>NaN</td>\n      <td>NaN</td>\n      <td>NaN</td>\n      <td>NaN</td>\n      <td>NaN</td>\n      <td>NaN</td>\n      <td>NaN</td>\n      <td>NaN</td>\n      <td>NaN</td>\n      <td>NaN</td>\n      <td>NaN</td>\n      <td>NaN</td>\n      <td>NaN</td>\n      <td>NaN</td>\n    </tr>\n    <tr>\n      <th>std</th>\n      <td>1.779574e+05</td>\n      <td>NaN</td>\n      <td>NaN</td>\n      <td>NaN</td>\n      <td>NaN</td>\n      <td>NaN</td>\n      <td>NaN</td>\n      <td>NaN</td>\n      <td>NaN</td>\n      <td>NaN</td>\n      <td>NaN</td>\n      <td>NaN</td>\n      <td>NaN</td>\n      <td>NaN</td>\n      <td>NaN</td>\n      <td>NaN</td>\n      <td>NaN</td>\n    </tr>\n    <tr>\n      <th>min</th>\n      <td>1.606300e+04</td>\n      <td>NaN</td>\n      <td>NaN</td>\n      <td>NaN</td>\n      <td>NaN</td>\n      <td>NaN</td>\n      <td>NaN</td>\n      <td>NaN</td>\n      <td>NaN</td>\n      <td>NaN</td>\n      <td>NaN</td>\n      <td>NaN</td>\n      <td>NaN</td>\n      <td>NaN</td>\n      <td>NaN</td>\n      <td>NaN</td>\n      <td>NaN</td>\n    </tr>\n    <tr>\n      <th>25%</th>\n      <td>1.141604e+06</td>\n      <td>NaN</td>\n      <td>NaN</td>\n      <td>NaN</td>\n      <td>NaN</td>\n      <td>NaN</td>\n      <td>NaN</td>\n      <td>NaN</td>\n      <td>NaN</td>\n      <td>NaN</td>\n      <td>NaN</td>\n      <td>NaN</td>\n      <td>NaN</td>\n      <td>NaN</td>\n      <td>NaN</td>\n      <td>NaN</td>\n      <td>NaN</td>\n    </tr>\n    <tr>\n      <th>50%</th>\n      <td>1.280164e+06</td>\n      <td>NaN</td>\n      <td>NaN</td>\n      <td>NaN</td>\n      <td>NaN</td>\n      <td>NaN</td>\n      <td>NaN</td>\n      <td>NaN</td>\n      <td>NaN</td>\n      <td>NaN</td>\n      <td>NaN</td>\n      <td>NaN</td>\n      <td>NaN</td>\n      <td>NaN</td>\n      <td>NaN</td>\n      <td>NaN</td>\n      <td>NaN</td>\n    </tr>\n    <tr>\n      <th>75%</th>\n      <td>1.419056e+06</td>\n      <td>NaN</td>\n      <td>NaN</td>\n      <td>NaN</td>\n      <td>NaN</td>\n      <td>NaN</td>\n      <td>NaN</td>\n      <td>NaN</td>\n      <td>NaN</td>\n      <td>NaN</td>\n      <td>NaN</td>\n      <td>NaN</td>\n      <td>NaN</td>\n      <td>NaN</td>\n      <td>NaN</td>\n      <td>NaN</td>\n      <td>NaN</td>\n    </tr>\n    <tr>\n      <th>max</th>\n      <td>1.553689e+06</td>\n      <td>NaN</td>\n      <td>NaN</td>\n      <td>NaN</td>\n      <td>NaN</td>\n      <td>NaN</td>\n      <td>NaN</td>\n      <td>NaN</td>\n      <td>NaN</td>\n      <td>NaN</td>\n      <td>NaN</td>\n      <td>NaN</td>\n      <td>NaN</td>\n      <td>NaN</td>\n      <td>NaN</td>\n      <td>NaN</td>\n      <td>NaN</td>\n    </tr>\n  </tbody>\n</table>\n</div>"
     },
     "metadata": {}
    }
   ],
   "source": [
    "df_description(products_df)"
   ]
  },
  {
   "source": [
    "### Productos más solicitados\n",
    "\n",
    "Para ello se realizará una suma a lo largo de sus filas para cada una de las columnas:"
   ],
   "cell_type": "markdown",
   "metadata": {}
  },
  {
   "cell_type": "code",
   "execution_count": 8,
   "metadata": {},
   "outputs": [
    {
     "output_type": "display_data",
     "data": {
      "text/plain": "<Figure size 432x288 with 1 Axes>",
      "image/svg+xml": "<?xml version=\"1.0\" encoding=\"utf-8\" standalone=\"no\"?>\n<!DOCTYPE svg PUBLIC \"-//W3C//DTD SVG 1.1//EN\"\n  \"http://www.w3.org/Graphics/SVG/1.1/DTD/svg11.dtd\">\n<!-- Created with matplotlib (https://matplotlib.org/) -->\n<svg height=\"248.518125pt\" version=\"1.1\" viewBox=\"0 0 459.562617 248.518125\" width=\"459.562617pt\" xmlns=\"http://www.w3.org/2000/svg\" xmlns:xlink=\"http://www.w3.org/1999/xlink\">\n <defs>\n  <style type=\"text/css\">\n*{stroke-linecap:butt;stroke-linejoin:round;}\n  </style>\n </defs>\n <g id=\"figure_1\">\n  <g id=\"patch_1\">\n   <path d=\"M 0 248.518125 \nL 459.562617 248.518125 \nL 459.562617 0 \nL 0 0 \nz\n\" style=\"fill:none;\"/>\n  </g>\n  <g id=\"axes_1\">\n   <g id=\"patch_2\">\n    <path d=\"M 110.523438 224.64 \nL 445.323438 224.64 \nL 445.323438 7.2 \nL 110.523438 7.2 \nz\n\" style=\"fill:#ffffff;\"/>\n   </g>\n   <g id=\"patch_3\">\n    <path clip-path=\"url(#p44259cbd5a)\" d=\"M 110.523438 214.756364 \nL 110.523438 214.756364 \nL 110.523438 204.071351 \nL 110.523438 204.071351 \nz\n\" style=\"fill:#1f77b4;\"/>\n   </g>\n   <g id=\"patch_4\">\n    <path clip-path=\"url(#p44259cbd5a)\" d=\"M 110.523438 201.400098 \nL 110.525589 201.400098 \nL 110.525589 190.715086 \nL 110.523438 190.715086 \nz\n\" style=\"fill:#1f77b4;\"/>\n   </g>\n   <g id=\"patch_5\">\n    <path clip-path=\"url(#p44259cbd5a)\" d=\"M 110.523438 188.043833 \nL 110.525589 188.043833 \nL 110.525589 177.358821 \nL 110.523438 177.358821 \nz\n\" style=\"fill:#1f77b4;\"/>\n   </g>\n   <g id=\"patch_6\">\n    <path clip-path=\"url(#p44259cbd5a)\" d=\"M 110.523438 174.687568 \nL 110.548182 174.687568 \nL 110.548182 164.002555 \nL 110.523438 164.002555 \nz\n\" style=\"fill:#1f77b4;\"/>\n   </g>\n   <g id=\"patch_7\">\n    <path clip-path=\"url(#p44259cbd5a)\" d=\"M 110.523438 161.331302 \nL 110.555713 161.331302 \nL 110.555713 150.64629 \nL 110.523438 150.64629 \nz\n\" style=\"fill:#1f77b4;\"/>\n   </g>\n   <g id=\"patch_8\">\n    <path clip-path=\"url(#p44259cbd5a)\" d=\"M 110.523438 147.975037 \nL 111.938166 147.975037 \nL 111.938166 137.290025 \nL 110.523438 137.290025 \nz\n\" style=\"fill:#1f77b4;\"/>\n   </g>\n   <g id=\"patch_9\">\n    <path clip-path=\"url(#p44259cbd5a)\" d=\"M 110.523438 134.618771 \nL 112.448113 134.618771 \nL 112.448113 123.933759 \nL 110.523438 123.933759 \nz\n\" style=\"fill:#1f77b4;\"/>\n   </g>\n   <g id=\"patch_10\">\n    <path clip-path=\"url(#p44259cbd5a)\" d=\"M 110.523438 121.262506 \nL 115.68854 121.262506 \nL 115.68854 110.577494 \nL 110.523438 110.577494 \nz\n\" style=\"fill:#1f77b4;\"/>\n   </g>\n   <g id=\"patch_11\">\n    <path clip-path=\"url(#p44259cbd5a)\" d=\"M 110.523438 107.906241 \nL 117.117254 107.906241 \nL 117.117254 97.221229 \nL 110.523438 97.221229 \nz\n\" style=\"fill:#1f77b4;\"/>\n   </g>\n   <g id=\"patch_12\">\n    <path clip-path=\"url(#p44259cbd5a)\" d=\"M 110.523438 94.549975 \nL 128.095115 94.549975 \nL 128.095115 83.864963 \nL 110.523438 83.864963 \nz\n\" style=\"fill:#1f77b4;\"/>\n   </g>\n   <g id=\"patch_13\">\n    <path clip-path=\"url(#p44259cbd5a)\" d=\"M 110.523438 81.19371 \nL 129.19247 81.19371 \nL 129.19247 70.508698 \nL 110.523438 70.508698 \nz\n\" style=\"fill:#1f77b4;\"/>\n   </g>\n   <g id=\"patch_14\">\n    <path clip-path=\"url(#p44259cbd5a)\" d=\"M 110.523438 67.837445 \nL 137.151527 67.837445 \nL 137.151527 57.152432 \nL 110.523438 57.152432 \nz\n\" style=\"fill:#1f77b4;\"/>\n   </g>\n   <g id=\"patch_15\">\n    <path clip-path=\"url(#p44259cbd5a)\" d=\"M 110.523438 54.481179 \nL 139.064369 54.481179 \nL 139.064369 43.796167 \nL 110.523438 43.796167 \nz\n\" style=\"fill:#1f77b4;\"/>\n   </g>\n   <g id=\"patch_16\">\n    <path clip-path=\"url(#p44259cbd5a)\" d=\"M 110.523438 41.124914 \nL 157.065306 41.124914 \nL 157.065306 30.439902 \nL 110.523438 30.439902 \nz\n\" style=\"fill:#1f77b4;\"/>\n   </g>\n   <g id=\"patch_17\">\n    <path clip-path=\"url(#p44259cbd5a)\" d=\"M 110.523438 27.768649 \nL 429.38058 27.768649 \nL 429.38058 17.083636 \nL 110.523438 17.083636 \nz\n\" style=\"fill:#1f77b4;\"/>\n   </g>\n   <g id=\"matplotlib.axis_1\">\n    <g id=\"xtick_1\">\n     <g id=\"line2d_1\">\n      <defs>\n       <path d=\"M 0 0 \nL 0 3.5 \n\" id=\"m419b70f393\" style=\"stroke:#000000;stroke-width:0.8;\"/>\n      </defs>\n      <g>\n       <use style=\"stroke:#000000;stroke-width:0.8;\" x=\"110.523438\" xlink:href=\"#m419b70f393\" y=\"224.64\"/>\n      </g>\n     </g>\n     <g id=\"text_1\">\n      <!-- 0 -->\n      <defs>\n       <path d=\"M 31.78125 66.40625 \nQ 24.171875 66.40625 20.328125 58.90625 \nQ 16.5 51.421875 16.5 36.375 \nQ 16.5 21.390625 20.328125 13.890625 \nQ 24.171875 6.390625 31.78125 6.390625 \nQ 39.453125 6.390625 43.28125 13.890625 \nQ 47.125 21.390625 47.125 36.375 \nQ 47.125 51.421875 43.28125 58.90625 \nQ 39.453125 66.40625 31.78125 66.40625 \nz\nM 31.78125 74.21875 \nQ 44.046875 74.21875 50.515625 64.515625 \nQ 56.984375 54.828125 56.984375 36.375 \nQ 56.984375 17.96875 50.515625 8.265625 \nQ 44.046875 -1.421875 31.78125 -1.421875 \nQ 19.53125 -1.421875 13.0625 8.265625 \nQ 6.59375 17.96875 6.59375 36.375 \nQ 6.59375 54.828125 13.0625 64.515625 \nQ 19.53125 74.21875 31.78125 74.21875 \nz\n\" id=\"DejaVuSans-48\"/>\n      </defs>\n      <g transform=\"translate(107.342187 239.238437)scale(0.1 -0.1)\">\n       <use xlink:href=\"#DejaVuSans-48\"/>\n      </g>\n     </g>\n    </g>\n    <g id=\"xtick_2\">\n     <g id=\"line2d_2\">\n      <g>\n       <use style=\"stroke:#000000;stroke-width:0.8;\" x=\"164.315384\" xlink:href=\"#m419b70f393\" y=\"224.64\"/>\n      </g>\n     </g>\n     <g id=\"text_2\">\n      <!-- 50000 -->\n      <defs>\n       <path d=\"M 10.796875 72.90625 \nL 49.515625 72.90625 \nL 49.515625 64.59375 \nL 19.828125 64.59375 \nL 19.828125 46.734375 \nQ 21.96875 47.46875 24.109375 47.828125 \nQ 26.265625 48.1875 28.421875 48.1875 \nQ 40.625 48.1875 47.75 41.5 \nQ 54.890625 34.8125 54.890625 23.390625 \nQ 54.890625 11.625 47.5625 5.09375 \nQ 40.234375 -1.421875 26.90625 -1.421875 \nQ 22.3125 -1.421875 17.546875 -0.640625 \nQ 12.796875 0.140625 7.71875 1.703125 \nL 7.71875 11.625 \nQ 12.109375 9.234375 16.796875 8.0625 \nQ 21.484375 6.890625 26.703125 6.890625 \nQ 35.15625 6.890625 40.078125 11.328125 \nQ 45.015625 15.765625 45.015625 23.390625 \nQ 45.015625 31 40.078125 35.4375 \nQ 35.15625 39.890625 26.703125 39.890625 \nQ 22.75 39.890625 18.8125 39.015625 \nQ 14.890625 38.140625 10.796875 36.28125 \nz\n\" id=\"DejaVuSans-53\"/>\n      </defs>\n      <g transform=\"translate(148.409134 239.238437)scale(0.1 -0.1)\">\n       <use xlink:href=\"#DejaVuSans-53\"/>\n       <use x=\"63.623047\" xlink:href=\"#DejaVuSans-48\"/>\n       <use x=\"127.246094\" xlink:href=\"#DejaVuSans-48\"/>\n       <use x=\"190.869141\" xlink:href=\"#DejaVuSans-48\"/>\n       <use x=\"254.492188\" xlink:href=\"#DejaVuSans-48\"/>\n      </g>\n     </g>\n    </g>\n    <g id=\"xtick_3\">\n     <g id=\"line2d_3\">\n      <g>\n       <use style=\"stroke:#000000;stroke-width:0.8;\" x=\"218.107331\" xlink:href=\"#m419b70f393\" y=\"224.64\"/>\n      </g>\n     </g>\n     <g id=\"text_3\">\n      <!-- 100000 -->\n      <defs>\n       <path d=\"M 12.40625 8.296875 \nL 28.515625 8.296875 \nL 28.515625 63.921875 \nL 10.984375 60.40625 \nL 10.984375 69.390625 \nL 28.421875 72.90625 \nL 38.28125 72.90625 \nL 38.28125 8.296875 \nL 54.390625 8.296875 \nL 54.390625 0 \nL 12.40625 0 \nz\n\" id=\"DejaVuSans-49\"/>\n      </defs>\n      <g transform=\"translate(199.019831 239.238437)scale(0.1 -0.1)\">\n       <use xlink:href=\"#DejaVuSans-49\"/>\n       <use x=\"63.623047\" xlink:href=\"#DejaVuSans-48\"/>\n       <use x=\"127.246094\" xlink:href=\"#DejaVuSans-48\"/>\n       <use x=\"190.869141\" xlink:href=\"#DejaVuSans-48\"/>\n       <use x=\"254.492188\" xlink:href=\"#DejaVuSans-48\"/>\n       <use x=\"318.115234\" xlink:href=\"#DejaVuSans-48\"/>\n      </g>\n     </g>\n    </g>\n    <g id=\"xtick_4\">\n     <g id=\"line2d_4\">\n      <g>\n       <use style=\"stroke:#000000;stroke-width:0.8;\" x=\"271.899277\" xlink:href=\"#m419b70f393\" y=\"224.64\"/>\n      </g>\n     </g>\n     <g id=\"text_4\">\n      <!-- 150000 -->\n      <g transform=\"translate(252.811777 239.238437)scale(0.1 -0.1)\">\n       <use xlink:href=\"#DejaVuSans-49\"/>\n       <use x=\"63.623047\" xlink:href=\"#DejaVuSans-53\"/>\n       <use x=\"127.246094\" xlink:href=\"#DejaVuSans-48\"/>\n       <use x=\"190.869141\" xlink:href=\"#DejaVuSans-48\"/>\n       <use x=\"254.492188\" xlink:href=\"#DejaVuSans-48\"/>\n       <use x=\"318.115234\" xlink:href=\"#DejaVuSans-48\"/>\n      </g>\n     </g>\n    </g>\n    <g id=\"xtick_5\">\n     <g id=\"line2d_5\">\n      <g>\n       <use style=\"stroke:#000000;stroke-width:0.8;\" x=\"325.691224\" xlink:href=\"#m419b70f393\" y=\"224.64\"/>\n      </g>\n     </g>\n     <g id=\"text_5\">\n      <!-- 200000 -->\n      <defs>\n       <path d=\"M 19.1875 8.296875 \nL 53.609375 8.296875 \nL 53.609375 0 \nL 7.328125 0 \nL 7.328125 8.296875 \nQ 12.9375 14.109375 22.625 23.890625 \nQ 32.328125 33.6875 34.8125 36.53125 \nQ 39.546875 41.84375 41.421875 45.53125 \nQ 43.3125 49.21875 43.3125 52.78125 \nQ 43.3125 58.59375 39.234375 62.25 \nQ 35.15625 65.921875 28.609375 65.921875 \nQ 23.96875 65.921875 18.8125 64.3125 \nQ 13.671875 62.703125 7.8125 59.421875 \nL 7.8125 69.390625 \nQ 13.765625 71.78125 18.9375 73 \nQ 24.125 74.21875 28.421875 74.21875 \nQ 39.75 74.21875 46.484375 68.546875 \nQ 53.21875 62.890625 53.21875 53.421875 \nQ 53.21875 48.921875 51.53125 44.890625 \nQ 49.859375 40.875 45.40625 35.40625 \nQ 44.1875 33.984375 37.640625 27.21875 \nQ 31.109375 20.453125 19.1875 8.296875 \nz\n\" id=\"DejaVuSans-50\"/>\n      </defs>\n      <g transform=\"translate(306.603724 239.238437)scale(0.1 -0.1)\">\n       <use xlink:href=\"#DejaVuSans-50\"/>\n       <use x=\"63.623047\" xlink:href=\"#DejaVuSans-48\"/>\n       <use x=\"127.246094\" xlink:href=\"#DejaVuSans-48\"/>\n       <use x=\"190.869141\" xlink:href=\"#DejaVuSans-48\"/>\n       <use x=\"254.492188\" xlink:href=\"#DejaVuSans-48\"/>\n       <use x=\"318.115234\" xlink:href=\"#DejaVuSans-48\"/>\n      </g>\n     </g>\n    </g>\n    <g id=\"xtick_6\">\n     <g id=\"line2d_6\">\n      <g>\n       <use style=\"stroke:#000000;stroke-width:0.8;\" x=\"379.483171\" xlink:href=\"#m419b70f393\" y=\"224.64\"/>\n      </g>\n     </g>\n     <g id=\"text_6\">\n      <!-- 250000 -->\n      <g transform=\"translate(360.395671 239.238437)scale(0.1 -0.1)\">\n       <use xlink:href=\"#DejaVuSans-50\"/>\n       <use x=\"63.623047\" xlink:href=\"#DejaVuSans-53\"/>\n       <use x=\"127.246094\" xlink:href=\"#DejaVuSans-48\"/>\n       <use x=\"190.869141\" xlink:href=\"#DejaVuSans-48\"/>\n       <use x=\"254.492188\" xlink:href=\"#DejaVuSans-48\"/>\n       <use x=\"318.115234\" xlink:href=\"#DejaVuSans-48\"/>\n      </g>\n     </g>\n    </g>\n    <g id=\"xtick_7\">\n     <g id=\"line2d_7\">\n      <g>\n       <use style=\"stroke:#000000;stroke-width:0.8;\" x=\"433.275117\" xlink:href=\"#m419b70f393\" y=\"224.64\"/>\n      </g>\n     </g>\n     <g id=\"text_7\">\n      <!-- 300000 -->\n      <defs>\n       <path d=\"M 40.578125 39.3125 \nQ 47.65625 37.796875 51.625 33 \nQ 55.609375 28.21875 55.609375 21.1875 \nQ 55.609375 10.40625 48.1875 4.484375 \nQ 40.765625 -1.421875 27.09375 -1.421875 \nQ 22.515625 -1.421875 17.65625 -0.515625 \nQ 12.796875 0.390625 7.625 2.203125 \nL 7.625 11.71875 \nQ 11.71875 9.328125 16.59375 8.109375 \nQ 21.484375 6.890625 26.8125 6.890625 \nQ 36.078125 6.890625 40.9375 10.546875 \nQ 45.796875 14.203125 45.796875 21.1875 \nQ 45.796875 27.640625 41.28125 31.265625 \nQ 36.765625 34.90625 28.71875 34.90625 \nL 20.21875 34.90625 \nL 20.21875 43.015625 \nL 29.109375 43.015625 \nQ 36.375 43.015625 40.234375 45.921875 \nQ 44.09375 48.828125 44.09375 54.296875 \nQ 44.09375 59.90625 40.109375 62.90625 \nQ 36.140625 65.921875 28.71875 65.921875 \nQ 24.65625 65.921875 20.015625 65.03125 \nQ 15.375 64.15625 9.8125 62.3125 \nL 9.8125 71.09375 \nQ 15.4375 72.65625 20.34375 73.4375 \nQ 25.25 74.21875 29.59375 74.21875 \nQ 40.828125 74.21875 47.359375 69.109375 \nQ 53.90625 64.015625 53.90625 55.328125 \nQ 53.90625 49.265625 50.4375 45.09375 \nQ 46.96875 40.921875 40.578125 39.3125 \nz\n\" id=\"DejaVuSans-51\"/>\n      </defs>\n      <g transform=\"translate(414.187617 239.238437)scale(0.1 -0.1)\">\n       <use xlink:href=\"#DejaVuSans-51\"/>\n       <use x=\"63.623047\" xlink:href=\"#DejaVuSans-48\"/>\n       <use x=\"127.246094\" xlink:href=\"#DejaVuSans-48\"/>\n       <use x=\"190.869141\" xlink:href=\"#DejaVuSans-48\"/>\n       <use x=\"254.492188\" xlink:href=\"#DejaVuSans-48\"/>\n       <use x=\"318.115234\" xlink:href=\"#DejaVuSans-48\"/>\n      </g>\n     </g>\n    </g>\n   </g>\n   <g id=\"matplotlib.axis_2\">\n    <g id=\"ytick_1\">\n     <g id=\"line2d_8\">\n      <defs>\n       <path d=\"M 0 0 \nL -3.5 0 \n\" id=\"meec2b250bb\" style=\"stroke:#000000;stroke-width:0.8;\"/>\n      </defs>\n      <g>\n       <use style=\"stroke:#000000;stroke-width:0.8;\" x=\"110.523438\" xlink:href=\"#meec2b250bb\" y=\"209.413857\"/>\n      </g>\n     </g>\n     <g id=\"text_8\">\n      <!-- em_account_pp -->\n      <defs>\n       <path d=\"M 56.203125 29.59375 \nL 56.203125 25.203125 \nL 14.890625 25.203125 \nQ 15.484375 15.921875 20.484375 11.0625 \nQ 25.484375 6.203125 34.421875 6.203125 \nQ 39.59375 6.203125 44.453125 7.46875 \nQ 49.3125 8.734375 54.109375 11.28125 \nL 54.109375 2.78125 \nQ 49.265625 0.734375 44.1875 -0.34375 \nQ 39.109375 -1.421875 33.890625 -1.421875 \nQ 20.796875 -1.421875 13.15625 6.1875 \nQ 5.515625 13.8125 5.515625 26.8125 \nQ 5.515625 40.234375 12.765625 48.109375 \nQ 20.015625 56 32.328125 56 \nQ 43.359375 56 49.78125 48.890625 \nQ 56.203125 41.796875 56.203125 29.59375 \nz\nM 47.21875 32.234375 \nQ 47.125 39.59375 43.09375 43.984375 \nQ 39.0625 48.390625 32.421875 48.390625 \nQ 24.90625 48.390625 20.390625 44.140625 \nQ 15.875 39.890625 15.1875 32.171875 \nz\n\" id=\"DejaVuSans-101\"/>\n       <path d=\"M 52 44.1875 \nQ 55.375 50.25 60.0625 53.125 \nQ 64.75 56 71.09375 56 \nQ 79.640625 56 84.28125 50.015625 \nQ 88.921875 44.046875 88.921875 33.015625 \nL 88.921875 0 \nL 79.890625 0 \nL 79.890625 32.71875 \nQ 79.890625 40.578125 77.09375 44.375 \nQ 74.3125 48.1875 68.609375 48.1875 \nQ 61.625 48.1875 57.5625 43.546875 \nQ 53.515625 38.921875 53.515625 30.90625 \nL 53.515625 0 \nL 44.484375 0 \nL 44.484375 32.71875 \nQ 44.484375 40.625 41.703125 44.40625 \nQ 38.921875 48.1875 33.109375 48.1875 \nQ 26.21875 48.1875 22.15625 43.53125 \nQ 18.109375 38.875 18.109375 30.90625 \nL 18.109375 0 \nL 9.078125 0 \nL 9.078125 54.6875 \nL 18.109375 54.6875 \nL 18.109375 46.1875 \nQ 21.1875 51.21875 25.484375 53.609375 \nQ 29.78125 56 35.6875 56 \nQ 41.65625 56 45.828125 52.96875 \nQ 50 49.953125 52 44.1875 \nz\n\" id=\"DejaVuSans-109\"/>\n       <path d=\"M 50.984375 -16.609375 \nL 50.984375 -23.578125 \nL -0.984375 -23.578125 \nL -0.984375 -16.609375 \nz\n\" id=\"DejaVuSans-95\"/>\n       <path d=\"M 34.28125 27.484375 \nQ 23.390625 27.484375 19.1875 25 \nQ 14.984375 22.515625 14.984375 16.5 \nQ 14.984375 11.71875 18.140625 8.90625 \nQ 21.296875 6.109375 26.703125 6.109375 \nQ 34.1875 6.109375 38.703125 11.40625 \nQ 43.21875 16.703125 43.21875 25.484375 \nL 43.21875 27.484375 \nz\nM 52.203125 31.203125 \nL 52.203125 0 \nL 43.21875 0 \nL 43.21875 8.296875 \nQ 40.140625 3.328125 35.546875 0.953125 \nQ 30.953125 -1.421875 24.3125 -1.421875 \nQ 15.921875 -1.421875 10.953125 3.296875 \nQ 6 8.015625 6 15.921875 \nQ 6 25.140625 12.171875 29.828125 \nQ 18.359375 34.515625 30.609375 34.515625 \nL 43.21875 34.515625 \nL 43.21875 35.40625 \nQ 43.21875 41.609375 39.140625 45 \nQ 35.0625 48.390625 27.6875 48.390625 \nQ 23 48.390625 18.546875 47.265625 \nQ 14.109375 46.140625 10.015625 43.890625 \nL 10.015625 52.203125 \nQ 14.9375 54.109375 19.578125 55.046875 \nQ 24.21875 56 28.609375 56 \nQ 40.484375 56 46.34375 49.84375 \nQ 52.203125 43.703125 52.203125 31.203125 \nz\n\" id=\"DejaVuSans-97\"/>\n       <path d=\"M 48.78125 52.59375 \nL 48.78125 44.1875 \nQ 44.96875 46.296875 41.140625 47.34375 \nQ 37.3125 48.390625 33.40625 48.390625 \nQ 24.65625 48.390625 19.8125 42.84375 \nQ 14.984375 37.3125 14.984375 27.296875 \nQ 14.984375 17.28125 19.8125 11.734375 \nQ 24.65625 6.203125 33.40625 6.203125 \nQ 37.3125 6.203125 41.140625 7.25 \nQ 44.96875 8.296875 48.78125 10.40625 \nL 48.78125 2.09375 \nQ 45.015625 0.34375 40.984375 -0.53125 \nQ 36.96875 -1.421875 32.421875 -1.421875 \nQ 20.0625 -1.421875 12.78125 6.34375 \nQ 5.515625 14.109375 5.515625 27.296875 \nQ 5.515625 40.671875 12.859375 48.328125 \nQ 20.21875 56 33.015625 56 \nQ 37.15625 56 41.109375 55.140625 \nQ 45.0625 54.296875 48.78125 52.59375 \nz\n\" id=\"DejaVuSans-99\"/>\n       <path d=\"M 30.609375 48.390625 \nQ 23.390625 48.390625 19.1875 42.75 \nQ 14.984375 37.109375 14.984375 27.296875 \nQ 14.984375 17.484375 19.15625 11.84375 \nQ 23.34375 6.203125 30.609375 6.203125 \nQ 37.796875 6.203125 41.984375 11.859375 \nQ 46.1875 17.53125 46.1875 27.296875 \nQ 46.1875 37.015625 41.984375 42.703125 \nQ 37.796875 48.390625 30.609375 48.390625 \nz\nM 30.609375 56 \nQ 42.328125 56 49.015625 48.375 \nQ 55.71875 40.765625 55.71875 27.296875 \nQ 55.71875 13.875 49.015625 6.21875 \nQ 42.328125 -1.421875 30.609375 -1.421875 \nQ 18.84375 -1.421875 12.171875 6.21875 \nQ 5.515625 13.875 5.515625 27.296875 \nQ 5.515625 40.765625 12.171875 48.375 \nQ 18.84375 56 30.609375 56 \nz\n\" id=\"DejaVuSans-111\"/>\n       <path d=\"M 8.5 21.578125 \nL 8.5 54.6875 \nL 17.484375 54.6875 \nL 17.484375 21.921875 \nQ 17.484375 14.15625 20.5 10.265625 \nQ 23.53125 6.390625 29.59375 6.390625 \nQ 36.859375 6.390625 41.078125 11.03125 \nQ 45.3125 15.671875 45.3125 23.6875 \nL 45.3125 54.6875 \nL 54.296875 54.6875 \nL 54.296875 0 \nL 45.3125 0 \nL 45.3125 8.40625 \nQ 42.046875 3.421875 37.71875 1 \nQ 33.40625 -1.421875 27.6875 -1.421875 \nQ 18.265625 -1.421875 13.375 4.4375 \nQ 8.5 10.296875 8.5 21.578125 \nz\nM 31.109375 56 \nz\n\" id=\"DejaVuSans-117\"/>\n       <path d=\"M 54.890625 33.015625 \nL 54.890625 0 \nL 45.90625 0 \nL 45.90625 32.71875 \nQ 45.90625 40.484375 42.875 44.328125 \nQ 39.84375 48.1875 33.796875 48.1875 \nQ 26.515625 48.1875 22.3125 43.546875 \nQ 18.109375 38.921875 18.109375 30.90625 \nL 18.109375 0 \nL 9.078125 0 \nL 9.078125 54.6875 \nL 18.109375 54.6875 \nL 18.109375 46.1875 \nQ 21.34375 51.125 25.703125 53.5625 \nQ 30.078125 56 35.796875 56 \nQ 45.21875 56 50.046875 50.171875 \nQ 54.890625 44.34375 54.890625 33.015625 \nz\n\" id=\"DejaVuSans-110\"/>\n       <path d=\"M 18.3125 70.21875 \nL 18.3125 54.6875 \nL 36.8125 54.6875 \nL 36.8125 47.703125 \nL 18.3125 47.703125 \nL 18.3125 18.015625 \nQ 18.3125 11.328125 20.140625 9.421875 \nQ 21.96875 7.515625 27.59375 7.515625 \nL 36.8125 7.515625 \nL 36.8125 0 \nL 27.59375 0 \nQ 17.1875 0 13.234375 3.875 \nQ 9.28125 7.765625 9.28125 18.015625 \nL 9.28125 47.703125 \nL 2.6875 47.703125 \nL 2.6875 54.6875 \nL 9.28125 54.6875 \nL 9.28125 70.21875 \nz\n\" id=\"DejaVuSans-116\"/>\n       <path d=\"M 18.109375 8.203125 \nL 18.109375 -20.796875 \nL 9.078125 -20.796875 \nL 9.078125 54.6875 \nL 18.109375 54.6875 \nL 18.109375 46.390625 \nQ 20.953125 51.265625 25.265625 53.625 \nQ 29.59375 56 35.59375 56 \nQ 45.5625 56 51.78125 48.09375 \nQ 58.015625 40.1875 58.015625 27.296875 \nQ 58.015625 14.40625 51.78125 6.484375 \nQ 45.5625 -1.421875 35.59375 -1.421875 \nQ 29.59375 -1.421875 25.265625 0.953125 \nQ 20.953125 3.328125 18.109375 8.203125 \nz\nM 48.6875 27.296875 \nQ 48.6875 37.203125 44.609375 42.84375 \nQ 40.53125 48.484375 33.40625 48.484375 \nQ 26.265625 48.484375 22.1875 42.84375 \nQ 18.109375 37.203125 18.109375 27.296875 \nQ 18.109375 17.390625 22.1875 11.75 \nQ 26.265625 6.109375 33.40625 6.109375 \nQ 40.53125 6.109375 44.609375 11.75 \nQ 48.6875 17.390625 48.6875 27.296875 \nz\n\" id=\"DejaVuSans-112\"/>\n      </defs>\n      <g transform=\"translate(25.09375 213.074014)scale(0.1 -0.1)\">\n       <use xlink:href=\"#DejaVuSans-101\"/>\n       <use x=\"61.523438\" xlink:href=\"#DejaVuSans-109\"/>\n       <use x=\"158.935547\" xlink:href=\"#DejaVuSans-95\"/>\n       <use x=\"208.935547\" xlink:href=\"#DejaVuSans-97\"/>\n       <use x=\"270.214844\" xlink:href=\"#DejaVuSans-99\"/>\n       <use x=\"325.195312\" xlink:href=\"#DejaVuSans-99\"/>\n       <use x=\"380.175781\" xlink:href=\"#DejaVuSans-111\"/>\n       <use x=\"441.357422\" xlink:href=\"#DejaVuSans-117\"/>\n       <use x=\"504.736328\" xlink:href=\"#DejaVuSans-110\"/>\n       <use x=\"568.115234\" xlink:href=\"#DejaVuSans-116\"/>\n       <use x=\"607.324219\" xlink:href=\"#DejaVuSans-95\"/>\n       <use x=\"657.324219\" xlink:href=\"#DejaVuSans-112\"/>\n       <use x=\"720.800781\" xlink:href=\"#DejaVuSans-112\"/>\n      </g>\n     </g>\n    </g>\n    <g id=\"ytick_2\">\n     <g id=\"line2d_9\">\n      <g>\n       <use style=\"stroke:#000000;stroke-width:0.8;\" x=\"110.523438\" xlink:href=\"#meec2b250bb\" y=\"196.057592\"/>\n      </g>\n     </g>\n     <g id=\"text_9\">\n      <!-- short_term_deposit -->\n      <defs>\n       <path d=\"M 44.28125 53.078125 \nL 44.28125 44.578125 \nQ 40.484375 46.53125 36.375 47.5 \nQ 32.28125 48.484375 27.875 48.484375 \nQ 21.1875 48.484375 17.84375 46.4375 \nQ 14.5 44.390625 14.5 40.28125 \nQ 14.5 37.15625 16.890625 35.375 \nQ 19.28125 33.59375 26.515625 31.984375 \nL 29.59375 31.296875 \nQ 39.15625 29.25 43.1875 25.515625 \nQ 47.21875 21.78125 47.21875 15.09375 \nQ 47.21875 7.46875 41.1875 3.015625 \nQ 35.15625 -1.421875 24.609375 -1.421875 \nQ 20.21875 -1.421875 15.453125 -0.5625 \nQ 10.6875 0.296875 5.421875 2 \nL 5.421875 11.28125 \nQ 10.40625 8.6875 15.234375 7.390625 \nQ 20.0625 6.109375 24.8125 6.109375 \nQ 31.15625 6.109375 34.5625 8.28125 \nQ 37.984375 10.453125 37.984375 14.40625 \nQ 37.984375 18.0625 35.515625 20.015625 \nQ 33.0625 21.96875 24.703125 23.78125 \nL 21.578125 24.515625 \nQ 13.234375 26.265625 9.515625 29.90625 \nQ 5.8125 33.546875 5.8125 39.890625 \nQ 5.8125 47.609375 11.28125 51.796875 \nQ 16.75 56 26.8125 56 \nQ 31.78125 56 36.171875 55.265625 \nQ 40.578125 54.546875 44.28125 53.078125 \nz\n\" id=\"DejaVuSans-115\"/>\n       <path d=\"M 54.890625 33.015625 \nL 54.890625 0 \nL 45.90625 0 \nL 45.90625 32.71875 \nQ 45.90625 40.484375 42.875 44.328125 \nQ 39.84375 48.1875 33.796875 48.1875 \nQ 26.515625 48.1875 22.3125 43.546875 \nQ 18.109375 38.921875 18.109375 30.90625 \nL 18.109375 0 \nL 9.078125 0 \nL 9.078125 75.984375 \nL 18.109375 75.984375 \nL 18.109375 46.1875 \nQ 21.34375 51.125 25.703125 53.5625 \nQ 30.078125 56 35.796875 56 \nQ 45.21875 56 50.046875 50.171875 \nQ 54.890625 44.34375 54.890625 33.015625 \nz\n\" id=\"DejaVuSans-104\"/>\n       <path d=\"M 41.109375 46.296875 \nQ 39.59375 47.171875 37.8125 47.578125 \nQ 36.03125 48 33.890625 48 \nQ 26.265625 48 22.1875 43.046875 \nQ 18.109375 38.09375 18.109375 28.8125 \nL 18.109375 0 \nL 9.078125 0 \nL 9.078125 54.6875 \nL 18.109375 54.6875 \nL 18.109375 46.1875 \nQ 20.953125 51.171875 25.484375 53.578125 \nQ 30.03125 56 36.53125 56 \nQ 37.453125 56 38.578125 55.875 \nQ 39.703125 55.765625 41.0625 55.515625 \nz\n\" id=\"DejaVuSans-114\"/>\n       <path d=\"M 45.40625 46.390625 \nL 45.40625 75.984375 \nL 54.390625 75.984375 \nL 54.390625 0 \nL 45.40625 0 \nL 45.40625 8.203125 \nQ 42.578125 3.328125 38.25 0.953125 \nQ 33.9375 -1.421875 27.875 -1.421875 \nQ 17.96875 -1.421875 11.734375 6.484375 \nQ 5.515625 14.40625 5.515625 27.296875 \nQ 5.515625 40.1875 11.734375 48.09375 \nQ 17.96875 56 27.875 56 \nQ 33.9375 56 38.25 53.625 \nQ 42.578125 51.265625 45.40625 46.390625 \nz\nM 14.796875 27.296875 \nQ 14.796875 17.390625 18.875 11.75 \nQ 22.953125 6.109375 30.078125 6.109375 \nQ 37.203125 6.109375 41.296875 11.75 \nQ 45.40625 17.390625 45.40625 27.296875 \nQ 45.40625 37.203125 41.296875 42.84375 \nQ 37.203125 48.484375 30.078125 48.484375 \nQ 22.953125 48.484375 18.875 42.84375 \nQ 14.796875 37.203125 14.796875 27.296875 \nz\n\" id=\"DejaVuSans-100\"/>\n       <path d=\"M 9.421875 54.6875 \nL 18.40625 54.6875 \nL 18.40625 0 \nL 9.421875 0 \nz\nM 9.421875 75.984375 \nL 18.40625 75.984375 \nL 18.40625 64.59375 \nL 9.421875 64.59375 \nz\n\" id=\"DejaVuSans-105\"/>\n      </defs>\n      <g transform=\"translate(7.2 199.856811)scale(0.1 -0.1)\">\n       <use xlink:href=\"#DejaVuSans-115\"/>\n       <use x=\"52.099609\" xlink:href=\"#DejaVuSans-104\"/>\n       <use x=\"115.478516\" xlink:href=\"#DejaVuSans-111\"/>\n       <use x=\"176.660156\" xlink:href=\"#DejaVuSans-114\"/>\n       <use x=\"217.773438\" xlink:href=\"#DejaVuSans-116\"/>\n       <use x=\"256.982422\" xlink:href=\"#DejaVuSans-95\"/>\n       <use x=\"306.982422\" xlink:href=\"#DejaVuSans-116\"/>\n       <use x=\"346.191406\" xlink:href=\"#DejaVuSans-101\"/>\n       <use x=\"407.714844\" xlink:href=\"#DejaVuSans-114\"/>\n       <use x=\"447.078125\" xlink:href=\"#DejaVuSans-109\"/>\n       <use x=\"544.490234\" xlink:href=\"#DejaVuSans-95\"/>\n       <use x=\"594.490234\" xlink:href=\"#DejaVuSans-100\"/>\n       <use x=\"657.966797\" xlink:href=\"#DejaVuSans-101\"/>\n       <use x=\"719.490234\" xlink:href=\"#DejaVuSans-112\"/>\n       <use x=\"782.966797\" xlink:href=\"#DejaVuSans-111\"/>\n       <use x=\"844.148438\" xlink:href=\"#DejaVuSans-115\"/>\n       <use x=\"896.248047\" xlink:href=\"#DejaVuSans-105\"/>\n       <use x=\"924.03125\" xlink:href=\"#DejaVuSans-116\"/>\n      </g>\n     </g>\n    </g>\n    <g id=\"ytick_3\">\n     <g id=\"line2d_10\">\n      <g>\n       <use style=\"stroke:#000000;stroke-width:0.8;\" x=\"110.523438\" xlink:href=\"#meec2b250bb\" y=\"182.701327\"/>\n      </g>\n     </g>\n     <g id=\"text_10\">\n      <!-- em_account_p -->\n      <g transform=\"translate(31.442188 186.361483)scale(0.1 -0.1)\">\n       <use xlink:href=\"#DejaVuSans-101\"/>\n       <use x=\"61.523438\" xlink:href=\"#DejaVuSans-109\"/>\n       <use x=\"158.935547\" xlink:href=\"#DejaVuSans-95\"/>\n       <use x=\"208.935547\" xlink:href=\"#DejaVuSans-97\"/>\n       <use x=\"270.214844\" xlink:href=\"#DejaVuSans-99\"/>\n       <use x=\"325.195312\" xlink:href=\"#DejaVuSans-99\"/>\n       <use x=\"380.175781\" xlink:href=\"#DejaVuSans-111\"/>\n       <use x=\"441.357422\" xlink:href=\"#DejaVuSans-117\"/>\n       <use x=\"504.736328\" xlink:href=\"#DejaVuSans-110\"/>\n       <use x=\"568.115234\" xlink:href=\"#DejaVuSans-116\"/>\n       <use x=\"607.324219\" xlink:href=\"#DejaVuSans-95\"/>\n       <use x=\"657.324219\" xlink:href=\"#DejaVuSans-112\"/>\n      </g>\n     </g>\n    </g>\n    <g id=\"ytick_4\">\n     <g id=\"line2d_11\">\n      <g>\n       <use style=\"stroke:#000000;stroke-width:0.8;\" x=\"110.523438\" xlink:href=\"#meec2b250bb\" y=\"169.345061\"/>\n      </g>\n     </g>\n     <g id=\"text_11\">\n      <!-- mortgage -->\n      <defs>\n       <path d=\"M 45.40625 27.984375 \nQ 45.40625 37.75 41.375 43.109375 \nQ 37.359375 48.484375 30.078125 48.484375 \nQ 22.859375 48.484375 18.828125 43.109375 \nQ 14.796875 37.75 14.796875 27.984375 \nQ 14.796875 18.265625 18.828125 12.890625 \nQ 22.859375 7.515625 30.078125 7.515625 \nQ 37.359375 7.515625 41.375 12.890625 \nQ 45.40625 18.265625 45.40625 27.984375 \nz\nM 54.390625 6.78125 \nQ 54.390625 -7.171875 48.1875 -13.984375 \nQ 42 -20.796875 29.203125 -20.796875 \nQ 24.46875 -20.796875 20.265625 -20.09375 \nQ 16.0625 -19.390625 12.109375 -17.921875 \nL 12.109375 -9.1875 \nQ 16.0625 -11.328125 19.921875 -12.34375 \nQ 23.78125 -13.375 27.78125 -13.375 \nQ 36.625 -13.375 41.015625 -8.765625 \nQ 45.40625 -4.15625 45.40625 5.171875 \nL 45.40625 9.625 \nQ 42.625 4.78125 38.28125 2.390625 \nQ 33.9375 0 27.875 0 \nQ 17.828125 0 11.671875 7.65625 \nQ 5.515625 15.328125 5.515625 27.984375 \nQ 5.515625 40.671875 11.671875 48.328125 \nQ 17.828125 56 27.875 56 \nQ 33.9375 56 38.28125 53.609375 \nQ 42.625 51.21875 45.40625 46.390625 \nL 45.40625 54.6875 \nL 54.390625 54.6875 \nz\n\" id=\"DejaVuSans-103\"/>\n      </defs>\n      <g transform=\"translate(54.654687 173.14428)scale(0.1 -0.1)\">\n       <use xlink:href=\"#DejaVuSans-109\"/>\n       <use x=\"97.412109\" xlink:href=\"#DejaVuSans-111\"/>\n       <use x=\"158.59375\" xlink:href=\"#DejaVuSans-114\"/>\n       <use x=\"199.707031\" xlink:href=\"#DejaVuSans-116\"/>\n       <use x=\"238.916016\" xlink:href=\"#DejaVuSans-103\"/>\n       <use x=\"302.392578\" xlink:href=\"#DejaVuSans-97\"/>\n       <use x=\"363.671875\" xlink:href=\"#DejaVuSans-103\"/>\n       <use x=\"427.148438\" xlink:href=\"#DejaVuSans-101\"/>\n      </g>\n     </g>\n    </g>\n    <g id=\"ytick_5\">\n     <g id=\"line2d_12\">\n      <g>\n       <use style=\"stroke:#000000;stroke-width:0.8;\" x=\"110.523438\" xlink:href=\"#meec2b250bb\" y=\"155.988796\"/>\n      </g>\n     </g>\n     <g id=\"text_12\">\n      <!-- loans -->\n      <defs>\n       <path d=\"M 9.421875 75.984375 \nL 18.40625 75.984375 \nL 18.40625 0 \nL 9.421875 0 \nz\n\" id=\"DejaVuSans-108\"/>\n      </defs>\n      <g transform=\"translate(76.951562 159.788015)scale(0.1 -0.1)\">\n       <use xlink:href=\"#DejaVuSans-108\"/>\n       <use x=\"27.783203\" xlink:href=\"#DejaVuSans-111\"/>\n       <use x=\"88.964844\" xlink:href=\"#DejaVuSans-97\"/>\n       <use x=\"150.244141\" xlink:href=\"#DejaVuSans-110\"/>\n       <use x=\"213.623047\" xlink:href=\"#DejaVuSans-115\"/>\n      </g>\n     </g>\n    </g>\n    <g id=\"ytick_6\">\n     <g id=\"line2d_13\">\n      <g>\n       <use style=\"stroke:#000000;stroke-width:0.8;\" x=\"110.523438\" xlink:href=\"#meec2b250bb\" y=\"142.632531\"/>\n      </g>\n     </g>\n     <g id=\"text_13\">\n      <!-- funds -->\n      <defs>\n       <path d=\"M 37.109375 75.984375 \nL 37.109375 68.5 \nL 28.515625 68.5 \nQ 23.6875 68.5 21.796875 66.546875 \nQ 19.921875 64.59375 19.921875 59.515625 \nL 19.921875 54.6875 \nL 34.71875 54.6875 \nL 34.71875 47.703125 \nL 19.921875 47.703125 \nL 19.921875 0 \nL 10.890625 0 \nL 10.890625 47.703125 \nL 2.296875 47.703125 \nL 2.296875 54.6875 \nL 10.890625 54.6875 \nL 10.890625 58.5 \nQ 10.890625 67.625 15.140625 71.796875 \nQ 19.390625 75.984375 28.609375 75.984375 \nz\n\" id=\"DejaVuSans-102\"/>\n      </defs>\n      <g transform=\"translate(75.770313 146.431749)scale(0.1 -0.1)\">\n       <use xlink:href=\"#DejaVuSans-102\"/>\n       <use x=\"35.205078\" xlink:href=\"#DejaVuSans-117\"/>\n       <use x=\"98.583984\" xlink:href=\"#DejaVuSans-110\"/>\n       <use x=\"161.962891\" xlink:href=\"#DejaVuSans-100\"/>\n       <use x=\"225.439453\" xlink:href=\"#DejaVuSans-115\"/>\n      </g>\n     </g>\n    </g>\n    <g id=\"ytick_7\">\n     <g id=\"line2d_14\">\n      <g>\n       <use style=\"stroke:#000000;stroke-width:0.8;\" x=\"110.523438\" xlink:href=\"#meec2b250bb\" y=\"129.276265\"/>\n      </g>\n     </g>\n     <g id=\"text_14\">\n      <!-- securities -->\n      <g transform=\"translate(55.375 133.075484)scale(0.1 -0.1)\">\n       <use xlink:href=\"#DejaVuSans-115\"/>\n       <use x=\"52.099609\" xlink:href=\"#DejaVuSans-101\"/>\n       <use x=\"113.623047\" xlink:href=\"#DejaVuSans-99\"/>\n       <use x=\"168.603516\" xlink:href=\"#DejaVuSans-117\"/>\n       <use x=\"231.982422\" xlink:href=\"#DejaVuSans-114\"/>\n       <use x=\"273.095703\" xlink:href=\"#DejaVuSans-105\"/>\n       <use x=\"300.878906\" xlink:href=\"#DejaVuSans-116\"/>\n       <use x=\"340.087891\" xlink:href=\"#DejaVuSans-105\"/>\n       <use x=\"367.871094\" xlink:href=\"#DejaVuSans-101\"/>\n       <use x=\"429.394531\" xlink:href=\"#DejaVuSans-115\"/>\n      </g>\n     </g>\n    </g>\n    <g id=\"ytick_8\">\n     <g id=\"line2d_15\">\n      <g>\n       <use style=\"stroke:#000000;stroke-width:0.8;\" x=\"110.523438\" xlink:href=\"#meec2b250bb\" y=\"115.92\"/>\n      </g>\n     </g>\n     <g id=\"text_15\">\n      <!-- credit_card -->\n      <g transform=\"translate(48.028125 119.719219)scale(0.1 -0.1)\">\n       <use xlink:href=\"#DejaVuSans-99\"/>\n       <use x=\"54.980469\" xlink:href=\"#DejaVuSans-114\"/>\n       <use x=\"93.84375\" xlink:href=\"#DejaVuSans-101\"/>\n       <use x=\"155.367188\" xlink:href=\"#DejaVuSans-100\"/>\n       <use x=\"218.84375\" xlink:href=\"#DejaVuSans-105\"/>\n       <use x=\"246.626953\" xlink:href=\"#DejaVuSans-116\"/>\n       <use x=\"285.835938\" xlink:href=\"#DejaVuSans-95\"/>\n       <use x=\"335.835938\" xlink:href=\"#DejaVuSans-99\"/>\n       <use x=\"390.816406\" xlink:href=\"#DejaVuSans-97\"/>\n       <use x=\"452.095703\" xlink:href=\"#DejaVuSans-114\"/>\n       <use x=\"491.458984\" xlink:href=\"#DejaVuSans-100\"/>\n      </g>\n     </g>\n    </g>\n    <g id=\"ytick_9\">\n     <g id=\"line2d_16\">\n      <g>\n       <use style=\"stroke:#000000;stroke-width:0.8;\" x=\"110.523438\" xlink:href=\"#meec2b250bb\" y=\"102.563735\"/>\n      </g>\n     </g>\n     <g id=\"text_16\">\n      <!-- long_term_deposit -->\n      <g transform=\"translate(11.314062 106.362953)scale(0.1 -0.1)\">\n       <use xlink:href=\"#DejaVuSans-108\"/>\n       <use x=\"27.783203\" xlink:href=\"#DejaVuSans-111\"/>\n       <use x=\"88.964844\" xlink:href=\"#DejaVuSans-110\"/>\n       <use x=\"152.34375\" xlink:href=\"#DejaVuSans-103\"/>\n       <use x=\"215.820312\" xlink:href=\"#DejaVuSans-95\"/>\n       <use x=\"265.820312\" xlink:href=\"#DejaVuSans-116\"/>\n       <use x=\"305.029297\" xlink:href=\"#DejaVuSans-101\"/>\n       <use x=\"366.552734\" xlink:href=\"#DejaVuSans-114\"/>\n       <use x=\"405.916016\" xlink:href=\"#DejaVuSans-109\"/>\n       <use x=\"503.328125\" xlink:href=\"#DejaVuSans-95\"/>\n       <use x=\"553.328125\" xlink:href=\"#DejaVuSans-100\"/>\n       <use x=\"616.804688\" xlink:href=\"#DejaVuSans-101\"/>\n       <use x=\"678.328125\" xlink:href=\"#DejaVuSans-112\"/>\n       <use x=\"741.804688\" xlink:href=\"#DejaVuSans-111\"/>\n       <use x=\"802.986328\" xlink:href=\"#DejaVuSans-115\"/>\n       <use x=\"855.085938\" xlink:href=\"#DejaVuSans-105\"/>\n       <use x=\"882.869141\" xlink:href=\"#DejaVuSans-116\"/>\n      </g>\n     </g>\n    </g>\n    <g id=\"ytick_10\">\n     <g id=\"line2d_17\">\n      <g>\n       <use style=\"stroke:#000000;stroke-width:0.8;\" x=\"110.523438\" xlink:href=\"#meec2b250bb\" y=\"89.207469\"/>\n      </g>\n     </g>\n     <g id=\"text_17\">\n      <!-- payroll -->\n      <defs>\n       <path d=\"M 32.171875 -5.078125 \nQ 28.375 -14.84375 24.75 -17.8125 \nQ 21.140625 -20.796875 15.09375 -20.796875 \nL 7.90625 -20.796875 \nL 7.90625 -13.28125 \nL 13.1875 -13.28125 \nQ 16.890625 -13.28125 18.9375 -11.515625 \nQ 21 -9.765625 23.484375 -3.21875 \nL 25.09375 0.875 \nL 2.984375 54.6875 \nL 12.5 54.6875 \nL 29.59375 11.921875 \nL 46.6875 54.6875 \nL 56.203125 54.6875 \nz\n\" id=\"DejaVuSans-121\"/>\n      </defs>\n      <g transform=\"translate(69.567187 93.006688)scale(0.1 -0.1)\">\n       <use xlink:href=\"#DejaVuSans-112\"/>\n       <use x=\"63.476562\" xlink:href=\"#DejaVuSans-97\"/>\n       <use x=\"124.755859\" xlink:href=\"#DejaVuSans-121\"/>\n       <use x=\"183.935547\" xlink:href=\"#DejaVuSans-114\"/>\n       <use x=\"222.798828\" xlink:href=\"#DejaVuSans-111\"/>\n       <use x=\"283.980469\" xlink:href=\"#DejaVuSans-108\"/>\n       <use x=\"311.763672\" xlink:href=\"#DejaVuSans-108\"/>\n      </g>\n     </g>\n    </g>\n    <g id=\"ytick_11\">\n     <g id=\"line2d_18\">\n      <g>\n       <use style=\"stroke:#000000;stroke-width:0.8;\" x=\"110.523438\" xlink:href=\"#meec2b250bb\" y=\"75.851204\"/>\n      </g>\n     </g>\n     <g id=\"text_18\">\n      <!-- pension_plan -->\n      <g transform=\"translate(37.648438 79.650423)scale(0.1 -0.1)\">\n       <use xlink:href=\"#DejaVuSans-112\"/>\n       <use x=\"63.476562\" xlink:href=\"#DejaVuSans-101\"/>\n       <use x=\"125\" xlink:href=\"#DejaVuSans-110\"/>\n       <use x=\"188.378906\" xlink:href=\"#DejaVuSans-115\"/>\n       <use x=\"240.478516\" xlink:href=\"#DejaVuSans-105\"/>\n       <use x=\"268.261719\" xlink:href=\"#DejaVuSans-111\"/>\n       <use x=\"329.443359\" xlink:href=\"#DejaVuSans-110\"/>\n       <use x=\"392.822266\" xlink:href=\"#DejaVuSans-95\"/>\n       <use x=\"442.822266\" xlink:href=\"#DejaVuSans-112\"/>\n       <use x=\"506.298828\" xlink:href=\"#DejaVuSans-108\"/>\n       <use x=\"534.082031\" xlink:href=\"#DejaVuSans-97\"/>\n       <use x=\"595.361328\" xlink:href=\"#DejaVuSans-110\"/>\n      </g>\n     </g>\n    </g>\n    <g id=\"ytick_12\">\n     <g id=\"line2d_19\">\n      <g>\n       <use style=\"stroke:#000000;stroke-width:0.8;\" x=\"110.523438\" xlink:href=\"#meec2b250bb\" y=\"62.494939\"/>\n      </g>\n     </g>\n     <g id=\"text_19\">\n      <!-- emc_account -->\n      <g transform=\"translate(37.292187 66.155095)scale(0.1 -0.1)\">\n       <use xlink:href=\"#DejaVuSans-101\"/>\n       <use x=\"61.523438\" xlink:href=\"#DejaVuSans-109\"/>\n       <use x=\"158.935547\" xlink:href=\"#DejaVuSans-99\"/>\n       <use x=\"213.916016\" xlink:href=\"#DejaVuSans-95\"/>\n       <use x=\"263.916016\" xlink:href=\"#DejaVuSans-97\"/>\n       <use x=\"325.195312\" xlink:href=\"#DejaVuSans-99\"/>\n       <use x=\"380.175781\" xlink:href=\"#DejaVuSans-99\"/>\n       <use x=\"435.15625\" xlink:href=\"#DejaVuSans-111\"/>\n       <use x=\"496.337891\" xlink:href=\"#DejaVuSans-117\"/>\n       <use x=\"559.716797\" xlink:href=\"#DejaVuSans-110\"/>\n       <use x=\"623.095703\" xlink:href=\"#DejaVuSans-116\"/>\n      </g>\n     </g>\n    </g>\n    <g id=\"ytick_13\">\n     <g id=\"line2d_20\">\n      <g>\n       <use style=\"stroke:#000000;stroke-width:0.8;\" x=\"110.523438\" xlink:href=\"#meec2b250bb\" y=\"49.138673\"/>\n      </g>\n     </g>\n     <g id=\"text_20\">\n      <!-- payroll_account -->\n      <g transform=\"translate(24.728125 52.937892)scale(0.1 -0.1)\">\n       <use xlink:href=\"#DejaVuSans-112\"/>\n       <use x=\"63.476562\" xlink:href=\"#DejaVuSans-97\"/>\n       <use x=\"124.755859\" xlink:href=\"#DejaVuSans-121\"/>\n       <use x=\"183.935547\" xlink:href=\"#DejaVuSans-114\"/>\n       <use x=\"222.798828\" xlink:href=\"#DejaVuSans-111\"/>\n       <use x=\"283.980469\" xlink:href=\"#DejaVuSans-108\"/>\n       <use x=\"311.763672\" xlink:href=\"#DejaVuSans-108\"/>\n       <use x=\"339.546875\" xlink:href=\"#DejaVuSans-95\"/>\n       <use x=\"389.546875\" xlink:href=\"#DejaVuSans-97\"/>\n       <use x=\"450.826172\" xlink:href=\"#DejaVuSans-99\"/>\n       <use x=\"505.806641\" xlink:href=\"#DejaVuSans-99\"/>\n       <use x=\"560.787109\" xlink:href=\"#DejaVuSans-111\"/>\n       <use x=\"621.96875\" xlink:href=\"#DejaVuSans-117\"/>\n       <use x=\"685.347656\" xlink:href=\"#DejaVuSans-110\"/>\n       <use x=\"748.726562\" xlink:href=\"#DejaVuSans-116\"/>\n      </g>\n     </g>\n    </g>\n    <g id=\"ytick_14\">\n     <g id=\"line2d_21\">\n      <g>\n       <use style=\"stroke:#000000;stroke-width:0.8;\" x=\"110.523438\" xlink:href=\"#meec2b250bb\" y=\"35.782408\"/>\n      </g>\n     </g>\n     <g id=\"text_21\">\n      <!-- debit_card -->\n      <defs>\n       <path d=\"M 48.6875 27.296875 \nQ 48.6875 37.203125 44.609375 42.84375 \nQ 40.53125 48.484375 33.40625 48.484375 \nQ 26.265625 48.484375 22.1875 42.84375 \nQ 18.109375 37.203125 18.109375 27.296875 \nQ 18.109375 17.390625 22.1875 11.75 \nQ 26.265625 6.109375 33.40625 6.109375 \nQ 40.53125 6.109375 44.609375 11.75 \nQ 48.6875 17.390625 48.6875 27.296875 \nz\nM 18.109375 46.390625 \nQ 20.953125 51.265625 25.265625 53.625 \nQ 29.59375 56 35.59375 56 \nQ 45.5625 56 51.78125 48.09375 \nQ 58.015625 40.1875 58.015625 27.296875 \nQ 58.015625 14.40625 51.78125 6.484375 \nQ 45.5625 -1.421875 35.59375 -1.421875 \nQ 29.59375 -1.421875 25.265625 0.953125 \nQ 20.953125 3.328125 18.109375 8.203125 \nL 18.109375 0 \nL 9.078125 0 \nL 9.078125 75.984375 \nL 18.109375 75.984375 \nz\n\" id=\"DejaVuSans-98\"/>\n      </defs>\n      <g transform=\"translate(51.064062 39.581627)scale(0.1 -0.1)\">\n       <use xlink:href=\"#DejaVuSans-100\"/>\n       <use x=\"63.476562\" xlink:href=\"#DejaVuSans-101\"/>\n       <use x=\"125\" xlink:href=\"#DejaVuSans-98\"/>\n       <use x=\"188.476562\" xlink:href=\"#DejaVuSans-105\"/>\n       <use x=\"216.259766\" xlink:href=\"#DejaVuSans-116\"/>\n       <use x=\"255.46875\" xlink:href=\"#DejaVuSans-95\"/>\n       <use x=\"305.46875\" xlink:href=\"#DejaVuSans-99\"/>\n       <use x=\"360.449219\" xlink:href=\"#DejaVuSans-97\"/>\n       <use x=\"421.728516\" xlink:href=\"#DejaVuSans-114\"/>\n       <use x=\"461.091797\" xlink:href=\"#DejaVuSans-100\"/>\n      </g>\n     </g>\n    </g>\n    <g id=\"ytick_15\">\n     <g id=\"line2d_22\">\n      <g>\n       <use style=\"stroke:#000000;stroke-width:0.8;\" x=\"110.523438\" xlink:href=\"#meec2b250bb\" y=\"22.426143\"/>\n      </g>\n     </g>\n     <g id=\"text_22\">\n      <!-- em_acount -->\n      <g transform=\"translate(48.289062 26.086299)scale(0.1 -0.1)\">\n       <use xlink:href=\"#DejaVuSans-101\"/>\n       <use x=\"61.523438\" xlink:href=\"#DejaVuSans-109\"/>\n       <use x=\"158.935547\" xlink:href=\"#DejaVuSans-95\"/>\n       <use x=\"208.935547\" xlink:href=\"#DejaVuSans-97\"/>\n       <use x=\"270.214844\" xlink:href=\"#DejaVuSans-99\"/>\n       <use x=\"325.195312\" xlink:href=\"#DejaVuSans-111\"/>\n       <use x=\"386.376953\" xlink:href=\"#DejaVuSans-117\"/>\n       <use x=\"449.755859\" xlink:href=\"#DejaVuSans-110\"/>\n       <use x=\"513.134766\" xlink:href=\"#DejaVuSans-116\"/>\n      </g>\n     </g>\n    </g>\n   </g>\n   <g id=\"patch_18\">\n    <path d=\"M 110.523438 224.64 \nL 110.523438 7.2 \n\" style=\"fill:none;stroke:#000000;stroke-linecap:square;stroke-linejoin:miter;stroke-width:0.8;\"/>\n   </g>\n   <g id=\"patch_19\">\n    <path d=\"M 445.323438 224.64 \nL 445.323438 7.2 \n\" style=\"fill:none;stroke:#000000;stroke-linecap:square;stroke-linejoin:miter;stroke-width:0.8;\"/>\n   </g>\n   <g id=\"patch_20\">\n    <path d=\"M 110.523438 224.64 \nL 445.323438 224.64 \n\" style=\"fill:none;stroke:#000000;stroke-linecap:square;stroke-linejoin:miter;stroke-width:0.8;\"/>\n   </g>\n   <g id=\"patch_21\">\n    <path d=\"M 110.523438 7.2 \nL 445.323438 7.2 \n\" style=\"fill:none;stroke:#000000;stroke-linecap:square;stroke-linejoin:miter;stroke-width:0.8;\"/>\n   </g>\n  </g>\n </g>\n <defs>\n  <clipPath id=\"p44259cbd5a\">\n   <rect height=\"217.44\" width=\"334.8\" x=\"110.523438\" y=\"7.2\"/>\n  </clipPath>\n </defs>\n</svg>\n",
      "image/png": "[encoded data removed]"
     },
     "metadata": {
      "needs_background": "light"
     }
    }
   ],
   "source": [
    "most_popular_products = products_df[[\"short_term_deposit\", \"loans\", \"mortgage\", \"funds\", \"securities\", \"long_term_deposit\", \"em_account_pp\", \"credit_card\", \"payroll_account\", \"emc_account\", \"debit_card\", \"em_account_p\", \"em_acount\", \"payroll\", \"pension_plan\"]].sum(axis=0)\n",
    "\n",
    "most_popular_products = most_popular_products.sort_values()\n",
    "\n",
    "fig, ax = plt.subplots()\n",
    "ax.barh(most_popular_products.index, most_popular_products[:])\n",
    "plt.show()"
   ]
  },
  {
   "cell_type": "code",
   "execution_count": 9,
   "metadata": {},
   "outputs": [
    {
     "output_type": "display_data",
     "data": {
      "text/plain": "<Figure size 432x288 with 1 Axes>",
      "image/svg+xml": "<?xml version=\"1.0\" encoding=\"utf-8\" standalone=\"no\"?>\n<!DOCTYPE svg PUBLIC \"-//W3C//DTD SVG 1.1//EN\"\n  \"http://www.w3.org/Graphics/SVG/1.1/DTD/svg11.dtd\">\n<!-- Created with matplotlib (https://matplotlib.org/) -->\n<svg height=\"248.518125pt\" version=\"1.1\" viewBox=\"0 0 452.523437 248.518125\" width=\"452.523437pt\" xmlns=\"http://www.w3.org/2000/svg\" xmlns:xlink=\"http://www.w3.org/1999/xlink\">\n <defs>\n  <style type=\"text/css\">\n*{stroke-linecap:butt;stroke-linejoin:round;}\n  </style>\n </defs>\n <g id=\"figure_1\">\n  <g id=\"patch_1\">\n   <path d=\"M 0 248.518125 \nL 452.523437 248.518125 \nL 452.523437 0 \nL 0 0 \nz\n\" style=\"fill:none;\"/>\n  </g>\n  <g id=\"axes_1\">\n   <g id=\"patch_2\">\n    <path d=\"M 110.523438 224.64 \nL 445.323438 224.64 \nL 445.323438 7.2 \nL 110.523438 7.2 \nz\n\" style=\"fill:#ffffff;\"/>\n   </g>\n   <g id=\"patch_3\">\n    <path clip-path=\"url(#p82ff77f63f)\" d=\"M 110.523438 214.756364 \nL 110.523438 214.756364 \nL 110.523438 203.297075 \nL 110.523438 203.297075 \nz\n\" style=\"fill:#1f77b4;\"/>\n   </g>\n   <g id=\"patch_4\">\n    <path clip-path=\"url(#p82ff77f63f)\" d=\"M 110.523438 200.432253 \nL 110.538179 200.432253 \nL 110.538179 188.972964 \nL 110.523438 188.972964 \nz\n\" style=\"fill:#1f77b4;\"/>\n   </g>\n   <g id=\"patch_5\">\n    <path clip-path=\"url(#p82ff77f63f)\" d=\"M 110.523438 186.108142 \nL 110.538179 186.108142 \nL 110.538179 174.648854 \nL 110.523438 174.648854 \nz\n\" style=\"fill:#1f77b4;\"/>\n   </g>\n   <g id=\"patch_6\">\n    <path clip-path=\"url(#p82ff77f63f)\" d=\"M 110.523438 171.784032 \nL 110.69296 171.784032 \nL 110.69296 160.324743 \nL 110.523438 160.324743 \nz\n\" style=\"fill:#1f77b4;\"/>\n   </g>\n   <g id=\"patch_7\">\n    <path clip-path=\"url(#p82ff77f63f)\" d=\"M 110.523438 157.459921 \nL 110.744554 157.459921 \nL 110.744554 146.000632 \nL 110.523438 146.000632 \nz\n\" style=\"fill:#1f77b4;\"/>\n   </g>\n   <g id=\"patch_8\">\n    <path clip-path=\"url(#p82ff77f63f)\" d=\"M 110.523438 143.13581 \nL 120.215704 143.13581 \nL 120.215704 131.676522 \nL 110.523438 131.676522 \nz\n\" style=\"fill:#1f77b4;\"/>\n   </g>\n   <g id=\"patch_9\">\n    <path clip-path=\"url(#p82ff77f63f)\" d=\"M 110.523438 128.8117 \nL 123.709342 128.8117 \nL 123.709342 117.352411 \nL 110.523438 117.352411 \nz\n\" style=\"fill:#1f77b4;\"/>\n   </g>\n   <g id=\"patch_10\">\n    <path clip-path=\"url(#p82ff77f63f)\" d=\"M 110.523438 114.487589 \nL 145.909424 114.487589 \nL 145.909424 103.0283 \nL 110.523438 103.0283 \nz\n\" style=\"fill:#1f77b4;\"/>\n   </g>\n   <g id=\"patch_11\">\n    <path clip-path=\"url(#p82ff77f63f)\" d=\"M 110.523438 100.163478 \nL 155.697507 100.163478 \nL 155.697507 88.70419 \nL 110.523438 88.70419 \nz\n\" style=\"fill:#1f77b4;\"/>\n   </g>\n   <g id=\"patch_12\">\n    <path clip-path=\"url(#p82ff77f63f)\" d=\"M 110.523438 85.839368 \nL 230.906547 85.839368 \nL 230.906547 74.380079 \nL 110.523438 74.380079 \nz\n\" style=\"fill:#1f77b4;\"/>\n   </g>\n   <g id=\"patch_13\">\n    <path clip-path=\"url(#p82ff77f63f)\" d=\"M 110.523438 71.515257 \nL 238.424503 71.515257 \nL 238.424503 60.055968 \nL 110.523438 60.055968 \nz\n\" style=\"fill:#1f77b4;\"/>\n   </g>\n   <g id=\"patch_14\">\n    <path clip-path=\"url(#p82ff77f63f)\" d=\"M 110.523438 57.191146 \nL 292.951794 57.191146 \nL 292.951794 45.731858 \nL 110.523438 45.731858 \nz\n\" style=\"fill:#1f77b4;\"/>\n   </g>\n   <g id=\"patch_15\">\n    <path clip-path=\"url(#p82ff77f63f)\" d=\"M 110.523438 42.867036 \nL 306.056623 42.867036 \nL 306.056623 31.407747 \nL 110.523438 31.407747 \nz\n\" style=\"fill:#1f77b4;\"/>\n   </g>\n   <g id=\"patch_16\">\n    <path clip-path=\"url(#p82ff77f63f)\" d=\"M 110.523438 28.542925 \nL 429.38058 28.542925 \nL 429.38058 17.083636 \nL 110.523438 17.083636 \nz\n\" style=\"fill:#1f77b4;\"/>\n   </g>\n   <g id=\"matplotlib.axis_1\">\n    <g id=\"xtick_1\">\n     <g id=\"line2d_1\">\n      <defs>\n       <path d=\"M 0 0 \nL 0 3.5 \n\" id=\"mee644f706b\" style=\"stroke:#000000;stroke-width:0.8;\"/>\n      </defs>\n      <g>\n       <use style=\"stroke:#000000;stroke-width:0.8;\" x=\"110.523438\" xlink:href=\"#mee644f706b\" y=\"224.64\"/>\n      </g>\n     </g>\n     <g id=\"text_1\">\n      <!-- 0 -->\n      <defs>\n       <path d=\"M 31.78125 66.40625 \nQ 24.171875 66.40625 20.328125 58.90625 \nQ 16.5 51.421875 16.5 36.375 \nQ 16.5 21.390625 20.328125 13.890625 \nQ 24.171875 6.390625 31.78125 6.390625 \nQ 39.453125 6.390625 43.28125 13.890625 \nQ 47.125 21.390625 47.125 36.375 \nQ 47.125 51.421875 43.28125 58.90625 \nQ 39.453125 66.40625 31.78125 66.40625 \nz\nM 31.78125 74.21875 \nQ 44.046875 74.21875 50.515625 64.515625 \nQ 56.984375 54.828125 56.984375 36.375 \nQ 56.984375 17.96875 50.515625 8.265625 \nQ 44.046875 -1.421875 31.78125 -1.421875 \nQ 19.53125 -1.421875 13.0625 8.265625 \nQ 6.59375 17.96875 6.59375 36.375 \nQ 6.59375 54.828125 13.0625 64.515625 \nQ 19.53125 74.21875 31.78125 74.21875 \nz\n\" id=\"DejaVuSans-48\"/>\n      </defs>\n      <g transform=\"translate(107.342187 239.238437)scale(0.1 -0.1)\">\n       <use xlink:href=\"#DejaVuSans-48\"/>\n      </g>\n     </g>\n    </g>\n    <g id=\"xtick_2\">\n     <g id=\"line2d_2\">\n      <g>\n       <use style=\"stroke:#000000;stroke-width:0.8;\" x=\"184.228886\" xlink:href=\"#mee644f706b\" y=\"224.64\"/>\n      </g>\n     </g>\n     <g id=\"text_2\">\n      <!-- 10000 -->\n      <defs>\n       <path d=\"M 12.40625 8.296875 \nL 28.515625 8.296875 \nL 28.515625 63.921875 \nL 10.984375 60.40625 \nL 10.984375 69.390625 \nL 28.421875 72.90625 \nL 38.28125 72.90625 \nL 38.28125 8.296875 \nL 54.390625 8.296875 \nL 54.390625 0 \nL 12.40625 0 \nz\n\" id=\"DejaVuSans-49\"/>\n      </defs>\n      <g transform=\"translate(168.322636 239.238437)scale(0.1 -0.1)\">\n       <use xlink:href=\"#DejaVuSans-49\"/>\n       <use x=\"63.623047\" xlink:href=\"#DejaVuSans-48\"/>\n       <use x=\"127.246094\" xlink:href=\"#DejaVuSans-48\"/>\n       <use x=\"190.869141\" xlink:href=\"#DejaVuSans-48\"/>\n       <use x=\"254.492188\" xlink:href=\"#DejaVuSans-48\"/>\n      </g>\n     </g>\n    </g>\n    <g id=\"xtick_3\">\n     <g id=\"line2d_3\">\n      <g>\n       <use style=\"stroke:#000000;stroke-width:0.8;\" x=\"257.934335\" xlink:href=\"#mee644f706b\" y=\"224.64\"/>\n      </g>\n     </g>\n     <g id=\"text_3\">\n      <!-- 20000 -->\n      <defs>\n       <path d=\"M 19.1875 8.296875 \nL 53.609375 8.296875 \nL 53.609375 0 \nL 7.328125 0 \nL 7.328125 8.296875 \nQ 12.9375 14.109375 22.625 23.890625 \nQ 32.328125 33.6875 34.8125 36.53125 \nQ 39.546875 41.84375 41.421875 45.53125 \nQ 43.3125 49.21875 43.3125 52.78125 \nQ 43.3125 58.59375 39.234375 62.25 \nQ 35.15625 65.921875 28.609375 65.921875 \nQ 23.96875 65.921875 18.8125 64.3125 \nQ 13.671875 62.703125 7.8125 59.421875 \nL 7.8125 69.390625 \nQ 13.765625 71.78125 18.9375 73 \nQ 24.125 74.21875 28.421875 74.21875 \nQ 39.75 74.21875 46.484375 68.546875 \nQ 53.21875 62.890625 53.21875 53.421875 \nQ 53.21875 48.921875 51.53125 44.890625 \nQ 49.859375 40.875 45.40625 35.40625 \nQ 44.1875 33.984375 37.640625 27.21875 \nQ 31.109375 20.453125 19.1875 8.296875 \nz\n\" id=\"DejaVuSans-50\"/>\n      </defs>\n      <g transform=\"translate(242.028085 239.238437)scale(0.1 -0.1)\">\n       <use xlink:href=\"#DejaVuSans-50\"/>\n       <use x=\"63.623047\" xlink:href=\"#DejaVuSans-48\"/>\n       <use x=\"127.246094\" xlink:href=\"#DejaVuSans-48\"/>\n       <use x=\"190.869141\" xlink:href=\"#DejaVuSans-48\"/>\n       <use x=\"254.492188\" xlink:href=\"#DejaVuSans-48\"/>\n      </g>\n     </g>\n    </g>\n    <g id=\"xtick_4\">\n     <g id=\"line2d_4\">\n      <g>\n       <use style=\"stroke:#000000;stroke-width:0.8;\" x=\"331.639784\" xlink:href=\"#mee644f706b\" y=\"224.64\"/>\n      </g>\n     </g>\n     <g id=\"text_4\">\n      <!-- 30000 -->\n      <defs>\n       <path d=\"M 40.578125 39.3125 \nQ 47.65625 37.796875 51.625 33 \nQ 55.609375 28.21875 55.609375 21.1875 \nQ 55.609375 10.40625 48.1875 4.484375 \nQ 40.765625 -1.421875 27.09375 -1.421875 \nQ 22.515625 -1.421875 17.65625 -0.515625 \nQ 12.796875 0.390625 7.625 2.203125 \nL 7.625 11.71875 \nQ 11.71875 9.328125 16.59375 8.109375 \nQ 21.484375 6.890625 26.8125 6.890625 \nQ 36.078125 6.890625 40.9375 10.546875 \nQ 45.796875 14.203125 45.796875 21.1875 \nQ 45.796875 27.640625 41.28125 31.265625 \nQ 36.765625 34.90625 28.71875 34.90625 \nL 20.21875 34.90625 \nL 20.21875 43.015625 \nL 29.109375 43.015625 \nQ 36.375 43.015625 40.234375 45.921875 \nQ 44.09375 48.828125 44.09375 54.296875 \nQ 44.09375 59.90625 40.109375 62.90625 \nQ 36.140625 65.921875 28.71875 65.921875 \nQ 24.65625 65.921875 20.015625 65.03125 \nQ 15.375 64.15625 9.8125 62.3125 \nL 9.8125 71.09375 \nQ 15.4375 72.65625 20.34375 73.4375 \nQ 25.25 74.21875 29.59375 74.21875 \nQ 40.828125 74.21875 47.359375 69.109375 \nQ 53.90625 64.015625 53.90625 55.328125 \nQ 53.90625 49.265625 50.4375 45.09375 \nQ 46.96875 40.921875 40.578125 39.3125 \nz\n\" id=\"DejaVuSans-51\"/>\n      </defs>\n      <g transform=\"translate(315.733534 239.238437)scale(0.1 -0.1)\">\n       <use xlink:href=\"#DejaVuSans-51\"/>\n       <use x=\"63.623047\" xlink:href=\"#DejaVuSans-48\"/>\n       <use x=\"127.246094\" xlink:href=\"#DejaVuSans-48\"/>\n       <use x=\"190.869141\" xlink:href=\"#DejaVuSans-48\"/>\n       <use x=\"254.492188\" xlink:href=\"#DejaVuSans-48\"/>\n      </g>\n     </g>\n    </g>\n    <g id=\"xtick_5\">\n     <g id=\"line2d_5\">\n      <g>\n       <use style=\"stroke:#000000;stroke-width:0.8;\" x=\"405.345233\" xlink:href=\"#mee644f706b\" y=\"224.64\"/>\n      </g>\n     </g>\n     <g id=\"text_5\">\n      <!-- 40000 -->\n      <defs>\n       <path d=\"M 37.796875 64.3125 \nL 12.890625 25.390625 \nL 37.796875 25.390625 \nz\nM 35.203125 72.90625 \nL 47.609375 72.90625 \nL 47.609375 25.390625 \nL 58.015625 25.390625 \nL 58.015625 17.1875 \nL 47.609375 17.1875 \nL 47.609375 0 \nL 37.796875 0 \nL 37.796875 17.1875 \nL 4.890625 17.1875 \nL 4.890625 26.703125 \nz\n\" id=\"DejaVuSans-52\"/>\n      </defs>\n      <g transform=\"translate(389.438983 239.238437)scale(0.1 -0.1)\">\n       <use xlink:href=\"#DejaVuSans-52\"/>\n       <use x=\"63.623047\" xlink:href=\"#DejaVuSans-48\"/>\n       <use x=\"127.246094\" xlink:href=\"#DejaVuSans-48\"/>\n       <use x=\"190.869141\" xlink:href=\"#DejaVuSans-48\"/>\n       <use x=\"254.492188\" xlink:href=\"#DejaVuSans-48\"/>\n      </g>\n     </g>\n    </g>\n   </g>\n   <g id=\"matplotlib.axis_2\">\n    <g id=\"ytick_1\">\n     <g id=\"line2d_6\">\n      <defs>\n       <path d=\"M 0 0 \nL -3.5 0 \n\" id=\"m98d6aecb9a\" style=\"stroke:#000000;stroke-width:0.8;\"/>\n      </defs>\n      <g>\n       <use style=\"stroke:#000000;stroke-width:0.8;\" x=\"110.523438\" xlink:href=\"#m98d6aecb9a\" y=\"209.026719\"/>\n      </g>\n     </g>\n     <g id=\"text_6\">\n      <!-- em_account_pp -->\n      <defs>\n       <path d=\"M 56.203125 29.59375 \nL 56.203125 25.203125 \nL 14.890625 25.203125 \nQ 15.484375 15.921875 20.484375 11.0625 \nQ 25.484375 6.203125 34.421875 6.203125 \nQ 39.59375 6.203125 44.453125 7.46875 \nQ 49.3125 8.734375 54.109375 11.28125 \nL 54.109375 2.78125 \nQ 49.265625 0.734375 44.1875 -0.34375 \nQ 39.109375 -1.421875 33.890625 -1.421875 \nQ 20.796875 -1.421875 13.15625 6.1875 \nQ 5.515625 13.8125 5.515625 26.8125 \nQ 5.515625 40.234375 12.765625 48.109375 \nQ 20.015625 56 32.328125 56 \nQ 43.359375 56 49.78125 48.890625 \nQ 56.203125 41.796875 56.203125 29.59375 \nz\nM 47.21875 32.234375 \nQ 47.125 39.59375 43.09375 43.984375 \nQ 39.0625 48.390625 32.421875 48.390625 \nQ 24.90625 48.390625 20.390625 44.140625 \nQ 15.875 39.890625 15.1875 32.171875 \nz\n\" id=\"DejaVuSans-101\"/>\n       <path d=\"M 52 44.1875 \nQ 55.375 50.25 60.0625 53.125 \nQ 64.75 56 71.09375 56 \nQ 79.640625 56 84.28125 50.015625 \nQ 88.921875 44.046875 88.921875 33.015625 \nL 88.921875 0 \nL 79.890625 0 \nL 79.890625 32.71875 \nQ 79.890625 40.578125 77.09375 44.375 \nQ 74.3125 48.1875 68.609375 48.1875 \nQ 61.625 48.1875 57.5625 43.546875 \nQ 53.515625 38.921875 53.515625 30.90625 \nL 53.515625 0 \nL 44.484375 0 \nL 44.484375 32.71875 \nQ 44.484375 40.625 41.703125 44.40625 \nQ 38.921875 48.1875 33.109375 48.1875 \nQ 26.21875 48.1875 22.15625 43.53125 \nQ 18.109375 38.875 18.109375 30.90625 \nL 18.109375 0 \nL 9.078125 0 \nL 9.078125 54.6875 \nL 18.109375 54.6875 \nL 18.109375 46.1875 \nQ 21.1875 51.21875 25.484375 53.609375 \nQ 29.78125 56 35.6875 56 \nQ 41.65625 56 45.828125 52.96875 \nQ 50 49.953125 52 44.1875 \nz\n\" id=\"DejaVuSans-109\"/>\n       <path d=\"M 50.984375 -16.609375 \nL 50.984375 -23.578125 \nL -0.984375 -23.578125 \nL -0.984375 -16.609375 \nz\n\" id=\"DejaVuSans-95\"/>\n       <path d=\"M 34.28125 27.484375 \nQ 23.390625 27.484375 19.1875 25 \nQ 14.984375 22.515625 14.984375 16.5 \nQ 14.984375 11.71875 18.140625 8.90625 \nQ 21.296875 6.109375 26.703125 6.109375 \nQ 34.1875 6.109375 38.703125 11.40625 \nQ 43.21875 16.703125 43.21875 25.484375 \nL 43.21875 27.484375 \nz\nM 52.203125 31.203125 \nL 52.203125 0 \nL 43.21875 0 \nL 43.21875 8.296875 \nQ 40.140625 3.328125 35.546875 0.953125 \nQ 30.953125 -1.421875 24.3125 -1.421875 \nQ 15.921875 -1.421875 10.953125 3.296875 \nQ 6 8.015625 6 15.921875 \nQ 6 25.140625 12.171875 29.828125 \nQ 18.359375 34.515625 30.609375 34.515625 \nL 43.21875 34.515625 \nL 43.21875 35.40625 \nQ 43.21875 41.609375 39.140625 45 \nQ 35.0625 48.390625 27.6875 48.390625 \nQ 23 48.390625 18.546875 47.265625 \nQ 14.109375 46.140625 10.015625 43.890625 \nL 10.015625 52.203125 \nQ 14.9375 54.109375 19.578125 55.046875 \nQ 24.21875 56 28.609375 56 \nQ 40.484375 56 46.34375 49.84375 \nQ 52.203125 43.703125 52.203125 31.203125 \nz\n\" id=\"DejaVuSans-97\"/>\n       <path d=\"M 48.78125 52.59375 \nL 48.78125 44.1875 \nQ 44.96875 46.296875 41.140625 47.34375 \nQ 37.3125 48.390625 33.40625 48.390625 \nQ 24.65625 48.390625 19.8125 42.84375 \nQ 14.984375 37.3125 14.984375 27.296875 \nQ 14.984375 17.28125 19.8125 11.734375 \nQ 24.65625 6.203125 33.40625 6.203125 \nQ 37.3125 6.203125 41.140625 7.25 \nQ 44.96875 8.296875 48.78125 10.40625 \nL 48.78125 2.09375 \nQ 45.015625 0.34375 40.984375 -0.53125 \nQ 36.96875 -1.421875 32.421875 -1.421875 \nQ 20.0625 -1.421875 12.78125 6.34375 \nQ 5.515625 14.109375 5.515625 27.296875 \nQ 5.515625 40.671875 12.859375 48.328125 \nQ 20.21875 56 33.015625 56 \nQ 37.15625 56 41.109375 55.140625 \nQ 45.0625 54.296875 48.78125 52.59375 \nz\n\" id=\"DejaVuSans-99\"/>\n       <path d=\"M 30.609375 48.390625 \nQ 23.390625 48.390625 19.1875 42.75 \nQ 14.984375 37.109375 14.984375 27.296875 \nQ 14.984375 17.484375 19.15625 11.84375 \nQ 23.34375 6.203125 30.609375 6.203125 \nQ 37.796875 6.203125 41.984375 11.859375 \nQ 46.1875 17.53125 46.1875 27.296875 \nQ 46.1875 37.015625 41.984375 42.703125 \nQ 37.796875 48.390625 30.609375 48.390625 \nz\nM 30.609375 56 \nQ 42.328125 56 49.015625 48.375 \nQ 55.71875 40.765625 55.71875 27.296875 \nQ 55.71875 13.875 49.015625 6.21875 \nQ 42.328125 -1.421875 30.609375 -1.421875 \nQ 18.84375 -1.421875 12.171875 6.21875 \nQ 5.515625 13.875 5.515625 27.296875 \nQ 5.515625 40.765625 12.171875 48.375 \nQ 18.84375 56 30.609375 56 \nz\n\" id=\"DejaVuSans-111\"/>\n       <path d=\"M 8.5 21.578125 \nL 8.5 54.6875 \nL 17.484375 54.6875 \nL 17.484375 21.921875 \nQ 17.484375 14.15625 20.5 10.265625 \nQ 23.53125 6.390625 29.59375 6.390625 \nQ 36.859375 6.390625 41.078125 11.03125 \nQ 45.3125 15.671875 45.3125 23.6875 \nL 45.3125 54.6875 \nL 54.296875 54.6875 \nL 54.296875 0 \nL 45.3125 0 \nL 45.3125 8.40625 \nQ 42.046875 3.421875 37.71875 1 \nQ 33.40625 -1.421875 27.6875 -1.421875 \nQ 18.265625 -1.421875 13.375 4.4375 \nQ 8.5 10.296875 8.5 21.578125 \nz\nM 31.109375 56 \nz\n\" id=\"DejaVuSans-117\"/>\n       <path d=\"M 54.890625 33.015625 \nL 54.890625 0 \nL 45.90625 0 \nL 45.90625 32.71875 \nQ 45.90625 40.484375 42.875 44.328125 \nQ 39.84375 48.1875 33.796875 48.1875 \nQ 26.515625 48.1875 22.3125 43.546875 \nQ 18.109375 38.921875 18.109375 30.90625 \nL 18.109375 0 \nL 9.078125 0 \nL 9.078125 54.6875 \nL 18.109375 54.6875 \nL 18.109375 46.1875 \nQ 21.34375 51.125 25.703125 53.5625 \nQ 30.078125 56 35.796875 56 \nQ 45.21875 56 50.046875 50.171875 \nQ 54.890625 44.34375 54.890625 33.015625 \nz\n\" id=\"DejaVuSans-110\"/>\n       <path d=\"M 18.3125 70.21875 \nL 18.3125 54.6875 \nL 36.8125 54.6875 \nL 36.8125 47.703125 \nL 18.3125 47.703125 \nL 18.3125 18.015625 \nQ 18.3125 11.328125 20.140625 9.421875 \nQ 21.96875 7.515625 27.59375 7.515625 \nL 36.8125 7.515625 \nL 36.8125 0 \nL 27.59375 0 \nQ 17.1875 0 13.234375 3.875 \nQ 9.28125 7.765625 9.28125 18.015625 \nL 9.28125 47.703125 \nL 2.6875 47.703125 \nL 2.6875 54.6875 \nL 9.28125 54.6875 \nL 9.28125 70.21875 \nz\n\" id=\"DejaVuSans-116\"/>\n       <path d=\"M 18.109375 8.203125 \nL 18.109375 -20.796875 \nL 9.078125 -20.796875 \nL 9.078125 54.6875 \nL 18.109375 54.6875 \nL 18.109375 46.390625 \nQ 20.953125 51.265625 25.265625 53.625 \nQ 29.59375 56 35.59375 56 \nQ 45.5625 56 51.78125 48.09375 \nQ 58.015625 40.1875 58.015625 27.296875 \nQ 58.015625 14.40625 51.78125 6.484375 \nQ 45.5625 -1.421875 35.59375 -1.421875 \nQ 29.59375 -1.421875 25.265625 0.953125 \nQ 20.953125 3.328125 18.109375 8.203125 \nz\nM 48.6875 27.296875 \nQ 48.6875 37.203125 44.609375 42.84375 \nQ 40.53125 48.484375 33.40625 48.484375 \nQ 26.265625 48.484375 22.1875 42.84375 \nQ 18.109375 37.203125 18.109375 27.296875 \nQ 18.109375 17.390625 22.1875 11.75 \nQ 26.265625 6.109375 33.40625 6.109375 \nQ 40.53125 6.109375 44.609375 11.75 \nQ 48.6875 17.390625 48.6875 27.296875 \nz\n\" id=\"DejaVuSans-112\"/>\n      </defs>\n      <g transform=\"translate(25.09375 212.686876)scale(0.1 -0.1)\">\n       <use xlink:href=\"#DejaVuSans-101\"/>\n       <use x=\"61.523438\" xlink:href=\"#DejaVuSans-109\"/>\n       <use x=\"158.935547\" xlink:href=\"#DejaVuSans-95\"/>\n       <use x=\"208.935547\" xlink:href=\"#DejaVuSans-97\"/>\n       <use x=\"270.214844\" xlink:href=\"#DejaVuSans-99\"/>\n       <use x=\"325.195312\" xlink:href=\"#DejaVuSans-99\"/>\n       <use x=\"380.175781\" xlink:href=\"#DejaVuSans-111\"/>\n       <use x=\"441.357422\" xlink:href=\"#DejaVuSans-117\"/>\n       <use x=\"504.736328\" xlink:href=\"#DejaVuSans-110\"/>\n       <use x=\"568.115234\" xlink:href=\"#DejaVuSans-116\"/>\n       <use x=\"607.324219\" xlink:href=\"#DejaVuSans-95\"/>\n       <use x=\"657.324219\" xlink:href=\"#DejaVuSans-112\"/>\n       <use x=\"720.800781\" xlink:href=\"#DejaVuSans-112\"/>\n      </g>\n     </g>\n    </g>\n    <g id=\"ytick_2\">\n     <g id=\"line2d_7\">\n      <g>\n       <use style=\"stroke:#000000;stroke-width:0.8;\" x=\"110.523438\" xlink:href=\"#m98d6aecb9a\" y=\"194.702609\"/>\n      </g>\n     </g>\n     <g id=\"text_7\">\n      <!-- short_term_deposit -->\n      <defs>\n       <path d=\"M 44.28125 53.078125 \nL 44.28125 44.578125 \nQ 40.484375 46.53125 36.375 47.5 \nQ 32.28125 48.484375 27.875 48.484375 \nQ 21.1875 48.484375 17.84375 46.4375 \nQ 14.5 44.390625 14.5 40.28125 \nQ 14.5 37.15625 16.890625 35.375 \nQ 19.28125 33.59375 26.515625 31.984375 \nL 29.59375 31.296875 \nQ 39.15625 29.25 43.1875 25.515625 \nQ 47.21875 21.78125 47.21875 15.09375 \nQ 47.21875 7.46875 41.1875 3.015625 \nQ 35.15625 -1.421875 24.609375 -1.421875 \nQ 20.21875 -1.421875 15.453125 -0.5625 \nQ 10.6875 0.296875 5.421875 2 \nL 5.421875 11.28125 \nQ 10.40625 8.6875 15.234375 7.390625 \nQ 20.0625 6.109375 24.8125 6.109375 \nQ 31.15625 6.109375 34.5625 8.28125 \nQ 37.984375 10.453125 37.984375 14.40625 \nQ 37.984375 18.0625 35.515625 20.015625 \nQ 33.0625 21.96875 24.703125 23.78125 \nL 21.578125 24.515625 \nQ 13.234375 26.265625 9.515625 29.90625 \nQ 5.8125 33.546875 5.8125 39.890625 \nQ 5.8125 47.609375 11.28125 51.796875 \nQ 16.75 56 26.8125 56 \nQ 31.78125 56 36.171875 55.265625 \nQ 40.578125 54.546875 44.28125 53.078125 \nz\n\" id=\"DejaVuSans-115\"/>\n       <path d=\"M 54.890625 33.015625 \nL 54.890625 0 \nL 45.90625 0 \nL 45.90625 32.71875 \nQ 45.90625 40.484375 42.875 44.328125 \nQ 39.84375 48.1875 33.796875 48.1875 \nQ 26.515625 48.1875 22.3125 43.546875 \nQ 18.109375 38.921875 18.109375 30.90625 \nL 18.109375 0 \nL 9.078125 0 \nL 9.078125 75.984375 \nL 18.109375 75.984375 \nL 18.109375 46.1875 \nQ 21.34375 51.125 25.703125 53.5625 \nQ 30.078125 56 35.796875 56 \nQ 45.21875 56 50.046875 50.171875 \nQ 54.890625 44.34375 54.890625 33.015625 \nz\n\" id=\"DejaVuSans-104\"/>\n       <path d=\"M 41.109375 46.296875 \nQ 39.59375 47.171875 37.8125 47.578125 \nQ 36.03125 48 33.890625 48 \nQ 26.265625 48 22.1875 43.046875 \nQ 18.109375 38.09375 18.109375 28.8125 \nL 18.109375 0 \nL 9.078125 0 \nL 9.078125 54.6875 \nL 18.109375 54.6875 \nL 18.109375 46.1875 \nQ 20.953125 51.171875 25.484375 53.578125 \nQ 30.03125 56 36.53125 56 \nQ 37.453125 56 38.578125 55.875 \nQ 39.703125 55.765625 41.0625 55.515625 \nz\n\" id=\"DejaVuSans-114\"/>\n       <path d=\"M 45.40625 46.390625 \nL 45.40625 75.984375 \nL 54.390625 75.984375 \nL 54.390625 0 \nL 45.40625 0 \nL 45.40625 8.203125 \nQ 42.578125 3.328125 38.25 0.953125 \nQ 33.9375 -1.421875 27.875 -1.421875 \nQ 17.96875 -1.421875 11.734375 6.484375 \nQ 5.515625 14.40625 5.515625 27.296875 \nQ 5.515625 40.1875 11.734375 48.09375 \nQ 17.96875 56 27.875 56 \nQ 33.9375 56 38.25 53.625 \nQ 42.578125 51.265625 45.40625 46.390625 \nz\nM 14.796875 27.296875 \nQ 14.796875 17.390625 18.875 11.75 \nQ 22.953125 6.109375 30.078125 6.109375 \nQ 37.203125 6.109375 41.296875 11.75 \nQ 45.40625 17.390625 45.40625 27.296875 \nQ 45.40625 37.203125 41.296875 42.84375 \nQ 37.203125 48.484375 30.078125 48.484375 \nQ 22.953125 48.484375 18.875 42.84375 \nQ 14.796875 37.203125 14.796875 27.296875 \nz\n\" id=\"DejaVuSans-100\"/>\n       <path d=\"M 9.421875 54.6875 \nL 18.40625 54.6875 \nL 18.40625 0 \nL 9.421875 0 \nz\nM 9.421875 75.984375 \nL 18.40625 75.984375 \nL 18.40625 64.59375 \nL 9.421875 64.59375 \nz\n\" id=\"DejaVuSans-105\"/>\n      </defs>\n      <g transform=\"translate(7.2 198.501827)scale(0.1 -0.1)\">\n       <use xlink:href=\"#DejaVuSans-115\"/>\n       <use x=\"52.099609\" xlink:href=\"#DejaVuSans-104\"/>\n       <use x=\"115.478516\" xlink:href=\"#DejaVuSans-111\"/>\n       <use x=\"176.660156\" xlink:href=\"#DejaVuSans-114\"/>\n       <use x=\"217.773438\" xlink:href=\"#DejaVuSans-116\"/>\n       <use x=\"256.982422\" xlink:href=\"#DejaVuSans-95\"/>\n       <use x=\"306.982422\" xlink:href=\"#DejaVuSans-116\"/>\n       <use x=\"346.191406\" xlink:href=\"#DejaVuSans-101\"/>\n       <use x=\"407.714844\" xlink:href=\"#DejaVuSans-114\"/>\n       <use x=\"447.078125\" xlink:href=\"#DejaVuSans-109\"/>\n       <use x=\"544.490234\" xlink:href=\"#DejaVuSans-95\"/>\n       <use x=\"594.490234\" xlink:href=\"#DejaVuSans-100\"/>\n       <use x=\"657.966797\" xlink:href=\"#DejaVuSans-101\"/>\n       <use x=\"719.490234\" xlink:href=\"#DejaVuSans-112\"/>\n       <use x=\"782.966797\" xlink:href=\"#DejaVuSans-111\"/>\n       <use x=\"844.148438\" xlink:href=\"#DejaVuSans-115\"/>\n       <use x=\"896.248047\" xlink:href=\"#DejaVuSans-105\"/>\n       <use x=\"924.03125\" xlink:href=\"#DejaVuSans-116\"/>\n      </g>\n     </g>\n    </g>\n    <g id=\"ytick_3\">\n     <g id=\"line2d_8\">\n      <g>\n       <use style=\"stroke:#000000;stroke-width:0.8;\" x=\"110.523438\" xlink:href=\"#m98d6aecb9a\" y=\"180.378498\"/>\n      </g>\n     </g>\n     <g id=\"text_8\">\n      <!-- em_account_p -->\n      <g transform=\"translate(31.442188 184.038654)scale(0.1 -0.1)\">\n       <use xlink:href=\"#DejaVuSans-101\"/>\n       <use x=\"61.523438\" xlink:href=\"#DejaVuSans-109\"/>\n       <use x=\"158.935547\" xlink:href=\"#DejaVuSans-95\"/>\n       <use x=\"208.935547\" xlink:href=\"#DejaVuSans-97\"/>\n       <use x=\"270.214844\" xlink:href=\"#DejaVuSans-99\"/>\n       <use x=\"325.195312\" xlink:href=\"#DejaVuSans-99\"/>\n       <use x=\"380.175781\" xlink:href=\"#DejaVuSans-111\"/>\n       <use x=\"441.357422\" xlink:href=\"#DejaVuSans-117\"/>\n       <use x=\"504.736328\" xlink:href=\"#DejaVuSans-110\"/>\n       <use x=\"568.115234\" xlink:href=\"#DejaVuSans-116\"/>\n       <use x=\"607.324219\" xlink:href=\"#DejaVuSans-95\"/>\n       <use x=\"657.324219\" xlink:href=\"#DejaVuSans-112\"/>\n      </g>\n     </g>\n    </g>\n    <g id=\"ytick_4\">\n     <g id=\"line2d_9\">\n      <g>\n       <use style=\"stroke:#000000;stroke-width:0.8;\" x=\"110.523438\" xlink:href=\"#m98d6aecb9a\" y=\"166.054387\"/>\n      </g>\n     </g>\n     <g id=\"text_9\">\n      <!-- mortgage -->\n      <defs>\n       <path d=\"M 45.40625 27.984375 \nQ 45.40625 37.75 41.375 43.109375 \nQ 37.359375 48.484375 30.078125 48.484375 \nQ 22.859375 48.484375 18.828125 43.109375 \nQ 14.796875 37.75 14.796875 27.984375 \nQ 14.796875 18.265625 18.828125 12.890625 \nQ 22.859375 7.515625 30.078125 7.515625 \nQ 37.359375 7.515625 41.375 12.890625 \nQ 45.40625 18.265625 45.40625 27.984375 \nz\nM 54.390625 6.78125 \nQ 54.390625 -7.171875 48.1875 -13.984375 \nQ 42 -20.796875 29.203125 -20.796875 \nQ 24.46875 -20.796875 20.265625 -20.09375 \nQ 16.0625 -19.390625 12.109375 -17.921875 \nL 12.109375 -9.1875 \nQ 16.0625 -11.328125 19.921875 -12.34375 \nQ 23.78125 -13.375 27.78125 -13.375 \nQ 36.625 -13.375 41.015625 -8.765625 \nQ 45.40625 -4.15625 45.40625 5.171875 \nL 45.40625 9.625 \nQ 42.625 4.78125 38.28125 2.390625 \nQ 33.9375 0 27.875 0 \nQ 17.828125 0 11.671875 7.65625 \nQ 5.515625 15.328125 5.515625 27.984375 \nQ 5.515625 40.671875 11.671875 48.328125 \nQ 17.828125 56 27.875 56 \nQ 33.9375 56 38.28125 53.609375 \nQ 42.625 51.21875 45.40625 46.390625 \nL 45.40625 54.6875 \nL 54.390625 54.6875 \nz\n\" id=\"DejaVuSans-103\"/>\n      </defs>\n      <g transform=\"translate(54.654687 169.853606)scale(0.1 -0.1)\">\n       <use xlink:href=\"#DejaVuSans-109\"/>\n       <use x=\"97.412109\" xlink:href=\"#DejaVuSans-111\"/>\n       <use x=\"158.59375\" xlink:href=\"#DejaVuSans-114\"/>\n       <use x=\"199.707031\" xlink:href=\"#DejaVuSans-116\"/>\n       <use x=\"238.916016\" xlink:href=\"#DejaVuSans-103\"/>\n       <use x=\"302.392578\" xlink:href=\"#DejaVuSans-97\"/>\n       <use x=\"363.671875\" xlink:href=\"#DejaVuSans-103\"/>\n       <use x=\"427.148438\" xlink:href=\"#DejaVuSans-101\"/>\n      </g>\n     </g>\n    </g>\n    <g id=\"ytick_5\">\n     <g id=\"line2d_10\">\n      <g>\n       <use style=\"stroke:#000000;stroke-width:0.8;\" x=\"110.523438\" xlink:href=\"#m98d6aecb9a\" y=\"151.730277\"/>\n      </g>\n     </g>\n     <g id=\"text_10\">\n      <!-- loans -->\n      <defs>\n       <path d=\"M 9.421875 75.984375 \nL 18.40625 75.984375 \nL 18.40625 0 \nL 9.421875 0 \nz\n\" id=\"DejaVuSans-108\"/>\n      </defs>\n      <g transform=\"translate(76.951562 155.529495)scale(0.1 -0.1)\">\n       <use xlink:href=\"#DejaVuSans-108\"/>\n       <use x=\"27.783203\" xlink:href=\"#DejaVuSans-111\"/>\n       <use x=\"88.964844\" xlink:href=\"#DejaVuSans-97\"/>\n       <use x=\"150.244141\" xlink:href=\"#DejaVuSans-110\"/>\n       <use x=\"213.623047\" xlink:href=\"#DejaVuSans-115\"/>\n      </g>\n     </g>\n    </g>\n    <g id=\"ytick_6\">\n     <g id=\"line2d_11\">\n      <g>\n       <use style=\"stroke:#000000;stroke-width:0.8;\" x=\"110.523438\" xlink:href=\"#m98d6aecb9a\" y=\"137.406166\"/>\n      </g>\n     </g>\n     <g id=\"text_11\">\n      <!-- funds -->\n      <defs>\n       <path d=\"M 37.109375 75.984375 \nL 37.109375 68.5 \nL 28.515625 68.5 \nQ 23.6875 68.5 21.796875 66.546875 \nQ 19.921875 64.59375 19.921875 59.515625 \nL 19.921875 54.6875 \nL 34.71875 54.6875 \nL 34.71875 47.703125 \nL 19.921875 47.703125 \nL 19.921875 0 \nL 10.890625 0 \nL 10.890625 47.703125 \nL 2.296875 47.703125 \nL 2.296875 54.6875 \nL 10.890625 54.6875 \nL 10.890625 58.5 \nQ 10.890625 67.625 15.140625 71.796875 \nQ 19.390625 75.984375 28.609375 75.984375 \nz\n\" id=\"DejaVuSans-102\"/>\n      </defs>\n      <g transform=\"translate(75.770313 141.205385)scale(0.1 -0.1)\">\n       <use xlink:href=\"#DejaVuSans-102\"/>\n       <use x=\"35.205078\" xlink:href=\"#DejaVuSans-117\"/>\n       <use x=\"98.583984\" xlink:href=\"#DejaVuSans-110\"/>\n       <use x=\"161.962891\" xlink:href=\"#DejaVuSans-100\"/>\n       <use x=\"225.439453\" xlink:href=\"#DejaVuSans-115\"/>\n      </g>\n     </g>\n    </g>\n    <g id=\"ytick_7\">\n     <g id=\"line2d_12\">\n      <g>\n       <use style=\"stroke:#000000;stroke-width:0.8;\" x=\"110.523438\" xlink:href=\"#m98d6aecb9a\" y=\"123.082055\"/>\n      </g>\n     </g>\n     <g id=\"text_12\">\n      <!-- securities -->\n      <g transform=\"translate(55.375 126.881274)scale(0.1 -0.1)\">\n       <use xlink:href=\"#DejaVuSans-115\"/>\n       <use x=\"52.099609\" xlink:href=\"#DejaVuSans-101\"/>\n       <use x=\"113.623047\" xlink:href=\"#DejaVuSans-99\"/>\n       <use x=\"168.603516\" xlink:href=\"#DejaVuSans-117\"/>\n       <use x=\"231.982422\" xlink:href=\"#DejaVuSans-114\"/>\n       <use x=\"273.095703\" xlink:href=\"#DejaVuSans-105\"/>\n       <use x=\"300.878906\" xlink:href=\"#DejaVuSans-116\"/>\n       <use x=\"340.087891\" xlink:href=\"#DejaVuSans-105\"/>\n       <use x=\"367.871094\" xlink:href=\"#DejaVuSans-101\"/>\n       <use x=\"429.394531\" xlink:href=\"#DejaVuSans-115\"/>\n      </g>\n     </g>\n    </g>\n    <g id=\"ytick_8\">\n     <g id=\"line2d_13\">\n      <g>\n       <use style=\"stroke:#000000;stroke-width:0.8;\" x=\"110.523438\" xlink:href=\"#m98d6aecb9a\" y=\"108.757945\"/>\n      </g>\n     </g>\n     <g id=\"text_13\">\n      <!-- credit_card -->\n      <g transform=\"translate(48.028125 112.557163)scale(0.1 -0.1)\">\n       <use xlink:href=\"#DejaVuSans-99\"/>\n       <use x=\"54.980469\" xlink:href=\"#DejaVuSans-114\"/>\n       <use x=\"93.84375\" xlink:href=\"#DejaVuSans-101\"/>\n       <use x=\"155.367188\" xlink:href=\"#DejaVuSans-100\"/>\n       <use x=\"218.84375\" xlink:href=\"#DejaVuSans-105\"/>\n       <use x=\"246.626953\" xlink:href=\"#DejaVuSans-116\"/>\n       <use x=\"285.835938\" xlink:href=\"#DejaVuSans-95\"/>\n       <use x=\"335.835938\" xlink:href=\"#DejaVuSans-99\"/>\n       <use x=\"390.816406\" xlink:href=\"#DejaVuSans-97\"/>\n       <use x=\"452.095703\" xlink:href=\"#DejaVuSans-114\"/>\n       <use x=\"491.458984\" xlink:href=\"#DejaVuSans-100\"/>\n      </g>\n     </g>\n    </g>\n    <g id=\"ytick_9\">\n     <g id=\"line2d_14\">\n      <g>\n       <use style=\"stroke:#000000;stroke-width:0.8;\" x=\"110.523438\" xlink:href=\"#m98d6aecb9a\" y=\"94.433834\"/>\n      </g>\n     </g>\n     <g id=\"text_14\">\n      <!-- long_term_deposit -->\n      <g transform=\"translate(11.314062 98.233053)scale(0.1 -0.1)\">\n       <use xlink:href=\"#DejaVuSans-108\"/>\n       <use x=\"27.783203\" xlink:href=\"#DejaVuSans-111\"/>\n       <use x=\"88.964844\" xlink:href=\"#DejaVuSans-110\"/>\n       <use x=\"152.34375\" xlink:href=\"#DejaVuSans-103\"/>\n       <use x=\"215.820312\" xlink:href=\"#DejaVuSans-95\"/>\n       <use x=\"265.820312\" xlink:href=\"#DejaVuSans-116\"/>\n       <use x=\"305.029297\" xlink:href=\"#DejaVuSans-101\"/>\n       <use x=\"366.552734\" xlink:href=\"#DejaVuSans-114\"/>\n       <use x=\"405.916016\" xlink:href=\"#DejaVuSans-109\"/>\n       <use x=\"503.328125\" xlink:href=\"#DejaVuSans-95\"/>\n       <use x=\"553.328125\" xlink:href=\"#DejaVuSans-100\"/>\n       <use x=\"616.804688\" xlink:href=\"#DejaVuSans-101\"/>\n       <use x=\"678.328125\" xlink:href=\"#DejaVuSans-112\"/>\n       <use x=\"741.804688\" xlink:href=\"#DejaVuSans-111\"/>\n       <use x=\"802.986328\" xlink:href=\"#DejaVuSans-115\"/>\n       <use x=\"855.085938\" xlink:href=\"#DejaVuSans-105\"/>\n       <use x=\"882.869141\" xlink:href=\"#DejaVuSans-116\"/>\n      </g>\n     </g>\n    </g>\n    <g id=\"ytick_10\">\n     <g id=\"line2d_15\">\n      <g>\n       <use style=\"stroke:#000000;stroke-width:0.8;\" x=\"110.523438\" xlink:href=\"#m98d6aecb9a\" y=\"80.109723\"/>\n      </g>\n     </g>\n     <g id=\"text_15\">\n      <!-- payroll -->\n      <defs>\n       <path d=\"M 32.171875 -5.078125 \nQ 28.375 -14.84375 24.75 -17.8125 \nQ 21.140625 -20.796875 15.09375 -20.796875 \nL 7.90625 -20.796875 \nL 7.90625 -13.28125 \nL 13.1875 -13.28125 \nQ 16.890625 -13.28125 18.9375 -11.515625 \nQ 21 -9.765625 23.484375 -3.21875 \nL 25.09375 0.875 \nL 2.984375 54.6875 \nL 12.5 54.6875 \nL 29.59375 11.921875 \nL 46.6875 54.6875 \nL 56.203125 54.6875 \nz\n\" id=\"DejaVuSans-121\"/>\n      </defs>\n      <g transform=\"translate(69.567187 83.908942)scale(0.1 -0.1)\">\n       <use xlink:href=\"#DejaVuSans-112\"/>\n       <use x=\"63.476562\" xlink:href=\"#DejaVuSans-97\"/>\n       <use x=\"124.755859\" xlink:href=\"#DejaVuSans-121\"/>\n       <use x=\"183.935547\" xlink:href=\"#DejaVuSans-114\"/>\n       <use x=\"222.798828\" xlink:href=\"#DejaVuSans-111\"/>\n       <use x=\"283.980469\" xlink:href=\"#DejaVuSans-108\"/>\n       <use x=\"311.763672\" xlink:href=\"#DejaVuSans-108\"/>\n      </g>\n     </g>\n    </g>\n    <g id=\"ytick_11\">\n     <g id=\"line2d_16\">\n      <g>\n       <use style=\"stroke:#000000;stroke-width:0.8;\" x=\"110.523438\" xlink:href=\"#m98d6aecb9a\" y=\"65.785613\"/>\n      </g>\n     </g>\n     <g id=\"text_16\">\n      <!-- pension_plan -->\n      <g transform=\"translate(37.648438 69.584831)scale(0.1 -0.1)\">\n       <use xlink:href=\"#DejaVuSans-112\"/>\n       <use x=\"63.476562\" xlink:href=\"#DejaVuSans-101\"/>\n       <use x=\"125\" xlink:href=\"#DejaVuSans-110\"/>\n       <use x=\"188.378906\" xlink:href=\"#DejaVuSans-115\"/>\n       <use x=\"240.478516\" xlink:href=\"#DejaVuSans-105\"/>\n       <use x=\"268.261719\" xlink:href=\"#DejaVuSans-111\"/>\n       <use x=\"329.443359\" xlink:href=\"#DejaVuSans-110\"/>\n       <use x=\"392.822266\" xlink:href=\"#DejaVuSans-95\"/>\n       <use x=\"442.822266\" xlink:href=\"#DejaVuSans-112\"/>\n       <use x=\"506.298828\" xlink:href=\"#DejaVuSans-108\"/>\n       <use x=\"534.082031\" xlink:href=\"#DejaVuSans-97\"/>\n       <use x=\"595.361328\" xlink:href=\"#DejaVuSans-110\"/>\n      </g>\n     </g>\n    </g>\n    <g id=\"ytick_12\">\n     <g id=\"line2d_17\">\n      <g>\n       <use style=\"stroke:#000000;stroke-width:0.8;\" x=\"110.523438\" xlink:href=\"#m98d6aecb9a\" y=\"51.461502\"/>\n      </g>\n     </g>\n     <g id=\"text_17\">\n      <!-- emc_account -->\n      <g transform=\"translate(37.292187 55.121658)scale(0.1 -0.1)\">\n       <use xlink:href=\"#DejaVuSans-101\"/>\n       <use x=\"61.523438\" xlink:href=\"#DejaVuSans-109\"/>\n       <use x=\"158.935547\" xlink:href=\"#DejaVuSans-99\"/>\n       <use x=\"213.916016\" xlink:href=\"#DejaVuSans-95\"/>\n       <use x=\"263.916016\" xlink:href=\"#DejaVuSans-97\"/>\n       <use x=\"325.195312\" xlink:href=\"#DejaVuSans-99\"/>\n       <use x=\"380.175781\" xlink:href=\"#DejaVuSans-99\"/>\n       <use x=\"435.15625\" xlink:href=\"#DejaVuSans-111\"/>\n       <use x=\"496.337891\" xlink:href=\"#DejaVuSans-117\"/>\n       <use x=\"559.716797\" xlink:href=\"#DejaVuSans-110\"/>\n       <use x=\"623.095703\" xlink:href=\"#DejaVuSans-116\"/>\n      </g>\n     </g>\n    </g>\n    <g id=\"ytick_13\">\n     <g id=\"line2d_18\">\n      <g>\n       <use style=\"stroke:#000000;stroke-width:0.8;\" x=\"110.523438\" xlink:href=\"#m98d6aecb9a\" y=\"37.137391\"/>\n      </g>\n     </g>\n     <g id=\"text_18\">\n      <!-- payroll_account -->\n      <g transform=\"translate(24.728125 40.93661)scale(0.1 -0.1)\">\n       <use xlink:href=\"#DejaVuSans-112\"/>\n       <use x=\"63.476562\" xlink:href=\"#DejaVuSans-97\"/>\n       <use x=\"124.755859\" xlink:href=\"#DejaVuSans-121\"/>\n       <use x=\"183.935547\" xlink:href=\"#DejaVuSans-114\"/>\n       <use x=\"222.798828\" xlink:href=\"#DejaVuSans-111\"/>\n       <use x=\"283.980469\" xlink:href=\"#DejaVuSans-108\"/>\n       <use x=\"311.763672\" xlink:href=\"#DejaVuSans-108\"/>\n       <use x=\"339.546875\" xlink:href=\"#DejaVuSans-95\"/>\n       <use x=\"389.546875\" xlink:href=\"#DejaVuSans-97\"/>\n       <use x=\"450.826172\" xlink:href=\"#DejaVuSans-99\"/>\n       <use x=\"505.806641\" xlink:href=\"#DejaVuSans-99\"/>\n       <use x=\"560.787109\" xlink:href=\"#DejaVuSans-111\"/>\n       <use x=\"621.96875\" xlink:href=\"#DejaVuSans-117\"/>\n       <use x=\"685.347656\" xlink:href=\"#DejaVuSans-110\"/>\n       <use x=\"748.726562\" xlink:href=\"#DejaVuSans-116\"/>\n      </g>\n     </g>\n    </g>\n    <g id=\"ytick_14\">\n     <g id=\"line2d_19\">\n      <g>\n       <use style=\"stroke:#000000;stroke-width:0.8;\" x=\"110.523438\" xlink:href=\"#m98d6aecb9a\" y=\"22.813281\"/>\n      </g>\n     </g>\n     <g id=\"text_19\">\n      <!-- debit_card -->\n      <defs>\n       <path d=\"M 48.6875 27.296875 \nQ 48.6875 37.203125 44.609375 42.84375 \nQ 40.53125 48.484375 33.40625 48.484375 \nQ 26.265625 48.484375 22.1875 42.84375 \nQ 18.109375 37.203125 18.109375 27.296875 \nQ 18.109375 17.390625 22.1875 11.75 \nQ 26.265625 6.109375 33.40625 6.109375 \nQ 40.53125 6.109375 44.609375 11.75 \nQ 48.6875 17.390625 48.6875 27.296875 \nz\nM 18.109375 46.390625 \nQ 20.953125 51.265625 25.265625 53.625 \nQ 29.59375 56 35.59375 56 \nQ 45.5625 56 51.78125 48.09375 \nQ 58.015625 40.1875 58.015625 27.296875 \nQ 58.015625 14.40625 51.78125 6.484375 \nQ 45.5625 -1.421875 35.59375 -1.421875 \nQ 29.59375 -1.421875 25.265625 0.953125 \nQ 20.953125 3.328125 18.109375 8.203125 \nL 18.109375 0 \nL 9.078125 0 \nL 9.078125 75.984375 \nL 18.109375 75.984375 \nz\n\" id=\"DejaVuSans-98\"/>\n      </defs>\n      <g transform=\"translate(51.064062 26.612499)scale(0.1 -0.1)\">\n       <use xlink:href=\"#DejaVuSans-100\"/>\n       <use x=\"63.476562\" xlink:href=\"#DejaVuSans-101\"/>\n       <use x=\"125\" xlink:href=\"#DejaVuSans-98\"/>\n       <use x=\"188.476562\" xlink:href=\"#DejaVuSans-105\"/>\n       <use x=\"216.259766\" xlink:href=\"#DejaVuSans-116\"/>\n       <use x=\"255.46875\" xlink:href=\"#DejaVuSans-95\"/>\n       <use x=\"305.46875\" xlink:href=\"#DejaVuSans-99\"/>\n       <use x=\"360.449219\" xlink:href=\"#DejaVuSans-97\"/>\n       <use x=\"421.728516\" xlink:href=\"#DejaVuSans-114\"/>\n       <use x=\"461.091797\" xlink:href=\"#DejaVuSans-100\"/>\n      </g>\n     </g>\n    </g>\n   </g>\n   <g id=\"patch_17\">\n    <path d=\"M 110.523438 224.64 \nL 110.523438 7.2 \n\" style=\"fill:none;stroke:#000000;stroke-linecap:square;stroke-linejoin:miter;stroke-width:0.8;\"/>\n   </g>\n   <g id=\"patch_18\">\n    <path d=\"M 445.323438 224.64 \nL 445.323438 7.2 \n\" style=\"fill:none;stroke:#000000;stroke-linecap:square;stroke-linejoin:miter;stroke-width:0.8;\"/>\n   </g>\n   <g id=\"patch_19\">\n    <path d=\"M 110.523438 224.64 \nL 445.323437 224.64 \n\" style=\"fill:none;stroke:#000000;stroke-linecap:square;stroke-linejoin:miter;stroke-width:0.8;\"/>\n   </g>\n   <g id=\"patch_20\">\n    <path d=\"M 110.523438 7.2 \nL 445.323437 7.2 \n\" style=\"fill:none;stroke:#000000;stroke-linecap:square;stroke-linejoin:miter;stroke-width:0.8;\"/>\n   </g>\n  </g>\n </g>\n <defs>\n  <clipPath id=\"p82ff77f63f\">\n   <rect height=\"217.44\" width=\"334.8\" x=\"110.523438\" y=\"7.2\"/>\n  </clipPath>\n </defs>\n</svg>\n",
      "image/png": "[encoded data removed]"
     },
     "metadata": {
      "needs_background": "light"
     }
    }
   ],
   "source": [
    "fig, ax = plt.subplots()\n",
    "ax.barh(most_popular_products.index[:-1], most_popular_products[:-1])\n",
    "plt.show()"
   ]
  },
  {
   "source": [
    "### Combinaciones de productos más solicitadas\n",
    "\n",
    "En este apartado se pretence conocer que combinación de productos es la más repetida y común entre los clientes. Para ello se comparán probarán combinaciones de 2 y de 3. \n",
    "\n",
    "Primero se mirará la cantidad de clientes que tienen 2 o 3 productos contratados, y cuál es el tanto por ciento de clientes que habiendo solicitado el producto X también solicita el producto Y. "
   ],
   "cell_type": "markdown",
   "metadata": {}
  },
  {
   "cell_type": "code",
   "execution_count": 46,
   "metadata": {},
   "outputs": [
    {
     "output_type": "display_data",
     "data": {
      "text/plain": "0    111407\n1    268286\n2     38714\n3     11502\n4      8479\n5      3342\n6      1038\n7       194\n8        31\n9         2\ndtype: int64"
     },
     "metadata": {}
    },
    {
     "output_type": "display_data",
     "data": {
      "text/plain": "<Figure size 720x216 with 1 Axes>",
      "image/svg+xml": "<?xml version=\"1.0\" encoding=\"utf-8\" standalone=\"no\"?>\n<!DOCTYPE svg PUBLIC \"-//W3C//DTD SVG 1.1//EN\"\n  \"http://www.w3.org/Graphics/SVG/1.1/DTD/svg11.dtd\">\n<!-- Created with matplotlib (https://matplotlib.org/) -->\n<svg height=\"194.158125pt\" version=\"1.1\" viewBox=\"0 0 595.303125 194.158125\" width=\"595.303125pt\" xmlns=\"http://www.w3.org/2000/svg\" xmlns:xlink=\"http://www.w3.org/1999/xlink\">\n <defs>\n  <style type=\"text/css\">\n*{stroke-linecap:butt;stroke-linejoin:round;}\n  </style>\n </defs>\n <g id=\"figure_1\">\n  <g id=\"patch_1\">\n   <path d=\"M -0 194.158125 \nL 595.303125 194.158125 \nL 595.303125 0 \nL -0 0 \nz\n\" style=\"fill:none;\"/>\n  </g>\n  <g id=\"axes_1\">\n   <g id=\"patch_2\">\n    <path d=\"M 30.103125 170.28 \nL 588.103125 170.28 \nL 588.103125 7.2 \nL 30.103125 7.2 \nz\n\" style=\"fill:#ffffff;\"/>\n   </g>\n   <g id=\"patch_3\">\n    <path clip-path=\"url(#p26b2d8ee53)\" d=\"M 55.466761 170.28 \nL 96.87678 170.28 \nL 96.87678 105.785026 \nL 55.466761 105.785026 \nz\n\" style=\"fill:#1f77b4;\"/>\n   </g>\n   <g id=\"patch_4\">\n    <path clip-path=\"url(#p26b2d8ee53)\" d=\"M 107.229285 170.28 \nL 148.639303 170.28 \nL 148.639303 14.965714 \nL 107.229285 14.965714 \nz\n\" style=\"fill:#1f77b4;\"/>\n   </g>\n   <g id=\"patch_5\">\n    <path clip-path=\"url(#p26b2d8ee53)\" d=\"M 158.991808 170.28 \nL 200.401826 170.28 \nL 200.401826 147.867957 \nL 158.991808 147.867957 \nz\n\" style=\"fill:#1f77b4;\"/>\n   </g>\n   <g id=\"patch_6\">\n    <path clip-path=\"url(#p26b2d8ee53)\" d=\"M 210.754331 170.28 \nL 252.164349 170.28 \nL 252.164349 163.621341 \nL 210.754331 163.621341 \nz\n\" style=\"fill:#1f77b4;\"/>\n   </g>\n   <g id=\"patch_7\">\n    <path clip-path=\"url(#p26b2d8ee53)\" d=\"M 262.516854 170.28 \nL 303.926873 170.28 \nL 303.926873 165.371396 \nL 262.516854 165.371396 \nz\n\" style=\"fill:#1f77b4;\"/>\n   </g>\n   <g id=\"patch_8\">\n    <path clip-path=\"url(#p26b2d8ee53)\" d=\"M 314.279377 170.28 \nL 355.689396 170.28 \nL 355.689396 168.345272 \nL 314.279377 168.345272 \nz\n\" style=\"fill:#1f77b4;\"/>\n   </g>\n   <g id=\"patch_9\">\n    <path clip-path=\"url(#p26b2d8ee53)\" d=\"M 366.041901 170.28 \nL 407.451919 170.28 \nL 407.451919 169.679088 \nL 366.041901 169.679088 \nz\n\" style=\"fill:#1f77b4;\"/>\n   </g>\n   <g id=\"patch_10\">\n    <path clip-path=\"url(#p26b2d8ee53)\" d=\"M 417.804424 170.28 \nL 459.214442 170.28 \nL 459.214442 170.167691 \nL 417.804424 170.167691 \nz\n\" style=\"fill:#1f77b4;\"/>\n   </g>\n   <g id=\"patch_11\">\n    <path clip-path=\"url(#p26b2d8ee53)\" d=\"M 469.566947 170.28 \nL 510.976965 170.28 \nL 510.976965 170.262054 \nL 469.566947 170.262054 \nz\n\" style=\"fill:#1f77b4;\"/>\n   </g>\n   <g id=\"patch_12\">\n    <path clip-path=\"url(#p26b2d8ee53)\" d=\"M 521.32947 170.28 \nL 562.739489 170.28 \nL 562.739489 170.278842 \nL 521.32947 170.278842 \nz\n\" style=\"fill:#1f77b4;\"/>\n   </g>\n   <g id=\"matplotlib.axis_1\">\n    <g id=\"xtick_1\">\n     <g id=\"line2d_1\">\n      <defs>\n       <path d=\"M 0 0 \nL 0 3.5 \n\" id=\"m9d1bd20ce4\" style=\"stroke:#000000;stroke-width:0.8;\"/>\n      </defs>\n      <g>\n       <use style=\"stroke:#000000;stroke-width:0.8;\" x=\"76.171771\" xlink:href=\"#m9d1bd20ce4\" y=\"170.28\"/>\n      </g>\n     </g>\n     <g id=\"text_1\">\n      <!-- 0 -->\n      <defs>\n       <path d=\"M 31.78125 66.40625 \nQ 24.171875 66.40625 20.328125 58.90625 \nQ 16.5 51.421875 16.5 36.375 \nQ 16.5 21.390625 20.328125 13.890625 \nQ 24.171875 6.390625 31.78125 6.390625 \nQ 39.453125 6.390625 43.28125 13.890625 \nQ 47.125 21.390625 47.125 36.375 \nQ 47.125 51.421875 43.28125 58.90625 \nQ 39.453125 66.40625 31.78125 66.40625 \nz\nM 31.78125 74.21875 \nQ 44.046875 74.21875 50.515625 64.515625 \nQ 56.984375 54.828125 56.984375 36.375 \nQ 56.984375 17.96875 50.515625 8.265625 \nQ 44.046875 -1.421875 31.78125 -1.421875 \nQ 19.53125 -1.421875 13.0625 8.265625 \nQ 6.59375 17.96875 6.59375 36.375 \nQ 6.59375 54.828125 13.0625 64.515625 \nQ 19.53125 74.21875 31.78125 74.21875 \nz\n\" id=\"DejaVuSans-48\"/>\n      </defs>\n      <g transform=\"translate(72.990521 184.878438)scale(0.1 -0.1)\">\n       <use xlink:href=\"#DejaVuSans-48\"/>\n      </g>\n     </g>\n    </g>\n    <g id=\"xtick_2\">\n     <g id=\"line2d_2\">\n      <g>\n       <use style=\"stroke:#000000;stroke-width:0.8;\" x=\"179.696817\" xlink:href=\"#m9d1bd20ce4\" y=\"170.28\"/>\n      </g>\n     </g>\n     <g id=\"text_2\">\n      <!-- 2 -->\n      <defs>\n       <path d=\"M 19.1875 8.296875 \nL 53.609375 8.296875 \nL 53.609375 0 \nL 7.328125 0 \nL 7.328125 8.296875 \nQ 12.9375 14.109375 22.625 23.890625 \nQ 32.328125 33.6875 34.8125 36.53125 \nQ 39.546875 41.84375 41.421875 45.53125 \nQ 43.3125 49.21875 43.3125 52.78125 \nQ 43.3125 58.59375 39.234375 62.25 \nQ 35.15625 65.921875 28.609375 65.921875 \nQ 23.96875 65.921875 18.8125 64.3125 \nQ 13.671875 62.703125 7.8125 59.421875 \nL 7.8125 69.390625 \nQ 13.765625 71.78125 18.9375 73 \nQ 24.125 74.21875 28.421875 74.21875 \nQ 39.75 74.21875 46.484375 68.546875 \nQ 53.21875 62.890625 53.21875 53.421875 \nQ 53.21875 48.921875 51.53125 44.890625 \nQ 49.859375 40.875 45.40625 35.40625 \nQ 44.1875 33.984375 37.640625 27.21875 \nQ 31.109375 20.453125 19.1875 8.296875 \nz\n\" id=\"DejaVuSans-50\"/>\n      </defs>\n      <g transform=\"translate(176.515567 184.878438)scale(0.1 -0.1)\">\n       <use xlink:href=\"#DejaVuSans-50\"/>\n      </g>\n     </g>\n    </g>\n    <g id=\"xtick_3\">\n     <g id=\"line2d_3\">\n      <g>\n       <use style=\"stroke:#000000;stroke-width:0.8;\" x=\"283.221863\" xlink:href=\"#m9d1bd20ce4\" y=\"170.28\"/>\n      </g>\n     </g>\n     <g id=\"text_3\">\n      <!-- 4 -->\n      <defs>\n       <path d=\"M 37.796875 64.3125 \nL 12.890625 25.390625 \nL 37.796875 25.390625 \nz\nM 35.203125 72.90625 \nL 47.609375 72.90625 \nL 47.609375 25.390625 \nL 58.015625 25.390625 \nL 58.015625 17.1875 \nL 47.609375 17.1875 \nL 47.609375 0 \nL 37.796875 0 \nL 37.796875 17.1875 \nL 4.890625 17.1875 \nL 4.890625 26.703125 \nz\n\" id=\"DejaVuSans-52\"/>\n      </defs>\n      <g transform=\"translate(280.040613 184.878438)scale(0.1 -0.1)\">\n       <use xlink:href=\"#DejaVuSans-52\"/>\n      </g>\n     </g>\n    </g>\n    <g id=\"xtick_4\">\n     <g id=\"line2d_4\">\n      <g>\n       <use style=\"stroke:#000000;stroke-width:0.8;\" x=\"386.74691\" xlink:href=\"#m9d1bd20ce4\" y=\"170.28\"/>\n      </g>\n     </g>\n     <g id=\"text_4\">\n      <!-- 6 -->\n      <defs>\n       <path d=\"M 33.015625 40.375 \nQ 26.375 40.375 22.484375 35.828125 \nQ 18.609375 31.296875 18.609375 23.390625 \nQ 18.609375 15.53125 22.484375 10.953125 \nQ 26.375 6.390625 33.015625 6.390625 \nQ 39.65625 6.390625 43.53125 10.953125 \nQ 47.40625 15.53125 47.40625 23.390625 \nQ 47.40625 31.296875 43.53125 35.828125 \nQ 39.65625 40.375 33.015625 40.375 \nz\nM 52.59375 71.296875 \nL 52.59375 62.3125 \nQ 48.875 64.0625 45.09375 64.984375 \nQ 41.3125 65.921875 37.59375 65.921875 \nQ 27.828125 65.921875 22.671875 59.328125 \nQ 17.53125 52.734375 16.796875 39.40625 \nQ 19.671875 43.65625 24.015625 45.921875 \nQ 28.375 48.1875 33.59375 48.1875 \nQ 44.578125 48.1875 50.953125 41.515625 \nQ 57.328125 34.859375 57.328125 23.390625 \nQ 57.328125 12.15625 50.6875 5.359375 \nQ 44.046875 -1.421875 33.015625 -1.421875 \nQ 20.359375 -1.421875 13.671875 8.265625 \nQ 6.984375 17.96875 6.984375 36.375 \nQ 6.984375 53.65625 15.1875 63.9375 \nQ 23.390625 74.21875 37.203125 74.21875 \nQ 40.921875 74.21875 44.703125 73.484375 \nQ 48.484375 72.75 52.59375 71.296875 \nz\n\" id=\"DejaVuSans-54\"/>\n      </defs>\n      <g transform=\"translate(383.56566 184.878438)scale(0.1 -0.1)\">\n       <use xlink:href=\"#DejaVuSans-54\"/>\n      </g>\n     </g>\n    </g>\n    <g id=\"xtick_5\">\n     <g id=\"line2d_5\">\n      <g>\n       <use style=\"stroke:#000000;stroke-width:0.8;\" x=\"490.271956\" xlink:href=\"#m9d1bd20ce4\" y=\"170.28\"/>\n      </g>\n     </g>\n     <g id=\"text_5\">\n      <!-- 8 -->\n      <defs>\n       <path d=\"M 31.78125 34.625 \nQ 24.75 34.625 20.71875 30.859375 \nQ 16.703125 27.09375 16.703125 20.515625 \nQ 16.703125 13.921875 20.71875 10.15625 \nQ 24.75 6.390625 31.78125 6.390625 \nQ 38.8125 6.390625 42.859375 10.171875 \nQ 46.921875 13.96875 46.921875 20.515625 \nQ 46.921875 27.09375 42.890625 30.859375 \nQ 38.875 34.625 31.78125 34.625 \nz\nM 21.921875 38.8125 \nQ 15.578125 40.375 12.03125 44.71875 \nQ 8.5 49.078125 8.5 55.328125 \nQ 8.5 64.0625 14.71875 69.140625 \nQ 20.953125 74.21875 31.78125 74.21875 \nQ 42.671875 74.21875 48.875 69.140625 \nQ 55.078125 64.0625 55.078125 55.328125 \nQ 55.078125 49.078125 51.53125 44.71875 \nQ 48 40.375 41.703125 38.8125 \nQ 48.828125 37.15625 52.796875 32.3125 \nQ 56.78125 27.484375 56.78125 20.515625 \nQ 56.78125 9.90625 50.3125 4.234375 \nQ 43.84375 -1.421875 31.78125 -1.421875 \nQ 19.734375 -1.421875 13.25 4.234375 \nQ 6.78125 9.90625 6.78125 20.515625 \nQ 6.78125 27.484375 10.78125 32.3125 \nQ 14.796875 37.15625 21.921875 38.8125 \nz\nM 18.3125 54.390625 \nQ 18.3125 48.734375 21.84375 45.5625 \nQ 25.390625 42.390625 31.78125 42.390625 \nQ 38.140625 42.390625 41.71875 45.5625 \nQ 45.3125 48.734375 45.3125 54.390625 \nQ 45.3125 60.0625 41.71875 63.234375 \nQ 38.140625 66.40625 31.78125 66.40625 \nQ 25.390625 66.40625 21.84375 63.234375 \nQ 18.3125 60.0625 18.3125 54.390625 \nz\n\" id=\"DejaVuSans-56\"/>\n      </defs>\n      <g transform=\"translate(487.090706 184.878438)scale(0.1 -0.1)\">\n       <use xlink:href=\"#DejaVuSans-56\"/>\n      </g>\n     </g>\n    </g>\n   </g>\n   <g id=\"matplotlib.axis_2\">\n    <g id=\"ytick_1\">\n     <g id=\"line2d_6\">\n      <defs>\n       <path d=\"M 0 0 \nL -3.5 0 \n\" id=\"m366f3833a9\" style=\"stroke:#000000;stroke-width:0.8;\"/>\n      </defs>\n      <g>\n       <use style=\"stroke:#000000;stroke-width:0.8;\" x=\"30.103125\" xlink:href=\"#m366f3833a9\" y=\"170.28\"/>\n      </g>\n     </g>\n     <g id=\"text_6\">\n      <!-- 0.0 -->\n      <defs>\n       <path d=\"M 10.6875 12.40625 \nL 21 12.40625 \nL 21 0 \nL 10.6875 0 \nz\n\" id=\"DejaVuSans-46\"/>\n      </defs>\n      <g transform=\"translate(7.2 174.079219)scale(0.1 -0.1)\">\n       <use xlink:href=\"#DejaVuSans-48\"/>\n       <use x=\"63.623047\" xlink:href=\"#DejaVuSans-46\"/>\n       <use x=\"95.410156\" xlink:href=\"#DejaVuSans-48\"/>\n      </g>\n     </g>\n    </g>\n    <g id=\"ytick_2\">\n     <g id=\"line2d_7\">\n      <g>\n       <use style=\"stroke:#000000;stroke-width:0.8;\" x=\"30.103125\" xlink:href=\"#m366f3833a9\" y=\"144.634438\"/>\n      </g>\n     </g>\n     <g id=\"text_7\">\n      <!-- 0.1 -->\n      <defs>\n       <path d=\"M 12.40625 8.296875 \nL 28.515625 8.296875 \nL 28.515625 63.921875 \nL 10.984375 60.40625 \nL 10.984375 69.390625 \nL 28.421875 72.90625 \nL 38.28125 72.90625 \nL 38.28125 8.296875 \nL 54.390625 8.296875 \nL 54.390625 0 \nL 12.40625 0 \nz\n\" id=\"DejaVuSans-49\"/>\n      </defs>\n      <g transform=\"translate(7.2 148.433657)scale(0.1 -0.1)\">\n       <use xlink:href=\"#DejaVuSans-48\"/>\n       <use x=\"63.623047\" xlink:href=\"#DejaVuSans-46\"/>\n       <use x=\"95.410156\" xlink:href=\"#DejaVuSans-49\"/>\n      </g>\n     </g>\n    </g>\n    <g id=\"ytick_3\">\n     <g id=\"line2d_8\">\n      <g>\n       <use style=\"stroke:#000000;stroke-width:0.8;\" x=\"30.103125\" xlink:href=\"#m366f3833a9\" y=\"118.988876\"/>\n      </g>\n     </g>\n     <g id=\"text_8\">\n      <!-- 0.2 -->\n      <g transform=\"translate(7.2 122.788095)scale(0.1 -0.1)\">\n       <use xlink:href=\"#DejaVuSans-48\"/>\n       <use x=\"63.623047\" xlink:href=\"#DejaVuSans-46\"/>\n       <use x=\"95.410156\" xlink:href=\"#DejaVuSans-50\"/>\n      </g>\n     </g>\n    </g>\n    <g id=\"ytick_4\">\n     <g id=\"line2d_9\">\n      <g>\n       <use style=\"stroke:#000000;stroke-width:0.8;\" x=\"30.103125\" xlink:href=\"#m366f3833a9\" y=\"93.343315\"/>\n      </g>\n     </g>\n     <g id=\"text_9\">\n      <!-- 0.3 -->\n      <defs>\n       <path d=\"M 40.578125 39.3125 \nQ 47.65625 37.796875 51.625 33 \nQ 55.609375 28.21875 55.609375 21.1875 \nQ 55.609375 10.40625 48.1875 4.484375 \nQ 40.765625 -1.421875 27.09375 -1.421875 \nQ 22.515625 -1.421875 17.65625 -0.515625 \nQ 12.796875 0.390625 7.625 2.203125 \nL 7.625 11.71875 \nQ 11.71875 9.328125 16.59375 8.109375 \nQ 21.484375 6.890625 26.8125 6.890625 \nQ 36.078125 6.890625 40.9375 10.546875 \nQ 45.796875 14.203125 45.796875 21.1875 \nQ 45.796875 27.640625 41.28125 31.265625 \nQ 36.765625 34.90625 28.71875 34.90625 \nL 20.21875 34.90625 \nL 20.21875 43.015625 \nL 29.109375 43.015625 \nQ 36.375 43.015625 40.234375 45.921875 \nQ 44.09375 48.828125 44.09375 54.296875 \nQ 44.09375 59.90625 40.109375 62.90625 \nQ 36.140625 65.921875 28.71875 65.921875 \nQ 24.65625 65.921875 20.015625 65.03125 \nQ 15.375 64.15625 9.8125 62.3125 \nL 9.8125 71.09375 \nQ 15.4375 72.65625 20.34375 73.4375 \nQ 25.25 74.21875 29.59375 74.21875 \nQ 40.828125 74.21875 47.359375 69.109375 \nQ 53.90625 64.015625 53.90625 55.328125 \nQ 53.90625 49.265625 50.4375 45.09375 \nQ 46.96875 40.921875 40.578125 39.3125 \nz\n\" id=\"DejaVuSans-51\"/>\n      </defs>\n      <g transform=\"translate(7.2 97.142533)scale(0.1 -0.1)\">\n       <use xlink:href=\"#DejaVuSans-48\"/>\n       <use x=\"63.623047\" xlink:href=\"#DejaVuSans-46\"/>\n       <use x=\"95.410156\" xlink:href=\"#DejaVuSans-51\"/>\n      </g>\n     </g>\n    </g>\n    <g id=\"ytick_5\">\n     <g id=\"line2d_10\">\n      <g>\n       <use style=\"stroke:#000000;stroke-width:0.8;\" x=\"30.103125\" xlink:href=\"#m366f3833a9\" y=\"67.697753\"/>\n      </g>\n     </g>\n     <g id=\"text_10\">\n      <!-- 0.4 -->\n      <g transform=\"translate(7.2 71.496971)scale(0.1 -0.1)\">\n       <use xlink:href=\"#DejaVuSans-48\"/>\n       <use x=\"63.623047\" xlink:href=\"#DejaVuSans-46\"/>\n       <use x=\"95.410156\" xlink:href=\"#DejaVuSans-52\"/>\n      </g>\n     </g>\n    </g>\n    <g id=\"ytick_6\">\n     <g id=\"line2d_11\">\n      <g>\n       <use style=\"stroke:#000000;stroke-width:0.8;\" x=\"30.103125\" xlink:href=\"#m366f3833a9\" y=\"42.052191\"/>\n      </g>\n     </g>\n     <g id=\"text_11\">\n      <!-- 0.5 -->\n      <defs>\n       <path d=\"M 10.796875 72.90625 \nL 49.515625 72.90625 \nL 49.515625 64.59375 \nL 19.828125 64.59375 \nL 19.828125 46.734375 \nQ 21.96875 47.46875 24.109375 47.828125 \nQ 26.265625 48.1875 28.421875 48.1875 \nQ 40.625 48.1875 47.75 41.5 \nQ 54.890625 34.8125 54.890625 23.390625 \nQ 54.890625 11.625 47.5625 5.09375 \nQ 40.234375 -1.421875 26.90625 -1.421875 \nQ 22.3125 -1.421875 17.546875 -0.640625 \nQ 12.796875 0.140625 7.71875 1.703125 \nL 7.71875 11.625 \nQ 12.109375 9.234375 16.796875 8.0625 \nQ 21.484375 6.890625 26.703125 6.890625 \nQ 35.15625 6.890625 40.078125 11.328125 \nQ 45.015625 15.765625 45.015625 23.390625 \nQ 45.015625 31 40.078125 35.4375 \nQ 35.15625 39.890625 26.703125 39.890625 \nQ 22.75 39.890625 18.8125 39.015625 \nQ 14.890625 38.140625 10.796875 36.28125 \nz\n\" id=\"DejaVuSans-53\"/>\n      </defs>\n      <g transform=\"translate(7.2 45.85141)scale(0.1 -0.1)\">\n       <use xlink:href=\"#DejaVuSans-48\"/>\n       <use x=\"63.623047\" xlink:href=\"#DejaVuSans-46\"/>\n       <use x=\"95.410156\" xlink:href=\"#DejaVuSans-53\"/>\n      </g>\n     </g>\n    </g>\n    <g id=\"ytick_7\">\n     <g id=\"line2d_12\">\n      <g>\n       <use style=\"stroke:#000000;stroke-width:0.8;\" x=\"30.103125\" xlink:href=\"#m366f3833a9\" y=\"16.406629\"/>\n      </g>\n     </g>\n     <g id=\"text_12\">\n      <!-- 0.6 -->\n      <g transform=\"translate(7.2 20.205848)scale(0.1 -0.1)\">\n       <use xlink:href=\"#DejaVuSans-48\"/>\n       <use x=\"63.623047\" xlink:href=\"#DejaVuSans-46\"/>\n       <use x=\"95.410156\" xlink:href=\"#DejaVuSans-54\"/>\n      </g>\n     </g>\n    </g>\n   </g>\n   <g id=\"patch_13\">\n    <path d=\"M 30.103125 170.28 \nL 30.103125 7.2 \n\" style=\"fill:none;stroke:#000000;stroke-linecap:square;stroke-linejoin:miter;stroke-width:0.8;\"/>\n   </g>\n   <g id=\"patch_14\">\n    <path d=\"M 588.103125 170.28 \nL 588.103125 7.2 \n\" style=\"fill:none;stroke:#000000;stroke-linecap:square;stroke-linejoin:miter;stroke-width:0.8;\"/>\n   </g>\n   <g id=\"patch_15\">\n    <path d=\"M 30.103125 170.28 \nL 588.103125 170.28 \n\" style=\"fill:none;stroke:#000000;stroke-linecap:square;stroke-linejoin:miter;stroke-width:0.8;\"/>\n   </g>\n   <g id=\"patch_16\">\n    <path d=\"M 30.103125 7.2 \nL 588.103125 7.2 \n\" style=\"fill:none;stroke:#000000;stroke-linecap:square;stroke-linejoin:miter;stroke-width:0.8;\"/>\n   </g>\n  </g>\n </g>\n <defs>\n  <clipPath id=\"p26b2d8ee53\">\n   <rect height=\"163.08\" width=\"558\" x=\"30.103125\" y=\"7.2\"/>\n  </clipPath>\n </defs>\n</svg>\n",
      "image/png": "[encoded data removed]"
     },
     "metadata": {
      "needs_background": "light"
     }
    }
   ],
   "source": [
    "products_by_customer = products_df[ boolean_cols ].sum(axis=1).value_counts().sort_index()\n",
    "\n",
    "display(products_by_customer)\n",
    "\n",
    "products_by_customer = products_df[ boolean_cols ].sum(axis=1).value_counts(normalize=True).sort_index()\n",
    "fig, ax = plt.subplots(figsize=[10,3])\n",
    "ax.bar(products_by_customer.index, products_by_customer[:])\n",
    "plt.show()"
   ]
  },
  {
   "cell_type": "code",
   "execution_count": 41,
   "metadata": {},
   "outputs": [
    {
     "output_type": "execute_result",
     "data": {
      "text/plain": [
       "0    111407\n",
       "1    268286\n",
       "2     38714\n",
       "3     11502\n",
       "4      8479\n",
       "5      3342\n",
       "6      1038\n",
       "7       194\n",
       "8        31\n",
       "9         2\n",
       "dtype: int64"
      ]
     },
     "metadata": {},
     "execution_count": 41
    }
   ],
   "source": [
    "products_by_customer"
   ]
  },
  {
   "cell_type": "code",
   "execution_count": null,
   "metadata": {},
   "outputs": [],
   "source": []
  },
  {
   "cell_type": "code",
   "execution_count": 47,
   "metadata": {},
   "outputs": [],
   "source": [
    "boolean_cols = [\"short_term_deposit\", \"loans\", \"mortgage\", \"funds\", \"securities\", \"long_term_deposit\", \"em_account_pp\", \"credit_card\", \"payroll_account\", \"emc_account\", \"debit_card\", \"em_account_p\", \"em_acount\", \"payroll\", \"pension_plan\"]\n",
    "\n",
    "vector = np.arange(len(boolean_cols))\n",
    "comb_2 = []\n",
    "\n",
    "for x in vector:\n",
    "    for y in vector[vector > x]:\n",
    "        comb_2.append([x,y])"
   ]
  },
  {
   "cell_type": "code",
   "execution_count": 145,
   "metadata": {},
   "outputs": [
    {
     "output_type": "display_data",
     "data": {
      "text/plain": "            producto_1         producto_2  total total_1 total_2\n0   short_term_deposit  long_term_deposit      2       2    6129\n1   short_term_deposit        emc_account      1       2   24751\n2   short_term_deposit         debit_card      1       2   43261\n3   short_term_deposit          em_acount      2       2  296380\n4                loans  long_term_deposit      1      30    6129\n..                 ...                ...    ...     ...     ...\n64          debit_card       pension_plan  11120   43261   17353\n65        em_account_p          em_acount      1       2  296380\n66           em_acount            payroll   1312  296380   16333\n67           em_acount       pension_plan   1362  296380   17353\n68             payroll       pension_plan  16333   16333   17353\n\n[69 rows x 5 columns]",
      "text/html": "<div>\n<style scoped>\n    .dataframe tbody tr th:only-of-type {\n        vertical-align: middle;\n    }\n\n    .dataframe tbody tr th {\n        vertical-align: top;\n    }\n\n    .dataframe thead th {\n        text-align: right;\n    }\n</style>\n<table border=\"1\" class=\"dataframe\">\n  <thead>\n    <tr style=\"text-align: right;\">\n      <th></th>\n      <th>producto_1</th>\n      <th>producto_2</th>\n      <th>total</th>\n      <th>total_1</th>\n      <th>total_2</th>\n    </tr>\n  </thead>\n  <tbody>\n    <tr>\n      <th>0</th>\n      <td>short_term_deposit</td>\n      <td>long_term_deposit</td>\n      <td>2</td>\n      <td>2</td>\n      <td>6129</td>\n    </tr>\n    <tr>\n      <th>1</th>\n      <td>short_term_deposit</td>\n      <td>emc_account</td>\n      <td>1</td>\n      <td>2</td>\n      <td>24751</td>\n    </tr>\n    <tr>\n      <th>2</th>\n      <td>short_term_deposit</td>\n      <td>debit_card</td>\n      <td>1</td>\n      <td>2</td>\n      <td>43261</td>\n    </tr>\n    <tr>\n      <th>3</th>\n      <td>short_term_deposit</td>\n      <td>em_acount</td>\n      <td>2</td>\n      <td>2</td>\n      <td>296380</td>\n    </tr>\n    <tr>\n      <th>4</th>\n      <td>loans</td>\n      <td>long_term_deposit</td>\n      <td>1</td>\n      <td>30</td>\n      <td>6129</td>\n    </tr>\n    <tr>\n      <th>...</th>\n      <td>...</td>\n      <td>...</td>\n      <td>...</td>\n      <td>...</td>\n      <td>...</td>\n    </tr>\n    <tr>\n      <th>64</th>\n      <td>debit_card</td>\n      <td>pension_plan</td>\n      <td>11120</td>\n      <td>43261</td>\n      <td>17353</td>\n    </tr>\n    <tr>\n      <th>65</th>\n      <td>em_account_p</td>\n      <td>em_acount</td>\n      <td>1</td>\n      <td>2</td>\n      <td>296380</td>\n    </tr>\n    <tr>\n      <th>66</th>\n      <td>em_acount</td>\n      <td>payroll</td>\n      <td>1312</td>\n      <td>296380</td>\n      <td>16333</td>\n    </tr>\n    <tr>\n      <th>67</th>\n      <td>em_acount</td>\n      <td>pension_plan</td>\n      <td>1362</td>\n      <td>296380</td>\n      <td>17353</td>\n    </tr>\n    <tr>\n      <th>68</th>\n      <td>payroll</td>\n      <td>pension_plan</td>\n      <td>16333</td>\n      <td>16333</td>\n      <td>17353</td>\n    </tr>\n  </tbody>\n</table>\n<p>69 rows × 5 columns</p>\n</div>"
     },
     "metadata": {}
    }
   ],
   "source": [
    "two_pack = pd.DataFrame(columns=['producto_1','producto_2','total','total_1','total_2'])\n",
    "for x, y in comb_2:\n",
    "    col_x = boolean_cols[x]\n",
    "    col_y = boolean_cols[y]\n",
    "    df_x = products_df.loc[ (products_df[ col_x ] == True) ]\n",
    "    df_y = products_df.loc[ (products_df[ col_y ] == True) ]\n",
    "    df = products_df.loc[ (products_df[ col_x ] == True) & (products_df[ col_y ] == True) ]\n",
    "    if df.shape[0] != 0:\n",
    "       # pd.concat([pd.DataFrame([i], columns=['A']) for i in range(5)],\n",
    "       #   ignore_index=True)\n",
    "        df_ = pd.DataFrame( {'producto_1':col_x, 'producto_2':col_y, 'total':df.shape[0], 'total_1': df_x.shape[0] ,'total_2': df_y.shape[0] }, index=[0] )\n",
    "        two_pack = pd.concat( [two_pack, df_], ignore_index=True) \n",
    "\n",
    "display(two_pack)"
   ]
  },
  {
   "cell_type": "code",
   "execution_count": 146,
   "metadata": {},
   "outputs": [
    {
     "output_type": "display_data",
     "data": {
      "text/plain": "         producto_1    producto_2  total total_1 total_2   prop_1   prop_2\n62       debit_card     em_acount  27484   43261  296380  63.5307  9.27323\n68          payroll  pension_plan  16333   16333   17353      100  94.1221\n56  payroll_account  pension_plan  16240   26529   17353   61.216  93.5861\n55  payroll_account       payroll  15319   26529   16333  57.7444  93.7917\n52  payroll_account    debit_card  15075   26529   43261  56.8246  34.8466\n58      emc_account     em_acount  13145   24751  296380   53.109  4.43518\n64       debit_card  pension_plan  11120   43261   17353  25.7044  64.0811\n63       debit_card       payroll  10521   43261   16333  24.3198  64.4156\n57      emc_account    debit_card   6948   24751   43261  28.0716  16.0607\n51  payroll_account   emc_account   5375   26529   24751  20.2608  21.7163",
      "text/html": "<div>\n<style scoped>\n    .dataframe tbody tr th:only-of-type {\n        vertical-align: middle;\n    }\n\n    .dataframe tbody tr th {\n        vertical-align: top;\n    }\n\n    .dataframe thead th {\n        text-align: right;\n    }\n</style>\n<table border=\"1\" class=\"dataframe\">\n  <thead>\n    <tr style=\"text-align: right;\">\n      <th></th>\n      <th>producto_1</th>\n      <th>producto_2</th>\n      <th>total</th>\n      <th>total_1</th>\n      <th>total_2</th>\n      <th>prop_1</th>\n      <th>prop_2</th>\n    </tr>\n  </thead>\n  <tbody>\n    <tr>\n      <th>62</th>\n      <td>debit_card</td>\n      <td>em_acount</td>\n      <td>27484</td>\n      <td>43261</td>\n      <td>296380</td>\n      <td>63.5307</td>\n      <td>9.27323</td>\n    </tr>\n    <tr>\n      <th>68</th>\n      <td>payroll</td>\n      <td>pension_plan</td>\n      <td>16333</td>\n      <td>16333</td>\n      <td>17353</td>\n      <td>100</td>\n      <td>94.1221</td>\n    </tr>\n    <tr>\n      <th>56</th>\n      <td>payroll_account</td>\n      <td>pension_plan</td>\n      <td>16240</td>\n      <td>26529</td>\n      <td>17353</td>\n      <td>61.216</td>\n      <td>93.5861</td>\n    </tr>\n    <tr>\n      <th>55</th>\n      <td>payroll_account</td>\n      <td>payroll</td>\n      <td>15319</td>\n      <td>26529</td>\n      <td>16333</td>\n      <td>57.7444</td>\n      <td>93.7917</td>\n    </tr>\n    <tr>\n      <th>52</th>\n      <td>payroll_account</td>\n      <td>debit_card</td>\n      <td>15075</td>\n      <td>26529</td>\n      <td>43261</td>\n      <td>56.8246</td>\n      <td>34.8466</td>\n    </tr>\n    <tr>\n      <th>58</th>\n      <td>emc_account</td>\n      <td>em_acount</td>\n      <td>13145</td>\n      <td>24751</td>\n      <td>296380</td>\n      <td>53.109</td>\n      <td>4.43518</td>\n    </tr>\n    <tr>\n      <th>64</th>\n      <td>debit_card</td>\n      <td>pension_plan</td>\n      <td>11120</td>\n      <td>43261</td>\n      <td>17353</td>\n      <td>25.7044</td>\n      <td>64.0811</td>\n    </tr>\n    <tr>\n      <th>63</th>\n      <td>debit_card</td>\n      <td>payroll</td>\n      <td>10521</td>\n      <td>43261</td>\n      <td>16333</td>\n      <td>24.3198</td>\n      <td>64.4156</td>\n    </tr>\n    <tr>\n      <th>57</th>\n      <td>emc_account</td>\n      <td>debit_card</td>\n      <td>6948</td>\n      <td>24751</td>\n      <td>43261</td>\n      <td>28.0716</td>\n      <td>16.0607</td>\n    </tr>\n    <tr>\n      <th>51</th>\n      <td>payroll_account</td>\n      <td>emc_account</td>\n      <td>5375</td>\n      <td>26529</td>\n      <td>24751</td>\n      <td>20.2608</td>\n      <td>21.7163</td>\n    </tr>\n  </tbody>\n</table>\n</div>"
     },
     "metadata": {}
    }
   ],
   "source": [
    "two_pack['prop_1'] = two_pack['total'] / two_pack['total_1'] * 100\n",
    "two_pack['prop_2'] = two_pack['total'] / two_pack['total_2'] * 100\n",
    "\n",
    "display(two_pack.sort_values('total', ascending=False).head(10))"
   ]
  },
  {
   "cell_type": "code",
   "execution_count": 147,
   "metadata": {},
   "outputs": [
    {
     "output_type": "error",
     "ename": "KeyError",
     "evalue": "'prop'",
     "traceback": [
      "\u001b[0;31m---------------------------------------------------------------------------\u001b[0m",
      "\u001b[0;31mKeyError\u001b[0m                                  Traceback (most recent call last)",
      "\u001b[0;32m<ipython-input-147-857b695ab2f5>\u001b[0m in \u001b[0;36m<module>\u001b[0;34m\u001b[0m\n\u001b[1;32m      1\u001b[0m \u001b[0mtwo_pack\u001b[0m\u001b[0;34m[\u001b[0m \u001b[0mtwo_pack\u001b[0m\u001b[0;34m[\u001b[0m\u001b[0;34m'prop_1'\u001b[0m\u001b[0;34m]\u001b[0m \u001b[0;34m>\u001b[0m \u001b[0mtwo_pack\u001b[0m\u001b[0;34m[\u001b[0m\u001b[0;34m'prop_2'\u001b[0m\u001b[0;34m]\u001b[0m \u001b[0;34m]\u001b[0m\u001b[0;34m[\u001b[0m\u001b[0;34m[\u001b[0m\u001b[0;34m'prop'\u001b[0m\u001b[0;34m]\u001b[0m\u001b[0;34m]\u001b[0m \u001b[0;34m=\u001b[0m \u001b[0mtwo_pack\u001b[0m\u001b[0;34m[\u001b[0m \u001b[0mtwo_pack\u001b[0m\u001b[0;34m[\u001b[0m\u001b[0;34m'prop_1'\u001b[0m\u001b[0;34m]\u001b[0m \u001b[0;34m>\u001b[0m \u001b[0mtwo_pack\u001b[0m\u001b[0;34m[\u001b[0m\u001b[0;34m'prop_2'\u001b[0m\u001b[0;34m]\u001b[0m \u001b[0;34m]\u001b[0m\u001b[0;34m[\u001b[0m\u001b[0;34m[\u001b[0m\u001b[0;34m'prop_1'\u001b[0m\u001b[0;34m]\u001b[0m\u001b[0;34m]\u001b[0m\u001b[0;34m\u001b[0m\u001b[0;34m\u001b[0m\u001b[0m\n\u001b[1;32m      2\u001b[0m \u001b[0mtwo_pack\u001b[0m\u001b[0;34m[\u001b[0m \u001b[0mtwo_pack\u001b[0m\u001b[0;34m[\u001b[0m\u001b[0;34m'prop_1'\u001b[0m\u001b[0;34m]\u001b[0m \u001b[0;34m<=\u001b[0m \u001b[0mtwo_pack\u001b[0m\u001b[0;34m[\u001b[0m\u001b[0;34m'prop_2'\u001b[0m\u001b[0;34m]\u001b[0m \u001b[0;34m]\u001b[0m\u001b[0;34m[\u001b[0m\u001b[0;34m[\u001b[0m\u001b[0;34m'prop'\u001b[0m\u001b[0;34m]\u001b[0m\u001b[0;34m]\u001b[0m \u001b[0;34m=\u001b[0m \u001b[0mtwo_pack\u001b[0m\u001b[0;34m[\u001b[0m \u001b[0mtwo_pack\u001b[0m\u001b[0;34m[\u001b[0m\u001b[0;34m'prop_1'\u001b[0m\u001b[0;34m]\u001b[0m \u001b[0;34m<=\u001b[0m \u001b[0mtwo_pack\u001b[0m\u001b[0;34m[\u001b[0m\u001b[0;34m'prop_2'\u001b[0m\u001b[0;34m]\u001b[0m \u001b[0;34m]\u001b[0m\u001b[0;34m[\u001b[0m\u001b[0;34m[\u001b[0m\u001b[0;34m'prop_2'\u001b[0m\u001b[0;34m]\u001b[0m\u001b[0;34m]\u001b[0m\u001b[0;34m\u001b[0m\u001b[0;34m\u001b[0m\u001b[0m\n\u001b[0;32m----> 3\u001b[0;31m \u001b[0mdisplay\u001b[0m\u001b[0;34m(\u001b[0m\u001b[0mtwo_pack\u001b[0m\u001b[0;34m.\u001b[0m\u001b[0msort_values\u001b[0m\u001b[0;34m(\u001b[0m\u001b[0;34m'prop'\u001b[0m\u001b[0;34m,\u001b[0m \u001b[0mascending\u001b[0m\u001b[0;34m=\u001b[0m\u001b[0;32mFalse\u001b[0m\u001b[0;34m)\u001b[0m\u001b[0;34m.\u001b[0m\u001b[0mhead\u001b[0m\u001b[0;34m(\u001b[0m\u001b[0;36m20\u001b[0m\u001b[0;34m)\u001b[0m\u001b[0;34m)\u001b[0m\u001b[0;34m\u001b[0m\u001b[0;34m\u001b[0m\u001b[0m\n\u001b[0m",
      "\u001b[0;32m/opt/anaconda3/lib/python3.8/site-packages/pandas/core/frame.py\u001b[0m in \u001b[0;36msort_values\u001b[0;34m(self, by, axis, ascending, inplace, kind, na_position, ignore_index)\u001b[0m\n\u001b[1;32m   4925\u001b[0m \u001b[0;34m\u001b[0m\u001b[0m\n\u001b[1;32m   4926\u001b[0m             \u001b[0mby\u001b[0m \u001b[0;34m=\u001b[0m \u001b[0mby\u001b[0m\u001b[0;34m[\u001b[0m\u001b[0;36m0\u001b[0m\u001b[0;34m]\u001b[0m\u001b[0;34m\u001b[0m\u001b[0;34m\u001b[0m\u001b[0m\n\u001b[0;32m-> 4927\u001b[0;31m             \u001b[0mk\u001b[0m \u001b[0;34m=\u001b[0m \u001b[0mself\u001b[0m\u001b[0;34m.\u001b[0m\u001b[0m_get_label_or_level_values\u001b[0m\u001b[0;34m(\u001b[0m\u001b[0mby\u001b[0m\u001b[0;34m,\u001b[0m \u001b[0maxis\u001b[0m\u001b[0;34m=\u001b[0m\u001b[0maxis\u001b[0m\u001b[0;34m)\u001b[0m\u001b[0;34m\u001b[0m\u001b[0;34m\u001b[0m\u001b[0m\n\u001b[0m\u001b[1;32m   4928\u001b[0m \u001b[0;34m\u001b[0m\u001b[0m\n\u001b[1;32m   4929\u001b[0m             \u001b[0;32mif\u001b[0m \u001b[0misinstance\u001b[0m\u001b[0;34m(\u001b[0m\u001b[0mascending\u001b[0m\u001b[0;34m,\u001b[0m \u001b[0;34m(\u001b[0m\u001b[0mtuple\u001b[0m\u001b[0;34m,\u001b[0m \u001b[0mlist\u001b[0m\u001b[0;34m)\u001b[0m\u001b[0;34m)\u001b[0m\u001b[0;34m:\u001b[0m\u001b[0;34m\u001b[0m\u001b[0;34m\u001b[0m\u001b[0m\n",
      "\u001b[0;32m/opt/anaconda3/lib/python3.8/site-packages/pandas/core/generic.py\u001b[0m in \u001b[0;36m_get_label_or_level_values\u001b[0;34m(self, key, axis)\u001b[0m\n\u001b[1;32m   1690\u001b[0m             \u001b[0mvalues\u001b[0m \u001b[0;34m=\u001b[0m \u001b[0mself\u001b[0m\u001b[0;34m.\u001b[0m\u001b[0maxes\u001b[0m\u001b[0;34m[\u001b[0m\u001b[0maxis\u001b[0m\u001b[0;34m]\u001b[0m\u001b[0;34m.\u001b[0m\u001b[0mget_level_values\u001b[0m\u001b[0;34m(\u001b[0m\u001b[0mkey\u001b[0m\u001b[0;34m)\u001b[0m\u001b[0;34m.\u001b[0m\u001b[0m_values\u001b[0m\u001b[0;34m\u001b[0m\u001b[0;34m\u001b[0m\u001b[0m\n\u001b[1;32m   1691\u001b[0m         \u001b[0;32melse\u001b[0m\u001b[0;34m:\u001b[0m\u001b[0;34m\u001b[0m\u001b[0;34m\u001b[0m\u001b[0m\n\u001b[0;32m-> 1692\u001b[0;31m             \u001b[0;32mraise\u001b[0m \u001b[0mKeyError\u001b[0m\u001b[0;34m(\u001b[0m\u001b[0mkey\u001b[0m\u001b[0;34m)\u001b[0m\u001b[0;34m\u001b[0m\u001b[0;34m\u001b[0m\u001b[0m\n\u001b[0m\u001b[1;32m   1693\u001b[0m \u001b[0;34m\u001b[0m\u001b[0m\n\u001b[1;32m   1694\u001b[0m         \u001b[0;31m# Check for duplicates\u001b[0m\u001b[0;34m\u001b[0m\u001b[0;34m\u001b[0m\u001b[0;34m\u001b[0m\u001b[0m\n",
      "\u001b[0;31mKeyError\u001b[0m: 'prop'"
     ]
    }
   ],
   "source": [
    "two_pack[ two_pack['prop_1'] > two_pack['prop_2'] ][['prop']] = two_pack[ two_pack['prop_1'] > two_pack['prop_2'] ][['prop_1']]\n",
    "two_pack[ two_pack['prop_1'] <= two_pack['prop_2'] ][['prop']] = two_pack[ two_pack['prop_1'] <= two_pack['prop_2'] ][['prop_2']]\n",
    "display(two_pack.sort_values('prop', ascending=False).head(20))"
   ]
  },
  {
   "cell_type": "code",
   "execution_count": 149,
   "metadata": {
    "tags": []
   },
   "outputs": [
    {
     "output_type": "stream",
     "name": "stdout",
     "text": [
      "Usuarios (2) que han comprado short_term_deposit... \n",
      " También han comprado: \n",
      " - *** long_term_deposit 2 veces ( 100.000000 % )\n",
      " - *** emc_account 1 veces ( 50.000000 % )\n",
      " - *** debit_card 1 veces ( 50.000000 % )\n",
      " - *** em_acount 2 veces ( 100.000000 % )\n",
      "\n",
      "\n",
      "Usuarios (30) que han comprado loans... \n",
      " También han comprado: \n",
      " - long_term_deposit 1 veces ( 3.333333 % )\n",
      " - credit_card 13 veces ( 43.333333 % )\n",
      " - payroll_account 13 veces ( 43.333333 % )\n",
      " - emc_account 7 veces ( 23.333333 % )\n",
      " - *** debit_card 23 veces ( 76.666667 % )\n",
      " - em_acount 14 veces ( 46.666667 % )\n",
      " - payroll 11 veces ( 36.666667 % )\n",
      " - pension_plan 12 veces ( 40.000000 % )\n",
      "\n",
      "\n",
      "Usuarios (23) que han comprado mortgage... \n",
      " También han comprado: \n",
      " - funds 1 veces ( 4.347826 % )\n",
      " - credit_card 10 veces ( 43.478261 % )\n",
      " - *** payroll_account 16 veces ( 69.565217 % )\n",
      " - emc_account 8 veces ( 34.782609 % )\n",
      " - *** debit_card 18 veces ( 78.260870 % )\n",
      " - em_acount 5 veces ( 21.739130 % )\n",
      " - *** payroll 16 veces ( 69.565217 % )\n",
      " - *** pension_plan 16 veces ( 69.565217 % )\n",
      "\n",
      "\n",
      "Usuarios (1315) que han comprado funds... \n",
      " También han comprado: \n",
      " - mortgage 1 veces ( 0.076046 % )\n",
      " - securities 152 veces ( 11.558935 % )\n",
      " - long_term_deposit 375 veces ( 28.517110 % )\n",
      " - credit_card 102 veces ( 7.756654 % )\n",
      " - payroll_account 225 veces ( 17.110266 % )\n",
      " - emc_account 596 veces ( 45.323194 % )\n",
      " - debit_card 289 veces ( 21.977186 % )\n",
      " - *** em_acount 919 veces ( 69.885932 % )\n",
      " - payroll 140 veces ( 10.646388 % )\n",
      " - pension_plan 154 veces ( 11.711027 % )\n",
      "\n",
      "\n",
      "Usuarios (1789) que han comprado securities... \n",
      " También han comprado: \n",
      " - funds 152 veces ( 8.496367 % )\n",
      " - long_term_deposit 128 veces ( 7.154835 % )\n",
      " - credit_card 190 veces ( 10.620458 % )\n",
      " - payroll_account 358 veces ( 20.011179 % )\n",
      " - emc_account 655 veces ( 36.612633 % )\n",
      " - debit_card 714 veces ( 39.910565 % )\n",
      " - em_account_p 1 veces ( 0.055897 % )\n",
      " - *** em_acount 1384 veces ( 77.361655 % )\n",
      " - payroll 291 veces ( 16.266070 % )\n",
      " - pension_plan 313 veces ( 17.495808 % )\n",
      "\n",
      "\n",
      "Usuarios (6129) que han comprado long_term_deposit... \n",
      " También han comprado: \n",
      " - short_term_deposit 2 veces ( 0.032632 % )\n",
      " - loans 1 veces ( 0.016316 % )\n",
      " - funds 375 veces ( 6.118453 % )\n",
      " - securities 128 veces ( 2.088432 % )\n",
      " - credit_card 244 veces ( 3.981074 % )\n",
      " - payroll_account 569 veces ( 9.283733 % )\n",
      " - emc_account 2405 veces ( 39.239680 % )\n",
      " - debit_card 770 veces ( 12.563224 % )\n",
      " - *** em_acount 3968 veces ( 64.741393 % )\n",
      " - payroll 345 veces ( 5.628977 % )\n",
      " - pension_plan 397 veces ( 6.477403 % )\n",
      "\n",
      "\n",
      "Usuarios (0) que han comprado em_account_pp... \n",
      " También han comprado: \n",
      "\n",
      "\n",
      "Usuarios (4801) que han comprado credit_card... \n",
      " También han comprado: \n",
      " - loans 13 veces ( 0.270777 % )\n",
      " - mortgage 10 veces ( 0.208290 % )\n",
      " - funds 102 veces ( 2.124557 % )\n",
      " - securities 190 veces ( 3.957509 % )\n",
      " - long_term_deposit 244 veces ( 5.082275 % )\n",
      " - *** payroll_account 2569 veces ( 53.509685 % )\n",
      " - emc_account 1768 veces ( 36.825661 % )\n",
      " - *** debit_card 3201 veces ( 66.673610 % )\n",
      " - em_acount 1834 veces ( 38.200375 % )\n",
      " - payroll 1903 veces ( 39.637576 % )\n",
      " - pension_plan 2034 veces ( 42.366174 % )\n",
      "\n",
      "\n",
      "Usuarios (26529) que han comprado payroll_account... \n",
      " También han comprado: \n",
      " - loans 13 veces ( 0.049003 % )\n",
      " - mortgage 16 veces ( 0.060311 % )\n",
      " - funds 225 veces ( 0.848128 % )\n",
      " - securities 358 veces ( 1.349467 % )\n",
      " - long_term_deposit 569 veces ( 2.144823 % )\n",
      " - credit_card 2569 veces ( 9.683742 % )\n",
      " - emc_account 5375 veces ( 20.260847 % )\n",
      " - *** debit_card 15075 veces ( 56.824607 % )\n",
      " - em_account_p 1 veces ( 0.003769 % )\n",
      " - em_acount 1054 veces ( 3.973011 % )\n",
      " - *** payroll 15319 veces ( 57.744355 % )\n",
      " - *** pension_plan 16240 veces ( 61.216028 % )\n",
      "\n",
      "\n",
      "Usuarios (24751) que han comprado emc_account... \n",
      " También han comprado: \n",
      " - short_term_deposit 1 veces ( 0.004040 % )\n",
      " - loans 7 veces ( 0.028282 % )\n",
      " - mortgage 8 veces ( 0.032322 % )\n",
      " - funds 596 veces ( 2.407984 % )\n",
      " - securities 655 veces ( 2.646358 % )\n",
      " - long_term_deposit 2405 veces ( 9.716779 % )\n",
      " - credit_card 1768 veces ( 7.143146 % )\n",
      " - payroll_account 5375 veces ( 21.716294 % )\n",
      " - debit_card 6948 veces ( 28.071593 % )\n",
      " - *** em_acount 13145 veces ( 53.108965 % )\n",
      " - payroll 3682 veces ( 14.876167 % )\n",
      " - pension_plan 3942 veces ( 15.926629 % )\n",
      "\n",
      "\n",
      "Usuarios (43261) que han comprado debit_card... \n",
      " También han comprado: \n",
      " - short_term_deposit 1 veces ( 0.002312 % )\n",
      " - loans 23 veces ( 0.053166 % )\n",
      " - mortgage 18 veces ( 0.041608 % )\n",
      " - funds 289 veces ( 0.668038 % )\n",
      " - securities 714 veces ( 1.650447 % )\n",
      " - long_term_deposit 770 veces ( 1.779894 % )\n",
      " - credit_card 3201 veces ( 7.399274 % )\n",
      " - payroll_account 15075 veces ( 34.846629 % )\n",
      " - emc_account 6948 veces ( 16.060655 % )\n",
      " - em_account_p 1 veces ( 0.002312 % )\n",
      " - *** em_acount 27484 veces ( 63.530663 % )\n",
      " - payroll 10521 veces ( 24.319826 % )\n",
      " - pension_plan 11120 veces ( 25.704445 % )\n",
      "\n",
      "\n",
      "Usuarios (2) que han comprado em_account_p... \n",
      " También han comprado: \n",
      " - *** securities 1 veces ( 50.000000 % )\n",
      " - *** payroll_account 1 veces ( 50.000000 % )\n",
      " - *** debit_card 1 veces ( 50.000000 % )\n",
      " - *** em_acount 1 veces ( 50.000000 % )\n",
      "\n",
      "\n",
      "Usuarios (296380) que han comprado em_acount... \n",
      " También han comprado: \n",
      " - short_term_deposit 2 veces ( 0.000675 % )\n",
      " - loans 14 veces ( 0.004724 % )\n",
      " - mortgage 5 veces ( 0.001687 % )\n",
      " - funds 919 veces ( 0.310075 % )\n",
      " - securities 1384 veces ( 0.466968 % )\n",
      " - long_term_deposit 3968 veces ( 1.338822 % )\n",
      " - credit_card 1834 veces ( 0.618800 % )\n",
      " - payroll_account 1054 veces ( 0.355625 % )\n",
      " - emc_account 13145 veces ( 4.435185 % )\n",
      " - debit_card 27484 veces ( 9.273230 % )\n",
      " - em_account_p 1 veces ( 0.000337 % )\n",
      " - payroll 1312 veces ( 0.442675 % )\n",
      " - pension_plan 1362 veces ( 0.459545 % )\n",
      "\n",
      "\n",
      "Usuarios (16333) que han comprado payroll... \n",
      " También han comprado: \n",
      " - loans 11 veces ( 0.067348 % )\n",
      " - mortgage 16 veces ( 0.097961 % )\n",
      " - funds 140 veces ( 0.857160 % )\n",
      " - securities 291 veces ( 1.781669 % )\n",
      " - long_term_deposit 345 veces ( 2.112288 % )\n",
      " - credit_card 1903 veces ( 11.651258 % )\n",
      " - *** payroll_account 15319 veces ( 93.791710 % )\n",
      " - emc_account 3682 veces ( 22.543317 % )\n",
      " - *** debit_card 10521 veces ( 64.415600 % )\n",
      " - em_acount 1312 veces ( 8.032817 % )\n",
      " - *** pension_plan 16333 veces ( 100.000000 % )\n",
      "\n",
      "\n",
      "Usuarios (17353) que han comprado pension_plan... \n",
      " También han comprado: \n",
      " - loans 12 veces ( 0.069152 % )\n",
      " - mortgage 16 veces ( 0.092203 % )\n",
      " - funds 154 veces ( 0.887455 % )\n",
      " - securities 313 veces ( 1.803723 % )\n",
      " - long_term_deposit 397 veces ( 2.287789 % )\n",
      " - credit_card 2034 veces ( 11.721316 % )\n",
      " - *** payroll_account 16240 veces ( 93.586123 % )\n",
      " - emc_account 3942 veces ( 22.716533 % )\n",
      " - *** debit_card 11120 veces ( 64.081139 % )\n",
      " - em_acount 1362 veces ( 7.848787 % )\n",
      " - *** payroll 16333 veces ( 94.122054 % )\n",
      "\n",
      "\n"
     ]
    }
   ],
   "source": [
    "def show_products(x):\n",
    "    if x[3] >= 50:\n",
    "        print(' - *** {:} {:} veces ( {:2f} % )'.format(x[0], x[1], x[3]))\n",
    "    else:\n",
    "        print(' - {:} {:} veces ( {:2f} % )'.format(x[0], x[1], x[3]))\n",
    "\n",
    "\n",
    "for col in boolean_cols:\n",
    "    df_col = two_pack[ (two_pack['producto_1'] == col) | (two_pack['producto_2'] == col) ]\n",
    "    df_ = products_df[ products_df[col] == True]\n",
    "    print('Usuarios ({}) que han comprado {}... \\n También han comprado: '.format( df_.shape[0] ,col))\n",
    "\n",
    "    for i, x in df_col.iterrows():\n",
    "        if x['producto_1'] == col:\n",
    "            selected = ['producto_2', 'total', 'total_1', 'prop_1']\n",
    "        else:\n",
    "            selected = ['producto_1', 'total', 'total_2', 'prop_2']\n",
    "        show_products(x[selected])\n",
    "    \n",
    "    print('\\n')"
   ]
  },
  {
   "cell_type": "code",
   "execution_count": 123,
   "metadata": {},
   "outputs": [
    {
     "output_type": "execute_result",
     "data": {
      "text/plain": [
       "producto_2    pension_plan\n",
       "total                16333\n",
       "total_2              17353\n",
       "prop_2             94.1221\n",
       "Name: 68, dtype: object"
      ]
     },
     "metadata": {},
     "execution_count": 123
    }
   ],
   "source": [
    "a = x[selected]\n",
    "a"
   ]
  },
  {
   "cell_type": "code",
   "execution_count": 124,
   "metadata": {},
   "outputs": [
    {
     "output_type": "execute_result",
     "data": {
      "text/plain": [
       "'pension_plan'"
      ]
     },
     "metadata": {},
     "execution_count": 124
    }
   ],
   "source": [
    "a[0]"
   ]
  },
  {
   "cell_type": "code",
   "execution_count": 150,
   "metadata": {},
   "outputs": [],
   "source": [
    "vector = np.arange(len(boolean_cols))\n",
    "comb_3 = []\n",
    "\n",
    "for x in vector:\n",
    "    for y in vector[vector > x]:\n",
    "        for z in vector[vector > y]:\n",
    "            comb_3.append([x,y,z])"
   ]
  },
  {
   "cell_type": "code",
   "execution_count": 170,
   "metadata": {},
   "outputs": [
    {
     "output_type": "display_data",
     "data": {
      "text/plain": "           producto_1         producto_2       producto_3 total total_12  \\\n0  short_term_deposit  long_term_deposit      emc_account     1        2   \n1  short_term_deposit  long_term_deposit       debit_card     1        2   \n2  short_term_deposit  long_term_deposit        em_acount     2        2   \n3  short_term_deposit        emc_account       debit_card     1        1   \n4  short_term_deposit        emc_account        em_acount     1        1   \n5  short_term_deposit         debit_card        em_acount     1        1   \n6               loans  long_term_deposit      emc_account     1        1   \n7               loans  long_term_deposit        em_acount     1        1   \n8               loans        credit_card  payroll_account     9       13   \n9               loans        credit_card      emc_account     4       13   \n\n  total_13 total_23  \n0        1     2405  \n1        1      770  \n2        2     3968  \n3        1     6948  \n4        2    13145  \n5        2    27484  \n6        7     2405  \n7       14     3968  \n8       13     2569  \n9        7     1768  ",
      "text/html": "<div>\n<style scoped>\n    .dataframe tbody tr th:only-of-type {\n        vertical-align: middle;\n    }\n\n    .dataframe tbody tr th {\n        vertical-align: top;\n    }\n\n    .dataframe thead th {\n        text-align: right;\n    }\n</style>\n<table border=\"1\" class=\"dataframe\">\n  <thead>\n    <tr style=\"text-align: right;\">\n      <th></th>\n      <th>producto_1</th>\n      <th>producto_2</th>\n      <th>producto_3</th>\n      <th>total</th>\n      <th>total_12</th>\n      <th>total_13</th>\n      <th>total_23</th>\n    </tr>\n  </thead>\n  <tbody>\n    <tr>\n      <th>0</th>\n      <td>short_term_deposit</td>\n      <td>long_term_deposit</td>\n      <td>emc_account</td>\n      <td>1</td>\n      <td>2</td>\n      <td>1</td>\n      <td>2405</td>\n    </tr>\n    <tr>\n      <th>1</th>\n      <td>short_term_deposit</td>\n      <td>long_term_deposit</td>\n      <td>debit_card</td>\n      <td>1</td>\n      <td>2</td>\n      <td>1</td>\n      <td>770</td>\n    </tr>\n    <tr>\n      <th>2</th>\n      <td>short_term_deposit</td>\n      <td>long_term_deposit</td>\n      <td>em_acount</td>\n      <td>2</td>\n      <td>2</td>\n      <td>2</td>\n      <td>3968</td>\n    </tr>\n    <tr>\n      <th>3</th>\n      <td>short_term_deposit</td>\n      <td>emc_account</td>\n      <td>debit_card</td>\n      <td>1</td>\n      <td>1</td>\n      <td>1</td>\n      <td>6948</td>\n    </tr>\n    <tr>\n      <th>4</th>\n      <td>short_term_deposit</td>\n      <td>emc_account</td>\n      <td>em_acount</td>\n      <td>1</td>\n      <td>1</td>\n      <td>2</td>\n      <td>13145</td>\n    </tr>\n    <tr>\n      <th>5</th>\n      <td>short_term_deposit</td>\n      <td>debit_card</td>\n      <td>em_acount</td>\n      <td>1</td>\n      <td>1</td>\n      <td>2</td>\n      <td>27484</td>\n    </tr>\n    <tr>\n      <th>6</th>\n      <td>loans</td>\n      <td>long_term_deposit</td>\n      <td>emc_account</td>\n      <td>1</td>\n      <td>1</td>\n      <td>7</td>\n      <td>2405</td>\n    </tr>\n    <tr>\n      <th>7</th>\n      <td>loans</td>\n      <td>long_term_deposit</td>\n      <td>em_acount</td>\n      <td>1</td>\n      <td>1</td>\n      <td>14</td>\n      <td>3968</td>\n    </tr>\n    <tr>\n      <th>8</th>\n      <td>loans</td>\n      <td>credit_card</td>\n      <td>payroll_account</td>\n      <td>9</td>\n      <td>13</td>\n      <td>13</td>\n      <td>2569</td>\n    </tr>\n    <tr>\n      <th>9</th>\n      <td>loans</td>\n      <td>credit_card</td>\n      <td>emc_account</td>\n      <td>4</td>\n      <td>13</td>\n      <td>7</td>\n      <td>1768</td>\n    </tr>\n  </tbody>\n</table>\n</div>"
     },
     "metadata": {}
    }
   ],
   "source": [
    "three_pack = pd.DataFrame(columns=['producto_1','producto_2','producto_3','total','total_12','total_13','total_23'])\n",
    "for x, y, z in comb_3:\n",
    "    col_x = boolean_cols[x]\n",
    "    col_y = boolean_cols[y]\n",
    "    col_z = boolean_cols[z]\n",
    "\n",
    "    df_xy = products_df.loc[ (products_df[ col_x ] == True) & (products_df[ col_y ] == True) ]\n",
    "    df_xz = products_df.loc[ (products_df[ col_x ] == True) & (products_df[ col_z ] == True) ]\n",
    "    df_yz = products_df.loc[ (products_df[ col_y ] == True) & (products_df[ col_z ] == True) ]\n",
    "\n",
    "    df = products_df.loc[ (products_df[col_x] == True) & (products_df[col_y] == True) & (products_df[col_z] == True) ]\n",
    "\n",
    "    if df.shape[0] != 0:\n",
    "        df_ = pd.DataFrame( {'producto_1':col_x, 'producto_2':col_y, 'producto_3':col_z, 'total':df.shape[0], 'total_12': df_xy.shape[0] , 'total_13': df_xz.shape[0], 'total_23': df_yz.shape[0] }, index=[0] )\n",
    "        three_pack = pd.concat( [three_pack, df_], ignore_index=True) \n",
    "\n",
    "display(three_pack.head(10))"
   ]
  },
  {
   "source": [
    "La siguiente tabla nos muestra las combinaciones de 3 productos más vendidas. \n",
    "- Las primeras 3 columnas corresponden al nombre de los productos\n",
    "- La columna total al total de clientes que tienen contratados estos 3 productos\n",
    "- Los totales (total_12, total_13, total_23) corresponden al total de clientes que tan sólo han comprado los productos 1 y 2, 1 y 3 o 2 y 3, respecetivamente. \n",
    "- Finalmente las columnas (prop_12, prop_13, prop_23) corresponden al tanto por ciento de los clientes que tienen solicitados 2 productos y además contratan el tercero. Es decir, prop_12 corresponde al tanto por ciento de clientes que siendo socios de los productos 1 y 2, también lo son del producto 3.\n",
    "\n",
    "Esta tabla nos permitiría recomendar al cliente cuál es el siguiente producto que debería comprar. Por ejemplo, para un cliente que tan sólo tiene contratados los servicios (payroll_account y debit_card), se le puede sugerir que compre el producto pension_plan (registro 3) antes que el payroll\t(registro 4), dado que según se ha determinado 69.5854 % de los clientes que han contratado payroll_account y debit_card, también contratan pension_plan, no tanto así payroll con un 65.9104 % (pese a que la diferencia no sea considerable)."
   ],
   "cell_type": "markdown",
   "metadata": {}
  },
  {
   "cell_type": "code",
   "execution_count": 155,
   "metadata": {},
   "outputs": [
    {
     "output_type": "display_data",
     "data": {
      "text/plain": "          producto_1   producto_2    producto_3  total total_12 total_13  \\\n166  payroll_account      payroll  pension_plan  15319    15319    16240   \n175       debit_card      payroll  pension_plan  10521    10521    11120   \n163  payroll_account   debit_card  pension_plan  10490    15075    16240   \n162  payroll_account   debit_card       payroll   9936    15075    15319   \n156  payroll_account  emc_account    debit_card   3764     5375    15075   \n172      emc_account      payroll  pension_plan   3682     3682     3942   \n159  payroll_account  emc_account  pension_plan   3629     5375    16240   \n158  payroll_account  emc_account       payroll   3392     5375    15319   \n167      emc_account   debit_card     em_acount   3351     6948    13145   \n169      emc_account   debit_card  pension_plan   2971     6948     3942   \n\n    total_23  prop_12  prop_13  prop_23  \n166    16333      100  94.3288  93.7917  \n175    16333      100  94.6133  64.4156  \n163    11120  69.5854  64.5936  94.3345  \n162    10521  65.9104  64.8606  94.4397  \n156     6948  70.0279  24.9685  54.1739  \n172    16333      100  93.4044  22.5433  \n159     3942  67.5163  22.3461  92.0599  \n158     3682   63.107  22.1424  92.1238  \n167    27484  48.2297  25.4926  12.1925  \n169    11120  42.7605  75.3678  26.7176  ",
      "text/html": "<div>\n<style scoped>\n    .dataframe tbody tr th:only-of-type {\n        vertical-align: middle;\n    }\n\n    .dataframe tbody tr th {\n        vertical-align: top;\n    }\n\n    .dataframe thead th {\n        text-align: right;\n    }\n</style>\n<table border=\"1\" class=\"dataframe\">\n  <thead>\n    <tr style=\"text-align: right;\">\n      <th></th>\n      <th>producto_1</th>\n      <th>producto_2</th>\n      <th>producto_3</th>\n      <th>total</th>\n      <th>total_12</th>\n      <th>total_13</th>\n      <th>total_23</th>\n      <th>prop_12</th>\n      <th>prop_13</th>\n      <th>prop_23</th>\n    </tr>\n  </thead>\n  <tbody>\n    <tr>\n      <th>166</th>\n      <td>payroll_account</td>\n      <td>payroll</td>\n      <td>pension_plan</td>\n      <td>15319</td>\n      <td>15319</td>\n      <td>16240</td>\n      <td>16333</td>\n      <td>100</td>\n      <td>94.3288</td>\n      <td>93.7917</td>\n    </tr>\n    <tr>\n      <th>175</th>\n      <td>debit_card</td>\n      <td>payroll</td>\n      <td>pension_plan</td>\n      <td>10521</td>\n      <td>10521</td>\n      <td>11120</td>\n      <td>16333</td>\n      <td>100</td>\n      <td>94.6133</td>\n      <td>64.4156</td>\n    </tr>\n    <tr>\n      <th>163</th>\n      <td>payroll_account</td>\n      <td>debit_card</td>\n      <td>pension_plan</td>\n      <td>10490</td>\n      <td>15075</td>\n      <td>16240</td>\n      <td>11120</td>\n      <td>69.5854</td>\n      <td>64.5936</td>\n      <td>94.3345</td>\n    </tr>\n    <tr>\n      <th>162</th>\n      <td>payroll_account</td>\n      <td>debit_card</td>\n      <td>payroll</td>\n      <td>9936</td>\n      <td>15075</td>\n      <td>15319</td>\n      <td>10521</td>\n      <td>65.9104</td>\n      <td>64.8606</td>\n      <td>94.4397</td>\n    </tr>\n    <tr>\n      <th>156</th>\n      <td>payroll_account</td>\n      <td>emc_account</td>\n      <td>debit_card</td>\n      <td>3764</td>\n      <td>5375</td>\n      <td>15075</td>\n      <td>6948</td>\n      <td>70.0279</td>\n      <td>24.9685</td>\n      <td>54.1739</td>\n    </tr>\n    <tr>\n      <th>172</th>\n      <td>emc_account</td>\n      <td>payroll</td>\n      <td>pension_plan</td>\n      <td>3682</td>\n      <td>3682</td>\n      <td>3942</td>\n      <td>16333</td>\n      <td>100</td>\n      <td>93.4044</td>\n      <td>22.5433</td>\n    </tr>\n    <tr>\n      <th>159</th>\n      <td>payroll_account</td>\n      <td>emc_account</td>\n      <td>pension_plan</td>\n      <td>3629</td>\n      <td>5375</td>\n      <td>16240</td>\n      <td>3942</td>\n      <td>67.5163</td>\n      <td>22.3461</td>\n      <td>92.0599</td>\n    </tr>\n    <tr>\n      <th>158</th>\n      <td>payroll_account</td>\n      <td>emc_account</td>\n      <td>payroll</td>\n      <td>3392</td>\n      <td>5375</td>\n      <td>15319</td>\n      <td>3682</td>\n      <td>63.107</td>\n      <td>22.1424</td>\n      <td>92.1238</td>\n    </tr>\n    <tr>\n      <th>167</th>\n      <td>emc_account</td>\n      <td>debit_card</td>\n      <td>em_acount</td>\n      <td>3351</td>\n      <td>6948</td>\n      <td>13145</td>\n      <td>27484</td>\n      <td>48.2297</td>\n      <td>25.4926</td>\n      <td>12.1925</td>\n    </tr>\n    <tr>\n      <th>169</th>\n      <td>emc_account</td>\n      <td>debit_card</td>\n      <td>pension_plan</td>\n      <td>2971</td>\n      <td>6948</td>\n      <td>3942</td>\n      <td>11120</td>\n      <td>42.7605</td>\n      <td>75.3678</td>\n      <td>26.7176</td>\n    </tr>\n  </tbody>\n</table>\n</div>"
     },
     "metadata": {}
    }
   ],
   "source": [
    "three_pack['prop_12'] = three_pack['total'] / three_pack['total_12'] * 100\n",
    "three_pack['prop_13'] = three_pack['total'] / three_pack['total_13'] * 100\n",
    "three_pack['prop_23'] = three_pack['total'] / three_pack['total_23'] * 100\n",
    "\n",
    "display(three_pack.sort_values('total', ascending=False).head(10))"
   ]
  },
  {
   "cell_type": "code",
   "execution_count": 167,
   "metadata": {},
   "outputs": [],
   "source": [
    "vector = np.arange(len(boolean_cols))\n",
    "comb_4 = []\n",
    "\n",
    "for x in vector:\n",
    "    for y in vector[vector > x]:\n",
    "        for z in vector[vector > y]:\n",
    "            for k in vector[vector > z]:\n",
    "                comb_4.append([x,y,z,k])"
   ]
  },
  {
   "cell_type": "code",
   "execution_count": 173,
   "metadata": {},
   "outputs": [
    {
     "output_type": "display_data",
     "data": {
      "text/plain": "          producto_1       producto_2   producto_3    producto_4 total  \\\n284  payroll_account       debit_card      payroll  pension_plan  9936   \n281  payroll_account      emc_account      payroll  pension_plan  3392   \n288      emc_account       debit_card      payroll  pension_plan  2798   \n278  payroll_account      emc_account   debit_card  pension_plan  2775   \n277  payroll_account      emc_account   debit_card       payroll  2616   \n265      credit_card  payroll_account      payroll  pension_plan  1790   \n274      credit_card       debit_card      payroll  pension_plan  1656   \n262      credit_card  payroll_account   debit_card  pension_plan  1652   \n261      credit_card  payroll_account   debit_card       payroll  1556   \n256      credit_card  payroll_account  emc_account    debit_card   965   \n290       debit_card        em_acount      payroll  pension_plan   929   \n271      credit_card      emc_account      payroll  pension_plan   843   \n259      credit_card  payroll_account  emc_account  pension_plan   839   \n268      credit_card      emc_account   debit_card  pension_plan   790   \n258      credit_card  payroll_account  emc_account       payroll   790   \n\n    total_123 total_124 total_134 total_234 prop_123 prop_124 prop_134  \\\n284      9936     10490     15319     10521      100  94.7188  64.8606   \n281      3392      3629     15319      3682      100  93.4693  22.1424   \n288      2798      2971      3682     10521      100   94.177  75.9913   \n278      3764      3629     10490      2971  73.7248  76.4673  26.4538   \n277      3764      3392      9936      2798  69.5005  77.1226  26.3285   \n265      1790      1904      1903     15319      100  94.0126   94.062   \n274      1656      1766      1903     10521      100  93.7712  87.0205   \n262      2164      1904      1766     10490  76.3401  86.7647  93.5447   \n261      2164      1790      1656      9936  71.9039  86.9274  93.9614   \n256      1127      2164      1314      3764  85.6256  44.5933  73.4399   \n290       929       960     10521      1312      100  96.7708  8.82996   \n271       843       898      1903      3682      100  93.8753  44.2985   \n259      1127      1904       898      3629  74.4454  44.0651  93.4298   \n268      1314       898      1766      2971  60.1218  87.9733  44.7339   \n258      1127      1790       843      3392  70.0976  44.1341  93.7129   \n\n    prop_234  \n284  94.4397  \n281  92.1238  \n288  26.5944  \n278  93.4029  \n277  93.4954  \n265  11.6848  \n274  15.7399  \n262  15.7483  \n261  15.6602  \n256  25.6376  \n290  70.8079  \n271  22.8952  \n259  23.1193  \n268  26.5904  \n258  23.2901  ",
      "text/html": "<div>\n<style scoped>\n    .dataframe tbody tr th:only-of-type {\n        vertical-align: middle;\n    }\n\n    .dataframe tbody tr th {\n        vertical-align: top;\n    }\n\n    .dataframe thead th {\n        text-align: right;\n    }\n</style>\n<table border=\"1\" class=\"dataframe\">\n  <thead>\n    <tr style=\"text-align: right;\">\n      <th></th>\n      <th>producto_1</th>\n      <th>producto_2</th>\n      <th>producto_3</th>\n      <th>producto_4</th>\n      <th>total</th>\n      <th>total_123</th>\n      <th>total_124</th>\n      <th>total_134</th>\n      <th>total_234</th>\n      <th>prop_123</th>\n      <th>prop_124</th>\n      <th>prop_134</th>\n      <th>prop_234</th>\n    </tr>\n  </thead>\n  <tbody>\n    <tr>\n      <th>284</th>\n      <td>payroll_account</td>\n      <td>debit_card</td>\n      <td>payroll</td>\n      <td>pension_plan</td>\n      <td>9936</td>\n      <td>9936</td>\n      <td>10490</td>\n      <td>15319</td>\n      <td>10521</td>\n      <td>100</td>\n      <td>94.7188</td>\n      <td>64.8606</td>\n      <td>94.4397</td>\n    </tr>\n    <tr>\n      <th>281</th>\n      <td>payroll_account</td>\n      <td>emc_account</td>\n      <td>payroll</td>\n      <td>pension_plan</td>\n      <td>3392</td>\n      <td>3392</td>\n      <td>3629</td>\n      <td>15319</td>\n      <td>3682</td>\n      <td>100</td>\n      <td>93.4693</td>\n      <td>22.1424</td>\n      <td>92.1238</td>\n    </tr>\n    <tr>\n      <th>288</th>\n      <td>emc_account</td>\n      <td>debit_card</td>\n      <td>payroll</td>\n      <td>pension_plan</td>\n      <td>2798</td>\n      <td>2798</td>\n      <td>2971</td>\n      <td>3682</td>\n      <td>10521</td>\n      <td>100</td>\n      <td>94.177</td>\n      <td>75.9913</td>\n      <td>26.5944</td>\n    </tr>\n    <tr>\n      <th>278</th>\n      <td>payroll_account</td>\n      <td>emc_account</td>\n      <td>debit_card</td>\n      <td>pension_plan</td>\n      <td>2775</td>\n      <td>3764</td>\n      <td>3629</td>\n      <td>10490</td>\n      <td>2971</td>\n      <td>73.7248</td>\n      <td>76.4673</td>\n      <td>26.4538</td>\n      <td>93.4029</td>\n    </tr>\n    <tr>\n      <th>277</th>\n      <td>payroll_account</td>\n      <td>emc_account</td>\n      <td>debit_card</td>\n      <td>payroll</td>\n      <td>2616</td>\n      <td>3764</td>\n      <td>3392</td>\n      <td>9936</td>\n      <td>2798</td>\n      <td>69.5005</td>\n      <td>77.1226</td>\n      <td>26.3285</td>\n      <td>93.4954</td>\n    </tr>\n    <tr>\n      <th>265</th>\n      <td>credit_card</td>\n      <td>payroll_account</td>\n      <td>payroll</td>\n      <td>pension_plan</td>\n      <td>1790</td>\n      <td>1790</td>\n      <td>1904</td>\n      <td>1903</td>\n      <td>15319</td>\n      <td>100</td>\n      <td>94.0126</td>\n      <td>94.062</td>\n      <td>11.6848</td>\n    </tr>\n    <tr>\n      <th>274</th>\n      <td>credit_card</td>\n      <td>debit_card</td>\n      <td>payroll</td>\n      <td>pension_plan</td>\n      <td>1656</td>\n      <td>1656</td>\n      <td>1766</td>\n      <td>1903</td>\n      <td>10521</td>\n      <td>100</td>\n      <td>93.7712</td>\n      <td>87.0205</td>\n      <td>15.7399</td>\n    </tr>\n    <tr>\n      <th>262</th>\n      <td>credit_card</td>\n      <td>payroll_account</td>\n      <td>debit_card</td>\n      <td>pension_plan</td>\n      <td>1652</td>\n      <td>2164</td>\n      <td>1904</td>\n      <td>1766</td>\n      <td>10490</td>\n      <td>76.3401</td>\n      <td>86.7647</td>\n      <td>93.5447</td>\n      <td>15.7483</td>\n    </tr>\n    <tr>\n      <th>261</th>\n      <td>credit_card</td>\n      <td>payroll_account</td>\n      <td>debit_card</td>\n      <td>payroll</td>\n      <td>1556</td>\n      <td>2164</td>\n      <td>1790</td>\n      <td>1656</td>\n      <td>9936</td>\n      <td>71.9039</td>\n      <td>86.9274</td>\n      <td>93.9614</td>\n      <td>15.6602</td>\n    </tr>\n    <tr>\n      <th>256</th>\n      <td>credit_card</td>\n      <td>payroll_account</td>\n      <td>emc_account</td>\n      <td>debit_card</td>\n      <td>965</td>\n      <td>1127</td>\n      <td>2164</td>\n      <td>1314</td>\n      <td>3764</td>\n      <td>85.6256</td>\n      <td>44.5933</td>\n      <td>73.4399</td>\n      <td>25.6376</td>\n    </tr>\n    <tr>\n      <th>290</th>\n      <td>debit_card</td>\n      <td>em_acount</td>\n      <td>payroll</td>\n      <td>pension_plan</td>\n      <td>929</td>\n      <td>929</td>\n      <td>960</td>\n      <td>10521</td>\n      <td>1312</td>\n      <td>100</td>\n      <td>96.7708</td>\n      <td>8.82996</td>\n      <td>70.8079</td>\n    </tr>\n    <tr>\n      <th>271</th>\n      <td>credit_card</td>\n      <td>emc_account</td>\n      <td>payroll</td>\n      <td>pension_plan</td>\n      <td>843</td>\n      <td>843</td>\n      <td>898</td>\n      <td>1903</td>\n      <td>3682</td>\n      <td>100</td>\n      <td>93.8753</td>\n      <td>44.2985</td>\n      <td>22.8952</td>\n    </tr>\n    <tr>\n      <th>259</th>\n      <td>credit_card</td>\n      <td>payroll_account</td>\n      <td>emc_account</td>\n      <td>pension_plan</td>\n      <td>839</td>\n      <td>1127</td>\n      <td>1904</td>\n      <td>898</td>\n      <td>3629</td>\n      <td>74.4454</td>\n      <td>44.0651</td>\n      <td>93.4298</td>\n      <td>23.1193</td>\n    </tr>\n    <tr>\n      <th>268</th>\n      <td>credit_card</td>\n      <td>emc_account</td>\n      <td>debit_card</td>\n      <td>pension_plan</td>\n      <td>790</td>\n      <td>1314</td>\n      <td>898</td>\n      <td>1766</td>\n      <td>2971</td>\n      <td>60.1218</td>\n      <td>87.9733</td>\n      <td>44.7339</td>\n      <td>26.5904</td>\n    </tr>\n    <tr>\n      <th>258</th>\n      <td>credit_card</td>\n      <td>payroll_account</td>\n      <td>emc_account</td>\n      <td>payroll</td>\n      <td>790</td>\n      <td>1127</td>\n      <td>1790</td>\n      <td>843</td>\n      <td>3392</td>\n      <td>70.0976</td>\n      <td>44.1341</td>\n      <td>93.7129</td>\n      <td>23.2901</td>\n    </tr>\n  </tbody>\n</table>\n</div>"
     },
     "metadata": {}
    }
   ],
   "source": [
    "four_pack = pd.DataFrame(columns=['producto_1','producto_2','producto_3','producto_4','total', 'total_123', 'total_124', 'total_134', 'total_234'])\n",
    "for x, y, z, k in comb_4:\n",
    "    col_x = boolean_cols[x]\n",
    "    col_y = boolean_cols[y]\n",
    "    col_z = boolean_cols[z]\n",
    "    col_k = boolean_cols[k]\n",
    "\n",
    "    # 123, 124, 134, 234\n",
    "    df_123 = products_df.loc[ (products_df[col_x] == True) & (products_df[col_y] == True) & (products_df[col_z] == True) ]\n",
    "    df_124 = products_df.loc[ (products_df[col_x] == True) & (products_df[col_y] == True) & (products_df[col_k] == True) ]\n",
    "    df_134 = products_df.loc[ (products_df[col_x] == True) & (products_df[col_z] == True) & (products_df[col_k] == True) ]\n",
    "    df_234 = products_df.loc[ (products_df[col_y] == True) & (products_df[col_z] == True) & (products_df[col_k] == True) ]\n",
    "\n",
    "    df = products_df.loc[ (products_df[col_x] == True) & (products_df[col_y] == True) & (products_df[col_z] == True) & (products_df[col_k] == True) ]\n",
    "\n",
    "    if df.shape[0] != 0:\n",
    "        df_ = pd.DataFrame( {'producto_1':col_x, 'producto_2':col_y, 'producto_3':col_z, 'producto_4':col_k, 'total':df.shape[0], 'total_123': df_123.shape[0], 'total_124': df_124.shape[0], 'total_134':  df_134.shape[0], 'total_234':  df_234.shape[0] }, index=[0] )\n",
    "        four_pack = pd.concat( [four_pack, df_], ignore_index=True) \n",
    "\n",
    "four_pack['prop_123'] = four_pack['total'] / four_pack['total_123'] * 100\n",
    "four_pack['prop_124'] = four_pack['total'] / four_pack['total_124'] * 100\n",
    "four_pack['prop_134'] = four_pack['total'] / four_pack['total_134'] * 100\n",
    "four_pack['prop_234'] = four_pack['total'] / four_pack['total_234'] * 100\n",
    "\n",
    "display(four_pack.sort_values('total', ascending=False).head(15))"
   ]
  },
  {
   "cell_type": "code",
   "execution_count": 162,
   "metadata": {},
   "outputs": [],
   "source": [
    "vector = np.arange(len(boolean_cols))\n",
    "comb_5 = []\n",
    "\n",
    "for x in vector:\n",
    "    for y in vector[vector > x]:\n",
    "        for z in vector[vector > y]:\n",
    "            for k in vector[vector > z]:\n",
    "                for p in vector[vector > k]:\n",
    "                    comb_5.append([x,y,z,k,p])"
   ]
  },
  {
   "cell_type": "code",
   "execution_count": 176,
   "metadata": {},
   "outputs": [
    {
     "output_type": "display_data",
     "data": {
      "text/plain": "       producto_1 producto_2 producto_3    producto_4 producto_5 total  \\\n313  em_account_p  em_acount    payroll  pension_plan        NaN  2616   \n304  em_account_p  em_acount    payroll  pension_plan        NaN  1556   \n301  em_account_p  em_acount    payroll  pension_plan        NaN   790   \n308  em_account_p  em_acount    payroll  pension_plan        NaN   744   \n298  em_account_p  em_acount    payroll  pension_plan        NaN   738   \n297  em_account_p  em_acount    payroll  pension_plan        NaN   698   \n315  em_account_p  em_acount    payroll  pension_plan        NaN   605   \n316  em_account_p  em_acount    payroll  pension_plan        NaN   359   \n314  em_account_p  em_acount    payroll  pension_plan        NaN   246   \n312  em_account_p  em_acount    payroll  pension_plan        NaN   232   \n311  em_account_p  em_acount    payroll  pension_plan        NaN   227   \n289  em_account_p  em_acount    payroll  pension_plan        NaN   215   \n286  em_account_p  em_acount    payroll  pension_plan        NaN   185   \n310  em_account_p  em_acount    payroll  pension_plan        NaN   156   \n254  em_account_p  em_acount    payroll  pension_plan        NaN   155   \n\n    total_1234 total_1235 total_1245 total_1345 total_2345 prop_1234  \\\n313       2616       2775       3392       9936       2798       100   \n304       1556       1652       1790       1656       9936       100   \n301        790        839       1790        843       3392       100   \n308        744        790        843       1656       2798       100   \n298        965        839       1652        790       2775   76.4767   \n297        965        790       1556        744       2616   72.3316   \n315        605        619       9936        693        929       100   \n316        359        373       2798        437        929       100   \n314        246        255       3392        693        437       100   \n312        328       2775        255        619        373   70.7317   \n311        328       2616        246        605        359   69.2073   \n289        215        251        310        240       9936       100   \n286        185        215        310        217       3392       100   \n310        156        167       1656        168        929       100   \n254        155        167        214        228       9936       100   \n\n    prop_1235 prop_1245 prop_1345 prop_2345  \n313   94.2703   77.1226   26.3285   93.4954  \n304   94.1889   86.9274   93.9614   15.6602  \n301   94.1597   44.1341   93.7129   23.2901  \n308   94.1772   88.2562   44.9275   26.5904  \n298   87.9619   44.6731   93.4177   26.5946  \n297   88.3544   44.8586   93.8172    26.682  \n315   97.7383   6.08897   87.3016   65.1238  \n316   96.2466   12.8306    82.151   38.6437  \n314   96.4706   7.25236   35.4978   56.2929  \n312   8.36036   90.9804   37.4798   62.1984  \n311   8.67737   92.2764   37.5207   63.2312  \n289   85.6574   69.3548   89.5833   2.16385  \n286   86.0465   59.6774   85.2535   5.45401  \n310   93.4132   9.42029   92.8571   16.7922  \n254   92.8144   72.4299   67.9825   1.55998  ",
      "text/html": "<div>\n<style scoped>\n    .dataframe tbody tr th:only-of-type {\n        vertical-align: middle;\n    }\n\n    .dataframe tbody tr th {\n        vertical-align: top;\n    }\n\n    .dataframe thead th {\n        text-align: right;\n    }\n</style>\n<table border=\"1\" class=\"dataframe\">\n  <thead>\n    <tr style=\"text-align: right;\">\n      <th></th>\n      <th>producto_1</th>\n      <th>producto_2</th>\n      <th>producto_3</th>\n      <th>producto_4</th>\n      <th>producto_5</th>\n      <th>total</th>\n      <th>total_1234</th>\n      <th>total_1235</th>\n      <th>total_1245</th>\n      <th>total_1345</th>\n      <th>total_2345</th>\n      <th>prop_1234</th>\n      <th>prop_1235</th>\n      <th>prop_1245</th>\n      <th>prop_1345</th>\n      <th>prop_2345</th>\n    </tr>\n  </thead>\n  <tbody>\n    <tr>\n      <th>313</th>\n      <td>em_account_p</td>\n      <td>em_acount</td>\n      <td>payroll</td>\n      <td>pension_plan</td>\n      <td>NaN</td>\n      <td>2616</td>\n      <td>2616</td>\n      <td>2775</td>\n      <td>3392</td>\n      <td>9936</td>\n      <td>2798</td>\n      <td>100</td>\n      <td>94.2703</td>\n      <td>77.1226</td>\n      <td>26.3285</td>\n      <td>93.4954</td>\n    </tr>\n    <tr>\n      <th>304</th>\n      <td>em_account_p</td>\n      <td>em_acount</td>\n      <td>payroll</td>\n      <td>pension_plan</td>\n      <td>NaN</td>\n      <td>1556</td>\n      <td>1556</td>\n      <td>1652</td>\n      <td>1790</td>\n      <td>1656</td>\n      <td>9936</td>\n      <td>100</td>\n      <td>94.1889</td>\n      <td>86.9274</td>\n      <td>93.9614</td>\n      <td>15.6602</td>\n    </tr>\n    <tr>\n      <th>301</th>\n      <td>em_account_p</td>\n      <td>em_acount</td>\n      <td>payroll</td>\n      <td>pension_plan</td>\n      <td>NaN</td>\n      <td>790</td>\n      <td>790</td>\n      <td>839</td>\n      <td>1790</td>\n      <td>843</td>\n      <td>3392</td>\n      <td>100</td>\n      <td>94.1597</td>\n      <td>44.1341</td>\n      <td>93.7129</td>\n      <td>23.2901</td>\n    </tr>\n    <tr>\n      <th>308</th>\n      <td>em_account_p</td>\n      <td>em_acount</td>\n      <td>payroll</td>\n      <td>pension_plan</td>\n      <td>NaN</td>\n      <td>744</td>\n      <td>744</td>\n      <td>790</td>\n      <td>843</td>\n      <td>1656</td>\n      <td>2798</td>\n      <td>100</td>\n      <td>94.1772</td>\n      <td>88.2562</td>\n      <td>44.9275</td>\n      <td>26.5904</td>\n    </tr>\n    <tr>\n      <th>298</th>\n      <td>em_account_p</td>\n      <td>em_acount</td>\n      <td>payroll</td>\n      <td>pension_plan</td>\n      <td>NaN</td>\n      <td>738</td>\n      <td>965</td>\n      <td>839</td>\n      <td>1652</td>\n      <td>790</td>\n      <td>2775</td>\n      <td>76.4767</td>\n      <td>87.9619</td>\n      <td>44.6731</td>\n      <td>93.4177</td>\n      <td>26.5946</td>\n    </tr>\n    <tr>\n      <th>297</th>\n      <td>em_account_p</td>\n      <td>em_acount</td>\n      <td>payroll</td>\n      <td>pension_plan</td>\n      <td>NaN</td>\n      <td>698</td>\n      <td>965</td>\n      <td>790</td>\n      <td>1556</td>\n      <td>744</td>\n      <td>2616</td>\n      <td>72.3316</td>\n      <td>88.3544</td>\n      <td>44.8586</td>\n      <td>93.8172</td>\n      <td>26.682</td>\n    </tr>\n    <tr>\n      <th>315</th>\n      <td>em_account_p</td>\n      <td>em_acount</td>\n      <td>payroll</td>\n      <td>pension_plan</td>\n      <td>NaN</td>\n      <td>605</td>\n      <td>605</td>\n      <td>619</td>\n      <td>9936</td>\n      <td>693</td>\n      <td>929</td>\n      <td>100</td>\n      <td>97.7383</td>\n      <td>6.08897</td>\n      <td>87.3016</td>\n      <td>65.1238</td>\n    </tr>\n    <tr>\n      <th>316</th>\n      <td>em_account_p</td>\n      <td>em_acount</td>\n      <td>payroll</td>\n      <td>pension_plan</td>\n      <td>NaN</td>\n      <td>359</td>\n      <td>359</td>\n      <td>373</td>\n      <td>2798</td>\n      <td>437</td>\n      <td>929</td>\n      <td>100</td>\n      <td>96.2466</td>\n      <td>12.8306</td>\n      <td>82.151</td>\n      <td>38.6437</td>\n    </tr>\n    <tr>\n      <th>314</th>\n      <td>em_account_p</td>\n      <td>em_acount</td>\n      <td>payroll</td>\n      <td>pension_plan</td>\n      <td>NaN</td>\n      <td>246</td>\n      <td>246</td>\n      <td>255</td>\n      <td>3392</td>\n      <td>693</td>\n      <td>437</td>\n      <td>100</td>\n      <td>96.4706</td>\n      <td>7.25236</td>\n      <td>35.4978</td>\n      <td>56.2929</td>\n    </tr>\n    <tr>\n      <th>312</th>\n      <td>em_account_p</td>\n      <td>em_acount</td>\n      <td>payroll</td>\n      <td>pension_plan</td>\n      <td>NaN</td>\n      <td>232</td>\n      <td>328</td>\n      <td>2775</td>\n      <td>255</td>\n      <td>619</td>\n      <td>373</td>\n      <td>70.7317</td>\n      <td>8.36036</td>\n      <td>90.9804</td>\n      <td>37.4798</td>\n      <td>62.1984</td>\n    </tr>\n    <tr>\n      <th>311</th>\n      <td>em_account_p</td>\n      <td>em_acount</td>\n      <td>payroll</td>\n      <td>pension_plan</td>\n      <td>NaN</td>\n      <td>227</td>\n      <td>328</td>\n      <td>2616</td>\n      <td>246</td>\n      <td>605</td>\n      <td>359</td>\n      <td>69.2073</td>\n      <td>8.67737</td>\n      <td>92.2764</td>\n      <td>37.5207</td>\n      <td>63.2312</td>\n    </tr>\n    <tr>\n      <th>289</th>\n      <td>em_account_p</td>\n      <td>em_acount</td>\n      <td>payroll</td>\n      <td>pension_plan</td>\n      <td>NaN</td>\n      <td>215</td>\n      <td>215</td>\n      <td>251</td>\n      <td>310</td>\n      <td>240</td>\n      <td>9936</td>\n      <td>100</td>\n      <td>85.6574</td>\n      <td>69.3548</td>\n      <td>89.5833</td>\n      <td>2.16385</td>\n    </tr>\n    <tr>\n      <th>286</th>\n      <td>em_account_p</td>\n      <td>em_acount</td>\n      <td>payroll</td>\n      <td>pension_plan</td>\n      <td>NaN</td>\n      <td>185</td>\n      <td>185</td>\n      <td>215</td>\n      <td>310</td>\n      <td>217</td>\n      <td>3392</td>\n      <td>100</td>\n      <td>86.0465</td>\n      <td>59.6774</td>\n      <td>85.2535</td>\n      <td>5.45401</td>\n    </tr>\n    <tr>\n      <th>310</th>\n      <td>em_account_p</td>\n      <td>em_acount</td>\n      <td>payroll</td>\n      <td>pension_plan</td>\n      <td>NaN</td>\n      <td>156</td>\n      <td>156</td>\n      <td>167</td>\n      <td>1656</td>\n      <td>168</td>\n      <td>929</td>\n      <td>100</td>\n      <td>93.4132</td>\n      <td>9.42029</td>\n      <td>92.8571</td>\n      <td>16.7922</td>\n    </tr>\n    <tr>\n      <th>254</th>\n      <td>em_account_p</td>\n      <td>em_acount</td>\n      <td>payroll</td>\n      <td>pension_plan</td>\n      <td>NaN</td>\n      <td>155</td>\n      <td>155</td>\n      <td>167</td>\n      <td>214</td>\n      <td>228</td>\n      <td>9936</td>\n      <td>100</td>\n      <td>92.8144</td>\n      <td>72.4299</td>\n      <td>67.9825</td>\n      <td>1.55998</td>\n    </tr>\n  </tbody>\n</table>\n</div>"
     },
     "metadata": {}
    }
   ],
   "source": [
    "five_pack = pd.DataFrame(columns=['producto_1','producto_2','producto_3','producto_4','producto_5','total','total_1234','total_1235','total_1245','total_1345','total_2345'])\n",
    "for x, y, z, k, p in comb_5:\n",
    "    col_1 = boolean_cols[x]\n",
    "    col_2 = boolean_cols[y]\n",
    "    col_3 = boolean_cols[z]\n",
    "    col_4 = boolean_cols[k]\n",
    "    col_5 = boolean_cols[p]\n",
    "\n",
    "    # 12345\n",
    "    # 1234, 1235, 1245, 1345, 2345  \n",
    "    df_1234 = products_df.loc[ (products_df[col_1] == True) & (products_df[col_2] == True) & (products_df[col_3] == True) & (products_df[col_4] == True) ]\n",
    "    df_1235 = products_df.loc[ (products_df[col_1] == True) & (products_df[col_2] == True) & (products_df[col_3] == True) & (products_df[col_5] == True) ]\n",
    "    df_1245 = products_df.loc[ (products_df[col_1] == True) & (products_df[col_2] == True) & (products_df[col_4] == True) & (products_df[col_5] == True) ]\n",
    "    df_1345 = products_df.loc[ (products_df[col_1] == True) & (products_df[col_3] == True) & (products_df[col_4] == True) & (products_df[col_5] == True) ]\n",
    "    df_2345 = products_df.loc[ (products_df[col_2] == True) & (products_df[col_3] == True) & (products_df[col_4] == True) & (products_df[col_5] == True) ]\n",
    "\n",
    "    df = products_df.loc[ (products_df[col_1] == True) & (products_df[col_2] == True) & (products_df[col_3] == True) & (products_df[col_4] == True) & (products_df[col_5] == True) ]\n",
    "\n",
    "    if df.shape[0] != 0:\n",
    "        df_ = pd.DataFrame( {'producto_1':col_1, 'producto_2':col_2, 'producto_3':col_3, 'producto_4':col_4, 'producto_5':col_5, 'total':df.shape[0], 'total_1234': df_1234.shape[0], 'total_1235': df_1235.shape[0], 'total_1245':  df_1245.shape[0], 'total_1345':  df_1345.shape[0], 'total_2345':  df_2345.shape[0] }, index=[0] )\n",
    "        five_pack = pd.concat( [five_pack, df_], ignore_index=True) \n",
    "\n",
    "five_pack['prop_1234'] = five_pack['total'] / five_pack['total_1234'] * 100\n",
    "five_pack['prop_1235'] = five_pack['total'] / five_pack['total_1235'] * 100\n",
    "five_pack['prop_1245'] = five_pack['total'] / five_pack['total_1245'] * 100\n",
    "five_pack['prop_1345'] = five_pack['total'] / five_pack['total_1345'] * 100\n",
    "five_pack['prop_2345'] = five_pack['total'] / five_pack['total_2345'] * 100\n",
    "\n",
    "display(five_pack.sort_values('total', ascending=False).head(15))"
   ]
  },
  {
   "cell_type": "code",
   "execution_count": 22,
   "metadata": {},
   "outputs": [],
   "source": [
    "vector = np.arange(len(boolean_cols))\n",
    "comb_3 = []\n",
    "\n",
    "for x in vector:\n",
    "    for y in vector[vector > x]:\n",
    "        for z in vector[vector > y]:\n",
    "            comb_3.append([x,y,z])\n"
   ]
  },
  {
   "cell_type": "code",
   "execution_count": 51,
   "metadata": {},
   "outputs": [
    {
     "output_type": "stream",
     "name": "stdout",
     "text": [
      "Usuarios (2) que han comprado short_term_deposit... \n",
      " También han comprado: \n",
      " - *** long_term_deposit 2 veces ( 100.000000 % )\n",
      " - *** emc_account 1 veces ( 50.000000 % )\n",
      " - *** debit_card 1 veces ( 50.000000 % )\n",
      " - *** em_acount 2 veces ( 100.000000 % )\n",
      "\n",
      "\n",
      "Usuarios (30) que han comprado loans... \n",
      " También han comprado: \n",
      " - long_term_deposit 1 veces ( 3.333333 % )\n",
      " - credit_card 13 veces ( 43.333333 % )\n",
      " - payroll_account 13 veces ( 43.333333 % )\n",
      " - emc_account 7 veces ( 23.333333 % )\n",
      " - *** debit_card 23 veces ( 76.666667 % )\n",
      " - em_acount 14 veces ( 46.666667 % )\n",
      " - payroll 11 veces ( 36.666667 % )\n",
      " - pension_plan 12 veces ( 40.000000 % )\n",
      "\n",
      "\n",
      "Usuarios (23) que han comprado mortgage... \n",
      " También han comprado: \n",
      " - funds 1 veces ( 4.347826 % )\n",
      " - credit_card 10 veces ( 43.478261 % )\n",
      " - *** payroll_account 16 veces ( 69.565217 % )\n",
      " - emc_account 8 veces ( 34.782609 % )\n",
      " - *** debit_card 18 veces ( 78.260870 % )\n",
      " - em_acount 5 veces ( 21.739130 % )\n",
      " - *** payroll 16 veces ( 69.565217 % )\n",
      " - *** pension_plan 16 veces ( 69.565217 % )\n",
      "\n",
      "\n",
      "Usuarios (1315) que han comprado funds... \n",
      " También han comprado: \n",
      " - mortgage 1 veces ( 0.076046 % )\n",
      " - securities 152 veces ( 11.558935 % )\n",
      " - long_term_deposit 375 veces ( 28.517110 % )\n",
      " - credit_card 102 veces ( 7.756654 % )\n",
      " - payroll_account 225 veces ( 17.110266 % )\n",
      " - emc_account 596 veces ( 45.323194 % )\n",
      " - debit_card 289 veces ( 21.977186 % )\n",
      " - *** em_acount 919 veces ( 69.885932 % )\n",
      " - payroll 140 veces ( 10.646388 % )\n",
      " - pension_plan 154 veces ( 11.711027 % )\n",
      "\n",
      "\n",
      "Usuarios (1789) que han comprado securities... \n",
      " También han comprado: \n",
      " - funds 152 veces ( 8.496367 % )\n",
      " - long_term_deposit 128 veces ( 7.154835 % )\n",
      " - credit_card 190 veces ( 10.620458 % )\n",
      " - payroll_account 358 veces ( 20.011179 % )\n",
      " - emc_account 655 veces ( 36.612633 % )\n",
      " - debit_card 714 veces ( 39.910565 % )\n",
      " - em_account_p 1 veces ( 0.055897 % )\n",
      " - *** em_acount 1384 veces ( 77.361655 % )\n",
      " - payroll 291 veces ( 16.266070 % )\n",
      " - pension_plan 313 veces ( 17.495808 % )\n",
      "\n",
      "\n",
      "Usuarios (6129) que han comprado long_term_deposit... \n",
      " También han comprado: \n",
      " - short_term_deposit 2 veces ( 0.032632 % )\n",
      " - loans 1 veces ( 0.016316 % )\n",
      " - funds 375 veces ( 6.118453 % )\n",
      " - securities 128 veces ( 2.088432 % )\n",
      " - credit_card 244 veces ( 3.981074 % )\n",
      " - payroll_account 569 veces ( 9.283733 % )\n",
      " - emc_account 2405 veces ( 39.239680 % )\n",
      " - debit_card 770 veces ( 12.563224 % )\n",
      " - *** em_acount 3968 veces ( 64.741393 % )\n",
      " - payroll 345 veces ( 5.628977 % )\n",
      " - pension_plan 397 veces ( 6.477403 % )\n",
      "\n",
      "\n",
      "Usuarios (0) que han comprado em_account_pp... \n",
      " También han comprado: \n",
      "\n",
      "\n",
      "Usuarios (4801) que han comprado credit_card... \n",
      " También han comprado: \n",
      " - loans 13 veces ( 0.270777 % )\n",
      " - mortgage 10 veces ( 0.208290 % )\n",
      " - funds 102 veces ( 2.124557 % )\n",
      " - securities 190 veces ( 3.957509 % )\n",
      " - long_term_deposit 244 veces ( 5.082275 % )\n",
      " - *** payroll_account 2569 veces ( 53.509685 % )\n",
      " - emc_account 1768 veces ( 36.825661 % )\n",
      " - *** debit_card 3201 veces ( 66.673610 % )\n",
      " - em_acount 1834 veces ( 38.200375 % )\n",
      " - payroll 1903 veces ( 39.637576 % )\n",
      " - pension_plan 2034 veces ( 42.366174 % )\n",
      "\n",
      "\n",
      "Usuarios (26529) que han comprado payroll_account... \n",
      " También han comprado: \n",
      " - loans 13 veces ( 0.049003 % )\n",
      " - mortgage 16 veces ( 0.060311 % )\n",
      " - funds 225 veces ( 0.848128 % )\n",
      " - securities 358 veces ( 1.349467 % )\n",
      " - long_term_deposit 569 veces ( 2.144823 % )\n",
      " - credit_card 2569 veces ( 9.683742 % )\n",
      " - emc_account 5375 veces ( 20.260847 % )\n",
      " - *** debit_card 15075 veces ( 56.824607 % )\n",
      " - em_account_p 1 veces ( 0.003769 % )\n",
      " - em_acount 1054 veces ( 3.973011 % )\n",
      " - *** payroll 15319 veces ( 57.744355 % )\n",
      " - *** pension_plan 16240 veces ( 61.216028 % )\n",
      "\n",
      "\n",
      "Usuarios (24751) que han comprado emc_account... \n",
      " También han comprado: \n",
      " - short_term_deposit 1 veces ( 0.004040 % )\n",
      " - loans 7 veces ( 0.028282 % )\n",
      " - mortgage 8 veces ( 0.032322 % )\n",
      " - funds 596 veces ( 2.407984 % )\n",
      " - securities 655 veces ( 2.646358 % )\n",
      " - long_term_deposit 2405 veces ( 9.716779 % )\n",
      " - credit_card 1768 veces ( 7.143146 % )\n",
      " - payroll_account 5375 veces ( 21.716294 % )\n",
      " - debit_card 6948 veces ( 28.071593 % )\n",
      " - *** em_acount 13145 veces ( 53.108965 % )\n",
      " - payroll 3682 veces ( 14.876167 % )\n",
      " - pension_plan 3942 veces ( 15.926629 % )\n",
      "\n",
      "\n",
      "Usuarios (43261) que han comprado debit_card... \n",
      " También han comprado: \n",
      " - short_term_deposit 1 veces ( 0.002312 % )\n",
      " - loans 23 veces ( 0.053166 % )\n",
      " - mortgage 18 veces ( 0.041608 % )\n",
      " - funds 289 veces ( 0.668038 % )\n",
      " - securities 714 veces ( 1.650447 % )\n",
      " - long_term_deposit 770 veces ( 1.779894 % )\n",
      " - credit_card 3201 veces ( 7.399274 % )\n",
      " - payroll_account 15075 veces ( 34.846629 % )\n",
      " - emc_account 6948 veces ( 16.060655 % )\n",
      " - em_account_p 1 veces ( 0.002312 % )\n",
      " - *** em_acount 27484 veces ( 63.530663 % )\n",
      " - payroll 10521 veces ( 24.319826 % )\n",
      " - pension_plan 11120 veces ( 25.704445 % )\n",
      "\n",
      "\n",
      "Usuarios (2) que han comprado em_account_p... \n",
      " También han comprado: \n",
      " - *** securities 1 veces ( 50.000000 % )\n",
      " - *** payroll_account 1 veces ( 50.000000 % )\n",
      " - *** debit_card 1 veces ( 50.000000 % )\n",
      " - *** em_acount 1 veces ( 50.000000 % )\n",
      "\n",
      "\n",
      "Usuarios (296380) que han comprado em_acount... \n",
      " También han comprado: \n",
      " - short_term_deposit 2 veces ( 0.000675 % )\n",
      " - loans 14 veces ( 0.004724 % )\n",
      " - mortgage 5 veces ( 0.001687 % )\n",
      " - funds 919 veces ( 0.310075 % )\n",
      " - securities 1384 veces ( 0.466968 % )\n",
      " - long_term_deposit 3968 veces ( 1.338822 % )\n",
      " - credit_card 1834 veces ( 0.618800 % )\n",
      " - payroll_account 1054 veces ( 0.355625 % )\n",
      " - emc_account 13145 veces ( 4.435185 % )\n",
      " - debit_card 27484 veces ( 9.273230 % )\n",
      " - em_account_p 1 veces ( 0.000337 % )\n",
      " - payroll 1312 veces ( 0.442675 % )\n",
      " - pension_plan 1362 veces ( 0.459545 % )\n",
      "\n",
      "\n",
      "Usuarios (16333) que han comprado payroll... \n",
      " También han comprado: \n",
      " - loans 11 veces ( 0.067348 % )\n",
      " - mortgage 16 veces ( 0.097961 % )\n",
      " - funds 140 veces ( 0.857160 % )\n",
      " - securities 291 veces ( 1.781669 % )\n",
      " - long_term_deposit 345 veces ( 2.112288 % )\n",
      " - credit_card 1903 veces ( 11.651258 % )\n",
      " - *** payroll_account 15319 veces ( 93.791710 % )\n",
      " - emc_account 3682 veces ( 22.543317 % )\n",
      " - *** debit_card 10521 veces ( 64.415600 % )\n",
      " - em_acount 1312 veces ( 8.032817 % )\n",
      " - *** pension_plan 16333 veces ( 100.000000 % )\n",
      "\n",
      "\n",
      "Usuarios (17353) que han comprado pension_plan... \n",
      " También han comprado: \n",
      " - loans 12 veces ( 0.069152 % )\n",
      " - mortgage 16 veces ( 0.092203 % )\n",
      " - funds 154 veces ( 0.887455 % )\n",
      " - securities 313 veces ( 1.803723 % )\n",
      " - long_term_deposit 397 veces ( 2.287789 % )\n",
      " - credit_card 2034 veces ( 11.721316 % )\n",
      " - *** payroll_account 16240 veces ( 93.586123 % )\n",
      " - emc_account 3942 veces ( 22.716533 % )\n",
      " - *** debit_card 11120 veces ( 64.081139 % )\n",
      " - em_acount 1362 veces ( 7.848787 % )\n",
      " - *** payroll 16333 veces ( 94.122054 % )\n",
      "\n",
      "\n"
     ]
    }
   ],
   "source": [
    "boolean_cols = [\"short_term_deposit\", \"loans\", \"mortgage\", \"funds\", \"securities\", \"long_term_deposit\", \"em_account_pp\", \"credit_card\", \"payroll_account\", \"emc_account\", \"debit_card\", \"em_account_p\", \"em_acount\", \"payroll\", \"pension_plan\"]\n",
    "comp_cols = boolean_cols.copy()\n",
    "\n",
    "for col in boolean_cols:\n",
    "    comp_cols.remove(col)\n",
    "    df_ = products_df[ products_df[col] == True]\n",
    "    print('Usuarios ({}) que han comprado {}... \\n También han comprado: '.format( df_.shape[0] ,col))\n",
    "    for new_col in comp_cols:\n",
    "        x = df_[ df_[new_col] == True].shape[0]\n",
    "        y = df_.shape[0]\n",
    "        if x != 0 and y != 0:\n",
    "            prop = x/y*100\n",
    "            if prop >= 50:\n",
    "                print(' - *** {:} {:} veces ( {:2f} % )'.format(new_col, x, prop))\n",
    "            else:\n",
    "                print(' - {:} {:} veces ( {:2f} % )'.format(new_col, x, prop))\n",
    "    print('\\n')\n",
    "    comp_cols = boolean_cols.copy()"
   ]
  },
  {
   "cell_type": "code",
   "execution_count": 119,
   "metadata": {
    "tags": []
   },
   "outputs": [
    {
     "output_type": "error",
     "ename": "KeyError",
     "evalue": "'long_term_deposit'",
     "traceback": [
      "\u001b[0;31m---------------------------------------------------------------------------\u001b[0m",
      "\u001b[0;31mKeyError\u001b[0m                                  Traceback (most recent call last)",
      "\u001b[0;32m<ipython-input-119-9b4d2799f086>\u001b[0m in \u001b[0;36m<module>\u001b[0;34m\u001b[0m\n\u001b[1;32m     34\u001b[0m                     \u001b[0;32mif\u001b[0m \u001b[0mx2\u001b[0m \u001b[0;34m!=\u001b[0m \u001b[0;36m0\u001b[0m \u001b[0;32mand\u001b[0m \u001b[0my2\u001b[0m \u001b[0;34m!=\u001b[0m \u001b[0;36m0\u001b[0m\u001b[0;34m:\u001b[0m\u001b[0;34m\u001b[0m\u001b[0;34m\u001b[0m\u001b[0m\n\u001b[1;32m     35\u001b[0m \u001b[0;34m\u001b[0m\u001b[0m\n\u001b[0;32m---> 36\u001b[0;31m                         \u001b[0mcombinaciones_3\u001b[0m\u001b[0;34m[\u001b[0m\u001b[0mfirst_key\u001b[0m\u001b[0;34m]\u001b[0m\u001b[0;34m[\u001b[0m\u001b[0msecond_key\u001b[0m\u001b[0;34m]\u001b[0m\u001b[0;34m[\u001b[0m\u001b[0mnew_col2\u001b[0m\u001b[0;34m]\u001b[0m \u001b[0;34m=\u001b[0m \u001b[0;34m[\u001b[0m\u001b[0mx2\u001b[0m\u001b[0;34m,\u001b[0m\u001b[0my2\u001b[0m\u001b[0;34m]\u001b[0m\u001b[0;34m\u001b[0m\u001b[0;34m\u001b[0m\u001b[0m\n\u001b[0m\u001b[1;32m     37\u001b[0m \u001b[0;34m\u001b[0m\u001b[0m\n\u001b[1;32m     38\u001b[0m             \u001b[0;31m#print('Usuarios ({}) que han comprado {} y {}... \\n También han comprado: '.format(df_2.shape[0], col, new_col))\u001b[0m\u001b[0;34m\u001b[0m\u001b[0;34m\u001b[0m\u001b[0;34m\u001b[0m\u001b[0m\n",
      "\u001b[0;31mKeyError\u001b[0m: 'long_term_deposit'"
     ]
    }
   ],
   "source": [
    "boolean_cols = [\"short_term_deposit\", \"loans\", \"mortgage\", \"funds\", \"securities\", \"long_term_deposit\", \"em_account_pp\", \"credit_card\", \"payroll_account\", \"emc_account\", \"debit_card\", \"em_account_p\", \"em_acount\", \"payroll\", \"pension_plan\"]\n",
    "comp_cols = boolean_cols.copy()\n",
    "comp_cols2 = boolean_cols.copy()\n",
    "\n",
    "combinaciones_3 = {}\n",
    "\n",
    "for col in boolean_cols:\n",
    "    comp_cols.remove(col)\n",
    "    df_1 = products_df[ products_df[col] == True]\n",
    "    \n",
    "    for new_col in comp_cols:\n",
    "        x1 = df_1[ df_1[new_col] == True].shape[0]\n",
    "        y1 = df_1.shape[0]\n",
    "\n",
    "        comp_cols2.remove(new_col)\n",
    "\n",
    "        if x1 != 0 and y1 != 0:\n",
    "            if col > new_col:\n",
    "                first_key = col\n",
    "                second_key = new_col\n",
    "            else:\n",
    "                first_key = new_col\n",
    "                second_key = col\n",
    "\n",
    "            if first_key not in combinaciones_3:\n",
    "                combinaciones_3[first_key] = {}\n",
    "\n",
    "                for new_col2 in comp_cols2:\n",
    "                    df_2 = df_1[ df_1[new_col2] == True]\n",
    "\n",
    "                    x2 = df_2[ df_2[new_col2] == True ].shape[0]\n",
    "                    y2 = df_2.shape[0]\n",
    "\n",
    "                    if x2 != 0 and y2 != 0:\n",
    "                        \n",
    "                        combinaciones_3[first_key][second_key][new_col2] = [x2,y2]\n",
    "\n",
    "            #print('Usuarios ({}) que han comprado {} y {}... \\n También han comprado: '.format(df_2.shape[0], col, new_col))\n",
    "\n",
    "            #for new_col2 in comp_cols2:\n",
    "                \n",
    "            #    x2 = df_2[ df_2[new_col2] == True ].shape[0]\n",
    "            #    y2 = df_2.shape[0]\n",
    "\n",
    "            #    if x2 != 0 and y2 != 0:\n",
    "            #        prop = x2/y2*100\n",
    "            #        if prop >= 50:\n",
    "            #            print(' - *** {:} {:} veces ( {:2f} % )'.format(new_col2, x2, prop))\n",
    "            #        else:\n",
    "            #            print(' - {:} {:} veces ( {:2f} % )'.format(new_col2, x2, prop))    \n",
    "        \n",
    "            #print('\\n')   \n",
    "        comp_cols2 = boolean_cols.copy()   \n",
    "    \n",
    "    #print('\\n')\n",
    "    comp_cols = boolean_cols.copy()"
   ]
  },
  {
   "cell_type": "code",
   "execution_count": 115,
   "metadata": {},
   "outputs": [
    {
     "output_type": "execute_result",
     "data": {
      "text/plain": [
       "(2, 17)"
      ]
     },
     "metadata": {},
     "execution_count": 115
    }
   ],
   "source": [
    "df1 = products_df[products_df['short_term_deposit'] == True]\n",
    "df2 = df1[df1['long_term_deposit'] == True]\n",
    "df3 = df2[df2['em_acount'] == True]\n",
    "\n",
    "df3.shape"
   ]
  },
  {
   "cell_type": "code",
   "execution_count": null,
   "metadata": {},
   "outputs": [],
   "source": [
    "for key, value in combinaciones_3.items():\n",
    "    print()"
   ]
  },
  {
   "cell_type": "code",
   "execution_count": 113,
   "metadata": {},
   "outputs": [
    {
     "output_type": "execute_result",
     "data": {
      "text/plain": [
       "{'short_term_deposit y long_term_deposit': ['em_acount', 2, 2],\n",
       " 'short_term_deposit y emc_account': ['em_acount', 2, 2],\n",
       " 'short_term_deposit y debit_card': ['em_acount', 2, 2],\n",
       " 'short_term_deposit y em_acount': ['debit_card', 1, 1],\n",
       " 'loans y long_term_deposit': ['pension_plan', 12, 12],\n",
       " 'loans y credit_card': ['pension_plan', 12, 12],\n",
       " 'loans y payroll_account': ['pension_plan', 12, 12],\n",
       " 'loans y emc_account': ['pension_plan', 12, 12],\n",
       " 'loans y debit_card': ['pension_plan', 12, 12],\n",
       " 'loans y em_acount': ['pension_plan', 12, 12],\n",
       " 'loans y payroll': ['pension_plan', 12, 12],\n",
       " 'loans y pension_plan': ['payroll', 11, 11],\n",
       " 'mortgage y funds': ['pension_plan', 16, 16],\n",
       " 'mortgage y credit_card': ['pension_plan', 16, 16],\n",
       " 'mortgage y payroll_account': ['pension_plan', 16, 16],\n",
       " 'mortgage y emc_account': ['pension_plan', 16, 16],\n",
       " 'mortgage y debit_card': ['pension_plan', 16, 16],\n",
       " 'mortgage y em_acount': ['pension_plan', 16, 16],\n",
       " 'mortgage y payroll': ['pension_plan', 16, 16],\n",
       " 'mortgage y pension_plan': ['payroll', 16, 16],\n",
       " 'funds y securities': ['pension_plan', 154, 154],\n",
       " 'funds y long_term_deposit': ['pension_plan', 154, 154],\n",
       " 'funds y credit_card': ['pension_plan', 154, 154],\n",
       " 'funds y payroll_account': ['pension_plan', 154, 154],\n",
       " 'funds y emc_account': ['pension_plan', 154, 154],\n",
       " 'funds y debit_card': ['pension_plan', 154, 154],\n",
       " 'funds y em_acount': ['pension_plan', 154, 154],\n",
       " 'funds y payroll': ['pension_plan', 154, 154],\n",
       " 'funds y pension_plan': ['payroll', 140, 140],\n",
       " 'securities y long_term_deposit': ['pension_plan', 313, 313],\n",
       " 'securities y credit_card': ['pension_plan', 313, 313],\n",
       " 'securities y payroll_account': ['pension_plan', 313, 313],\n",
       " 'securities y emc_account': ['pension_plan', 313, 313],\n",
       " 'securities y debit_card': ['pension_plan', 313, 313],\n",
       " 'securities y em_account_p': ['pension_plan', 313, 313],\n",
       " 'securities y em_acount': ['pension_plan', 313, 313],\n",
       " 'securities y payroll': ['pension_plan', 313, 313],\n",
       " 'securities y pension_plan': ['payroll', 291, 291],\n",
       " 'long_term_deposit y credit_card': ['pension_plan', 397, 397],\n",
       " 'long_term_deposit y payroll_account': ['pension_plan', 397, 397],\n",
       " 'long_term_deposit y emc_account': ['pension_plan', 397, 397],\n",
       " 'long_term_deposit y debit_card': ['pension_plan', 397, 397],\n",
       " 'long_term_deposit y em_acount': ['pension_plan', 397, 397],\n",
       " 'long_term_deposit y payroll': ['pension_plan', 397, 397],\n",
       " 'long_term_deposit y pension_plan': ['payroll', 345, 345],\n",
       " 'credit_card y payroll_account': ['pension_plan', 2034, 2034],\n",
       " 'credit_card y emc_account': ['pension_plan', 2034, 2034],\n",
       " 'credit_card y debit_card': ['pension_plan', 2034, 2034],\n",
       " 'credit_card y em_acount': ['pension_plan', 2034, 2034],\n",
       " 'credit_card y payroll': ['pension_plan', 2034, 2034],\n",
       " 'credit_card y pension_plan': ['payroll', 1903, 1903],\n",
       " 'payroll_account y emc_account': ['pension_plan', 16240, 16240],\n",
       " 'payroll_account y debit_card': ['pension_plan', 16240, 16240],\n",
       " 'payroll_account y em_account_p': ['pension_plan', 16240, 16240],\n",
       " 'payroll_account y em_acount': ['pension_plan', 16240, 16240],\n",
       " 'payroll_account y payroll': ['pension_plan', 16240, 16240],\n",
       " 'payroll_account y pension_plan': ['payroll', 15319, 15319],\n",
       " 'emc_account y debit_card': ['pension_plan', 3942, 3942],\n",
       " 'emc_account y em_acount': ['pension_plan', 3942, 3942],\n",
       " 'emc_account y payroll': ['pension_plan', 3942, 3942],\n",
       " 'emc_account y pension_plan': ['payroll', 3682, 3682],\n",
       " 'debit_card y em_account_p': ['pension_plan', 11120, 11120],\n",
       " 'debit_card y em_acount': ['pension_plan', 11120, 11120],\n",
       " 'debit_card y payroll': ['pension_plan', 11120, 11120],\n",
       " 'debit_card y pension_plan': ['payroll', 10521, 10521],\n",
       " 'em_account_p y em_acount': ['em_account_p', 2, 2],\n",
       " 'em_acount y payroll': ['pension_plan', 1362, 1362],\n",
       " 'em_acount y pension_plan': ['payroll', 1312, 1312],\n",
       " 'payroll y pension_plan': ['payroll', 16333, 16333]}"
      ]
     },
     "metadata": {},
     "execution_count": 113
    }
   ],
   "source": [
    "combinaciones_3"
   ]
  },
  {
   "cell_type": "code",
   "execution_count": 79,
   "metadata": {},
   "outputs": [
    {
     "output_type": "execute_result",
     "data": {
      "text/plain": [
       "'short_term_deposit y loans'"
      ]
     },
     "metadata": {},
     "execution_count": 79
    }
   ],
   "source": [
    "x = \"short_term_deposit\"\n",
    "y = \"loans\"\n",
    "x+' y '+y"
   ]
  },
  {
   "cell_type": "code",
   "execution_count": null,
   "metadata": {},
   "outputs": [],
   "source": [
    "### Usuarios activos\n",
    "\n"
   ]
  },
  {
   "cell_type": "code",
   "execution_count": 125,
   "metadata": {},
   "outputs": [
    {
     "output_type": "error",
     "ename": "NameError",
     "evalue": "name 'commercial_activity_df' is not defined",
     "traceback": [
      "\u001b[0;31m---------------------------------------------------------------------------\u001b[0m",
      "\u001b[0;31mNameError\u001b[0m                                 Traceback (most recent call last)",
      "\u001b[0;32m<ipython-input-125-5fcb9807c560>\u001b[0m in \u001b[0;36m<module>\u001b[0;34m\u001b[0m\n\u001b[1;32m      6\u001b[0m \u001b[0mpartitions\u001b[0m \u001b[0;34m=\u001b[0m \u001b[0msorted\u001b[0m\u001b[0;34m(\u001b[0m\u001b[0mpartitions\u001b[0m\u001b[0;34m)\u001b[0m\u001b[0;34m\u001b[0m\u001b[0;34m\u001b[0m\u001b[0m\n\u001b[1;32m      7\u001b[0m \u001b[0;34m\u001b[0m\u001b[0m\n\u001b[0;32m----> 8\u001b[0;31m \u001b[0mdf\u001b[0m \u001b[0;34m=\u001b[0m \u001b[0mcommercial_activity_df\u001b[0m\u001b[0;34m.\u001b[0m\u001b[0mcopy\u001b[0m\u001b[0;34m(\u001b[0m\u001b[0;34m)\u001b[0m\u001b[0;34m\u001b[0m\u001b[0;34m\u001b[0m\u001b[0m\n\u001b[0m\u001b[1;32m      9\u001b[0m \u001b[0mdf\u001b[0m \u001b[0;34m=\u001b[0m \u001b[0mdf_all\u001b[0m\u001b[0;34m[\u001b[0m \u001b[0mdf_all\u001b[0m\u001b[0;34m[\u001b[0m\u001b[0;34m'pk_partition'\u001b[0m\u001b[0;34m]\u001b[0m \u001b[0;34m==\u001b[0m \u001b[0mpartitions\u001b[0m\u001b[0;34m[\u001b[0m\u001b[0;34m-\u001b[0m\u001b[0;36m1\u001b[0m\u001b[0;34m]\u001b[0m\u001b[0;34m]\u001b[0m\u001b[0;34m\u001b[0m\u001b[0;34m\u001b[0m\u001b[0m\n\u001b[1;32m     10\u001b[0m \u001b[0;34m\u001b[0m\u001b[0m\n",
      "\u001b[0;31mNameError\u001b[0m: name 'commercial_activity_df' is not defined"
     ]
    }
   ],
   "source": [
    "my_path = '/Users/carlosperezricardo/Documents/DataScience/EasyMoney'\n",
    "#my_path = '.'\n",
    "\n",
    "commercial_activity_all = pd.read_csv(my_path+'/data/commercial_activity_df.csv', index_col=0)\n",
    "partitions = commercial_activity_all['pk_partition'].unique()\n",
    "partitions = sorted(partitions)\n",
    "\n",
    "df = commercial_activity_df.copy()\n",
    "df = df_all[ df_all['pk_partition'] == partitions[-1]]\n",
    "    \n",
    "# Categorias 'entry_channel' y 'segment'\n",
    "df['entry_channel'] = df['entry_channel'].fillna('Sin Asignar')\n",
    "df['segment'] = df['segment'].fillna('Sin Asignar')\n",
    "#df = df[ (df['entry_channel'] != 'Sin Asignar') & (df['segment'] != 'Sin Asignar') ]\n",
    "\n",
    "df['entry_channel'] = df['entry_channel'].astype('category')\n",
    "df['segment'] = df['segment'].astype('category')\n",
    "\n",
    "# Fechas erroneas\n",
    "wrong_dates = {'2015-02-29': '2015-02-28', '2019-02-29':'2019-02-28'}\n",
    "df['entry_date'] = df['entry_date'].replace(wrong_dates)\n",
    "df['pk_partition'] = df['pk_partition'].replace(wrong_dates)\n",
    "\n",
    "# Liberamos espacio en la memoria\n",
    "del commercial_activity_all\n",
    "\n",
    "comm_prod = pd.merge(df, products_df, on=['pk_cid','pk_partition'], how='outer')\n",
    "\n",
    "active_users_per_product = pd.pivot_table(comm_prod,index=[\"short_term_deposit\", \"loans\", \"mortgage\", \"funds\", \"securities\", \"long_term_deposit\", \"em_account_pp\", \"credit_card\", \"payroll_account\", \"emc_account\", \"debit_card\", \"em_account_p\", \"em_acount\", \"payroll\", \"pension_plan\"],values=[\"active_customer\"],aggfunc=np.sum)"
   ]
  },
  {
   "cell_type": "code",
   "execution_count": null,
   "metadata": {},
   "outputs": [],
   "source": []
  }
 ]
}