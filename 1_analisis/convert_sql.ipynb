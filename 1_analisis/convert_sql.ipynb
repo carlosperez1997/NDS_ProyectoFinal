{
 "cells": [
  {
   "cell_type": "code",
   "execution_count": 70,
   "metadata": {},
   "outputs": [],
   "source": [
    "import pandas as pd \n",
    "import numpy as np \n",
    "from sqlalchemy import create_engine\n",
    "import sqlalchemy"
   ]
  },
  {
   "cell_type": "code",
   "execution_count": 142,
   "metadata": {},
   "outputs": [
    {
     "data": {
      "text/plain": "0"
     },
     "execution_count": 142,
     "metadata": {},
     "output_type": "execute_result"
    }
   ],
   "source": [
    "import pymysql\n",
    "\n",
    "host = 'easymoney-db.ct1jtd8962g9.us-east-2.rds.amazonaws.com'\n",
    "user = 'admin'\n",
    "password = 'carlos1234'\n",
    "database = 'easymoney-db'\n",
    "\n",
    "db = pymysql.connect(host = host, user = user, password = password)\n",
    "cursor = db.cursor()\n",
    "\n",
    "cursor.connection.commit()\n",
    "\n",
    "sSQL = ''' USE easymoney'''\n",
    "cursor.execute(sSQL)\n"
   ]
  },
  {
   "cell_type": "code",
   "execution_count": 72,
   "metadata": {},
   "outputs": [
    {
     "data": {
      "text/plain": "1"
     },
     "execution_count": 72,
     "metadata": {},
     "output_type": "execute_result"
    }
   ],
   "source": [
    "cursor.execute(\"select version()\")"
   ]
  },
  {
   "cell_type": "code",
   "execution_count": 73,
   "metadata": {},
   "outputs": [
    {
     "name": "stdout",
     "output_type": "stream",
     "text": [
      "('8.0.20',)\n"
     ]
    }
   ],
   "source": [
    "data = cursor.fetchone()\n",
    "print(data)"
   ]
  },
  {
   "cell_type": "code",
   "execution_count": 74,
   "metadata": {},
   "outputs": [],
   "source": [
    "db.commit()"
   ]
  },
  {
   "cell_type": "code",
   "execution_count": 75,
   "metadata": {},
   "outputs": [],
   "source": [
    "#sSQL = ''' CREATE DATABASE easymoney '''\n",
    "#cursor.execute(sSQL)"
   ]
  },
  {
   "cell_type": "code",
   "execution_count": 76,
   "metadata": {},
   "outputs": [
    {
     "data": {
      "text/plain": "(('altas',),\n ('antiguedades',),\n ('bajas',),\n ('clientes_primerizos',),\n ('informacion_productos',),\n ('mapa_clientes',),\n ('permanencias',),\n ('person',),\n ('productos_existentes',))"
     },
     "execution_count": 76,
     "metadata": {},
     "output_type": "execute_result"
    }
   ],
   "source": [
    "sSQL = ''' SHOW TABLES '''\n",
    "cursor.execute(sSQL)\n",
    "cursor.fetchall()"
   ]
  },
  {
   "cell_type": "code",
   "execution_count": 77,
   "metadata": {},
   "outputs": [],
   "source": [
    "import pandas as pd\n",
    "import numpy as np\n",
    "\n",
    "dir_path = '/Users/carlosperezricardo/Documents/data/'"
   ]
  },
  {
   "cell_type": "code",
   "execution_count": 78,
   "metadata": {},
   "outputs": [],
   "source": [
    "variables = {'pk_cid':'INT','pk_partition':'VARCHAR(11)', 'short_term_deposit':'INT', 'loans':'INT', \n",
    "    'mortgage':'INT', 'funds':'INT','securities':'INT', 'long_term_deposit':'INT', 'em_account_pp':'INT', \n",
    "    'credit_card':'INT','payroll_account':'INT', 'emc_account':'INT', 'debit_card':'INT', \n",
    "    'em_account_p':'INT','em_acount':'INT',\n",
    "    'producto_1':'VARCHAR(30)', 'producto_2':'VARCHAR(30)', 'total':'INT', 'total_1':'INT', 'total_2':'INT', 'prop_1':'FLOAT',\n",
    "    'pais':'VARCHAR(30)', 'region':'VARCHAR(30)', 'lat':'FLOAT', 'lon':'FLOAT', 'count':'INT',\n",
    "    'entry_date':'VARCHAR(11)', 'entry_channel':'VARCHAR(6)', 'active_customer':'TINYINT', 'segment':'VARCHAR(20)',\n",
    "    'buy':'TINYINT','total_ingresos':'INT', 'total_products':'INT', 'payroll':'INT', 'pension_plan':'INT',\n",
    "    'totales':'INT',\n",
    "    'producto':'VARCHAR(30)', 'ciudad':'VARCHAR(30)', 'ciudad_num':'INT', 'pais_num':'INT', 'entry_channel_num':'INT'}\n",
    "\n",
    "# combinations: 'producto_1', 'producto_2', 'total', 'total_1', 'total_2', 'prop_1'  \n",
    "\n",
    "# mapa: 'pais', 'region', 'lat', 'long', 'count'\n",
    "\n",
    "# clientes_primerizos: 'pk_partition', 'short_term_deposit', 'loans', 'mortgage', 'funds',\n",
    "#       'securities', 'long_term_deposit', 'em_account_pp', 'credit_card',\n",
    "#       'payroll_account', 'emc_account', 'debit_card', 'em_account_p',\n",
    "#       'em_acount', 'totales'\n",
    "\n",
    "# informacion_productos 'producto', 'ciudad', 'ciudad_num', 'pais', 'pais_num',\n",
    "#       'entry_channel', 'entry_channel_num'\n",
    "\n",
    "# first_buyers = 'pk_cid', 'pk_partition', 'entry_date', 'entry_channel',\n",
    "#       'active_customer', 'segment', 'short_term_deposit', 'loans', 'mortgage',\n",
    "#       'funds', 'securities', 'long_term_deposit', 'em_account_pp',\n",
    "#       'credit_card', 'payroll', 'pension_plan', 'payroll_account',\n",
    "#       'emc_account', 'debit_card', 'em_account_p', 'em_acount', 'buy',\n",
    "#       'total_ingresos', 'total_products']\n",
    "\n"
   ]
  },
  {
   "cell_type": "code",
   "execution_count": 79,
   "metadata": {},
   "outputs": [],
   "source": [
    "def create_table(cursor, df, variables, table_name):\n",
    "    sSQL = \"CREATE TABLE \" + table_name + \" ( \"\n",
    "        \n",
    "    for col, i in zip(df.columns, range(len(df.columns))):\n",
    "        if i == len(df.columns)-1:\n",
    "            sSQL = sSQL + col + ' ' +  variables[col] + ' )'\n",
    "        else:\n",
    "            sSQL = sSQL + col + ' ' + variables[col] + ', '\n",
    "    print(sSQL)\n",
    "    cursor.execute(sSQL)\n",
    "    "
   ]
  },
  {
   "cell_type": "code",
   "execution_count": 80,
   "metadata": {},
   "outputs": [],
   "source": [
    "def insert_into_db (cursor, df, variables, table_name):\n",
    "    for key, row in df.iterrows():\n",
    "        sSQL = \" INSERT INTO \"+table_name+\"  VALUES ( \"\n",
    "        for col, i in zip(df.columns, range(len(df.columns))):\n",
    "            if str(variables[col])[:7] == 'VARCHAR':\n",
    "                if i == len(df.columns)-1:\n",
    "                    sSQL = sSQL + ' \" ' + row[col] + ' \" ' + ' )'\n",
    "                else:\n",
    "                    sSQL = sSQL + '\"' + str(row[col]) + '\"' + ', '\n",
    "            else:\n",
    "                if i == len(df.columns)-1:\n",
    "                    sSQL = sSQL + str(row[col]) + ' )'\n",
    "                else:\n",
    "                    sSQL = sSQL + str(row[col]) + ', '\n",
    "        cursor.execute(sSQL)\n",
    "    print('Acabado!')\n",
    "    #break\n",
    "    "
   ]
  },
  {
   "cell_type": "markdown",
   "metadata": {},
   "source": [
    "## ALTAS"
   ]
  },
  {
   "cell_type": "code",
   "execution_count": 81,
   "metadata": {},
   "outputs": [
    {
     "data": {
      "text/plain": "Index(['pk_partition', 'short_term_deposit', 'loans', 'mortgage', 'funds',\n       'securities', 'long_term_deposit', 'em_account_pp', 'credit_card',\n       'payroll_account', 'emc_account', 'debit_card', 'em_account_p',\n       'em_acount'],\n      dtype='object')"
     },
     "execution_count": 81,
     "metadata": {},
     "output_type": "execute_result"
    }
   ],
   "source": [
    "altas_df = pd.read_csv(dir_path+'altas.csv')\n",
    "altas_df.columns"
   ]
  },
  {
   "cell_type": "code",
   "execution_count": 82,
   "metadata": {},
   "outputs": [],
   "source": [
    "try:\n",
    "    sSQL = \"DROP TABLE altas\"\n",
    "    cursor.execute(sSQL)\n",
    "except: \n",
    "    pass"
   ]
  },
  {
   "cell_type": "code",
   "execution_count": 83,
   "metadata": {},
   "outputs": [
    {
     "name": "stdout",
     "output_type": "stream",
     "text": [
      "CREATE TABLE altas ( pk_partition VARCHAR(11), short_term_deposit INT, loans INT, mortgage INT, funds INT, securities INT, long_term_deposit INT, em_account_pp INT, credit_card INT, payroll_account INT, emc_account INT, debit_card INT, em_account_p INT, em_acount INT )\n"
     ]
    }
   ],
   "source": [
    "create_table(cursor, altas_df, variables, \"altas\")"
   ]
  },
  {
   "cell_type": "code",
   "execution_count": 84,
   "metadata": {},
   "outputs": [
    {
     "data": {
      "text/plain": "(('altas',),\n ('antiguedades',),\n ('bajas',),\n ('clientes_primerizos',),\n ('informacion_productos',),\n ('mapa_clientes',),\n ('permanencias',),\n ('person',),\n ('productos_existentes',))"
     },
     "execution_count": 84,
     "metadata": {},
     "output_type": "execute_result"
    }
   ],
   "source": [
    "sSQL = ''' SHOW TABLES '''\n",
    "cursor.execute(sSQL)\n",
    "cursor.fetchall()"
   ]
  },
  {
   "cell_type": "code",
   "execution_count": 85,
   "metadata": {},
   "outputs": [
    {
     "name": "stdout",
     "output_type": "stream",
     "text": [
      "Acabado!\n"
     ]
    }
   ],
   "source": [
    "insert_into_db (cursor, altas_df, variables, \"altas\")\n",
    "db.commit()"
   ]
  },
  {
   "cell_type": "code",
   "execution_count": 86,
   "metadata": {},
   "outputs": [],
   "source": [
    "list_altas_df = list(altas_df.columns)"
   ]
  },
  {
   "cell_type": "code",
   "execution_count": 87,
   "metadata": {},
   "outputs": [
    {
     "data": {
      "text/html": "<div>\n<style scoped>\n    .dataframe tbody tr th:only-of-type {\n        vertical-align: middle;\n    }\n\n    .dataframe tbody tr th {\n        vertical-align: top;\n    }\n\n    .dataframe thead th {\n        text-align: right;\n    }\n</style>\n<table border=\"1\" class=\"dataframe\">\n  <thead>\n    <tr style=\"text-align: right;\">\n      <th></th>\n      <th>pk_partition</th>\n      <th>short_term_deposit</th>\n      <th>loans</th>\n      <th>mortgage</th>\n      <th>funds</th>\n      <th>securities</th>\n      <th>long_term_deposit</th>\n      <th>em_account_pp</th>\n      <th>credit_card</th>\n      <th>payroll_account</th>\n      <th>emc_account</th>\n      <th>debit_card</th>\n      <th>em_account_p</th>\n      <th>em_acount</th>\n    </tr>\n  </thead>\n  <tbody>\n    <tr>\n      <th>0</th>\n      <td>2018-01-28</td>\n      <td>883</td>\n      <td>19</td>\n      <td>15</td>\n      <td>786</td>\n      <td>932</td>\n      <td>4884</td>\n      <td>0</td>\n      <td>3325</td>\n      <td>13478</td>\n      <td>15320</td>\n      <td>24696</td>\n      <td>2</td>\n      <td>215293</td>\n    </tr>\n    <tr>\n      <th>1</th>\n      <td>2018-02-28</td>\n      <td>665</td>\n      <td>0</td>\n      <td>0</td>\n      <td>97</td>\n      <td>68</td>\n      <td>225</td>\n      <td>0</td>\n      <td>510</td>\n      <td>974</td>\n      <td>807</td>\n      <td>3708</td>\n      <td>0</td>\n      <td>4156</td>\n    </tr>\n    <tr>\n      <th>2</th>\n      <td>2018-03-28</td>\n      <td>652</td>\n      <td>4</td>\n      <td>2</td>\n      <td>119</td>\n      <td>47</td>\n      <td>261</td>\n      <td>0</td>\n      <td>735</td>\n      <td>1015</td>\n      <td>915</td>\n      <td>4062</td>\n      <td>0</td>\n      <td>4021</td>\n    </tr>\n    <tr>\n      <th>3</th>\n      <td>2018-04-28</td>\n      <td>419</td>\n      <td>3</td>\n      <td>1</td>\n      <td>127</td>\n      <td>45</td>\n      <td>249</td>\n      <td>0</td>\n      <td>652</td>\n      <td>1098</td>\n      <td>840</td>\n      <td>3507</td>\n      <td>0</td>\n      <td>3608</td>\n    </tr>\n    <tr>\n      <th>4</th>\n      <td>2018-05-28</td>\n      <td>383</td>\n      <td>3</td>\n      <td>1</td>\n      <td>83</td>\n      <td>47</td>\n      <td>355</td>\n      <td>0</td>\n      <td>630</td>\n      <td>1126</td>\n      <td>865</td>\n      <td>3193</td>\n      <td>0</td>\n      <td>3761</td>\n    </tr>\n    <tr>\n      <th>5</th>\n      <td>2018-06-28</td>\n      <td>443</td>\n      <td>0</td>\n      <td>1</td>\n      <td>53</td>\n      <td>42</td>\n      <td>387</td>\n      <td>0</td>\n      <td>752</td>\n      <td>1119</td>\n      <td>685</td>\n      <td>3700</td>\n      <td>0</td>\n      <td>5566</td>\n    </tr>\n    <tr>\n      <th>6</th>\n      <td>2018-07-28</td>\n      <td>451</td>\n      <td>1</td>\n      <td>1</td>\n      <td>54</td>\n      <td>59</td>\n      <td>450</td>\n      <td>0</td>\n      <td>776</td>\n      <td>1652</td>\n      <td>552</td>\n      <td>3973</td>\n      <td>0</td>\n      <td>13301</td>\n    </tr>\n    <tr>\n      <th>7</th>\n      <td>2018-08-28</td>\n      <td>434</td>\n      <td>2</td>\n      <td>0</td>\n      <td>63</td>\n      <td>101</td>\n      <td>345</td>\n      <td>0</td>\n      <td>694</td>\n      <td>1556</td>\n      <td>448</td>\n      <td>3659</td>\n      <td>0</td>\n      <td>14888</td>\n    </tr>\n    <tr>\n      <th>8</th>\n      <td>2018-09-28</td>\n      <td>498</td>\n      <td>2</td>\n      <td>0</td>\n      <td>38</td>\n      <td>77</td>\n      <td>497</td>\n      <td>0</td>\n      <td>749</td>\n      <td>1075</td>\n      <td>586</td>\n      <td>5288</td>\n      <td>0</td>\n      <td>18404</td>\n    </tr>\n    <tr>\n      <th>9</th>\n      <td>2018-10-28</td>\n      <td>412</td>\n      <td>2</td>\n      <td>0</td>\n      <td>40</td>\n      <td>179</td>\n      <td>506</td>\n      <td>0</td>\n      <td>743</td>\n      <td>1398</td>\n      <td>569</td>\n      <td>6319</td>\n      <td>0</td>\n      <td>19963</td>\n    </tr>\n    <tr>\n      <th>10</th>\n      <td>2018-11-28</td>\n      <td>96</td>\n      <td>0</td>\n      <td>0</td>\n      <td>52</td>\n      <td>39</td>\n      <td>366</td>\n      <td>0</td>\n      <td>713</td>\n      <td>1861</td>\n      <td>943</td>\n      <td>5258</td>\n      <td>0</td>\n      <td>11358</td>\n    </tr>\n    <tr>\n      <th>11</th>\n      <td>2018-12-28</td>\n      <td>6</td>\n      <td>1</td>\n      <td>0</td>\n      <td>60</td>\n      <td>86</td>\n      <td>464</td>\n      <td>0</td>\n      <td>664</td>\n      <td>2294</td>\n      <td>901</td>\n      <td>5154</td>\n      <td>0</td>\n      <td>8060</td>\n    </tr>\n    <tr>\n      <th>12</th>\n      <td>2019-01-28</td>\n      <td>0</td>\n      <td>1</td>\n      <td>1</td>\n      <td>36</td>\n      <td>254</td>\n      <td>194</td>\n      <td>0</td>\n      <td>653</td>\n      <td>1365</td>\n      <td>1178</td>\n      <td>4694</td>\n      <td>0</td>\n      <td>6288</td>\n    </tr>\n    <tr>\n      <th>13</th>\n      <td>2019-02-28</td>\n      <td>0</td>\n      <td>1</td>\n      <td>0</td>\n      <td>25</td>\n      <td>120</td>\n      <td>219</td>\n      <td>0</td>\n      <td>708</td>\n      <td>1379</td>\n      <td>1235</td>\n      <td>6138</td>\n      <td>0</td>\n      <td>4997</td>\n    </tr>\n    <tr>\n      <th>14</th>\n      <td>2019-03-28</td>\n      <td>0</td>\n      <td>3</td>\n      <td>0</td>\n      <td>28</td>\n      <td>65</td>\n      <td>76</td>\n      <td>0</td>\n      <td>741</td>\n      <td>1516</td>\n      <td>1033</td>\n      <td>5580</td>\n      <td>0</td>\n      <td>5539</td>\n    </tr>\n    <tr>\n      <th>15</th>\n      <td>2019-04-28</td>\n      <td>0</td>\n      <td>2</td>\n      <td>3</td>\n      <td>26</td>\n      <td>44</td>\n      <td>27</td>\n      <td>0</td>\n      <td>713</td>\n      <td>1475</td>\n      <td>1283</td>\n      <td>5005</td>\n      <td>0</td>\n      <td>4231</td>\n    </tr>\n    <tr>\n      <th>16</th>\n      <td>2019-05-28</td>\n      <td>0</td>\n      <td>0</td>\n      <td>0</td>\n      <td>18</td>\n      <td>39</td>\n      <td>12</td>\n      <td>0</td>\n      <td>761</td>\n      <td>1531</td>\n      <td>1607</td>\n      <td>5140</td>\n      <td>0</td>\n      <td>4036</td>\n    </tr>\n  </tbody>\n</table>\n</div>",
      "text/plain": "   pk_partition  short_term_deposit  loans  mortgage  funds  securities  \\\n0    2018-01-28                 883     19        15    786         932   \n1    2018-02-28                 665      0         0     97          68   \n2    2018-03-28                 652      4         2    119          47   \n3    2018-04-28                 419      3         1    127          45   \n4    2018-05-28                 383      3         1     83          47   \n5    2018-06-28                 443      0         1     53          42   \n6    2018-07-28                 451      1         1     54          59   \n7    2018-08-28                 434      2         0     63         101   \n8    2018-09-28                 498      2         0     38          77   \n9    2018-10-28                 412      2         0     40         179   \n10   2018-11-28                  96      0         0     52          39   \n11   2018-12-28                   6      1         0     60          86   \n12   2019-01-28                   0      1         1     36         254   \n13   2019-02-28                   0      1         0     25         120   \n14   2019-03-28                   0      3         0     28          65   \n15   2019-04-28                   0      2         3     26          44   \n16   2019-05-28                   0      0         0     18          39   \n\n    long_term_deposit  em_account_pp  credit_card  payroll_account  \\\n0                4884              0         3325            13478   \n1                 225              0          510              974   \n2                 261              0          735             1015   \n3                 249              0          652             1098   \n4                 355              0          630             1126   \n5                 387              0          752             1119   \n6                 450              0          776             1652   \n7                 345              0          694             1556   \n8                 497              0          749             1075   \n9                 506              0          743             1398   \n10                366              0          713             1861   \n11                464              0          664             2294   \n12                194              0          653             1365   \n13                219              0          708             1379   \n14                 76              0          741             1516   \n15                 27              0          713             1475   \n16                 12              0          761             1531   \n\n    emc_account  debit_card  em_account_p  em_acount  \n0         15320       24696             2     215293  \n1           807        3708             0       4156  \n2           915        4062             0       4021  \n3           840        3507             0       3608  \n4           865        3193             0       3761  \n5           685        3700             0       5566  \n6           552        3973             0      13301  \n7           448        3659             0      14888  \n8           586        5288             0      18404  \n9           569        6319             0      19963  \n10          943        5258             0      11358  \n11          901        5154             0       8060  \n12         1178        4694             0       6288  \n13         1235        6138             0       4997  \n14         1033        5580             0       5539  \n15         1283        5005             0       4231  \n16         1607        5140             0       4036  "
     },
     "execution_count": 87,
     "metadata": {},
     "output_type": "execute_result"
    }
   ],
   "source": [
    "list_df = ['pk_partition','short_term_deposit','loans','mortgage','funds','securities',\n",
    " 'long_term_deposit','em_account_pp','credit_card','payroll_account','emc_account','debit_card','em_account_p','em_acount']\n",
    "\n",
    "sSQL = \"SELECT * FROM altas\"\n",
    "cursor.execute(sSQL)\n",
    "altas_df = pd.DataFrame(cursor.fetchall(), columns=list_df)\n",
    "altas_df"
   ]
  },
  {
   "cell_type": "markdown",
   "metadata": {},
   "source": [
    "## BAJAS"
   ]
  },
  {
   "cell_type": "code",
   "execution_count": 88,
   "metadata": {},
   "outputs": [
    {
     "data": {
      "text/plain": "Index(['pk_partition', 'short_term_deposit', 'loans', 'mortgage', 'funds',\n       'securities', 'long_term_deposit', 'em_account_pp', 'credit_card',\n       'payroll_account', 'emc_account', 'debit_card', 'em_account_p',\n       'em_acount'],\n      dtype='object')"
     },
     "execution_count": 88,
     "metadata": {},
     "output_type": "execute_result"
    }
   ],
   "source": [
    "bajas_df = pd.read_csv(dir_path+'bajas.csv')\n",
    "bajas_df.columns"
   ]
  },
  {
   "cell_type": "code",
   "execution_count": 89,
   "metadata": {},
   "outputs": [],
   "source": [
    "try:\n",
    "    sSQL = \"DROP TABLE bajas\"\n",
    "    cursor.execute(sSQL)\n",
    "except: \n",
    "    pass"
   ]
  },
  {
   "cell_type": "code",
   "execution_count": 90,
   "metadata": {},
   "outputs": [
    {
     "name": "stdout",
     "output_type": "stream",
     "text": [
      "CREATE TABLE bajas ( pk_partition VARCHAR(11), short_term_deposit INT, loans INT, mortgage INT, funds INT, securities INT, long_term_deposit INT, em_account_pp INT, credit_card INT, payroll_account INT, emc_account INT, debit_card INT, em_account_p INT, em_acount INT )\n"
     ]
    }
   ],
   "source": [
    "create_table(cursor, bajas_df, variables, \"bajas\")"
   ]
  },
  {
   "cell_type": "code",
   "execution_count": 91,
   "metadata": {},
   "outputs": [
    {
     "name": "stdout",
     "output_type": "stream",
     "text": [
      "Acabado!\n"
     ]
    }
   ],
   "source": [
    "insert_into_db (cursor, bajas_df, variables, \"bajas\")\n",
    "db.commit()"
   ]
  },
  {
   "cell_type": "code",
   "execution_count": 92,
   "metadata": {},
   "outputs": [
    {
     "data": {
      "text/html": "<div>\n<style scoped>\n    .dataframe tbody tr th:only-of-type {\n        vertical-align: middle;\n    }\n\n    .dataframe tbody tr th {\n        vertical-align: top;\n    }\n\n    .dataframe thead th {\n        text-align: right;\n    }\n</style>\n<table border=\"1\" class=\"dataframe\">\n  <thead>\n    <tr style=\"text-align: right;\">\n      <th></th>\n      <th>pk_partition</th>\n      <th>short_term_deposit</th>\n      <th>loans</th>\n      <th>mortgage</th>\n      <th>funds</th>\n      <th>securities</th>\n      <th>long_term_deposit</th>\n      <th>em_account_pp</th>\n      <th>credit_card</th>\n      <th>payroll_account</th>\n      <th>emc_account</th>\n      <th>debit_card</th>\n      <th>em_account_p</th>\n      <th>em_acount</th>\n    </tr>\n  </thead>\n  <tbody>\n    <tr>\n      <th>0</th>\n      <td>2018-01-28</td>\n      <td>0</td>\n      <td>0</td>\n      <td>0</td>\n      <td>0</td>\n      <td>0</td>\n      <td>0</td>\n      <td>0</td>\n      <td>0</td>\n      <td>0</td>\n      <td>0</td>\n      <td>0</td>\n      <td>0</td>\n      <td>0</td>\n    </tr>\n    <tr>\n      <th>1</th>\n      <td>2018-02-28</td>\n      <td>205</td>\n      <td>0</td>\n      <td>0</td>\n      <td>11</td>\n      <td>35</td>\n      <td>153</td>\n      <td>0</td>\n      <td>553</td>\n      <td>206</td>\n      <td>300</td>\n      <td>2913</td>\n      <td>0</td>\n      <td>2351</td>\n    </tr>\n    <tr>\n      <th>2</th>\n      <td>2018-03-28</td>\n      <td>331</td>\n      <td>0</td>\n      <td>0</td>\n      <td>22</td>\n      <td>47</td>\n      <td>252</td>\n      <td>0</td>\n      <td>506</td>\n      <td>272</td>\n      <td>314</td>\n      <td>2429</td>\n      <td>0</td>\n      <td>2436</td>\n    </tr>\n    <tr>\n      <th>3</th>\n      <td>2018-04-28</td>\n      <td>343</td>\n      <td>2</td>\n      <td>1</td>\n      <td>12</td>\n      <td>27</td>\n      <td>107</td>\n      <td>0</td>\n      <td>410</td>\n      <td>261</td>\n      <td>321</td>\n      <td>2735</td>\n      <td>0</td>\n      <td>2433</td>\n    </tr>\n    <tr>\n      <th>4</th>\n      <td>2018-05-28</td>\n      <td>668</td>\n      <td>0</td>\n      <td>0</td>\n      <td>22</td>\n      <td>18</td>\n      <td>106</td>\n      <td>0</td>\n      <td>558</td>\n      <td>254</td>\n      <td>243</td>\n      <td>3010</td>\n      <td>0</td>\n      <td>2286</td>\n    </tr>\n    <tr>\n      <th>5</th>\n      <td>2018-06-28</td>\n      <td>654</td>\n      <td>0</td>\n      <td>0</td>\n      <td>39</td>\n      <td>35</td>\n      <td>155</td>\n      <td>0</td>\n      <td>516</td>\n      <td>2271</td>\n      <td>293</td>\n      <td>2751</td>\n      <td>0</td>\n      <td>2465</td>\n    </tr>\n    <tr>\n      <th>6</th>\n      <td>2018-07-28</td>\n      <td>413</td>\n      <td>0</td>\n      <td>0</td>\n      <td>41</td>\n      <td>25</td>\n      <td>242</td>\n      <td>0</td>\n      <td>641</td>\n      <td>276</td>\n      <td>317</td>\n      <td>3223</td>\n      <td>0</td>\n      <td>3305</td>\n    </tr>\n    <tr>\n      <th>7</th>\n      <td>2018-08-28</td>\n      <td>381</td>\n      <td>1</td>\n      <td>0</td>\n      <td>16</td>\n      <td>21</td>\n      <td>218</td>\n      <td>0</td>\n      <td>625</td>\n      <td>354</td>\n      <td>300</td>\n      <td>4010</td>\n      <td>0</td>\n      <td>3222</td>\n    </tr>\n    <tr>\n      <th>8</th>\n      <td>2018-09-28</td>\n      <td>446</td>\n      <td>0</td>\n      <td>0</td>\n      <td>20</td>\n      <td>9</td>\n      <td>262</td>\n      <td>0</td>\n      <td>666</td>\n      <td>331</td>\n      <td>301</td>\n      <td>2792</td>\n      <td>0</td>\n      <td>3158</td>\n    </tr>\n    <tr>\n      <th>9</th>\n      <td>2018-10-28</td>\n      <td>424</td>\n      <td>0</td>\n      <td>1</td>\n      <td>28</td>\n      <td>32</td>\n      <td>284</td>\n      <td>0</td>\n      <td>647</td>\n      <td>315</td>\n      <td>342</td>\n      <td>3588</td>\n      <td>0</td>\n      <td>3454</td>\n    </tr>\n    <tr>\n      <th>10</th>\n      <td>2018-11-28</td>\n      <td>452</td>\n      <td>1</td>\n      <td>0</td>\n      <td>19</td>\n      <td>27</td>\n      <td>299</td>\n      <td>0</td>\n      <td>585</td>\n      <td>368</td>\n      <td>293</td>\n      <td>4140</td>\n      <td>0</td>\n      <td>4137</td>\n    </tr>\n    <tr>\n      <th>11</th>\n      <td>2018-12-28</td>\n      <td>496</td>\n      <td>3</td>\n      <td>0</td>\n      <td>20</td>\n      <td>26</td>\n      <td>162</td>\n      <td>0</td>\n      <td>640</td>\n      <td>2372</td>\n      <td>352</td>\n      <td>3168</td>\n      <td>0</td>\n      <td>4019</td>\n    </tr>\n    <tr>\n      <th>12</th>\n      <td>2019-01-28</td>\n      <td>403</td>\n      <td>3</td>\n      <td>0</td>\n      <td>28</td>\n      <td>19</td>\n      <td>284</td>\n      <td>0</td>\n      <td>696</td>\n      <td>400</td>\n      <td>298</td>\n      <td>4744</td>\n      <td>0</td>\n      <td>3418</td>\n    </tr>\n    <tr>\n      <th>13</th>\n      <td>2019-02-28</td>\n      <td>114</td>\n      <td>0</td>\n      <td>0</td>\n      <td>39</td>\n      <td>28</td>\n      <td>220</td>\n      <td>0</td>\n      <td>659</td>\n      <td>439</td>\n      <td>356</td>\n      <td>4064</td>\n      <td>0</td>\n      <td>3768</td>\n    </tr>\n    <tr>\n      <th>14</th>\n      <td>2019-03-28</td>\n      <td>9</td>\n      <td>3</td>\n      <td>0</td>\n      <td>22</td>\n      <td>43</td>\n      <td>197</td>\n      <td>0</td>\n      <td>707</td>\n      <td>390</td>\n      <td>347</td>\n      <td>3556</td>\n      <td>0</td>\n      <td>3472</td>\n    </tr>\n    <tr>\n      <th>15</th>\n      <td>2019-04-28</td>\n      <td>0</td>\n      <td>1</td>\n      <td>0</td>\n      <td>27</td>\n      <td>31</td>\n      <td>196</td>\n      <td>0</td>\n      <td>542</td>\n      <td>363</td>\n      <td>307</td>\n      <td>4227</td>\n      <td>0</td>\n      <td>3423</td>\n    </tr>\n    <tr>\n      <th>16</th>\n      <td>2019-05-28</td>\n      <td>0</td>\n      <td>0</td>\n      <td>0</td>\n      <td>23</td>\n      <td>32</td>\n      <td>251</td>\n      <td>0</td>\n      <td>707</td>\n      <td>501</td>\n      <td>305</td>\n      <td>4000</td>\n      <td>0</td>\n      <td>3484</td>\n    </tr>\n  </tbody>\n</table>\n</div>",
      "text/plain": "   pk_partition  short_term_deposit  loans  mortgage  funds  securities  \\\n0    2018-01-28                   0      0         0      0           0   \n1    2018-02-28                 205      0         0     11          35   \n2    2018-03-28                 331      0         0     22          47   \n3    2018-04-28                 343      2         1     12          27   \n4    2018-05-28                 668      0         0     22          18   \n5    2018-06-28                 654      0         0     39          35   \n6    2018-07-28                 413      0         0     41          25   \n7    2018-08-28                 381      1         0     16          21   \n8    2018-09-28                 446      0         0     20           9   \n9    2018-10-28                 424      0         1     28          32   \n10   2018-11-28                 452      1         0     19          27   \n11   2018-12-28                 496      3         0     20          26   \n12   2019-01-28                 403      3         0     28          19   \n13   2019-02-28                 114      0         0     39          28   \n14   2019-03-28                   9      3         0     22          43   \n15   2019-04-28                   0      1         0     27          31   \n16   2019-05-28                   0      0         0     23          32   \n\n    long_term_deposit  em_account_pp  credit_card  payroll_account  \\\n0                   0              0            0                0   \n1                 153              0          553              206   \n2                 252              0          506              272   \n3                 107              0          410              261   \n4                 106              0          558              254   \n5                 155              0          516             2271   \n6                 242              0          641              276   \n7                 218              0          625              354   \n8                 262              0          666              331   \n9                 284              0          647              315   \n10                299              0          585              368   \n11                162              0          640             2372   \n12                284              0          696              400   \n13                220              0          659              439   \n14                197              0          707              390   \n15                196              0          542              363   \n16                251              0          707              501   \n\n    emc_account  debit_card  em_account_p  em_acount  \n0             0           0             0          0  \n1           300        2913             0       2351  \n2           314        2429             0       2436  \n3           321        2735             0       2433  \n4           243        3010             0       2286  \n5           293        2751             0       2465  \n6           317        3223             0       3305  \n7           300        4010             0       3222  \n8           301        2792             0       3158  \n9           342        3588             0       3454  \n10          293        4140             0       4137  \n11          352        3168             0       4019  \n12          298        4744             0       3418  \n13          356        4064             0       3768  \n14          347        3556             0       3472  \n15          307        4227             0       3423  \n16          305        4000             0       3484  "
     },
     "execution_count": 92,
     "metadata": {},
     "output_type": "execute_result"
    }
   ],
   "source": [
    "list_df = ['pk_partition','short_term_deposit','loans','mortgage','funds','securities',\n",
    " 'long_term_deposit','em_account_pp','credit_card','payroll_account','emc_account','debit_card','em_account_p','em_acount']\n",
    "\n",
    "sSQL = \"SELECT * FROM bajas\"\n",
    "cursor.execute(sSQL)\n",
    "bajas_df = pd.DataFrame(cursor.fetchall(), columns=list_df)\n",
    "bajas_df"
   ]
  },
  {
   "cell_type": "markdown",
   "metadata": {},
   "source": [
    "## PRODUCTOS EXISTENTES"
   ]
  },
  {
   "cell_type": "code",
   "execution_count": 93,
   "metadata": {},
   "outputs": [
    {
     "data": {
      "text/plain": "Index(['pk_partition', 'short_term_deposit', 'loans', 'mortgage', 'funds',\n       'securities', 'long_term_deposit', 'em_account_pp', 'credit_card',\n       'payroll_account', 'emc_account', 'debit_card', 'em_account_p',\n       'em_acount'],\n      dtype='object')"
     },
     "execution_count": 93,
     "metadata": {},
     "output_type": "execute_result"
    }
   ],
   "source": [
    "products_exist_df = pd.read_csv(dir_path+'productos_existentes.csv')\n",
    "products_exist_df.columns"
   ]
  },
  {
   "cell_type": "code",
   "execution_count": 94,
   "metadata": {},
   "outputs": [],
   "source": [
    "try:\n",
    "    sSQL = \"DROP TABLE productos_existentes\"\n",
    "    cursor.execute(sSQL)\n",
    "except: \n",
    "    pass"
   ]
  },
  {
   "cell_type": "code",
   "execution_count": 95,
   "metadata": {},
   "outputs": [
    {
     "name": "stdout",
     "output_type": "stream",
     "text": [
      "CREATE TABLE productos_existentes ( pk_partition VARCHAR(11), short_term_deposit INT, loans INT, mortgage INT, funds INT, securities INT, long_term_deposit INT, em_account_pp INT, credit_card INT, payroll_account INT, emc_account INT, debit_card INT, em_account_p INT, em_acount INT )\n"
     ]
    }
   ],
   "source": [
    "create_table(cursor, products_exist_df, variables, \"productos_existentes\")"
   ]
  },
  {
   "cell_type": "code",
   "execution_count": 96,
   "metadata": {},
   "outputs": [
    {
     "name": "stdout",
     "output_type": "stream",
     "text": [
      "Acabado!\n"
     ]
    }
   ],
   "source": [
    "insert_into_db (cursor, products_exist_df, variables, \"productos_existentes\")\n",
    "db.commit()"
   ]
  },
  {
   "cell_type": "code",
   "execution_count": 97,
   "metadata": {},
   "outputs": [
    {
     "data": {
      "text/html": "<div>\n<style scoped>\n    .dataframe tbody tr th:only-of-type {\n        vertical-align: middle;\n    }\n\n    .dataframe tbody tr th {\n        vertical-align: top;\n    }\n\n    .dataframe thead th {\n        text-align: right;\n    }\n</style>\n<table border=\"1\" class=\"dataframe\">\n  <thead>\n    <tr style=\"text-align: right;\">\n      <th></th>\n      <th>pk_partition</th>\n      <th>short_term_deposit</th>\n      <th>loans</th>\n      <th>mortgage</th>\n      <th>funds</th>\n      <th>securities</th>\n      <th>long_term_deposit</th>\n      <th>em_account_pp</th>\n      <th>credit_card</th>\n      <th>payroll_account</th>\n      <th>emc_account</th>\n      <th>debit_card</th>\n      <th>em_account_p</th>\n      <th>em_acount</th>\n    </tr>\n  </thead>\n  <tbody>\n    <tr>\n      <th>0</th>\n      <td>2018-01-28</td>\n      <td>883</td>\n      <td>19</td>\n      <td>15</td>\n      <td>786</td>\n      <td>932</td>\n      <td>4884</td>\n      <td>0</td>\n      <td>3325</td>\n      <td>13478</td>\n      <td>15320</td>\n      <td>24696</td>\n      <td>2</td>\n      <td>215293</td>\n    </tr>\n    <tr>\n      <th>1</th>\n      <td>2018-02-28</td>\n      <td>1343</td>\n      <td>19</td>\n      <td>15</td>\n      <td>872</td>\n      <td>965</td>\n      <td>4956</td>\n      <td>0</td>\n      <td>3282</td>\n      <td>14246</td>\n      <td>15827</td>\n      <td>25448</td>\n      <td>2</td>\n      <td>217098</td>\n    </tr>\n    <tr>\n      <th>2</th>\n      <td>2018-03-28</td>\n      <td>1664</td>\n      <td>23</td>\n      <td>17</td>\n      <td>969</td>\n      <td>965</td>\n      <td>4965</td>\n      <td>0</td>\n      <td>3511</td>\n      <td>14989</td>\n      <td>16428</td>\n      <td>27046</td>\n      <td>2</td>\n      <td>218683</td>\n    </tr>\n    <tr>\n      <th>3</th>\n      <td>2018-04-28</td>\n      <td>1740</td>\n      <td>24</td>\n      <td>17</td>\n      <td>1084</td>\n      <td>983</td>\n      <td>5107</td>\n      <td>0</td>\n      <td>3725</td>\n      <td>15825</td>\n      <td>16947</td>\n      <td>27764</td>\n      <td>2</td>\n      <td>219816</td>\n    </tr>\n    <tr>\n      <th>4</th>\n      <td>2018-05-28</td>\n      <td>1455</td>\n      <td>27</td>\n      <td>18</td>\n      <td>1145</td>\n      <td>1012</td>\n      <td>5356</td>\n      <td>0</td>\n      <td>3797</td>\n      <td>16697</td>\n      <td>17569</td>\n      <td>27911</td>\n      <td>2</td>\n      <td>221291</td>\n    </tr>\n    <tr>\n      <th>5</th>\n      <td>2018-06-28</td>\n      <td>1244</td>\n      <td>27</td>\n      <td>19</td>\n      <td>1159</td>\n      <td>1019</td>\n      <td>5588</td>\n      <td>0</td>\n      <td>4002</td>\n      <td>15540</td>\n      <td>17950</td>\n      <td>28828</td>\n      <td>2</td>\n      <td>224328</td>\n    </tr>\n    <tr>\n      <th>6</th>\n      <td>2018-07-28</td>\n      <td>1282</td>\n      <td>28</td>\n      <td>20</td>\n      <td>1172</td>\n      <td>1053</td>\n      <td>5796</td>\n      <td>0</td>\n      <td>4137</td>\n      <td>16916</td>\n      <td>18185</td>\n      <td>29578</td>\n      <td>2</td>\n      <td>234324</td>\n    </tr>\n    <tr>\n      <th>7</th>\n      <td>2018-08-28</td>\n      <td>1335</td>\n      <td>29</td>\n      <td>20</td>\n      <td>1219</td>\n      <td>1133</td>\n      <td>5923</td>\n      <td>0</td>\n      <td>4206</td>\n      <td>18118</td>\n      <td>18333</td>\n      <td>29205</td>\n      <td>2</td>\n      <td>245980</td>\n    </tr>\n    <tr>\n      <th>8</th>\n      <td>2018-09-28</td>\n      <td>1386</td>\n      <td>31</td>\n      <td>20</td>\n      <td>1237</td>\n      <td>1201</td>\n      <td>6158</td>\n      <td>0</td>\n      <td>4289</td>\n      <td>18862</td>\n      <td>18618</td>\n      <td>31684</td>\n      <td>2</td>\n      <td>261210</td>\n    </tr>\n    <tr>\n      <th>9</th>\n      <td>2018-10-28</td>\n      <td>1374</td>\n      <td>33</td>\n      <td>19</td>\n      <td>1249</td>\n      <td>1348</td>\n      <td>6380</td>\n      <td>0</td>\n      <td>4385</td>\n      <td>19945</td>\n      <td>18844</td>\n      <td>34372</td>\n      <td>2</td>\n      <td>277707</td>\n    </tr>\n    <tr>\n      <th>10</th>\n      <td>2018-11-28</td>\n      <td>1018</td>\n      <td>32</td>\n      <td>19</td>\n      <td>1282</td>\n      <td>1360</td>\n      <td>6447</td>\n      <td>0</td>\n      <td>4512</td>\n      <td>21437</td>\n      <td>19494</td>\n      <td>35466</td>\n      <td>2</td>\n      <td>284900</td>\n    </tr>\n    <tr>\n      <th>11</th>\n      <td>2018-12-28</td>\n      <td>528</td>\n      <td>30</td>\n      <td>19</td>\n      <td>1322</td>\n      <td>1420</td>\n      <td>6749</td>\n      <td>0</td>\n      <td>4536</td>\n      <td>21359</td>\n      <td>20043</td>\n      <td>37430</td>\n      <td>2</td>\n      <td>288928</td>\n    </tr>\n    <tr>\n      <th>12</th>\n      <td>2019-01-28</td>\n      <td>125</td>\n      <td>28</td>\n      <td>20</td>\n      <td>1330</td>\n      <td>1655</td>\n      <td>6659</td>\n      <td>0</td>\n      <td>4493</td>\n      <td>22324</td>\n      <td>20921</td>\n      <td>37350</td>\n      <td>2</td>\n      <td>291786</td>\n    </tr>\n    <tr>\n      <th>13</th>\n      <td>2019-02-28</td>\n      <td>11</td>\n      <td>29</td>\n      <td>20</td>\n      <td>1316</td>\n      <td>1747</td>\n      <td>6658</td>\n      <td>0</td>\n      <td>4542</td>\n      <td>23264</td>\n      <td>21796</td>\n      <td>39399</td>\n      <td>2</td>\n      <td>292988</td>\n    </tr>\n    <tr>\n      <th>14</th>\n      <td>2019-03-28</td>\n      <td>2</td>\n      <td>29</td>\n      <td>20</td>\n      <td>1322</td>\n      <td>1769</td>\n      <td>6537</td>\n      <td>0</td>\n      <td>4576</td>\n      <td>24390</td>\n      <td>22480</td>\n      <td>41390</td>\n      <td>2</td>\n      <td>295046</td>\n    </tr>\n    <tr>\n      <th>15</th>\n      <td>2019-04-28</td>\n      <td>2</td>\n      <td>30</td>\n      <td>23</td>\n      <td>1320</td>\n      <td>1782</td>\n      <td>6368</td>\n      <td>0</td>\n      <td>4747</td>\n      <td>25501</td>\n      <td>23455</td>\n      <td>42140</td>\n      <td>2</td>\n      <td>295844</td>\n    </tr>\n    <tr>\n      <th>16</th>\n      <td>2019-05-28</td>\n      <td>2</td>\n      <td>30</td>\n      <td>23</td>\n      <td>1315</td>\n      <td>1789</td>\n      <td>6129</td>\n      <td>0</td>\n      <td>4801</td>\n      <td>26529</td>\n      <td>24751</td>\n      <td>43261</td>\n      <td>2</td>\n      <td>296380</td>\n    </tr>\n  </tbody>\n</table>\n</div>",
      "text/plain": "   pk_partition  short_term_deposit  loans  mortgage  funds  securities  \\\n0    2018-01-28                 883     19        15    786         932   \n1    2018-02-28                1343     19        15    872         965   \n2    2018-03-28                1664     23        17    969         965   \n3    2018-04-28                1740     24        17   1084         983   \n4    2018-05-28                1455     27        18   1145        1012   \n5    2018-06-28                1244     27        19   1159        1019   \n6    2018-07-28                1282     28        20   1172        1053   \n7    2018-08-28                1335     29        20   1219        1133   \n8    2018-09-28                1386     31        20   1237        1201   \n9    2018-10-28                1374     33        19   1249        1348   \n10   2018-11-28                1018     32        19   1282        1360   \n11   2018-12-28                 528     30        19   1322        1420   \n12   2019-01-28                 125     28        20   1330        1655   \n13   2019-02-28                  11     29        20   1316        1747   \n14   2019-03-28                   2     29        20   1322        1769   \n15   2019-04-28                   2     30        23   1320        1782   \n16   2019-05-28                   2     30        23   1315        1789   \n\n    long_term_deposit  em_account_pp  credit_card  payroll_account  \\\n0                4884              0         3325            13478   \n1                4956              0         3282            14246   \n2                4965              0         3511            14989   \n3                5107              0         3725            15825   \n4                5356              0         3797            16697   \n5                5588              0         4002            15540   \n6                5796              0         4137            16916   \n7                5923              0         4206            18118   \n8                6158              0         4289            18862   \n9                6380              0         4385            19945   \n10               6447              0         4512            21437   \n11               6749              0         4536            21359   \n12               6659              0         4493            22324   \n13               6658              0         4542            23264   \n14               6537              0         4576            24390   \n15               6368              0         4747            25501   \n16               6129              0         4801            26529   \n\n    emc_account  debit_card  em_account_p  em_acount  \n0         15320       24696             2     215293  \n1         15827       25448             2     217098  \n2         16428       27046             2     218683  \n3         16947       27764             2     219816  \n4         17569       27911             2     221291  \n5         17950       28828             2     224328  \n6         18185       29578             2     234324  \n7         18333       29205             2     245980  \n8         18618       31684             2     261210  \n9         18844       34372             2     277707  \n10        19494       35466             2     284900  \n11        20043       37430             2     288928  \n12        20921       37350             2     291786  \n13        21796       39399             2     292988  \n14        22480       41390             2     295046  \n15        23455       42140             2     295844  \n16        24751       43261             2     296380  "
     },
     "execution_count": 97,
     "metadata": {},
     "output_type": "execute_result"
    }
   ],
   "source": [
    "list_df = ['pk_partition','short_term_deposit','loans','mortgage','funds','securities',\n",
    " 'long_term_deposit','em_account_pp','credit_card','payroll_account','emc_account','debit_card','em_account_p','em_acount']\n",
    "\n",
    "sSQL = \"SELECT * FROM productos_existentes\"\n",
    "cursor.execute(sSQL)\n",
    "products_exist_df = pd.DataFrame(cursor.fetchall(), columns=list_df)\n",
    "products_exist_df"
   ]
  },
  {
   "cell_type": "markdown",
   "metadata": {},
   "source": [
    "## COMBINATIONS"
   ]
  },
  {
   "cell_type": "code",
   "execution_count": 98,
   "metadata": {},
   "outputs": [
    {
     "data": {
      "text/plain": "Index(['producto_1', 'producto_2', 'total', 'total_1', 'total_2', 'prop_1'], dtype='object')"
     },
     "execution_count": 98,
     "metadata": {},
     "output_type": "execute_result"
    }
   ],
   "source": [
    "combinations_df = pd.read_csv(dir_path+'combinaciones.csv', index_col=0)\n",
    "combinations_df.columns"
   ]
  },
  {
   "cell_type": "code",
   "execution_count": 99,
   "metadata": {},
   "outputs": [],
   "source": [
    "try:\n",
    "    sSQL = \"DROP TABLE combinaciones\"\n",
    "    cursor.execute(sSQL)\n",
    "except: \n",
    "    pass"
   ]
  },
  {
   "cell_type": "code",
   "execution_count": 100,
   "metadata": {},
   "outputs": [
    {
     "name": "stdout",
     "output_type": "stream",
     "text": [
      "CREATE TABLE combinaciones ( producto_1 VARCHAR(30), producto_2 VARCHAR(30), total INT, total_1 INT, total_2 INT, prop_1 FLOAT )\n"
     ]
    }
   ],
   "source": [
    "create_table(cursor, combinations_df, variables, \"combinaciones\")"
   ]
  },
  {
   "cell_type": "code",
   "execution_count": 101,
   "metadata": {},
   "outputs": [
    {
     "name": "stdout",
     "output_type": "stream",
     "text": [
      "Acabado!\n"
     ]
    }
   ],
   "source": [
    "insert_into_db (cursor, combinations_df, variables, \"combinaciones\")\n",
    "db.commit()"
   ]
  },
  {
   "cell_type": "code",
   "execution_count": 102,
   "metadata": {},
   "outputs": [
    {
     "data": {
      "text/html": "<div>\n<style scoped>\n    .dataframe tbody tr th:only-of-type {\n        vertical-align: middle;\n    }\n\n    .dataframe tbody tr th {\n        vertical-align: top;\n    }\n\n    .dataframe thead th {\n        text-align: right;\n    }\n</style>\n<table border=\"1\" class=\"dataframe\">\n  <thead>\n    <tr style=\"text-align: right;\">\n      <th></th>\n      <th>producto_1</th>\n      <th>producto_2</th>\n      <th>total</th>\n      <th>total_1</th>\n      <th>total_2</th>\n      <th>prop_1</th>\n    </tr>\n  </thead>\n  <tbody>\n    <tr>\n      <th>0</th>\n      <td>short_term_deposit</td>\n      <td>em_acount</td>\n      <td>8626</td>\n      <td>15394</td>\n      <td>4381602</td>\n      <td>56.034800</td>\n    </tr>\n    <tr>\n      <th>1</th>\n      <td>short_term_deposit</td>\n      <td>debit_card</td>\n      <td>464</td>\n      <td>15394</td>\n      <td>562968</td>\n      <td>3.014160</td>\n    </tr>\n    <tr>\n      <th>2</th>\n      <td>short_term_deposit</td>\n      <td>long_term_deposit</td>\n      <td>365</td>\n      <td>15394</td>\n      <td>100660</td>\n      <td>2.371050</td>\n    </tr>\n    <tr>\n      <th>3</th>\n      <td>short_term_deposit</td>\n      <td>emc_account</td>\n      <td>353</td>\n      <td>15394</td>\n      <td>326961</td>\n      <td>2.293100</td>\n    </tr>\n    <tr>\n      <th>4</th>\n      <td>short_term_deposit</td>\n      <td>payroll_account</td>\n      <td>328</td>\n      <td>15394</td>\n      <td>329420</td>\n      <td>2.130700</td>\n    </tr>\n    <tr>\n      <th>...</th>\n      <td>...</td>\n      <td>...</td>\n      <td>...</td>\n      <td>...</td>\n      <td>...</td>\n      <td>...</td>\n    </tr>\n    <tr>\n      <th>74</th>\n      <td>em_account_p</td>\n      <td>payroll</td>\n      <td>5</td>\n      <td>34</td>\n      <td>205787</td>\n      <td>14.705900</td>\n    </tr>\n    <tr>\n      <th>75</th>\n      <td>em_account_p</td>\n      <td>pension_plan</td>\n      <td>5</td>\n      <td>34</td>\n      <td>217802</td>\n      <td>14.705900</td>\n    </tr>\n    <tr>\n      <th>76</th>\n      <td>em_acount</td>\n      <td>pension_plan</td>\n      <td>16562</td>\n      <td>4381602</td>\n      <td>217802</td>\n      <td>0.377990</td>\n    </tr>\n    <tr>\n      <th>77</th>\n      <td>em_acount</td>\n      <td>payroll</td>\n      <td>15958</td>\n      <td>4381602</td>\n      <td>205787</td>\n      <td>0.364205</td>\n    </tr>\n    <tr>\n      <th>78</th>\n      <td>payroll</td>\n      <td>pension_plan</td>\n      <td>205787</td>\n      <td>205787</td>\n      <td>217802</td>\n      <td>100.000000</td>\n    </tr>\n  </tbody>\n</table>\n<p>79 rows × 6 columns</p>\n</div>",
      "text/plain": "            producto_1         producto_2   total  total_1  total_2  \\\n0   short_term_deposit          em_acount    8626    15394  4381602   \n1   short_term_deposit         debit_card     464    15394   562968   \n2   short_term_deposit  long_term_deposit     365    15394   100660   \n3   short_term_deposit        emc_account     353    15394   326961   \n4   short_term_deposit    payroll_account     328    15394   329420   \n..                 ...                ...     ...      ...      ...   \n74        em_account_p            payroll       5       34   205787   \n75        em_account_p       pension_plan       5       34   217802   \n76           em_acount       pension_plan   16562  4381602   217802   \n77           em_acount            payroll   15958  4381602   205787   \n78             payroll       pension_plan  205787   205787   217802   \n\n        prop_1  \n0    56.034800  \n1     3.014160  \n2     2.371050  \n3     2.293100  \n4     2.130700  \n..         ...  \n74   14.705900  \n75   14.705900  \n76    0.377990  \n77    0.364205  \n78  100.000000  \n\n[79 rows x 6 columns]"
     },
     "execution_count": 102,
     "metadata": {},
     "output_type": "execute_result"
    }
   ],
   "source": [
    "list_df = ['producto_1', 'producto_2', 'total', 'total_1', 'total_2', 'prop_1']\n",
    "\n",
    "sSQL = \"SELECT * FROM combinaciones\"\n",
    "cursor.execute(sSQL)\n",
    "df = pd.DataFrame(cursor.fetchall(), columns=list_df)\n",
    "df"
   ]
  },
  {
   "cell_type": "markdown",
   "metadata": {},
   "source": [
    "## MAPA CLIENTES"
   ]
  },
  {
   "cell_type": "code",
   "execution_count": 103,
   "metadata": {},
   "outputs": [
    {
     "data": {
      "text/html": "<div>\n<style scoped>\n    .dataframe tbody tr th:only-of-type {\n        vertical-align: middle;\n    }\n\n    .dataframe tbody tr th {\n        vertical-align: top;\n    }\n\n    .dataframe thead th {\n        text-align: right;\n    }\n</style>\n<table border=\"1\" class=\"dataframe\">\n  <thead>\n    <tr style=\"text-align: right;\">\n      <th></th>\n      <th>pais</th>\n      <th>region</th>\n      <th>lat</th>\n      <th>lon</th>\n      <th>count</th>\n    </tr>\n  </thead>\n  <tbody>\n    <tr>\n      <th>0</th>\n      <td>Algeria</td>\n      <td>NaN</td>\n      <td>28.0339</td>\n      <td>1.659600</td>\n      <td>1</td>\n    </tr>\n    <tr>\n      <th>1</th>\n      <td>Argentina</td>\n      <td>NaN</td>\n      <td>-38.4161</td>\n      <td>-63.616700</td>\n      <td>3</td>\n    </tr>\n    <tr>\n      <th>2</th>\n      <td>Austria</td>\n      <td>NaN</td>\n      <td>47.5162</td>\n      <td>14.550100</td>\n      <td>3</td>\n    </tr>\n    <tr>\n      <th>3</th>\n      <td>Belgium</td>\n      <td>NaN</td>\n      <td>50.8333</td>\n      <td>4.469936</td>\n      <td>2</td>\n    </tr>\n    <tr>\n      <th>4</th>\n      <td>Brazil</td>\n      <td>NaN</td>\n      <td>-14.2350</td>\n      <td>-51.925300</td>\n      <td>2</td>\n    </tr>\n  </tbody>\n</table>\n</div>",
      "text/plain": "        pais region      lat        lon  count\n0    Algeria    NaN  28.0339   1.659600      1\n1  Argentina    NaN -38.4161 -63.616700      3\n2    Austria    NaN  47.5162  14.550100      3\n3    Belgium    NaN  50.8333   4.469936      2\n4     Brazil    NaN -14.2350 -51.925300      2"
     },
     "execution_count": 103,
     "metadata": {},
     "output_type": "execute_result"
    }
   ],
   "source": [
    "mapa_df = pd.read_csv(dir_path+'mapa_clientes.csv', index_col=0)\n",
    "mapa_df.columns = ['pais','region','lat','lon','count']\n",
    "mapa_df.head()\n",
    "#mapa_df.columns"
   ]
  },
  {
   "cell_type": "code",
   "execution_count": 104,
   "metadata": {},
   "outputs": [],
   "source": [
    "try:\n",
    "    sSQL = \"DROP TABLE mapa_clientes\"\n",
    "    cursor.execute(sSQL)\n",
    "except: \n",
    "    pass"
   ]
  },
  {
   "cell_type": "code",
   "execution_count": 105,
   "metadata": {},
   "outputs": [
    {
     "name": "stdout",
     "output_type": "stream",
     "text": [
      "CREATE TABLE mapa_clientes ( pais VARCHAR(30), region VARCHAR(30), lat FLOAT, lon FLOAT, count INT )\n"
     ]
    }
   ],
   "source": [
    "create_table(cursor, mapa_df, variables, \"mapa_clientes\")"
   ]
  },
  {
   "cell_type": "code",
   "execution_count": 106,
   "metadata": {},
   "outputs": [
    {
     "name": "stdout",
     "output_type": "stream",
     "text": [
      "Acabado!\n"
     ]
    }
   ],
   "source": [
    "insert_into_db (cursor, mapa_df, variables, \"mapa_clientes\")\n",
    "db.commit()"
   ]
  },
  {
   "cell_type": "code",
   "execution_count": 107,
   "metadata": {},
   "outputs": [
    {
     "data": {
      "text/html": "<div>\n<style scoped>\n    .dataframe tbody tr th:only-of-type {\n        vertical-align: middle;\n    }\n\n    .dataframe tbody tr th {\n        vertical-align: top;\n    }\n\n    .dataframe thead th {\n        text-align: right;\n    }\n</style>\n<table border=\"1\" class=\"dataframe\">\n  <thead>\n    <tr style=\"text-align: right;\">\n      <th></th>\n      <th>pais</th>\n      <th>region</th>\n      <th>lat</th>\n      <th>lon</th>\n      <th>count</th>\n    </tr>\n  </thead>\n  <tbody>\n    <tr>\n      <th>0</th>\n      <td>Algeria</td>\n      <td>nan</td>\n      <td>28.0339</td>\n      <td>1.65960</td>\n      <td>1</td>\n    </tr>\n    <tr>\n      <th>1</th>\n      <td>Argentina</td>\n      <td>nan</td>\n      <td>-38.4161</td>\n      <td>-63.61670</td>\n      <td>3</td>\n    </tr>\n    <tr>\n      <th>2</th>\n      <td>Austria</td>\n      <td>nan</td>\n      <td>47.5162</td>\n      <td>14.55010</td>\n      <td>3</td>\n    </tr>\n    <tr>\n      <th>3</th>\n      <td>Belgium</td>\n      <td>nan</td>\n      <td>50.8333</td>\n      <td>4.46994</td>\n      <td>2</td>\n    </tr>\n    <tr>\n      <th>4</th>\n      <td>Brazil</td>\n      <td>nan</td>\n      <td>-14.2350</td>\n      <td>-51.92530</td>\n      <td>2</td>\n    </tr>\n    <tr>\n      <th>...</th>\n      <td>...</td>\n      <td>...</td>\n      <td>...</td>\n      <td>...</td>\n      <td>...</td>\n    </tr>\n    <tr>\n      <th>74</th>\n      <td>Spain</td>\n      <td>Ávila</td>\n      <td>40.6564</td>\n      <td>-4.70032</td>\n      <td>811</td>\n    </tr>\n    <tr>\n      <th>75</th>\n      <td>Switzerland</td>\n      <td>nan</td>\n      <td>46.8182</td>\n      <td>8.22750</td>\n      <td>11</td>\n    </tr>\n    <tr>\n      <th>76</th>\n      <td>US</td>\n      <td>nan</td>\n      <td>40.0000</td>\n      <td>-100.00000</td>\n      <td>8</td>\n    </tr>\n    <tr>\n      <th>77</th>\n      <td>United Kingdom</td>\n      <td>nan</td>\n      <td>55.3781</td>\n      <td>-3.43600</td>\n      <td>25</td>\n    </tr>\n    <tr>\n      <th>78</th>\n      <td>Venezuela</td>\n      <td>nan</td>\n      <td>6.4238</td>\n      <td>-66.58970</td>\n      <td>2</td>\n    </tr>\n  </tbody>\n</table>\n<p>79 rows × 5 columns</p>\n</div>",
      "text/plain": "              pais region      lat        lon  count\n0          Algeria    nan  28.0339    1.65960      1\n1        Argentina    nan -38.4161  -63.61670      3\n2          Austria    nan  47.5162   14.55010      3\n3          Belgium    nan  50.8333    4.46994      2\n4           Brazil    nan -14.2350  -51.92530      2\n..             ...    ...      ...        ...    ...\n74           Spain  Ávila  40.6564   -4.70032    811\n75     Switzerland    nan  46.8182    8.22750     11\n76              US    nan  40.0000 -100.00000      8\n77  United Kingdom    nan  55.3781   -3.43600     25\n78       Venezuela    nan   6.4238  -66.58970      2\n\n[79 rows x 5 columns]"
     },
     "execution_count": 107,
     "metadata": {},
     "output_type": "execute_result"
    }
   ],
   "source": [
    "list_df = ['pais','region','lat','lon','count']\n",
    "\n",
    "sSQL = \"SELECT * FROM mapa_clientes\"\n",
    "cursor.execute(sSQL)\n",
    "df = pd.DataFrame(cursor.fetchall(), columns=list_df)\n",
    "df"
   ]
  },
  {
   "cell_type": "markdown",
   "metadata": {},
   "source": [
    "## PERMANENCIAS"
   ]
  },
  {
   "cell_type": "code",
   "execution_count": 143,
   "metadata": {},
   "outputs": [
    {
     "data": {
      "text/html": "<div>\n<style scoped>\n    .dataframe tbody tr th:only-of-type {\n        vertical-align: middle;\n    }\n\n    .dataframe tbody tr th {\n        vertical-align: top;\n    }\n\n    .dataframe thead th {\n        text-align: right;\n    }\n</style>\n<table border=\"1\" class=\"dataframe\">\n  <thead>\n    <tr style=\"text-align: right;\">\n      <th></th>\n      <th>short_term_deposit</th>\n      <th>loans</th>\n      <th>mortgage</th>\n      <th>funds</th>\n      <th>securities</th>\n      <th>long_term_deposit</th>\n      <th>em_account_pp</th>\n      <th>credit_card</th>\n      <th>payroll_account</th>\n      <th>emc_account</th>\n      <th>debit_card</th>\n      <th>em_account_p</th>\n      <th>em_acount</th>\n    </tr>\n  </thead>\n  <tbody>\n    <tr>\n      <th>1</th>\n      <td>222</td>\n      <td>0</td>\n      <td>0</td>\n      <td>50</td>\n      <td>123</td>\n      <td>185</td>\n      <td>0</td>\n      <td>3885</td>\n      <td>1530</td>\n      <td>1189</td>\n      <td>30931</td>\n      <td>0</td>\n      <td>7691</td>\n    </tr>\n    <tr>\n      <th>2</th>\n      <td>347</td>\n      <td>0</td>\n      <td>0</td>\n      <td>44</td>\n      <td>104</td>\n      <td>267</td>\n      <td>0</td>\n      <td>2323</td>\n      <td>824</td>\n      <td>698</td>\n      <td>8176</td>\n      <td>0</td>\n      <td>4293</td>\n    </tr>\n    <tr>\n      <th>3</th>\n      <td>2837</td>\n      <td>2</td>\n      <td>1</td>\n      <td>37</td>\n      <td>58</td>\n      <td>130</td>\n      <td>0</td>\n      <td>1005</td>\n      <td>621</td>\n      <td>527</td>\n      <td>4247</td>\n      <td>0</td>\n      <td>2967</td>\n    </tr>\n    <tr>\n      <th>4</th>\n      <td>22</td>\n      <td>1</td>\n      <td>0</td>\n      <td>30</td>\n      <td>24</td>\n      <td>124</td>\n      <td>0</td>\n      <td>586</td>\n      <td>492</td>\n      <td>358</td>\n      <td>2441</td>\n      <td>0</td>\n      <td>2350</td>\n    </tr>\n    <tr>\n      <th>5</th>\n      <td>1</td>\n      <td>0</td>\n      <td>0</td>\n      <td>24</td>\n      <td>30</td>\n      <td>160</td>\n      <td>0</td>\n      <td>436</td>\n      <td>2250</td>\n      <td>295</td>\n      <td>1939</td>\n      <td>0</td>\n      <td>2099</td>\n    </tr>\n  </tbody>\n</table>\n</div>",
      "text/plain": "   short_term_deposit  loans  mortgage  funds  securities  long_term_deposit  \\\n1                 222      0         0     50         123                185   \n2                 347      0         0     44         104                267   \n3                2837      2         1     37          58                130   \n4                  22      1         0     30          24                124   \n5                   1      0         0     24          30                160   \n\n   em_account_pp  credit_card  payroll_account  emc_account  debit_card  \\\n1              0         3885             1530         1189       30931   \n2              0         2323              824          698        8176   \n3              0         1005              621          527        4247   \n4              0          586              492          358        2441   \n5              0          436             2250          295        1939   \n\n   em_account_p  em_acount  \n1             0       7691  \n2             0       4293  \n3             0       2967  \n4             0       2350  \n5             0       2099  "
     },
     "execution_count": 143,
     "metadata": {},
     "output_type": "execute_result"
    }
   ],
   "source": [
    "permanencias_df = pd.read_csv(dir_path+'permanencias.csv', index_col=0)\n",
    "permanencias_df.head()"
   ]
  },
  {
   "cell_type": "code",
   "execution_count": 144,
   "metadata": {},
   "outputs": [
    {
     "data": {
      "text/plain": "short_term_deposit    0\nloans                 0\nmortgage              0\nfunds                 0\nsecurities            0\nlong_term_deposit     0\nem_account_pp         0\ncredit_card           0\npayroll_account       0\nemc_account           0\ndebit_card            0\nem_account_p          0\nem_acount             0\ndtype: int64"
     },
     "execution_count": 144,
     "metadata": {},
     "output_type": "execute_result"
    }
   ],
   "source": [
    "permanencias_df.isnull().sum()"
   ]
  },
  {
   "cell_type": "code",
   "execution_count": 145,
   "metadata": {},
   "outputs": [],
   "source": [
    "try:\n",
    "    sSQL = \"DROP TABLE permanencias\"\n",
    "    cursor.execute(sSQL)\n",
    "except: \n",
    "    pass"
   ]
  },
  {
   "cell_type": "code",
   "execution_count": 146,
   "metadata": {},
   "outputs": [
    {
     "name": "stdout",
     "output_type": "stream",
     "text": [
      "CREATE TABLE permanencias ( short_term_deposit INT, loans INT, mortgage INT, funds INT, securities INT, long_term_deposit INT, em_account_pp INT, credit_card INT, payroll_account INT, emc_account INT, debit_card INT, em_account_p INT, em_acount INT )\n"
     ]
    }
   ],
   "source": [
    "create_table(cursor, permanencias_df, variables, \"permanencias\")"
   ]
  },
  {
   "cell_type": "code",
   "execution_count": 147,
   "metadata": {},
   "outputs": [
    {
     "name": "stdout",
     "output_type": "stream",
     "text": [
      "Acabado!\n"
     ]
    }
   ],
   "source": [
    "insert_into_db (cursor, permanencias_df, variables, \"permanencias\")\n",
    "db.commit()"
   ]
  },
  {
   "cell_type": "code",
   "execution_count": 148,
   "metadata": {},
   "outputs": [
    {
     "data": {
      "text/html": "<div>\n<style scoped>\n    .dataframe tbody tr th:only-of-type {\n        vertical-align: middle;\n    }\n\n    .dataframe tbody tr th {\n        vertical-align: top;\n    }\n\n    .dataframe thead th {\n        text-align: right;\n    }\n</style>\n<table border=\"1\" class=\"dataframe\">\n  <thead>\n    <tr style=\"text-align: right;\">\n      <th></th>\n      <th>short_term_deposit</th>\n      <th>loans</th>\n      <th>mortgage</th>\n      <th>funds</th>\n      <th>securities</th>\n      <th>long_term_deposit</th>\n      <th>em_account_pp</th>\n      <th>credit_card</th>\n      <th>payroll_account</th>\n      <th>emc_account</th>\n      <th>debit_card</th>\n      <th>em_account_p</th>\n      <th>em_acount</th>\n    </tr>\n  </thead>\n  <tbody>\n    <tr>\n      <th>0</th>\n      <td>222</td>\n      <td>0</td>\n      <td>0</td>\n      <td>50</td>\n      <td>123</td>\n      <td>185</td>\n      <td>0</td>\n      <td>3885</td>\n      <td>1530</td>\n      <td>1189</td>\n      <td>30931</td>\n      <td>0</td>\n      <td>7691</td>\n    </tr>\n    <tr>\n      <th>1</th>\n      <td>347</td>\n      <td>0</td>\n      <td>0</td>\n      <td>44</td>\n      <td>104</td>\n      <td>267</td>\n      <td>0</td>\n      <td>2323</td>\n      <td>824</td>\n      <td>698</td>\n      <td>8176</td>\n      <td>0</td>\n      <td>4293</td>\n    </tr>\n    <tr>\n      <th>2</th>\n      <td>2837</td>\n      <td>2</td>\n      <td>1</td>\n      <td>37</td>\n      <td>58</td>\n      <td>130</td>\n      <td>0</td>\n      <td>1005</td>\n      <td>621</td>\n      <td>527</td>\n      <td>4247</td>\n      <td>0</td>\n      <td>2967</td>\n    </tr>\n    <tr>\n      <th>3</th>\n      <td>22</td>\n      <td>1</td>\n      <td>0</td>\n      <td>30</td>\n      <td>24</td>\n      <td>124</td>\n      <td>0</td>\n      <td>586</td>\n      <td>492</td>\n      <td>358</td>\n      <td>2441</td>\n      <td>0</td>\n      <td>2350</td>\n    </tr>\n    <tr>\n      <th>4</th>\n      <td>1</td>\n      <td>0</td>\n      <td>0</td>\n      <td>24</td>\n      <td>30</td>\n      <td>160</td>\n      <td>0</td>\n      <td>436</td>\n      <td>2250</td>\n      <td>295</td>\n      <td>1939</td>\n      <td>0</td>\n      <td>2099</td>\n    </tr>\n    <tr>\n      <th>5</th>\n      <td>7</td>\n      <td>1</td>\n      <td>0</td>\n      <td>39</td>\n      <td>17</td>\n      <td>245</td>\n      <td>0</td>\n      <td>306</td>\n      <td>399</td>\n      <td>291</td>\n      <td>1649</td>\n      <td>0</td>\n      <td>2256</td>\n    </tr>\n    <tr>\n      <th>6</th>\n      <td>0</td>\n      <td>2</td>\n      <td>0</td>\n      <td>20</td>\n      <td>15</td>\n      <td>222</td>\n      <td>0</td>\n      <td>246</td>\n      <td>430</td>\n      <td>255</td>\n      <td>1460</td>\n      <td>0</td>\n      <td>1945</td>\n    </tr>\n    <tr>\n      <th>7</th>\n      <td>0</td>\n      <td>2</td>\n      <td>0</td>\n      <td>15</td>\n      <td>11</td>\n      <td>255</td>\n      <td>0</td>\n      <td>179</td>\n      <td>370</td>\n      <td>232</td>\n      <td>797</td>\n      <td>0</td>\n      <td>1653</td>\n    </tr>\n    <tr>\n      <th>8</th>\n      <td>3</td>\n      <td>0</td>\n      <td>1</td>\n      <td>19</td>\n      <td>13</td>\n      <td>280</td>\n      <td>0</td>\n      <td>122</td>\n      <td>295</td>\n      <td>204</td>\n      <td>688</td>\n      <td>0</td>\n      <td>1495</td>\n    </tr>\n    <tr>\n      <th>9</th>\n      <td>0</td>\n      <td>0</td>\n      <td>0</td>\n      <td>22</td>\n      <td>8</td>\n      <td>289</td>\n      <td>0</td>\n      <td>108</td>\n      <td>266</td>\n      <td>181</td>\n      <td>646</td>\n      <td>0</td>\n      <td>1647</td>\n    </tr>\n    <tr>\n      <th>10</th>\n      <td>2</td>\n      <td>1</td>\n      <td>0</td>\n      <td>20</td>\n      <td>8</td>\n      <td>152</td>\n      <td>0</td>\n      <td>99</td>\n      <td>1254</td>\n      <td>184</td>\n      <td>450</td>\n      <td>0</td>\n      <td>1399</td>\n    </tr>\n    <tr>\n      <th>11</th>\n      <td>3</td>\n      <td>2</td>\n      <td>0</td>\n      <td>19</td>\n      <td>6</td>\n      <td>268</td>\n      <td>0</td>\n      <td>78</td>\n      <td>103</td>\n      <td>148</td>\n      <td>476</td>\n      <td>0</td>\n      <td>1070</td>\n    </tr>\n    <tr>\n      <th>12</th>\n      <td>1</td>\n      <td>0</td>\n      <td>0</td>\n      <td>25</td>\n      <td>8</td>\n      <td>531</td>\n      <td>0</td>\n      <td>57</td>\n      <td>123</td>\n      <td>132</td>\n      <td>449</td>\n      <td>0</td>\n      <td>1045</td>\n    </tr>\n    <tr>\n      <th>13</th>\n      <td>0</td>\n      <td>2</td>\n      <td>0</td>\n      <td>10</td>\n      <td>4</td>\n      <td>72</td>\n      <td>0</td>\n      <td>71</td>\n      <td>82</td>\n      <td>113</td>\n      <td>262</td>\n      <td>0</td>\n      <td>1001</td>\n    </tr>\n    <tr>\n      <th>14</th>\n      <td>0</td>\n      <td>1</td>\n      <td>0</td>\n      <td>7</td>\n      <td>5</td>\n      <td>60</td>\n      <td>0</td>\n      <td>46</td>\n      <td>65</td>\n      <td>79</td>\n      <td>259</td>\n      <td>0</td>\n      <td>870</td>\n    </tr>\n    <tr>\n      <th>15</th>\n      <td>0</td>\n      <td>0</td>\n      <td>0</td>\n      <td>4</td>\n      <td>7</td>\n      <td>66</td>\n      <td>0</td>\n      <td>43</td>\n      <td>63</td>\n      <td>86</td>\n      <td>197</td>\n      <td>0</td>\n      <td>929</td>\n    </tr>\n  </tbody>\n</table>\n</div>",
      "text/plain": "    short_term_deposit  loans  mortgage  funds  securities  long_term_deposit  \\\n0                  222      0         0     50         123                185   \n1                  347      0         0     44         104                267   \n2                 2837      2         1     37          58                130   \n3                   22      1         0     30          24                124   \n4                    1      0         0     24          30                160   \n5                    7      1         0     39          17                245   \n6                    0      2         0     20          15                222   \n7                    0      2         0     15          11                255   \n8                    3      0         1     19          13                280   \n9                    0      0         0     22           8                289   \n10                   2      1         0     20           8                152   \n11                   3      2         0     19           6                268   \n12                   1      0         0     25           8                531   \n13                   0      2         0     10           4                 72   \n14                   0      1         0      7           5                 60   \n15                   0      0         0      4           7                 66   \n\n    em_account_pp  credit_card  payroll_account  emc_account  debit_card  \\\n0               0         3885             1530         1189       30931   \n1               0         2323              824          698        8176   \n2               0         1005              621          527        4247   \n3               0          586              492          358        2441   \n4               0          436             2250          295        1939   \n5               0          306              399          291        1649   \n6               0          246              430          255        1460   \n7               0          179              370          232         797   \n8               0          122              295          204         688   \n9               0          108              266          181         646   \n10              0           99             1254          184         450   \n11              0           78              103          148         476   \n12              0           57              123          132         449   \n13              0           71               82          113         262   \n14              0           46               65           79         259   \n15              0           43               63           86         197   \n\n    em_account_p  em_acount  \n0              0       7691  \n1              0       4293  \n2              0       2967  \n3              0       2350  \n4              0       2099  \n5              0       2256  \n6              0       1945  \n7              0       1653  \n8              0       1495  \n9              0       1647  \n10             0       1399  \n11             0       1070  \n12             0       1045  \n13             0       1001  \n14             0        870  \n15             0        929  "
     },
     "execution_count": 148,
     "metadata": {},
     "output_type": "execute_result"
    }
   ],
   "source": [
    "list_df = ['short_term_deposit','loans','mortgage','funds','securities',\n",
    " 'long_term_deposit','em_account_pp','credit_card','payroll_account','emc_account','debit_card','em_account_p','em_acount']\n",
    "\n",
    "sSQL = \"SELECT * FROM permanencias\"\n",
    "cursor.execute(sSQL)\n",
    "df = pd.DataFrame(cursor.fetchall(), columns=list_df)\n",
    "df"
   ]
  },
  {
   "cell_type": "markdown",
   "metadata": {},
   "source": [
    "## ANTIGÜEDADES"
   ]
  },
  {
   "cell_type": "code",
   "execution_count": 149,
   "metadata": {},
   "outputs": [
    {
     "data": {
      "text/html": "<div>\n<style scoped>\n    .dataframe tbody tr th:only-of-type {\n        vertical-align: middle;\n    }\n\n    .dataframe tbody tr th {\n        vertical-align: top;\n    }\n\n    .dataframe thead th {\n        text-align: right;\n    }\n</style>\n<table border=\"1\" class=\"dataframe\">\n  <thead>\n    <tr style=\"text-align: right;\">\n      <th></th>\n      <th>short_term_deposit</th>\n      <th>loans</th>\n      <th>mortgage</th>\n      <th>funds</th>\n      <th>securities</th>\n      <th>long_term_deposit</th>\n      <th>em_account_pp</th>\n      <th>credit_card</th>\n      <th>payroll_account</th>\n      <th>emc_account</th>\n      <th>debit_card</th>\n      <th>em_account_p</th>\n      <th>em_acount</th>\n    </tr>\n  </thead>\n  <tbody>\n    <tr>\n      <th>1</th>\n      <td>0</td>\n      <td>2</td>\n      <td>3</td>\n      <td>25</td>\n      <td>45</td>\n      <td>31</td>\n      <td>0</td>\n      <td>898</td>\n      <td>1627</td>\n      <td>1362</td>\n      <td>6782</td>\n      <td>0</td>\n      <td>3188</td>\n    </tr>\n    <tr>\n      <th>2</th>\n      <td>0</td>\n      <td>2</td>\n      <td>0</td>\n      <td>22</td>\n      <td>59</td>\n      <td>74</td>\n      <td>0</td>\n      <td>648</td>\n      <td>1441</td>\n      <td>978</td>\n      <td>3961</td>\n      <td>0</td>\n      <td>2784</td>\n    </tr>\n    <tr>\n      <th>3</th>\n      <td>0</td>\n      <td>1</td>\n      <td>0</td>\n      <td>21</td>\n      <td>92</td>\n      <td>194</td>\n      <td>0</td>\n      <td>394</td>\n      <td>1240</td>\n      <td>1124</td>\n      <td>3205</td>\n      <td>0</td>\n      <td>2116</td>\n    </tr>\n    <tr>\n      <th>4</th>\n      <td>0</td>\n      <td>1</td>\n      <td>1</td>\n      <td>32</td>\n      <td>224</td>\n      <td>169</td>\n      <td>0</td>\n      <td>268</td>\n      <td>1159</td>\n      <td>1004</td>\n      <td>1863</td>\n      <td>0</td>\n      <td>2026</td>\n    </tr>\n    <tr>\n      <th>5</th>\n      <td>0</td>\n      <td>1</td>\n      <td>0</td>\n      <td>44</td>\n      <td>64</td>\n      <td>393</td>\n      <td>0</td>\n      <td>201</td>\n      <td>1913</td>\n      <td>734</td>\n      <td>1937</td>\n      <td>0</td>\n      <td>3968</td>\n    </tr>\n  </tbody>\n</table>\n</div>",
      "text/plain": "   short_term_deposit  loans  mortgage  funds  securities  long_term_deposit  \\\n1                   0      2         3     25          45                 31   \n2                   0      2         0     22          59                 74   \n3                   0      1         0     21          92                194   \n4                   0      1         1     32         224                169   \n5                   0      1         0     44          64                393   \n\n   em_account_pp  credit_card  payroll_account  emc_account  debit_card  \\\n1              0          898             1627         1362        6782   \n2              0          648             1441          978        3961   \n3              0          394             1240         1124        3205   \n4              0          268             1159         1004        1863   \n5              0          201             1913          734        1937   \n\n   em_account_p  em_acount  \n1             0       3188  \n2             0       2784  \n3             0       2116  \n4             0       2026  \n5             0       3968  "
     },
     "execution_count": 149,
     "metadata": {},
     "output_type": "execute_result"
    }
   ],
   "source": [
    "antiguedades_df = pd.read_csv(dir_path+'antiguedades.csv', index_col=0)\n",
    "antiguedades_df.head()"
   ]
  },
  {
   "cell_type": "code",
   "execution_count": 150,
   "metadata": {},
   "outputs": [],
   "source": [
    "try:\n",
    "    sSQL = \"DROP TABLE antiguedades\"\n",
    "    cursor.execute(sSQL)\n",
    "except: \n",
    "    pass"
   ]
  },
  {
   "cell_type": "code",
   "execution_count": 151,
   "metadata": {},
   "outputs": [
    {
     "name": "stdout",
     "output_type": "stream",
     "text": [
      "CREATE TABLE antiguedades ( short_term_deposit INT, loans INT, mortgage INT, funds INT, securities INT, long_term_deposit INT, em_account_pp INT, credit_card INT, payroll_account INT, emc_account INT, debit_card INT, em_account_p INT, em_acount INT )\n"
     ]
    }
   ],
   "source": [
    "create_table(cursor, antiguedades_df, variables, \"antiguedades\")"
   ]
  },
  {
   "cell_type": "code",
   "execution_count": 152,
   "metadata": {},
   "outputs": [
    {
     "name": "stdout",
     "output_type": "stream",
     "text": [
      "Acabado!\n"
     ]
    }
   ],
   "source": [
    "insert_into_db (cursor, antiguedades_df, variables, \"antiguedades\")\n",
    "db.commit()"
   ]
  },
  {
   "cell_type": "code",
   "execution_count": 153,
   "metadata": {},
   "outputs": [
    {
     "data": {
      "text/html": "<div>\n<style scoped>\n    .dataframe tbody tr th:only-of-type {\n        vertical-align: middle;\n    }\n\n    .dataframe tbody tr th {\n        vertical-align: top;\n    }\n\n    .dataframe thead th {\n        text-align: right;\n    }\n</style>\n<table border=\"1\" class=\"dataframe\">\n  <thead>\n    <tr style=\"text-align: right;\">\n      <th></th>\n      <th>short_term_deposit</th>\n      <th>loans</th>\n      <th>mortgage</th>\n      <th>funds</th>\n      <th>securities</th>\n      <th>long_term_deposit</th>\n      <th>em_account_pp</th>\n      <th>credit_card</th>\n      <th>payroll_account</th>\n      <th>emc_account</th>\n      <th>debit_card</th>\n      <th>em_account_p</th>\n      <th>em_acount</th>\n    </tr>\n  </thead>\n  <tbody>\n    <tr>\n      <th>0</th>\n      <td>0</td>\n      <td>2</td>\n      <td>3</td>\n      <td>25</td>\n      <td>45</td>\n      <td>31</td>\n      <td>0</td>\n      <td>898</td>\n      <td>1627</td>\n      <td>1362</td>\n      <td>6782</td>\n      <td>0</td>\n      <td>3188</td>\n    </tr>\n    <tr>\n      <th>1</th>\n      <td>0</td>\n      <td>2</td>\n      <td>0</td>\n      <td>22</td>\n      <td>59</td>\n      <td>74</td>\n      <td>0</td>\n      <td>648</td>\n      <td>1441</td>\n      <td>978</td>\n      <td>3961</td>\n      <td>0</td>\n      <td>2784</td>\n    </tr>\n    <tr>\n      <th>2</th>\n      <td>0</td>\n      <td>1</td>\n      <td>0</td>\n      <td>21</td>\n      <td>92</td>\n      <td>194</td>\n      <td>0</td>\n      <td>394</td>\n      <td>1240</td>\n      <td>1124</td>\n      <td>3205</td>\n      <td>0</td>\n      <td>2116</td>\n    </tr>\n    <tr>\n      <th>3</th>\n      <td>0</td>\n      <td>1</td>\n      <td>1</td>\n      <td>32</td>\n      <td>224</td>\n      <td>169</td>\n      <td>0</td>\n      <td>268</td>\n      <td>1159</td>\n      <td>1004</td>\n      <td>1863</td>\n      <td>0</td>\n      <td>2026</td>\n    </tr>\n    <tr>\n      <th>4</th>\n      <td>0</td>\n      <td>1</td>\n      <td>0</td>\n      <td>44</td>\n      <td>64</td>\n      <td>393</td>\n      <td>0</td>\n      <td>201</td>\n      <td>1913</td>\n      <td>734</td>\n      <td>1937</td>\n      <td>0</td>\n      <td>3968</td>\n    </tr>\n    <tr>\n      <th>5</th>\n      <td>0</td>\n      <td>0</td>\n      <td>0</td>\n      <td>45</td>\n      <td>32</td>\n      <td>304</td>\n      <td>0</td>\n      <td>212</td>\n      <td>1558</td>\n      <td>747</td>\n      <td>2128</td>\n      <td>0</td>\n      <td>2311</td>\n    </tr>\n    <tr>\n      <th>6</th>\n      <td>0</td>\n      <td>2</td>\n      <td>0</td>\n      <td>33</td>\n      <td>157</td>\n      <td>426</td>\n      <td>0</td>\n      <td>183</td>\n      <td>1109</td>\n      <td>445</td>\n      <td>2296</td>\n      <td>0</td>\n      <td>3109</td>\n    </tr>\n    <tr>\n      <th>7</th>\n      <td>0</td>\n      <td>1</td>\n      <td>0</td>\n      <td>30</td>\n      <td>51</td>\n      <td>427</td>\n      <td>0</td>\n      <td>166</td>\n      <td>784</td>\n      <td>454</td>\n      <td>1725</td>\n      <td>0</td>\n      <td>1831</td>\n    </tr>\n    <tr>\n      <th>8</th>\n      <td>0</td>\n      <td>2</td>\n      <td>0</td>\n      <td>53</td>\n      <td>82</td>\n      <td>297</td>\n      <td>0</td>\n      <td>146</td>\n      <td>1246</td>\n      <td>348</td>\n      <td>1140</td>\n      <td>0</td>\n      <td>3226</td>\n    </tr>\n    <tr>\n      <th>9</th>\n      <td>0</td>\n      <td>0</td>\n      <td>1</td>\n      <td>43</td>\n      <td>44</td>\n      <td>365</td>\n      <td>0</td>\n      <td>153</td>\n      <td>1258</td>\n      <td>404</td>\n      <td>953</td>\n      <td>0</td>\n      <td>561</td>\n    </tr>\n    <tr>\n      <th>10</th>\n      <td>0</td>\n      <td>0</td>\n      <td>1</td>\n      <td>47</td>\n      <td>21</td>\n      <td>313</td>\n      <td>0</td>\n      <td>129</td>\n      <td>736</td>\n      <td>506</td>\n      <td>919</td>\n      <td>0</td>\n      <td>1679</td>\n    </tr>\n    <tr>\n      <th>11</th>\n      <td>0</td>\n      <td>1</td>\n      <td>1</td>\n      <td>57</td>\n      <td>26</td>\n      <td>274</td>\n      <td>0</td>\n      <td>101</td>\n      <td>632</td>\n      <td>612</td>\n      <td>764</td>\n      <td>0</td>\n      <td>461</td>\n    </tr>\n    <tr>\n      <th>12</th>\n      <td>0</td>\n      <td>1</td>\n      <td>1</td>\n      <td>90</td>\n      <td>26</td>\n      <td>189</td>\n      <td>0</td>\n      <td>123</td>\n      <td>602</td>\n      <td>570</td>\n      <td>808</td>\n      <td>0</td>\n      <td>410</td>\n    </tr>\n    <tr>\n      <th>13</th>\n      <td>0</td>\n      <td>4</td>\n      <td>2</td>\n      <td>90</td>\n      <td>33</td>\n      <td>99</td>\n      <td>0</td>\n      <td>121</td>\n      <td>587</td>\n      <td>661</td>\n      <td>954</td>\n      <td>0</td>\n      <td>434</td>\n    </tr>\n    <tr>\n      <th>14</th>\n      <td>0</td>\n      <td>0</td>\n      <td>0</td>\n      <td>72</td>\n      <td>37</td>\n      <td>82</td>\n      <td>0</td>\n      <td>79</td>\n      <td>519</td>\n      <td>519</td>\n      <td>837</td>\n      <td>0</td>\n      <td>318</td>\n    </tr>\n    <tr>\n      <th>15</th>\n      <td>2</td>\n      <td>10</td>\n      <td>13</td>\n      <td>592</td>\n      <td>755</td>\n      <td>2155</td>\n      <td>0</td>\n      <td>1382</td>\n      <td>8754</td>\n      <td>13008</td>\n      <td>14144</td>\n      <td>2</td>\n      <td>193981</td>\n    </tr>\n  </tbody>\n</table>\n</div>",
      "text/plain": "    short_term_deposit  loans  mortgage  funds  securities  long_term_deposit  \\\n0                    0      2         3     25          45                 31   \n1                    0      2         0     22          59                 74   \n2                    0      1         0     21          92                194   \n3                    0      1         1     32         224                169   \n4                    0      1         0     44          64                393   \n5                    0      0         0     45          32                304   \n6                    0      2         0     33         157                426   \n7                    0      1         0     30          51                427   \n8                    0      2         0     53          82                297   \n9                    0      0         1     43          44                365   \n10                   0      0         1     47          21                313   \n11                   0      1         1     57          26                274   \n12                   0      1         1     90          26                189   \n13                   0      4         2     90          33                 99   \n14                   0      0         0     72          37                 82   \n15                   2     10        13    592         755               2155   \n\n    em_account_pp  credit_card  payroll_account  emc_account  debit_card  \\\n0               0          898             1627         1362        6782   \n1               0          648             1441          978        3961   \n2               0          394             1240         1124        3205   \n3               0          268             1159         1004        1863   \n4               0          201             1913          734        1937   \n5               0          212             1558          747        2128   \n6               0          183             1109          445        2296   \n7               0          166              784          454        1725   \n8               0          146             1246          348        1140   \n9               0          153             1258          404         953   \n10              0          129              736          506         919   \n11              0          101              632          612         764   \n12              0          123              602          570         808   \n13              0          121              587          661         954   \n14              0           79              519          519         837   \n15              0         1382             8754        13008       14144   \n\n    em_account_p  em_acount  \n0              0       3188  \n1              0       2784  \n2              0       2116  \n3              0       2026  \n4              0       3968  \n5              0       2311  \n6              0       3109  \n7              0       1831  \n8              0       3226  \n9              0        561  \n10             0       1679  \n11             0        461  \n12             0        410  \n13             0        434  \n14             0        318  \n15             2     193981  "
     },
     "execution_count": 153,
     "metadata": {},
     "output_type": "execute_result"
    }
   ],
   "source": [
    "list_df = ['short_term_deposit','loans','mortgage','funds','securities',\n",
    " 'long_term_deposit','em_account_pp','credit_card','payroll_account','emc_account','debit_card','em_account_p','em_acount']\n",
    "\n",
    "sSQL = \"SELECT * FROM antiguedades\"\n",
    "cursor.execute(sSQL)\n",
    "df = pd.DataFrame(cursor.fetchall(), columns=list_df)\n",
    "df"
   ]
  },
  {
   "cell_type": "markdown",
   "metadata": {},
   "source": [
    "## USUARIOS ACTIVOS"
   ]
  },
  {
   "cell_type": "code",
   "execution_count": 119,
   "metadata": {},
   "outputs": [
    {
     "data": {
      "text/html": "<div>\n<style scoped>\n    .dataframe tbody tr th:only-of-type {\n        vertical-align: middle;\n    }\n\n    .dataframe tbody tr th {\n        vertical-align: top;\n    }\n\n    .dataframe thead th {\n        text-align: right;\n    }\n</style>\n<table border=\"1\" class=\"dataframe\">\n  <thead>\n    <tr style=\"text-align: right;\">\n      <th></th>\n      <th>pk_partition</th>\n      <th>short_term_deposit</th>\n      <th>loans</th>\n      <th>mortgage</th>\n      <th>funds</th>\n      <th>securities</th>\n      <th>long_term_deposit</th>\n      <th>em_account_pp</th>\n      <th>credit_card</th>\n      <th>payroll_account</th>\n      <th>emc_account</th>\n      <th>debit_card</th>\n      <th>em_account_p</th>\n      <th>em_acount</th>\n      <th>totales</th>\n    </tr>\n  </thead>\n  <tbody>\n    <tr>\n      <th>0</th>\n      <td>2018-01-28</td>\n      <td>558</td>\n      <td>18</td>\n      <td>15</td>\n      <td>769</td>\n      <td>918</td>\n      <td>4690</td>\n      <td>0.0</td>\n      <td>3180</td>\n      <td>12855</td>\n      <td>12912</td>\n      <td>23845</td>\n      <td>2</td>\n      <td>88544</td>\n      <td>105436</td>\n    </tr>\n    <tr>\n      <th>1</th>\n      <td>2018-02-28</td>\n      <td>891</td>\n      <td>18</td>\n      <td>15</td>\n      <td>856</td>\n      <td>951</td>\n      <td>4790</td>\n      <td>0.0</td>\n      <td>3153</td>\n      <td>13603</td>\n      <td>13371</td>\n      <td>24630</td>\n      <td>2</td>\n      <td>90352</td>\n      <td>108234</td>\n    </tr>\n    <tr>\n      <th>2</th>\n      <td>2018-03-28</td>\n      <td>1141</td>\n      <td>22</td>\n      <td>17</td>\n      <td>955</td>\n      <td>954</td>\n      <td>4852</td>\n      <td>0.0</td>\n      <td>3391</td>\n      <td>14331</td>\n      <td>13931</td>\n      <td>26260</td>\n      <td>2</td>\n      <td>92087</td>\n      <td>110983</td>\n    </tr>\n    <tr>\n      <th>3</th>\n      <td>2018-04-28</td>\n      <td>1278</td>\n      <td>24</td>\n      <td>17</td>\n      <td>1070</td>\n      <td>972</td>\n      <td>5018</td>\n      <td>0.0</td>\n      <td>3615</td>\n      <td>15169</td>\n      <td>14432</td>\n      <td>27125</td>\n      <td>2</td>\n      <td>93553</td>\n      <td>113514</td>\n    </tr>\n    <tr>\n      <th>4</th>\n      <td>2018-05-28</td>\n      <td>1194</td>\n      <td>27</td>\n      <td>18</td>\n      <td>1133</td>\n      <td>1001</td>\n      <td>5285</td>\n      <td>0.0</td>\n      <td>3700</td>\n      <td>16018</td>\n      <td>15001</td>\n      <td>27485</td>\n      <td>2</td>\n      <td>95196</td>\n      <td>116253</td>\n    </tr>\n  </tbody>\n</table>\n</div>",
      "text/plain": "  pk_partition  short_term_deposit  loans  mortgage  funds  securities  \\\n0   2018-01-28                 558     18        15    769         918   \n1   2018-02-28                 891     18        15    856         951   \n2   2018-03-28                1141     22        17    955         954   \n3   2018-04-28                1278     24        17   1070         972   \n4   2018-05-28                1194     27        18   1133        1001   \n\n   long_term_deposit  em_account_pp  credit_card  payroll_account  \\\n0               4690            0.0         3180            12855   \n1               4790            0.0         3153            13603   \n2               4852            0.0         3391            14331   \n3               5018            0.0         3615            15169   \n4               5285            0.0         3700            16018   \n\n   emc_account  debit_card  em_account_p  em_acount  totales  \n0        12912       23845             2      88544   105436  \n1        13371       24630             2      90352   108234  \n2        13931       26260             2      92087   110983  \n3        14432       27125             2      93553   113514  \n4        15001       27485             2      95196   116253  "
     },
     "execution_count": 119,
     "metadata": {},
     "output_type": "execute_result"
    }
   ],
   "source": [
    "usuarios_activos_df = pd.read_csv(dir_path+'usuarios_activos.csv')\n",
    "usuarios_activos_df.head()"
   ]
  },
  {
   "cell_type": "code",
   "execution_count": 120,
   "metadata": {},
   "outputs": [],
   "source": [
    "try:\n",
    "    sSQL = \"DROP TABLE usuarios_activos\"\n",
    "    cursor.execute(sSQL)\n",
    "except: \n",
    "    pass"
   ]
  },
  {
   "cell_type": "code",
   "execution_count": 122,
   "metadata": {},
   "outputs": [
    {
     "name": "stdout",
     "output_type": "stream",
     "text": [
      "CREATE TABLE usuarios_activos ( pk_partition VARCHAR(11), short_term_deposit INT, loans INT, mortgage INT, funds INT, securities INT, long_term_deposit INT, em_account_pp INT, credit_card INT, payroll_account INT, emc_account INT, debit_card INT, em_account_p INT, em_acount INT, totales INT )\n"
     ]
    }
   ],
   "source": [
    "create_table(cursor, usuarios_activos_df, variables, \"usuarios_activos\")"
   ]
  },
  {
   "cell_type": "code",
   "execution_count": 124,
   "metadata": {},
   "outputs": [
    {
     "name": "stdout",
     "output_type": "stream",
     "text": [
      "Acabado!\n"
     ]
    }
   ],
   "source": [
    "insert_into_db (cursor, usuarios_activos_df, variables, \"usuarios_activos\")\n",
    "db.commit()"
   ]
  },
  {
   "cell_type": "code",
   "execution_count": 126,
   "metadata": {},
   "outputs": [
    {
     "data": {
      "text/html": "<div>\n<style scoped>\n    .dataframe tbody tr th:only-of-type {\n        vertical-align: middle;\n    }\n\n    .dataframe tbody tr th {\n        vertical-align: top;\n    }\n\n    .dataframe thead th {\n        text-align: right;\n    }\n</style>\n<table border=\"1\" class=\"dataframe\">\n  <thead>\n    <tr style=\"text-align: right;\">\n      <th></th>\n      <th>pk_partition</th>\n      <th>short_term_deposit</th>\n      <th>loans</th>\n      <th>mortgage</th>\n      <th>funds</th>\n      <th>securities</th>\n      <th>long_term_deposit</th>\n      <th>em_account_pp</th>\n      <th>credit_card</th>\n      <th>payroll_account</th>\n      <th>emc_account</th>\n      <th>debit_card</th>\n      <th>em_account_p</th>\n      <th>em_acount</th>\n      <th>totales</th>\n    </tr>\n  </thead>\n  <tbody>\n    <tr>\n      <th>0</th>\n      <td>2018-01-28</td>\n      <td>558</td>\n      <td>18</td>\n      <td>15</td>\n      <td>769</td>\n      <td>918</td>\n      <td>4690</td>\n      <td>0</td>\n      <td>3180</td>\n      <td>12855</td>\n      <td>12912</td>\n      <td>23845</td>\n      <td>2</td>\n      <td>88544</td>\n      <td>105436</td>\n    </tr>\n    <tr>\n      <th>1</th>\n      <td>2018-02-28</td>\n      <td>891</td>\n      <td>18</td>\n      <td>15</td>\n      <td>856</td>\n      <td>951</td>\n      <td>4790</td>\n      <td>0</td>\n      <td>3153</td>\n      <td>13603</td>\n      <td>13371</td>\n      <td>24630</td>\n      <td>2</td>\n      <td>90352</td>\n      <td>108234</td>\n    </tr>\n    <tr>\n      <th>2</th>\n      <td>2018-03-28</td>\n      <td>1141</td>\n      <td>22</td>\n      <td>17</td>\n      <td>955</td>\n      <td>954</td>\n      <td>4852</td>\n      <td>0</td>\n      <td>3391</td>\n      <td>14331</td>\n      <td>13931</td>\n      <td>26260</td>\n      <td>2</td>\n      <td>92087</td>\n      <td>110983</td>\n    </tr>\n    <tr>\n      <th>3</th>\n      <td>2018-04-28</td>\n      <td>1278</td>\n      <td>24</td>\n      <td>17</td>\n      <td>1070</td>\n      <td>972</td>\n      <td>5018</td>\n      <td>0</td>\n      <td>3615</td>\n      <td>15169</td>\n      <td>14432</td>\n      <td>27125</td>\n      <td>2</td>\n      <td>93553</td>\n      <td>113514</td>\n    </tr>\n    <tr>\n      <th>4</th>\n      <td>2018-05-28</td>\n      <td>1194</td>\n      <td>27</td>\n      <td>18</td>\n      <td>1133</td>\n      <td>1001</td>\n      <td>5285</td>\n      <td>0</td>\n      <td>3700</td>\n      <td>16018</td>\n      <td>15001</td>\n      <td>27485</td>\n      <td>2</td>\n      <td>95196</td>\n      <td>116253</td>\n    </tr>\n    <tr>\n      <th>5</th>\n      <td>2018-06-28</td>\n      <td>1171</td>\n      <td>27</td>\n      <td>19</td>\n      <td>1155</td>\n      <td>1012</td>\n      <td>5552</td>\n      <td>0</td>\n      <td>3939</td>\n      <td>15183</td>\n      <td>15411</td>\n      <td>28558</td>\n      <td>2</td>\n      <td>98219</td>\n      <td>118713</td>\n    </tr>\n    <tr>\n      <th>6</th>\n      <td>2018-07-28</td>\n      <td>1282</td>\n      <td>28</td>\n      <td>20</td>\n      <td>1171</td>\n      <td>1048</td>\n      <td>5796</td>\n      <td>0</td>\n      <td>4121</td>\n      <td>16561</td>\n      <td>15731</td>\n      <td>29369</td>\n      <td>2</td>\n      <td>103879</td>\n      <td>125935</td>\n    </tr>\n    <tr>\n      <th>7</th>\n      <td>2018-08-28</td>\n      <td>1335</td>\n      <td>29</td>\n      <td>20</td>\n      <td>1218</td>\n      <td>1128</td>\n      <td>5923</td>\n      <td>0</td>\n      <td>4196</td>\n      <td>17689</td>\n      <td>15840</td>\n      <td>28987</td>\n      <td>2</td>\n      <td>109605</td>\n      <td>132834</td>\n    </tr>\n    <tr>\n      <th>8</th>\n      <td>2018-09-28</td>\n      <td>1386</td>\n      <td>31</td>\n      <td>20</td>\n      <td>1236</td>\n      <td>1196</td>\n      <td>6158</td>\n      <td>0</td>\n      <td>4270</td>\n      <td>18380</td>\n      <td>16098</td>\n      <td>31254</td>\n      <td>2</td>\n      <td>117190</td>\n      <td>141315</td>\n    </tr>\n    <tr>\n      <th>9</th>\n      <td>2018-10-28</td>\n      <td>1374</td>\n      <td>33</td>\n      <td>19</td>\n      <td>1248</td>\n      <td>1342</td>\n      <td>6380</td>\n      <td>0</td>\n      <td>4366</td>\n      <td>19344</td>\n      <td>16281</td>\n      <td>34024</td>\n      <td>2</td>\n      <td>123284</td>\n      <td>148203</td>\n    </tr>\n    <tr>\n      <th>10</th>\n      <td>2018-11-28</td>\n      <td>1018</td>\n      <td>32</td>\n      <td>19</td>\n      <td>1281</td>\n      <td>1354</td>\n      <td>6447</td>\n      <td>0</td>\n      <td>4494</td>\n      <td>20751</td>\n      <td>16870</td>\n      <td>35194</td>\n      <td>2</td>\n      <td>125795</td>\n      <td>152256</td>\n    </tr>\n    <tr>\n      <th>11</th>\n      <td>2018-12-28</td>\n      <td>528</td>\n      <td>30</td>\n      <td>19</td>\n      <td>1321</td>\n      <td>1414</td>\n      <td>6749</td>\n      <td>0</td>\n      <td>4511</td>\n      <td>20961</td>\n      <td>17433</td>\n      <td>37134</td>\n      <td>2</td>\n      <td>128481</td>\n      <td>154936</td>\n    </tr>\n    <tr>\n      <th>12</th>\n      <td>2019-01-28</td>\n      <td>125</td>\n      <td>28</td>\n      <td>20</td>\n      <td>1329</td>\n      <td>1650</td>\n      <td>6659</td>\n      <td>0</td>\n      <td>4463</td>\n      <td>21843</td>\n      <td>18214</td>\n      <td>37068</td>\n      <td>2</td>\n      <td>130807</td>\n      <td>158170</td>\n    </tr>\n    <tr>\n      <th>13</th>\n      <td>2019-02-28</td>\n      <td>11</td>\n      <td>29</td>\n      <td>20</td>\n      <td>1314</td>\n      <td>1740</td>\n      <td>6658</td>\n      <td>0</td>\n      <td>4512</td>\n      <td>22690</td>\n      <td>19018</td>\n      <td>39122</td>\n      <td>2</td>\n      <td>131823</td>\n      <td>160448</td>\n    </tr>\n    <tr>\n      <th>14</th>\n      <td>2019-03-28</td>\n      <td>2</td>\n      <td>29</td>\n      <td>20</td>\n      <td>1320</td>\n      <td>1763</td>\n      <td>6537</td>\n      <td>0</td>\n      <td>4549</td>\n      <td>23748</td>\n      <td>19608</td>\n      <td>41129</td>\n      <td>2</td>\n      <td>133792</td>\n      <td>163355</td>\n    </tr>\n    <tr>\n      <th>15</th>\n      <td>2019-04-28</td>\n      <td>2</td>\n      <td>30</td>\n      <td>23</td>\n      <td>1318</td>\n      <td>1777</td>\n      <td>6368</td>\n      <td>0</td>\n      <td>4721</td>\n      <td>24778</td>\n      <td>20525</td>\n      <td>41864</td>\n      <td>2</td>\n      <td>134483</td>\n      <td>165041</td>\n    </tr>\n    <tr>\n      <th>16</th>\n      <td>2019-05-28</td>\n      <td>2</td>\n      <td>30</td>\n      <td>23</td>\n      <td>1313</td>\n      <td>1785</td>\n      <td>6129</td>\n      <td>0</td>\n      <td>4779</td>\n      <td>25723</td>\n      <td>21765</td>\n      <td>43067</td>\n      <td>2</td>\n      <td>134681</td>\n      <td>166581</td>\n    </tr>\n  </tbody>\n</table>\n</div>",
      "text/plain": "   pk_partition  short_term_deposit  loans  mortgage  funds  securities  \\\n0    2018-01-28                 558     18        15    769         918   \n1    2018-02-28                 891     18        15    856         951   \n2    2018-03-28                1141     22        17    955         954   \n3    2018-04-28                1278     24        17   1070         972   \n4    2018-05-28                1194     27        18   1133        1001   \n5    2018-06-28                1171     27        19   1155        1012   \n6    2018-07-28                1282     28        20   1171        1048   \n7    2018-08-28                1335     29        20   1218        1128   \n8    2018-09-28                1386     31        20   1236        1196   \n9    2018-10-28                1374     33        19   1248        1342   \n10   2018-11-28                1018     32        19   1281        1354   \n11   2018-12-28                 528     30        19   1321        1414   \n12   2019-01-28                 125     28        20   1329        1650   \n13   2019-02-28                  11     29        20   1314        1740   \n14   2019-03-28                   2     29        20   1320        1763   \n15   2019-04-28                   2     30        23   1318        1777   \n16   2019-05-28                   2     30        23   1313        1785   \n\n    long_term_deposit  em_account_pp  credit_card  payroll_account  \\\n0                4690              0         3180            12855   \n1                4790              0         3153            13603   \n2                4852              0         3391            14331   \n3                5018              0         3615            15169   \n4                5285              0         3700            16018   \n5                5552              0         3939            15183   \n6                5796              0         4121            16561   \n7                5923              0         4196            17689   \n8                6158              0         4270            18380   \n9                6380              0         4366            19344   \n10               6447              0         4494            20751   \n11               6749              0         4511            20961   \n12               6659              0         4463            21843   \n13               6658              0         4512            22690   \n14               6537              0         4549            23748   \n15               6368              0         4721            24778   \n16               6129              0         4779            25723   \n\n    emc_account  debit_card  em_account_p  em_acount  totales  \n0         12912       23845             2      88544   105436  \n1         13371       24630             2      90352   108234  \n2         13931       26260             2      92087   110983  \n3         14432       27125             2      93553   113514  \n4         15001       27485             2      95196   116253  \n5         15411       28558             2      98219   118713  \n6         15731       29369             2     103879   125935  \n7         15840       28987             2     109605   132834  \n8         16098       31254             2     117190   141315  \n9         16281       34024             2     123284   148203  \n10        16870       35194             2     125795   152256  \n11        17433       37134             2     128481   154936  \n12        18214       37068             2     130807   158170  \n13        19018       39122             2     131823   160448  \n14        19608       41129             2     133792   163355  \n15        20525       41864             2     134483   165041  \n16        21765       43067             2     134681   166581  "
     },
     "execution_count": 126,
     "metadata": {},
     "output_type": "execute_result"
    }
   ],
   "source": [
    "list_df = ['pk_partition', 'short_term_deposit', 'loans', 'mortgage', 'funds',\n",
    "       'securities', 'long_term_deposit', 'em_account_pp', 'credit_card',\n",
    "       'payroll_account', 'emc_account', 'debit_card', 'em_account_p',\n",
    "       'em_acount', 'totales']\n",
    "\n",
    "sSQL = \"SELECT * FROM usuarios_activos\"\n",
    "cursor.execute(sSQL)\n",
    "df = pd.DataFrame(cursor.fetchall(), columns=list_df)\n",
    "df"
   ]
  },
  {
   "cell_type": "markdown",
   "metadata": {},
   "source": [
    "## CLIENTES PRIMERIZOS"
   ]
  },
  {
   "cell_type": "code",
   "execution_count": 127,
   "metadata": {},
   "outputs": [
    {
     "data": {
      "text/plain": "Index(['pk_partition', 'short_term_deposit', 'loans', 'mortgage', 'funds',\n       'securities', 'long_term_deposit', 'em_account_pp', 'credit_card',\n       'payroll_account', 'emc_account', 'debit_card', 'em_account_p',\n       'em_acount', 'totales'],\n      dtype='object')"
     },
     "execution_count": 127,
     "metadata": {},
     "output_type": "execute_result"
    }
   ],
   "source": [
    "clientes_prim_df = pd.read_csv(dir_path+'clientes_primerizos.csv', index_col = 0)\n",
    "clientes_prim_df.head()\n",
    "clientes_prim_df.columns"
   ]
  },
  {
   "cell_type": "code",
   "execution_count": 128,
   "metadata": {},
   "outputs": [],
   "source": [
    "try:\n",
    "    sSQL = \"DROP TABLE clientes_primerizos\"\n",
    "    cursor.execute(sSQL)\n",
    "except: \n",
    "    pass"
   ]
  },
  {
   "cell_type": "code",
   "execution_count": 129,
   "metadata": {},
   "outputs": [
    {
     "name": "stdout",
     "output_type": "stream",
     "text": [
      "CREATE TABLE clientes_primerizos ( pk_partition VARCHAR(11), short_term_deposit INT, loans INT, mortgage INT, funds INT, securities INT, long_term_deposit INT, em_account_pp INT, credit_card INT, payroll_account INT, emc_account INT, debit_card INT, em_account_p INT, em_acount INT, totales INT )\n"
     ]
    }
   ],
   "source": [
    "create_table(cursor, clientes_prim_df, variables, \"clientes_primerizos\")"
   ]
  },
  {
   "cell_type": "code",
   "execution_count": 130,
   "metadata": {},
   "outputs": [
    {
     "name": "stdout",
     "output_type": "stream",
     "text": [
      "Acabado!\n"
     ]
    }
   ],
   "source": [
    "insert_into_db (cursor, clientes_prim_df, variables, \"clientes_primerizos\")\n",
    "db.commit()"
   ]
  },
  {
   "cell_type": "code",
   "execution_count": 132,
   "metadata": {},
   "outputs": [
    {
     "data": {
      "text/html": "<div>\n<style scoped>\n    .dataframe tbody tr th:only-of-type {\n        vertical-align: middle;\n    }\n\n    .dataframe tbody tr th {\n        vertical-align: top;\n    }\n\n    .dataframe thead th {\n        text-align: right;\n    }\n</style>\n<table border=\"1\" class=\"dataframe\">\n  <thead>\n    <tr style=\"text-align: right;\">\n      <th></th>\n      <th>pk_partition</th>\n      <th>short_term_deposit</th>\n      <th>loans</th>\n      <th>mortgage</th>\n      <th>funds</th>\n      <th>securities</th>\n      <th>long_term_deposit</th>\n      <th>em_account_pp</th>\n      <th>credit_card</th>\n      <th>payroll_account</th>\n      <th>emc_account</th>\n      <th>debit_card</th>\n      <th>em_account_p</th>\n      <th>em_acount</th>\n      <th>totales</th>\n    </tr>\n  </thead>\n  <tbody>\n    <tr>\n      <th>0</th>\n      <td>2018-02-28</td>\n      <td>401</td>\n      <td>0</td>\n      <td>0</td>\n      <td>1</td>\n      <td>3</td>\n      <td>26</td>\n      <td>0</td>\n      <td>29</td>\n      <td>59</td>\n      <td>14</td>\n      <td>91</td>\n      <td>0</td>\n      <td>3286</td>\n      <td>3614</td>\n    </tr>\n    <tr>\n      <th>1</th>\n      <td>2018-03-28</td>\n      <td>254</td>\n      <td>0</td>\n      <td>0</td>\n      <td>4</td>\n      <td>2</td>\n      <td>46</td>\n      <td>0</td>\n      <td>31</td>\n      <td>52</td>\n      <td>13</td>\n      <td>117</td>\n      <td>0</td>\n      <td>3004</td>\n      <td>3232</td>\n    </tr>\n    <tr>\n      <th>2</th>\n      <td>2018-04-28</td>\n      <td>191</td>\n      <td>1</td>\n      <td>0</td>\n      <td>4</td>\n      <td>3</td>\n      <td>46</td>\n      <td>0</td>\n      <td>14</td>\n      <td>63</td>\n      <td>15</td>\n      <td>93</td>\n      <td>0</td>\n      <td>2605</td>\n      <td>2808</td>\n    </tr>\n    <tr>\n      <th>3</th>\n      <td>2018-05-28</td>\n      <td>174</td>\n      <td>0</td>\n      <td>0</td>\n      <td>6</td>\n      <td>6</td>\n      <td>58</td>\n      <td>0</td>\n      <td>14</td>\n      <td>63</td>\n      <td>12</td>\n      <td>73</td>\n      <td>0</td>\n      <td>2680</td>\n      <td>2872</td>\n    </tr>\n    <tr>\n      <th>4</th>\n      <td>2018-06-28</td>\n      <td>197</td>\n      <td>0</td>\n      <td>0</td>\n      <td>1</td>\n      <td>7</td>\n      <td>68</td>\n      <td>0</td>\n      <td>20</td>\n      <td>56</td>\n      <td>6</td>\n      <td>76</td>\n      <td>0</td>\n      <td>2497</td>\n      <td>2695</td>\n    </tr>\n    <tr>\n      <th>5</th>\n      <td>2018-07-28</td>\n      <td>225</td>\n      <td>0</td>\n      <td>0</td>\n      <td>1</td>\n      <td>6</td>\n      <td>73</td>\n      <td>0</td>\n      <td>17</td>\n      <td>72</td>\n      <td>12</td>\n      <td>104</td>\n      <td>0</td>\n      <td>12087</td>\n      <td>12318</td>\n    </tr>\n    <tr>\n      <th>6</th>\n      <td>2018-08-28</td>\n      <td>167</td>\n      <td>0</td>\n      <td>0</td>\n      <td>0</td>\n      <td>2</td>\n      <td>34</td>\n      <td>0</td>\n      <td>2</td>\n      <td>36</td>\n      <td>6</td>\n      <td>66</td>\n      <td>0</td>\n      <td>10710</td>\n      <td>10834</td>\n    </tr>\n    <tr>\n      <th>7</th>\n      <td>2018-09-28</td>\n      <td>169</td>\n      <td>0</td>\n      <td>0</td>\n      <td>2</td>\n      <td>3</td>\n      <td>53</td>\n      <td>0</td>\n      <td>3</td>\n      <td>35</td>\n      <td>9</td>\n      <td>89</td>\n      <td>0</td>\n      <td>15717</td>\n      <td>15849</td>\n    </tr>\n    <tr>\n      <th>8</th>\n      <td>2018-10-28</td>\n      <td>112</td>\n      <td>0</td>\n      <td>0</td>\n      <td>2</td>\n      <td>3</td>\n      <td>65</td>\n      <td>0</td>\n      <td>1</td>\n      <td>41</td>\n      <td>11</td>\n      <td>89</td>\n      <td>0</td>\n      <td>15884</td>\n      <td>16016</td>\n    </tr>\n    <tr>\n      <th>9</th>\n      <td>2018-11-28</td>\n      <td>4</td>\n      <td>0</td>\n      <td>0</td>\n      <td>2</td>\n      <td>2</td>\n      <td>54</td>\n      <td>0</td>\n      <td>3</td>\n      <td>92</td>\n      <td>7</td>\n      <td>74</td>\n      <td>0</td>\n      <td>8193</td>\n      <td>8312</td>\n    </tr>\n    <tr>\n      <th>10</th>\n      <td>2018-12-28</td>\n      <td>0</td>\n      <td>0</td>\n      <td>0</td>\n      <td>1</td>\n      <td>5</td>\n      <td>66</td>\n      <td>0</td>\n      <td>1</td>\n      <td>152</td>\n      <td>9</td>\n      <td>71</td>\n      <td>0</td>\n      <td>2883</td>\n      <td>3067</td>\n    </tr>\n    <tr>\n      <th>11</th>\n      <td>2019-01-28</td>\n      <td>0</td>\n      <td>0</td>\n      <td>0</td>\n      <td>2</td>\n      <td>4</td>\n      <td>20</td>\n      <td>0</td>\n      <td>2</td>\n      <td>54</td>\n      <td>9</td>\n      <td>73</td>\n      <td>0</td>\n      <td>3576</td>\n      <td>3645</td>\n    </tr>\n    <tr>\n      <th>12</th>\n      <td>2019-02-28</td>\n      <td>0</td>\n      <td>0</td>\n      <td>0</td>\n      <td>0</td>\n      <td>5</td>\n      <td>23</td>\n      <td>0</td>\n      <td>1</td>\n      <td>46</td>\n      <td>13</td>\n      <td>83</td>\n      <td>0</td>\n      <td>2437</td>\n      <td>2498</td>\n    </tr>\n    <tr>\n      <th>13</th>\n      <td>2019-03-28</td>\n      <td>0</td>\n      <td>1</td>\n      <td>0</td>\n      <td>0</td>\n      <td>2</td>\n      <td>3</td>\n      <td>0</td>\n      <td>6</td>\n      <td>30</td>\n      <td>8</td>\n      <td>81</td>\n      <td>0</td>\n      <td>2438</td>\n      <td>2481</td>\n    </tr>\n    <tr>\n      <th>14</th>\n      <td>2019-04-28</td>\n      <td>0</td>\n      <td>0</td>\n      <td>0</td>\n      <td>2</td>\n      <td>3</td>\n      <td>1</td>\n      <td>0</td>\n      <td>7</td>\n      <td>40</td>\n      <td>16</td>\n      <td>56</td>\n      <td>0</td>\n      <td>1650</td>\n      <td>1702</td>\n    </tr>\n    <tr>\n      <th>15</th>\n      <td>2019-05-28</td>\n      <td>0</td>\n      <td>0</td>\n      <td>0</td>\n      <td>0</td>\n      <td>0</td>\n      <td>0</td>\n      <td>0</td>\n      <td>3</td>\n      <td>20</td>\n      <td>14</td>\n      <td>55</td>\n      <td>0</td>\n      <td>1569</td>\n      <td>1596</td>\n    </tr>\n  </tbody>\n</table>\n</div>",
      "text/plain": "   pk_partition  short_term_deposit  loans  mortgage  funds  securities  \\\n0    2018-02-28                 401      0         0      1           3   \n1    2018-03-28                 254      0         0      4           2   \n2    2018-04-28                 191      1         0      4           3   \n3    2018-05-28                 174      0         0      6           6   \n4    2018-06-28                 197      0         0      1           7   \n5    2018-07-28                 225      0         0      1           6   \n6    2018-08-28                 167      0         0      0           2   \n7    2018-09-28                 169      0         0      2           3   \n8    2018-10-28                 112      0         0      2           3   \n9    2018-11-28                   4      0         0      2           2   \n10   2018-12-28                   0      0         0      1           5   \n11   2019-01-28                   0      0         0      2           4   \n12   2019-02-28                   0      0         0      0           5   \n13   2019-03-28                   0      1         0      0           2   \n14   2019-04-28                   0      0         0      2           3   \n15   2019-05-28                   0      0         0      0           0   \n\n    long_term_deposit  em_account_pp  credit_card  payroll_account  \\\n0                  26              0           29               59   \n1                  46              0           31               52   \n2                  46              0           14               63   \n3                  58              0           14               63   \n4                  68              0           20               56   \n5                  73              0           17               72   \n6                  34              0            2               36   \n7                  53              0            3               35   \n8                  65              0            1               41   \n9                  54              0            3               92   \n10                 66              0            1              152   \n11                 20              0            2               54   \n12                 23              0            1               46   \n13                  3              0            6               30   \n14                  1              0            7               40   \n15                  0              0            3               20   \n\n    emc_account  debit_card  em_account_p  em_acount  totales  \n0            14          91             0       3286     3614  \n1            13         117             0       3004     3232  \n2            15          93             0       2605     2808  \n3            12          73             0       2680     2872  \n4             6          76             0       2497     2695  \n5            12         104             0      12087    12318  \n6             6          66             0      10710    10834  \n7             9          89             0      15717    15849  \n8            11          89             0      15884    16016  \n9             7          74             0       8193     8312  \n10            9          71             0       2883     3067  \n11            9          73             0       3576     3645  \n12           13          83             0       2437     2498  \n13            8          81             0       2438     2481  \n14           16          56             0       1650     1702  \n15           14          55             0       1569     1596  "
     },
     "execution_count": 132,
     "metadata": {},
     "output_type": "execute_result"
    }
   ],
   "source": [
    "list_df = ['pk_partition', 'short_term_deposit', 'loans', 'mortgage', 'funds',\n",
    "       'securities', 'long_term_deposit', 'em_account_pp', 'credit_card',\n",
    "       'payroll_account', 'emc_account', 'debit_card', 'em_account_p',\n",
    "       'em_acount', 'totales']\n",
    "\n",
    "sSQL = \"SELECT * FROM clientes_primerizos\"\n",
    "cursor.execute(sSQL)\n",
    "df = pd.DataFrame(cursor.fetchall(), columns=list_df)\n",
    "df"
   ]
  },
  {
   "cell_type": "markdown",
   "metadata": {},
   "source": [
    "## INFORMACION PRODUCTOS"
   ]
  },
  {
   "cell_type": "code",
   "execution_count": 133,
   "metadata": {},
   "outputs": [
    {
     "data": {
      "text/plain": "Index(['producto', 'ciudad', 'ciudad_num', 'pais', 'pais_num', 'entry_channel',\n       'entry_channel_num'],\n      dtype='object')"
     },
     "execution_count": 133,
     "metadata": {},
     "output_type": "execute_result"
    }
   ],
   "source": [
    "product_information_df = pd.read_csv(dir_path+'informacion_productos.csv', index_col = 0)\n",
    "product_information_df.head()\n",
    "product_information_df.fillna(0, inplace=True)\n",
    "product_information_df.columns"
   ]
  },
  {
   "cell_type": "code",
   "execution_count": 134,
   "metadata": {},
   "outputs": [],
   "source": [
    "try:\n",
    "    sSQL = \"DROP TABLE informacion_productos\"\n",
    "    cursor.execute(sSQL)\n",
    "except: \n",
    "    pass"
   ]
  },
  {
   "cell_type": "code",
   "execution_count": 135,
   "metadata": {},
   "outputs": [
    {
     "name": "stdout",
     "output_type": "stream",
     "text": [
      "CREATE TABLE informacion_productos ( producto VARCHAR(30), ciudad VARCHAR(30), ciudad_num INT, pais VARCHAR(30), pais_num INT, entry_channel VARCHAR(6), entry_channel_num INT )\n"
     ]
    }
   ],
   "source": [
    "create_table(cursor, product_information_df, variables, \"informacion_productos\")"
   ]
  },
  {
   "cell_type": "code",
   "execution_count": 136,
   "metadata": {},
   "outputs": [
    {
     "name": "stdout",
     "output_type": "stream",
     "text": [
      "Acabado!\n"
     ]
    }
   ],
   "source": [
    "insert_into_db (cursor, product_information_df, variables, \"informacion_productos\")\n",
    "db.commit()"
   ]
  },
  {
   "cell_type": "code",
   "execution_count": 137,
   "metadata": {},
   "outputs": [
    {
     "data": {
      "text/html": "<div>\n<style scoped>\n    .dataframe tbody tr th:only-of-type {\n        vertical-align: middle;\n    }\n\n    .dataframe tbody tr th {\n        vertical-align: top;\n    }\n\n    .dataframe thead th {\n        text-align: right;\n    }\n</style>\n<table border=\"1\" class=\"dataframe\">\n  <thead>\n    <tr style=\"text-align: right;\">\n      <th></th>\n      <th>producto</th>\n      <th>ciudad</th>\n      <th>ciudad_num</th>\n      <th>pais</th>\n      <th>pais_num</th>\n      <th>entry_channel</th>\n      <th>entry_channel_num</th>\n    </tr>\n  </thead>\n  <tbody>\n    <tr>\n      <th>0</th>\n      <td>short_term_deposit</td>\n      <td>Madrid</td>\n      <td>1736</td>\n      <td>0</td>\n      <td>0</td>\n      <td>KHK</td>\n      <td>2128</td>\n    </tr>\n    <tr>\n      <th>1</th>\n      <td>short_term_deposit</td>\n      <td>Barcelona</td>\n      <td>465</td>\n      <td>United Kingdom</td>\n      <td>1</td>\n      <td>KHM</td>\n      <td>1080</td>\n    </tr>\n    <tr>\n      <th>2</th>\n      <td>short_term_deposit</td>\n      <td>Valencia</td>\n      <td>294</td>\n      <td>Cote d'Ivoire</td>\n      <td>1</td>\n      <td>KHN</td>\n      <td>1070</td>\n    </tr>\n    <tr>\n      <th>3</th>\n      <td>short_term_deposit</td>\n      <td>Sevilla</td>\n      <td>189</td>\n      <td>0</td>\n      <td>0</td>\n      <td>KHL</td>\n      <td>368</td>\n    </tr>\n    <tr>\n      <th>4</th>\n      <td>short_term_deposit</td>\n      <td>Bilbao</td>\n      <td>157</td>\n      <td>0</td>\n      <td>0</td>\n      <td>KAT</td>\n      <td>292</td>\n    </tr>\n    <tr>\n      <th>...</th>\n      <td>...</td>\n      <td>...</td>\n      <td>...</td>\n      <td>...</td>\n      <td>...</td>\n      <td>...</td>\n      <td>...</td>\n    </tr>\n    <tr>\n      <th>125</th>\n      <td>em_acount</td>\n      <td>Coruña (A)</td>\n      <td>15764</td>\n      <td>Ireland</td>\n      <td>4</td>\n      <td>KHN</td>\n      <td>12226</td>\n    </tr>\n    <tr>\n      <th>126</th>\n      <td>em_acount</td>\n      <td>Pontevedra</td>\n      <td>10972</td>\n      <td>Brazil</td>\n      <td>4</td>\n      <td>KHK</td>\n      <td>11715</td>\n    </tr>\n    <tr>\n      <th>127</th>\n      <td>em_acount</td>\n      <td>Málaga</td>\n      <td>10598</td>\n      <td>US</td>\n      <td>4</td>\n      <td>KHD</td>\n      <td>3777</td>\n    </tr>\n    <tr>\n      <th>128</th>\n      <td>em_acount</td>\n      <td>Alicante/Alacant</td>\n      <td>10285</td>\n      <td>Austria</td>\n      <td>3</td>\n      <td>KFA</td>\n      <td>2964</td>\n    </tr>\n    <tr>\n      <th>129</th>\n      <td>em_acount</td>\n      <td>Cádiz</td>\n      <td>9364</td>\n      <td>Argentina</td>\n      <td>3</td>\n      <td>RED</td>\n      <td>2837</td>\n    </tr>\n  </tbody>\n</table>\n<p>130 rows × 7 columns</p>\n</div>",
      "text/plain": "               producto            ciudad  ciudad_num            pais  \\\n0    short_term_deposit            Madrid        1736               0   \n1    short_term_deposit         Barcelona         465  United Kingdom   \n2    short_term_deposit          Valencia         294   Cote d'Ivoire   \n3    short_term_deposit           Sevilla         189               0   \n4    short_term_deposit            Bilbao         157               0   \n..                  ...               ...         ...             ...   \n125           em_acount        Coruña (A)       15764         Ireland   \n126           em_acount        Pontevedra       10972          Brazil   \n127           em_acount            Málaga       10598              US   \n128           em_acount  Alicante/Alacant       10285         Austria   \n129           em_acount             Cádiz        9364       Argentina   \n\n     pais_num entry_channel  entry_channel_num  \n0           0           KHK               2128  \n1           1           KHM               1080  \n2           1           KHN               1070  \n3           0           KHL                368  \n4           0           KAT                292  \n..        ...           ...                ...  \n125         4           KHN              12226  \n126         4           KHK              11715  \n127         4           KHD               3777  \n128         3           KFA               2964  \n129         3           RED               2837  \n\n[130 rows x 7 columns]"
     },
     "execution_count": 137,
     "metadata": {},
     "output_type": "execute_result"
    }
   ],
   "source": [
    "sSQL = \"SELECT * FROM informacion_productos\"\n",
    "cursor.execute(sSQL)\n",
    "df = pd.DataFrame(cursor.fetchall(), columns=product_information_df.columns)\n",
    "df"
   ]
  },
  {
   "cell_type": "code",
   "execution_count": null,
   "metadata": {},
   "outputs": [],
   "source": [
    "stop"
   ]
  },
  {
   "cell_type": "code",
   "execution_count": null,
   "metadata": {},
   "outputs": [],
   "source": []
  },
  {
   "cell_type": "code",
   "execution_count": null,
   "metadata": {},
   "outputs": [],
   "source": []
  },
  {
   "cell_type": "code",
   "execution_count": null,
   "metadata": {},
   "outputs": [],
   "source": [
    "sociodemographic_df = pd.read_csv(dir_path+'sociodemographic_df.csv')\n",
    "sociodemographic_df.drop('Unnamed: 0', axis=1, inplace=True)"
   ]
  },
  {
   "cell_type": "code",
   "execution_count": null,
   "metadata": {},
   "outputs": [],
   "source": [
    "commercial_df = pd.read_csv(dir_path+'commercial_activity_df.csv')\n",
    "commercial_df .drop('Unnamed: 0', axis=1, inplace=True)"
   ]
  },
  {
   "cell_type": "code",
   "execution_count": null,
   "metadata": {},
   "outputs": [],
   "source": [
    "products_df = pd.read_csv(dir_path+'products_df.csv')\n",
    "products_df.drop('Unnamed: 0', axis=1, inplace=True)"
   ]
  },
  {
   "cell_type": "code",
   "execution_count": null,
   "metadata": {},
   "outputs": [
    {
     "data": {
      "text/plain": "Index(['pk_cid', 'pk_partition', 'short_term_deposit', 'loans', 'mortgage',\n       'funds', 'securities', 'long_term_deposit', 'em_account_pp',\n       'credit_card', 'payroll', 'pension_plan', 'payroll_account',\n       'emc_account', 'debit_card', 'em_account_p', 'em_acount'],\n      dtype='object')"
     },
     "execution_count": 15,
     "metadata": {},
     "output_type": "execute_result"
    }
   ],
   "source": [
    "products_df.columns"
   ]
  },
  {
   "cell_type": "code",
   "execution_count": null,
   "metadata": {},
   "outputs": [
    {
     "data": {
      "text/plain": "pk_cid                  int64\npk_partition           object\nshort_term_deposit      int64\nloans                   int64\nmortgage                int64\nfunds                   int64\nsecurities              int64\nlong_term_deposit       int64\nem_account_pp           int64\ncredit_card             int64\npayroll               float64\npension_plan          float64\npayroll_account         int64\nemc_account             int64\ndebit_card              int64\nem_account_p            int64\nem_acount               int64\ndtype: object"
     },
     "execution_count": 16,
     "metadata": {},
     "output_type": "execute_result"
    }
   ],
   "source": [
    "products_df.dtypes"
   ]
  },
  {
   "cell_type": "code",
   "execution_count": null,
   "metadata": {},
   "outputs": [],
   "source": [
    "from sys import getsizeof\n",
    "\n",
    "boolean_cols = [\"short_term_deposit\", \"loans\", \"mortgage\", \"funds\", \"securities\", \"long_term_deposit\", \"em_account_pp\", \"credit_card\", \"payroll_account\", \"emc_account\", \"debit_card\", \"em_account_p\", \"em_acount\", \"payroll\", \"pension_plan\"] \n",
    "\n",
    "for x in boolean_cols:\n",
    "    products_df[x] = products_df[x].astype(bool)"
   ]
  },
  {
   "cell_type": "code",
   "execution_count": null,
   "metadata": {},
   "outputs": [
    {
     "data": {
      "text/plain": "0"
     },
     "execution_count": 65,
     "metadata": {},
     "output_type": "execute_result"
    }
   ],
   "source": [
    "sSQL = ''' CREATE TABLE products (\n",
    "    pk_cid INT,\n",
    "    pk_partition VARCHAR(11),\n",
    "    short_term_deposit TINYINT,\n",
    "    loans TINYINT,\n",
    "    mortgage TINYINT,\n",
    "    funds TINYINT,\n",
    "    securities TINYINT,\n",
    "    long_term_deposit TINYINT,\n",
    "    em_account_pp TINYINT,\n",
    "    credit_card TINYINT,\n",
    "    payroll TINYINT,\n",
    "    pension_plan TINYINT,\n",
    "    payroll_account TINYINT,\n",
    "    emc_account TINYINT,\n",
    "    debit_card TINYINT,\n",
    "    em_account_p TINYINT,\n",
    "    em_acount TINYINT\n",
    ") '''\n",
    "cursor.execute(sSQL)"
   ]
  },
  {
   "cell_type": "code",
   "execution_count": null,
   "metadata": {},
   "outputs": [
    {
     "data": {
      "text/plain": "(('person',), ('products',))"
     },
     "execution_count": 66,
     "metadata": {},
     "output_type": "execute_result"
    }
   ],
   "source": [
    "sSQL = ''' SHOW TABLES '''\n",
    "cursor.execute(sSQL)\n",
    "cursor.fetchall()"
   ]
  },
  {
   "cell_type": "code",
   "execution_count": null,
   "metadata": {},
   "outputs": [
    {
     "data": {
      "text/html": "<div>\n<style scoped>\n    .dataframe tbody tr th:only-of-type {\n        vertical-align: middle;\n    }\n\n    .dataframe tbody tr th {\n        vertical-align: top;\n    }\n\n    .dataframe thead th {\n        text-align: right;\n    }\n</style>\n<table border=\"1\" class=\"dataframe\">\n  <thead>\n    <tr style=\"text-align: right;\">\n      <th></th>\n      <th>pk_cid</th>\n      <th>pk_partition</th>\n      <th>short_term_deposit</th>\n      <th>loans</th>\n      <th>mortgage</th>\n      <th>funds</th>\n      <th>securities</th>\n      <th>long_term_deposit</th>\n      <th>em_account_pp</th>\n      <th>credit_card</th>\n      <th>payroll</th>\n      <th>pension_plan</th>\n      <th>payroll_account</th>\n      <th>emc_account</th>\n      <th>debit_card</th>\n      <th>em_account_p</th>\n      <th>em_acount</th>\n    </tr>\n  </thead>\n  <tbody>\n    <tr>\n      <th>0</th>\n      <td>1375586</td>\n      <td>2018-01-28</td>\n      <td>0</td>\n      <td>0</td>\n      <td>0</td>\n      <td>0</td>\n      <td>0</td>\n      <td>0</td>\n      <td>0</td>\n      <td>0</td>\n      <td>0.0</td>\n      <td>0.0</td>\n      <td>0</td>\n      <td>0</td>\n      <td>0</td>\n      <td>0</td>\n      <td>1</td>\n    </tr>\n    <tr>\n      <th>1</th>\n      <td>1050611</td>\n      <td>2018-01-28</td>\n      <td>0</td>\n      <td>0</td>\n      <td>0</td>\n      <td>0</td>\n      <td>0</td>\n      <td>0</td>\n      <td>0</td>\n      <td>0</td>\n      <td>0.0</td>\n      <td>0.0</td>\n      <td>0</td>\n      <td>0</td>\n      <td>0</td>\n      <td>0</td>\n      <td>1</td>\n    </tr>\n    <tr>\n      <th>2</th>\n      <td>1050612</td>\n      <td>2018-01-28</td>\n      <td>0</td>\n      <td>0</td>\n      <td>0</td>\n      <td>0</td>\n      <td>0</td>\n      <td>0</td>\n      <td>0</td>\n      <td>0</td>\n      <td>0.0</td>\n      <td>0.0</td>\n      <td>0</td>\n      <td>0</td>\n      <td>0</td>\n      <td>0</td>\n      <td>1</td>\n    </tr>\n    <tr>\n      <th>3</th>\n      <td>1050613</td>\n      <td>2018-01-28</td>\n      <td>1</td>\n      <td>0</td>\n      <td>0</td>\n      <td>0</td>\n      <td>0</td>\n      <td>0</td>\n      <td>0</td>\n      <td>0</td>\n      <td>0.0</td>\n      <td>0.0</td>\n      <td>0</td>\n      <td>0</td>\n      <td>0</td>\n      <td>0</td>\n      <td>0</td>\n    </tr>\n    <tr>\n      <th>4</th>\n      <td>1050614</td>\n      <td>2018-01-28</td>\n      <td>0</td>\n      <td>0</td>\n      <td>0</td>\n      <td>0</td>\n      <td>0</td>\n      <td>0</td>\n      <td>0</td>\n      <td>0</td>\n      <td>0.0</td>\n      <td>0.0</td>\n      <td>0</td>\n      <td>0</td>\n      <td>0</td>\n      <td>0</td>\n      <td>1</td>\n    </tr>\n  </tbody>\n</table>\n</div>",
      "text/plain": "    pk_cid pk_partition  short_term_deposit  loans  mortgage  funds  \\\n0  1375586   2018-01-28                   0      0         0      0   \n1  1050611   2018-01-28                   0      0         0      0   \n2  1050612   2018-01-28                   0      0         0      0   \n3  1050613   2018-01-28                   1      0         0      0   \n4  1050614   2018-01-28                   0      0         0      0   \n\n   securities  long_term_deposit  em_account_pp  credit_card  payroll  \\\n0           0                  0              0            0      0.0   \n1           0                  0              0            0      0.0   \n2           0                  0              0            0      0.0   \n3           0                  0              0            0      0.0   \n4           0                  0              0            0      0.0   \n\n   pension_plan  payroll_account  emc_account  debit_card  em_account_p  \\\n0           0.0                0            0           0             0   \n1           0.0                0            0           0             0   \n2           0.0                0            0           0             0   \n3           0.0                0            0           0             0   \n4           0.0                0            0           0             0   \n\n   em_acount  \n0          1  \n1          1  \n2          1  \n3          0  \n4          1  "
     },
     "execution_count": 55,
     "metadata": {},
     "output_type": "execute_result"
    }
   ],
   "source": [
    "products_df.head()"
   ]
  },
  {
   "cell_type": "code",
   "execution_count": null,
   "metadata": {},
   "outputs": [
    {
     "data": {
      "text/plain": "(5962924, 17)"
     },
     "execution_count": 20,
     "metadata": {},
     "output_type": "execute_result"
    }
   ],
   "source": [
    "products_df.shape"
   ]
  },
  {
   "cell_type": "code",
   "execution_count": null,
   "metadata": {},
   "outputs": [
    {
     "data": {
      "text/plain": "5962924"
     },
     "execution_count": 50,
     "metadata": {},
     "output_type": "execute_result"
    }
   ],
   "source": [
    "N = products_df.shape[0]\n",
    "N"
   ]
  },
  {
   "cell_type": "code",
   "execution_count": null,
   "metadata": {},
   "outputs": [],
   "source": [
    "5000/N*100"
   ]
  },
  {
   "cell_type": "code",
   "execution_count": null,
   "metadata": {},
   "outputs": [],
   "source": [
    "cont = 1\n",
    "for key, row in products_df.iterrows():\n",
    "    sSQL = ''' INSERT INTO products VALUES ( {}, '{}', \n",
    "        {}, {}, {}, {}, {}, \n",
    "        {}, {}, {}, {}, {}, \n",
    "        {}, {}, {}, {}, {} \n",
    "        )'''.format(row['pk_cid'], row['pk_partition'], row['short_term_deposit'], \\\n",
    "            row['loans'], row['mortgage'], row['funds'], row['securities'], row['long_term_deposit'], \\\n",
    "                row['em_account_pp'], row['credit_card'], int(row['payroll']), int(row['pension_plan']), row['payroll_account'], \\\n",
    "                    row['emc_account'], row['debit_card'], row['em_account_p'], row['em_acount'])\n",
    "    cursor.execute(sSQL)\n",
    "\n",
    "    if key/N*100 > cont:\n",
    "        print(cont)\n",
    "        cont += 1\n",
    "\n",
    "db.commit()\n",
    "print('Acabado')"
   ]
  },
  {
   "cell_type": "code",
   "execution_count": null,
   "metadata": {},
   "outputs": [
    {
     "data": {
      "text/plain": "()"
     },
     "execution_count": 67,
     "metadata": {},
     "output_type": "execute_result"
    }
   ],
   "source": [
    "sSQL = ''' SELECT * FROM products '''\n",
    "cursor.execute(sSQL)\n",
    "cursor.fetchall()"
   ]
  },
  {
   "cell_type": "code",
   "execution_count": null,
   "metadata": {},
   "outputs": [
    {
     "data": {
      "text/plain": "0"
     },
     "execution_count": 4,
     "metadata": {},
     "output_type": "execute_result"
    }
   ],
   "source": [
    "sSQL = ''' DROP TABLE products '''\n",
    "cursor.execute(sSQL)"
   ]
  },
  {
   "cell_type": "markdown",
   "metadata": {},
   "source": []
  }
 ],
 "metadata": {
  "kernelspec": {
   "display_name": "Python 3.8.5 64-bit ('base': conda)",
   "name": "python385jvsc74a57bd01f1ade11a66f379951eb785ed5ab9940defd282e53b6a037182efca5c962c31b"
  },
  "language_info": {
   "codemirror_mode": {
    "name": "ipython",
    "version": 3
   },
   "file_extension": ".py",
   "mimetype": "text/x-python",
   "name": "python",
   "nbconvert_exporter": "python",
   "pygments_lexer": "ipython3",
   "version": "3.8.5"
  },
  "metadata": {
   "interpreter": {
    "hash": "1f1ade11a66f379951eb785ed5ab9940defd282e53b6a037182efca5c962c31b"
   }
  },
  "orig_nbformat": 2
 },
 "nbformat": 4,
 "nbformat_minor": 2
}