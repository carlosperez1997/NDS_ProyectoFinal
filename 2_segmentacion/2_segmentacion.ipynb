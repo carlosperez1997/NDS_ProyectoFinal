{
 "cells": [
  {
   "cell_type": "code",
   "execution_count": 393,
   "metadata": {},
   "outputs": [],
   "source": [
    "import pandas as pd \n",
    "import numpy as np \n",
    "import matplotlib.pyplot as plt \n",
    "import seaborn as sns\n",
    "\n",
    "import warnings\n",
    "warnings.filterwarnings(\"ignore\")"
   ]
  },
  {
   "cell_type": "code",
   "execution_count": 394,
   "metadata": {},
   "outputs": [],
   "source": [
    "DIR_PATH = '/Users/carlosperezricardo/Documents/data/'\n",
    "commercial_activity = pd.read_csv(DIR_PATH+'commercial_activity_df.csv', encoding='utf-8')\n",
    "commercial_activity.drop(columns=['Unnamed: 0'], inplace=True)\n",
    "\n",
    "products = pd.read_csv(DIR_PATH+'products_df.csv', encoding='utf-8')\n",
    "products.drop(columns=['Unnamed: 0'], inplace=True)\n",
    "\n",
    "sociodemographic = pd.read_csv(DIR_PATH+'sociodemographic_df.csv', encoding='utf-8')\n",
    "sociodemographic.drop(columns=['Unnamed: 0'], inplace=True)"
   ]
  },
  {
   "cell_type": "code",
   "execution_count": 395,
   "metadata": {},
   "outputs": [],
   "source": [
    "df_whole = pd.merge( commercial_activity, products, on = ['pk_cid','pk_partition'] )\n",
    "df_whole = pd.merge( df_whole, sociodemographic, on=['pk_cid','pk_partition'] )"
   ]
  },
  {
   "cell_type": "code",
   "execution_count": 396,
   "metadata": {},
   "outputs": [
    {
     "data": {
      "text/plain": "(5962924, 27)"
     },
     "execution_count": 396,
     "metadata": {},
     "output_type": "execute_result"
    }
   ],
   "source": [
    "df_whole.shape"
   ]
  },
  {
   "cell_type": "code",
   "execution_count": 397,
   "metadata": {},
   "outputs": [
    {
     "name": "stdout",
     "output_type": "stream",
     "text": [
      "<class 'pandas.core.frame.DataFrame'>\n",
      "Int64Index: 5962924 entries, 0 to 5962923\n",
      "Columns: 27 entries, pk_cid to salary\n",
      "dtypes: float64(5), int64(15), object(7)\n",
      "memory usage: 1.2+ GB\n"
     ]
    }
   ],
   "source": [
    "df_whole.info(verbose=False)"
   ]
  },
  {
   "cell_type": "code",
   "execution_count": 398,
   "metadata": {},
   "outputs": [
    {
     "name": "stdout",
     "output_type": "stream",
     "text": [
      "El dataframe products ocupa 3468.526909828186 MB antes de codificar columnas boolean\n",
      "El dataframe products_df ocupa 2871.4247255325317 MB después de codificar columnas boolean\n"
     ]
    }
   ],
   "source": [
    "# We reduce memory\n",
    "# Codificar variables logicas (1/0 = bool)\n",
    "from sys import getsizeof\n",
    "\n",
    "boolean_cols = [\"short_term_deposit\", \"loans\", \"mortgage\", \"funds\", \"securities\",\"long_term_deposit\", \"em_account_pp\", \"credit_card\", \"payroll_account\", \"emc_account\", \"debit_card\", \"em_account_p\", \"em_acount\", \"payroll\", \"pension_plan\"] \n",
    "# payroll y pension_plan tienen nulos en el dataset completo\n",
    "\n",
    "print('El dataframe products ocupa {} MB antes de codificar columnas boolean'.format(getsizeof(df_whole)/1048576))\n",
    "\n",
    "for x in boolean_cols:\n",
    "    df_whole[x] = df_whole[x].astype(bool)\n",
    "\n",
    "print('El dataframe products_df ocupa {} MB después de codificar columnas boolean'.format(getsizeof(df_whole)/1048576))"
   ]
  },
  {
   "cell_type": "code",
   "execution_count": 399,
   "metadata": {},
   "outputs": [
    {
     "data": {
      "text/html": "<div>\n<style scoped>\n    .dataframe tbody tr th:only-of-type {\n        vertical-align: middle;\n    }\n\n    .dataframe tbody tr th {\n        vertical-align: top;\n    }\n\n    .dataframe thead th {\n        text-align: right;\n    }\n</style>\n<table border=\"1\" class=\"dataframe\">\n  <thead>\n    <tr style=\"text-align: right;\">\n      <th></th>\n      <th>0</th>\n      <th>1</th>\n      <th>2</th>\n    </tr>\n  </thead>\n  <tbody>\n    <tr>\n      <th>pk_cid</th>\n      <td>1375586</td>\n      <td>1050611</td>\n      <td>1050612</td>\n    </tr>\n    <tr>\n      <th>pk_partition</th>\n      <td>2018-01-28</td>\n      <td>2018-01-28</td>\n      <td>2018-01-28</td>\n    </tr>\n    <tr>\n      <th>entry_date</th>\n      <td>2018-01-12</td>\n      <td>2015-08-10</td>\n      <td>2015-08-10</td>\n    </tr>\n    <tr>\n      <th>entry_channel</th>\n      <td>KHL</td>\n      <td>KHE</td>\n      <td>KHE</td>\n    </tr>\n    <tr>\n      <th>active_customer</th>\n      <td>1</td>\n      <td>0</td>\n      <td>0</td>\n    </tr>\n    <tr>\n      <th>segment</th>\n      <td>02 - PARTICULARES</td>\n      <td>03 - UNIVERSITARIO</td>\n      <td>03 - UNIVERSITARIO</td>\n    </tr>\n    <tr>\n      <th>short_term_deposit</th>\n      <td>False</td>\n      <td>False</td>\n      <td>False</td>\n    </tr>\n    <tr>\n      <th>loans</th>\n      <td>False</td>\n      <td>False</td>\n      <td>False</td>\n    </tr>\n    <tr>\n      <th>mortgage</th>\n      <td>False</td>\n      <td>False</td>\n      <td>False</td>\n    </tr>\n    <tr>\n      <th>funds</th>\n      <td>False</td>\n      <td>False</td>\n      <td>False</td>\n    </tr>\n    <tr>\n      <th>securities</th>\n      <td>False</td>\n      <td>False</td>\n      <td>False</td>\n    </tr>\n    <tr>\n      <th>long_term_deposit</th>\n      <td>False</td>\n      <td>False</td>\n      <td>False</td>\n    </tr>\n    <tr>\n      <th>em_account_pp</th>\n      <td>False</td>\n      <td>False</td>\n      <td>False</td>\n    </tr>\n    <tr>\n      <th>credit_card</th>\n      <td>False</td>\n      <td>False</td>\n      <td>False</td>\n    </tr>\n    <tr>\n      <th>payroll</th>\n      <td>False</td>\n      <td>False</td>\n      <td>False</td>\n    </tr>\n    <tr>\n      <th>pension_plan</th>\n      <td>False</td>\n      <td>False</td>\n      <td>False</td>\n    </tr>\n    <tr>\n      <th>payroll_account</th>\n      <td>False</td>\n      <td>False</td>\n      <td>False</td>\n    </tr>\n    <tr>\n      <th>emc_account</th>\n      <td>False</td>\n      <td>False</td>\n      <td>False</td>\n    </tr>\n    <tr>\n      <th>debit_card</th>\n      <td>False</td>\n      <td>False</td>\n      <td>False</td>\n    </tr>\n    <tr>\n      <th>em_account_p</th>\n      <td>False</td>\n      <td>False</td>\n      <td>False</td>\n    </tr>\n    <tr>\n      <th>em_acount</th>\n      <td>True</td>\n      <td>True</td>\n      <td>True</td>\n    </tr>\n    <tr>\n      <th>country_id</th>\n      <td>ES</td>\n      <td>ES</td>\n      <td>ES</td>\n    </tr>\n    <tr>\n      <th>region_code</th>\n      <td>29</td>\n      <td>13</td>\n      <td>13</td>\n    </tr>\n    <tr>\n      <th>gender</th>\n      <td>H</td>\n      <td>V</td>\n      <td>V</td>\n    </tr>\n    <tr>\n      <th>age</th>\n      <td>35</td>\n      <td>23</td>\n      <td>23</td>\n    </tr>\n    <tr>\n      <th>deceased</th>\n      <td>N</td>\n      <td>N</td>\n      <td>N</td>\n    </tr>\n    <tr>\n      <th>salary</th>\n      <td>87218.1</td>\n      <td>35548.7</td>\n      <td>122179</td>\n    </tr>\n  </tbody>\n</table>\n</div>",
      "text/plain": "                                    0                   1                   2\npk_cid                        1375586             1050611             1050612\npk_partition               2018-01-28          2018-01-28          2018-01-28\nentry_date                 2018-01-12          2015-08-10          2015-08-10\nentry_channel                     KHL                 KHE                 KHE\nactive_customer                     1                   0                   0\nsegment             02 - PARTICULARES  03 - UNIVERSITARIO  03 - UNIVERSITARIO\nshort_term_deposit              False               False               False\nloans                           False               False               False\nmortgage                        False               False               False\nfunds                           False               False               False\nsecurities                      False               False               False\nlong_term_deposit               False               False               False\nem_account_pp                   False               False               False\ncredit_card                     False               False               False\npayroll                         False               False               False\npension_plan                    False               False               False\npayroll_account                 False               False               False\nemc_account                     False               False               False\ndebit_card                      False               False               False\nem_account_p                    False               False               False\nem_acount                        True                True                True\ncountry_id                         ES                  ES                  ES\nregion_code                        29                  13                  13\ngender                              H                   V                   V\nage                                35                  23                  23\ndeceased                            N                   N                   N\nsalary                        87218.1             35548.7              122179"
     },
     "execution_count": 399,
     "metadata": {},
     "output_type": "execute_result"
    }
   ],
   "source": [
    "df_whole.head(3).T"
   ]
  },
  {
   "cell_type": "code",
   "execution_count": 400,
   "metadata": {},
   "outputs": [
    {
     "data": {
      "text/plain": "['pk_cid',\n 'pk_partition',\n 'entry_date',\n 'entry_channel',\n 'active_customer',\n 'segment',\n 'short_term_deposit',\n 'loans',\n 'mortgage',\n 'funds',\n 'securities',\n 'long_term_deposit',\n 'em_account_pp',\n 'credit_card',\n 'payroll',\n 'pension_plan',\n 'payroll_account',\n 'emc_account',\n 'debit_card',\n 'em_account_p',\n 'em_acount',\n 'country_id',\n 'region_code',\n 'gender',\n 'age',\n 'deceased',\n 'salary']"
     },
     "execution_count": 400,
     "metadata": {},
     "output_type": "execute_result"
    }
   ],
   "source": [
    "df_whole.columns.to_list()"
   ]
  },
  {
   "cell_type": "code",
   "execution_count": 401,
   "metadata": {},
   "outputs": [],
   "source": [
    "df = pd.DataFrame()"
   ]
  },
  {
   "cell_type": "markdown",
   "metadata": {},
   "source": [
    "# Salary (1)"
   ]
  },
  {
   "cell_type": "code",
   "execution_count": 402,
   "metadata": {},
   "outputs": [
    {
     "data": {
      "text/html": "<div>\n<style scoped>\n    .dataframe tbody tr th:only-of-type {\n        vertical-align: middle;\n    }\n\n    .dataframe tbody tr th {\n        vertical-align: top;\n    }\n\n    .dataframe thead th {\n        text-align: right;\n    }\n</style>\n<table border=\"1\" class=\"dataframe\">\n  <thead>\n    <tr style=\"text-align: right;\">\n      <th></th>\n      <th>min</th>\n      <th>max</th>\n    </tr>\n    <tr>\n      <th>pk_cid</th>\n      <th></th>\n      <th></th>\n    </tr>\n  </thead>\n  <tbody>\n  </tbody>\n</table>\n</div>",
      "text/plain": "Empty DataFrame\nColumns: [min, max]\nIndex: []"
     },
     "execution_count": 402,
     "metadata": {},
     "output_type": "execute_result"
    }
   ],
   "source": [
    "salary_check = df_whole.groupby('pk_cid')['salary'].agg(['min','max'])\n",
    "salary_check = salary_check.dropna(how='any')\n",
    "salary_check[ salary_check['min'] != salary_check['max'] ]\n",
    "\n",
    "# There is no change in salary"
   ]
  },
  {
   "cell_type": "code",
   "execution_count": 403,
   "metadata": {},
   "outputs": [
    {
     "data": {
      "text/html": "<div>\n<style scoped>\n    .dataframe tbody tr th:only-of-type {\n        vertical-align: middle;\n    }\n\n    .dataframe tbody tr th {\n        vertical-align: top;\n    }\n\n    .dataframe thead th {\n        text-align: right;\n    }\n</style>\n<table border=\"1\" class=\"dataframe\">\n  <thead>\n    <tr style=\"text-align: right;\">\n      <th></th>\n      <th>min</th>\n      <th>max</th>\n    </tr>\n    <tr>\n      <th>pk_cid</th>\n      <th></th>\n      <th></th>\n    </tr>\n  </thead>\n  <tbody>\n    <tr>\n      <th>17457</th>\n      <td>102405</td>\n      <td>102405</td>\n    </tr>\n    <tr>\n      <th>17590</th>\n      <td>407281</td>\n      <td>407281</td>\n    </tr>\n    <tr>\n      <th>17799</th>\n      <td>84511</td>\n      <td>84511</td>\n    </tr>\n    <tr>\n      <th>17980</th>\n      <td>282461</td>\n      <td>282461</td>\n    </tr>\n    <tr>\n      <th>18704</th>\n      <td>75187</td>\n      <td>75187</td>\n    </tr>\n  </tbody>\n</table>\n</div>",
      "text/plain": "           min     max\npk_cid                \n17457   102405  102405\n17590   407281  407281\n17799    84511   84511\n17980   282461  282461\n18704    75187   75187"
     },
     "execution_count": 403,
     "metadata": {},
     "output_type": "execute_result"
    }
   ],
   "source": [
    "salary_check['max'] = salary_check['max'].astype('int')\n",
    "salary_check['min'] = salary_check['min'].astype('int')\n",
    "salary_check.head()"
   ]
  },
  {
   "cell_type": "code",
   "execution_count": 404,
   "metadata": {},
   "outputs": [
    {
     "data": {
      "text/plain": "89018.0"
     },
     "execution_count": 404,
     "metadata": {},
     "output_type": "execute_result"
    }
   ],
   "source": [
    "salary_check['max'].median()"
   ]
  },
  {
   "cell_type": "code",
   "execution_count": 405,
   "metadata": {},
   "outputs": [],
   "source": [
    "df['salary'] = df_whole.groupby('pk_cid')['salary'].max()"
   ]
  },
  {
   "cell_type": "markdown",
   "metadata": {},
   "source": [
    "# Muertos (1)"
   ]
  },
  {
   "cell_type": "code",
   "execution_count": 406,
   "metadata": {},
   "outputs": [
    {
     "data": {
      "text/plain": "N    456244\nS       129\nName: deceased, dtype: int64"
     },
     "execution_count": 406,
     "metadata": {},
     "output_type": "execute_result"
    }
   ],
   "source": [
    "df_whole.groupby('pk_cid')['deceased'].max().value_counts()"
   ]
  },
  {
   "cell_type": "code",
   "execution_count": 407,
   "metadata": {},
   "outputs": [],
   "source": [
    "df_whole['deceased'] = df_whole['deceased'].replace({'N':0,'S':1})"
   ]
  },
  {
   "cell_type": "code",
   "execution_count": 408,
   "metadata": {},
   "outputs": [],
   "source": [
    "df['deceased'] = df_whole.groupby('pk_cid')['deceased'].max()"
   ]
  },
  {
   "cell_type": "markdown",
   "metadata": {},
   "source": [
    "# Cliente activo (1)"
   ]
  },
  {
   "cell_type": "code",
   "execution_count": 409,
   "metadata": {},
   "outputs": [],
   "source": [
    "df['active_customer'] = df_whole.groupby('pk_cid')['active_customer'].last()"
   ]
  },
  {
   "cell_type": "markdown",
   "metadata": {},
   "source": [
    "# Edad (1)\n",
    "\n",
    "Nos quedamos con la ultima o con la edad más grande."
   ]
  },
  {
   "cell_type": "code",
   "execution_count": 410,
   "metadata": {},
   "outputs": [
    {
     "data": {
      "text/plain": "pk_cid\n15891      59\n16063      62\n16203      70\n16502      58\n17457      54\n           ..\n1553685    52\n1553686    30\n1553687    21\n1553688    43\n1553689    40\nName: age, Length: 456373, dtype: int64"
     },
     "execution_count": 410,
     "metadata": {},
     "output_type": "execute_result"
    }
   ],
   "source": [
    "df_whole.groupby('pk_cid')['age'].max()"
   ]
  },
  {
   "cell_type": "code",
   "execution_count": 411,
   "metadata": {},
   "outputs": [],
   "source": [
    "df['age'] = df_whole.groupby('pk_cid')['age'].max()"
   ]
  },
  {
   "cell_type": "markdown",
   "metadata": {},
   "source": [
    "# Genero \n",
    "\n",
    "No la utilizamos."
   ]
  },
  {
   "cell_type": "markdown",
   "metadata": {},
   "source": [
    "# Region code (2)\n",
    "\n",
    "Pasamos a Provincia. Podemos meter población en esa provincia. O de tu población de productos.\n",
    "Frequency encoding.\n",
    "\n",
    "Total % de tu cartera que son de Madrid \n",
    "Total % que de Madrid tiene productos sobre el total. Que tanto % de clientes de Madrid compran."
   ]
  },
  {
   "cell_type": "code",
   "execution_count": 412,
   "metadata": {},
   "outputs": [
    {
     "data": {
      "text/plain": "[28.0, 8.0, 46.0, 30.0, 41.0]"
     },
     "execution_count": 412,
     "metadata": {},
     "output_type": "execute_result"
    }
   ],
   "source": [
    "top_regions = df_whole.groupby('pk_cid')['region_code'].last().to_frame().value_counts().head(5)\n",
    "list_top_regions = top_regions.reset_index()['region_code'].to_list()\n",
    "top_regions\n",
    "list_top_regions"
   ]
  },
  {
   "cell_type": "code",
   "execution_count": 413,
   "metadata": {},
   "outputs": [],
   "source": [
    "df_whole['region_code'] = np.where( df_whole['region_code'].isin( list_top_regions ), True, False )"
   ]
  },
  {
   "cell_type": "code",
   "execution_count": 414,
   "metadata": {},
   "outputs": [
    {
     "data": {
      "text/plain": "False    241199\nTrue     215174\nName: region_code, dtype: int64"
     },
     "execution_count": 414,
     "metadata": {},
     "output_type": "execute_result"
    }
   ],
   "source": [
    "df_whole.groupby('pk_cid')['region_code'].last().value_counts()"
   ]
  },
  {
   "cell_type": "code",
   "execution_count": 415,
   "metadata": {},
   "outputs": [],
   "source": [
    "df['region_code'] = df_whole.groupby('pk_cid')['region_code'].last()"
   ]
  },
  {
   "cell_type": "markdown",
   "metadata": {},
   "source": [
    "# country_id (1)\n",
    "\n",
    "Agrupar por Continente y hacer lo mismo. Pasar a no_spain."
   ]
  },
  {
   "cell_type": "code",
   "execution_count": 416,
   "metadata": {},
   "outputs": [],
   "source": [
    "df_whole['country_id'] = np.where( df_whole['country_id'] == 'ES', True, False )"
   ]
  },
  {
   "cell_type": "code",
   "execution_count": 417,
   "metadata": {},
   "outputs": [
    {
     "data": {
      "text/plain": "True     456209\nFalse       164\nName: country_id, dtype: int64"
     },
     "execution_count": 417,
     "metadata": {},
     "output_type": "execute_result"
    }
   ],
   "source": [
    "df_whole.groupby('pk_cid')['country_id'].last().value_counts()"
   ]
  },
  {
   "cell_type": "code",
   "execution_count": 418,
   "metadata": {},
   "outputs": [],
   "source": [
    "df['country_id'] = df_whole.groupby('pk_cid')['country_id'].last()"
   ]
  },
  {
   "cell_type": "markdown",
   "metadata": {},
   "source": [
    "# payroll (1)"
   ]
  },
  {
   "cell_type": "code",
   "execution_count": 419,
   "metadata": {},
   "outputs": [],
   "source": [
    "df_whole['payroll'] = np.where( df_whole['country_id'] == 'ES', True, False )"
   ]
  },
  {
   "cell_type": "code",
   "execution_count": 420,
   "metadata": {},
   "outputs": [
    {
     "data": {
      "text/plain": "False    456373\nName: payroll, dtype: int64"
     },
     "execution_count": 420,
     "metadata": {},
     "output_type": "execute_result"
    }
   ],
   "source": [
    "df_whole.groupby('pk_cid')['payroll'].last().value_counts()"
   ]
  },
  {
   "cell_type": "code",
   "execution_count": 421,
   "metadata": {},
   "outputs": [],
   "source": [
    "df['payroll'] = df_whole.groupby('pk_cid')['payroll'].last()"
   ]
  },
  {
   "cell_type": "markdown",
   "metadata": {},
   "source": []
  },
  {
   "cell_type": "markdown",
   "metadata": {},
   "source": [
    "# Por producto \n",
    "\n",
    "- cantidad de altas (17)\n",
    "- cantidad de bajas sin cobro / altas que no han sido cobradas (17)\n",
    "- cantidad de bajas con cobro (17)\n",
    "\n",
    "# Por tipo de producto\n",
    "\n",
    "- Cantidad de altas (3)\n",
    "- Cantidad de bajas (3)\n",
    "\n",
    "# Customer Lifetime Value\n",
    "\n",
    "- Gastos totales de cada cliente (1)\n",
    "- Gastos totales en cada tipo de producto (3)\n",
    "- Numero de productos contratados en su historia (1)\n",
    "\n"
   ]
  },
  {
   "cell_type": "code",
   "execution_count": 422,
   "metadata": {},
   "outputs": [
    {
     "data": {
      "text/plain": "456373"
     },
     "execution_count": 422,
     "metadata": {},
     "output_type": "execute_result"
    }
   ],
   "source": [
    "customers = df.index\n",
    "len(customers)"
   ]
  },
  {
   "cell_type": "code",
   "execution_count": 423,
   "metadata": {},
   "outputs": [],
   "source": [
    "partitions = ['2018-01-28','2018-02-28','2018-03-28','2018-04-28','2018-05-28','2018-06-28', \\\n",
    "    '2018-07-28','2018-08-28','2018-09-28','2018-10-28','2018-11-28','2018-12-28','2019-01-28', \\\n",
    "        '2019-02-28','2019-03-28','2019-04-28','2019-05-28']\n",
    "\n",
    "list_products = ['short_term_deposit','loans','mortgage','funds','securities',\n",
    "    'long_term_deposit','em_account_pp','credit_card','pension_plan',\n",
    "    'payroll_account','emc_account','debit_card','em_account_p','em_acount']\n",
    "\n",
    "products_dict = {\"short_term_deposit\":\"ahorro e inversión\", \"loans\":\"financiación\", \"mortgage\":\"financiación\", \n",
    "    \"funds\":\"ahorro e inversión\", \"securities\":\"ahorro e inversión\", \"long_term_deposit\":\"ahorro e inversión\", \n",
    "    \"em_account_pp\":\"cuenta\", \"credit_card\":\"financiación\", \"payroll_account\":\"cuenta\", \"pension_plan\":\"ahorro e inversión\", \n",
    "    \"emc_account\":\"cuenta\", \"debit_card\":\"financiación\", \"em_account_p\":\"cuenta\", \"em_acount\":\"cuenta\"}\n",
    "\n",
    "cost_product = {'cuenta':10, 'ahorro e inversión':40, 'financiación':60}"
   ]
  },
  {
   "cell_type": "code",
   "execution_count": 424,
   "metadata": {},
   "outputs": [],
   "source": [
    "def determinar_altas(data):\n",
    "    data = pd.DataFrame(data)\n",
    "    data.columns=['product']\n",
    "    data['prev'] = data['product'].shift(1)\n",
    "    data['diff'] = data['product'] - data['prev']\n",
    "\n",
    "    return len(data[data['diff'] == 1])"
   ]
  },
  {
   "cell_type": "code",
   "execution_count": 425,
   "metadata": {},
   "outputs": [
    {
     "data": {
      "text/plain": "3"
     },
     "execution_count": 425,
     "metadata": {},
     "output_type": "execute_result"
    }
   ],
   "source": [
    "test_data = pd.DataFrame( [0,0,1,1,1,0,0,0,1,1,1,1,0,0,0,1] )\n",
    "determinar_altas(test_data)\n",
    "# expected result: 3"
   ]
  },
  {
   "cell_type": "code",
   "execution_count": 426,
   "metadata": {},
   "outputs": [],
   "source": [
    "def determinar_bajas(data):\n",
    "    data = pd.DataFrame(data)\n",
    "    data.columns=['product']\n",
    "    data['prev'] = data['product'].shift(1)\n",
    "    data['diff'] = data['product'] - data['prev']\n",
    "\n",
    "    return len(data[data['diff'] == -1])"
   ]
  },
  {
   "cell_type": "code",
   "execution_count": 427,
   "metadata": {},
   "outputs": [
    {
     "data": {
      "text/plain": "3"
     },
     "execution_count": 427,
     "metadata": {},
     "output_type": "execute_result"
    }
   ],
   "source": [
    "test_data = pd.DataFrame( [0,0,1,1,1,0,0,0,1,1,1,1,0,0,0,1,0] )\n",
    "determinar_bajas(test_data)\n",
    "# expected result: 2"
   ]
  },
  {
   "cell_type": "code",
   "execution_count": 428,
   "metadata": {},
   "outputs": [],
   "source": [
    "def determinar_altas_all(data):\n",
    "    data.columns=['pk_partition','pk_cid','product']\n",
    "    data['prev'] = data.groupby('pk_cid')['product'].shift(1)\n",
    "    data['diff'] = data['product'] - data['prev']\n",
    "\n",
    "    # Solo queremos 1 \n",
    "    data['diff'] = np.where( (data['product']==1) & (data['diff'].isna()) & (data['pk_partition']!='2018-01-28'), 1, data['diff'] )\n",
    "    data['diff'].fillna(0,inplace=True)\n",
    "    data['diff'] = np.where( data['diff'] == -1, 0, data['diff'] )\n",
    "\n",
    "    return data.groupby('pk_cid')['diff'].sum()"
   ]
  },
  {
   "cell_type": "code",
   "execution_count": 429,
   "metadata": {},
   "outputs": [],
   "source": [
    "def determinar_bajas_all(data):\n",
    "    data.columns=['pk_cid','product']\n",
    "    data['prev'] = data.groupby('pk_cid')['product'].shift(1)\n",
    "    data['diff'] = data['product'] - data['prev']\n",
    "\n",
    "    # Solo queremos -1 \n",
    "    data['diff'].fillna(0,inplace=True)\n",
    "    data['diff'] = np.where( data['diff'] == 1, 0, data['diff'] )\n",
    "    data['diff'] = np.where( data['diff'] == -1, 1, data['diff'] )\n",
    "\n",
    "    return data.groupby('pk_cid')['diff'].sum()"
   ]
  },
  {
   "cell_type": "code",
   "execution_count": 430,
   "metadata": {},
   "outputs": [],
   "source": [
    "def determinar_altas_cobradas_all(data):\n",
    "    data.columns=['pk_partition','pk_cid','product']\n",
    "\n",
    "    data['prev_month1'] = data.groupby('pk_cid')['product'].shift(1)\n",
    "    data['prev_month2'] = data.groupby('pk_cid')['product'].shift(2)\n",
    "    data['prev_month3'] = data.groupby('pk_cid')['product'].shift(3)\n",
    "\n",
    "    data.fillna(-2, inplace=True)\n",
    "\n",
    "    # nuevas contrataciones (ya cobrados - llevan 3 meses y no se han dado de baja)\n",
    "    #cond3 = (data['product']==1) & (data['prev_month1']==1) & (data['prev_month2']==1) &\\\n",
    "    #    ((data['prev_month3']==0) | ((data['prev_month3'] == -2) & (data['pk_partition']!='2018-03-28')))\n",
    "\n",
    "    cond31 = (data['product']==1) & (data['prev_month1']==1) & (data['prev_month2']==1) & (data['prev_month3']==0)\n",
    "    cond32 = (data['product']==1) & (data['prev_month1']==1) & (data['prev_month2']==1) & (data['prev_month3']==-2) & (data['pk_partition']!='2018-03-28')\n",
    "    cond33 = (data['product']==1) & (data['prev_month1']==1) & (data['prev_month2']==1) & (data['prev_month3']==1) & (data['pk_partition']=='2018-03-28')\n",
    "    \n",
    "    cond3 = cond31 | cond32 | cond33\n",
    "\n",
    "    data['comprado'] = cond3\n",
    "\n",
    "    return data.groupby('pk_cid')['comprado'].sum()"
   ]
  },
  {
   "cell_type": "code",
   "execution_count": 431,
   "metadata": {},
   "outputs": [],
   "source": [
    "df_whole = df_whole.sort_values(['pk_partition','pk_cid'], ascending=True)"
   ]
  },
  {
   "cell_type": "code",
   "execution_count": 432,
   "metadata": {},
   "outputs": [
    {
     "name": "stdout",
     "output_type": "stream",
     "text": [
      "short_term_deposit\n",
      "loans\n",
      "mortgage\n",
      "funds\n",
      "securities\n",
      "long_term_deposit\n",
      "em_account_pp\n",
      "credit_card\n",
      "pension_plan\n",
      "payroll_account\n",
      "emc_account\n",
      "debit_card\n",
      "em_account_p\n",
      "em_acount\n"
     ]
    }
   ],
   "source": [
    "for prod in list_products:\n",
    "    df[prod+'_altas'] = determinar_altas_all( df_whole[['pk_partition','pk_cid',prod]] )\n",
    "    df[prod+'_bajas'] = determinar_bajas_all( df_whole[['pk_cid',prod]] )\n",
    "    df[prod+'_cobros'] = determinar_altas_cobradas_all( df_whole[['pk_partition','pk_cid',prod]] )\n",
    "    print(prod)"
   ]
  },
  {
   "cell_type": "code",
   "execution_count": 433,
   "metadata": {},
   "outputs": [
    {
     "data": {
      "text/html": "<div>\n<style scoped>\n    .dataframe tbody tr th:only-of-type {\n        vertical-align: middle;\n    }\n\n    .dataframe tbody tr th {\n        vertical-align: top;\n    }\n\n    .dataframe thead th {\n        text-align: right;\n    }\n</style>\n<table border=\"1\" class=\"dataframe\">\n  <thead>\n    <tr style=\"text-align: right;\">\n      <th>pk_cid</th>\n      <th>15891</th>\n      <th>16063</th>\n      <th>16203</th>\n    </tr>\n  </thead>\n  <tbody>\n    <tr>\n      <th>salary</th>\n      <td>NaN</td>\n      <td>NaN</td>\n      <td>NaN</td>\n    </tr>\n    <tr>\n      <th>deceased</th>\n      <td>0</td>\n      <td>0</td>\n      <td>0</td>\n    </tr>\n    <tr>\n      <th>active_customer</th>\n      <td>0</td>\n      <td>0</td>\n      <td>1</td>\n    </tr>\n    <tr>\n      <th>age</th>\n      <td>59</td>\n      <td>62</td>\n      <td>70</td>\n    </tr>\n    <tr>\n      <th>region_code</th>\n      <td>True</td>\n      <td>True</td>\n      <td>True</td>\n    </tr>\n    <tr>\n      <th>country_id</th>\n      <td>True</td>\n      <td>True</td>\n      <td>True</td>\n    </tr>\n    <tr>\n      <th>payroll</th>\n      <td>False</td>\n      <td>False</td>\n      <td>False</td>\n    </tr>\n    <tr>\n      <th>short_term_deposit_altas</th>\n      <td>0</td>\n      <td>0</td>\n      <td>0</td>\n    </tr>\n    <tr>\n      <th>short_term_deposit_bajas</th>\n      <td>0</td>\n      <td>0</td>\n      <td>0</td>\n    </tr>\n    <tr>\n      <th>short_term_deposit_cobros</th>\n      <td>0</td>\n      <td>0</td>\n      <td>0</td>\n    </tr>\n    <tr>\n      <th>loans_altas</th>\n      <td>0</td>\n      <td>0</td>\n      <td>0</td>\n    </tr>\n    <tr>\n      <th>loans_bajas</th>\n      <td>0</td>\n      <td>0</td>\n      <td>0</td>\n    </tr>\n    <tr>\n      <th>loans_cobros</th>\n      <td>0</td>\n      <td>0</td>\n      <td>0</td>\n    </tr>\n    <tr>\n      <th>mortgage_altas</th>\n      <td>0</td>\n      <td>0</td>\n      <td>0</td>\n    </tr>\n    <tr>\n      <th>mortgage_bajas</th>\n      <td>0</td>\n      <td>0</td>\n      <td>0</td>\n    </tr>\n    <tr>\n      <th>mortgage_cobros</th>\n      <td>0</td>\n      <td>0</td>\n      <td>0</td>\n    </tr>\n    <tr>\n      <th>funds_altas</th>\n      <td>0</td>\n      <td>0</td>\n      <td>0</td>\n    </tr>\n    <tr>\n      <th>funds_bajas</th>\n      <td>0</td>\n      <td>0</td>\n      <td>0</td>\n    </tr>\n    <tr>\n      <th>funds_cobros</th>\n      <td>0</td>\n      <td>0</td>\n      <td>0</td>\n    </tr>\n    <tr>\n      <th>securities_altas</th>\n      <td>0</td>\n      <td>0</td>\n      <td>0</td>\n    </tr>\n    <tr>\n      <th>securities_bajas</th>\n      <td>0</td>\n      <td>0</td>\n      <td>0</td>\n    </tr>\n    <tr>\n      <th>securities_cobros</th>\n      <td>0</td>\n      <td>0</td>\n      <td>0</td>\n    </tr>\n    <tr>\n      <th>long_term_deposit_altas</th>\n      <td>0</td>\n      <td>0</td>\n      <td>0</td>\n    </tr>\n    <tr>\n      <th>long_term_deposit_bajas</th>\n      <td>0</td>\n      <td>0</td>\n      <td>0</td>\n    </tr>\n    <tr>\n      <th>long_term_deposit_cobros</th>\n      <td>0</td>\n      <td>0</td>\n      <td>0</td>\n    </tr>\n    <tr>\n      <th>em_account_pp_altas</th>\n      <td>0</td>\n      <td>0</td>\n      <td>0</td>\n    </tr>\n    <tr>\n      <th>em_account_pp_bajas</th>\n      <td>0</td>\n      <td>0</td>\n      <td>0</td>\n    </tr>\n    <tr>\n      <th>em_account_pp_cobros</th>\n      <td>0</td>\n      <td>0</td>\n      <td>0</td>\n    </tr>\n    <tr>\n      <th>credit_card_altas</th>\n      <td>0</td>\n      <td>0</td>\n      <td>0</td>\n    </tr>\n    <tr>\n      <th>credit_card_bajas</th>\n      <td>0</td>\n      <td>0</td>\n      <td>0</td>\n    </tr>\n    <tr>\n      <th>credit_card_cobros</th>\n      <td>0</td>\n      <td>0</td>\n      <td>0</td>\n    </tr>\n    <tr>\n      <th>pension_plan_altas</th>\n      <td>0</td>\n      <td>0</td>\n      <td>0</td>\n    </tr>\n    <tr>\n      <th>pension_plan_bajas</th>\n      <td>0</td>\n      <td>0</td>\n      <td>0</td>\n    </tr>\n    <tr>\n      <th>pension_plan_cobros</th>\n      <td>0</td>\n      <td>0</td>\n      <td>0</td>\n    </tr>\n    <tr>\n      <th>payroll_account_altas</th>\n      <td>0</td>\n      <td>0</td>\n      <td>0</td>\n    </tr>\n    <tr>\n      <th>payroll_account_bajas</th>\n      <td>0</td>\n      <td>0</td>\n      <td>0</td>\n    </tr>\n    <tr>\n      <th>payroll_account_cobros</th>\n      <td>0</td>\n      <td>0</td>\n      <td>0</td>\n    </tr>\n    <tr>\n      <th>emc_account_altas</th>\n      <td>0</td>\n      <td>0</td>\n      <td>0</td>\n    </tr>\n    <tr>\n      <th>emc_account_bajas</th>\n      <td>0</td>\n      <td>0</td>\n      <td>0</td>\n    </tr>\n    <tr>\n      <th>emc_account_cobros</th>\n      <td>0</td>\n      <td>0</td>\n      <td>0</td>\n    </tr>\n    <tr>\n      <th>debit_card_altas</th>\n      <td>0</td>\n      <td>0</td>\n      <td>0</td>\n    </tr>\n    <tr>\n      <th>debit_card_bajas</th>\n      <td>0</td>\n      <td>0</td>\n      <td>0</td>\n    </tr>\n    <tr>\n      <th>debit_card_cobros</th>\n      <td>0</td>\n      <td>0</td>\n      <td>0</td>\n    </tr>\n    <tr>\n      <th>em_account_p_altas</th>\n      <td>0</td>\n      <td>0</td>\n      <td>0</td>\n    </tr>\n    <tr>\n      <th>em_account_p_bajas</th>\n      <td>0</td>\n      <td>0</td>\n      <td>0</td>\n    </tr>\n    <tr>\n      <th>em_account_p_cobros</th>\n      <td>0</td>\n      <td>0</td>\n      <td>0</td>\n    </tr>\n    <tr>\n      <th>em_acount_altas</th>\n      <td>1</td>\n      <td>0</td>\n      <td>1</td>\n    </tr>\n    <tr>\n      <th>em_acount_bajas</th>\n      <td>1</td>\n      <td>0</td>\n      <td>0</td>\n    </tr>\n    <tr>\n      <th>em_acount_cobros</th>\n      <td>0</td>\n      <td>0</td>\n      <td>1</td>\n    </tr>\n  </tbody>\n</table>\n</div>",
      "text/plain": "pk_cid                     15891  16063  16203\nsalary                       NaN    NaN    NaN\ndeceased                       0      0      0\nactive_customer                0      0      1\nage                           59     62     70\nregion_code                 True   True   True\ncountry_id                  True   True   True\npayroll                    False  False  False\nshort_term_deposit_altas       0      0      0\nshort_term_deposit_bajas       0      0      0\nshort_term_deposit_cobros      0      0      0\nloans_altas                    0      0      0\nloans_bajas                    0      0      0\nloans_cobros                   0      0      0\nmortgage_altas                 0      0      0\nmortgage_bajas                 0      0      0\nmortgage_cobros                0      0      0\nfunds_altas                    0      0      0\nfunds_bajas                    0      0      0\nfunds_cobros                   0      0      0\nsecurities_altas               0      0      0\nsecurities_bajas               0      0      0\nsecurities_cobros              0      0      0\nlong_term_deposit_altas        0      0      0\nlong_term_deposit_bajas        0      0      0\nlong_term_deposit_cobros       0      0      0\nem_account_pp_altas            0      0      0\nem_account_pp_bajas            0      0      0\nem_account_pp_cobros           0      0      0\ncredit_card_altas              0      0      0\ncredit_card_bajas              0      0      0\ncredit_card_cobros             0      0      0\npension_plan_altas             0      0      0\npension_plan_bajas             0      0      0\npension_plan_cobros            0      0      0\npayroll_account_altas          0      0      0\npayroll_account_bajas          0      0      0\npayroll_account_cobros         0      0      0\nemc_account_altas              0      0      0\nemc_account_bajas              0      0      0\nemc_account_cobros             0      0      0\ndebit_card_altas               0      0      0\ndebit_card_bajas               0      0      0\ndebit_card_cobros              0      0      0\nem_account_p_altas             0      0      0\nem_account_p_bajas             0      0      0\nem_account_p_cobros            0      0      0\nem_acount_altas                1      0      1\nem_acount_bajas                1      0      0\nem_acount_cobros               0      0      1"
     },
     "execution_count": 433,
     "metadata": {},
     "output_type": "execute_result"
    }
   ],
   "source": [
    "df.head(3).T"
   ]
  },
  {
   "cell_type": "code",
   "execution_count": 436,
   "metadata": {},
   "outputs": [],
   "source": [
    "for key, value in products_dict.items():\n",
    "    # corregimos titulos largos y con tildes\n",
    "    if value == 'ahorro e inversión':\n",
    "        value = 'ahorros'\n",
    "    elif value == 'financiación':\n",
    "        value = 'financiacion'\n",
    "    elif value == 'cuenta':\n",
    "        value = 'cuenta'\n",
    "\n",
    "    if value in df.columns:\n",
    "        df[value+'_altas'] += df[key+'_altas'] \n",
    "        df[value+'_bajas'] += df[key+'_bajas'] \n",
    "        df[value+'_cobros'] += df[key+'_cobros'] \n",
    "\n",
    "    else:\n",
    "        df[value+'_altas'] = df[key+'_altas']\n",
    "        df[value+'_bajas'] = df[key+'_bajas'] \n",
    "        df[value+'_cobros'] = df[key+'_cobros'] \n",
    "\n",
    "    #df.drop(key+'_altas', axis=1, inplace=True)\n",
    "    #df.drop(key+'_bajas', axis=1, inplace=True)\n",
    "    #df.drop(key+'_cobros', axis=1, inplace=True)"
   ]
  },
  {
   "cell_type": "code",
   "execution_count": 437,
   "metadata": {},
   "outputs": [
    {
     "data": {
      "text/plain": "Index(['salary', 'deceased', 'active_customer', 'age', 'region_code',\n       'country_id', 'payroll', 'short_term_deposit_altas',\n       'short_term_deposit_bajas', 'short_term_deposit_cobros', 'loans_altas',\n       'loans_bajas', 'loans_cobros', 'mortgage_altas', 'mortgage_bajas',\n       'mortgage_cobros', 'funds_altas', 'funds_bajas', 'funds_cobros',\n       'securities_altas', 'securities_bajas', 'securities_cobros',\n       'long_term_deposit_altas', 'long_term_deposit_bajas',\n       'long_term_deposit_cobros', 'em_account_pp_altas',\n       'em_account_pp_bajas', 'em_account_pp_cobros', 'credit_card_altas',\n       'credit_card_bajas', 'credit_card_cobros', 'pension_plan_altas',\n       'pension_plan_bajas', 'pension_plan_cobros', 'payroll_account_altas',\n       'payroll_account_bajas', 'payroll_account_cobros', 'emc_account_altas',\n       'emc_account_bajas', 'emc_account_cobros', 'debit_card_altas',\n       'debit_card_bajas', 'debit_card_cobros', 'em_account_p_altas',\n       'em_account_p_bajas', 'em_account_p_cobros', 'em_acount_altas',\n       'em_acount_bajas', 'em_acount_cobros', 'ahorros_altas', 'ahorros_bajas',\n       'ahorros_cobros', 'financiacion_altas', 'financiacion_bajas',\n       'financiacion_cobros', 'cuenta_altas', 'cuenta_bajas', 'cuenta_cobros'],\n      dtype='object')"
     },
     "execution_count": 437,
     "metadata": {},
     "output_type": "execute_result"
    }
   ],
   "source": [
    "df.columns"
   ]
  },
  {
   "cell_type": "markdown",
   "metadata": {},
   "source": [
    "# Customer Lifetime Value"
   ]
  },
  {
   "cell_type": "code",
   "execution_count": 441,
   "metadata": {},
   "outputs": [],
   "source": [
    "for key, value in cost_product.items():\n",
    "    if key == 'ahorro e inversión':\n",
    "        key = 'ahorros'\n",
    "    elif key == 'financiación':\n",
    "        key = 'financiacion'\n",
    "    elif key == 'cuenta':\n",
    "        key = 'cuenta'\n",
    "\n",
    "    if 'gastado' not in df.columns:\n",
    "        df['gastado'] = df[key+'_cobros']*value\n",
    "    else:\n",
    "        df['gastado'] += df[key+'_cobros']*value\n",
    "\n",
    "    #df['bajas'] += df[key+'_bajas']\n",
    "    #df.drop(key+'_bajas', axis=1, inplace=True)\n",
    "    #df.drop(key+'_cobros', axis=1, inplace=True)"
   ]
  },
  {
   "cell_type": "code",
   "execution_count": 442,
   "metadata": {},
   "outputs": [
    {
     "data": {
      "text/html": "<div>\n<style scoped>\n    .dataframe tbody tr th:only-of-type {\n        vertical-align: middle;\n    }\n\n    .dataframe tbody tr th {\n        vertical-align: top;\n    }\n\n    .dataframe thead th {\n        text-align: right;\n    }\n</style>\n<table border=\"1\" class=\"dataframe\">\n  <thead>\n    <tr style=\"text-align: right;\">\n      <th>pk_cid</th>\n      <th>15891</th>\n      <th>16063</th>\n      <th>16203</th>\n    </tr>\n  </thead>\n  <tbody>\n    <tr>\n      <th>salary</th>\n      <td>NaN</td>\n      <td>NaN</td>\n      <td>NaN</td>\n    </tr>\n    <tr>\n      <th>deceased</th>\n      <td>0</td>\n      <td>0</td>\n      <td>0</td>\n    </tr>\n    <tr>\n      <th>active_customer</th>\n      <td>0</td>\n      <td>0</td>\n      <td>1</td>\n    </tr>\n    <tr>\n      <th>age</th>\n      <td>59</td>\n      <td>62</td>\n      <td>70</td>\n    </tr>\n    <tr>\n      <th>region_code</th>\n      <td>True</td>\n      <td>True</td>\n      <td>True</td>\n    </tr>\n    <tr>\n      <th>country_id</th>\n      <td>True</td>\n      <td>True</td>\n      <td>True</td>\n    </tr>\n    <tr>\n      <th>payroll</th>\n      <td>False</td>\n      <td>False</td>\n      <td>False</td>\n    </tr>\n    <tr>\n      <th>short_term_deposit_altas</th>\n      <td>0</td>\n      <td>0</td>\n      <td>0</td>\n    </tr>\n    <tr>\n      <th>short_term_deposit_bajas</th>\n      <td>0</td>\n      <td>0</td>\n      <td>0</td>\n    </tr>\n    <tr>\n      <th>short_term_deposit_cobros</th>\n      <td>0</td>\n      <td>0</td>\n      <td>0</td>\n    </tr>\n    <tr>\n      <th>loans_altas</th>\n      <td>0</td>\n      <td>0</td>\n      <td>0</td>\n    </tr>\n    <tr>\n      <th>loans_bajas</th>\n      <td>0</td>\n      <td>0</td>\n      <td>0</td>\n    </tr>\n    <tr>\n      <th>loans_cobros</th>\n      <td>0</td>\n      <td>0</td>\n      <td>0</td>\n    </tr>\n    <tr>\n      <th>mortgage_altas</th>\n      <td>0</td>\n      <td>0</td>\n      <td>0</td>\n    </tr>\n    <tr>\n      <th>mortgage_bajas</th>\n      <td>0</td>\n      <td>0</td>\n      <td>0</td>\n    </tr>\n    <tr>\n      <th>mortgage_cobros</th>\n      <td>0</td>\n      <td>0</td>\n      <td>0</td>\n    </tr>\n    <tr>\n      <th>funds_altas</th>\n      <td>0</td>\n      <td>0</td>\n      <td>0</td>\n    </tr>\n    <tr>\n      <th>funds_bajas</th>\n      <td>0</td>\n      <td>0</td>\n      <td>0</td>\n    </tr>\n    <tr>\n      <th>funds_cobros</th>\n      <td>0</td>\n      <td>0</td>\n      <td>0</td>\n    </tr>\n    <tr>\n      <th>securities_altas</th>\n      <td>0</td>\n      <td>0</td>\n      <td>0</td>\n    </tr>\n    <tr>\n      <th>securities_bajas</th>\n      <td>0</td>\n      <td>0</td>\n      <td>0</td>\n    </tr>\n    <tr>\n      <th>securities_cobros</th>\n      <td>0</td>\n      <td>0</td>\n      <td>0</td>\n    </tr>\n    <tr>\n      <th>long_term_deposit_altas</th>\n      <td>0</td>\n      <td>0</td>\n      <td>0</td>\n    </tr>\n    <tr>\n      <th>long_term_deposit_bajas</th>\n      <td>0</td>\n      <td>0</td>\n      <td>0</td>\n    </tr>\n    <tr>\n      <th>long_term_deposit_cobros</th>\n      <td>0</td>\n      <td>0</td>\n      <td>0</td>\n    </tr>\n    <tr>\n      <th>em_account_pp_altas</th>\n      <td>0</td>\n      <td>0</td>\n      <td>0</td>\n    </tr>\n    <tr>\n      <th>em_account_pp_bajas</th>\n      <td>0</td>\n      <td>0</td>\n      <td>0</td>\n    </tr>\n    <tr>\n      <th>em_account_pp_cobros</th>\n      <td>0</td>\n      <td>0</td>\n      <td>0</td>\n    </tr>\n    <tr>\n      <th>credit_card_altas</th>\n      <td>0</td>\n      <td>0</td>\n      <td>0</td>\n    </tr>\n    <tr>\n      <th>credit_card_bajas</th>\n      <td>0</td>\n      <td>0</td>\n      <td>0</td>\n    </tr>\n    <tr>\n      <th>credit_card_cobros</th>\n      <td>0</td>\n      <td>0</td>\n      <td>0</td>\n    </tr>\n    <tr>\n      <th>pension_plan_altas</th>\n      <td>0</td>\n      <td>0</td>\n      <td>0</td>\n    </tr>\n    <tr>\n      <th>pension_plan_bajas</th>\n      <td>0</td>\n      <td>0</td>\n      <td>0</td>\n    </tr>\n    <tr>\n      <th>pension_plan_cobros</th>\n      <td>0</td>\n      <td>0</td>\n      <td>0</td>\n    </tr>\n    <tr>\n      <th>payroll_account_altas</th>\n      <td>0</td>\n      <td>0</td>\n      <td>0</td>\n    </tr>\n    <tr>\n      <th>payroll_account_bajas</th>\n      <td>0</td>\n      <td>0</td>\n      <td>0</td>\n    </tr>\n    <tr>\n      <th>payroll_account_cobros</th>\n      <td>0</td>\n      <td>0</td>\n      <td>0</td>\n    </tr>\n    <tr>\n      <th>emc_account_altas</th>\n      <td>0</td>\n      <td>0</td>\n      <td>0</td>\n    </tr>\n    <tr>\n      <th>emc_account_bajas</th>\n      <td>0</td>\n      <td>0</td>\n      <td>0</td>\n    </tr>\n    <tr>\n      <th>emc_account_cobros</th>\n      <td>0</td>\n      <td>0</td>\n      <td>0</td>\n    </tr>\n    <tr>\n      <th>debit_card_altas</th>\n      <td>0</td>\n      <td>0</td>\n      <td>0</td>\n    </tr>\n    <tr>\n      <th>debit_card_bajas</th>\n      <td>0</td>\n      <td>0</td>\n      <td>0</td>\n    </tr>\n    <tr>\n      <th>debit_card_cobros</th>\n      <td>0</td>\n      <td>0</td>\n      <td>0</td>\n    </tr>\n    <tr>\n      <th>em_account_p_altas</th>\n      <td>0</td>\n      <td>0</td>\n      <td>0</td>\n    </tr>\n    <tr>\n      <th>em_account_p_bajas</th>\n      <td>0</td>\n      <td>0</td>\n      <td>0</td>\n    </tr>\n    <tr>\n      <th>em_account_p_cobros</th>\n      <td>0</td>\n      <td>0</td>\n      <td>0</td>\n    </tr>\n    <tr>\n      <th>em_acount_altas</th>\n      <td>1</td>\n      <td>0</td>\n      <td>1</td>\n    </tr>\n    <tr>\n      <th>em_acount_bajas</th>\n      <td>1</td>\n      <td>0</td>\n      <td>0</td>\n    </tr>\n    <tr>\n      <th>em_acount_cobros</th>\n      <td>0</td>\n      <td>0</td>\n      <td>1</td>\n    </tr>\n    <tr>\n      <th>ahorros_altas</th>\n      <td>0</td>\n      <td>0</td>\n      <td>0</td>\n    </tr>\n    <tr>\n      <th>ahorros_bajas</th>\n      <td>0</td>\n      <td>0</td>\n      <td>0</td>\n    </tr>\n    <tr>\n      <th>ahorros_cobros</th>\n      <td>0</td>\n      <td>0</td>\n      <td>0</td>\n    </tr>\n    <tr>\n      <th>financiacion_altas</th>\n      <td>0</td>\n      <td>0</td>\n      <td>0</td>\n    </tr>\n    <tr>\n      <th>financiacion_bajas</th>\n      <td>0</td>\n      <td>0</td>\n      <td>0</td>\n    </tr>\n    <tr>\n      <th>financiacion_cobros</th>\n      <td>0</td>\n      <td>0</td>\n      <td>0</td>\n    </tr>\n    <tr>\n      <th>cuenta_altas</th>\n      <td>1</td>\n      <td>0</td>\n      <td>1</td>\n    </tr>\n    <tr>\n      <th>cuenta_bajas</th>\n      <td>1</td>\n      <td>0</td>\n      <td>0</td>\n    </tr>\n    <tr>\n      <th>cuenta_cobros</th>\n      <td>0</td>\n      <td>0</td>\n      <td>1</td>\n    </tr>\n    <tr>\n      <th>gastado</th>\n      <td>0</td>\n      <td>0</td>\n      <td>40</td>\n    </tr>\n  </tbody>\n</table>\n</div>",
      "text/plain": "pk_cid                     15891  16063  16203\nsalary                       NaN    NaN    NaN\ndeceased                       0      0      0\nactive_customer                0      0      1\nage                           59     62     70\nregion_code                 True   True   True\ncountry_id                  True   True   True\npayroll                    False  False  False\nshort_term_deposit_altas       0      0      0\nshort_term_deposit_bajas       0      0      0\nshort_term_deposit_cobros      0      0      0\nloans_altas                    0      0      0\nloans_bajas                    0      0      0\nloans_cobros                   0      0      0\nmortgage_altas                 0      0      0\nmortgage_bajas                 0      0      0\nmortgage_cobros                0      0      0\nfunds_altas                    0      0      0\nfunds_bajas                    0      0      0\nfunds_cobros                   0      0      0\nsecurities_altas               0      0      0\nsecurities_bajas               0      0      0\nsecurities_cobros              0      0      0\nlong_term_deposit_altas        0      0      0\nlong_term_deposit_bajas        0      0      0\nlong_term_deposit_cobros       0      0      0\nem_account_pp_altas            0      0      0\nem_account_pp_bajas            0      0      0\nem_account_pp_cobros           0      0      0\ncredit_card_altas              0      0      0\ncredit_card_bajas              0      0      0\ncredit_card_cobros             0      0      0\npension_plan_altas             0      0      0\npension_plan_bajas             0      0      0\npension_plan_cobros            0      0      0\npayroll_account_altas          0      0      0\npayroll_account_bajas          0      0      0\npayroll_account_cobros         0      0      0\nemc_account_altas              0      0      0\nemc_account_bajas              0      0      0\nemc_account_cobros             0      0      0\ndebit_card_altas               0      0      0\ndebit_card_bajas               0      0      0\ndebit_card_cobros              0      0      0\nem_account_p_altas             0      0      0\nem_account_p_bajas             0      0      0\nem_account_p_cobros            0      0      0\nem_acount_altas                1      0      1\nem_acount_bajas                1      0      0\nem_acount_cobros               0      0      1\nahorros_altas                  0      0      0\nahorros_bajas                  0      0      0\nahorros_cobros                 0      0      0\nfinanciacion_altas             0      0      0\nfinanciacion_bajas             0      0      0\nfinanciacion_cobros            0      0      0\ncuenta_altas                   1      0      1\ncuenta_bajas                   1      0      0\ncuenta_cobros                  0      0      1\ngastado                        0      0     40"
     },
     "execution_count": 442,
     "metadata": {},
     "output_type": "execute_result"
    }
   ],
   "source": [
    "df.head(3).T"
   ]
  },
  {
   "cell_type": "code",
   "execution_count": 443,
   "metadata": {},
   "outputs": [
    {
     "data": {
      "text/plain": "59"
     },
     "execution_count": 443,
     "metadata": {},
     "output_type": "execute_result"
    }
   ],
   "source": [
    "len(df.columns)"
   ]
  },
  {
   "cell_type": "code",
   "execution_count": 444,
   "metadata": {},
   "outputs": [],
   "source": [
    "products_dict = {\"short_term_deposit\":\"ahorro e inversión\", \"loans\":\"financiación\", \"mortgage\":\"financiación\", \n",
    "    \"funds\":\"ahorro e inversión\", \"securities\":\"ahorro e inversión\", \"long_term_deposit\":\"ahorro e inversión\", \n",
    "    \"em_account_pp\":\"cuenta\", \"credit_card\":\"financiación\", \"payroll_account\":\"cuenta\", \"pension_plan\":\"ahorro e inversión\", \n",
    "    \"emc_account\":\"cuenta\", \"debit_card\":\"financiación\", \"em_account_p\":\"cuenta\", \"em_acount\":\"cuenta\"}\n",
    "\n",
    "ahorros = [\"pk_partition\",\"short_term_deposit\",\"funds\",\"securities\",\"long_term_deposit\",\"pension_plan\"]\n",
    "cuentas = [\"pk_partition\",\"em_acount\",\"em_account_pp\",\"emc_account\",\"em_account_p\",\"em_account_pp\",\"payroll_account\"]\n",
    "financiacion = [\"pk_partition\",\"short_term_deposit\",\"funds\",\"securities\",\"long_term_deposit\",\"pension_plan\"]"
   ]
  },
  {
   "cell_type": "code",
   "execution_count": 445,
   "metadata": {},
   "outputs": [
    {
     "data": {
      "text/html": "<div>\n<style scoped>\n    .dataframe tbody tr th:only-of-type {\n        vertical-align: middle;\n    }\n\n    .dataframe tbody tr th {\n        vertical-align: top;\n    }\n\n    .dataframe thead th {\n        text-align: right;\n    }\n</style>\n<table border=\"1\" class=\"dataframe\">\n  <thead>\n    <tr style=\"text-align: right;\">\n      <th></th>\n      <th>pk_partition</th>\n      <th>em_acount</th>\n      <th>em_account_pp</th>\n      <th>emc_account</th>\n      <th>em_account_p</th>\n      <th>em_account_pp</th>\n      <th>payroll_account</th>\n    </tr>\n  </thead>\n  <tbody>\n    <tr>\n      <th>3628238</th>\n      <td>2018-12-28</td>\n      <td>False</td>\n      <td>False</td>\n      <td>False</td>\n      <td>False</td>\n      <td>False</td>\n      <td>False</td>\n    </tr>\n    <tr>\n      <th>4028170</th>\n      <td>2019-01-28</td>\n      <td>True</td>\n      <td>False</td>\n      <td>False</td>\n      <td>False</td>\n      <td>False</td>\n      <td>False</td>\n    </tr>\n    <tr>\n      <th>4480636</th>\n      <td>2019-02-28</td>\n      <td>True</td>\n      <td>False</td>\n      <td>False</td>\n      <td>False</td>\n      <td>False</td>\n      <td>False</td>\n    </tr>\n    <tr>\n      <th>4876039</th>\n      <td>2019-03-28</td>\n      <td>True</td>\n      <td>False</td>\n      <td>False</td>\n      <td>False</td>\n      <td>False</td>\n      <td>False</td>\n    </tr>\n    <tr>\n      <th>5134321</th>\n      <td>2019-04-28</td>\n      <td>True</td>\n      <td>False</td>\n      <td>False</td>\n      <td>False</td>\n      <td>False</td>\n      <td>False</td>\n    </tr>\n    <tr>\n      <th>5523396</th>\n      <td>2019-05-28</td>\n      <td>True</td>\n      <td>False</td>\n      <td>False</td>\n      <td>False</td>\n      <td>False</td>\n      <td>False</td>\n    </tr>\n  </tbody>\n</table>\n</div>",
      "text/plain": "        pk_partition  em_acount  em_account_pp  emc_account  em_account_p  \\\n3628238   2018-12-28      False          False        False         False   \n4028170   2019-01-28       True          False        False         False   \n4480636   2019-02-28       True          False        False         False   \n4876039   2019-03-28       True          False        False         False   \n5134321   2019-04-28       True          False        False         False   \n5523396   2019-05-28       True          False        False         False   \n\n         em_account_pp  payroll_account  \n3628238          False            False  \n4028170          False            False  \n4480636          False            False  \n4876039          False            False  \n5134321          False            False  \n5523396          False            False  "
     },
     "execution_count": 445,
     "metadata": {},
     "output_type": "execute_result"
    }
   ],
   "source": [
    "df_whole[ df_whole['pk_cid'] == 16203 ][cuentas]\n",
    "# cuentas: altas = 1, cobradas = 1, bajas = 0"
   ]
  },
  {
   "cell_type": "code",
   "execution_count": 446,
   "metadata": {},
   "outputs": [
    {
     "data": {
      "text/html": "<div>\n<style scoped>\n    .dataframe tbody tr th:only-of-type {\n        vertical-align: middle;\n    }\n\n    .dataframe tbody tr th {\n        vertical-align: top;\n    }\n\n    .dataframe thead th {\n        text-align: right;\n    }\n</style>\n<table border=\"1\" class=\"dataframe\">\n  <thead>\n    <tr style=\"text-align: right;\">\n      <th></th>\n      <th>pk_partition</th>\n      <th>em_acount</th>\n      <th>em_account_pp</th>\n      <th>emc_account</th>\n      <th>em_account_p</th>\n      <th>em_account_pp</th>\n      <th>payroll_account</th>\n    </tr>\n  </thead>\n  <tbody>\n    <tr>\n      <th>1479563</th>\n      <td>2018-07-28</td>\n      <td>True</td>\n      <td>False</td>\n      <td>False</td>\n      <td>False</td>\n      <td>False</td>\n      <td>False</td>\n    </tr>\n    <tr>\n      <th>2168122</th>\n      <td>2018-08-28</td>\n      <td>False</td>\n      <td>False</td>\n      <td>False</td>\n      <td>False</td>\n      <td>False</td>\n      <td>False</td>\n    </tr>\n  </tbody>\n</table>\n</div>",
      "text/plain": "        pk_partition  em_acount  em_account_pp  emc_account  em_account_p  \\\n1479563   2018-07-28       True          False        False         False   \n2168122   2018-08-28      False          False        False         False   \n\n         em_account_pp  payroll_account  \n1479563          False            False  \n2168122          False            False  "
     },
     "execution_count": 446,
     "metadata": {},
     "output_type": "execute_result"
    }
   ],
   "source": [
    "df_whole[ df_whole['pk_cid'] == 15891 ][cuentas]\n",
    "# cuentas: altas = 1, cobradas = 0, bajas = 1"
   ]
  },
  {
   "cell_type": "code",
   "execution_count": null,
   "metadata": {},
   "outputs": [],
   "source": []
  },
  {
   "cell_type": "code",
   "execution_count": null,
   "metadata": {},
   "outputs": [],
   "source": []
  },
  {
   "cell_type": "code",
   "execution_count": 447,
   "metadata": {},
   "outputs": [],
   "source": [
    "def determinar_altas_cobradas(data):\n",
    "    data = pd.DataFrame(data)\n",
    "    data.reset_index(inplace=True)\n",
    "\n",
    "    data.columns=['pk_partition','product']\n",
    "    \n",
    "    data['prev_month1'] = data['product'].shift(1)\n",
    "    data['prev_month2'] = data['product'].shift(2)\n",
    "    data['prev_month3'] = data['product'].shift(3)\n",
    "\n",
    "    data.fillna(-2, inplace=True)\n",
    "\n",
    "    # nuevas contrataciones (ya cobrados - llevan 3 meses y no se han dado de baja)\n",
    "    #cond3 = (data['product']==1) & (data['prev_month1']==1) & (data['prev_month2']==1) &\\\n",
    "    #    ((data['prev_month3']==0) | ((data['prev_month3'] == -2) & (data['pk_partition']!='2018-03-28')))\n",
    "    \n",
    "    cond1 = (data['product']==1) & (data['prev_month1']==1) & (data['prev_month2']==1) & (data['prev_month3']==0)\n",
    "    cond2 = (data['product']==1) & (data['prev_month1']==1) & (data['prev_month2']==1) & (data['prev_month3']==-2) & (data['pk_partition']!='2018-03-28')\n",
    "\n",
    "    cond3 = cond1 | cond2\n",
    "    print(data)\n",
    "    contrataciones_cobradas = data[ cond3 ] \n",
    "\n",
    "    return len(contrataciones_cobradas)"
   ]
  },
  {
   "cell_type": "code",
   "execution_count": 448,
   "metadata": {},
   "outputs": [],
   "source": [
    "def determinar_altas_cobradas_all(data):\n",
    "    data = pd.DataFrame(data)\n",
    "    data.reset_index(inplace=True)\n",
    "\n",
    "    data.columns=['pk_partition','product']\n",
    "    \n",
    "    data['prev_month1'] = data['product'].groupby('pk_cid').shift(1)\n",
    "    data['prev_month2'] = data['product'].groupby('pk_cid').shift(2)\n",
    "    data['prev_month3'] = data['product'].groupby('pk_cid').shift(3)\n",
    "\n",
    "    data.fillna(-2, inplace=True)\n",
    "\n",
    "    # nuevas contrataciones (ya cobrados - llevan 3 meses y no se han dado de baja)\n",
    "    #cond3 = (data['product']==1) & (data['prev_month1']==1) & (data['prev_month2']==1) &\\\n",
    "    #    ((data['prev_month3']==0) | ((data['prev_month3'] == -2) & (data['pk_partition']!='2018-03-28')))\n",
    "    \n",
    "    cond1 = (data['product']==1) & (data['prev_month1']==1) & (data['prev_month2']==1) & (data['prev_month3']==0)\n",
    "    cond2 = (data['product']==1) & (data['prev_month1']==1) & (data['prev_month2']==1) & (data['prev_month3']==-2) & (data['pk_partition']!='2018-03-28')\n",
    "\n",
    "    cond3 = cond1 | cond2\n",
    "\n",
    "    data['comprado'] = cond3\n",
    "    print(data)\n",
    "    contrataciones_cobradas = data[ cond3 ] \n",
    "\n",
    "    #return len(contrataciones_cobradas)"
   ]
  },
  {
   "cell_type": "code",
   "execution_count": 449,
   "metadata": {},
   "outputs": [
    {
     "name": "stdout",
     "output_type": "stream",
     "text": [
      "   pk_partition  product  prev_month1  prev_month2  prev_month3\n",
      "0    2018-01-28        0         -2.0         -2.0         -2.0\n",
      "1    2018-02-28        0          0.0         -2.0         -2.0\n",
      "2    2018-03-28        1          0.0          0.0         -2.0\n",
      "3    2018-04-28        1          1.0          0.0          0.0\n",
      "4    2018-05-28        1          1.0          1.0          0.0\n",
      "5    2018-06-28        1          1.0          1.0          1.0\n",
      "6    2018-07-28        0          1.0          1.0          1.0\n",
      "7    2018-08-28        0          0.0          1.0          1.0\n",
      "8    2018-09-28        1          0.0          0.0          1.0\n",
      "9    2018-10-28        1          1.0          0.0          0.0\n",
      "10   2018-11-28        0          1.0          1.0          0.0\n",
      "11   2018-12-28        0          0.0          1.0          1.0\n",
      "12   2019-01-28        0          0.0          0.0          1.0\n",
      "13   2019-02-28        0          0.0          0.0          0.0\n",
      "14   2019-03-28        0          0.0          0.0          0.0\n",
      "15   2019-04-28        1          0.0          0.0          0.0\n",
      "16   2019-05-28        1          1.0          0.0          0.0\n"
     ]
    },
    {
     "data": {
      "text/plain": "1"
     },
     "execution_count": 449,
     "metadata": {},
     "output_type": "execute_result"
    }
   ],
   "source": [
    "test_data = pd.DataFrame( [0,0,1,1,1,1,0,0,1,1,0,0,0,0,0,1,1], index=partitions )\n",
    "test_data.reset_index(inplace=True)\n",
    "test_data.columns = ['pk_partition','product']\n",
    "test_data['pk_partition'] = pd.to_datetime( test_data['pk_partition'] )\n",
    "test_data.set_index('pk_partition',inplace=True)\n",
    "\n",
    "determinar_altas_cobradas(test_data)\n",
    "# expected result: 1"
   ]
  },
  {
   "cell_type": "code",
   "execution_count": 450,
   "metadata": {},
   "outputs": [
    {
     "name": "stdout",
     "output_type": "stream",
     "text": [
      "   pk_partition  product  prev_month1  prev_month2  prev_month3\n",
      "0    2018-01-28        1         -2.0         -2.0         -2.0\n",
      "1    2018-02-28        1          1.0         -2.0         -2.0\n",
      "2    2018-03-28        1          1.0          1.0         -2.0\n",
      "3    2018-04-28        1          1.0          1.0          1.0\n",
      "4    2018-05-28        0          1.0          1.0          1.0\n",
      "5    2018-06-28        1          0.0          1.0          1.0\n",
      "6    2018-07-28        0          1.0          0.0          1.0\n",
      "7    2018-08-28        0          0.0          1.0          0.0\n",
      "8    2018-09-28        1          0.0          0.0          1.0\n",
      "9    2018-10-28        1          1.0          0.0          0.0\n",
      "10   2018-11-28        1          1.0          1.0          0.0\n",
      "11   2018-12-28        1          1.0          1.0          1.0\n",
      "12   2019-01-28        0          1.0          1.0          1.0\n",
      "13   2019-02-28        0          0.0          1.0          1.0\n",
      "14   2019-03-28        1          0.0          0.0          1.0\n",
      "15   2019-04-28        1          1.0          0.0          0.0\n",
      "16   2019-05-28        1          1.0          1.0          0.0\n"
     ]
    },
    {
     "data": {
      "text/plain": "2"
     },
     "execution_count": 450,
     "metadata": {},
     "output_type": "execute_result"
    }
   ],
   "source": [
    "test_data = pd.DataFrame( [1,1,1,1,0,1,0,0,1,1,1,1,0,0,1,1,1], index=partitions )\n",
    "test_data.reset_index(inplace=True)\n",
    "test_data.columns = ['pk_partition','product']\n",
    "test_data['pk_partition'] = pd.to_datetime( test_data['pk_partition'] )\n",
    "test_data.set_index('pk_partition',inplace=True)\n",
    "\n",
    "determinar_altas_cobradas(test_data)\n",
    "# expected result: 2"
   ]
  },
  {
   "cell_type": "code",
   "execution_count": 451,
   "metadata": {},
   "outputs": [
    {
     "name": "stdout",
     "output_type": "stream",
     "text": [
      "   pk_partition  product  prev_month1  prev_month2  prev_month3\n",
      "0    2018-05-28        1         -2.0         -2.0         -2.0\n",
      "1    2018-06-28        1          1.0         -2.0         -2.0\n",
      "2    2018-07-28        1          1.0          1.0         -2.0\n",
      "3    2018-08-28        1          1.0          1.0          1.0\n",
      "4    2018-09-28        0          1.0          1.0          1.0\n",
      "5    2018-10-28        1          0.0          1.0          1.0\n",
      "6    2018-11-28        0          1.0          0.0          1.0\n",
      "7    2018-12-28        0          0.0          1.0          0.0\n",
      "8    2019-01-28        1          0.0          0.0          1.0\n",
      "9    2019-02-28        1          1.0          0.0          0.0\n",
      "10   2019-03-28        1          1.0          1.0          0.0\n",
      "11   2019-04-28        1          1.0          1.0          1.0\n",
      "12   2019-05-28        0          1.0          1.0          1.0\n"
     ]
    },
    {
     "data": {
      "text/plain": "2"
     },
     "execution_count": 451,
     "metadata": {},
     "output_type": "execute_result"
    }
   ],
   "source": [
    "test_data = pd.DataFrame( [1,1,1,1,0,1,0,0,1,1,1,1,0], index=partitions[4:] )\n",
    "test_data.reset_index(inplace=True)\n",
    "test_data.columns = ['pk_partition','product']\n",
    "test_data['pk_partition'] = pd.to_datetime( test_data['pk_partition'] )\n",
    "test_data.set_index('pk_partition',inplace=True)\n",
    "\n",
    "determinar_altas_cobradas(test_data)\n",
    "# expected result: 2"
   ]
  },
  {
   "cell_type": "markdown",
   "metadata": {},
   "source": [
    "# Permanencia (1)\n",
    "\n",
    "Tenemos muchos productos. Como mido la permanencia sin tener 20 columnas. \n",
    "\n",
    "Permanencia = sí y solo sí en ese producto se ha comprado se tiene en cuenta\n",
    "\n",
    "perm = sumatorio de num.meses / veces que lo contrato"
   ]
  },
  {
   "cell_type": "code",
   "execution_count": 452,
   "metadata": {},
   "outputs": [],
   "source": [
    "def determinar_permanencia(data):\n",
    "    data = pd.DataFrame(data)\n",
    "    data.reset_index(inplace=True)\n",
    "\n",
    "    data.columns=['pk_partition','product']\n",
    "\n",
    "    data['diff'] = data['product'].diff()\n",
    "\n",
    "    data['prev'] = np.where( (data['diff'].isna()) & (data['product'] == 1), 1, 0 )\n",
    "    data = data[ data['diff'] != 0 ]\n",
    "\n",
    "    data['date_diff'] = round(data['pk_partition'].diff()/np.timedelta64(1, 'M'))\n",
    "\n",
    "    return data[data['diff'] == -1]"
   ]
  },
  {
   "cell_type": "code",
   "execution_count": 453,
   "metadata": {},
   "outputs": [],
   "source": [
    "def determinar_permanencia_all(data):\n",
    "    data.columns=['pk_partition','pk_cid','product']\n",
    "    data['pk_partition'] = pd.to_datetime(data['pk_partition'])\n",
    "\n",
    "    data['prev'] = data.groupby('pk_cid')['product'].shift(1)\n",
    "    data['diff'] = data['product'] - data['prev']\n",
    "    #data['diff'] = data['product'].diff()\n",
    "\n",
    "    data['prev'] = np.where( (data['diff'].isna()) & (data['product'] == 1), 1, 0 )\n",
    "    data = data[ data['diff'] != 0 ]\n",
    "    \n",
    "    data = data.sort_values(['pk_cid','pk_partition'])\n",
    "    \n",
    "    data['date_diff'] = round(data['pk_partition'].diff()/np.timedelta64(1, 'M'))\n",
    "\n",
    "    data = data[data['diff'] == -1]\n",
    "    \n",
    "    #print(data)\n",
    "    summary = data.groupby('pk_cid')['date_diff'].agg(['sum','count'])\n",
    "    summary['result'] = summary['sum']/summary['count']\n",
    "    summary.reset_index(inplace=True)\n",
    "    #print(summary)\n",
    "\n",
    "    return summary[['pk_cid','result']]"
   ]
  },
  {
   "cell_type": "code",
   "execution_count": 454,
   "metadata": {},
   "outputs": [
    {
     "name": "stdout",
     "output_type": "stream",
     "text": [
      "short_term_deposit\n",
      "loans\n",
      "mortgage\n",
      "funds\n",
      "securities\n",
      "long_term_deposit\n",
      "em_account_pp\n",
      "credit_card\n",
      "pension_plan\n",
      "payroll_account\n",
      "emc_account\n",
      "debit_card\n",
      "em_account_p\n",
      "em_acount\n"
     ]
    }
   ],
   "source": [
    "list_perms = []\n",
    "for prod in list_products:\n",
    "    perms = determinar_permanencia_all( df_whole[['pk_partition','pk_cid',prod]] )\n",
    "    #print(perms)\n",
    "    perms.columns = ['pk_cid',prod+'_perm']\n",
    "    df = pd.merge(df, perms, how='left', on='pk_cid')\n",
    "    list_perms.append(prod+'_perm')\n",
    "    print(prod)"
   ]
  },
  {
   "cell_type": "code",
   "execution_count": 455,
   "metadata": {},
   "outputs": [
    {
     "data": {
      "text/html": "<div>\n<style scoped>\n    .dataframe tbody tr th:only-of-type {\n        vertical-align: middle;\n    }\n\n    .dataframe tbody tr th {\n        vertical-align: top;\n    }\n\n    .dataframe thead th {\n        text-align: right;\n    }\n</style>\n<table border=\"1\" class=\"dataframe\">\n  <thead>\n    <tr style=\"text-align: right;\">\n      <th></th>\n      <th>0</th>\n      <th>1</th>\n      <th>2</th>\n    </tr>\n  </thead>\n  <tbody>\n    <tr>\n      <th>pk_cid</th>\n      <td>15891</td>\n      <td>16063</td>\n      <td>16203</td>\n    </tr>\n    <tr>\n      <th>salary</th>\n      <td>NaN</td>\n      <td>NaN</td>\n      <td>NaN</td>\n    </tr>\n    <tr>\n      <th>deceased</th>\n      <td>0</td>\n      <td>0</td>\n      <td>0</td>\n    </tr>\n    <tr>\n      <th>active_customer</th>\n      <td>0</td>\n      <td>0</td>\n      <td>1</td>\n    </tr>\n    <tr>\n      <th>age</th>\n      <td>59</td>\n      <td>62</td>\n      <td>70</td>\n    </tr>\n    <tr>\n      <th>...</th>\n      <td>...</td>\n      <td>...</td>\n      <td>...</td>\n    </tr>\n    <tr>\n      <th>payroll_account_perm</th>\n      <td>NaN</td>\n      <td>NaN</td>\n      <td>NaN</td>\n    </tr>\n    <tr>\n      <th>emc_account_perm</th>\n      <td>NaN</td>\n      <td>NaN</td>\n      <td>NaN</td>\n    </tr>\n    <tr>\n      <th>debit_card_perm</th>\n      <td>NaN</td>\n      <td>NaN</td>\n      <td>NaN</td>\n    </tr>\n    <tr>\n      <th>em_account_p_perm</th>\n      <td>NaN</td>\n      <td>NaN</td>\n      <td>NaN</td>\n    </tr>\n    <tr>\n      <th>em_acount_perm</th>\n      <td>1</td>\n      <td>NaN</td>\n      <td>NaN</td>\n    </tr>\n  </tbody>\n</table>\n<p>74 rows × 3 columns</p>\n</div>",
      "text/plain": "                          0      1      2\npk_cid                15891  16063  16203\nsalary                  NaN    NaN    NaN\ndeceased                  0      0      0\nactive_customer           0      0      1\nage                      59     62     70\n...                     ...    ...    ...\npayroll_account_perm    NaN    NaN    NaN\nemc_account_perm        NaN    NaN    NaN\ndebit_card_perm         NaN    NaN    NaN\nem_account_p_perm       NaN    NaN    NaN\nem_acount_perm            1    NaN    NaN\n\n[74 rows x 3 columns]"
     },
     "execution_count": 455,
     "metadata": {},
     "output_type": "execute_result"
    }
   ],
   "source": [
    "df.head(3).T"
   ]
  },
  {
   "cell_type": "code",
   "execution_count": 456,
   "metadata": {},
   "outputs": [
    {
     "data": {
      "text/plain": "0         1.0\n1         NaN\n2         NaN\n3         NaN\n4         5.0\n         ... \n456368    NaN\n456369    NaN\n456370    NaN\n456371    NaN\n456372    NaN\nLength: 456373, dtype: float64"
     },
     "execution_count": 456,
     "metadata": {},
     "output_type": "execute_result"
    }
   ],
   "source": [
    "df[list_perms].sum(axis=1)/df[list_perms].count(axis=1)"
   ]
  },
  {
   "cell_type": "code",
   "execution_count": 457,
   "metadata": {},
   "outputs": [
    {
     "data": {
      "text/plain": "NaN         375200\n1.000000     14892\n2.000000      8109\n3.000000      7097\n4.000000      4254\n             ...  \n1.083333         1\n8.888889         1\n2.088889         1\n9.625000         1\n8.142857         1\nName: permanencia, Length: 675, dtype: int64"
     },
     "execution_count": 457,
     "metadata": {},
     "output_type": "execute_result"
    }
   ],
   "source": [
    "df['permanencia'] = df[list_perms].sum(axis=1)/df[list_perms].count(axis=1)\n",
    "df['permanencia'].value_counts(dropna=False)"
   ]
  },
  {
   "cell_type": "code",
   "execution_count": 458,
   "metadata": {},
   "outputs": [],
   "source": [
    "df['permanencia'].fillna(0, inplace=True)"
   ]
  },
  {
   "cell_type": "code",
   "execution_count": 459,
   "metadata": {},
   "outputs": [],
   "source": [
    "df.drop(list_perms, axis=1, inplace=True)"
   ]
  },
  {
   "cell_type": "code",
   "execution_count": 460,
   "metadata": {},
   "outputs": [
    {
     "data": {
      "text/html": "<div>\n<style scoped>\n    .dataframe tbody tr th:only-of-type {\n        vertical-align: middle;\n    }\n\n    .dataframe tbody tr th {\n        vertical-align: top;\n    }\n\n    .dataframe thead th {\n        text-align: right;\n    }\n</style>\n<table border=\"1\" class=\"dataframe\">\n  <thead>\n    <tr style=\"text-align: right;\">\n      <th></th>\n      <th>pk_cid</th>\n      <th>pk_partition</th>\n      <th>short_term_deposit</th>\n    </tr>\n  </thead>\n  <tbody>\n    <tr>\n      <th>238092</th>\n      <td>209630</td>\n      <td>2018-01-28</td>\n      <td>True</td>\n    </tr>\n    <tr>\n      <th>241000</th>\n      <td>209630</td>\n      <td>2018-02-28</td>\n      <td>False</td>\n    </tr>\n    <tr>\n      <th>483568</th>\n      <td>209630</td>\n      <td>2018-03-28</td>\n      <td>False</td>\n    </tr>\n    <tr>\n      <th>1479387</th>\n      <td>209630</td>\n      <td>2018-07-28</td>\n      <td>False</td>\n    </tr>\n    <tr>\n      <th>2167899</th>\n      <td>209630</td>\n      <td>2018-08-28</td>\n      <td>False</td>\n    </tr>\n    <tr>\n      <th>2172146</th>\n      <td>209630</td>\n      <td>2018-09-28</td>\n      <td>False</td>\n    </tr>\n    <tr>\n      <th>2943809</th>\n      <td>209630</td>\n      <td>2018-10-28</td>\n      <td>False</td>\n    </tr>\n    <tr>\n      <th>3033558</th>\n      <td>209630</td>\n      <td>2018-11-28</td>\n      <td>False</td>\n    </tr>\n    <tr>\n      <th>3627510</th>\n      <td>209630</td>\n      <td>2018-12-28</td>\n      <td>False</td>\n    </tr>\n    <tr>\n      <th>3839899</th>\n      <td>209630</td>\n      <td>2019-01-28</td>\n      <td>False</td>\n    </tr>\n    <tr>\n      <th>4481173</th>\n      <td>209630</td>\n      <td>2019-02-28</td>\n      <td>False</td>\n    </tr>\n    <tr>\n      <th>4875881</th>\n      <td>209630</td>\n      <td>2019-03-28</td>\n      <td>False</td>\n    </tr>\n    <tr>\n      <th>5133190</th>\n      <td>209630</td>\n      <td>2019-04-28</td>\n      <td>False</td>\n    </tr>\n    <tr>\n      <th>5523253</th>\n      <td>209630</td>\n      <td>2019-05-28</td>\n      <td>False</td>\n    </tr>\n  </tbody>\n</table>\n</div>",
      "text/plain": "         pk_cid pk_partition  short_term_deposit\n238092   209630   2018-01-28                True\n241000   209630   2018-02-28               False\n483568   209630   2018-03-28               False\n1479387  209630   2018-07-28               False\n2167899  209630   2018-08-28               False\n2172146  209630   2018-09-28               False\n2943809  209630   2018-10-28               False\n3033558  209630   2018-11-28               False\n3627510  209630   2018-12-28               False\n3839899  209630   2019-01-28               False\n4481173  209630   2019-02-28               False\n4875881  209630   2019-03-28               False\n5133190  209630   2019-04-28               False\n5523253  209630   2019-05-28               False"
     },
     "execution_count": 460,
     "metadata": {},
     "output_type": "execute_result"
    }
   ],
   "source": [
    "prod = 'short_term_deposit'\n",
    "df_whole[ df_whole['pk_cid'] == 209630 ][['pk_cid','pk_partition',prod]]"
   ]
  },
  {
   "cell_type": "code",
   "execution_count": 461,
   "metadata": {},
   "outputs": [
    {
     "name": "stdout",
     "output_type": "stream",
     "text": [
      "   pk_partition  product  diff  prev  date_diff\n",
      "5    2018-06-28        0  -1.0     0        3.0\n",
      "12   2019-01-28        0  -1.0     0        4.0\n"
     ]
    },
    {
     "data": {
      "text/plain": "3.5"
     },
     "execution_count": 461,
     "metadata": {},
     "output_type": "execute_result"
    }
   ],
   "source": [
    "test_data = pd.DataFrame( [0,0,1,1,1,0,0,0,1,1,1,1,0,0,0,1,1], index=partitions )\n",
    "test_data.reset_index(inplace=True)\n",
    "test_data.columns = ['pk_partition','product']\n",
    "test_data['pk_partition'] = pd.to_datetime( test_data['pk_partition'] )\n",
    "test_data.set_index('pk_partition',inplace=True)\n",
    "\n",
    "perm = determinar_permanencia(test_data)\n",
    "print(perm)\n",
    "\n",
    "perm['date_diff'].sum()/len(perm['date_diff'])\n",
    "# expected result: 3, 4"
   ]
  },
  {
   "cell_type": "code",
   "execution_count": 462,
   "metadata": {},
   "outputs": [],
   "source": [
    "#for prod in list_products:\n",
    "    #df[prod+'_altas'] = df_whole[['pk_cid',prod]].agg(determinar_altas_cobradas_all)"
   ]
  },
  {
   "cell_type": "code",
   "execution_count": null,
   "metadata": {},
   "outputs": [],
   "source": [
    "#for prod in list_products:\n",
    "#    df[prod+'_altas'] = df_whole.groupby('pk_cid')[prod].agg(determinar_altas)\n",
    "#    print(prod)"
   ]
  },
  {
   "cell_type": "code",
   "execution_count": null,
   "metadata": {},
   "outputs": [],
   "source": [
    "#for prod in list_products:\n",
    "#    df[prod+'_bajas'] = df_whole.groupby('pk_cid')[prod].agg(determinar_bajas)"
   ]
  },
  {
   "cell_type": "code",
   "execution_count": null,
   "metadata": {},
   "outputs": [],
   "source": [
    "#for prod in list_products:\n",
    "#    df[prod+'_cobros'] = df_whole.groupby('pk_cid')[prod].agg(determinar_altas_cobradas)"
   ]
  },
  {
   "cell_type": "markdown",
   "metadata": {},
   "source": [
    "## Numero de productos contratados en su historia (1)"
   ]
  },
  {
   "cell_type": "code",
   "execution_count": 463,
   "metadata": {},
   "outputs": [],
   "source": [
    "df['total_products'] = df_whole.groupby('pk_cid')[list_products].max().sum(axis=1).reset_index(drop=True)"
   ]
  },
  {
   "cell_type": "code",
   "execution_count": 464,
   "metadata": {},
   "outputs": [
    {
     "data": {
      "text/html": "<div>\n<style scoped>\n    .dataframe tbody tr th:only-of-type {\n        vertical-align: middle;\n    }\n\n    .dataframe tbody tr th {\n        vertical-align: top;\n    }\n\n    .dataframe thead th {\n        text-align: right;\n    }\n</style>\n<table border=\"1\" class=\"dataframe\">\n  <thead>\n    <tr style=\"text-align: right;\">\n      <th></th>\n      <th>0</th>\n      <th>1</th>\n      <th>2</th>\n    </tr>\n  </thead>\n  <tbody>\n    <tr>\n      <th>pk_cid</th>\n      <td>15891</td>\n      <td>16063</td>\n      <td>16203</td>\n    </tr>\n    <tr>\n      <th>salary</th>\n      <td>NaN</td>\n      <td>NaN</td>\n      <td>NaN</td>\n    </tr>\n    <tr>\n      <th>deceased</th>\n      <td>0</td>\n      <td>0</td>\n      <td>0</td>\n    </tr>\n    <tr>\n      <th>active_customer</th>\n      <td>0</td>\n      <td>0</td>\n      <td>1</td>\n    </tr>\n    <tr>\n      <th>age</th>\n      <td>59</td>\n      <td>62</td>\n      <td>70</td>\n    </tr>\n    <tr>\n      <th>...</th>\n      <td>...</td>\n      <td>...</td>\n      <td>...</td>\n    </tr>\n    <tr>\n      <th>cuenta_bajas</th>\n      <td>1</td>\n      <td>0</td>\n      <td>0</td>\n    </tr>\n    <tr>\n      <th>cuenta_cobros</th>\n      <td>0</td>\n      <td>0</td>\n      <td>1</td>\n    </tr>\n    <tr>\n      <th>gastado</th>\n      <td>0</td>\n      <td>0</td>\n      <td>40</td>\n    </tr>\n    <tr>\n      <th>permanencia</th>\n      <td>1</td>\n      <td>0</td>\n      <td>0</td>\n    </tr>\n    <tr>\n      <th>total_products</th>\n      <td>1</td>\n      <td>0</td>\n      <td>1</td>\n    </tr>\n  </tbody>\n</table>\n<p>62 rows × 3 columns</p>\n</div>",
      "text/plain": "                     0      1      2\npk_cid           15891  16063  16203\nsalary             NaN    NaN    NaN\ndeceased             0      0      0\nactive_customer      0      0      1\nage                 59     62     70\n...                ...    ...    ...\ncuenta_bajas         1      0      0\ncuenta_cobros        0      0      1\ngastado              0      0     40\npermanencia          1      0      0\ntotal_products       1      0      1\n\n[62 rows x 3 columns]"
     },
     "execution_count": 464,
     "metadata": {},
     "output_type": "execute_result"
    }
   ],
   "source": [
    "df.head(3).T"
   ]
  },
  {
   "cell_type": "code",
   "execution_count": null,
   "metadata": {},
   "outputs": [],
   "source": [
    "df['bajas'] = df['ahorros_bajas'] + df['financiacion_bajas'] + df['cuenta_bajas'] "
   ]
  },
  {
   "cell_type": "code",
   "execution_count": null,
   "metadata": {},
   "outputs": [],
   "source": [
    "len(df.columns)"
   ]
  },
  {
   "cell_type": "code",
   "execution_count": 465,
   "metadata": {},
   "outputs": [],
   "source": [
    "df['payroll'] = df['payroll'].astype(int)"
   ]
  },
  {
   "cell_type": "code",
   "execution_count": 466,
   "metadata": {},
   "outputs": [],
   "source": [
    "# drop de columnas de altas, bajas y cobros por cada producto\n",
    "for key, value in products_dict.items():\n",
    "    df.drop(key+'_altas', axis=1, inplace=True)\n",
    "    df.drop(key+'_bajas', axis=1, inplace=True)\n",
    "    df.drop(key+'_cobros', axis=1, inplace=True)"
   ]
  },
  {
   "cell_type": "code",
   "execution_count": 472,
   "metadata": {},
   "outputs": [
    {
     "name": "stdout",
     "output_type": "stream",
     "text": [
      "13\n"
     ]
    },
    {
     "data": {
      "text/html": "<style  type=\"text/css\" >\n#T_735358d2_ad87_11eb_a39a_1e00da1e1f75row0_col0,#T_735358d2_ad87_11eb_a39a_1e00da1e1f75row1_col1,#T_735358d2_ad87_11eb_a39a_1e00da1e1f75row2_col2,#T_735358d2_ad87_11eb_a39a_1e00da1e1f75row3_col3,#T_735358d2_ad87_11eb_a39a_1e00da1e1f75row4_col4,#T_735358d2_ad87_11eb_a39a_1e00da1e1f75row5_col5,#T_735358d2_ad87_11eb_a39a_1e00da1e1f75row6_col6,#T_735358d2_ad87_11eb_a39a_1e00da1e1f75row7_col7,#T_735358d2_ad87_11eb_a39a_1e00da1e1f75row8_col8,#T_735358d2_ad87_11eb_a39a_1e00da1e1f75row9_col9,#T_735358d2_ad87_11eb_a39a_1e00da1e1f75row10_col10,#T_735358d2_ad87_11eb_a39a_1e00da1e1f75row11_col11,#T_735358d2_ad87_11eb_a39a_1e00da1e1f75row12_col12{\n            background-color:  #b40426;\n            color:  #f1f1f1;\n        }#T_735358d2_ad87_11eb_a39a_1e00da1e1f75row0_col1,#T_735358d2_ad87_11eb_a39a_1e00da1e1f75row0_col10,#T_735358d2_ad87_11eb_a39a_1e00da1e1f75row1_col7,#T_735358d2_ad87_11eb_a39a_1e00da1e1f75row2_col5,#T_735358d2_ad87_11eb_a39a_1e00da1e1f75row5_col0,#T_735358d2_ad87_11eb_a39a_1e00da1e1f75row6_col0,#T_735358d2_ad87_11eb_a39a_1e00da1e1f75row7_col0,#T_735358d2_ad87_11eb_a39a_1e00da1e1f75row8_col1{\n            background-color:  #3c4ec2;\n            color:  #f1f1f1;\n        }#T_735358d2_ad87_11eb_a39a_1e00da1e1f75row0_col2,#T_735358d2_ad87_11eb_a39a_1e00da1e1f75row0_col3,#T_735358d2_ad87_11eb_a39a_1e00da1e1f75row1_col2,#T_735358d2_ad87_11eb_a39a_1e00da1e1f75row4_col10,#T_735358d2_ad87_11eb_a39a_1e00da1e1f75row11_col1,#T_735358d2_ad87_11eb_a39a_1e00da1e1f75row12_col1{\n            background-color:  #4257c9;\n            color:  #f1f1f1;\n        }#T_735358d2_ad87_11eb_a39a_1e00da1e1f75row0_col4{\n            background-color:  #6788ee;\n            color:  #000000;\n        }#T_735358d2_ad87_11eb_a39a_1e00da1e1f75row0_col5,#T_735358d2_ad87_11eb_a39a_1e00da1e1f75row5_col2,#T_735358d2_ad87_11eb_a39a_1e00da1e1f75row7_col5,#T_735358d2_ad87_11eb_a39a_1e00da1e1f75row10_col5,#T_735358d2_ad87_11eb_a39a_1e00da1e1f75row12_col5{\n            background-color:  #3e51c5;\n            color:  #f1f1f1;\n        }#T_735358d2_ad87_11eb_a39a_1e00da1e1f75row0_col6,#T_735358d2_ad87_11eb_a39a_1e00da1e1f75row1_col10,#T_735358d2_ad87_11eb_a39a_1e00da1e1f75row1_col11,#T_735358d2_ad87_11eb_a39a_1e00da1e1f75row4_col5{\n            background-color:  #445acc;\n            color:  #f1f1f1;\n        }#T_735358d2_ad87_11eb_a39a_1e00da1e1f75row0_col7,#T_735358d2_ad87_11eb_a39a_1e00da1e1f75row0_col9,#T_735358d2_ad87_11eb_a39a_1e00da1e1f75row0_col12,#T_735358d2_ad87_11eb_a39a_1e00da1e1f75row3_col5,#T_735358d2_ad87_11eb_a39a_1e00da1e1f75row4_col2,#T_735358d2_ad87_11eb_a39a_1e00da1e1f75row4_col8,#T_735358d2_ad87_11eb_a39a_1e00da1e1f75row4_col9,#T_735358d2_ad87_11eb_a39a_1e00da1e1f75row4_col11,#T_735358d2_ad87_11eb_a39a_1e00da1e1f75row5_col1,#T_735358d2_ad87_11eb_a39a_1e00da1e1f75row5_col3,#T_735358d2_ad87_11eb_a39a_1e00da1e1f75row5_col7,#T_735358d2_ad87_11eb_a39a_1e00da1e1f75row5_col10,#T_735358d2_ad87_11eb_a39a_1e00da1e1f75row5_col12,#T_735358d2_ad87_11eb_a39a_1e00da1e1f75row6_col8,#T_735358d2_ad87_11eb_a39a_1e00da1e1f75row8_col0,#T_735358d2_ad87_11eb_a39a_1e00da1e1f75row8_col4,#T_735358d2_ad87_11eb_a39a_1e00da1e1f75row8_col6,#T_735358d2_ad87_11eb_a39a_1e00da1e1f75row9_col0,#T_735358d2_ad87_11eb_a39a_1e00da1e1f75row11_col0{\n            background-color:  #3b4cc0;\n            color:  #f1f1f1;\n        }#T_735358d2_ad87_11eb_a39a_1e00da1e1f75row0_col8,#T_735358d2_ad87_11eb_a39a_1e00da1e1f75row3_col8,#T_735358d2_ad87_11eb_a39a_1e00da1e1f75row9_col4{\n            background-color:  #4358cb;\n            color:  #f1f1f1;\n        }#T_735358d2_ad87_11eb_a39a_1e00da1e1f75row0_col11,#T_735358d2_ad87_11eb_a39a_1e00da1e1f75row1_col0,#T_735358d2_ad87_11eb_a39a_1e00da1e1f75row1_col5,#T_735358d2_ad87_11eb_a39a_1e00da1e1f75row1_col9,#T_735358d2_ad87_11eb_a39a_1e00da1e1f75row2_col0,#T_735358d2_ad87_11eb_a39a_1e00da1e1f75row2_col1,#T_735358d2_ad87_11eb_a39a_1e00da1e1f75row2_col4,#T_735358d2_ad87_11eb_a39a_1e00da1e1f75row4_col1,#T_735358d2_ad87_11eb_a39a_1e00da1e1f75row4_col7,#T_735358d2_ad87_11eb_a39a_1e00da1e1f75row5_col9,#T_735358d2_ad87_11eb_a39a_1e00da1e1f75row5_col11,#T_735358d2_ad87_11eb_a39a_1e00da1e1f75row6_col1,#T_735358d2_ad87_11eb_a39a_1e00da1e1f75row7_col1,#T_735358d2_ad87_11eb_a39a_1e00da1e1f75row8_col3,#T_735358d2_ad87_11eb_a39a_1e00da1e1f75row9_col1,#T_735358d2_ad87_11eb_a39a_1e00da1e1f75row10_col0,#T_735358d2_ad87_11eb_a39a_1e00da1e1f75row11_col5,#T_735358d2_ad87_11eb_a39a_1e00da1e1f75row12_col0{\n            background-color:  #3d50c3;\n            color:  #f1f1f1;\n        }#T_735358d2_ad87_11eb_a39a_1e00da1e1f75row1_col3{\n            background-color:  #4f69d9;\n            color:  #000000;\n        }#T_735358d2_ad87_11eb_a39a_1e00da1e1f75row1_col4,#T_735358d2_ad87_11eb_a39a_1e00da1e1f75row1_col8,#T_735358d2_ad87_11eb_a39a_1e00da1e1f75row10_col1{\n            background-color:  #455cce;\n            color:  #f1f1f1;\n        }#T_735358d2_ad87_11eb_a39a_1e00da1e1f75row1_col6,#T_735358d2_ad87_11eb_a39a_1e00da1e1f75row5_col6,#T_735358d2_ad87_11eb_a39a_1e00da1e1f75row5_col8,#T_735358d2_ad87_11eb_a39a_1e00da1e1f75row7_col4{\n            background-color:  #465ecf;\n            color:  #f1f1f1;\n        }#T_735358d2_ad87_11eb_a39a_1e00da1e1f75row1_col12,#T_735358d2_ad87_11eb_a39a_1e00da1e1f75row4_col12,#T_735358d2_ad87_11eb_a39a_1e00da1e1f75row6_col5{\n            background-color:  #4055c8;\n            color:  #f1f1f1;\n        }#T_735358d2_ad87_11eb_a39a_1e00da1e1f75row2_col3{\n            background-color:  #89acfd;\n            color:  #000000;\n        }#T_735358d2_ad87_11eb_a39a_1e00da1e1f75row2_col6,#T_735358d2_ad87_11eb_a39a_1e00da1e1f75row3_col11,#T_735358d2_ad87_11eb_a39a_1e00da1e1f75row11_col3{\n            background-color:  #8badfd;\n            color:  #000000;\n        }#T_735358d2_ad87_11eb_a39a_1e00da1e1f75row2_col7{\n            background-color:  #9ebeff;\n            color:  #000000;\n        }#T_735358d2_ad87_11eb_a39a_1e00da1e1f75row2_col8{\n            background-color:  #94b6ff;\n            color:  #000000;\n        }#T_735358d2_ad87_11eb_a39a_1e00da1e1f75row2_col9{\n            background-color:  #c0d4f5;\n            color:  #000000;\n        }#T_735358d2_ad87_11eb_a39a_1e00da1e1f75row2_col10{\n            background-color:  #86a9fc;\n            color:  #000000;\n        }#T_735358d2_ad87_11eb_a39a_1e00da1e1f75row2_col11,#T_735358d2_ad87_11eb_a39a_1e00da1e1f75row11_col2{\n            background-color:  #ead4c8;\n            color:  #000000;\n        }#T_735358d2_ad87_11eb_a39a_1e00da1e1f75row2_col12,#T_735358d2_ad87_11eb_a39a_1e00da1e1f75row10_col9{\n            background-color:  #9dbdff;\n            color:  #000000;\n        }#T_735358d2_ad87_11eb_a39a_1e00da1e1f75row3_col0,#T_735358d2_ad87_11eb_a39a_1e00da1e1f75row8_col5,#T_735358d2_ad87_11eb_a39a_1e00da1e1f75row9_col5,#T_735358d2_ad87_11eb_a39a_1e00da1e1f75row11_col4{\n            background-color:  #3f53c6;\n            color:  #f1f1f1;\n        }#T_735358d2_ad87_11eb_a39a_1e00da1e1f75row3_col1{\n            background-color:  #4c66d6;\n            color:  #000000;\n        }#T_735358d2_ad87_11eb_a39a_1e00da1e1f75row3_col2,#T_735358d2_ad87_11eb_a39a_1e00da1e1f75row10_col2{\n            background-color:  #8caffe;\n            color:  #000000;\n        }#T_735358d2_ad87_11eb_a39a_1e00da1e1f75row3_col4{\n            background-color:  #5673e0;\n            color:  #000000;\n        }#T_735358d2_ad87_11eb_a39a_1e00da1e1f75row3_col6{\n            background-color:  #6282ea;\n            color:  #000000;\n        }#T_735358d2_ad87_11eb_a39a_1e00da1e1f75row3_col7,#T_735358d2_ad87_11eb_a39a_1e00da1e1f75row6_col3,#T_735358d2_ad87_11eb_a39a_1e00da1e1f75row10_col8,#T_735358d2_ad87_11eb_a39a_1e00da1e1f75row12_col8{\n            background-color:  #5b7ae5;\n            color:  #000000;\n        }#T_735358d2_ad87_11eb_a39a_1e00da1e1f75row3_col9{\n            background-color:  #5875e1;\n            color:  #000000;\n        }#T_735358d2_ad87_11eb_a39a_1e00da1e1f75row3_col10{\n            background-color:  #7295f4;\n            color:  #000000;\n        }#T_735358d2_ad87_11eb_a39a_1e00da1e1f75row3_col12{\n            background-color:  #6687ed;\n            color:  #000000;\n        }#T_735358d2_ad87_11eb_a39a_1e00da1e1f75row4_col0,#T_735358d2_ad87_11eb_a39a_1e00da1e1f75row7_col3{\n            background-color:  #5f7fe8;\n            color:  #000000;\n        }#T_735358d2_ad87_11eb_a39a_1e00da1e1f75row4_col3,#T_735358d2_ad87_11eb_a39a_1e00da1e1f75row8_col10,#T_735358d2_ad87_11eb_a39a_1e00da1e1f75row8_col12{\n            background-color:  #516ddb;\n            color:  #000000;\n        }#T_735358d2_ad87_11eb_a39a_1e00da1e1f75row4_col6,#T_735358d2_ad87_11eb_a39a_1e00da1e1f75row6_col4{\n            background-color:  #4e68d8;\n            color:  #000000;\n        }#T_735358d2_ad87_11eb_a39a_1e00da1e1f75row5_col4,#T_735358d2_ad87_11eb_a39a_1e00da1e1f75row12_col4{\n            background-color:  #4a63d3;\n            color:  #f1f1f1;\n        }#T_735358d2_ad87_11eb_a39a_1e00da1e1f75row6_col2,#T_735358d2_ad87_11eb_a39a_1e00da1e1f75row7_col6{\n            background-color:  #88abfd;\n            color:  #000000;\n        }#T_735358d2_ad87_11eb_a39a_1e00da1e1f75row6_col7,#T_735358d2_ad87_11eb_a39a_1e00da1e1f75row8_col11{\n            background-color:  #7ea1fa;\n            color:  #000000;\n        }#T_735358d2_ad87_11eb_a39a_1e00da1e1f75row6_col9,#T_735358d2_ad87_11eb_a39a_1e00da1e1f75row6_col12,#T_735358d2_ad87_11eb_a39a_1e00da1e1f75row9_col12{\n            background-color:  #ccd9ed;\n            color:  #000000;\n        }#T_735358d2_ad87_11eb_a39a_1e00da1e1f75row6_col10{\n            background-color:  #96b7ff;\n            color:  #000000;\n        }#T_735358d2_ad87_11eb_a39a_1e00da1e1f75row6_col11{\n            background-color:  #d6dce4;\n            color:  #000000;\n        }#T_735358d2_ad87_11eb_a39a_1e00da1e1f75row7_col2{\n            background-color:  #a3c2fe;\n            color:  #000000;\n        }#T_735358d2_ad87_11eb_a39a_1e00da1e1f75row7_col8{\n            background-color:  #6c8ff1;\n            color:  #000000;\n        }#T_735358d2_ad87_11eb_a39a_1e00da1e1f75row7_col9,#T_735358d2_ad87_11eb_a39a_1e00da1e1f75row9_col7{\n            background-color:  #f59d7e;\n            color:  #000000;\n        }#T_735358d2_ad87_11eb_a39a_1e00da1e1f75row7_col10,#T_735358d2_ad87_11eb_a39a_1e00da1e1f75row10_col7{\n            background-color:  #8fb1fe;\n            color:  #000000;\n        }#T_735358d2_ad87_11eb_a39a_1e00da1e1f75row7_col11,#T_735358d2_ad87_11eb_a39a_1e00da1e1f75row7_col12,#T_735358d2_ad87_11eb_a39a_1e00da1e1f75row12_col7{\n            background-color:  #c5d6f2;\n            color:  #000000;\n        }#T_735358d2_ad87_11eb_a39a_1e00da1e1f75row8_col2{\n            background-color:  #90b2fe;\n            color:  #000000;\n        }#T_735358d2_ad87_11eb_a39a_1e00da1e1f75row8_col7{\n            background-color:  #6384eb;\n            color:  #000000;\n        }#T_735358d2_ad87_11eb_a39a_1e00da1e1f75row8_col9{\n            background-color:  #f7b396;\n            color:  #000000;\n        }#T_735358d2_ad87_11eb_a39a_1e00da1e1f75row9_col2{\n            background-color:  #c4d5f3;\n            color:  #000000;\n        }#T_735358d2_ad87_11eb_a39a_1e00da1e1f75row9_col3{\n            background-color:  #5a78e4;\n            color:  #000000;\n        }#T_735358d2_ad87_11eb_a39a_1e00da1e1f75row9_col6{\n            background-color:  #d1dae9;\n            color:  #000000;\n        }#T_735358d2_ad87_11eb_a39a_1e00da1e1f75row9_col8{\n            background-color:  #f7b093;\n            color:  #000000;\n        }#T_735358d2_ad87_11eb_a39a_1e00da1e1f75row9_col10{\n            background-color:  #9bbcff;\n            color:  #000000;\n        }#T_735358d2_ad87_11eb_a39a_1e00da1e1f75row9_col11{\n            background-color:  #e3d9d3;\n            color:  #000000;\n        }#T_735358d2_ad87_11eb_a39a_1e00da1e1f75row10_col3{\n            background-color:  #7699f6;\n            color:  #000000;\n        }#T_735358d2_ad87_11eb_a39a_1e00da1e1f75row10_col4{\n            background-color:  #4b64d5;\n            color:  #f1f1f1;\n        }#T_735358d2_ad87_11eb_a39a_1e00da1e1f75row10_col6{\n            background-color:  #9fbfff;\n            color:  #000000;\n        }#T_735358d2_ad87_11eb_a39a_1e00da1e1f75row10_col11{\n            background-color:  #dddcdc;\n            color:  #000000;\n        }#T_735358d2_ad87_11eb_a39a_1e00da1e1f75row10_col12,#T_735358d2_ad87_11eb_a39a_1e00da1e1f75row12_col10{\n            background-color:  #dadce0;\n            color:  #000000;\n        }#T_735358d2_ad87_11eb_a39a_1e00da1e1f75row11_col6{\n            background-color:  #d9dce1;\n            color:  #000000;\n        }#T_735358d2_ad87_11eb_a39a_1e00da1e1f75row11_col7{\n            background-color:  #c3d5f4;\n            color:  #000000;\n        }#T_735358d2_ad87_11eb_a39a_1e00da1e1f75row11_col8{\n            background-color:  #84a7fc;\n            color:  #000000;\n        }#T_735358d2_ad87_11eb_a39a_1e00da1e1f75row11_col9{\n            background-color:  #e2dad5;\n            color:  #000000;\n        }#T_735358d2_ad87_11eb_a39a_1e00da1e1f75row11_col10{\n            background-color:  #dcdddd;\n            color:  #000000;\n        }#T_735358d2_ad87_11eb_a39a_1e00da1e1f75row11_col12{\n            background-color:  #efcfbf;\n            color:  #000000;\n        }#T_735358d2_ad87_11eb_a39a_1e00da1e1f75row12_col2{\n            background-color:  #a2c1ff;\n            color:  #000000;\n        }#T_735358d2_ad87_11eb_a39a_1e00da1e1f75row12_col3{\n            background-color:  #6a8bef;\n            color:  #000000;\n        }#T_735358d2_ad87_11eb_a39a_1e00da1e1f75row12_col6{\n            background-color:  #d2dbe8;\n            color:  #000000;\n        }#T_735358d2_ad87_11eb_a39a_1e00da1e1f75row12_col9{\n            background-color:  #cdd9ec;\n            color:  #000000;\n        }#T_735358d2_ad87_11eb_a39a_1e00da1e1f75row12_col11{\n            background-color:  #efcebd;\n            color:  #000000;\n        }</style><table id=\"T_735358d2_ad87_11eb_a39a_1e00da1e1f75\" ><thead>    <tr>        <th class=\"blank level0\" ></th>        <th class=\"col_heading level0 col0\" >salary</th>        <th class=\"col_heading level0 col1\" >deceased</th>        <th class=\"col_heading level0 col2\" >active_customer</th>        <th class=\"col_heading level0 col3\" >age</th>        <th class=\"col_heading level0 col4\" >region_code</th>        <th class=\"col_heading level0 col5\" >country_id</th>        <th class=\"col_heading level0 col6\" >ahorros_cobros</th>        <th class=\"col_heading level0 col7\" >financiacion_cobros</th>        <th class=\"col_heading level0 col8\" >cuenta_cobros</th>        <th class=\"col_heading level0 col9\" >gastado</th>        <th class=\"col_heading level0 col10\" >permanencia</th>        <th class=\"col_heading level0 col11\" >total_products</th>        <th class=\"col_heading level0 col12\" >bajas</th>    </tr></thead><tbody>\n                <tr>\n                        <th id=\"T_735358d2_ad87_11eb_a39a_1e00da1e1f75level0_row0\" class=\"row_heading level0 row0\" >salary</th>\n                        <td id=\"T_735358d2_ad87_11eb_a39a_1e00da1e1f75row0_col0\" class=\"data row0 col0\" >1.000</td>\n                        <td id=\"T_735358d2_ad87_11eb_a39a_1e00da1e1f75row0_col1\" class=\"data row0 col1\" >0.001</td>\n                        <td id=\"T_735358d2_ad87_11eb_a39a_1e00da1e1f75row0_col2\" class=\"data row0 col2\" >0.002</td>\n                        <td id=\"T_735358d2_ad87_11eb_a39a_1e00da1e1f75row0_col3\" class=\"data row0 col3\" >0.011</td>\n                        <td id=\"T_735358d2_ad87_11eb_a39a_1e00da1e1f75row0_col4\" class=\"data row0 col4\" >0.111</td>\n                        <td id=\"T_735358d2_ad87_11eb_a39a_1e00da1e1f75row0_col5\" class=\"data row0 col5\" >-0.001</td>\n                        <td id=\"T_735358d2_ad87_11eb_a39a_1e00da1e1f75row0_col6\" class=\"data row0 col6\" >-0.003</td>\n                        <td id=\"T_735358d2_ad87_11eb_a39a_1e00da1e1f75row0_col7\" class=\"data row0 col7\" >-0.004</td>\n                        <td id=\"T_735358d2_ad87_11eb_a39a_1e00da1e1f75row0_col8\" class=\"data row0 col8\" >-0.008</td>\n                        <td id=\"T_735358d2_ad87_11eb_a39a_1e00da1e1f75row0_col9\" class=\"data row0 col9\" >-0.008</td>\n                        <td id=\"T_735358d2_ad87_11eb_a39a_1e00da1e1f75row0_col10\" class=\"data row0 col10\" >0.003</td>\n                        <td id=\"T_735358d2_ad87_11eb_a39a_1e00da1e1f75row0_col11\" class=\"data row0 col11\" >-0.008</td>\n                        <td id=\"T_735358d2_ad87_11eb_a39a_1e00da1e1f75row0_col12\" class=\"data row0 col12\" >0.001</td>\n            </tr>\n            <tr>\n                        <th id=\"T_735358d2_ad87_11eb_a39a_1e00da1e1f75level0_row1\" class=\"row_heading level0 row1\" >deceased</th>\n                        <td id=\"T_735358d2_ad87_11eb_a39a_1e00da1e1f75row1_col0\" class=\"data row1 col0\" >0.001</td>\n                        <td id=\"T_735358d2_ad87_11eb_a39a_1e00da1e1f75row1_col1\" class=\"data row1 col1\" >1.000</td>\n                        <td id=\"T_735358d2_ad87_11eb_a39a_1e00da1e1f75row1_col2\" class=\"data row1 col2\" >0.003</td>\n                        <td id=\"T_735358d2_ad87_11eb_a39a_1e00da1e1f75row1_col3\" class=\"data row1 col3\" >0.053</td>\n                        <td id=\"T_735358d2_ad87_11eb_a39a_1e00da1e1f75row1_col4\" class=\"data row1 col4\" >0.003</td>\n                        <td id=\"T_735358d2_ad87_11eb_a39a_1e00da1e1f75row1_col5\" class=\"data row1 col5\" >-0.007</td>\n                        <td id=\"T_735358d2_ad87_11eb_a39a_1e00da1e1f75row1_col6\" class=\"data row1 col6\" >0.004</td>\n                        <td id=\"T_735358d2_ad87_11eb_a39a_1e00da1e1f75row1_col7\" class=\"data row1 col7\" >0.003</td>\n                        <td id=\"T_735358d2_ad87_11eb_a39a_1e00da1e1f75row1_col8\" class=\"data row1 col8\" >-0.001</td>\n                        <td id=\"T_735358d2_ad87_11eb_a39a_1e00da1e1f75row1_col9\" class=\"data row1 col9\" >0.003</td>\n                        <td id=\"T_735358d2_ad87_11eb_a39a_1e00da1e1f75row1_col10\" class=\"data row1 col10\" >0.031</td>\n                        <td id=\"T_735358d2_ad87_11eb_a39a_1e00da1e1f75row1_col11\" class=\"data row1 col11\" >0.018</td>\n                        <td id=\"T_735358d2_ad87_11eb_a39a_1e00da1e1f75row1_col12\" class=\"data row1 col12\" >0.017</td>\n            </tr>\n            <tr>\n                        <th id=\"T_735358d2_ad87_11eb_a39a_1e00da1e1f75level0_row2\" class=\"row_heading level0 row2\" >active_customer</th>\n                        <td id=\"T_735358d2_ad87_11eb_a39a_1e00da1e1f75row2_col0\" class=\"data row2 col0\" >0.002</td>\n                        <td id=\"T_735358d2_ad87_11eb_a39a_1e00da1e1f75row2_col1\" class=\"data row2 col1\" >0.003</td>\n                        <td id=\"T_735358d2_ad87_11eb_a39a_1e00da1e1f75row2_col2\" class=\"data row2 col2\" >1.000</td>\n                        <td id=\"T_735358d2_ad87_11eb_a39a_1e00da1e1f75row2_col3\" class=\"data row2 col3\" >0.228</td>\n                        <td id=\"T_735358d2_ad87_11eb_a39a_1e00da1e1f75row2_col4\" class=\"data row2 col4\" >-0.024</td>\n                        <td id=\"T_735358d2_ad87_11eb_a39a_1e00da1e1f75row2_col5\" class=\"data row2 col5\" >-0.010</td>\n                        <td id=\"T_735358d2_ad87_11eb_a39a_1e00da1e1f75row2_col6\" class=\"data row2 col6\" >0.216</td>\n                        <td id=\"T_735358d2_ad87_11eb_a39a_1e00da1e1f75row2_col7\" class=\"data row2 col7\" >0.296</td>\n                        <td id=\"T_735358d2_ad87_11eb_a39a_1e00da1e1f75row2_col8\" class=\"data row2 col8\" >0.243</td>\n                        <td id=\"T_735358d2_ad87_11eb_a39a_1e00da1e1f75row2_col9\" class=\"data row2 col9\" >0.398</td>\n                        <td id=\"T_735358d2_ad87_11eb_a39a_1e00da1e1f75row2_col10\" class=\"data row2 col10\" >0.230</td>\n                        <td id=\"T_735358d2_ad87_11eb_a39a_1e00da1e1f75row2_col11\" class=\"data row2 col11\" >0.547</td>\n                        <td id=\"T_735358d2_ad87_11eb_a39a_1e00da1e1f75row2_col12\" class=\"data row2 col12\" >0.293</td>\n            </tr>\n            <tr>\n                        <th id=\"T_735358d2_ad87_11eb_a39a_1e00da1e1f75level0_row3\" class=\"row_heading level0 row3\" >age</th>\n                        <td id=\"T_735358d2_ad87_11eb_a39a_1e00da1e1f75row3_col0\" class=\"data row3 col0\" >0.011</td>\n                        <td id=\"T_735358d2_ad87_11eb_a39a_1e00da1e1f75row3_col1\" class=\"data row3 col1\" >0.053</td>\n                        <td id=\"T_735358d2_ad87_11eb_a39a_1e00da1e1f75row3_col2\" class=\"data row3 col2\" >0.228</td>\n                        <td id=\"T_735358d2_ad87_11eb_a39a_1e00da1e1f75row3_col3\" class=\"data row3 col3\" >1.000</td>\n                        <td id=\"T_735358d2_ad87_11eb_a39a_1e00da1e1f75row3_col4\" class=\"data row3 col4\" >0.059</td>\n                        <td id=\"T_735358d2_ad87_11eb_a39a_1e00da1e1f75row3_col5\" class=\"data row3 col5\" >-0.017</td>\n                        <td id=\"T_735358d2_ad87_11eb_a39a_1e00da1e1f75row3_col6\" class=\"data row3 col6\" >0.092</td>\n                        <td id=\"T_735358d2_ad87_11eb_a39a_1e00da1e1f75row3_col7\" class=\"data row3 col7\" >0.104</td>\n                        <td id=\"T_735358d2_ad87_11eb_a39a_1e00da1e1f75row3_col8\" class=\"data row3 col8\" >-0.007</td>\n                        <td id=\"T_735358d2_ad87_11eb_a39a_1e00da1e1f75row3_col9\" class=\"data row3 col9\" >0.088</td>\n                        <td id=\"T_735358d2_ad87_11eb_a39a_1e00da1e1f75row3_col10\" class=\"data row3 col10\" >0.170</td>\n                        <td id=\"T_735358d2_ad87_11eb_a39a_1e00da1e1f75row3_col11\" class=\"data row3 col11\" >0.233</td>\n                        <td id=\"T_735358d2_ad87_11eb_a39a_1e00da1e1f75row3_col12\" class=\"data row3 col12\" >0.135</td>\n            </tr>\n            <tr>\n                        <th id=\"T_735358d2_ad87_11eb_a39a_1e00da1e1f75level0_row4\" class=\"row_heading level0 row4\" >region_code</th>\n                        <td id=\"T_735358d2_ad87_11eb_a39a_1e00da1e1f75row4_col0\" class=\"data row4 col0\" >0.111</td>\n                        <td id=\"T_735358d2_ad87_11eb_a39a_1e00da1e1f75row4_col1\" class=\"data row4 col1\" >0.003</td>\n                        <td id=\"T_735358d2_ad87_11eb_a39a_1e00da1e1f75row4_col2\" class=\"data row4 col2\" >-0.024</td>\n                        <td id=\"T_735358d2_ad87_11eb_a39a_1e00da1e1f75row4_col3\" class=\"data row4 col3\" >0.059</td>\n                        <td id=\"T_735358d2_ad87_11eb_a39a_1e00da1e1f75row4_col4\" class=\"data row4 col4\" >1.000</td>\n                        <td id=\"T_735358d2_ad87_11eb_a39a_1e00da1e1f75row4_col5\" class=\"data row4 col5\" >0.018</td>\n                        <td id=\"T_735358d2_ad87_11eb_a39a_1e00da1e1f75row4_col6\" class=\"data row4 col6\" >0.030</td>\n                        <td id=\"T_735358d2_ad87_11eb_a39a_1e00da1e1f75row4_col7\" class=\"data row4 col7\" >0.008</td>\n                        <td id=\"T_735358d2_ad87_11eb_a39a_1e00da1e1f75row4_col8\" class=\"data row4 col8\" >-0.036</td>\n                        <td id=\"T_735358d2_ad87_11eb_a39a_1e00da1e1f75row4_col9\" class=\"data row4 col9\" >-0.008</td>\n                        <td id=\"T_735358d2_ad87_11eb_a39a_1e00da1e1f75row4_col10\" class=\"data row4 col10\" >0.023</td>\n                        <td id=\"T_735358d2_ad87_11eb_a39a_1e00da1e1f75row4_col11\" class=\"data row4 col11\" >-0.017</td>\n                        <td id=\"T_735358d2_ad87_11eb_a39a_1e00da1e1f75row4_col12\" class=\"data row4 col12\" >0.019</td>\n            </tr>\n            <tr>\n                        <th id=\"T_735358d2_ad87_11eb_a39a_1e00da1e1f75level0_row5\" class=\"row_heading level0 row5\" >country_id</th>\n                        <td id=\"T_735358d2_ad87_11eb_a39a_1e00da1e1f75row5_col0\" class=\"data row5 col0\" >-0.001</td>\n                        <td id=\"T_735358d2_ad87_11eb_a39a_1e00da1e1f75row5_col1\" class=\"data row5 col1\" >-0.007</td>\n                        <td id=\"T_735358d2_ad87_11eb_a39a_1e00da1e1f75row5_col2\" class=\"data row5 col2\" >-0.010</td>\n                        <td id=\"T_735358d2_ad87_11eb_a39a_1e00da1e1f75row5_col3\" class=\"data row5 col3\" >-0.017</td>\n                        <td id=\"T_735358d2_ad87_11eb_a39a_1e00da1e1f75row5_col4\" class=\"data row5 col4\" >0.018</td>\n                        <td id=\"T_735358d2_ad87_11eb_a39a_1e00da1e1f75row5_col5\" class=\"data row5 col5\" >1.000</td>\n                        <td id=\"T_735358d2_ad87_11eb_a39a_1e00da1e1f75row5_col6\" class=\"data row5 col6\" >0.003</td>\n                        <td id=\"T_735358d2_ad87_11eb_a39a_1e00da1e1f75row5_col7\" class=\"data row5 col7\" >-0.001</td>\n                        <td id=\"T_735358d2_ad87_11eb_a39a_1e00da1e1f75row5_col8\" class=\"data row5 col8\" >0.002</td>\n                        <td id=\"T_735358d2_ad87_11eb_a39a_1e00da1e1f75row5_col9\" class=\"data row5 col9\" >0.002</td>\n                        <td id=\"T_735358d2_ad87_11eb_a39a_1e00da1e1f75row5_col10\" class=\"data row5 col10\" >-0.004</td>\n                        <td id=\"T_735358d2_ad87_11eb_a39a_1e00da1e1f75row5_col11\" class=\"data row5 col11\" >-0.007</td>\n                        <td id=\"T_735358d2_ad87_11eb_a39a_1e00da1e1f75row5_col12\" class=\"data row5 col12\" >-0.002</td>\n            </tr>\n            <tr>\n                        <th id=\"T_735358d2_ad87_11eb_a39a_1e00da1e1f75level0_row6\" class=\"row_heading level0 row6\" >ahorros_cobros</th>\n                        <td id=\"T_735358d2_ad87_11eb_a39a_1e00da1e1f75row6_col0\" class=\"data row6 col0\" >-0.003</td>\n                        <td id=\"T_735358d2_ad87_11eb_a39a_1e00da1e1f75row6_col1\" class=\"data row6 col1\" >0.004</td>\n                        <td id=\"T_735358d2_ad87_11eb_a39a_1e00da1e1f75row6_col2\" class=\"data row6 col2\" >0.216</td>\n                        <td id=\"T_735358d2_ad87_11eb_a39a_1e00da1e1f75row6_col3\" class=\"data row6 col3\" >0.092</td>\n                        <td id=\"T_735358d2_ad87_11eb_a39a_1e00da1e1f75row6_col4\" class=\"data row6 col4\" >0.030</td>\n                        <td id=\"T_735358d2_ad87_11eb_a39a_1e00da1e1f75row6_col5\" class=\"data row6 col5\" >0.003</td>\n                        <td id=\"T_735358d2_ad87_11eb_a39a_1e00da1e1f75row6_col6\" class=\"data row6 col6\" >1.000</td>\n                        <td id=\"T_735358d2_ad87_11eb_a39a_1e00da1e1f75row6_col7\" class=\"data row6 col7\" >0.205</td>\n                        <td id=\"T_735358d2_ad87_11eb_a39a_1e00da1e1f75row6_col8\" class=\"data row6 col8\" >-0.039</td>\n                        <td id=\"T_735358d2_ad87_11eb_a39a_1e00da1e1f75row6_col9\" class=\"data row6 col9\" >0.434</td>\n                        <td id=\"T_735358d2_ad87_11eb_a39a_1e00da1e1f75row6_col10\" class=\"data row6 col10\" >0.274</td>\n                        <td id=\"T_735358d2_ad87_11eb_a39a_1e00da1e1f75row6_col11\" class=\"data row6 col11\" >0.465</td>\n                        <td id=\"T_735358d2_ad87_11eb_a39a_1e00da1e1f75row6_col12\" class=\"data row6 col12\" >0.437</td>\n            </tr>\n            <tr>\n                        <th id=\"T_735358d2_ad87_11eb_a39a_1e00da1e1f75level0_row7\" class=\"row_heading level0 row7\" >financiacion_cobros</th>\n                        <td id=\"T_735358d2_ad87_11eb_a39a_1e00da1e1f75row7_col0\" class=\"data row7 col0\" >-0.004</td>\n                        <td id=\"T_735358d2_ad87_11eb_a39a_1e00da1e1f75row7_col1\" class=\"data row7 col1\" >0.003</td>\n                        <td id=\"T_735358d2_ad87_11eb_a39a_1e00da1e1f75row7_col2\" class=\"data row7 col2\" >0.296</td>\n                        <td id=\"T_735358d2_ad87_11eb_a39a_1e00da1e1f75row7_col3\" class=\"data row7 col3\" >0.104</td>\n                        <td id=\"T_735358d2_ad87_11eb_a39a_1e00da1e1f75row7_col4\" class=\"data row7 col4\" >0.008</td>\n                        <td id=\"T_735358d2_ad87_11eb_a39a_1e00da1e1f75row7_col5\" class=\"data row7 col5\" >-0.001</td>\n                        <td id=\"T_735358d2_ad87_11eb_a39a_1e00da1e1f75row7_col6\" class=\"data row7 col6\" >0.205</td>\n                        <td id=\"T_735358d2_ad87_11eb_a39a_1e00da1e1f75row7_col7\" class=\"data row7 col7\" >1.000</td>\n                        <td id=\"T_735358d2_ad87_11eb_a39a_1e00da1e1f75row7_col8\" class=\"data row7 col8\" >0.126</td>\n                        <td id=\"T_735358d2_ad87_11eb_a39a_1e00da1e1f75row7_col9\" class=\"data row7 col9\" >0.738</td>\n                        <td id=\"T_735358d2_ad87_11eb_a39a_1e00da1e1f75row7_col10\" class=\"data row7 col10\" >0.255</td>\n                        <td id=\"T_735358d2_ad87_11eb_a39a_1e00da1e1f75row7_col11\" class=\"data row7 col11\" >0.405</td>\n                        <td id=\"T_735358d2_ad87_11eb_a39a_1e00da1e1f75row7_col12\" class=\"data row7 col12\" >0.414</td>\n            </tr>\n            <tr>\n                        <th id=\"T_735358d2_ad87_11eb_a39a_1e00da1e1f75level0_row8\" class=\"row_heading level0 row8\" >cuenta_cobros</th>\n                        <td id=\"T_735358d2_ad87_11eb_a39a_1e00da1e1f75row8_col0\" class=\"data row8 col0\" >-0.008</td>\n                        <td id=\"T_735358d2_ad87_11eb_a39a_1e00da1e1f75row8_col1\" class=\"data row8 col1\" >-0.001</td>\n                        <td id=\"T_735358d2_ad87_11eb_a39a_1e00da1e1f75row8_col2\" class=\"data row8 col2\" >0.243</td>\n                        <td id=\"T_735358d2_ad87_11eb_a39a_1e00da1e1f75row8_col3\" class=\"data row8 col3\" >-0.007</td>\n                        <td id=\"T_735358d2_ad87_11eb_a39a_1e00da1e1f75row8_col4\" class=\"data row8 col4\" >-0.036</td>\n                        <td id=\"T_735358d2_ad87_11eb_a39a_1e00da1e1f75row8_col5\" class=\"data row8 col5\" >0.002</td>\n                        <td id=\"T_735358d2_ad87_11eb_a39a_1e00da1e1f75row8_col6\" class=\"data row8 col6\" >-0.039</td>\n                        <td id=\"T_735358d2_ad87_11eb_a39a_1e00da1e1f75row8_col7\" class=\"data row8 col7\" >0.126</td>\n                        <td id=\"T_735358d2_ad87_11eb_a39a_1e00da1e1f75row8_col8\" class=\"data row8 col8\" >1.000</td>\n                        <td id=\"T_735358d2_ad87_11eb_a39a_1e00da1e1f75row8_col9\" class=\"data row8 col9\" >0.678</td>\n                        <td id=\"T_735358d2_ad87_11eb_a39a_1e00da1e1f75row8_col10\" class=\"data row8 col10\" >0.074</td>\n                        <td id=\"T_735358d2_ad87_11eb_a39a_1e00da1e1f75row8_col11\" class=\"data row8 col11\" >0.196</td>\n                        <td id=\"T_735358d2_ad87_11eb_a39a_1e00da1e1f75row8_col12\" class=\"data row8 col12\" >0.075</td>\n            </tr>\n            <tr>\n                        <th id=\"T_735358d2_ad87_11eb_a39a_1e00da1e1f75level0_row9\" class=\"row_heading level0 row9\" >gastado</th>\n                        <td id=\"T_735358d2_ad87_11eb_a39a_1e00da1e1f75row9_col0\" class=\"data row9 col0\" >-0.008</td>\n                        <td id=\"T_735358d2_ad87_11eb_a39a_1e00da1e1f75row9_col1\" class=\"data row9 col1\" >0.003</td>\n                        <td id=\"T_735358d2_ad87_11eb_a39a_1e00da1e1f75row9_col2\" class=\"data row9 col2\" >0.398</td>\n                        <td id=\"T_735358d2_ad87_11eb_a39a_1e00da1e1f75row9_col3\" class=\"data row9 col3\" >0.088</td>\n                        <td id=\"T_735358d2_ad87_11eb_a39a_1e00da1e1f75row9_col4\" class=\"data row9 col4\" >-0.008</td>\n                        <td id=\"T_735358d2_ad87_11eb_a39a_1e00da1e1f75row9_col5\" class=\"data row9 col5\" >0.002</td>\n                        <td id=\"T_735358d2_ad87_11eb_a39a_1e00da1e1f75row9_col6\" class=\"data row9 col6\" >0.434</td>\n                        <td id=\"T_735358d2_ad87_11eb_a39a_1e00da1e1f75row9_col7\" class=\"data row9 col7\" >0.738</td>\n                        <td id=\"T_735358d2_ad87_11eb_a39a_1e00da1e1f75row9_col8\" class=\"data row9 col8\" >0.678</td>\n                        <td id=\"T_735358d2_ad87_11eb_a39a_1e00da1e1f75row9_col9\" class=\"data row9 col9\" >1.000</td>\n                        <td id=\"T_735358d2_ad87_11eb_a39a_1e00da1e1f75row9_col10\" class=\"data row9 col10\" >0.288</td>\n                        <td id=\"T_735358d2_ad87_11eb_a39a_1e00da1e1f75row9_col11\" class=\"data row9 col11\" >0.517</td>\n                        <td id=\"T_735358d2_ad87_11eb_a39a_1e00da1e1f75row9_col12\" class=\"data row9 col12\" >0.437</td>\n            </tr>\n            <tr>\n                        <th id=\"T_735358d2_ad87_11eb_a39a_1e00da1e1f75level0_row10\" class=\"row_heading level0 row10\" >permanencia</th>\n                        <td id=\"T_735358d2_ad87_11eb_a39a_1e00da1e1f75row10_col0\" class=\"data row10 col0\" >0.003</td>\n                        <td id=\"T_735358d2_ad87_11eb_a39a_1e00da1e1f75row10_col1\" class=\"data row10 col1\" >0.031</td>\n                        <td id=\"T_735358d2_ad87_11eb_a39a_1e00da1e1f75row10_col2\" class=\"data row10 col2\" >0.230</td>\n                        <td id=\"T_735358d2_ad87_11eb_a39a_1e00da1e1f75row10_col3\" class=\"data row10 col3\" >0.170</td>\n                        <td id=\"T_735358d2_ad87_11eb_a39a_1e00da1e1f75row10_col4\" class=\"data row10 col4\" >0.023</td>\n                        <td id=\"T_735358d2_ad87_11eb_a39a_1e00da1e1f75row10_col5\" class=\"data row10 col5\" >-0.004</td>\n                        <td id=\"T_735358d2_ad87_11eb_a39a_1e00da1e1f75row10_col6\" class=\"data row10 col6\" >0.274</td>\n                        <td id=\"T_735358d2_ad87_11eb_a39a_1e00da1e1f75row10_col7\" class=\"data row10 col7\" >0.255</td>\n                        <td id=\"T_735358d2_ad87_11eb_a39a_1e00da1e1f75row10_col8\" class=\"data row10 col8\" >0.074</td>\n                        <td id=\"T_735358d2_ad87_11eb_a39a_1e00da1e1f75row10_col9\" class=\"data row10 col9\" >0.288</td>\n                        <td id=\"T_735358d2_ad87_11eb_a39a_1e00da1e1f75row10_col10\" class=\"data row10 col10\" >1.000</td>\n                        <td id=\"T_735358d2_ad87_11eb_a39a_1e00da1e1f75row10_col11\" class=\"data row10 col11\" >0.495</td>\n                        <td id=\"T_735358d2_ad87_11eb_a39a_1e00da1e1f75row10_col12\" class=\"data row10 col12\" >0.488</td>\n            </tr>\n            <tr>\n                        <th id=\"T_735358d2_ad87_11eb_a39a_1e00da1e1f75level0_row11\" class=\"row_heading level0 row11\" >total_products</th>\n                        <td id=\"T_735358d2_ad87_11eb_a39a_1e00da1e1f75row11_col0\" class=\"data row11 col0\" >-0.008</td>\n                        <td id=\"T_735358d2_ad87_11eb_a39a_1e00da1e1f75row11_col1\" class=\"data row11 col1\" >0.018</td>\n                        <td id=\"T_735358d2_ad87_11eb_a39a_1e00da1e1f75row11_col2\" class=\"data row11 col2\" >0.547</td>\n                        <td id=\"T_735358d2_ad87_11eb_a39a_1e00da1e1f75row11_col3\" class=\"data row11 col3\" >0.233</td>\n                        <td id=\"T_735358d2_ad87_11eb_a39a_1e00da1e1f75row11_col4\" class=\"data row11 col4\" >-0.017</td>\n                        <td id=\"T_735358d2_ad87_11eb_a39a_1e00da1e1f75row11_col5\" class=\"data row11 col5\" >-0.007</td>\n                        <td id=\"T_735358d2_ad87_11eb_a39a_1e00da1e1f75row11_col6\" class=\"data row11 col6\" >0.465</td>\n                        <td id=\"T_735358d2_ad87_11eb_a39a_1e00da1e1f75row11_col7\" class=\"data row11 col7\" >0.405</td>\n                        <td id=\"T_735358d2_ad87_11eb_a39a_1e00da1e1f75row11_col8\" class=\"data row11 col8\" >0.196</td>\n                        <td id=\"T_735358d2_ad87_11eb_a39a_1e00da1e1f75row11_col9\" class=\"data row11 col9\" >0.517</td>\n                        <td id=\"T_735358d2_ad87_11eb_a39a_1e00da1e1f75row11_col10\" class=\"data row11 col10\" >0.495</td>\n                        <td id=\"T_735358d2_ad87_11eb_a39a_1e00da1e1f75row11_col11\" class=\"data row11 col11\" >1.000</td>\n                        <td id=\"T_735358d2_ad87_11eb_a39a_1e00da1e1f75row11_col12\" class=\"data row11 col12\" >0.579</td>\n            </tr>\n            <tr>\n                        <th id=\"T_735358d2_ad87_11eb_a39a_1e00da1e1f75level0_row12\" class=\"row_heading level0 row12\" >bajas</th>\n                        <td id=\"T_735358d2_ad87_11eb_a39a_1e00da1e1f75row12_col0\" class=\"data row12 col0\" >0.001</td>\n                        <td id=\"T_735358d2_ad87_11eb_a39a_1e00da1e1f75row12_col1\" class=\"data row12 col1\" >0.017</td>\n                        <td id=\"T_735358d2_ad87_11eb_a39a_1e00da1e1f75row12_col2\" class=\"data row12 col2\" >0.293</td>\n                        <td id=\"T_735358d2_ad87_11eb_a39a_1e00da1e1f75row12_col3\" class=\"data row12 col3\" >0.135</td>\n                        <td id=\"T_735358d2_ad87_11eb_a39a_1e00da1e1f75row12_col4\" class=\"data row12 col4\" >0.019</td>\n                        <td id=\"T_735358d2_ad87_11eb_a39a_1e00da1e1f75row12_col5\" class=\"data row12 col5\" >-0.002</td>\n                        <td id=\"T_735358d2_ad87_11eb_a39a_1e00da1e1f75row12_col6\" class=\"data row12 col6\" >0.437</td>\n                        <td id=\"T_735358d2_ad87_11eb_a39a_1e00da1e1f75row12_col7\" class=\"data row12 col7\" >0.414</td>\n                        <td id=\"T_735358d2_ad87_11eb_a39a_1e00da1e1f75row12_col8\" class=\"data row12 col8\" >0.075</td>\n                        <td id=\"T_735358d2_ad87_11eb_a39a_1e00da1e1f75row12_col9\" class=\"data row12 col9\" >0.437</td>\n                        <td id=\"T_735358d2_ad87_11eb_a39a_1e00da1e1f75row12_col10\" class=\"data row12 col10\" >0.488</td>\n                        <td id=\"T_735358d2_ad87_11eb_a39a_1e00da1e1f75row12_col11\" class=\"data row12 col11\" >0.579</td>\n                        <td id=\"T_735358d2_ad87_11eb_a39a_1e00da1e1f75row12_col12\" class=\"data row12 col12\" >1.000</td>\n            </tr>\n    </tbody></table>",
      "text/plain": "<pandas.io.formats.style.Styler at 0x7fc56a8300d0>"
     },
     "execution_count": 472,
     "metadata": {},
     "output_type": "execute_result"
    }
   ],
   "source": [
    "show_columns = df.columns.to_list()\n",
    "show_columns.remove('pk_cid')\n",
    "show_columns.remove('payroll')\n",
    "\n",
    "show_columns.remove('ahorros_bajas')\n",
    "show_columns.remove('financiacion_bajas')\n",
    "show_columns.remove('cuenta_bajas')\n",
    "\n",
    "show_columns.remove('ahorros_altas')\n",
    "show_columns.remove('financiacion_altas')\n",
    "show_columns.remove('cuenta_altas')\n",
    "\n",
    "print(len(show_columns))\n",
    "\n",
    "corr = df[show_columns].corr()\n",
    "corr.style.background_gradient(cmap='coolwarm').set_precision(3)"
   ]
  },
  {
   "cell_type": "code",
   "execution_count": 473,
   "metadata": {},
   "outputs": [
    {
     "data": {
      "text/plain": "Index(['pk_cid', 'salary', 'deceased', 'active_customer', 'age', 'region_code',\n       'country_id', 'payroll', 'ahorros_altas', 'ahorros_bajas',\n       'ahorros_cobros', 'financiacion_altas', 'financiacion_bajas',\n       'financiacion_cobros', 'cuenta_altas', 'cuenta_bajas', 'cuenta_cobros',\n       'gastado', 'permanencia', 'total_products', 'bajas'],\n      dtype='object')"
     },
     "execution_count": 473,
     "metadata": {},
     "output_type": "execute_result"
    }
   ],
   "source": [
    "df.columns"
   ]
  },
  {
   "cell_type": "code",
   "execution_count": null,
   "metadata": {},
   "outputs": [],
   "source": [
    "#prod = list_products[0]\n",
    "\n",
    "#df[prod+'_altas'] = df_whole.groupby('pk_cid')[prod].agg(determinar_altas)\n",
    "#df[prod+'_bajas'] = df_whole.groupby('pk_cid')[prod].agg(determinar_bajas)"
   ]
  },
  {
   "cell_type": "code",
   "execution_count": null,
   "metadata": {},
   "outputs": [
    {
     "data": {
      "text/html": "<div>\n<style scoped>\n    .dataframe tbody tr th:only-of-type {\n        vertical-align: middle;\n    }\n\n    .dataframe tbody tr th {\n        vertical-align: top;\n    }\n\n    .dataframe thead th {\n        text-align: right;\n    }\n</style>\n<table border=\"1\" class=\"dataframe\">\n  <thead>\n    <tr style=\"text-align: right;\">\n      <th></th>\n      <th>pk_cid</th>\n      <th>salary</th>\n      <th>deceased</th>\n      <th>active_customer</th>\n      <th>age</th>\n      <th>region_code</th>\n      <th>country_id</th>\n      <th>payroll</th>\n      <th>ahorro e inversión_altas</th>\n      <th>ahorro e inversión_bajas</th>\n      <th>ahorro e inversión_cobros</th>\n      <th>financiación_altas</th>\n      <th>financiación_bajas</th>\n      <th>financiación_cobros</th>\n      <th>cuenta_altas</th>\n      <th>cuenta_bajas</th>\n      <th>cuenta_cobros</th>\n      <th>gastado</th>\n      <th>permanencia</th>\n      <th>total_products</th>\n    </tr>\n  </thead>\n  <tbody>\n    <tr>\n      <th>0</th>\n      <td>15891</td>\n      <td>NaN</td>\n      <td>0</td>\n      <td>0.0</td>\n      <td>59</td>\n      <td>True</td>\n      <td>True</td>\n      <td>0</td>\n      <td>0</td>\n      <td>0</td>\n      <td>0</td>\n      <td>0</td>\n      <td>0</td>\n      <td>0</td>\n      <td>1</td>\n      <td>1</td>\n      <td>0</td>\n      <td>0</td>\n      <td>1.0</td>\n      <td>1</td>\n    </tr>\n    <tr>\n      <th>1</th>\n      <td>16063</td>\n      <td>NaN</td>\n      <td>0</td>\n      <td>0.0</td>\n      <td>62</td>\n      <td>True</td>\n      <td>True</td>\n      <td>0</td>\n      <td>0</td>\n      <td>0</td>\n      <td>0</td>\n      <td>0</td>\n      <td>0</td>\n      <td>0</td>\n      <td>0</td>\n      <td>0</td>\n      <td>0</td>\n      <td>0</td>\n      <td>0.0</td>\n      <td>0</td>\n    </tr>\n    <tr>\n      <th>2</th>\n      <td>16203</td>\n      <td>NaN</td>\n      <td>0</td>\n      <td>1.0</td>\n      <td>70</td>\n      <td>True</td>\n      <td>True</td>\n      <td>0</td>\n      <td>0</td>\n      <td>0</td>\n      <td>0</td>\n      <td>0</td>\n      <td>0</td>\n      <td>0</td>\n      <td>1</td>\n      <td>0</td>\n      <td>1</td>\n      <td>10</td>\n      <td>0.0</td>\n      <td>1</td>\n    </tr>\n    <tr>\n      <th>3</th>\n      <td>16502</td>\n      <td>NaN</td>\n      <td>0</td>\n      <td>1.0</td>\n      <td>58</td>\n      <td>True</td>\n      <td>True</td>\n      <td>0</td>\n      <td>0</td>\n      <td>0</td>\n      <td>0</td>\n      <td>0</td>\n      <td>0</td>\n      <td>0</td>\n      <td>1</td>\n      <td>0</td>\n      <td>1</td>\n      <td>10</td>\n      <td>0.0</td>\n      <td>2</td>\n    </tr>\n    <tr>\n      <th>4</th>\n      <td>17457</td>\n      <td>102405.75</td>\n      <td>0</td>\n      <td>1.0</td>\n      <td>54</td>\n      <td>True</td>\n      <td>True</td>\n      <td>0</td>\n      <td>0</td>\n      <td>0</td>\n      <td>0</td>\n      <td>5</td>\n      <td>4</td>\n      <td>0</td>\n      <td>0</td>\n      <td>0</td>\n      <td>0</td>\n      <td>0</td>\n      <td>5.0</td>\n      <td>3</td>\n    </tr>\n  </tbody>\n</table>\n</div>",
      "text/plain": "   pk_cid     salary  deceased  active_customer  age  region_code  country_id  \\\n0   15891        NaN         0              0.0   59         True        True   \n1   16063        NaN         0              0.0   62         True        True   \n2   16203        NaN         0              1.0   70         True        True   \n3   16502        NaN         0              1.0   58         True        True   \n4   17457  102405.75         0              1.0   54         True        True   \n\n   payroll  ahorro e inversión_altas  ahorro e inversión_bajas  \\\n0        0                         0                         0   \n1        0                         0                         0   \n2        0                         0                         0   \n3        0                         0                         0   \n4        0                         0                         0   \n\n   ahorro e inversión_cobros  financiación_altas  financiación_bajas  \\\n0                          0                   0                   0   \n1                          0                   0                   0   \n2                          0                   0                   0   \n3                          0                   0                   0   \n4                          0                   5                   4   \n\n   financiación_cobros  cuenta_altas  cuenta_bajas  cuenta_cobros  gastado  \\\n0                    0             1             1              0        0   \n1                    0             0             0              0        0   \n2                    0             1             0              1       10   \n3                    0             1             0              1       10   \n4                    0             0             0              0        0   \n\n   permanencia  total_products  \n0          1.0               1  \n1          0.0               0  \n2          0.0               1  \n3          0.0               2  \n4          5.0               3  "
     },
     "execution_count": 387,
     "metadata": {},
     "output_type": "execute_result"
    }
   ],
   "source": [
    "df.head()"
   ]
  },
  {
   "cell_type": "code",
   "execution_count": null,
   "metadata": {},
   "outputs": [],
   "source": []
  }
 ],
 "metadata": {
  "kernelspec": {
   "display_name": "Python 3.8.5 64-bit ('base': conda)",
   "name": "python385jvsc74a57bd01f1ade11a66f379951eb785ed5ab9940defd282e53b6a037182efca5c962c31b"
  },
  "language_info": {
   "codemirror_mode": {
    "name": "ipython",
    "version": 3
   },
   "file_extension": ".py",
   "mimetype": "text/x-python",
   "name": "python",
   "nbconvert_exporter": "python",
   "pygments_lexer": "ipython3",
   "version": "3.8.5"
  },
  "metadata": {
   "interpreter": {
    "hash": "1f1ade11a66f379951eb785ed5ab9940defd282e53b6a037182efca5c962c31b"
   }
  },
  "orig_nbformat": 2
 },
 "nbformat": 4,
 "nbformat_minor": 2
}