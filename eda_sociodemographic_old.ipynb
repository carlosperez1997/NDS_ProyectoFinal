{
 "cells": [
  {
   "cell_type": "markdown",
   "metadata": {},
   "source": [
    "## Sociodemographic\n",
    "\n",
    "El dataset 'sociodemographic_df' contiene las siguientes variables:\n",
    "- **pk_cid** (int64) \n",
    "\n",
    "Identificador de cliente\n",
    "- **pk_partition** (object)\n",
    "\n",
    "Fecha de ingesta de los datos\n",
    "- **country_id** (object)\n",
    "\n",
    "País de residencia del cliente\n",
    "- **region_code** (float64)\n",
    "\n",
    "Provincia de residencia del cliente (para ES)\n",
    "- **gender** (object)\n",
    "\n",
    "Sexo del cliente\n",
    "- **age** (int64) \n",
    "\n",
    "Edad del cliente\n",
    "- **deceased** (object)\n",
    "\n",
    "Deceased index. N/S\n",
    "- **salary** (float64)\n",
    "\n",
    "Ingresos brutos de la unidad familiar"
   ]
  },
  {
   "cell_type": "code",
   "execution_count": 3,
   "metadata": {},
   "outputs": [],
   "source": [
    "import numpy as np \n",
    "import pandas as pd\n",
    "import matplotlib.pyplot as plt \n",
    "import seaborn as sns\n",
    "\n",
    "import os\n",
    "\n",
    "pd.options.display.float_format = '{:,.2f}'.format"
   ]
  },
  {
   "cell_type": "code",
   "execution_count": 4,
   "metadata": {},
   "outputs": [],
   "source": [
    "def df_description(df):\n",
    "    \"\"\" df_description: returns a briefly description of the variables in a dataframe\n",
    "        input: \n",
    "            - df : dataframe\n",
    "        output:\n",
    "            - None (prints information on the terminal)\n",
    "    \"\"\"\n",
    "    display(df.head().T)\n",
    "\n",
    "    print('\\n\\n Dataframe info: \\n')\n",
    "    display(df.info(verbose=True))\n",
    "\n",
    "    print('\\n\\n Dataframe description: ')\n",
    "    display(df.describe(include='all').T)  \n",
    "    return None\n",
    "\n",
    "\n",
    "def df_nulls(df):\n",
    "    \"\"\" df_nulls: returns the columns with nulls, and the number of columns in each column\n",
    "        input:\n",
    "            - df : dataframe\n",
    "        output:\n",
    "            - None (prints information on the terminal)\n",
    "    \"\"\"\n",
    "    print('Columns with nulls: \\n')\n",
    "    display(df.isnull().any())\n",
    "\n",
    "    print('\\n \\n Number of nulls in each column:')\n",
    "    display(df.isnull().sum())\n",
    "\n",
    "    return None "
   ]
  },
  {
   "cell_type": "code",
   "execution_count": 6,
   "metadata": {},
   "outputs": [
    {
     "data": {
      "text/html": "<div>\n<style scoped>\n    .dataframe tbody tr th:only-of-type {\n        vertical-align: middle;\n    }\n\n    .dataframe tbody tr th {\n        vertical-align: top;\n    }\n\n    .dataframe thead th {\n        text-align: right;\n    }\n</style>\n<table border=\"1\" class=\"dataframe\">\n  <thead>\n    <tr style=\"text-align: right;\">\n      <th></th>\n      <th>0</th>\n      <th>1</th>\n      <th>2</th>\n      <th>3</th>\n      <th>4</th>\n    </tr>\n  </thead>\n  <tbody>\n    <tr>\n      <th>pk_cid</th>\n      <td>1375586</td>\n      <td>1050611</td>\n      <td>1050612</td>\n      <td>1050613</td>\n      <td>1050614</td>\n    </tr>\n    <tr>\n      <th>pk_partition</th>\n      <td>2018-01-28</td>\n      <td>2018-01-28</td>\n      <td>2018-01-28</td>\n      <td>2018-01-28</td>\n      <td>2018-01-28</td>\n    </tr>\n    <tr>\n      <th>country_id</th>\n      <td>ES</td>\n      <td>ES</td>\n      <td>ES</td>\n      <td>ES</td>\n      <td>ES</td>\n    </tr>\n    <tr>\n      <th>region_code</th>\n      <td>29.00</td>\n      <td>13.00</td>\n      <td>13.00</td>\n      <td>50.00</td>\n      <td>50.00</td>\n    </tr>\n    <tr>\n      <th>gender</th>\n      <td>H</td>\n      <td>V</td>\n      <td>V</td>\n      <td>H</td>\n      <td>V</td>\n    </tr>\n    <tr>\n      <th>age</th>\n      <td>35</td>\n      <td>23</td>\n      <td>23</td>\n      <td>22</td>\n      <td>23</td>\n    </tr>\n    <tr>\n      <th>deceased</th>\n      <td>N</td>\n      <td>N</td>\n      <td>N</td>\n      <td>N</td>\n      <td>N</td>\n    </tr>\n    <tr>\n      <th>salary</th>\n      <td>87,218.10</td>\n      <td>35,548.74</td>\n      <td>122,179.11</td>\n      <td>119,775.54</td>\n      <td>NaN</td>\n    </tr>\n  </tbody>\n</table>\n</div>",
      "text/plain": "                       0           1           2           3           4\npk_cid           1375586     1050611     1050612     1050613     1050614\npk_partition  2018-01-28  2018-01-28  2018-01-28  2018-01-28  2018-01-28\ncountry_id            ES          ES          ES          ES          ES\nregion_code        29.00       13.00       13.00       50.00       50.00\ngender                 H           V           V           H           V\nage                   35          23          23          22          23\ndeceased               N           N           N           N           N\nsalary         87,218.10   35,548.74  122,179.11  119,775.54         NaN"
     },
     "metadata": {},
     "output_type": "display_data"
    },
    {
     "name": "stdout",
     "output_type": "stream",
     "text": [
      "\n",
      "\n",
      " Dataframe info: \n",
      "\n",
      "<class 'pandas.core.frame.DataFrame'>\n",
      "RangeIndex: 5962924 entries, 0 to 5962923\n",
      "Data columns (total 8 columns):\n",
      " #   Column        Dtype  \n",
      "---  ------        -----  \n",
      " 0   pk_cid        int64  \n",
      " 1   pk_partition  object \n",
      " 2   country_id    object \n",
      " 3   region_code   float64\n",
      " 4   gender        object \n",
      " 5   age           int64  \n",
      " 6   deceased      object \n",
      " 7   salary        float64\n",
      "dtypes: float64(2), int64(2), object(4)\n",
      "memory usage: 363.9+ MB\n"
     ]
    },
    {
     "data": {
      "text/plain": "None"
     },
     "metadata": {},
     "output_type": "display_data"
    },
    {
     "name": "stdout",
     "output_type": "stream",
     "text": [
      "\n",
      "\n",
      " Dataframe description: \n"
     ]
    },
    {
     "data": {
      "text/html": "<div>\n<style scoped>\n    .dataframe tbody tr th:only-of-type {\n        vertical-align: middle;\n    }\n\n    .dataframe tbody tr th {\n        vertical-align: top;\n    }\n\n    .dataframe thead th {\n        text-align: right;\n    }\n</style>\n<table border=\"1\" class=\"dataframe\">\n  <thead>\n    <tr style=\"text-align: right;\">\n      <th></th>\n      <th>count</th>\n      <th>unique</th>\n      <th>top</th>\n      <th>freq</th>\n      <th>mean</th>\n      <th>std</th>\n      <th>min</th>\n      <th>25%</th>\n      <th>50%</th>\n      <th>75%</th>\n      <th>max</th>\n    </tr>\n  </thead>\n  <tbody>\n    <tr>\n      <th>pk_cid</th>\n      <td>5,962,924.00</td>\n      <td>NaN</td>\n      <td>NaN</td>\n      <td>NaN</td>\n      <td>1,234,929.80</td>\n      <td>162,302.04</td>\n      <td>15,891.00</td>\n      <td>1,112,532.00</td>\n      <td>1,231,097.00</td>\n      <td>1,352,339.00</td>\n      <td>1,553,689.00</td>\n    </tr>\n    <tr>\n      <th>pk_partition</th>\n      <td>5962924</td>\n      <td>17</td>\n      <td>2019-05-28</td>\n      <td>442995</td>\n      <td>NaN</td>\n      <td>NaN</td>\n      <td>NaN</td>\n      <td>NaN</td>\n      <td>NaN</td>\n      <td>NaN</td>\n      <td>NaN</td>\n    </tr>\n    <tr>\n      <th>country_id</th>\n      <td>5962924</td>\n      <td>41</td>\n      <td>ES</td>\n      <td>5960672</td>\n      <td>NaN</td>\n      <td>NaN</td>\n      <td>NaN</td>\n      <td>NaN</td>\n      <td>NaN</td>\n      <td>NaN</td>\n      <td>NaN</td>\n    </tr>\n    <tr>\n      <th>region_code</th>\n      <td>5,960,660.00</td>\n      <td>NaN</td>\n      <td>NaN</td>\n      <td>NaN</td>\n      <td>25.81</td>\n      <td>13.60</td>\n      <td>1.00</td>\n      <td>13.00</td>\n      <td>28.00</td>\n      <td>36.00</td>\n      <td>52.00</td>\n    </tr>\n    <tr>\n      <th>gender</th>\n      <td>5962899</td>\n      <td>2</td>\n      <td>H</td>\n      <td>3087502</td>\n      <td>NaN</td>\n      <td>NaN</td>\n      <td>NaN</td>\n      <td>NaN</td>\n      <td>NaN</td>\n      <td>NaN</td>\n      <td>NaN</td>\n    </tr>\n    <tr>\n      <th>age</th>\n      <td>5,962,924.00</td>\n      <td>NaN</td>\n      <td>NaN</td>\n      <td>NaN</td>\n      <td>29.76</td>\n      <td>11.98</td>\n      <td>2.00</td>\n      <td>22.00</td>\n      <td>25.00</td>\n      <td>34.00</td>\n      <td>105.00</td>\n    </tr>\n    <tr>\n      <th>deceased</th>\n      <td>5962924</td>\n      <td>2</td>\n      <td>N</td>\n      <td>5961849</td>\n      <td>NaN</td>\n      <td>NaN</td>\n      <td>NaN</td>\n      <td>NaN</td>\n      <td>NaN</td>\n      <td>NaN</td>\n      <td>NaN</td>\n    </tr>\n    <tr>\n      <th>salary</th>\n      <td>4,450,821.00</td>\n      <td>NaN</td>\n      <td>NaN</td>\n      <td>NaN</td>\n      <td>115,816.72</td>\n      <td>199,551.89</td>\n      <td>1,202.73</td>\n      <td>61,500.63</td>\n      <td>88,654.65</td>\n      <td>131,669.91</td>\n      <td>28,894,395.51</td>\n    </tr>\n  </tbody>\n</table>\n</div>",
      "text/plain": "                    count unique         top     freq         mean        std  \\\npk_cid       5,962,924.00    NaN         NaN      NaN 1,234,929.80 162,302.04   \npk_partition      5962924     17  2019-05-28   442995          NaN        NaN   \ncountry_id        5962924     41          ES  5960672          NaN        NaN   \nregion_code  5,960,660.00    NaN         NaN      NaN        25.81      13.60   \ngender            5962899      2           H  3087502          NaN        NaN   \nage          5,962,924.00    NaN         NaN      NaN        29.76      11.98   \ndeceased          5962924      2           N  5961849          NaN        NaN   \nsalary       4,450,821.00    NaN         NaN      NaN   115,816.72 199,551.89   \n\n                   min          25%          50%          75%           max  \npk_cid       15,891.00 1,112,532.00 1,231,097.00 1,352,339.00  1,553,689.00  \npk_partition       NaN          NaN          NaN          NaN           NaN  \ncountry_id         NaN          NaN          NaN          NaN           NaN  \nregion_code       1.00        13.00        28.00        36.00         52.00  \ngender             NaN          NaN          NaN          NaN           NaN  \nage               2.00        22.00        25.00        34.00        105.00  \ndeceased           NaN          NaN          NaN          NaN           NaN  \nsalary        1,202.73    61,500.63    88,654.65   131,669.91 28,894,395.51  "
     },
     "metadata": {},
     "output_type": "display_data"
    }
   ],
   "source": [
    "dir_path = '/content/drive/MyDrive/Nuclio Data Science - Proyecto Final/data/'\n",
    "dir_path = '/Users/carlosperezricardo/Documents/data/'\n",
    "\n",
    "sociodemographic = pd.read_csv(dir_path+'sociodemographic_df.csv', encoding='utf-8')\n",
    "sociodemographic.drop(columns=['Unnamed: 0'], inplace=True)\n",
    "\n",
    "df_description(sociodemographic)"
   ]
  },
  {
   "cell_type": "code",
   "execution_count": 8,
   "metadata": {},
   "outputs": [
    {
     "data": {
      "image/png": "[encoded data removed]",
      "text/plain": "<Figure size 432x288 with 1 Axes>"
     },
     "metadata": {
      "needs_background": "light"
     },
     "output_type": "display_data"
    }
   ],
   "source": [
    "partitions = sociodemographic['pk_partition'].unique()\n",
    "partitions = sorted(partitions)\n",
    "\n",
    "partitions_valuecounts = sociodemographic['pk_partition'].value_counts()\n",
    "\n",
    "fig, ax = plt.subplots()\n",
    "ax.barh(partitions_valuecounts.index, partitions_valuecounts[:])\n",
    "plt.show()"
   ]
  },
  {
   "cell_type": "code",
   "execution_count": 9,
   "metadata": {},
   "outputs": [
    {
     "data": {
      "text/html": "<div>\n<style scoped>\n    .dataframe tbody tr th:only-of-type {\n        vertical-align: middle;\n    }\n\n    .dataframe tbody tr th {\n        vertical-align: top;\n    }\n\n    .dataframe thead th {\n        text-align: right;\n    }\n</style>\n<table border=\"1\" class=\"dataframe\">\n  <thead>\n    <tr style=\"text-align: right;\">\n      <th></th>\n      <th>5519929</th>\n      <th>5519930</th>\n      <th>5519931</th>\n      <th>5519932</th>\n      <th>5519933</th>\n    </tr>\n  </thead>\n  <tbody>\n    <tr>\n      <th>pk_cid</th>\n      <td>657826</td>\n      <td>657817</td>\n      <td>657986</td>\n      <td>657905</td>\n      <td>657336</td>\n    </tr>\n    <tr>\n      <th>pk_partition</th>\n      <td>2019-05-28</td>\n      <td>2019-05-28</td>\n      <td>2019-05-28</td>\n      <td>2019-05-28</td>\n      <td>2019-05-28</td>\n    </tr>\n    <tr>\n      <th>country_id</th>\n      <td>ES</td>\n      <td>ES</td>\n      <td>ES</td>\n      <td>ES</td>\n      <td>ES</td>\n    </tr>\n    <tr>\n      <th>region_code</th>\n      <td>25.00</td>\n      <td>8.00</td>\n      <td>41.00</td>\n      <td>28.00</td>\n      <td>28.00</td>\n    </tr>\n    <tr>\n      <th>gender</th>\n      <td>H</td>\n      <td>V</td>\n      <td>H</td>\n      <td>H</td>\n      <td>V</td>\n    </tr>\n    <tr>\n      <th>age</th>\n      <td>44</td>\n      <td>32</td>\n      <td>39</td>\n      <td>85</td>\n      <td>38</td>\n    </tr>\n    <tr>\n      <th>deceased</th>\n      <td>N</td>\n      <td>N</td>\n      <td>N</td>\n      <td>N</td>\n      <td>N</td>\n    </tr>\n    <tr>\n      <th>salary</th>\n      <td>54,493.38</td>\n      <td>NaN</td>\n      <td>100,993.17</td>\n      <td>154,059.09</td>\n      <td>NaN</td>\n    </tr>\n  </tbody>\n</table>\n</div>",
      "text/plain": "                 5519929     5519930     5519931     5519932     5519933\npk_cid            657826      657817      657986      657905      657336\npk_partition  2019-05-28  2019-05-28  2019-05-28  2019-05-28  2019-05-28\ncountry_id            ES          ES          ES          ES          ES\nregion_code        25.00        8.00       41.00       28.00       28.00\ngender                 H           V           H           H           V\nage                   44          32          39          85          38\ndeceased               N           N           N           N           N\nsalary         54,493.38         NaN  100,993.17  154,059.09         NaN"
     },
     "metadata": {},
     "output_type": "display_data"
    },
    {
     "name": "stdout",
     "output_type": "stream",
     "text": [
      "\n",
      "\n",
      " Dataframe info: \n",
      "\n",
      "<class 'pandas.core.frame.DataFrame'>\n",
      "Int64Index: 442995 entries, 5519929 to 5962923\n",
      "Data columns (total 8 columns):\n",
      " #   Column        Non-Null Count   Dtype  \n",
      "---  ------        --------------   -----  \n",
      " 0   pk_cid        442995 non-null  int64  \n",
      " 1   pk_partition  442995 non-null  object \n",
      " 2   country_id    442995 non-null  object \n",
      " 3   region_code   442833 non-null  float64\n",
      " 4   gender        442993 non-null  object \n",
      " 5   age           442995 non-null  int64  \n",
      " 6   deceased      442995 non-null  object \n",
      " 7   salary        295284 non-null  float64\n",
      "dtypes: float64(2), int64(2), object(4)\n",
      "memory usage: 30.4+ MB\n"
     ]
    },
    {
     "data": {
      "text/plain": "None"
     },
     "metadata": {},
     "output_type": "display_data"
    },
    {
     "name": "stdout",
     "output_type": "stream",
     "text": [
      "\n",
      "\n",
      " Dataframe description: \n"
     ]
    },
    {
     "data": {
      "text/html": "<div>\n<style scoped>\n    .dataframe tbody tr th:only-of-type {\n        vertical-align: middle;\n    }\n\n    .dataframe tbody tr th {\n        vertical-align: top;\n    }\n\n    .dataframe thead th {\n        text-align: right;\n    }\n</style>\n<table border=\"1\" class=\"dataframe\">\n  <thead>\n    <tr style=\"text-align: right;\">\n      <th></th>\n      <th>count</th>\n      <th>unique</th>\n      <th>top</th>\n      <th>freq</th>\n      <th>mean</th>\n      <th>std</th>\n      <th>min</th>\n      <th>25%</th>\n      <th>50%</th>\n      <th>75%</th>\n      <th>max</th>\n    </tr>\n  </thead>\n  <tbody>\n    <tr>\n      <th>pk_cid</th>\n      <td>442,995.00</td>\n      <td>NaN</td>\n      <td>NaN</td>\n      <td>NaN</td>\n      <td>1,271,884.97</td>\n      <td>177,957.39</td>\n      <td>16,063.00</td>\n      <td>1,141,604.50</td>\n      <td>1,280,164.00</td>\n      <td>1,419,055.50</td>\n      <td>1,553,689.00</td>\n    </tr>\n    <tr>\n      <th>pk_partition</th>\n      <td>442995</td>\n      <td>1</td>\n      <td>2019-05-28</td>\n      <td>442995</td>\n      <td>NaN</td>\n      <td>NaN</td>\n      <td>NaN</td>\n      <td>NaN</td>\n      <td>NaN</td>\n      <td>NaN</td>\n      <td>NaN</td>\n    </tr>\n    <tr>\n      <th>country_id</th>\n      <td>442995</td>\n      <td>41</td>\n      <td>ES</td>\n      <td>442833</td>\n      <td>NaN</td>\n      <td>NaN</td>\n      <td>NaN</td>\n      <td>NaN</td>\n      <td>NaN</td>\n      <td>NaN</td>\n      <td>NaN</td>\n    </tr>\n    <tr>\n      <th>region_code</th>\n      <td>442,833.00</td>\n      <td>NaN</td>\n      <td>NaN</td>\n      <td>NaN</td>\n      <td>25.88</td>\n      <td>13.54</td>\n      <td>1.00</td>\n      <td>13.00</td>\n      <td>28.00</td>\n      <td>36.00</td>\n      <td>52.00</td>\n    </tr>\n    <tr>\n      <th>gender</th>\n      <td>442993</td>\n      <td>2</td>\n      <td>H</td>\n      <td>227684</td>\n      <td>NaN</td>\n      <td>NaN</td>\n      <td>NaN</td>\n      <td>NaN</td>\n      <td>NaN</td>\n      <td>NaN</td>\n      <td>NaN</td>\n    </tr>\n    <tr>\n      <th>age</th>\n      <td>442,995.00</td>\n      <td>NaN</td>\n      <td>NaN</td>\n      <td>NaN</td>\n      <td>30.40</td>\n      <td>12.24</td>\n      <td>2.00</td>\n      <td>22.00</td>\n      <td>25.00</td>\n      <td>35.00</td>\n      <td>105.00</td>\n    </tr>\n    <tr>\n      <th>deceased</th>\n      <td>442995</td>\n      <td>2</td>\n      <td>N</td>\n      <td>442909</td>\n      <td>NaN</td>\n      <td>NaN</td>\n      <td>NaN</td>\n      <td>NaN</td>\n      <td>NaN</td>\n      <td>NaN</td>\n      <td>NaN</td>\n    </tr>\n    <tr>\n      <th>salary</th>\n      <td>295,284.00</td>\n      <td>NaN</td>\n      <td>NaN</td>\n      <td>NaN</td>\n      <td>116,674.77</td>\n      <td>206,836.38</td>\n      <td>1,202.73</td>\n      <td>61,627.71</td>\n      <td>88,979.34</td>\n      <td>132,485.89</td>\n      <td>28,894,395.51</td>\n    </tr>\n  </tbody>\n</table>\n</div>",
      "text/plain": "                  count unique         top    freq         mean        std  \\\npk_cid       442,995.00    NaN         NaN     NaN 1,271,884.97 177,957.39   \npk_partition     442995      1  2019-05-28  442995          NaN        NaN   \ncountry_id       442995     41          ES  442833          NaN        NaN   \nregion_code  442,833.00    NaN         NaN     NaN        25.88      13.54   \ngender           442993      2           H  227684          NaN        NaN   \nage          442,995.00    NaN         NaN     NaN        30.40      12.24   \ndeceased         442995      2           N  442909          NaN        NaN   \nsalary       295,284.00    NaN         NaN     NaN   116,674.77 206,836.38   \n\n                   min          25%          50%          75%           max  \npk_cid       16,063.00 1,141,604.50 1,280,164.00 1,419,055.50  1,553,689.00  \npk_partition       NaN          NaN          NaN          NaN           NaN  \ncountry_id         NaN          NaN          NaN          NaN           NaN  \nregion_code       1.00        13.00        28.00        36.00         52.00  \ngender             NaN          NaN          NaN          NaN           NaN  \nage               2.00        22.00        25.00        35.00        105.00  \ndeceased           NaN          NaN          NaN          NaN           NaN  \nsalary        1,202.73    61,627.71    88,979.34   132,485.89 28,894,395.51  "
     },
     "metadata": {},
     "output_type": "display_data"
    }
   ],
   "source": [
    "sociodemographic_df = sociodemographic[ sociodemographic['pk_partition'] == partitions[-1]]\n",
    "df_description(sociodemographic_df)"
   ]
  },
  {
   "cell_type": "code",
   "execution_count": 10,
   "metadata": {},
   "outputs": [
    {
     "data": {
      "image/png": "[encoded data removed]",
      "text/plain": "<Figure size 432x288 with 1 Axes>"
     },
     "metadata": {
      "needs_background": "light"
     },
     "output_type": "display_data"
    },
    {
     "name": "stdout",
     "output_type": "stream",
     "text": [
      "pk_cid               0\n",
      "pk_partition         0\n",
      "country_id           0\n",
      "region_code        162\n",
      "gender               2\n",
      "age                  0\n",
      "deceased             0\n",
      "salary          147711\n",
      "dtype: int64\n"
     ]
    }
   ],
   "source": [
    "sociodemographic_df.isna().sum().plot( kind=\"bar\" )\n",
    "plt.show()\n",
    "print(sociodemographic_df.isna().sum())"
   ]
  },
  {
   "cell_type": "code",
   "execution_count": 11,
   "metadata": {},
   "outputs": [
    {
     "ename": "ModuleNotFoundError",
     "evalue": "No module named 'missingno'",
     "output_type": "error",
     "traceback": [
      "\u001b[0;31m---------------------------------------------------------------------------\u001b[0m",
      "\u001b[0;31mModuleNotFoundError\u001b[0m                       Traceback (most recent call last)",
      "\u001b[0;32m<ipython-input-11-04fd529afe03>\u001b[0m in \u001b[0;36m<module>\u001b[0;34m\u001b[0m\n\u001b[0;32m----> 1\u001b[0;31m \u001b[0;32mimport\u001b[0m \u001b[0mmissingno\u001b[0m \u001b[0;32mas\u001b[0m \u001b[0mmsno\u001b[0m\u001b[0;34m\u001b[0m\u001b[0;34m\u001b[0m\u001b[0m\n\u001b[0m\u001b[1;32m      2\u001b[0m \u001b[0mmsno\u001b[0m\u001b[0;34m.\u001b[0m\u001b[0mmatrix\u001b[0m\u001b[0;34m(\u001b[0m\u001b[0msociodemographic_df\u001b[0m\u001b[0;34m)\u001b[0m\u001b[0;34m\u001b[0m\u001b[0;34m\u001b[0m\u001b[0m\n\u001b[1;32m      3\u001b[0m \u001b[0mplt\u001b[0m\u001b[0;34m.\u001b[0m\u001b[0mshow\u001b[0m\u001b[0;34m(\u001b[0m\u001b[0;34m)\u001b[0m\u001b[0;34m\u001b[0m\u001b[0;34m\u001b[0m\u001b[0m\n",
      "\u001b[0;31mModuleNotFoundError\u001b[0m: No module named 'missingno'"
     ]
    }
   ],
   "source": [
    "import missingno as msno \n",
    "msno.matrix(sociodemographic_df) \n",
    "plt.show()"
   ]
  },
  {
   "cell_type": "markdown",
   "metadata": {},
   "source": [
    "## Países"
   ]
  },
  {
   "cell_type": "code",
   "execution_count": 16,
   "metadata": {},
   "outputs": [
    {
     "data": {
      "image/png": "[encoded data removed]",
      "text/plain": "<Figure size 1152x216 with 1 Axes>"
     },
     "metadata": {
      "needs_background": "light"
     },
     "output_type": "display_data"
    }
   ],
   "source": [
    "paises = sociodemographic_df['country_id'].value_counts()\n",
    "\n",
    "fig, ax = plt.subplots(figsize=(16,3))\n",
    "ax.bar(paises.index, paises)\n",
    "plt.show()"
   ]
  },
  {
   "cell_type": "code",
   "execution_count": 14,
   "metadata": {},
   "outputs": [
    {
     "data": {
      "image/png": "[encoded data removed]",
      "text/plain": "<Figure size 1152x216 with 1 Axes>"
     },
     "metadata": {
      "needs_background": "light"
     },
     "output_type": "display_data"
    },
    {
     "name": "stdout",
     "output_type": "stream",
     "text": [
      "Existen 41 países en total\n"
     ]
    }
   ],
   "source": [
    "paises = sociodemographic_df['country_id'].value_counts()\n",
    "\n",
    "fig, ax = plt.subplots(figsize=(16,3))\n",
    "\n",
    "ax.bar(paises[1:].index, paises[1:])\n",
    "plt.show()\n",
    "\n",
    "print('Existen {} países en total'.format(len(paises.index)))"
   ]
  },
  {
   "cell_type": "code",
   "execution_count": 18,
   "metadata": {},
   "outputs": [],
   "source": [
    "paises_code = {'ES': ['ES','España'], 'GB':['EU','Gran Bretaña'], 'US':['NA','Estados Unidos'], \n",
    "    'FR':['EU','Francia'], 'CH':['EU','Suiza'], 'DE':['EU','Alemania'], 'BE':['EU','Bélgica'], \n",
    "    'BR':['SA','Brasil'], 'VE':['SA','Venezuela'], 'MX':['SA','Mexico'], 'AR':['SA','Argentina'], \n",
    "    'IE':['EU','Irlanda'], 'PL':['EU','Polonia'], 'IT':['EU','Italia'], 'AT':['EU','Austria'], \n",
    "    'SE':['EU','Suecia'], 'CL':['SA','Chile'], 'MA':['AF','Marruecos'], 'CO':['SA','Colombia'], \n",
    "    'DZ':['AF','Argelia'], 'SN':['AF','Senegal'], 'ET':['AF','Etiopia'], 'RU':['EU','Rusia'], \n",
    "    'GA':['AF','Gambia'], 'SA':['AS','Arabia Saudita'], 'MR':['AF','Mautirania'], 'HU':['EU','Hungria'], \n",
    "    'JM':['SA','Jamaica'], 'CM':['AF','Camerun'], 'CI':['AF','Costa de Marfil'], 'RO':['EU','Rumania'], \n",
    "    'PE':['SA','Perú'], 'DO':['SA','República Dominacana'], 'QA':['AS','Qatar'], 'PT':['EU','Portugal'], \n",
    "    'LU':['EU','Luxembburgo'], 'DJ':['AF','Yibuti'], 'GT':['SA','Guatemala'], 'CN':['AS','China'], \n",
    "    'NO':['EU','Noruega'], 'CA':['NA','Canada']}\n",
    "\n",
    "# https://laendercode.net/es/2-letter-code/br\n",
    "\n",
    "continente = {'ES':'España', 'EU':'Europa', 'SA':'Sur América', 'NA':'Norte América', 'AS': 'Asia', 'AF':'África'}"
   ]
  },
  {
   "cell_type": "code",
   "execution_count": 19,
   "metadata": {},
   "outputs": [
    {
     "data": {
      "image/png": "[encoded data removed]",
      "text/plain": "<Figure size 1152x216 with 1 Axes>"
     },
     "metadata": {
      "needs_background": "light"
     },
     "output_type": "display_data"
    }
   ],
   "source": [
    "pais_continente = {}\n",
    "for key, val in paises_code.items():\n",
    "    pais_continente[key] = val[0]\n",
    "\n",
    "\n",
    "paises = sociodemographic_df['country_id'].value_counts()\n",
    "paises = paises.reset_index()\n",
    "paises['continente'] = paises['index'].replace(pais_continente)\n",
    "\n",
    "continentes = paises.groupby('continente').sum()\n",
    "continentes = continentes.sort_values('country_id',ascending=False)\n",
    "\n",
    "continentes = continentes.reset_index()\n",
    "\n",
    "continentes_name = [ continente[continentes.iloc[i]['continente']] for i in range(len(continentes.index))]\n",
    "\n",
    "fig, ax = plt.subplots(figsize=(16,3))\n",
    "ax.bar( continentes_name[1:], continentes['country_id'][1:])\n",
    "plt.show()"
   ]
  },
  {
   "cell_type": "code",
   "execution_count": 20,
   "metadata": {},
   "outputs": [
    {
     "name": "stdout",
     "output_type": "stream",
     "text": [
      "El 99.963431 % de los clientes son de España.\n",
      "103 (0.023251 %) clientes son de Europa.\n",
      "27 (0.006095 %) clientes son de Sur América.\n",
      "19 (0.004289 %) clientes son de Norte América.\n",
      "10 (0.002257 %) clientes son de África.\n",
      "3 (0.000677 %) clientes son de Asia.\n"
     ]
    }
   ],
   "source": [
    "total = continentes['country_id'].sum()\n",
    "for index, row in continentes.iterrows():\n",
    "    percent = row['country_id']/total*100\n",
    "    if percent > 1:\n",
    "        print('El {:2f} % de los clientes son de {}.'.format( percent, continente[row['continente']] ))\n",
    "    else:\n",
    "        print('{} ({:2f} %) clientes son de {}.'.format( row['country_id'], percent, continente[row['continente']] ))"
   ]
  },
  {
   "cell_type": "code",
   "execution_count": 23,
   "metadata": {},
   "outputs": [],
   "source": [
    "spanish_regions_code = {1:['Álava', 'País Vasco'], 2:['Albacete', 'Castilla-La Mancha'], 3:['Alicante', 'Com. Valenciana'],4:['Almería','Andalucía'],5:['Ávila','Castilla y León'], 6:['Badajoz','Extremadura'],\t7:['Baleares','Islas Baleares'], 8:['Barcelona','Cataluña'],9:['Burgos','Castilla y León'], 10: ['Cáceres','Extremadura'], 11: ['Cádiz','Andalucía'], 12: ['Castellón','Com. Valenciana'], 13: ['Ciudad Real','Castilla-La Mancha'], 14: ['Córdoba','Andalucía'], 15: ['La Coruña','Galicia'], 16: ['Cuenca','Castilla-La Mancha'], 17: ['Gerona','Cataluña'], 18: ['Granada','Andalucía'], 19: ['Guadalajara','Castilla-La Mancha'], 20: ['Guipúzcoa','País Vasco'], 21: ['Huelva','Andalucía'], 22: ['Huesca','Aragón'], 23: ['Jaén','Andalucía'], 24: ['León','Castilla y León'], 25: ['Lérida','Cataluña'], 26: ['La Rioja','La Rioja'], 27: ['Lugo','Galicia'], 28: ['Madrid','Madrid'], 29: ['Málaga','Andalucía'], 30: ['Murcia','Murcia'], 31: ['Navarra','Com. de Navarra'], 32: ['Orense','Galicia'], 33: ['Asturias','Princ. de Asturias'], 34: ['Palencia','Castilla y León'], 35: ['Las Palmas','Islas Canarias'], 36: ['Pontevedra','Galicia'], 37: ['Salamanca','Castilla y León'], 38: ['Santa Cruz de Tenerife','Islas Canarias'], 39: ['Cantabria','Cantabria'], 40: ['Segovia','Castilla y León'], 41: ['Sevilla','Andalucía'], 42: ['Soria','Castilla y León'], 43: ['Tarragona','Cataluña'], 44: ['Teruel','Aragón'], 45: ['Toledo','Castilla-La Mancha'], 46: ['Valencia','Com. Valenciana'], 47: ['Valladolid','Castilla y León'], 48: ['Vizcaya','País Vasco'], 49: ['Zamora','Castilla y León'], 50: ['Zaragoza','Aragón'], 51: ['Ceuta','Ceuta y Melilla'], 52: ['Melilla','Ceuta y Melilla']}\n",
    "\n",
    "# https://es.wikipedia.org/wiki/Anexo:Provincias_de_Espa%C3%B1a_por_c%C3%B3digo_postal"
   ]
  },
  {
   "cell_type": "code",
   "execution_count": 24,
   "metadata": {},
   "outputs": [
    {
     "data": {
      "image/png": "[encoded data removed]",
      "text/plain": "<Figure size 720x720 with 1 Axes>"
     },
     "metadata": {
      "needs_background": "light"
     },
     "output_type": "display_data"
    }
   ],
   "source": [
    "region_comunidad = {}\n",
    "for key, val in spanish_regions_code.items():\n",
    "    region_comunidad[key] = val[1]\n",
    "\n",
    "spanish_regions = sociodemographic_df[ sociodemographic_df['country_id'] == 'ES']['region_code'].value_counts()\n",
    "spanish_regions = spanish_regions.reset_index()\n",
    "spanish_regions['comunidad'] = spanish_regions['index'].replace(region_comunidad)\n",
    "\n",
    "comunidades = spanish_regions.groupby('comunidad').sum()\n",
    "comunidades = comunidades.sort_values('region_code',ascending=True)\n",
    "comunidades = comunidades.reset_index()\n",
    "\n",
    "fig, ax = plt.subplots(figsize=(10,10))\n",
    "ax.barh(comunidades['comunidad'], comunidades['region_code'])\n",
    "plt.show()"
   ]
  },
  {
   "cell_type": "markdown",
   "metadata": {},
   "source": [
    "Como se puede observar hay muchos valores nulos en la columna *salary* (en total 147711, lo que corresponde al 33% de las filas) y también en region_code (en total 162) y gender (2 tan sólo).\n",
    "\n",
    "Para el caso del *salary* se realizará un estudio exhaustivo y se intentará imponer un valor que concuerde con las características del cliente y el rango de datos existente. Se cree que la variable *salary* podrá tendrá un gran papel en la parte de customer segmentation o predicción.   \n",
    "\n",
    "Diferentes plantamientos serán comprobados y finalmente se decidirá la mejor opción: si renunciar a las filas con los valores de *salary* nulos o introducir un valor estipulado.\n",
    "- Algunos jóvenes pueden ser clientes pero no estar trabajando aún (en estos casos, el salario debería ser 0).\n",
    "    - Si existen usuarios con menos de 16 años, su salario es 0 al no poder trabajar legalmente. \n",
    "- No se tiene información anterior del cliente o no han querido compartir esta información.\n",
    "\n",
    "Finalmente, se han realizado las siguientes acciones:\n",
    "- **Usuarios menores de 16 años.** Para los 6002 clientes con salario NaN siendo menores de 16 años, se ha impuesto como *salary* cero."
   ]
  },
  {
   "cell_type": "code",
   "execution_count": 25,
   "metadata": {},
   "outputs": [
    {
     "data": {
      "text/html": "<div>\n<style scoped>\n    .dataframe tbody tr th:only-of-type {\n        vertical-align: middle;\n    }\n\n    .dataframe tbody tr th {\n        vertical-align: top;\n    }\n\n    .dataframe thead th {\n        text-align: right;\n    }\n</style>\n<table border=\"1\" class=\"dataframe\">\n  <thead>\n    <tr style=\"text-align: right;\">\n      <th></th>\n      <th>5519930</th>\n      <th>5519933</th>\n      <th>5519937</th>\n      <th>5519943</th>\n      <th>5519944</th>\n    </tr>\n  </thead>\n  <tbody>\n    <tr>\n      <th>pk_cid</th>\n      <td>657817</td>\n      <td>657336</td>\n      <td>655774</td>\n      <td>656215</td>\n      <td>656613</td>\n    </tr>\n    <tr>\n      <th>pk_partition</th>\n      <td>2019-05-28</td>\n      <td>2019-05-28</td>\n      <td>2019-05-28</td>\n      <td>2019-05-28</td>\n      <td>2019-05-28</td>\n    </tr>\n    <tr>\n      <th>country_id</th>\n      <td>ES</td>\n      <td>ES</td>\n      <td>ES</td>\n      <td>ES</td>\n      <td>ES</td>\n    </tr>\n    <tr>\n      <th>region_code</th>\n      <td>8.00</td>\n      <td>28.00</td>\n      <td>15.00</td>\n      <td>28.00</td>\n      <td>8.00</td>\n    </tr>\n    <tr>\n      <th>gender</th>\n      <td>V</td>\n      <td>V</td>\n      <td>H</td>\n      <td>V</td>\n      <td>H</td>\n    </tr>\n    <tr>\n      <th>age</th>\n      <td>32</td>\n      <td>38</td>\n      <td>37</td>\n      <td>38</td>\n      <td>45</td>\n    </tr>\n    <tr>\n      <th>deceased</th>\n      <td>N</td>\n      <td>N</td>\n      <td>N</td>\n      <td>N</td>\n      <td>N</td>\n    </tr>\n    <tr>\n      <th>salary</th>\n      <td>NaN</td>\n      <td>NaN</td>\n      <td>NaN</td>\n      <td>NaN</td>\n      <td>NaN</td>\n    </tr>\n  </tbody>\n</table>\n</div>",
      "text/plain": "                 5519930     5519933     5519937     5519943     5519944\npk_cid            657817      657336      655774      656215      656613\npk_partition  2019-05-28  2019-05-28  2019-05-28  2019-05-28  2019-05-28\ncountry_id            ES          ES          ES          ES          ES\nregion_code         8.00       28.00       15.00       28.00        8.00\ngender                 V           V           H           V           H\nage                   32          38          37          38          45\ndeceased               N           N           N           N           N\nsalary               NaN         NaN         NaN         NaN         NaN"
     },
     "metadata": {},
     "output_type": "display_data"
    },
    {
     "name": "stdout",
     "output_type": "stream",
     "text": [
      "\n",
      "\n",
      " Dataframe info: \n",
      "\n",
      "<class 'pandas.core.frame.DataFrame'>\n",
      "Int64Index: 147711 entries, 5519930 to 5962923\n",
      "Data columns (total 8 columns):\n",
      " #   Column        Non-Null Count   Dtype  \n",
      "---  ------        --------------   -----  \n",
      " 0   pk_cid        147711 non-null  int64  \n",
      " 1   pk_partition  147711 non-null  object \n",
      " 2   country_id    147711 non-null  object \n",
      " 3   region_code   147557 non-null  float64\n",
      " 4   gender        147711 non-null  object \n",
      " 5   age           147711 non-null  int64  \n",
      " 6   deceased      147711 non-null  object \n",
      " 7   salary        0 non-null       float64\n",
      "dtypes: float64(2), int64(2), object(4)\n",
      "memory usage: 10.1+ MB\n"
     ]
    },
    {
     "data": {
      "text/plain": "None"
     },
     "metadata": {},
     "output_type": "display_data"
    },
    {
     "name": "stdout",
     "output_type": "stream",
     "text": [
      "\n",
      "\n",
      " Dataframe description: \n"
     ]
    },
    {
     "data": {
      "text/html": "<div>\n<style scoped>\n    .dataframe tbody tr th:only-of-type {\n        vertical-align: middle;\n    }\n\n    .dataframe tbody tr th {\n        vertical-align: top;\n    }\n\n    .dataframe thead th {\n        text-align: right;\n    }\n</style>\n<table border=\"1\" class=\"dataframe\">\n  <thead>\n    <tr style=\"text-align: right;\">\n      <th></th>\n      <th>count</th>\n      <th>unique</th>\n      <th>top</th>\n      <th>freq</th>\n      <th>mean</th>\n      <th>std</th>\n      <th>min</th>\n      <th>25%</th>\n      <th>50%</th>\n      <th>75%</th>\n      <th>max</th>\n    </tr>\n  </thead>\n  <tbody>\n    <tr>\n      <th>pk_cid</th>\n      <td>147,711.00</td>\n      <td>NaN</td>\n      <td>NaN</td>\n      <td>NaN</td>\n      <td>1,374,174.82</td>\n      <td>181,433.04</td>\n      <td>16,063.00</td>\n      <td>1,253,362.00</td>\n      <td>1,463,322.00</td>\n      <td>1,504,929.50</td>\n      <td>1,553,689.00</td>\n    </tr>\n    <tr>\n      <th>pk_partition</th>\n      <td>147711</td>\n      <td>1</td>\n      <td>2019-05-28</td>\n      <td>147711</td>\n      <td>NaN</td>\n      <td>NaN</td>\n      <td>NaN</td>\n      <td>NaN</td>\n      <td>NaN</td>\n      <td>NaN</td>\n      <td>NaN</td>\n    </tr>\n    <tr>\n      <th>country_id</th>\n      <td>147711</td>\n      <td>37</td>\n      <td>ES</td>\n      <td>147557</td>\n      <td>NaN</td>\n      <td>NaN</td>\n      <td>NaN</td>\n      <td>NaN</td>\n      <td>NaN</td>\n      <td>NaN</td>\n      <td>NaN</td>\n    </tr>\n    <tr>\n      <th>region_code</th>\n      <td>147,557.00</td>\n      <td>NaN</td>\n      <td>NaN</td>\n      <td>NaN</td>\n      <td>26.27</td>\n      <td>13.38</td>\n      <td>1.00</td>\n      <td>15.00</td>\n      <td>28.00</td>\n      <td>36.00</td>\n      <td>52.00</td>\n    </tr>\n    <tr>\n      <th>gender</th>\n      <td>147711</td>\n      <td>2</td>\n      <td>H</td>\n      <td>75470</td>\n      <td>NaN</td>\n      <td>NaN</td>\n      <td>NaN</td>\n      <td>NaN</td>\n      <td>NaN</td>\n      <td>NaN</td>\n      <td>NaN</td>\n    </tr>\n    <tr>\n      <th>age</th>\n      <td>147,711.00</td>\n      <td>NaN</td>\n      <td>NaN</td>\n      <td>NaN</td>\n      <td>30.46</td>\n      <td>12.60</td>\n      <td>2.00</td>\n      <td>22.00</td>\n      <td>25.00</td>\n      <td>36.00</td>\n      <td>102.00</td>\n    </tr>\n    <tr>\n      <th>deceased</th>\n      <td>147711</td>\n      <td>2</td>\n      <td>N</td>\n      <td>147697</td>\n      <td>NaN</td>\n      <td>NaN</td>\n      <td>NaN</td>\n      <td>NaN</td>\n      <td>NaN</td>\n      <td>NaN</td>\n      <td>NaN</td>\n    </tr>\n    <tr>\n      <th>salary</th>\n      <td>0.00</td>\n      <td>NaN</td>\n      <td>NaN</td>\n      <td>NaN</td>\n      <td>NaN</td>\n      <td>NaN</td>\n      <td>NaN</td>\n      <td>NaN</td>\n      <td>NaN</td>\n      <td>NaN</td>\n      <td>NaN</td>\n    </tr>\n  </tbody>\n</table>\n</div>",
      "text/plain": "                  count unique         top    freq         mean        std  \\\npk_cid       147,711.00    NaN         NaN     NaN 1,374,174.82 181,433.04   \npk_partition     147711      1  2019-05-28  147711          NaN        NaN   \ncountry_id       147711     37          ES  147557          NaN        NaN   \nregion_code  147,557.00    NaN         NaN     NaN        26.27      13.38   \ngender           147711      2           H   75470          NaN        NaN   \nage          147,711.00    NaN         NaN     NaN        30.46      12.60   \ndeceased         147711      2           N  147697          NaN        NaN   \nsalary             0.00    NaN         NaN     NaN          NaN        NaN   \n\n                   min          25%          50%          75%          max  \npk_cid       16,063.00 1,253,362.00 1,463,322.00 1,504,929.50 1,553,689.00  \npk_partition       NaN          NaN          NaN          NaN          NaN  \ncountry_id         NaN          NaN          NaN          NaN          NaN  \nregion_code       1.00        15.00        28.00        36.00        52.00  \ngender             NaN          NaN          NaN          NaN          NaN  \nage               2.00        22.00        25.00        36.00       102.00  \ndeceased           NaN          NaN          NaN          NaN          NaN  \nsalary             NaN          NaN          NaN          NaN          NaN  "
     },
     "metadata": {},
     "output_type": "display_data"
    }
   ],
   "source": [
    "users_with_no_salary = sociodemographic_df[sociodemographic_df['salary'].isna()]\n",
    "\n",
    "df_description(users_with_no_salary)"
   ]
  },
  {
   "cell_type": "markdown",
   "metadata": {},
   "source": [
    "En este caso, mostraremos en una gráfica para verificar que el planteamiento sea cierto."
   ]
  },
  {
   "cell_type": "code",
   "execution_count": 26,
   "metadata": {},
   "outputs": [
    {
     "data": {
      "image/png": "[encoded data removed]",
      "text/plain": "<Figure size 432x288 with 1 Axes>"
     },
     "metadata": {
      "needs_background": "light"
     },
     "output_type": "display_data"
    },
    {
     "name": "stdout",
     "output_type": "stream",
     "text": [
      "Usuarios menores de 16 años:\n",
      "(749, 8)\n"
     ]
    }
   ],
   "source": [
    "fig, ax = plt.subplots()\n",
    "\n",
    "ax.hist(users_with_no_salary['age'], bins=20)\n",
    "ax.set_xlabel('Edad')\n",
    "ax.set_ylabel('Numero de usuarios')\n",
    "plt.show()\n",
    "\n",
    "print('Usuarios menores de 16 años:')\n",
    "print(users_with_no_salary[ users_with_no_salary['age'] < 16].shape)"
   ]
  },
  {
   "cell_type": "code",
   "execution_count": null,
   "metadata": {},
   "outputs": [],
   "source": [
    "# Usuarios menores de 16 años\n",
    "#users_with_no_salary[ users_with_no_salary['age'] < 16] ['salary'] = 0"
   ]
  },
  {
   "cell_type": "markdown",
   "metadata": {},
   "source": [
    "Mirar qué tipo de cuenta tienen los clientes: '01 - TOP', '02 - PARTICULARES', '03 - UNIVERSITARIO'.\n",
    "\n",
    "- Si el cliente tiene una cuenta TOP, se escogerá la mediana de los salarios de clientes con cuenta TOP.\n",
    "- Igual para los casos de clientes con cuentas: PARTICULARES y UNIVERSITARIO.and\n",
    "\n",
    "¿Por qué se escoge la mediana y no el valor medio?\n",
    "\n",
    "Si bien para el caso de Particulares o Universitarios, la media y la mediana podrían estar cerca, para el caso TOP, los salarios probablemente sean muy dispares y haya máximos que afecten sustancialmente al valor medio. \n",
    "\n",
    "Como se ilustra en [[1]], en Medina, Washington (ciudad donde viven Bill Gates y Jeff Bezos) la media de salario en esa ciudad estará muy influenciada por ellos, sin embargo si tomamos la mediana no importará cuan rico Bill Gates o Jeff Bezos sean. "
   ]
  },
  {
   "cell_type": "code",
   "execution_count": 29,
   "metadata": {},
   "outputs": [
    {
     "ename": "FileNotFoundError",
     "evalue": "[Errno 2] No such file or directory: './data/commercial_activity_df.csv'",
     "output_type": "error",
     "traceback": [
      "\u001b[0;31m---------------------------------------------------------------------------\u001b[0m",
      "\u001b[0;31mFileNotFoundError\u001b[0m                         Traceback (most recent call last)",
      "\u001b[0;32m<ipython-input-29-f33e1f49935f>\u001b[0m in \u001b[0;36m<module>\u001b[0;34m\u001b[0m\n\u001b[1;32m      1\u001b[0m \u001b[0;31m# Volvemos a cargar commercial_activity_df\u001b[0m\u001b[0;34m\u001b[0m\u001b[0;34m\u001b[0m\u001b[0;34m\u001b[0m\u001b[0m\n\u001b[0;32m----> 2\u001b[0;31m \u001b[0mcommercial_activity_all\u001b[0m \u001b[0;34m=\u001b[0m \u001b[0mpd\u001b[0m\u001b[0;34m.\u001b[0m\u001b[0mread_csv\u001b[0m\u001b[0;34m(\u001b[0m\u001b[0;34m'./data/commercial_activity_df.csv'\u001b[0m\u001b[0;34m,\u001b[0m \u001b[0mindex_col\u001b[0m\u001b[0;34m=\u001b[0m\u001b[0;36m0\u001b[0m\u001b[0;34m)\u001b[0m\u001b[0;34m\u001b[0m\u001b[0;34m\u001b[0m\u001b[0m\n\u001b[0m\u001b[1;32m      3\u001b[0m \u001b[0;34m\u001b[0m\u001b[0m\n\u001b[1;32m      4\u001b[0m \u001b[0mcommercial_activity_df\u001b[0m \u001b[0;34m=\u001b[0m \u001b[0mcommercial_activity_all\u001b[0m\u001b[0;34m[\u001b[0m  \u001b[0mcommercial_activity_all\u001b[0m\u001b[0;34m[\u001b[0m\u001b[0;34m'pk_partition'\u001b[0m\u001b[0;34m]\u001b[0m \u001b[0;34m==\u001b[0m \u001b[0mpartitions\u001b[0m\u001b[0;34m[\u001b[0m\u001b[0;34m-\u001b[0m\u001b[0;36m1\u001b[0m\u001b[0;34m]\u001b[0m\u001b[0;34m]\u001b[0m\u001b[0;34m\u001b[0m\u001b[0;34m\u001b[0m\u001b[0m\n\u001b[1;32m      5\u001b[0m \u001b[0mdf_description\u001b[0m\u001b[0;34m(\u001b[0m\u001b[0mcommercial_activity_df\u001b[0m\u001b[0;34m)\u001b[0m\u001b[0;34m\u001b[0m\u001b[0;34m\u001b[0m\u001b[0m\n",
      "\u001b[0;32m~/opt/anaconda3/lib/python3.8/site-packages/pandas/io/parsers.py\u001b[0m in \u001b[0;36mread_csv\u001b[0;34m(filepath_or_buffer, sep, delimiter, header, names, index_col, usecols, squeeze, prefix, mangle_dupe_cols, dtype, engine, converters, true_values, false_values, skipinitialspace, skiprows, skipfooter, nrows, na_values, keep_default_na, na_filter, verbose, skip_blank_lines, parse_dates, infer_datetime_format, keep_date_col, date_parser, dayfirst, cache_dates, iterator, chunksize, compression, thousands, decimal, lineterminator, quotechar, quoting, doublequote, escapechar, comment, encoding, dialect, error_bad_lines, warn_bad_lines, delim_whitespace, low_memory, memory_map, float_precision)\u001b[0m\n\u001b[1;32m    684\u001b[0m     )\n\u001b[1;32m    685\u001b[0m \u001b[0;34m\u001b[0m\u001b[0m\n\u001b[0;32m--> 686\u001b[0;31m     \u001b[0;32mreturn\u001b[0m \u001b[0m_read\u001b[0m\u001b[0;34m(\u001b[0m\u001b[0mfilepath_or_buffer\u001b[0m\u001b[0;34m,\u001b[0m \u001b[0mkwds\u001b[0m\u001b[0;34m)\u001b[0m\u001b[0;34m\u001b[0m\u001b[0;34m\u001b[0m\u001b[0m\n\u001b[0m\u001b[1;32m    687\u001b[0m \u001b[0;34m\u001b[0m\u001b[0m\n\u001b[1;32m    688\u001b[0m \u001b[0;34m\u001b[0m\u001b[0m\n",
      "\u001b[0;32m~/opt/anaconda3/lib/python3.8/site-packages/pandas/io/parsers.py\u001b[0m in \u001b[0;36m_read\u001b[0;34m(filepath_or_buffer, kwds)\u001b[0m\n\u001b[1;32m    450\u001b[0m \u001b[0;34m\u001b[0m\u001b[0m\n\u001b[1;32m    451\u001b[0m     \u001b[0;31m# Create the parser.\u001b[0m\u001b[0;34m\u001b[0m\u001b[0;34m\u001b[0m\u001b[0;34m\u001b[0m\u001b[0m\n\u001b[0;32m--> 452\u001b[0;31m     \u001b[0mparser\u001b[0m \u001b[0;34m=\u001b[0m \u001b[0mTextFileReader\u001b[0m\u001b[0;34m(\u001b[0m\u001b[0mfp_or_buf\u001b[0m\u001b[0;34m,\u001b[0m \u001b[0;34m**\u001b[0m\u001b[0mkwds\u001b[0m\u001b[0;34m)\u001b[0m\u001b[0;34m\u001b[0m\u001b[0;34m\u001b[0m\u001b[0m\n\u001b[0m\u001b[1;32m    453\u001b[0m \u001b[0;34m\u001b[0m\u001b[0m\n\u001b[1;32m    454\u001b[0m     \u001b[0;32mif\u001b[0m \u001b[0mchunksize\u001b[0m \u001b[0;32mor\u001b[0m \u001b[0miterator\u001b[0m\u001b[0;34m:\u001b[0m\u001b[0;34m\u001b[0m\u001b[0;34m\u001b[0m\u001b[0m\n",
      "\u001b[0;32m~/opt/anaconda3/lib/python3.8/site-packages/pandas/io/parsers.py\u001b[0m in \u001b[0;36m__init__\u001b[0;34m(self, f, engine, **kwds)\u001b[0m\n\u001b[1;32m    944\u001b[0m             \u001b[0mself\u001b[0m\u001b[0;34m.\u001b[0m\u001b[0moptions\u001b[0m\u001b[0;34m[\u001b[0m\u001b[0;34m\"has_index_names\"\u001b[0m\u001b[0;34m]\u001b[0m \u001b[0;34m=\u001b[0m \u001b[0mkwds\u001b[0m\u001b[0;34m[\u001b[0m\u001b[0;34m\"has_index_names\"\u001b[0m\u001b[0;34m]\u001b[0m\u001b[0;34m\u001b[0m\u001b[0;34m\u001b[0m\u001b[0m\n\u001b[1;32m    945\u001b[0m \u001b[0;34m\u001b[0m\u001b[0m\n\u001b[0;32m--> 946\u001b[0;31m         \u001b[0mself\u001b[0m\u001b[0;34m.\u001b[0m\u001b[0m_make_engine\u001b[0m\u001b[0;34m(\u001b[0m\u001b[0mself\u001b[0m\u001b[0;34m.\u001b[0m\u001b[0mengine\u001b[0m\u001b[0;34m)\u001b[0m\u001b[0;34m\u001b[0m\u001b[0;34m\u001b[0m\u001b[0m\n\u001b[0m\u001b[1;32m    947\u001b[0m \u001b[0;34m\u001b[0m\u001b[0m\n\u001b[1;32m    948\u001b[0m     \u001b[0;32mdef\u001b[0m \u001b[0mclose\u001b[0m\u001b[0;34m(\u001b[0m\u001b[0mself\u001b[0m\u001b[0;34m)\u001b[0m\u001b[0;34m:\u001b[0m\u001b[0;34m\u001b[0m\u001b[0;34m\u001b[0m\u001b[0m\n",
      "\u001b[0;32m~/opt/anaconda3/lib/python3.8/site-packages/pandas/io/parsers.py\u001b[0m in \u001b[0;36m_make_engine\u001b[0;34m(self, engine)\u001b[0m\n\u001b[1;32m   1176\u001b[0m     \u001b[0;32mdef\u001b[0m \u001b[0m_make_engine\u001b[0m\u001b[0;34m(\u001b[0m\u001b[0mself\u001b[0m\u001b[0;34m,\u001b[0m \u001b[0mengine\u001b[0m\u001b[0;34m=\u001b[0m\u001b[0;34m\"c\"\u001b[0m\u001b[0;34m)\u001b[0m\u001b[0;34m:\u001b[0m\u001b[0;34m\u001b[0m\u001b[0;34m\u001b[0m\u001b[0m\n\u001b[1;32m   1177\u001b[0m         \u001b[0;32mif\u001b[0m \u001b[0mengine\u001b[0m \u001b[0;34m==\u001b[0m \u001b[0;34m\"c\"\u001b[0m\u001b[0;34m:\u001b[0m\u001b[0;34m\u001b[0m\u001b[0;34m\u001b[0m\u001b[0m\n\u001b[0;32m-> 1178\u001b[0;31m             \u001b[0mself\u001b[0m\u001b[0;34m.\u001b[0m\u001b[0m_engine\u001b[0m \u001b[0;34m=\u001b[0m \u001b[0mCParserWrapper\u001b[0m\u001b[0;34m(\u001b[0m\u001b[0mself\u001b[0m\u001b[0;34m.\u001b[0m\u001b[0mf\u001b[0m\u001b[0;34m,\u001b[0m \u001b[0;34m**\u001b[0m\u001b[0mself\u001b[0m\u001b[0;34m.\u001b[0m\u001b[0moptions\u001b[0m\u001b[0;34m)\u001b[0m\u001b[0;34m\u001b[0m\u001b[0;34m\u001b[0m\u001b[0m\n\u001b[0m\u001b[1;32m   1179\u001b[0m         \u001b[0;32melse\u001b[0m\u001b[0;34m:\u001b[0m\u001b[0;34m\u001b[0m\u001b[0;34m\u001b[0m\u001b[0m\n\u001b[1;32m   1180\u001b[0m             \u001b[0;32mif\u001b[0m \u001b[0mengine\u001b[0m \u001b[0;34m==\u001b[0m \u001b[0;34m\"python\"\u001b[0m\u001b[0;34m:\u001b[0m\u001b[0;34m\u001b[0m\u001b[0;34m\u001b[0m\u001b[0m\n",
      "\u001b[0;32m~/opt/anaconda3/lib/python3.8/site-packages/pandas/io/parsers.py\u001b[0m in \u001b[0;36m__init__\u001b[0;34m(self, src, **kwds)\u001b[0m\n\u001b[1;32m   2006\u001b[0m         \u001b[0mkwds\u001b[0m\u001b[0;34m[\u001b[0m\u001b[0;34m\"usecols\"\u001b[0m\u001b[0;34m]\u001b[0m \u001b[0;34m=\u001b[0m \u001b[0mself\u001b[0m\u001b[0;34m.\u001b[0m\u001b[0musecols\u001b[0m\u001b[0;34m\u001b[0m\u001b[0;34m\u001b[0m\u001b[0m\n\u001b[1;32m   2007\u001b[0m \u001b[0;34m\u001b[0m\u001b[0m\n\u001b[0;32m-> 2008\u001b[0;31m         \u001b[0mself\u001b[0m\u001b[0;34m.\u001b[0m\u001b[0m_reader\u001b[0m \u001b[0;34m=\u001b[0m \u001b[0mparsers\u001b[0m\u001b[0;34m.\u001b[0m\u001b[0mTextReader\u001b[0m\u001b[0;34m(\u001b[0m\u001b[0msrc\u001b[0m\u001b[0;34m,\u001b[0m \u001b[0;34m**\u001b[0m\u001b[0mkwds\u001b[0m\u001b[0;34m)\u001b[0m\u001b[0;34m\u001b[0m\u001b[0;34m\u001b[0m\u001b[0m\n\u001b[0m\u001b[1;32m   2009\u001b[0m         \u001b[0mself\u001b[0m\u001b[0;34m.\u001b[0m\u001b[0munnamed_cols\u001b[0m \u001b[0;34m=\u001b[0m \u001b[0mself\u001b[0m\u001b[0;34m.\u001b[0m\u001b[0m_reader\u001b[0m\u001b[0;34m.\u001b[0m\u001b[0munnamed_cols\u001b[0m\u001b[0;34m\u001b[0m\u001b[0;34m\u001b[0m\u001b[0m\n\u001b[1;32m   2010\u001b[0m \u001b[0;34m\u001b[0m\u001b[0m\n",
      "\u001b[0;32mpandas/_libs/parsers.pyx\u001b[0m in \u001b[0;36mpandas._libs.parsers.TextReader.__cinit__\u001b[0;34m()\u001b[0m\n",
      "\u001b[0;32mpandas/_libs/parsers.pyx\u001b[0m in \u001b[0;36mpandas._libs.parsers.TextReader._setup_parser_source\u001b[0;34m()\u001b[0m\n",
      "\u001b[0;31mFileNotFoundError\u001b[0m: [Errno 2] No such file or directory: './data/commercial_activity_df.csv'"
     ]
    }
   ],
   "source": [
    "# Volvemos a cargar commercial_activity_df \n",
    "commercial_activity_all = pd.read_csv('./data/commercial_activity_df.csv', index_col=0)\n",
    "\n",
    "commercial_activity_df = commercial_activity_all[  commercial_activity_all['pk_partition'] == partitions[-1]]\n",
    "df_description(commercial_activity_df)\n",
    "\n",
    "del commercial_activity_all\n",
    "\n",
    "print(commercial_activity_df.shape)\n",
    "commercial_activity_df['segment'] = commercial_activity_df['segment'].fillna('Sin Asignar')\n",
    "\n",
    "commercial_activity_df = commercial_activity_df[(commercial_activity_df['segment'] != 'Sin Asignar')]\n",
    "print(commercial_activity_df.shape)"
   ]
  },
  {
   "cell_type": "code",
   "execution_count": 28,
   "metadata": {},
   "outputs": [
    {
     "ename": "NameError",
     "evalue": "name 'commercial_activity_df' is not defined",
     "output_type": "error",
     "traceback": [
      "\u001b[0;31m---------------------------------------------------------------------------\u001b[0m",
      "\u001b[0;31mNameError\u001b[0m                                 Traceback (most recent call last)",
      "\u001b[0;32m<ipython-input-28-39fefe51a939>\u001b[0m in \u001b[0;36m<module>\u001b[0;34m\u001b[0m\n\u001b[0;32m----> 1\u001b[0;31m \u001b[0msociodemo_segment\u001b[0m \u001b[0;34m=\u001b[0m \u001b[0mpd\u001b[0m\u001b[0;34m.\u001b[0m\u001b[0mmerge\u001b[0m\u001b[0;34m(\u001b[0m \u001b[0msociodemographic_df\u001b[0m\u001b[0;34m,\u001b[0m \u001b[0mcommercial_activity_df\u001b[0m\u001b[0;34m[\u001b[0m\u001b[0;34m[\u001b[0m\u001b[0;34m'pk_cid'\u001b[0m\u001b[0;34m,\u001b[0m\u001b[0;34m'pk_partition'\u001b[0m\u001b[0;34m,\u001b[0m\u001b[0;34m'segment'\u001b[0m\u001b[0;34m]\u001b[0m\u001b[0;34m]\u001b[0m\u001b[0;34m,\u001b[0m \u001b[0mon\u001b[0m\u001b[0;34m=\u001b[0m\u001b[0;34m[\u001b[0m\u001b[0;34m'pk_cid'\u001b[0m\u001b[0;34m,\u001b[0m\u001b[0;34m'pk_partition'\u001b[0m\u001b[0;34m]\u001b[0m\u001b[0;34m,\u001b[0m \u001b[0mhow\u001b[0m\u001b[0;34m=\u001b[0m\u001b[0;34m'left'\u001b[0m\u001b[0;34m)\u001b[0m\u001b[0;34m\u001b[0m\u001b[0;34m\u001b[0m\u001b[0m\n\u001b[0m\u001b[1;32m      2\u001b[0m \u001b[0;34m\u001b[0m\u001b[0m\n\u001b[1;32m      3\u001b[0m \u001b[0msociodemo_segment\u001b[0m\u001b[0;34m.\u001b[0m\u001b[0mhead\u001b[0m\u001b[0;34m(\u001b[0m\u001b[0;36m5\u001b[0m\u001b[0;34m)\u001b[0m\u001b[0;34m\u001b[0m\u001b[0;34m\u001b[0m\u001b[0m\n",
      "\u001b[0;31mNameError\u001b[0m: name 'commercial_activity_df' is not defined"
     ]
    }
   ],
   "source": [
    "sociodemo_segment = pd.merge( sociodemographic_df, commercial_activity_df[['pk_cid','pk_partition','segment']], on=['pk_cid','pk_partition'], how='left')\n",
    "\n",
    "sociodemo_segment.head(5)"
   ]
  },
  {
   "cell_type": "code",
   "execution_count": 12,
   "metadata": {},
   "outputs": [
    {
     "data": {
      "text/html": "<div>\n<style scoped>\n    .dataframe tbody tr th:only-of-type {\n        vertical-align: middle;\n    }\n\n    .dataframe tbody tr th {\n        vertical-align: top;\n    }\n\n    .dataframe thead tr th {\n        text-align: left;\n    }\n\n    .dataframe thead tr:last-of-type th {\n        text-align: right;\n    }\n</style>\n<table border=\"1\" class=\"dataframe\">\n  <thead>\n    <tr>\n      <th></th>\n      <th colspan=\"6\" halign=\"left\">age</th>\n      <th colspan=\"6\" halign=\"left\">salary</th>\n    </tr>\n    <tr>\n      <th></th>\n      <th>min</th>\n      <th>max</th>\n      <th>median</th>\n      <th>mean</th>\n      <th>std</th>\n      <th>count</th>\n      <th>min</th>\n      <th>max</th>\n      <th>median</th>\n      <th>mean</th>\n      <th>std</th>\n      <th>count</th>\n    </tr>\n    <tr>\n      <th>segment</th>\n      <th></th>\n      <th></th>\n      <th></th>\n      <th></th>\n      <th></th>\n      <th></th>\n      <th></th>\n      <th></th>\n      <th></th>\n      <th></th>\n      <th></th>\n      <th></th>\n    </tr>\n  </thead>\n  <tbody>\n    <tr>\n      <th>01 - TOP</th>\n      <td>16</td>\n      <td>102</td>\n      <td>52</td>\n      <td>53.966708</td>\n      <td>14.610285</td>\n      <td>7179</td>\n      <td>14293.56</td>\n      <td>10270345.11</td>\n      <td>121280.34</td>\n      <td>147810.925355</td>\n      <td>182630.936010</td>\n      <td>4431</td>\n    </tr>\n    <tr>\n      <th>02 - PARTICULARES</th>\n      <td>2</td>\n      <td>105</td>\n      <td>40</td>\n      <td>41.731567</td>\n      <td>13.218527</td>\n      <td>146964</td>\n      <td>3796.86</td>\n      <td>28894395.51</td>\n      <td>88585.50</td>\n      <td>115920.155315</td>\n      <td>235632.695158</td>\n      <td>95145</td>\n    </tr>\n    <tr>\n      <th>03 - UNIVERSITARIO</th>\n      <td>20</td>\n      <td>77</td>\n      <td>23</td>\n      <td>23.794857</td>\n      <td>3.027073</td>\n      <td>284236</td>\n      <td>1202.73</td>\n      <td>28894395.51</td>\n      <td>88593.42</td>\n      <td>116326.566925</td>\n      <td>191766.543966</td>\n      <td>195659</td>\n    </tr>\n  </tbody>\n</table>\n</div>",
      "text/plain": "                   age                                              salary  \\\n                   min  max median       mean        std   count       min   \nsegment                                                                      \n01 - TOP            16  102     52  53.966708  14.610285    7179  14293.56   \n02 - PARTICULARES    2  105     40  41.731567  13.218527  146964   3796.86   \n03 - UNIVERSITARIO  20   77     23  23.794857   3.027073  284236   1202.73   \n\n                                                                          \\\n                            max     median           mean            std   \nsegment                                                                    \n01 - TOP            10270345.11  121280.34  147810.925355  182630.936010   \n02 - PARTICULARES   28894395.51   88585.50  115920.155315  235632.695158   \n03 - UNIVERSITARIO  28894395.51   88593.42  116326.566925  191766.543966   \n\n                            \n                     count  \nsegment                     \n01 - TOP              4431  \n02 - PARTICULARES    95145  \n03 - UNIVERSITARIO  195659  "
     },
     "metadata": {},
     "output_type": "display_data"
    }
   ],
   "source": [
    "segment_salaries = sociodemo_segment.groupby('segment')[['age','salary']].agg(['min','max','median','mean','std','count'])\n",
    "\n",
    "display(segment_salaries)"
   ]
  },
  {
   "cell_type": "markdown",
   "metadata": {},
   "source": [
    "Para el caso del segment TOP, la mediana es 121.280 euros mientras que la media es de 147.810 euros. Por lo que se puede afirmar que existen 'outliers' que distorsionan la realidad (como es el salario de 10.270.345 euros).\n",
    "\n",
    "En la siguiente figura se puede ver la distribución de edades para cada uno de los segmentos:"
   ]
  },
  {
   "cell_type": "code",
   "execution_count": 13,
   "metadata": {},
   "outputs": [],
   "source": [
    "def segment_plot(df, color, ax, limit):\n",
    "\n",
    "    ax[0].hist( df['age'], color=color, bins=20)\n",
    "    ax[1].plot( df['age'], df['salary'], color=color, marker = '.', linestyle = 'none', alpha=0.4)\n",
    "\n",
    "    df_ = df.sort_values('salary',ascending=False)\n",
    "    df_ = df_[limit:] #quitamos los 'limit' salarios más altos en ese grupo.\n",
    "    ax[2].plot( df_['age'], df_['salary'], color=color, marker = '.', linestyle = 'none', alpha=0.4)\n",
    "\n",
    "    ax[2].set_xlabel('Edad')\n",
    "    ax[0].set_ylabel('Numero de clientes'); ax[0].set_title('Distribución de edades') \n",
    "    ax[1].set_ylabel('Numero de clientes'); ax[1].set_title('Edad y salario') \n",
    "    ax[2].set_ylabel('Numero de clientes'); ax[2].set_title('Edad y salario - sin outliers') \n",
    "    \n",
    "    return ax"
   ]
  },
  {
   "cell_type": "markdown",
   "metadata": {},
   "source": [
    "Con las sigueintes gráficas y tablas anteriores se determina que para los casos en los que el valor de *salary* sea nulo, para el caso de los clientes en el **segment TOP**:\n",
    "\n",
    "- En la primera figura se puede observar como la distribución podría ser considerada como normal con un *skewness* hacia la derecha considerable, con una desviación estándar elevada. \n",
    "\n",
    "- Se aprecia en la última figura, la distribución de edad y salarios, no existe una relación lineal (o parabólica) entre ambas variables. \n",
    "\n",
    "Por lo que, tras estas observaciones se opta por imponer como valor en los salarios nulos la mediana de 121.280 euros para todo el rango de edades.\n"
   ]
  },
  {
   "cell_type": "code",
   "execution_count": null,
   "metadata": {},
   "outputs": [],
   "source": [
    "fig, ax = plt.subplots(3,1,figsize=(10,10))\n",
    "ax = segment_plot(sociodemo_segment[sociodemo_segment['segment'] == '01 - TOP'], 'blue', ax, 1)\n",
    "plt.show()"
   ]
  },
  {
   "cell_type": "markdown",
   "metadata": {},
   "source": [
    "Para el **segment PARTICULARES**:"
   ]
  },
  {
   "cell_type": "code",
   "execution_count": null,
   "metadata": {},
   "outputs": [],
   "source": [
    "fig, ax = plt.subplots(3,1,figsize=(10,10))\n",
    "ax = segment_plot(sociodemo_segment[sociodemo_segment['segment'] == '02 - PARTICULARES'], 'orange', ax, 5)\n",
    "plt.show()"
   ]
  },
  {
   "cell_type": "markdown",
   "metadata": {},
   "source": [
    "Para el **segment UNIVERSITARIO**:\n",
    "\n",
    "Se puede observar como las cuentas segment UNIVERSITARIO están en un rango de edades de entre 18 y 33 años, y la distribución de edades (a simple vista puede ser considerada normal (aunque algo *skewness* hacia la derecha) con una desviación estándar poco elevada). \n",
    "\n",
    "Por lo que respecta a la relación de salarios con la edad, la mayoría de salarios se encuentran \n",
    "\n",
    "se escoge la mediana de 87.855 euros, en frente de la media de 114.978 euros. \n",
    "\n",
    "Se decide que: \n",
    "- los menores de 18 años, su salario es 0. Probablemente el salario que aparece en los clientes menores de edad, corresponda al salario de sus padres (y de todas maneras no será un customer a perseguir)."
   ]
  },
  {
   "cell_type": "code",
   "execution_count": null,
   "metadata": {},
   "outputs": [],
   "source": [
    "fig, ax = plt.subplots(3,1,figsize=(10,10))\n",
    "ax = segment_plot(sociodemo_segment[sociodemo_segment['segment'] == '03 - UNIVERSITARIO'], 'purple', ax, 5)\n",
    "plt.show()"
   ]
  },
  {
   "cell_type": "markdown",
   "metadata": {},
   "source": [
    "Finalmente, se sustituyen los valores nulos para cada unos de los casos:\n"
   ]
  },
  {
   "cell_type": "code",
   "execution_count": 18,
   "metadata": {},
   "outputs": [
    {
     "data": {
      "text/plain": [
       "4        NaN\n",
       "8        NaN\n",
       "14       NaN\n",
       "15       NaN\n",
       "20       NaN\n",
       "          ..\n",
       "442752   NaN\n",
       "442753   NaN\n",
       "442770   NaN\n",
       "442962   NaN\n",
       "442992   NaN\n",
       "Name: salary, Length: 51819, dtype: float64"
      ]
     },
     "execution_count": 18,
     "metadata": {},
     "output_type": "execute_result"
    }
   ],
   "source": [
    "sociodemo_segment[(sociodemo_segment['segment'] == '02 - PARTICULARES') & (sociodemo_segment['salary'].isna())]['salary']"
   ]
  },
  {
   "cell_type": "code",
   "execution_count": 58,
   "metadata": {},
   "outputs": [
    {
     "name": "stdout",
     "output_type": "stream",
     "text": [
      "pk_cid               0\n",
      "pk_partition         0\n",
      "country_id           0\n",
      "region_code        162\n",
      "gender               2\n",
      "age                  0\n",
      "deceased             0\n",
      "salary          147711\n",
      "segment           4616\n",
      "dtype: int64\n"
     ]
    }
   ],
   "source": [
    "print(sociodemo_segment.isna().sum())"
   ]
  },
  {
   "cell_type": "code",
   "execution_count": 73,
   "metadata": {},
   "outputs": [],
   "source": [
    "sociodemo_segment = sociodemo_segment.fillna(x)"
   ]
  },
  {
   "cell_type": "code",
   "execution_count": 113,
   "metadata": {},
   "outputs": [],
   "source": [
    "# null values para segment TOP\n",
    "x = segment_salaries.loc['01 - TOP',('salary','median')]\n",
    "\n",
    "indexes = sociodemo_segment[(sociodemo_segment['segment'] == '01 - TOP') & (sociodemo_segment['salary'].isna())].index\n",
    "\n",
    "sociodemo_segment.iloc[indexes] = sociodemo_segment.iloc[indexes].fillna(x)\n",
    "\n",
    "# null values para segment PARTICULARES\n",
    "y = segment_salaries.loc['02 - PARTICULARES',('salary','median')]\n",
    "\n",
    "indexes = sociodemo_segment[(sociodemo_segment['segment'] == '02 - PARTICULARES') & (sociodemo_segment['salary'].isna())].index\n",
    "\n",
    "sociodemo_segment.iloc[indexes] = sociodemo_segment.iloc[indexes].fillna(y)\n",
    "\n",
    "# null values para segment UNIVERSITARIOS\n",
    "z = segment_salaries.loc['03 - UNIVERSITARIO',('salary','median')]\n",
    "\n",
    "indexes = sociodemo_segment[(sociodemo_segment['segment'] == '03 - UNIVERSITARIO') & (sociodemo_segment['salary'].isna())].index\n",
    "\n",
    "sociodemo_segment.iloc[indexes] = sociodemo_segment.iloc[indexes].fillna(z)"
   ]
  },
  {
   "cell_type": "code",
   "execution_count": 111,
   "metadata": {},
   "outputs": [],
   "source": [
    "x = segment_salaries.loc['01 - TOP',('salary','median')]\n",
    "\n",
    "sociodemo_segment[(sociodemo_segment['segment'] == '01 - TOP') & (sociodemo_segment['salary'].isna())]['salary'].fillna(0, inplace=True)\n",
    "\n",
    "#sociodemo_segment[(sociodemo_segment['segment'] == '01 - TOP') & (sociodemo_segment['salary'].isna())][['salary']]"
   ]
  },
  {
   "cell_type": "code",
   "execution_count": 114,
   "metadata": {},
   "outputs": [
    {
     "name": "stdout",
     "output_type": "stream",
     "text": [
      "pk_cid             0\n",
      "pk_partition       0\n",
      "country_id         0\n",
      "region_code        8\n",
      "gender             2\n",
      "age                0\n",
      "deceased           0\n",
      "salary          4567\n",
      "segment         4616\n",
      "dtype: int64\n"
     ]
    }
   ],
   "source": [
    "print(sociodemo_segment.isna().sum())"
   ]
  },
  {
   "cell_type": "markdown",
   "metadata": {},
   "source": [
    "Finalmente, para los clientes con salario nulo y sin un segmento predefinido."
   ]
  },
  {
   "cell_type": "code",
   "execution_count": 118,
   "metadata": {},
   "outputs": [],
   "source": [
    "indexes = sociodemo_segment[(sociodemo_segment['salary'].isna())].index\n",
    "\n",
    "sociodemo_segment.iloc[indexes] = sociodemo_segment.iloc[indexes].fillna(20000)"
   ]
  },
  {
   "cell_type": "code",
   "execution_count": 119,
   "metadata": {},
   "outputs": [
    {
     "name": "stdout",
     "output_type": "stream",
     "text": [
      "pk_cid           0\n",
      "pk_partition     0\n",
      "country_id       0\n",
      "region_code      8\n",
      "gender           2\n",
      "age              0\n",
      "deceased         0\n",
      "salary           0\n",
      "segment         49\n",
      "dtype: int64\n"
     ]
    }
   ],
   "source": [
    "print(sociodemo_segment.isna().sum())"
   ]
  },
  {
   "cell_type": "code",
   "execution_count": null,
   "metadata": {},
   "outputs": [],
   "source": [
    "indexes = sociodemo_segment[(sociodemo_segment['gender'].isna())].index\n",
    "sociodemo_segment.iloc[indexes] = sociodemo_segment.iloc[indexes].fillna('H')"
   ]
  },
  {
   "cell_type": "code",
   "execution_count": null,
   "metadata": {},
   "outputs": [],
   "source": []
  },
  {
   "cell_type": "code",
   "execution_count": 120,
   "metadata": {},
   "outputs": [
    {
     "name": "stdout",
     "output_type": "stream",
     "text": [
      "['H' 'V' nan]\n"
     ]
    }
   ],
   "source": [
    "print(sociodemo_segment['gender'].unique() )"
   ]
  },
  {
   "cell_type": "code",
   "execution_count": null,
   "metadata": {},
   "outputs": [],
   "source": [
    "clean_sociodemo = sociodemo_segment[['pk_cid','pk_partition','country_id','region_code','gender','age','deceased','salary']].to_csv('./data/sociodemographic_clean.csv')\n",
    "\n",
    "sociodemo_segment[['pk_cid','pk_partition','country_id','region_code','gender','age','deceased','salary']].head(5)"
   ]
  },
  {
   "cell_type": "code",
   "execution_count": null,
   "metadata": {},
   "outputs": [],
   "source": []
  }
 ],
 "metadata": {
  "kernelspec": {
   "display_name": "Python 3",
   "language": "python",
   "name": "python3"
  },
  "language_info": {
   "codemirror_mode": {
    "name": "ipython",
    "version": 3
   },
   "file_extension": ".py",
   "mimetype": "text/x-python",
   "name": "python",
   "nbconvert_exporter": "python",
   "pygments_lexer": "ipython3",
   "version": "3.8.5"
  },
  "orig_nbformat": 2
 },
 "nbformat": 4,
 "nbformat_minor": 2
}