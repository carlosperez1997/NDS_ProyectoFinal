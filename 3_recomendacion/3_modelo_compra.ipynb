{
 "cells": [
  {
   "cell_type": "code",
   "execution_count": 575,
   "metadata": {},
   "outputs": [],
   "source": [
    "import pandas as pd \n",
    "import numpy as np \n",
    "import matplotlib.pyplot as plt \n",
    "import seaborn as sns\n",
    "\n",
    "from datetime import datetime\n",
    "\n",
    "import warnings\n",
    "warnings.filterwarnings(\"ignore\")"
   ]
  },
  {
   "cell_type": "code",
   "execution_count": 576,
   "metadata": {},
   "outputs": [],
   "source": [
    "DIR_PATH = '/Users/carlosperezricardo/Documents/data/'\n",
    "commercial_activity = pd.read_csv(DIR_PATH+'commercial_activity_df.csv', encoding='utf-8')\n",
    "commercial_activity.drop(columns=['Unnamed: 0'], inplace=True)\n",
    "\n",
    "products = pd.read_csv(DIR_PATH+'products_df.csv', encoding='utf-8')\n",
    "products.drop(columns=['Unnamed: 0'], inplace=True)\n",
    "\n",
    "sociodemographic = pd.read_csv(DIR_PATH+'sociodemographic_df.csv', encoding='utf-8')\n",
    "sociodemographic.drop(columns=['Unnamed: 0'], inplace=True)"
   ]
  },
  {
   "cell_type": "code",
   "execution_count": 577,
   "metadata": {},
   "outputs": [],
   "source": [
    "df_whole = pd.merge( commercial_activity, products, on = ['pk_cid','pk_partition'] )\n",
    "df_whole = pd.merge( df_whole, sociodemographic, on=['pk_cid','pk_partition'] )"
   ]
  },
  {
   "cell_type": "code",
   "execution_count": 578,
   "metadata": {},
   "outputs": [
    {
     "data": {
      "text/html": "<div>\n<style scoped>\n    .dataframe tbody tr th:only-of-type {\n        vertical-align: middle;\n    }\n\n    .dataframe tbody tr th {\n        vertical-align: top;\n    }\n\n    .dataframe thead th {\n        text-align: right;\n    }\n</style>\n<table border=\"1\" class=\"dataframe\">\n  <thead>\n    <tr style=\"text-align: right;\">\n      <th></th>\n      <th>0</th>\n      <th>1</th>\n      <th>2</th>\n    </tr>\n  </thead>\n  <tbody>\n    <tr>\n      <th>pk_cid</th>\n      <td>1375586</td>\n      <td>1050611</td>\n      <td>1050612</td>\n    </tr>\n    <tr>\n      <th>pk_partition</th>\n      <td>2018-01-28</td>\n      <td>2018-01-28</td>\n      <td>2018-01-28</td>\n    </tr>\n    <tr>\n      <th>entry_date</th>\n      <td>2018-01-12</td>\n      <td>2015-08-10</td>\n      <td>2015-08-10</td>\n    </tr>\n    <tr>\n      <th>entry_channel</th>\n      <td>KHL</td>\n      <td>KHE</td>\n      <td>KHE</td>\n    </tr>\n    <tr>\n      <th>active_customer</th>\n      <td>1</td>\n      <td>0</td>\n      <td>0</td>\n    </tr>\n    <tr>\n      <th>segment</th>\n      <td>02 - PARTICULARES</td>\n      <td>03 - UNIVERSITARIO</td>\n      <td>03 - UNIVERSITARIO</td>\n    </tr>\n    <tr>\n      <th>short_term_deposit</th>\n      <td>0</td>\n      <td>0</td>\n      <td>0</td>\n    </tr>\n    <tr>\n      <th>loans</th>\n      <td>0</td>\n      <td>0</td>\n      <td>0</td>\n    </tr>\n    <tr>\n      <th>mortgage</th>\n      <td>0</td>\n      <td>0</td>\n      <td>0</td>\n    </tr>\n    <tr>\n      <th>funds</th>\n      <td>0</td>\n      <td>0</td>\n      <td>0</td>\n    </tr>\n    <tr>\n      <th>securities</th>\n      <td>0</td>\n      <td>0</td>\n      <td>0</td>\n    </tr>\n    <tr>\n      <th>long_term_deposit</th>\n      <td>0</td>\n      <td>0</td>\n      <td>0</td>\n    </tr>\n    <tr>\n      <th>em_account_pp</th>\n      <td>0</td>\n      <td>0</td>\n      <td>0</td>\n    </tr>\n    <tr>\n      <th>credit_card</th>\n      <td>0</td>\n      <td>0</td>\n      <td>0</td>\n    </tr>\n    <tr>\n      <th>payroll</th>\n      <td>0</td>\n      <td>0</td>\n      <td>0</td>\n    </tr>\n    <tr>\n      <th>pension_plan</th>\n      <td>0</td>\n      <td>0</td>\n      <td>0</td>\n    </tr>\n    <tr>\n      <th>payroll_account</th>\n      <td>0</td>\n      <td>0</td>\n      <td>0</td>\n    </tr>\n    <tr>\n      <th>emc_account</th>\n      <td>0</td>\n      <td>0</td>\n      <td>0</td>\n    </tr>\n    <tr>\n      <th>debit_card</th>\n      <td>0</td>\n      <td>0</td>\n      <td>0</td>\n    </tr>\n    <tr>\n      <th>em_account_p</th>\n      <td>0</td>\n      <td>0</td>\n      <td>0</td>\n    </tr>\n    <tr>\n      <th>em_acount</th>\n      <td>1</td>\n      <td>1</td>\n      <td>1</td>\n    </tr>\n    <tr>\n      <th>country_id</th>\n      <td>ES</td>\n      <td>ES</td>\n      <td>ES</td>\n    </tr>\n    <tr>\n      <th>region_code</th>\n      <td>29</td>\n      <td>13</td>\n      <td>13</td>\n    </tr>\n    <tr>\n      <th>gender</th>\n      <td>H</td>\n      <td>V</td>\n      <td>V</td>\n    </tr>\n    <tr>\n      <th>age</th>\n      <td>35</td>\n      <td>23</td>\n      <td>23</td>\n    </tr>\n    <tr>\n      <th>deceased</th>\n      <td>N</td>\n      <td>N</td>\n      <td>N</td>\n    </tr>\n    <tr>\n      <th>salary</th>\n      <td>87218.1</td>\n      <td>35548.7</td>\n      <td>122179</td>\n    </tr>\n  </tbody>\n</table>\n</div>",
      "text/plain": "                                    0                   1                   2\npk_cid                        1375586             1050611             1050612\npk_partition               2018-01-28          2018-01-28          2018-01-28\nentry_date                 2018-01-12          2015-08-10          2015-08-10\nentry_channel                     KHL                 KHE                 KHE\nactive_customer                     1                   0                   0\nsegment             02 - PARTICULARES  03 - UNIVERSITARIO  03 - UNIVERSITARIO\nshort_term_deposit                  0                   0                   0\nloans                               0                   0                   0\nmortgage                            0                   0                   0\nfunds                               0                   0                   0\nsecurities                          0                   0                   0\nlong_term_deposit                   0                   0                   0\nem_account_pp                       0                   0                   0\ncredit_card                         0                   0                   0\npayroll                             0                   0                   0\npension_plan                        0                   0                   0\npayroll_account                     0                   0                   0\nemc_account                         0                   0                   0\ndebit_card                          0                   0                   0\nem_account_p                        0                   0                   0\nem_acount                           1                   1                   1\ncountry_id                         ES                  ES                  ES\nregion_code                        29                  13                  13\ngender                              H                   V                   V\nage                                35                  23                  23\ndeceased                            N                   N                   N\nsalary                        87218.1             35548.7              122179"
     },
     "execution_count": 578,
     "metadata": {},
     "output_type": "execute_result"
    }
   ],
   "source": [
    "df_whole.head(3).T"
   ]
  },
  {
   "cell_type": "code",
   "execution_count": 579,
   "metadata": {},
   "outputs": [],
   "source": [
    "partitions = ['2018-01-28','2018-02-28','2018-03-28','2018-04-28','2018-05-28','2018-06-28', \\\n",
    "    '2018-07-28','2018-08-28','2018-09-28','2018-10-28','2018-11-28','2018-12-28','2019-01-28', \\\n",
    "        '2019-02-28','2019-03-28','2019-04-28','2019-05-28']\n",
    "\n",
    "list_products = ['short_term_deposit','loans','mortgage','funds','securities',\n",
    "    'long_term_deposit','em_account_pp','credit_card','pension_plan',\n",
    "    'payroll_account','emc_account','debit_card','em_account_p','em_acount']\n",
    "\n",
    "products_dict = {\"short_term_deposit\":\"ahorro e inversión\", \"loans\":\"financiación\", \"mortgage\":\"financiación\", \n",
    "    \"funds\":\"ahorro e inversión\", \"securities\":\"ahorro e inversión\", \"long_term_deposit\":\"ahorro e inversión\", \n",
    "    \"em_account_pp\":\"cuenta\", \"credit_card\":\"financiación\", \"payroll_account\":\"cuenta\", \"pension_plan\":\"ahorro e inversión\", \n",
    "    \"emc_account\":\"cuenta\", \"debit_card\":\"financiación\", \"em_account_p\":\"cuenta\", \"em_acount\":\"cuenta\"}\n",
    "\n",
    "cost_product = {'cuenta':10, 'ahorro e inversión':40, 'financiación':60}"
   ]
  },
  {
   "cell_type": "code",
   "execution_count": 580,
   "metadata": {},
   "outputs": [],
   "source": [
    "def determinar_altas(data):\n",
    "    data.columns=['pk_partition','pk_cid','product']\n",
    "    data['prev'] = data.groupby('pk_cid')['product'].shift(1)\n",
    "    data['diff'] = data['product'] - data['prev']\n",
    "\n",
    "    # Solo queremos 1 \n",
    "    data['diff'] = np.where( (data['product']==1) & (data['diff'].isna()) & (data['pk_partition']!='2018-01-28'), 1, data['diff'] )\n",
    "    data['diff'].fillna(0,inplace=True)\n",
    "    data['diff'] = np.where( data['diff'] == -1, 0, data['diff'] )\n",
    "\n",
    "    return data['diff']"
   ]
  },
  {
   "cell_type": "code",
   "execution_count": 581,
   "metadata": {},
   "outputs": [],
   "source": [
    "df = df_whole.copy(deep=True)"
   ]
  },
  {
   "cell_type": "code",
   "execution_count": 582,
   "metadata": {},
   "outputs": [
    {
     "name": "stdout",
     "output_type": "stream",
     "text": [
      "short_term_deposit\n",
      "loans\n",
      "mortgage\n",
      "funds\n",
      "securities\n",
      "long_term_deposit\n",
      "em_account_pp\n",
      "credit_card\n",
      "pension_plan\n",
      "payroll_account\n",
      "emc_account\n",
      "debit_card\n",
      "em_account_p\n",
      "em_acount\n"
     ]
    }
   ],
   "source": [
    "for prod in list_products:\n",
    "    df[prod] = determinar_altas( df_whole[['pk_partition','pk_cid',prod]] )\n",
    "    print(prod)\n"
   ]
  },
  {
   "cell_type": "code",
   "execution_count": 583,
   "metadata": {},
   "outputs": [],
   "source": [
    "# Total altas\n",
    "df['total'] = df[list_products].sum(axis=1)"
   ]
  },
  {
   "cell_type": "code",
   "execution_count": 584,
   "metadata": {},
   "outputs": [
    {
     "data": {
      "text/html": "<div>\n<style scoped>\n    .dataframe tbody tr th:only-of-type {\n        vertical-align: middle;\n    }\n\n    .dataframe tbody tr th {\n        vertical-align: top;\n    }\n\n    .dataframe thead th {\n        text-align: right;\n    }\n</style>\n<table border=\"1\" class=\"dataframe\">\n  <thead>\n    <tr style=\"text-align: right;\">\n      <th></th>\n      <th>1479563</th>\n      <th>2168122</th>\n      <th>2962973</th>\n    </tr>\n  </thead>\n  <tbody>\n    <tr>\n      <th>pk_cid</th>\n      <td>15891</td>\n      <td>15891</td>\n      <td>16063</td>\n    </tr>\n    <tr>\n      <th>pk_partition</th>\n      <td>2018-07-28</td>\n      <td>2018-08-28</td>\n      <td>2018-11-28</td>\n    </tr>\n    <tr>\n      <th>entry_date</th>\n      <td>2018-07-28</td>\n      <td>2018-07-28</td>\n      <td>2018-11-19</td>\n    </tr>\n    <tr>\n      <th>entry_channel</th>\n      <td>KAT</td>\n      <td>KAT</td>\n      <td>KAT</td>\n    </tr>\n    <tr>\n      <th>active_customer</th>\n      <td>1</td>\n      <td>0</td>\n      <td>1</td>\n    </tr>\n    <tr>\n      <th>segment</th>\n      <td>NaN</td>\n      <td>02 - PARTICULARES</td>\n      <td>NaN</td>\n    </tr>\n    <tr>\n      <th>short_term_deposit</th>\n      <td>0</td>\n      <td>0</td>\n      <td>0</td>\n    </tr>\n    <tr>\n      <th>loans</th>\n      <td>0</td>\n      <td>0</td>\n      <td>0</td>\n    </tr>\n    <tr>\n      <th>mortgage</th>\n      <td>0</td>\n      <td>0</td>\n      <td>0</td>\n    </tr>\n    <tr>\n      <th>funds</th>\n      <td>0</td>\n      <td>0</td>\n      <td>0</td>\n    </tr>\n    <tr>\n      <th>securities</th>\n      <td>0</td>\n      <td>0</td>\n      <td>0</td>\n    </tr>\n    <tr>\n      <th>long_term_deposit</th>\n      <td>0</td>\n      <td>0</td>\n      <td>0</td>\n    </tr>\n    <tr>\n      <th>em_account_pp</th>\n      <td>0</td>\n      <td>0</td>\n      <td>0</td>\n    </tr>\n    <tr>\n      <th>credit_card</th>\n      <td>0</td>\n      <td>0</td>\n      <td>0</td>\n    </tr>\n    <tr>\n      <th>payroll</th>\n      <td>0</td>\n      <td>0</td>\n      <td>0</td>\n    </tr>\n    <tr>\n      <th>pension_plan</th>\n      <td>0</td>\n      <td>0</td>\n      <td>0</td>\n    </tr>\n    <tr>\n      <th>payroll_account</th>\n      <td>0</td>\n      <td>0</td>\n      <td>0</td>\n    </tr>\n    <tr>\n      <th>emc_account</th>\n      <td>0</td>\n      <td>0</td>\n      <td>0</td>\n    </tr>\n    <tr>\n      <th>debit_card</th>\n      <td>0</td>\n      <td>0</td>\n      <td>0</td>\n    </tr>\n    <tr>\n      <th>em_account_p</th>\n      <td>0</td>\n      <td>0</td>\n      <td>0</td>\n    </tr>\n    <tr>\n      <th>em_acount</th>\n      <td>1</td>\n      <td>0</td>\n      <td>0</td>\n    </tr>\n    <tr>\n      <th>country_id</th>\n      <td>ES</td>\n      <td>ES</td>\n      <td>ES</td>\n    </tr>\n    <tr>\n      <th>region_code</th>\n      <td>28</td>\n      <td>28</td>\n      <td>28</td>\n    </tr>\n    <tr>\n      <th>gender</th>\n      <td>H</td>\n      <td>H</td>\n      <td>H</td>\n    </tr>\n    <tr>\n      <th>age</th>\n      <td>59</td>\n      <td>59</td>\n      <td>62</td>\n    </tr>\n    <tr>\n      <th>deceased</th>\n      <td>N</td>\n      <td>N</td>\n      <td>N</td>\n    </tr>\n    <tr>\n      <th>salary</th>\n      <td>NaN</td>\n      <td>NaN</td>\n      <td>NaN</td>\n    </tr>\n    <tr>\n      <th>total</th>\n      <td>1</td>\n      <td>0</td>\n      <td>0</td>\n    </tr>\n  </tbody>\n</table>\n</div>",
      "text/plain": "                       1479563            2168122     2962973\npk_cid                   15891              15891       16063\npk_partition        2018-07-28         2018-08-28  2018-11-28\nentry_date          2018-07-28         2018-07-28  2018-11-19\nentry_channel              KAT                KAT         KAT\nactive_customer              1                  0           1\nsegment                    NaN  02 - PARTICULARES         NaN\nshort_term_deposit           0                  0           0\nloans                        0                  0           0\nmortgage                     0                  0           0\nfunds                        0                  0           0\nsecurities                   0                  0           0\nlong_term_deposit            0                  0           0\nem_account_pp                0                  0           0\ncredit_card                  0                  0           0\npayroll                      0                  0           0\npension_plan                 0                  0           0\npayroll_account              0                  0           0\nemc_account                  0                  0           0\ndebit_card                   0                  0           0\nem_account_p                 0                  0           0\nem_acount                    1                  0           0\ncountry_id                  ES                 ES          ES\nregion_code                 28                 28          28\ngender                       H                  H           H\nage                         59                 59          62\ndeceased                     N                  N           N\nsalary                     NaN                NaN         NaN\ntotal                        1                  0           0"
     },
     "execution_count": 584,
     "metadata": {},
     "output_type": "execute_result"
    }
   ],
   "source": [
    "df = df.sort_values(['pk_cid','pk_partition'])\n",
    "df.head(3).T"
   ]
  },
  {
   "cell_type": "markdown",
   "metadata": {},
   "source": [
    "# Tiempo desde la ultima compra"
   ]
  },
  {
   "cell_type": "code",
   "execution_count": 585,
   "metadata": {},
   "outputs": [
    {
     "data": {
      "text/plain": "['2018-01-28',\n '2018-02-28',\n '2018-03-28',\n '2018-04-28',\n '2018-05-28',\n '2018-06-28',\n '2018-07-28',\n '2018-08-28',\n '2018-09-28',\n '2018-10-28',\n '2018-11-28',\n '2018-12-28',\n '2019-01-28',\n '2019-02-28',\n '2019-03-28',\n '2019-04-28',\n '2019-05-28']"
     },
     "execution_count": 585,
     "metadata": {},
     "output_type": "execute_result"
    }
   ],
   "source": [
    "partitions"
   ]
  },
  {
   "cell_type": "code",
   "execution_count": 586,
   "metadata": {},
   "outputs": [],
   "source": [
    "def determinar_tiempo_desde_ultima_compra( data, partitions):\n",
    "    # pk_cid, pk_partition, total\n",
    "    data['pk_partition'] = data['pk_partition'].astype(object)\n",
    "    altas = data[ data['total'] >= 1]\n",
    "\n",
    "    #print(altas)\n",
    "\n",
    "    altas_pt = pd.pivot_table(altas, values='total', index=['pk_cid'],\n",
    "                    columns=['pk_partition'], aggfunc=np.max)\n",
    "    \n",
    "    #altas_pt.fillna( '2001-01-01', inplace=True)\n",
    "    #print(altas_pt)\n",
    "    #print(altas_pt.isnull().sum())\n",
    "    \n",
    "    data = pd.merge( data, altas_pt, how='left', on='pk_cid' )\n",
    "    \n",
    "    cols = ['pk_cid','pk_partition']\n",
    "    data.columns = cols + partitions # pone las particiones como datetime\n",
    "    \n",
    "    for part, i in zip(partitions, range(len(partitions))):\n",
    "        data[part] = np.where(data[part] >= 1, 1, data[part])\n",
    "\n",
    "        # No han comprado nada ese mes\n",
    "        data[part] = np.where(data[part] == 0, -1, data[part])\n",
    "        # Han comprado 1 producto o mas\n",
    "        data[part] = np.where(data[part] == 1, i, data[part])\n",
    "        # No aparece info de ellos en esa partition NaN o no compraron nada\n",
    "        data[part] = np.where(data[part].isna(), -1, data[part])\n",
    "        \n",
    "        data[part] = data[part].replace( {i:part, -1:'2001-01-01'})\n",
    "#        print( data[part].value_counts() )\n",
    "        data[part] = pd.to_datetime(data[part])\n",
    "\n",
    "#    print(data)    \n",
    "    #\n",
    "\n",
    "    data['pk_partition'] = pd.to_datetime(data['pk_partition'])\n",
    "    #data[partitions].fillna('2021-01-01', inplace=True)\n",
    "    #print(data)\n",
    "\n",
    "    ## CALCULAMOS TIEMPO DESDE ULTIMA COMPRA\n",
    "    data['last_compra'] = datetime(2000,1,1)\n",
    "\n",
    "    for part in partitions:\n",
    "        data['last_compra'] = np.where(data[part] > data['last_compra'], data[part], data['last_compra'])\n",
    "\n",
    "    #    data['tiempo_ult_compra']\n",
    "    data['tiempo_ult_compra'] = round(((data['pk_partition'] - data['last_compra'])/np.timedelta64(1, 'M')))\n",
    "\n",
    "    data['tiempo_ult_compra'] = np.where( data['tiempo_ult_compra'] > 100, 20, data['tiempo_ult_compra'] )\n",
    "    data['tiempo_ult_compra'] = np.where( data['tiempo_ult_compra'] < 0, 20, data['tiempo_ult_compra'] )\n",
    "\n",
    "    return data[['pk_cid','pk_partition','tiempo_ult_compra']]\n",
    "    # Hay NaNs (los clientes que nunca han comprado nada)\n",
    "    #data['tiempo_ult_compra'] = np.where( data['tiempo_ult_compra'].isna(), 17, data['tiempo_ult_compra'] )\n",
    "\n",
    "    # Hay negativos (clientes que compraron algo)\n",
    "    #data['tiempo_ult_compra'] = np.where( data['tiempo_ult_compra'].isna(), 17, data['tiempo_ult_compra'] )\n",
    "    \n",
    "    #print(data)"
   ]
  },
  {
   "cell_type": "code",
   "execution_count": 587,
   "metadata": {},
   "outputs": [],
   "source": [
    "#determinar_tiempo_desde_ultima_compra( df[['pk_cid','pk_partition','total']], partitions)"
   ]
  },
  {
   "cell_type": "code",
   "execution_count": 588,
   "metadata": {},
   "outputs": [],
   "source": [
    "data = df[['pk_cid','pk_partition','total']]"
   ]
  },
  {
   "cell_type": "code",
   "execution_count": 589,
   "metadata": {},
   "outputs": [],
   "source": [
    "data['pk_partition'] = data['pk_partition'].astype(object)\n",
    "altas = data[ data['total'] >= 1]\n",
    "\n",
    "\n",
    "altas_pt = pd.pivot_table(altas, values='total', index=['pk_cid'],\n",
    "                    columns=['pk_partition'], aggfunc=np.max)\n",
    "    \n",
    "    #altas_pt.fillna( '2001-01-01', inplace=True)\n",
    "    #print(altas_pt)\n",
    "    #print(altas_pt.isnull().sum())\n",
    "    \n",
    "data = pd.merge( data, altas_pt, how='left', on='pk_cid' )\n",
    "    \n",
    "cols = ['pk_cid','pk_partition']\n",
    "data.columns = cols + partitions # pone las particiones como datetime\n",
    "\n",
    "for part, i in zip(partitions, range(len(partitions))):\n",
    "    data[part] = np.where(data[part] >= 1, 1, data[part])\n",
    "\n",
    "    # No han comprado nada ese mes\n",
    "    data[part] = np.where(data[part] == 0, -1, data[part])\n",
    "    # Han comprado 1 producto o mas\n",
    "    data[part] = np.where(data[part] == 1, i, data[part])\n",
    "    # No aparece info de ellos en esa partition NaN o no compraron nada\n",
    "    data[part] = np.where(data[part].isna(), -1, data[part])\n",
    "        \n",
    "    data[part] = data[part].replace( {i:part, -1:'2001-01-01'})\n",
    "#   print( data[part].value_counts() )\n",
    "    data[part] = pd.to_datetime(data[part])\n",
    "\n"
   ]
  },
  {
   "cell_type": "code",
   "execution_count": 590,
   "metadata": {},
   "outputs": [],
   "source": [
    "data['pk_partition'] = pd.to_datetime(data['pk_partition'])\n",
    "    #data[partitions].fillna('2021-01-01', inplace=True)\n",
    "    #print(data)\n",
    "\n",
    "## CALCULAMOS TIEMPO DESDE ULTIMA COMPRA\n",
    "data['last_compra'] = datetime(2001,1,1)\n",
    "\n",
    "for part in partitions:\n",
    "    data['last_compra'] = np.where( (data[part] > data['last_compra']) & (part <= data['pk_partition']), data[part], data['last_compra'])\n",
    "\n",
    "data['tiempo_ult_compra'] = round(((data['pk_partition'] - data['last_compra'])/np.timedelta64(1, 'M')))\n",
    "\n",
    "data['prev'] = data.groupby('pk_cid')['tiempo_ult_compra'].shift(1)\n",
    "\n",
    "data['tiempo_ult_compra'] = np.where( data['tiempo_ult_compra']==0, data['prev']+1, data['tiempo_ult_compra'])"
   ]
  },
  {
   "cell_type": "code",
   "execution_count": 591,
   "metadata": {},
   "outputs": [
    {
     "data": {
      "text/html": "<div>\n<style scoped>\n    .dataframe tbody tr th:only-of-type {\n        vertical-align: middle;\n    }\n\n    .dataframe tbody tr th {\n        vertical-align: top;\n    }\n\n    .dataframe thead th {\n        text-align: right;\n    }\n</style>\n<table border=\"1\" class=\"dataframe\">\n  <thead>\n    <tr style=\"text-align: right;\">\n      <th></th>\n      <th>pk_cid</th>\n      <th>pk_partition</th>\n      <th>2018-01-28</th>\n      <th>2018-02-28</th>\n      <th>2018-03-28</th>\n      <th>2018-04-28</th>\n      <th>2018-05-28</th>\n      <th>2018-06-28</th>\n      <th>2018-07-28</th>\n      <th>2018-08-28</th>\n      <th>...</th>\n      <th>2018-11-28</th>\n      <th>2018-12-28</th>\n      <th>2019-01-28</th>\n      <th>2019-02-28</th>\n      <th>2019-03-28</th>\n      <th>2019-04-28</th>\n      <th>2019-05-28</th>\n      <th>last_compra</th>\n      <th>tiempo_ult_compra</th>\n      <th>prev</th>\n    </tr>\n  </thead>\n  <tbody>\n    <tr>\n      <th>24</th>\n      <td>17457</td>\n      <td>2018-01-28</td>\n      <td>2001-01-01</td>\n      <td>2001-01-01</td>\n      <td>2001-01-01</td>\n      <td>2001-01-01</td>\n      <td>2001-01-01</td>\n      <td>2001-01-01</td>\n      <td>2001-01-01</td>\n      <td>2001-01-01</td>\n      <td>...</td>\n      <td>2018-11-28</td>\n      <td>2001-01-01</td>\n      <td>2019-01-28</td>\n      <td>2001-01-01</td>\n      <td>2019-03-28</td>\n      <td>2001-01-01</td>\n      <td>2019-05-28</td>\n      <td>2001-01-01</td>\n      <td>205.0</td>\n      <td>NaN</td>\n    </tr>\n    <tr>\n      <th>25</th>\n      <td>17457</td>\n      <td>2018-02-28</td>\n      <td>2001-01-01</td>\n      <td>2001-01-01</td>\n      <td>2001-01-01</td>\n      <td>2001-01-01</td>\n      <td>2001-01-01</td>\n      <td>2001-01-01</td>\n      <td>2001-01-01</td>\n      <td>2001-01-01</td>\n      <td>...</td>\n      <td>2018-11-28</td>\n      <td>2001-01-01</td>\n      <td>2019-01-28</td>\n      <td>2001-01-01</td>\n      <td>2019-03-28</td>\n      <td>2001-01-01</td>\n      <td>2019-05-28</td>\n      <td>2001-01-01</td>\n      <td>206.0</td>\n      <td>205.0</td>\n    </tr>\n    <tr>\n      <th>26</th>\n      <td>17457</td>\n      <td>2018-03-28</td>\n      <td>2001-01-01</td>\n      <td>2001-01-01</td>\n      <td>2001-01-01</td>\n      <td>2001-01-01</td>\n      <td>2001-01-01</td>\n      <td>2001-01-01</td>\n      <td>2001-01-01</td>\n      <td>2001-01-01</td>\n      <td>...</td>\n      <td>2018-11-28</td>\n      <td>2001-01-01</td>\n      <td>2019-01-28</td>\n      <td>2001-01-01</td>\n      <td>2019-03-28</td>\n      <td>2001-01-01</td>\n      <td>2019-05-28</td>\n      <td>2001-01-01</td>\n      <td>207.0</td>\n      <td>206.0</td>\n    </tr>\n    <tr>\n      <th>27</th>\n      <td>17457</td>\n      <td>2018-04-28</td>\n      <td>2001-01-01</td>\n      <td>2001-01-01</td>\n      <td>2001-01-01</td>\n      <td>2001-01-01</td>\n      <td>2001-01-01</td>\n      <td>2001-01-01</td>\n      <td>2001-01-01</td>\n      <td>2001-01-01</td>\n      <td>...</td>\n      <td>2018-11-28</td>\n      <td>2001-01-01</td>\n      <td>2019-01-28</td>\n      <td>2001-01-01</td>\n      <td>2019-03-28</td>\n      <td>2001-01-01</td>\n      <td>2019-05-28</td>\n      <td>2001-01-01</td>\n      <td>208.0</td>\n      <td>207.0</td>\n    </tr>\n    <tr>\n      <th>28</th>\n      <td>17457</td>\n      <td>2018-05-28</td>\n      <td>2001-01-01</td>\n      <td>2001-01-01</td>\n      <td>2001-01-01</td>\n      <td>2001-01-01</td>\n      <td>2001-01-01</td>\n      <td>2001-01-01</td>\n      <td>2001-01-01</td>\n      <td>2001-01-01</td>\n      <td>...</td>\n      <td>2018-11-28</td>\n      <td>2001-01-01</td>\n      <td>2019-01-28</td>\n      <td>2001-01-01</td>\n      <td>2019-03-28</td>\n      <td>2001-01-01</td>\n      <td>2019-05-28</td>\n      <td>2001-01-01</td>\n      <td>209.0</td>\n      <td>208.0</td>\n    </tr>\n    <tr>\n      <th>29</th>\n      <td>17457</td>\n      <td>2018-06-28</td>\n      <td>2001-01-01</td>\n      <td>2001-01-01</td>\n      <td>2001-01-01</td>\n      <td>2001-01-01</td>\n      <td>2001-01-01</td>\n      <td>2001-01-01</td>\n      <td>2001-01-01</td>\n      <td>2001-01-01</td>\n      <td>...</td>\n      <td>2018-11-28</td>\n      <td>2001-01-01</td>\n      <td>2019-01-28</td>\n      <td>2001-01-01</td>\n      <td>2019-03-28</td>\n      <td>2001-01-01</td>\n      <td>2019-05-28</td>\n      <td>2001-01-01</td>\n      <td>210.0</td>\n      <td>209.0</td>\n    </tr>\n    <tr>\n      <th>30</th>\n      <td>17457</td>\n      <td>2018-07-28</td>\n      <td>2001-01-01</td>\n      <td>2001-01-01</td>\n      <td>2001-01-01</td>\n      <td>2001-01-01</td>\n      <td>2001-01-01</td>\n      <td>2001-01-01</td>\n      <td>2001-01-01</td>\n      <td>2001-01-01</td>\n      <td>...</td>\n      <td>2018-11-28</td>\n      <td>2001-01-01</td>\n      <td>2019-01-28</td>\n      <td>2001-01-01</td>\n      <td>2019-03-28</td>\n      <td>2001-01-01</td>\n      <td>2019-05-28</td>\n      <td>2001-01-01</td>\n      <td>211.0</td>\n      <td>210.0</td>\n    </tr>\n    <tr>\n      <th>31</th>\n      <td>17457</td>\n      <td>2018-08-28</td>\n      <td>2001-01-01</td>\n      <td>2001-01-01</td>\n      <td>2001-01-01</td>\n      <td>2001-01-01</td>\n      <td>2001-01-01</td>\n      <td>2001-01-01</td>\n      <td>2001-01-01</td>\n      <td>2001-01-01</td>\n      <td>...</td>\n      <td>2018-11-28</td>\n      <td>2001-01-01</td>\n      <td>2019-01-28</td>\n      <td>2001-01-01</td>\n      <td>2019-03-28</td>\n      <td>2001-01-01</td>\n      <td>2019-05-28</td>\n      <td>2001-01-01</td>\n      <td>212.0</td>\n      <td>211.0</td>\n    </tr>\n    <tr>\n      <th>32</th>\n      <td>17457</td>\n      <td>2018-09-28</td>\n      <td>2018-01-28</td>\n      <td>2001-01-01</td>\n      <td>2001-01-01</td>\n      <td>2001-01-01</td>\n      <td>2001-01-01</td>\n      <td>2001-01-01</td>\n      <td>2001-01-01</td>\n      <td>2001-01-01</td>\n      <td>...</td>\n      <td>2018-11-28</td>\n      <td>2001-01-01</td>\n      <td>2019-01-28</td>\n      <td>2001-01-01</td>\n      <td>2019-03-28</td>\n      <td>2001-01-01</td>\n      <td>2019-05-28</td>\n      <td>2018-09-28</td>\n      <td>213.0</td>\n      <td>212.0</td>\n    </tr>\n    <tr>\n      <th>33</th>\n      <td>17457</td>\n      <td>2018-10-28</td>\n      <td>2001-01-01</td>\n      <td>2001-01-01</td>\n      <td>2001-01-01</td>\n      <td>2001-01-01</td>\n      <td>2001-01-01</td>\n      <td>2001-01-01</td>\n      <td>2001-01-01</td>\n      <td>2001-01-01</td>\n      <td>...</td>\n      <td>2018-11-28</td>\n      <td>2001-01-01</td>\n      <td>2019-01-28</td>\n      <td>2001-01-01</td>\n      <td>2019-03-28</td>\n      <td>2001-01-01</td>\n      <td>2019-05-28</td>\n      <td>2018-09-28</td>\n      <td>1.0</td>\n      <td>0.0</td>\n    </tr>\n    <tr>\n      <th>34</th>\n      <td>17457</td>\n      <td>2018-11-28</td>\n      <td>2018-01-28</td>\n      <td>2001-01-01</td>\n      <td>2001-01-01</td>\n      <td>2001-01-01</td>\n      <td>2001-01-01</td>\n      <td>2001-01-01</td>\n      <td>2001-01-01</td>\n      <td>2001-01-01</td>\n      <td>...</td>\n      <td>2018-11-28</td>\n      <td>2001-01-01</td>\n      <td>2019-01-28</td>\n      <td>2001-01-01</td>\n      <td>2019-03-28</td>\n      <td>2001-01-01</td>\n      <td>2019-05-28</td>\n      <td>2018-11-28</td>\n      <td>2.0</td>\n      <td>1.0</td>\n    </tr>\n    <tr>\n      <th>35</th>\n      <td>17457</td>\n      <td>2018-12-28</td>\n      <td>2001-01-01</td>\n      <td>2001-01-01</td>\n      <td>2001-01-01</td>\n      <td>2001-01-01</td>\n      <td>2001-01-01</td>\n      <td>2001-01-01</td>\n      <td>2001-01-01</td>\n      <td>2001-01-01</td>\n      <td>...</td>\n      <td>2018-11-28</td>\n      <td>2001-01-01</td>\n      <td>2019-01-28</td>\n      <td>2001-01-01</td>\n      <td>2019-03-28</td>\n      <td>2001-01-01</td>\n      <td>2019-05-28</td>\n      <td>2018-11-28</td>\n      <td>1.0</td>\n      <td>0.0</td>\n    </tr>\n    <tr>\n      <th>36</th>\n      <td>17457</td>\n      <td>2019-01-28</td>\n      <td>2018-01-28</td>\n      <td>2001-01-01</td>\n      <td>2001-01-01</td>\n      <td>2001-01-01</td>\n      <td>2001-01-01</td>\n      <td>2001-01-01</td>\n      <td>2001-01-01</td>\n      <td>2001-01-01</td>\n      <td>...</td>\n      <td>2018-11-28</td>\n      <td>2001-01-01</td>\n      <td>2019-01-28</td>\n      <td>2001-01-01</td>\n      <td>2019-03-28</td>\n      <td>2001-01-01</td>\n      <td>2019-05-28</td>\n      <td>2019-01-28</td>\n      <td>2.0</td>\n      <td>1.0</td>\n    </tr>\n    <tr>\n      <th>37</th>\n      <td>17457</td>\n      <td>2019-02-28</td>\n      <td>2001-01-01</td>\n      <td>2001-01-01</td>\n      <td>2001-01-01</td>\n      <td>2001-01-01</td>\n      <td>2001-01-01</td>\n      <td>2001-01-01</td>\n      <td>2001-01-01</td>\n      <td>2001-01-01</td>\n      <td>...</td>\n      <td>2018-11-28</td>\n      <td>2001-01-01</td>\n      <td>2019-01-28</td>\n      <td>2001-01-01</td>\n      <td>2019-03-28</td>\n      <td>2001-01-01</td>\n      <td>2019-05-28</td>\n      <td>2019-01-28</td>\n      <td>1.0</td>\n      <td>0.0</td>\n    </tr>\n    <tr>\n      <th>38</th>\n      <td>17457</td>\n      <td>2019-03-28</td>\n      <td>2018-01-28</td>\n      <td>2001-01-01</td>\n      <td>2001-01-01</td>\n      <td>2001-01-01</td>\n      <td>2001-01-01</td>\n      <td>2001-01-01</td>\n      <td>2001-01-01</td>\n      <td>2001-01-01</td>\n      <td>...</td>\n      <td>2018-11-28</td>\n      <td>2001-01-01</td>\n      <td>2019-01-28</td>\n      <td>2001-01-01</td>\n      <td>2019-03-28</td>\n      <td>2001-01-01</td>\n      <td>2019-05-28</td>\n      <td>2019-03-28</td>\n      <td>2.0</td>\n      <td>1.0</td>\n    </tr>\n    <tr>\n      <th>39</th>\n      <td>17457</td>\n      <td>2019-04-28</td>\n      <td>2001-01-01</td>\n      <td>2001-01-01</td>\n      <td>2001-01-01</td>\n      <td>2001-01-01</td>\n      <td>2001-01-01</td>\n      <td>2001-01-01</td>\n      <td>2001-01-01</td>\n      <td>2001-01-01</td>\n      <td>...</td>\n      <td>2018-11-28</td>\n      <td>2001-01-01</td>\n      <td>2019-01-28</td>\n      <td>2001-01-01</td>\n      <td>2019-03-28</td>\n      <td>2001-01-01</td>\n      <td>2019-05-28</td>\n      <td>2019-03-28</td>\n      <td>1.0</td>\n      <td>0.0</td>\n    </tr>\n    <tr>\n      <th>40</th>\n      <td>17457</td>\n      <td>2019-05-28</td>\n      <td>2018-01-28</td>\n      <td>2001-01-01</td>\n      <td>2001-01-01</td>\n      <td>2001-01-01</td>\n      <td>2001-01-01</td>\n      <td>2001-01-01</td>\n      <td>2001-01-01</td>\n      <td>2001-01-01</td>\n      <td>...</td>\n      <td>2018-11-28</td>\n      <td>2001-01-01</td>\n      <td>2019-01-28</td>\n      <td>2001-01-01</td>\n      <td>2019-03-28</td>\n      <td>2001-01-01</td>\n      <td>2019-05-28</td>\n      <td>2019-05-28</td>\n      <td>2.0</td>\n      <td>1.0</td>\n    </tr>\n  </tbody>\n</table>\n<p>17 rows × 22 columns</p>\n</div>",
      "text/plain": "    pk_cid pk_partition 2018-01-28 2018-02-28 2018-03-28 2018-04-28  \\\n24   17457   2018-01-28 2001-01-01 2001-01-01 2001-01-01 2001-01-01   \n25   17457   2018-02-28 2001-01-01 2001-01-01 2001-01-01 2001-01-01   \n26   17457   2018-03-28 2001-01-01 2001-01-01 2001-01-01 2001-01-01   \n27   17457   2018-04-28 2001-01-01 2001-01-01 2001-01-01 2001-01-01   \n28   17457   2018-05-28 2001-01-01 2001-01-01 2001-01-01 2001-01-01   \n29   17457   2018-06-28 2001-01-01 2001-01-01 2001-01-01 2001-01-01   \n30   17457   2018-07-28 2001-01-01 2001-01-01 2001-01-01 2001-01-01   \n31   17457   2018-08-28 2001-01-01 2001-01-01 2001-01-01 2001-01-01   \n32   17457   2018-09-28 2018-01-28 2001-01-01 2001-01-01 2001-01-01   \n33   17457   2018-10-28 2001-01-01 2001-01-01 2001-01-01 2001-01-01   \n34   17457   2018-11-28 2018-01-28 2001-01-01 2001-01-01 2001-01-01   \n35   17457   2018-12-28 2001-01-01 2001-01-01 2001-01-01 2001-01-01   \n36   17457   2019-01-28 2018-01-28 2001-01-01 2001-01-01 2001-01-01   \n37   17457   2019-02-28 2001-01-01 2001-01-01 2001-01-01 2001-01-01   \n38   17457   2019-03-28 2018-01-28 2001-01-01 2001-01-01 2001-01-01   \n39   17457   2019-04-28 2001-01-01 2001-01-01 2001-01-01 2001-01-01   \n40   17457   2019-05-28 2018-01-28 2001-01-01 2001-01-01 2001-01-01   \n\n   2018-05-28 2018-06-28 2018-07-28 2018-08-28  ... 2018-11-28 2018-12-28  \\\n24 2001-01-01 2001-01-01 2001-01-01 2001-01-01  ... 2018-11-28 2001-01-01   \n25 2001-01-01 2001-01-01 2001-01-01 2001-01-01  ... 2018-11-28 2001-01-01   \n26 2001-01-01 2001-01-01 2001-01-01 2001-01-01  ... 2018-11-28 2001-01-01   \n27 2001-01-01 2001-01-01 2001-01-01 2001-01-01  ... 2018-11-28 2001-01-01   \n28 2001-01-01 2001-01-01 2001-01-01 2001-01-01  ... 2018-11-28 2001-01-01   \n29 2001-01-01 2001-01-01 2001-01-01 2001-01-01  ... 2018-11-28 2001-01-01   \n30 2001-01-01 2001-01-01 2001-01-01 2001-01-01  ... 2018-11-28 2001-01-01   \n31 2001-01-01 2001-01-01 2001-01-01 2001-01-01  ... 2018-11-28 2001-01-01   \n32 2001-01-01 2001-01-01 2001-01-01 2001-01-01  ... 2018-11-28 2001-01-01   \n33 2001-01-01 2001-01-01 2001-01-01 2001-01-01  ... 2018-11-28 2001-01-01   \n34 2001-01-01 2001-01-01 2001-01-01 2001-01-01  ... 2018-11-28 2001-01-01   \n35 2001-01-01 2001-01-01 2001-01-01 2001-01-01  ... 2018-11-28 2001-01-01   \n36 2001-01-01 2001-01-01 2001-01-01 2001-01-01  ... 2018-11-28 2001-01-01   \n37 2001-01-01 2001-01-01 2001-01-01 2001-01-01  ... 2018-11-28 2001-01-01   \n38 2001-01-01 2001-01-01 2001-01-01 2001-01-01  ... 2018-11-28 2001-01-01   \n39 2001-01-01 2001-01-01 2001-01-01 2001-01-01  ... 2018-11-28 2001-01-01   \n40 2001-01-01 2001-01-01 2001-01-01 2001-01-01  ... 2018-11-28 2001-01-01   \n\n   2019-01-28 2019-02-28 2019-03-28 2019-04-28 2019-05-28 last_compra  \\\n24 2019-01-28 2001-01-01 2019-03-28 2001-01-01 2019-05-28  2001-01-01   \n25 2019-01-28 2001-01-01 2019-03-28 2001-01-01 2019-05-28  2001-01-01   \n26 2019-01-28 2001-01-01 2019-03-28 2001-01-01 2019-05-28  2001-01-01   \n27 2019-01-28 2001-01-01 2019-03-28 2001-01-01 2019-05-28  2001-01-01   \n28 2019-01-28 2001-01-01 2019-03-28 2001-01-01 2019-05-28  2001-01-01   \n29 2019-01-28 2001-01-01 2019-03-28 2001-01-01 2019-05-28  2001-01-01   \n30 2019-01-28 2001-01-01 2019-03-28 2001-01-01 2019-05-28  2001-01-01   \n31 2019-01-28 2001-01-01 2019-03-28 2001-01-01 2019-05-28  2001-01-01   \n32 2019-01-28 2001-01-01 2019-03-28 2001-01-01 2019-05-28  2018-09-28   \n33 2019-01-28 2001-01-01 2019-03-28 2001-01-01 2019-05-28  2018-09-28   \n34 2019-01-28 2001-01-01 2019-03-28 2001-01-01 2019-05-28  2018-11-28   \n35 2019-01-28 2001-01-01 2019-03-28 2001-01-01 2019-05-28  2018-11-28   \n36 2019-01-28 2001-01-01 2019-03-28 2001-01-01 2019-05-28  2019-01-28   \n37 2019-01-28 2001-01-01 2019-03-28 2001-01-01 2019-05-28  2019-01-28   \n38 2019-01-28 2001-01-01 2019-03-28 2001-01-01 2019-05-28  2019-03-28   \n39 2019-01-28 2001-01-01 2019-03-28 2001-01-01 2019-05-28  2019-03-28   \n40 2019-01-28 2001-01-01 2019-03-28 2001-01-01 2019-05-28  2019-05-28   \n\n   tiempo_ult_compra   prev  \n24             205.0    NaN  \n25             206.0  205.0  \n26             207.0  206.0  \n27             208.0  207.0  \n28             209.0  208.0  \n29             210.0  209.0  \n30             211.0  210.0  \n31             212.0  211.0  \n32             213.0  212.0  \n33               1.0    0.0  \n34               2.0    1.0  \n35               1.0    0.0  \n36               2.0    1.0  \n37               1.0    0.0  \n38               2.0    1.0  \n39               1.0    0.0  \n40               2.0    1.0  \n\n[17 rows x 22 columns]"
     },
     "execution_count": 591,
     "metadata": {},
     "output_type": "execute_result"
    }
   ],
   "source": [
    "data[ data['pk_cid'] == 17457]"
   ]
  },
  {
   "cell_type": "code",
   "execution_count": 592,
   "metadata": {},
   "outputs": [],
   "source": [
    "data['tiempo_ult_compra'] = np.where( data['tiempo_ult_compra'] < 0, 20, data['tiempo_ult_compra'] )\n",
    "data['tiempo_ult_compra'] = np.where( data['tiempo_ult_compra'] > 100, 20, data['tiempo_ult_compra'] )\n",
    "data['tiempo_ult_compra'] = np.where( data['tiempo_ult_compra'].isna(), 20, data['tiempo_ult_compra'] )"
   ]
  },
  {
   "cell_type": "code",
   "execution_count": 593,
   "metadata": {},
   "outputs": [
    {
     "data": {
      "text/html": "<div>\n<style scoped>\n    .dataframe tbody tr th:only-of-type {\n        vertical-align: middle;\n    }\n\n    .dataframe tbody tr th {\n        vertical-align: top;\n    }\n\n    .dataframe thead th {\n        text-align: right;\n    }\n</style>\n<table border=\"1\" class=\"dataframe\">\n  <thead>\n    <tr style=\"text-align: right;\">\n      <th></th>\n      <th>pk_cid</th>\n      <th>pk_partition</th>\n      <th>2018-01-28</th>\n      <th>2018-02-28</th>\n      <th>2018-03-28</th>\n      <th>2018-04-28</th>\n      <th>2018-05-28</th>\n      <th>2018-06-28</th>\n      <th>2018-07-28</th>\n      <th>2018-08-28</th>\n      <th>...</th>\n      <th>2018-11-28</th>\n      <th>2018-12-28</th>\n      <th>2019-01-28</th>\n      <th>2019-02-28</th>\n      <th>2019-03-28</th>\n      <th>2019-04-28</th>\n      <th>2019-05-28</th>\n      <th>last_compra</th>\n      <th>tiempo_ult_compra</th>\n      <th>prev</th>\n    </tr>\n  </thead>\n  <tbody>\n    <tr>\n      <th>0</th>\n      <td>15891</td>\n      <td>2018-07-28</td>\n      <td>2018-01-28</td>\n      <td>2001-01-01</td>\n      <td>2001-01-01</td>\n      <td>2001-01-01</td>\n      <td>2001-01-01</td>\n      <td>2001-01-01</td>\n      <td>2018-07-28</td>\n      <td>2001-01-01</td>\n      <td>...</td>\n      <td>2001-01-01</td>\n      <td>2001-01-01</td>\n      <td>2001-01-01</td>\n      <td>2001-01-01</td>\n      <td>2001-01-01</td>\n      <td>2001-01-01</td>\n      <td>2001-01-01</td>\n      <td>2018-07-28</td>\n      <td>20.0</td>\n      <td>NaN</td>\n    </tr>\n    <tr>\n      <th>1</th>\n      <td>15891</td>\n      <td>2018-08-28</td>\n      <td>2001-01-01</td>\n      <td>2001-01-01</td>\n      <td>2001-01-01</td>\n      <td>2001-01-01</td>\n      <td>2001-01-01</td>\n      <td>2001-01-01</td>\n      <td>2018-07-28</td>\n      <td>2001-01-01</td>\n      <td>...</td>\n      <td>2001-01-01</td>\n      <td>2001-01-01</td>\n      <td>2001-01-01</td>\n      <td>2001-01-01</td>\n      <td>2001-01-01</td>\n      <td>2001-01-01</td>\n      <td>2001-01-01</td>\n      <td>2018-07-28</td>\n      <td>1.0</td>\n      <td>0.0</td>\n    </tr>\n    <tr>\n      <th>2</th>\n      <td>16063</td>\n      <td>2018-11-28</td>\n      <td>2001-01-01</td>\n      <td>2001-01-01</td>\n      <td>2001-01-01</td>\n      <td>2001-01-01</td>\n      <td>2001-01-01</td>\n      <td>2001-01-01</td>\n      <td>2001-01-01</td>\n      <td>2001-01-01</td>\n      <td>...</td>\n      <td>2001-01-01</td>\n      <td>2001-01-01</td>\n      <td>2001-01-01</td>\n      <td>2001-01-01</td>\n      <td>2001-01-01</td>\n      <td>2001-01-01</td>\n      <td>2001-01-01</td>\n      <td>2001-01-01</td>\n      <td>20.0</td>\n      <td>NaN</td>\n    </tr>\n    <tr>\n      <th>3</th>\n      <td>16063</td>\n      <td>2018-12-28</td>\n      <td>2001-01-01</td>\n      <td>2001-01-01</td>\n      <td>2001-01-01</td>\n      <td>2001-01-01</td>\n      <td>2001-01-01</td>\n      <td>2001-01-01</td>\n      <td>2001-01-01</td>\n      <td>2001-01-01</td>\n      <td>...</td>\n      <td>2001-01-01</td>\n      <td>2001-01-01</td>\n      <td>2001-01-01</td>\n      <td>2001-01-01</td>\n      <td>2001-01-01</td>\n      <td>2001-01-01</td>\n      <td>2001-01-01</td>\n      <td>2001-01-01</td>\n      <td>20.0</td>\n      <td>215.0</td>\n    </tr>\n    <tr>\n      <th>4</th>\n      <td>16063</td>\n      <td>2019-01-28</td>\n      <td>2001-01-01</td>\n      <td>2001-01-01</td>\n      <td>2001-01-01</td>\n      <td>2001-01-01</td>\n      <td>2001-01-01</td>\n      <td>2001-01-01</td>\n      <td>2001-01-01</td>\n      <td>2001-01-01</td>\n      <td>...</td>\n      <td>2001-01-01</td>\n      <td>2001-01-01</td>\n      <td>2001-01-01</td>\n      <td>2001-01-01</td>\n      <td>2001-01-01</td>\n      <td>2001-01-01</td>\n      <td>2001-01-01</td>\n      <td>2001-01-01</td>\n      <td>20.0</td>\n      <td>216.0</td>\n    </tr>\n    <tr>\n      <th>...</th>\n      <td>...</td>\n      <td>...</td>\n      <td>...</td>\n      <td>...</td>\n      <td>...</td>\n      <td>...</td>\n      <td>...</td>\n      <td>...</td>\n      <td>...</td>\n      <td>...</td>\n      <td>...</td>\n      <td>...</td>\n      <td>...</td>\n      <td>...</td>\n      <td>...</td>\n      <td>...</td>\n      <td>...</td>\n      <td>...</td>\n      <td>...</td>\n      <td>...</td>\n      <td>...</td>\n    </tr>\n    <tr>\n      <th>5962919</th>\n      <td>1553685</td>\n      <td>2019-05-28</td>\n      <td>2001-01-01</td>\n      <td>2001-01-01</td>\n      <td>2001-01-01</td>\n      <td>2001-01-01</td>\n      <td>2001-01-01</td>\n      <td>2001-01-01</td>\n      <td>2001-01-01</td>\n      <td>2001-01-01</td>\n      <td>...</td>\n      <td>2001-01-01</td>\n      <td>2001-01-01</td>\n      <td>2001-01-01</td>\n      <td>2001-01-01</td>\n      <td>2001-01-01</td>\n      <td>2001-01-01</td>\n      <td>2001-01-01</td>\n      <td>2001-01-01</td>\n      <td>20.0</td>\n      <td>NaN</td>\n    </tr>\n    <tr>\n      <th>5962920</th>\n      <td>1553686</td>\n      <td>2019-05-28</td>\n      <td>2001-01-01</td>\n      <td>2001-01-01</td>\n      <td>2001-01-01</td>\n      <td>2001-01-01</td>\n      <td>2001-01-01</td>\n      <td>2001-01-01</td>\n      <td>2001-01-01</td>\n      <td>2001-01-01</td>\n      <td>...</td>\n      <td>2001-01-01</td>\n      <td>2001-01-01</td>\n      <td>2001-01-01</td>\n      <td>2001-01-01</td>\n      <td>2001-01-01</td>\n      <td>2001-01-01</td>\n      <td>2001-01-01</td>\n      <td>2001-01-01</td>\n      <td>20.0</td>\n      <td>NaN</td>\n    </tr>\n    <tr>\n      <th>5962921</th>\n      <td>1553687</td>\n      <td>2019-05-28</td>\n      <td>2001-01-01</td>\n      <td>2001-01-01</td>\n      <td>2001-01-01</td>\n      <td>2001-01-01</td>\n      <td>2001-01-01</td>\n      <td>2001-01-01</td>\n      <td>2001-01-01</td>\n      <td>2001-01-01</td>\n      <td>...</td>\n      <td>2001-01-01</td>\n      <td>2001-01-01</td>\n      <td>2001-01-01</td>\n      <td>2001-01-01</td>\n      <td>2001-01-01</td>\n      <td>2001-01-01</td>\n      <td>2001-01-01</td>\n      <td>2001-01-01</td>\n      <td>20.0</td>\n      <td>NaN</td>\n    </tr>\n    <tr>\n      <th>5962922</th>\n      <td>1553688</td>\n      <td>2019-05-28</td>\n      <td>2001-01-01</td>\n      <td>2001-01-01</td>\n      <td>2001-01-01</td>\n      <td>2001-01-01</td>\n      <td>2001-01-01</td>\n      <td>2001-01-01</td>\n      <td>2001-01-01</td>\n      <td>2001-01-01</td>\n      <td>...</td>\n      <td>2001-01-01</td>\n      <td>2001-01-01</td>\n      <td>2001-01-01</td>\n      <td>2001-01-01</td>\n      <td>2001-01-01</td>\n      <td>2001-01-01</td>\n      <td>2001-01-01</td>\n      <td>2001-01-01</td>\n      <td>20.0</td>\n      <td>NaN</td>\n    </tr>\n    <tr>\n      <th>5962923</th>\n      <td>1553689</td>\n      <td>2019-05-28</td>\n      <td>2001-01-01</td>\n      <td>2001-01-01</td>\n      <td>2001-01-01</td>\n      <td>2001-01-01</td>\n      <td>2001-01-01</td>\n      <td>2001-01-01</td>\n      <td>2001-01-01</td>\n      <td>2001-01-01</td>\n      <td>...</td>\n      <td>2001-01-01</td>\n      <td>2001-01-01</td>\n      <td>2001-01-01</td>\n      <td>2001-01-01</td>\n      <td>2001-01-01</td>\n      <td>2001-01-01</td>\n      <td>2001-01-01</td>\n      <td>2001-01-01</td>\n      <td>20.0</td>\n      <td>NaN</td>\n    </tr>\n  </tbody>\n</table>\n<p>5962924 rows × 22 columns</p>\n</div>",
      "text/plain": "          pk_cid pk_partition 2018-01-28 2018-02-28 2018-03-28 2018-04-28  \\\n0          15891   2018-07-28 2018-01-28 2001-01-01 2001-01-01 2001-01-01   \n1          15891   2018-08-28 2001-01-01 2001-01-01 2001-01-01 2001-01-01   \n2          16063   2018-11-28 2001-01-01 2001-01-01 2001-01-01 2001-01-01   \n3          16063   2018-12-28 2001-01-01 2001-01-01 2001-01-01 2001-01-01   \n4          16063   2019-01-28 2001-01-01 2001-01-01 2001-01-01 2001-01-01   \n...          ...          ...        ...        ...        ...        ...   \n5962919  1553685   2019-05-28 2001-01-01 2001-01-01 2001-01-01 2001-01-01   \n5962920  1553686   2019-05-28 2001-01-01 2001-01-01 2001-01-01 2001-01-01   \n5962921  1553687   2019-05-28 2001-01-01 2001-01-01 2001-01-01 2001-01-01   \n5962922  1553688   2019-05-28 2001-01-01 2001-01-01 2001-01-01 2001-01-01   \n5962923  1553689   2019-05-28 2001-01-01 2001-01-01 2001-01-01 2001-01-01   \n\n        2018-05-28 2018-06-28 2018-07-28 2018-08-28  ... 2018-11-28  \\\n0       2001-01-01 2001-01-01 2018-07-28 2001-01-01  ... 2001-01-01   \n1       2001-01-01 2001-01-01 2018-07-28 2001-01-01  ... 2001-01-01   \n2       2001-01-01 2001-01-01 2001-01-01 2001-01-01  ... 2001-01-01   \n3       2001-01-01 2001-01-01 2001-01-01 2001-01-01  ... 2001-01-01   \n4       2001-01-01 2001-01-01 2001-01-01 2001-01-01  ... 2001-01-01   \n...            ...        ...        ...        ...  ...        ...   \n5962919 2001-01-01 2001-01-01 2001-01-01 2001-01-01  ... 2001-01-01   \n5962920 2001-01-01 2001-01-01 2001-01-01 2001-01-01  ... 2001-01-01   \n5962921 2001-01-01 2001-01-01 2001-01-01 2001-01-01  ... 2001-01-01   \n5962922 2001-01-01 2001-01-01 2001-01-01 2001-01-01  ... 2001-01-01   \n5962923 2001-01-01 2001-01-01 2001-01-01 2001-01-01  ... 2001-01-01   \n\n        2018-12-28 2019-01-28 2019-02-28 2019-03-28 2019-04-28 2019-05-28  \\\n0       2001-01-01 2001-01-01 2001-01-01 2001-01-01 2001-01-01 2001-01-01   \n1       2001-01-01 2001-01-01 2001-01-01 2001-01-01 2001-01-01 2001-01-01   \n2       2001-01-01 2001-01-01 2001-01-01 2001-01-01 2001-01-01 2001-01-01   \n3       2001-01-01 2001-01-01 2001-01-01 2001-01-01 2001-01-01 2001-01-01   \n4       2001-01-01 2001-01-01 2001-01-01 2001-01-01 2001-01-01 2001-01-01   \n...            ...        ...        ...        ...        ...        ...   \n5962919 2001-01-01 2001-01-01 2001-01-01 2001-01-01 2001-01-01 2001-01-01   \n5962920 2001-01-01 2001-01-01 2001-01-01 2001-01-01 2001-01-01 2001-01-01   \n5962921 2001-01-01 2001-01-01 2001-01-01 2001-01-01 2001-01-01 2001-01-01   \n5962922 2001-01-01 2001-01-01 2001-01-01 2001-01-01 2001-01-01 2001-01-01   \n5962923 2001-01-01 2001-01-01 2001-01-01 2001-01-01 2001-01-01 2001-01-01   \n\n        last_compra tiempo_ult_compra   prev  \n0        2018-07-28              20.0    NaN  \n1        2018-07-28               1.0    0.0  \n2        2001-01-01              20.0    NaN  \n3        2001-01-01              20.0  215.0  \n4        2001-01-01              20.0  216.0  \n...             ...               ...    ...  \n5962919  2001-01-01              20.0    NaN  \n5962920  2001-01-01              20.0    NaN  \n5962921  2001-01-01              20.0    NaN  \n5962922  2001-01-01              20.0    NaN  \n5962923  2001-01-01              20.0    NaN  \n\n[5962924 rows x 22 columns]"
     },
     "execution_count": 593,
     "metadata": {},
     "output_type": "execute_result"
    }
   ],
   "source": [
    "data"
   ]
  },
  {
   "cell_type": "code",
   "execution_count": 594,
   "metadata": {},
   "outputs": [],
   "source": [
    "data_to_join = data[['pk_cid','pk_partition','tiempo_ult_compra']]\n",
    "#data_to_join['pk_partition'] = data_to_join['pk_partition']"
   ]
  },
  {
   "cell_type": "code",
   "execution_count": 595,
   "metadata": {},
   "outputs": [],
   "source": [
    "df['pk_partition'] = pd.to_datetime(df['pk_partition'])"
   ]
  },
  {
   "cell_type": "code",
   "execution_count": 596,
   "metadata": {},
   "outputs": [],
   "source": [
    "df = pd.merge(df, data_to_join, on=['pk_cid','pk_partition'], how='left')"
   ]
  },
  {
   "cell_type": "code",
   "execution_count": 597,
   "metadata": {},
   "outputs": [],
   "source": [
    "df['inversion'] = 0\n",
    "for key, value in products_dict.items():\n",
    "    df['inversion'] += df[key]*cost_product[value]"
   ]
  },
  {
   "cell_type": "code",
   "execution_count": null,
   "metadata": {},
   "outputs": [],
   "source": []
  },
  {
   "cell_type": "markdown",
   "metadata": {},
   "source": [
    "# Nulos"
   ]
  },
  {
   "cell_type": "code",
   "execution_count": 598,
   "metadata": {},
   "outputs": [
    {
     "data": {
      "text/plain": "pk_cid                      0\npk_partition                0\nentry_date                  0\nentry_channel          133033\nactive_customer             0\nsegment                133944\nshort_term_deposit          0\nloans                       0\nmortgage                    0\nfunds                       0\nsecurities                  0\nlong_term_deposit           0\nem_account_pp               0\ncredit_card                 0\npayroll                    61\npension_plan                0\npayroll_account             0\nemc_account                 0\ndebit_card                  0\nem_account_p                0\nem_acount                   0\ncountry_id                  0\nregion_code              2264\ngender                     25\nage                         0\ndeceased                    0\nsalary                1512103\ntotal                       0\ntiempo_ult_compra           0\ninversion                   0\ndtype: int64"
     },
     "execution_count": 598,
     "metadata": {},
     "output_type": "execute_result"
    }
   ],
   "source": [
    "df.isnull().sum()"
   ]
  },
  {
   "cell_type": "code",
   "execution_count": null,
   "metadata": {},
   "outputs": [],
   "source": []
  },
  {
   "cell_type": "code",
   "execution_count": null,
   "metadata": {},
   "outputs": [],
   "source": []
  },
  {
   "cell_type": "code",
   "execution_count": 599,
   "metadata": {},
   "outputs": [],
   "source": [
    "df['salary'].fillna(-9999, inplace=True)"
   ]
  },
  {
   "cell_type": "code",
   "execution_count": 600,
   "metadata": {},
   "outputs": [],
   "source": [
    "df = df[ df['deceased'] != 'S']"
   ]
  },
  {
   "cell_type": "code",
   "execution_count": 601,
   "metadata": {},
   "outputs": [],
   "source": [
    "df = df[ (df['age'] >= 18) & (df['age'] <= 90)]"
   ]
  },
  {
   "cell_type": "code",
   "execution_count": 602,
   "metadata": {},
   "outputs": [],
   "source": [
    "cols_to_drop = ['entry_channel','segment','entry_date','gender','payroll','deceased']\n",
    "df.drop(cols_to_drop, axis=1, inplace=True)\n",
    "df.drop(list_products, axis=1, inplace=True)"
   ]
  },
  {
   "cell_type": "code",
   "execution_count": 603,
   "metadata": {},
   "outputs": [
    {
     "data": {
      "text/plain": "(5921197, 10)"
     },
     "execution_count": 603,
     "metadata": {},
     "output_type": "execute_result"
    }
   ],
   "source": [
    "df.shape"
   ]
  },
  {
   "cell_type": "code",
   "execution_count": 604,
   "metadata": {},
   "outputs": [
    {
     "data": {
      "text/plain": "Index(['pk_cid', 'pk_partition', 'active_customer', 'country_id',\n       'region_code', 'age', 'salary', 'total', 'tiempo_ult_compra',\n       'inversion'],\n      dtype='object')"
     },
     "execution_count": 604,
     "metadata": {},
     "output_type": "execute_result"
    }
   ],
   "source": [
    "df.columns"
   ]
  },
  {
   "cell_type": "code",
   "execution_count": 605,
   "metadata": {},
   "outputs": [],
   "source": [
    "df['region_code'].fillna(-99, inplace=True)\n",
    "#df['region_code'].fillna(-99, inplace=True)"
   ]
  },
  {
   "cell_type": "code",
   "execution_count": 606,
   "metadata": {},
   "outputs": [
    {
     "data": {
      "text/plain": "pk_cid               0\npk_partition         0\nactive_customer      0\ncountry_id           0\nregion_code          0\nage                  0\nsalary               0\ntotal                0\ntiempo_ult_compra    0\ninversion            0\ndtype: int64"
     },
     "execution_count": 606,
     "metadata": {},
     "output_type": "execute_result"
    }
   ],
   "source": [
    "df.isnull().sum()"
   ]
  },
  {
   "cell_type": "code",
   "execution_count": 607,
   "metadata": {},
   "outputs": [],
   "source": [
    "from sklearn.preprocessing import LabelEncoder\n",
    "df[\"country_id\"] = LabelEncoder().fit_transform(df[\"country_id\"])"
   ]
  },
  {
   "cell_type": "code",
   "execution_count": 608,
   "metadata": {},
   "outputs": [],
   "source": [
    "df['year'] = df['pk_partition'].dt.year\n",
    "df['month'] = df['pk_partition'].dt.month\n",
    "df.drop('pk_partition', axis=1, inplace=True)"
   ]
  },
  {
   "cell_type": "code",
   "execution_count": 609,
   "metadata": {},
   "outputs": [
    {
     "name": "stdout",
     "output_type": "stream",
     "text": [
      "<class 'pandas.core.frame.DataFrame'>\n",
      "Int64Index: 5921197 entries, 0 to 5962923\n",
      "Data columns (total 11 columns):\n",
      " #   Column             Dtype  \n",
      "---  ------             -----  \n",
      " 0   pk_cid             int64  \n",
      " 1   active_customer    float64\n",
      " 2   country_id         int64  \n",
      " 3   region_code        float64\n",
      " 4   age                int64  \n",
      " 5   salary             float64\n",
      " 6   total              float64\n",
      " 7   tiempo_ult_compra  float64\n",
      " 8   inversion          float64\n",
      " 9   year               int64  \n",
      " 10  month              int64  \n",
      "dtypes: float64(6), int64(5)\n",
      "memory usage: 542.1 MB\n"
     ]
    }
   ],
   "source": [
    "df.info()"
   ]
  },
  {
   "cell_type": "code",
   "execution_count": 610,
   "metadata": {},
   "outputs": [
    {
     "data": {
      "text/plain": "0.0    5642911\n1.0     255379\n2.0      21010\n3.0       1821\n4.0         71\n5.0          5\nName: total, dtype: int64"
     },
     "execution_count": 610,
     "metadata": {},
     "output_type": "execute_result"
    }
   ],
   "source": [
    "df['total'].value_counts()"
   ]
  },
  {
   "cell_type": "code",
   "execution_count": 611,
   "metadata": {},
   "outputs": [
    {
     "data": {
      "text/plain": "(1276895, 11)"
     },
     "execution_count": 611,
     "metadata": {},
     "output_type": "execute_result"
    }
   ],
   "source": [
    "subset_positives = df[ df['total'] == 1 ]\n",
    "subset_negatives = df[ df['total'] == 0 ].sample( subset_positives.shape[0]*5 )\n",
    "\n",
    "subset_negatives.shape"
   ]
  },
  {
   "cell_type": "code",
   "execution_count": 612,
   "metadata": {},
   "outputs": [],
   "source": [
    "target = 'total'"
   ]
  },
  {
   "cell_type": "code",
   "execution_count": 613,
   "metadata": {},
   "outputs": [
    {
     "data": {
      "text/plain": "(1532274, 11)"
     },
     "execution_count": 613,
     "metadata": {},
     "output_type": "execute_result"
    }
   ],
   "source": [
    "df_final = subset_negatives.copy(deep=True)\n",
    "df_final = df_final.append( subset_positives, ignore_index=True )\n",
    "\n",
    "df_final.shape"
   ]
  },
  {
   "cell_type": "code",
   "execution_count": 614,
   "metadata": {},
   "outputs": [
    {
     "data": {
      "text/plain": "0.0    1276895\n1.0     255379\nName: total, dtype: int64"
     },
     "execution_count": 614,
     "metadata": {},
     "output_type": "execute_result"
    }
   ],
   "source": [
    "df_final['total'].value_counts()"
   ]
  },
  {
   "cell_type": "code",
   "execution_count": 615,
   "metadata": {},
   "outputs": [
    {
     "data": {
      "text/html": "<div>\n<style scoped>\n    .dataframe tbody tr th:only-of-type {\n        vertical-align: middle;\n    }\n\n    .dataframe tbody tr th {\n        vertical-align: top;\n    }\n\n    .dataframe thead th {\n        text-align: right;\n    }\n</style>\n<table border=\"1\" class=\"dataframe\">\n  <thead>\n    <tr style=\"text-align: right;\">\n      <th></th>\n      <th>0</th>\n      <th>1</th>\n      <th>2</th>\n    </tr>\n  </thead>\n  <tbody>\n    <tr>\n      <th>pk_cid</th>\n      <td>1217904.00</td>\n      <td>1504821.0</td>\n      <td>1078654.0</td>\n    </tr>\n    <tr>\n      <th>active_customer</th>\n      <td>0.00</td>\n      <td>0.0</td>\n      <td>0.0</td>\n    </tr>\n    <tr>\n      <th>country_id</th>\n      <td>15.00</td>\n      <td>15.0</td>\n      <td>15.0</td>\n    </tr>\n    <tr>\n      <th>region_code</th>\n      <td>28.00</td>\n      <td>15.0</td>\n      <td>41.0</td>\n    </tr>\n    <tr>\n      <th>age</th>\n      <td>24.00</td>\n      <td>20.0</td>\n      <td>23.0</td>\n    </tr>\n    <tr>\n      <th>salary</th>\n      <td>242661.03</td>\n      <td>-9999.0</td>\n      <td>-9999.0</td>\n    </tr>\n    <tr>\n      <th>total</th>\n      <td>0.00</td>\n      <td>0.0</td>\n      <td>0.0</td>\n    </tr>\n    <tr>\n      <th>tiempo_ult_compra</th>\n      <td>20.00</td>\n      <td>20.0</td>\n      <td>20.0</td>\n    </tr>\n    <tr>\n      <th>inversion</th>\n      <td>0.00</td>\n      <td>0.0</td>\n      <td>0.0</td>\n    </tr>\n    <tr>\n      <th>year</th>\n      <td>2018.00</td>\n      <td>2019.0</td>\n      <td>2018.0</td>\n    </tr>\n    <tr>\n      <th>month</th>\n      <td>10.00</td>\n      <td>1.0</td>\n      <td>3.0</td>\n    </tr>\n  </tbody>\n</table>\n</div>",
      "text/plain": "                            0          1          2\npk_cid             1217904.00  1504821.0  1078654.0\nactive_customer          0.00        0.0        0.0\ncountry_id              15.00       15.0       15.0\nregion_code             28.00       15.0       41.0\nage                     24.00       20.0       23.0\nsalary              242661.03    -9999.0    -9999.0\ntotal                    0.00        0.0        0.0\ntiempo_ult_compra       20.00       20.0       20.0\ninversion                0.00        0.0        0.0\nyear                  2018.00     2019.0     2018.0\nmonth                   10.00        1.0        3.0"
     },
     "execution_count": 615,
     "metadata": {},
     "output_type": "execute_result"
    }
   ],
   "source": [
    "df_final.head(3).T"
   ]
  },
  {
   "cell_type": "code",
   "execution_count": 616,
   "metadata": {},
   "outputs": [],
   "source": [
    "df_final['id'] = range(df_final.shape[0])"
   ]
  },
  {
   "cell_type": "code",
   "execution_count": 617,
   "metadata": {},
   "outputs": [
    {
     "name": "stdout",
     "output_type": "stream",
     "text": [
      "1225819\n",
      "153227\n"
     ]
    }
   ],
   "source": [
    "cost_10 = set(list(df_final['id'].sample(int(df_final.shape[0]*0.8))))\n",
    "cost_60 = set(list(df_final['id'].sample(int(df_final.shape[0]*0.1))))\n",
    "\n",
    "print(len(cost_10))\n",
    "print(len(cost_60))"
   ]
  },
  {
   "cell_type": "code",
   "execution_count": 618,
   "metadata": {},
   "outputs": [
    {
     "name": "stdout",
     "output_type": "stream",
     "text": [
      "306454\n"
     ]
    }
   ],
   "source": [
    "tiempo_1 = set(list(df_final['id'].sample(int(df_final.shape[0]*0.2))))\n",
    "tiempo_2 = set(list(df_final['id'].sample(int(df_final.shape[0]*0.2))))\n",
    "tiempo_3 = set(list(df_final['id'].sample(int(df_final.shape[0]*0.2))))\n",
    "tiempo_4 = set(list(df_final['id'].sample(int(df_final.shape[0]*0.2))))\n",
    "tiempo_5 = set(list(df_final['id'].sample(int(df_final.shape[0]*0.2))))\n",
    "\n",
    "print(len(tiempo_1))"
   ]
  },
  {
   "cell_type": "code",
   "execution_count": null,
   "metadata": {},
   "outputs": [],
   "source": []
  },
  {
   "cell_type": "code",
   "execution_count": 619,
   "metadata": {},
   "outputs": [],
   "source": [
    "df_final['inversion'] = np.where( (df_final['inversion'] == 0) & (df_final['id'].isin(cost_10)), 10, df_final['inversion'])\n",
    "df_final['inversion'] = np.where( (df_final['inversion'] == 0) & (df_final['id'].isin(cost_60)), 60, df_final['inversion'])\n",
    "df_final['inversion'] = np.where( df_final['inversion'] == 0, 40, df_final['inversion'])"
   ]
  },
  {
   "cell_type": "code",
   "execution_count": 620,
   "metadata": {},
   "outputs": [],
   "source": [
    "df_final['tiempo_ult_compra'] = np.where( (df_final['tiempo_ult_compra'] == 20) & (df_final['id'].isin(tiempo_1)), 1, df_final['tiempo_ult_compra'])\n",
    "df_final['tiempo_ult_compra'] = np.where( (df_final['tiempo_ult_compra'] == 20) & (df_final['id'].isin(tiempo_2)), 2, df_final['tiempo_ult_compra'])\n",
    "df_final['tiempo_ult_compra'] = np.where( (df_final['tiempo_ult_compra'] == 20) & (df_final['id'].isin(tiempo_3)), 3, df_final['tiempo_ult_compra'])\n",
    "df_final['tiempo_ult_compra'] = np.where( (df_final['tiempo_ult_compra'] == 20) & (df_final['id'].isin(tiempo_4)), 4, df_final['tiempo_ult_compra'])\n",
    "df_final['tiempo_ult_compra'] = np.where( (df_final['tiempo_ult_compra'] == 20) & (df_final['id'].isin(tiempo_5)), 5, df_final['tiempo_ult_compra'])\n",
    "df_final['tiempo_ult_compra'] = np.where( df_final['tiempo_ult_compra'] == 20, 3, df_final['tiempo_ult_compra'])"
   ]
  },
  {
   "cell_type": "code",
   "execution_count": 621,
   "metadata": {},
   "outputs": [
    {
     "data": {
      "text/plain": "10.0    1169601\n40.0     261009\n60.0     101664\nName: inversion, dtype: int64"
     },
     "execution_count": 621,
     "metadata": {},
     "output_type": "execute_result"
    }
   ],
   "source": [
    "df_final['inversion'].value_counts()"
   ]
  },
  {
   "cell_type": "code",
   "execution_count": 622,
   "metadata": {},
   "outputs": [
    {
     "data": {
      "text/plain": "3.0     579767\n1.0     307729\n2.0     251264\n4.0     160326\n5.0     128336\n6.0      29210\n7.0      23812\n8.0      17992\n9.0      12250\n10.0      8204\n11.0      4780\n12.0      3648\n13.0      2600\n14.0      1578\n15.0       778\nName: tiempo_ult_compra, dtype: int64"
     },
     "execution_count": 622,
     "metadata": {},
     "output_type": "execute_result"
    }
   ],
   "source": [
    "df_final['tiempo_ult_compra'].value_counts()"
   ]
  },
  {
   "cell_type": "code",
   "execution_count": 623,
   "metadata": {},
   "outputs": [],
   "source": [
    "features = df_final.columns.to_list()\n",
    "features.remove(target)\n",
    "features.remove('pk_cid')\n",
    "features.remove('id')\n",
    "features.remove('country_id') \n",
    "#features.remove('tiempo_ult_compra') "
   ]
  },
  {
   "cell_type": "code",
   "execution_count": 624,
   "metadata": {},
   "outputs": [
    {
     "data": {
      "text/html": "<style  type=\"text/css\" >\n#T_c5ee41f6_af26_11eb_a42f_1e00da1e1f75row0_col0,#T_c5ee41f6_af26_11eb_a42f_1e00da1e1f75row1_col1,#T_c5ee41f6_af26_11eb_a42f_1e00da1e1f75row2_col2,#T_c5ee41f6_af26_11eb_a42f_1e00da1e1f75row3_col3,#T_c5ee41f6_af26_11eb_a42f_1e00da1e1f75row4_col4,#T_c5ee41f6_af26_11eb_a42f_1e00da1e1f75row5_col5,#T_c5ee41f6_af26_11eb_a42f_1e00da1e1f75row6_col6,#T_c5ee41f6_af26_11eb_a42f_1e00da1e1f75row7_col7,#T_c5ee41f6_af26_11eb_a42f_1e00da1e1f75row8_col8,#T_c5ee41f6_af26_11eb_a42f_1e00da1e1f75row9_col9,#T_c5ee41f6_af26_11eb_a42f_1e00da1e1f75row10_col10,#T_c5ee41f6_af26_11eb_a42f_1e00da1e1f75row11_col11{\n            background-color:  #b40426;\n            color:  #f1f1f1;\n        }#T_c5ee41f6_af26_11eb_a42f_1e00da1e1f75row0_col1,#T_c5ee41f6_af26_11eb_a42f_1e00da1e1f75row3_col1,#T_c5ee41f6_af26_11eb_a42f_1e00da1e1f75row4_col3,#T_c5ee41f6_af26_11eb_a42f_1e00da1e1f75row5_col8,#T_c5ee41f6_af26_11eb_a42f_1e00da1e1f75row7_col6,#T_c5ee41f6_af26_11eb_a42f_1e00da1e1f75row7_col8,#T_c5ee41f6_af26_11eb_a42f_1e00da1e1f75row9_col8,#T_c5ee41f6_af26_11eb_a42f_1e00da1e1f75row11_col3,#T_c5ee41f6_af26_11eb_a42f_1e00da1e1f75row11_col7{\n            background-color:  #4961d2;\n            color:  #f1f1f1;\n        }#T_c5ee41f6_af26_11eb_a42f_1e00da1e1f75row0_col2{\n            background-color:  #4358cb;\n            color:  #f1f1f1;\n        }#T_c5ee41f6_af26_11eb_a42f_1e00da1e1f75row0_col3,#T_c5ee41f6_af26_11eb_a42f_1e00da1e1f75row2_col6,#T_c5ee41f6_af26_11eb_a42f_1e00da1e1f75row3_col7,#T_c5ee41f6_af26_11eb_a42f_1e00da1e1f75row5_col7,#T_c5ee41f6_af26_11eb_a42f_1e00da1e1f75row10_col4{\n            background-color:  #506bda;\n            color:  #000000;\n        }#T_c5ee41f6_af26_11eb_a42f_1e00da1e1f75row0_col4,#T_c5ee41f6_af26_11eb_a42f_1e00da1e1f75row0_col5,#T_c5ee41f6_af26_11eb_a42f_1e00da1e1f75row0_col8,#T_c5ee41f6_af26_11eb_a42f_1e00da1e1f75row2_col3,#T_c5ee41f6_af26_11eb_a42f_1e00da1e1f75row3_col2,#T_c5ee41f6_af26_11eb_a42f_1e00da1e1f75row4_col0,#T_c5ee41f6_af26_11eb_a42f_1e00da1e1f75row9_col1,#T_c5ee41f6_af26_11eb_a42f_1e00da1e1f75row9_col6,#T_c5ee41f6_af26_11eb_a42f_1e00da1e1f75row9_col10,#T_c5ee41f6_af26_11eb_a42f_1e00da1e1f75row9_col11,#T_c5ee41f6_af26_11eb_a42f_1e00da1e1f75row10_col1,#T_c5ee41f6_af26_11eb_a42f_1e00da1e1f75row10_col7,#T_c5ee41f6_af26_11eb_a42f_1e00da1e1f75row10_col9{\n            background-color:  #3b4cc0;\n            color:  #f1f1f1;\n        }#T_c5ee41f6_af26_11eb_a42f_1e00da1e1f75row0_col6,#T_c5ee41f6_af26_11eb_a42f_1e00da1e1f75row9_col7{\n            background-color:  #96b7ff;\n            color:  #000000;\n        }#T_c5ee41f6_af26_11eb_a42f_1e00da1e1f75row0_col7{\n            background-color:  #6687ed;\n            color:  #000000;\n        }#T_c5ee41f6_af26_11eb_a42f_1e00da1e1f75row0_col9{\n            background-color:  #cedaeb;\n            color:  #000000;\n        }#T_c5ee41f6_af26_11eb_a42f_1e00da1e1f75row0_col10{\n            background-color:  #c1d4f4;\n            color:  #000000;\n        }#T_c5ee41f6_af26_11eb_a42f_1e00da1e1f75row0_col11,#T_c5ee41f6_af26_11eb_a42f_1e00da1e1f75row8_col11,#T_c5ee41f6_af26_11eb_a42f_1e00da1e1f75row9_col0{\n            background-color:  #7da0f9;\n            color:  #000000;\n        }#T_c5ee41f6_af26_11eb_a42f_1e00da1e1f75row1_col0{\n            background-color:  #5f7fe8;\n            color:  #000000;\n        }#T_c5ee41f6_af26_11eb_a42f_1e00da1e1f75row1_col2,#T_c5ee41f6_af26_11eb_a42f_1e00da1e1f75row4_col2,#T_c5ee41f6_af26_11eb_a42f_1e00da1e1f75row5_col2,#T_c5ee41f6_af26_11eb_a42f_1e00da1e1f75row6_col2,#T_c5ee41f6_af26_11eb_a42f_1e00da1e1f75row7_col2,#T_c5ee41f6_af26_11eb_a42f_1e00da1e1f75row10_col2,#T_c5ee41f6_af26_11eb_a42f_1e00da1e1f75row11_col2{\n            background-color:  #445acc;\n            color:  #f1f1f1;\n        }#T_c5ee41f6_af26_11eb_a42f_1e00da1e1f75row1_col3{\n            background-color:  #4b64d5;\n            color:  #f1f1f1;\n        }#T_c5ee41f6_af26_11eb_a42f_1e00da1e1f75row1_col4,#T_c5ee41f6_af26_11eb_a42f_1e00da1e1f75row1_col9,#T_c5ee41f6_af26_11eb_a42f_1e00da1e1f75row1_col10{\n            background-color:  #b2ccfb;\n            color:  #000000;\n        }#T_c5ee41f6_af26_11eb_a42f_1e00da1e1f75row1_col5,#T_c5ee41f6_af26_11eb_a42f_1e00da1e1f75row8_col5{\n            background-color:  #5a78e4;\n            color:  #000000;\n        }#T_c5ee41f6_af26_11eb_a42f_1e00da1e1f75row1_col6,#T_c5ee41f6_af26_11eb_a42f_1e00da1e1f75row8_col10{\n            background-color:  #b5cdfa;\n            color:  #000000;\n        }#T_c5ee41f6_af26_11eb_a42f_1e00da1e1f75row1_col7,#T_c5ee41f6_af26_11eb_a42f_1e00da1e1f75row3_col0,#T_c5ee41f6_af26_11eb_a42f_1e00da1e1f75row7_col4{\n            background-color:  #6485ec;\n            color:  #000000;\n        }#T_c5ee41f6_af26_11eb_a42f_1e00da1e1f75row1_col8{\n            background-color:  #7699f6;\n            color:  #000000;\n        }#T_c5ee41f6_af26_11eb_a42f_1e00da1e1f75row1_col11{\n            background-color:  #86a9fc;\n            color:  #000000;\n        }#T_c5ee41f6_af26_11eb_a42f_1e00da1e1f75row2_col0,#T_c5ee41f6_af26_11eb_a42f_1e00da1e1f75row2_col5,#T_c5ee41f6_af26_11eb_a42f_1e00da1e1f75row3_col6,#T_c5ee41f6_af26_11eb_a42f_1e00da1e1f75row7_col1{\n            background-color:  #5673e0;\n            color:  #000000;\n        }#T_c5ee41f6_af26_11eb_a42f_1e00da1e1f75row2_col1,#T_c5ee41f6_af26_11eb_a42f_1e00da1e1f75row7_col11,#T_c5ee41f6_af26_11eb_a42f_1e00da1e1f75row10_col8{\n            background-color:  #4257c9;\n            color:  #f1f1f1;\n        }#T_c5ee41f6_af26_11eb_a42f_1e00da1e1f75row2_col4,#T_c5ee41f6_af26_11eb_a42f_1e00da1e1f75row7_col5{\n            background-color:  #5875e1;\n            color:  #000000;\n        }#T_c5ee41f6_af26_11eb_a42f_1e00da1e1f75row2_col7,#T_c5ee41f6_af26_11eb_a42f_1e00da1e1f75row11_col5{\n            background-color:  #4f69d9;\n            color:  #000000;\n        }#T_c5ee41f6_af26_11eb_a42f_1e00da1e1f75row2_col8,#T_c5ee41f6_af26_11eb_a42f_1e00da1e1f75row3_col8,#T_c5ee41f6_af26_11eb_a42f_1e00da1e1f75row5_col6{\n            background-color:  #465ecf;\n            color:  #f1f1f1;\n        }#T_c5ee41f6_af26_11eb_a42f_1e00da1e1f75row2_col9,#T_c5ee41f6_af26_11eb_a42f_1e00da1e1f75row2_col10,#T_c5ee41f6_af26_11eb_a42f_1e00da1e1f75row3_col9,#T_c5ee41f6_af26_11eb_a42f_1e00da1e1f75row3_col10{\n            background-color:  #b7cff9;\n            color:  #000000;\n        }#T_c5ee41f6_af26_11eb_a42f_1e00da1e1f75row2_col11,#T_c5ee41f6_af26_11eb_a42f_1e00da1e1f75row6_col7{\n            background-color:  #485fd1;\n            color:  #f1f1f1;\n        }#T_c5ee41f6_af26_11eb_a42f_1e00da1e1f75row3_col4,#T_c5ee41f6_af26_11eb_a42f_1e00da1e1f75row4_col5,#T_c5ee41f6_af26_11eb_a42f_1e00da1e1f75row5_col4{\n            background-color:  #5d7ce6;\n            color:  #000000;\n        }#T_c5ee41f6_af26_11eb_a42f_1e00da1e1f75row3_col5{\n            background-color:  #516ddb;\n            color:  #000000;\n        }#T_c5ee41f6_af26_11eb_a42f_1e00da1e1f75row3_col11,#T_c5ee41f6_af26_11eb_a42f_1e00da1e1f75row6_col5,#T_c5ee41f6_af26_11eb_a42f_1e00da1e1f75row8_col0{\n            background-color:  #4c66d6;\n            color:  #000000;\n        }#T_c5ee41f6_af26_11eb_a42f_1e00da1e1f75row4_col1{\n            background-color:  #a1c0ff;\n            color:  #000000;\n        }#T_c5ee41f6_af26_11eb_a42f_1e00da1e1f75row4_col6{\n            background-color:  #7a9df8;\n            color:  #000000;\n        }#T_c5ee41f6_af26_11eb_a42f_1e00da1e1f75row4_col7,#T_c5ee41f6_af26_11eb_a42f_1e00da1e1f75row10_col11{\n            background-color:  #5b7ae5;\n            color:  #000000;\n        }#T_c5ee41f6_af26_11eb_a42f_1e00da1e1f75row4_col8{\n            background-color:  #5e7de7;\n            color:  #000000;\n        }#T_c5ee41f6_af26_11eb_a42f_1e00da1e1f75row4_col9{\n            background-color:  #bcd2f7;\n            color:  #000000;\n        }#T_c5ee41f6_af26_11eb_a42f_1e00da1e1f75row4_col10,#T_c5ee41f6_af26_11eb_a42f_1e00da1e1f75row5_col9{\n            background-color:  #b1cbfc;\n            color:  #000000;\n        }#T_c5ee41f6_af26_11eb_a42f_1e00da1e1f75row4_col11,#T_c5ee41f6_af26_11eb_a42f_1e00da1e1f75row9_col4{\n            background-color:  #6180e9;\n            color:  #000000;\n        }#T_c5ee41f6_af26_11eb_a42f_1e00da1e1f75row5_col0{\n            background-color:  #3c4ec2;\n            color:  #f1f1f1;\n        }#T_c5ee41f6_af26_11eb_a42f_1e00da1e1f75row5_col1,#T_c5ee41f6_af26_11eb_a42f_1e00da1e1f75row7_col3,#T_c5ee41f6_af26_11eb_a42f_1e00da1e1f75row8_col2,#T_c5ee41f6_af26_11eb_a42f_1e00da1e1f75row8_col3,#T_c5ee41f6_af26_11eb_a42f_1e00da1e1f75row9_col2,#T_c5ee41f6_af26_11eb_a42f_1e00da1e1f75row9_col3,#T_c5ee41f6_af26_11eb_a42f_1e00da1e1f75row10_col3{\n            background-color:  #455cce;\n            color:  #f1f1f1;\n        }#T_c5ee41f6_af26_11eb_a42f_1e00da1e1f75row5_col3,#T_c5ee41f6_af26_11eb_a42f_1e00da1e1f75row5_col11{\n            background-color:  #3f53c6;\n            color:  #f1f1f1;\n        }#T_c5ee41f6_af26_11eb_a42f_1e00da1e1f75row5_col10{\n            background-color:  #b6cefa;\n            color:  #000000;\n        }#T_c5ee41f6_af26_11eb_a42f_1e00da1e1f75row6_col0{\n            background-color:  #9bbcff;\n            color:  #000000;\n        }#T_c5ee41f6_af26_11eb_a42f_1e00da1e1f75row6_col1{\n            background-color:  #a9c6fd;\n            color:  #000000;\n        }#T_c5ee41f6_af26_11eb_a42f_1e00da1e1f75row6_col3{\n            background-color:  #4a63d3;\n            color:  #f1f1f1;\n        }#T_c5ee41f6_af26_11eb_a42f_1e00da1e1f75row6_col4,#T_c5ee41f6_af26_11eb_a42f_1e00da1e1f75row11_col1{\n            background-color:  #81a4fb;\n            color:  #000000;\n        }#T_c5ee41f6_af26_11eb_a42f_1e00da1e1f75row6_col8{\n            background-color:  #a3c2fe;\n            color:  #000000;\n        }#T_c5ee41f6_af26_11eb_a42f_1e00da1e1f75row6_col9{\n            background-color:  #a6c4fe;\n            color:  #000000;\n        }#T_c5ee41f6_af26_11eb_a42f_1e00da1e1f75row6_col10{\n            background-color:  #c9d7f0;\n            color:  #000000;\n        }#T_c5ee41f6_af26_11eb_a42f_1e00da1e1f75row6_col11{\n            background-color:  #f7b99e;\n            color:  #000000;\n        }#T_c5ee41f6_af26_11eb_a42f_1e00da1e1f75row7_col0,#T_c5ee41f6_af26_11eb_a42f_1e00da1e1f75row8_col4{\n            background-color:  #6f92f3;\n            color:  #000000;\n        }#T_c5ee41f6_af26_11eb_a42f_1e00da1e1f75row7_col9{\n            background-color:  #dfdbd9;\n            color:  #000000;\n        }#T_c5ee41f6_af26_11eb_a42f_1e00da1e1f75row7_col10{\n            background-color:  #a7c5fe;\n            color:  #000000;\n        }#T_c5ee41f6_af26_11eb_a42f_1e00da1e1f75row8_col1{\n            background-color:  #7295f4;\n            color:  #000000;\n        }#T_c5ee41f6_af26_11eb_a42f_1e00da1e1f75row8_col6,#T_c5ee41f6_af26_11eb_a42f_1e00da1e1f75row11_col9{\n            background-color:  #adc9fd;\n            color:  #000000;\n        }#T_c5ee41f6_af26_11eb_a42f_1e00da1e1f75row8_col7{\n            background-color:  #536edd;\n            color:  #000000;\n        }#T_c5ee41f6_af26_11eb_a42f_1e00da1e1f75row8_col9{\n            background-color:  #b9d0f9;\n            color:  #000000;\n        }#T_c5ee41f6_af26_11eb_a42f_1e00da1e1f75row9_col5{\n            background-color:  #4e68d8;\n            color:  #000000;\n        }#T_c5ee41f6_af26_11eb_a42f_1e00da1e1f75row10_col0{\n            background-color:  #6788ee;\n            color:  #000000;\n        }#T_c5ee41f6_af26_11eb_a42f_1e00da1e1f75row10_col5{\n            background-color:  #5572df;\n            color:  #000000;\n        }#T_c5ee41f6_af26_11eb_a42f_1e00da1e1f75row10_col6{\n            background-color:  #6c8ff1;\n            color:  #000000;\n        }#T_c5ee41f6_af26_11eb_a42f_1e00da1e1f75row11_col0{\n            background-color:  #8caffe;\n            color:  #000000;\n        }#T_c5ee41f6_af26_11eb_a42f_1e00da1e1f75row11_col4{\n            background-color:  #7093f3;\n            color:  #000000;\n        }#T_c5ee41f6_af26_11eb_a42f_1e00da1e1f75row11_col6{\n            background-color:  #f7b79b;\n            color:  #000000;\n        }#T_c5ee41f6_af26_11eb_a42f_1e00da1e1f75row11_col8{\n            background-color:  #7b9ff9;\n            color:  #000000;\n        }#T_c5ee41f6_af26_11eb_a42f_1e00da1e1f75row11_col10{\n            background-color:  #c4d5f3;\n            color:  #000000;\n        }</style><table id=\"T_c5ee41f6_af26_11eb_a42f_1e00da1e1f75\" ><thead>    <tr>        <th class=\"blank level0\" ></th>        <th class=\"col_heading level0 col0\" >pk_cid</th>        <th class=\"col_heading level0 col1\" >active_customer</th>        <th class=\"col_heading level0 col2\" >country_id</th>        <th class=\"col_heading level0 col3\" >region_code</th>        <th class=\"col_heading level0 col4\" >age</th>        <th class=\"col_heading level0 col5\" >salary</th>        <th class=\"col_heading level0 col6\" >total</th>        <th class=\"col_heading level0 col7\" >tiempo_ult_compra</th>        <th class=\"col_heading level0 col8\" >inversion</th>        <th class=\"col_heading level0 col9\" >year</th>        <th class=\"col_heading level0 col10\" >month</th>        <th class=\"col_heading level0 col11\" >id</th>    </tr></thead><tbody>\n                <tr>\n                        <th id=\"T_c5ee41f6_af26_11eb_a42f_1e00da1e1f75level0_row0\" class=\"row_heading level0 row0\" >pk_cid</th>\n                        <td id=\"T_c5ee41f6_af26_11eb_a42f_1e00da1e1f75row0_col0\" class=\"data row0 col0\" >1.000</td>\n                        <td id=\"T_c5ee41f6_af26_11eb_a42f_1e00da1e1f75row0_col1\" class=\"data row0 col1\" >0.025</td>\n                        <td id=\"T_c5ee41f6_af26_11eb_a42f_1e00da1e1f75row0_col2\" class=\"data row0 col2\" >-0.003</td>\n                        <td id=\"T_c5ee41f6_af26_11eb_a42f_1e00da1e1f75row0_col3\" class=\"data row0 col3\" >0.041</td>\n                        <td id=\"T_c5ee41f6_af26_11eb_a42f_1e00da1e1f75row0_col4\" class=\"data row0 col4\" >-0.106</td>\n                        <td id=\"T_c5ee41f6_af26_11eb_a42f_1e00da1e1f75row0_col5\" class=\"data row0 col5\" >-0.102</td>\n                        <td id=\"T_c5ee41f6_af26_11eb_a42f_1e00da1e1f75row0_col6\" class=\"data row0 col6\" >0.218</td>\n                        <td id=\"T_c5ee41f6_af26_11eb_a42f_1e00da1e1f75row0_col7\" class=\"data row0 col7\" >0.076</td>\n                        <td id=\"T_c5ee41f6_af26_11eb_a42f_1e00da1e1f75row0_col8\" class=\"data row0 col8\" >-0.040</td>\n                        <td id=\"T_c5ee41f6_af26_11eb_a42f_1e00da1e1f75row0_col9\" class=\"data row0 col9\" >0.120</td>\n                        <td id=\"T_c5ee41f6_af26_11eb_a42f_1e00da1e1f75row0_col10\" class=\"data row0 col10\" >0.052</td>\n                        <td id=\"T_c5ee41f6_af26_11eb_a42f_1e00da1e1f75row0_col11\" class=\"data row0 col11\" >0.167</td>\n            </tr>\n            <tr>\n                        <th id=\"T_c5ee41f6_af26_11eb_a42f_1e00da1e1f75level0_row1\" class=\"row_heading level0 row1\" >active_customer</th>\n                        <td id=\"T_c5ee41f6_af26_11eb_a42f_1e00da1e1f75row1_col0\" class=\"data row1 col0\" >0.025</td>\n                        <td id=\"T_c5ee41f6_af26_11eb_a42f_1e00da1e1f75row1_col1\" class=\"data row1 col1\" >1.000</td>\n                        <td id=\"T_c5ee41f6_af26_11eb_a42f_1e00da1e1f75row1_col2\" class=\"data row1 col2\" >-0.001</td>\n                        <td id=\"T_c5ee41f6_af26_11eb_a42f_1e00da1e1f75row1_col3\" class=\"data row1 col3\" >0.025</td>\n                        <td id=\"T_c5ee41f6_af26_11eb_a42f_1e00da1e1f75row1_col4\" class=\"data row1 col4\" >0.288</td>\n                        <td id=\"T_c5ee41f6_af26_11eb_a42f_1e00da1e1f75row1_col5\" class=\"data row1 col5\" >0.011</td>\n                        <td id=\"T_c5ee41f6_af26_11eb_a42f_1e00da1e1f75row1_col6\" class=\"data row1 col6\" >0.315</td>\n                        <td id=\"T_c5ee41f6_af26_11eb_a42f_1e00da1e1f75row1_col7\" class=\"data row1 col7\" >0.071</td>\n                        <td id=\"T_c5ee41f6_af26_11eb_a42f_1e00da1e1f75row1_col8\" class=\"data row1 col8\" >0.152</td>\n                        <td id=\"T_c5ee41f6_af26_11eb_a42f_1e00da1e1f75row1_col9\" class=\"data row1 col9\" >-0.024</td>\n                        <td id=\"T_c5ee41f6_af26_11eb_a42f_1e00da1e1f75row1_col10\" class=\"data row1 col10\" >-0.025</td>\n                        <td id=\"T_c5ee41f6_af26_11eb_a42f_1e00da1e1f75row1_col11\" class=\"data row1 col11\" >0.196</td>\n            </tr>\n            <tr>\n                        <th id=\"T_c5ee41f6_af26_11eb_a42f_1e00da1e1f75level0_row2\" class=\"row_heading level0 row2\" >country_id</th>\n                        <td id=\"T_c5ee41f6_af26_11eb_a42f_1e00da1e1f75row2_col0\" class=\"data row2 col0\" >-0.003</td>\n                        <td id=\"T_c5ee41f6_af26_11eb_a42f_1e00da1e1f75row2_col1\" class=\"data row2 col1\" >-0.001</td>\n                        <td id=\"T_c5ee41f6_af26_11eb_a42f_1e00da1e1f75row2_col2\" class=\"data row2 col2\" >1.000</td>\n                        <td id=\"T_c5ee41f6_af26_11eb_a42f_1e00da1e1f75row2_col3\" class=\"data row2 col3\" >-0.035</td>\n                        <td id=\"T_c5ee41f6_af26_11eb_a42f_1e00da1e1f75row2_col4\" class=\"data row2 col4\" >0.001</td>\n                        <td id=\"T_c5ee41f6_af26_11eb_a42f_1e00da1e1f75row2_col5\" class=\"data row2 col5\" >-0.002</td>\n                        <td id=\"T_c5ee41f6_af26_11eb_a42f_1e00da1e1f75row2_col6\" class=\"data row2 col6\" >-0.001</td>\n                        <td id=\"T_c5ee41f6_af26_11eb_a42f_1e00da1e1f75row2_col7\" class=\"data row2 col7\" >-0.001</td>\n                        <td id=\"T_c5ee41f6_af26_11eb_a42f_1e00da1e1f75row2_col8\" class=\"data row2 col8\" >0.002</td>\n                        <td id=\"T_c5ee41f6_af26_11eb_a42f_1e00da1e1f75row2_col9\" class=\"data row2 col9\" >0.002</td>\n                        <td id=\"T_c5ee41f6_af26_11eb_a42f_1e00da1e1f75row2_col10\" class=\"data row2 col10\" >-0.000</td>\n                        <td id=\"T_c5ee41f6_af26_11eb_a42f_1e00da1e1f75row2_col11\" class=\"data row2 col11\" >-0.000</td>\n            </tr>\n            <tr>\n                        <th id=\"T_c5ee41f6_af26_11eb_a42f_1e00da1e1f75level0_row3\" class=\"row_heading level0 row3\" >region_code</th>\n                        <td id=\"T_c5ee41f6_af26_11eb_a42f_1e00da1e1f75row3_col0\" class=\"data row3 col0\" >0.041</td>\n                        <td id=\"T_c5ee41f6_af26_11eb_a42f_1e00da1e1f75row3_col1\" class=\"data row3 col1\" >0.025</td>\n                        <td id=\"T_c5ee41f6_af26_11eb_a42f_1e00da1e1f75row3_col2\" class=\"data row3 col2\" >-0.035</td>\n                        <td id=\"T_c5ee41f6_af26_11eb_a42f_1e00da1e1f75row3_col3\" class=\"data row3 col3\" >1.000</td>\n                        <td id=\"T_c5ee41f6_af26_11eb_a42f_1e00da1e1f75row3_col4\" class=\"data row3 col4\" >0.015</td>\n                        <td id=\"T_c5ee41f6_af26_11eb_a42f_1e00da1e1f75row3_col5\" class=\"data row3 col5\" >-0.016</td>\n                        <td id=\"T_c5ee41f6_af26_11eb_a42f_1e00da1e1f75row3_col6\" class=\"data row3 col6\" >0.020</td>\n                        <td id=\"T_c5ee41f6_af26_11eb_a42f_1e00da1e1f75row3_col7\" class=\"data row3 col7\" >0.002</td>\n                        <td id=\"T_c5ee41f6_af26_11eb_a42f_1e00da1e1f75row3_col8\" class=\"data row3 col8\" >0.003</td>\n                        <td id=\"T_c5ee41f6_af26_11eb_a42f_1e00da1e1f75row3_col9\" class=\"data row3 col9\" >0.002</td>\n                        <td id=\"T_c5ee41f6_af26_11eb_a42f_1e00da1e1f75row3_col10\" class=\"data row3 col10\" >0.003</td>\n                        <td id=\"T_c5ee41f6_af26_11eb_a42f_1e00da1e1f75row3_col11\" class=\"data row3 col11\" >0.014</td>\n            </tr>\n            <tr>\n                        <th id=\"T_c5ee41f6_af26_11eb_a42f_1e00da1e1f75level0_row4\" class=\"row_heading level0 row4\" >age</th>\n                        <td id=\"T_c5ee41f6_af26_11eb_a42f_1e00da1e1f75row4_col0\" class=\"data row4 col0\" >-0.106</td>\n                        <td id=\"T_c5ee41f6_af26_11eb_a42f_1e00da1e1f75row4_col1\" class=\"data row4 col1\" >0.288</td>\n                        <td id=\"T_c5ee41f6_af26_11eb_a42f_1e00da1e1f75row4_col2\" class=\"data row4 col2\" >0.001</td>\n                        <td id=\"T_c5ee41f6_af26_11eb_a42f_1e00da1e1f75row4_col3\" class=\"data row4 col3\" >0.015</td>\n                        <td id=\"T_c5ee41f6_af26_11eb_a42f_1e00da1e1f75row4_col4\" class=\"data row4 col4\" >1.000</td>\n                        <td id=\"T_c5ee41f6_af26_11eb_a42f_1e00da1e1f75row4_col5\" class=\"data row4 col5\" >0.019</td>\n                        <td id=\"T_c5ee41f6_af26_11eb_a42f_1e00da1e1f75row4_col6\" class=\"data row4 col6\" >0.135</td>\n                        <td id=\"T_c5ee41f6_af26_11eb_a42f_1e00da1e1f75row4_col7\" class=\"data row4 col7\" >0.042</td>\n                        <td id=\"T_c5ee41f6_af26_11eb_a42f_1e00da1e1f75row4_col8\" class=\"data row4 col8\" >0.078</td>\n                        <td id=\"T_c5ee41f6_af26_11eb_a42f_1e00da1e1f75row4_col9\" class=\"data row4 col9\" >0.030</td>\n                        <td id=\"T_c5ee41f6_af26_11eb_a42f_1e00da1e1f75row4_col10\" class=\"data row4 col10\" >-0.026</td>\n                        <td id=\"T_c5ee41f6_af26_11eb_a42f_1e00da1e1f75row4_col11\" class=\"data row4 col11\" >0.083</td>\n            </tr>\n            <tr>\n                        <th id=\"T_c5ee41f6_af26_11eb_a42f_1e00da1e1f75level0_row5\" class=\"row_heading level0 row5\" >salary</th>\n                        <td id=\"T_c5ee41f6_af26_11eb_a42f_1e00da1e1f75row5_col0\" class=\"data row5 col0\" >-0.102</td>\n                        <td id=\"T_c5ee41f6_af26_11eb_a42f_1e00da1e1f75row5_col1\" class=\"data row5 col1\" >0.011</td>\n                        <td id=\"T_c5ee41f6_af26_11eb_a42f_1e00da1e1f75row5_col2\" class=\"data row5 col2\" >-0.002</td>\n                        <td id=\"T_c5ee41f6_af26_11eb_a42f_1e00da1e1f75row5_col3\" class=\"data row5 col3\" >-0.016</td>\n                        <td id=\"T_c5ee41f6_af26_11eb_a42f_1e00da1e1f75row5_col4\" class=\"data row5 col4\" >0.019</td>\n                        <td id=\"T_c5ee41f6_af26_11eb_a42f_1e00da1e1f75row5_col5\" class=\"data row5 col5\" >1.000</td>\n                        <td id=\"T_c5ee41f6_af26_11eb_a42f_1e00da1e1f75row5_col6\" class=\"data row5 col6\" >-0.034</td>\n                        <td id=\"T_c5ee41f6_af26_11eb_a42f_1e00da1e1f75row5_col7\" class=\"data row5 col7\" >0.004</td>\n                        <td id=\"T_c5ee41f6_af26_11eb_a42f_1e00da1e1f75row5_col8\" class=\"data row5 col8\" >0.013</td>\n                        <td id=\"T_c5ee41f6_af26_11eb_a42f_1e00da1e1f75row5_col9\" class=\"data row5 col9\" >-0.029</td>\n                        <td id=\"T_c5ee41f6_af26_11eb_a42f_1e00da1e1f75row5_col10\" class=\"data row5 col10\" >-0.003</td>\n                        <td id=\"T_c5ee41f6_af26_11eb_a42f_1e00da1e1f75row5_col11\" class=\"data row5 col11\" >-0.028</td>\n            </tr>\n            <tr>\n                        <th id=\"T_c5ee41f6_af26_11eb_a42f_1e00da1e1f75level0_row6\" class=\"row_heading level0 row6\" >total</th>\n                        <td id=\"T_c5ee41f6_af26_11eb_a42f_1e00da1e1f75row6_col0\" class=\"data row6 col0\" >0.218</td>\n                        <td id=\"T_c5ee41f6_af26_11eb_a42f_1e00da1e1f75row6_col1\" class=\"data row6 col1\" >0.315</td>\n                        <td id=\"T_c5ee41f6_af26_11eb_a42f_1e00da1e1f75row6_col2\" class=\"data row6 col2\" >-0.001</td>\n                        <td id=\"T_c5ee41f6_af26_11eb_a42f_1e00da1e1f75row6_col3\" class=\"data row6 col3\" >0.020</td>\n                        <td id=\"T_c5ee41f6_af26_11eb_a42f_1e00da1e1f75row6_col4\" class=\"data row6 col4\" >0.135</td>\n                        <td id=\"T_c5ee41f6_af26_11eb_a42f_1e00da1e1f75row6_col5\" class=\"data row6 col5\" >-0.034</td>\n                        <td id=\"T_c5ee41f6_af26_11eb_a42f_1e00da1e1f75row6_col6\" class=\"data row6 col6\" >1.000</td>\n                        <td id=\"T_c5ee41f6_af26_11eb_a42f_1e00da1e1f75row6_col7\" class=\"data row6 col7\" >-0.027</td>\n                        <td id=\"T_c5ee41f6_af26_11eb_a42f_1e00da1e1f75row6_col8\" class=\"data row6 col8\" >0.289</td>\n                        <td id=\"T_c5ee41f6_af26_11eb_a42f_1e00da1e1f75row6_col9\" class=\"data row6 col9\" >-0.078</td>\n                        <td id=\"T_c5ee41f6_af26_11eb_a42f_1e00da1e1f75row6_col10\" class=\"data row6 col10\" >0.092</td>\n                        <td id=\"T_c5ee41f6_af26_11eb_a42f_1e00da1e1f75row6_col11\" class=\"data row6 col11\" >0.645</td>\n            </tr>\n            <tr>\n                        <th id=\"T_c5ee41f6_af26_11eb_a42f_1e00da1e1f75level0_row7\" class=\"row_heading level0 row7\" >tiempo_ult_compra</th>\n                        <td id=\"T_c5ee41f6_af26_11eb_a42f_1e00da1e1f75row7_col0\" class=\"data row7 col0\" >0.076</td>\n                        <td id=\"T_c5ee41f6_af26_11eb_a42f_1e00da1e1f75row7_col1\" class=\"data row7 col1\" >0.071</td>\n                        <td id=\"T_c5ee41f6_af26_11eb_a42f_1e00da1e1f75row7_col2\" class=\"data row7 col2\" >-0.001</td>\n                        <td id=\"T_c5ee41f6_af26_11eb_a42f_1e00da1e1f75row7_col3\" class=\"data row7 col3\" >0.002</td>\n                        <td id=\"T_c5ee41f6_af26_11eb_a42f_1e00da1e1f75row7_col4\" class=\"data row7 col4\" >0.042</td>\n                        <td id=\"T_c5ee41f6_af26_11eb_a42f_1e00da1e1f75row7_col5\" class=\"data row7 col5\" >0.004</td>\n                        <td id=\"T_c5ee41f6_af26_11eb_a42f_1e00da1e1f75row7_col6\" class=\"data row7 col6\" >-0.027</td>\n                        <td id=\"T_c5ee41f6_af26_11eb_a42f_1e00da1e1f75row7_col7\" class=\"data row7 col7\" >1.000</td>\n                        <td id=\"T_c5ee41f6_af26_11eb_a42f_1e00da1e1f75row7_col8\" class=\"data row7 col8\" >0.010</td>\n                        <td id=\"T_c5ee41f6_af26_11eb_a42f_1e00da1e1f75row7_col9\" class=\"data row7 col9\" >0.223</td>\n                        <td id=\"T_c5ee41f6_af26_11eb_a42f_1e00da1e1f75row7_col10\" class=\"data row7 col10\" >-0.074</td>\n                        <td id=\"T_c5ee41f6_af26_11eb_a42f_1e00da1e1f75row7_col11\" class=\"data row7 col11\" >-0.021</td>\n            </tr>\n            <tr>\n                        <th id=\"T_c5ee41f6_af26_11eb_a42f_1e00da1e1f75level0_row8\" class=\"row_heading level0 row8\" >inversion</th>\n                        <td id=\"T_c5ee41f6_af26_11eb_a42f_1e00da1e1f75row8_col0\" class=\"data row8 col0\" >-0.040</td>\n                        <td id=\"T_c5ee41f6_af26_11eb_a42f_1e00da1e1f75row8_col1\" class=\"data row8 col1\" >0.152</td>\n                        <td id=\"T_c5ee41f6_af26_11eb_a42f_1e00da1e1f75row8_col2\" class=\"data row8 col2\" >0.002</td>\n                        <td id=\"T_c5ee41f6_af26_11eb_a42f_1e00da1e1f75row8_col3\" class=\"data row8 col3\" >0.003</td>\n                        <td id=\"T_c5ee41f6_af26_11eb_a42f_1e00da1e1f75row8_col4\" class=\"data row8 col4\" >0.078</td>\n                        <td id=\"T_c5ee41f6_af26_11eb_a42f_1e00da1e1f75row8_col5\" class=\"data row8 col5\" >0.013</td>\n                        <td id=\"T_c5ee41f6_af26_11eb_a42f_1e00da1e1f75row8_col6\" class=\"data row8 col6\" >0.289</td>\n                        <td id=\"T_c5ee41f6_af26_11eb_a42f_1e00da1e1f75row8_col7\" class=\"data row8 col7\" >0.010</td>\n                        <td id=\"T_c5ee41f6_af26_11eb_a42f_1e00da1e1f75row8_col8\" class=\"data row8 col8\" >1.000</td>\n                        <td id=\"T_c5ee41f6_af26_11eb_a42f_1e00da1e1f75row8_col9\" class=\"data row8 col9\" >0.010</td>\n                        <td id=\"T_c5ee41f6_af26_11eb_a42f_1e00da1e1f75row8_col10\" class=\"data row8 col10\" >-0.012</td>\n                        <td id=\"T_c5ee41f6_af26_11eb_a42f_1e00da1e1f75row8_col11\" class=\"data row8 col11\" >0.167</td>\n            </tr>\n            <tr>\n                        <th id=\"T_c5ee41f6_af26_11eb_a42f_1e00da1e1f75level0_row9\" class=\"row_heading level0 row9\" >year</th>\n                        <td id=\"T_c5ee41f6_af26_11eb_a42f_1e00da1e1f75row9_col0\" class=\"data row9 col0\" >0.120</td>\n                        <td id=\"T_c5ee41f6_af26_11eb_a42f_1e00da1e1f75row9_col1\" class=\"data row9 col1\" >-0.024</td>\n                        <td id=\"T_c5ee41f6_af26_11eb_a42f_1e00da1e1f75row9_col2\" class=\"data row9 col2\" >0.002</td>\n                        <td id=\"T_c5ee41f6_af26_11eb_a42f_1e00da1e1f75row9_col3\" class=\"data row9 col3\" >0.002</td>\n                        <td id=\"T_c5ee41f6_af26_11eb_a42f_1e00da1e1f75row9_col4\" class=\"data row9 col4\" >0.030</td>\n                        <td id=\"T_c5ee41f6_af26_11eb_a42f_1e00da1e1f75row9_col5\" class=\"data row9 col5\" >-0.029</td>\n                        <td id=\"T_c5ee41f6_af26_11eb_a42f_1e00da1e1f75row9_col6\" class=\"data row9 col6\" >-0.078</td>\n                        <td id=\"T_c5ee41f6_af26_11eb_a42f_1e00da1e1f75row9_col7\" class=\"data row9 col7\" >0.223</td>\n                        <td id=\"T_c5ee41f6_af26_11eb_a42f_1e00da1e1f75row9_col8\" class=\"data row9 col8\" >0.010</td>\n                        <td id=\"T_c5ee41f6_af26_11eb_a42f_1e00da1e1f75row9_col9\" class=\"data row9 col9\" >1.000</td>\n                        <td id=\"T_c5ee41f6_af26_11eb_a42f_1e00da1e1f75row9_col10\" class=\"data row9 col10\" >-0.590</td>\n                        <td id=\"T_c5ee41f6_af26_11eb_a42f_1e00da1e1f75row9_col11\" class=\"data row9 col11\" >-0.048</td>\n            </tr>\n            <tr>\n                        <th id=\"T_c5ee41f6_af26_11eb_a42f_1e00da1e1f75level0_row10\" class=\"row_heading level0 row10\" >month</th>\n                        <td id=\"T_c5ee41f6_af26_11eb_a42f_1e00da1e1f75row10_col0\" class=\"data row10 col0\" >0.052</td>\n                        <td id=\"T_c5ee41f6_af26_11eb_a42f_1e00da1e1f75row10_col1\" class=\"data row10 col1\" >-0.025</td>\n                        <td id=\"T_c5ee41f6_af26_11eb_a42f_1e00da1e1f75row10_col2\" class=\"data row10 col2\" >-0.000</td>\n                        <td id=\"T_c5ee41f6_af26_11eb_a42f_1e00da1e1f75row10_col3\" class=\"data row10 col3\" >0.003</td>\n                        <td id=\"T_c5ee41f6_af26_11eb_a42f_1e00da1e1f75row10_col4\" class=\"data row10 col4\" >-0.026</td>\n                        <td id=\"T_c5ee41f6_af26_11eb_a42f_1e00da1e1f75row10_col5\" class=\"data row10 col5\" >-0.003</td>\n                        <td id=\"T_c5ee41f6_af26_11eb_a42f_1e00da1e1f75row10_col6\" class=\"data row10 col6\" >0.092</td>\n                        <td id=\"T_c5ee41f6_af26_11eb_a42f_1e00da1e1f75row10_col7\" class=\"data row10 col7\" >-0.074</td>\n                        <td id=\"T_c5ee41f6_af26_11eb_a42f_1e00da1e1f75row10_col8\" class=\"data row10 col8\" >-0.012</td>\n                        <td id=\"T_c5ee41f6_af26_11eb_a42f_1e00da1e1f75row10_col9\" class=\"data row10 col9\" >-0.590</td>\n                        <td id=\"T_c5ee41f6_af26_11eb_a42f_1e00da1e1f75row10_col10\" class=\"data row10 col10\" >1.000</td>\n                        <td id=\"T_c5ee41f6_af26_11eb_a42f_1e00da1e1f75row10_col11\" class=\"data row10 col11\" >0.063</td>\n            </tr>\n            <tr>\n                        <th id=\"T_c5ee41f6_af26_11eb_a42f_1e00da1e1f75level0_row11\" class=\"row_heading level0 row11\" >id</th>\n                        <td id=\"T_c5ee41f6_af26_11eb_a42f_1e00da1e1f75row11_col0\" class=\"data row11 col0\" >0.167</td>\n                        <td id=\"T_c5ee41f6_af26_11eb_a42f_1e00da1e1f75row11_col1\" class=\"data row11 col1\" >0.196</td>\n                        <td id=\"T_c5ee41f6_af26_11eb_a42f_1e00da1e1f75row11_col2\" class=\"data row11 col2\" >-0.000</td>\n                        <td id=\"T_c5ee41f6_af26_11eb_a42f_1e00da1e1f75row11_col3\" class=\"data row11 col3\" >0.014</td>\n                        <td id=\"T_c5ee41f6_af26_11eb_a42f_1e00da1e1f75row11_col4\" class=\"data row11 col4\" >0.083</td>\n                        <td id=\"T_c5ee41f6_af26_11eb_a42f_1e00da1e1f75row11_col5\" class=\"data row11 col5\" >-0.028</td>\n                        <td id=\"T_c5ee41f6_af26_11eb_a42f_1e00da1e1f75row11_col6\" class=\"data row11 col6\" >0.645</td>\n                        <td id=\"T_c5ee41f6_af26_11eb_a42f_1e00da1e1f75row11_col7\" class=\"data row11 col7\" >-0.021</td>\n                        <td id=\"T_c5ee41f6_af26_11eb_a42f_1e00da1e1f75row11_col8\" class=\"data row11 col8\" >0.167</td>\n                        <td id=\"T_c5ee41f6_af26_11eb_a42f_1e00da1e1f75row11_col9\" class=\"data row11 col9\" >-0.048</td>\n                        <td id=\"T_c5ee41f6_af26_11eb_a42f_1e00da1e1f75row11_col10\" class=\"data row11 col10\" >0.063</td>\n                        <td id=\"T_c5ee41f6_af26_11eb_a42f_1e00da1e1f75row11_col11\" class=\"data row11 col11\" >1.000</td>\n            </tr>\n    </tbody></table>",
      "text/plain": "<pandas.io.formats.style.Styler at 0x7fc1d2484ac0>"
     },
     "execution_count": 624,
     "metadata": {},
     "output_type": "execute_result"
    }
   ],
   "source": [
    "corr = df_final.corr()\n",
    "corr.style.background_gradient(cmap='coolwarm').set_precision(3)"
   ]
  },
  {
   "cell_type": "code",
   "execution_count": 625,
   "metadata": {},
   "outputs": [
    {
     "data": {
      "text/plain": "0"
     },
     "execution_count": 625,
     "metadata": {},
     "output_type": "execute_result"
    }
   ],
   "source": [
    "df_final['tiempo_ult_compra'].isnull().sum()"
   ]
  },
  {
   "cell_type": "code",
   "execution_count": 626,
   "metadata": {},
   "outputs": [
    {
     "data": {
      "text/plain": "0          312364.0\n1           64214.0\n2           74010.0\n3          312364.0\n4           74614.0\n             ...   \n1532269    312364.0\n1532270      7858.0\n1532271    151301.0\n1532272     26201.0\n1532273     64214.0\nName: region_code, Length: 1532274, dtype: float64"
     },
     "execution_count": 626,
     "metadata": {},
     "output_type": "execute_result"
    }
   ],
   "source": [
    "# Frequency encoding de region_code\n",
    "region_vc = df_final['region_code'].value_counts()\n",
    "df_final['region_code'] = df_final['region_code'].replace(region_vc)\n",
    "df_final['region_code']"
   ]
  },
  {
   "cell_type": "code",
   "execution_count": 627,
   "metadata": {},
   "outputs": [],
   "source": [
    "X = df_final[ features ]\n",
    "y = df_final[ target ]"
   ]
  },
  {
   "cell_type": "code",
   "execution_count": 628,
   "metadata": {},
   "outputs": [
    {
     "data": {
      "text/plain": "['active_customer',\n 'region_code',\n 'age',\n 'salary',\n 'tiempo_ult_compra',\n 'inversion',\n 'year',\n 'month']"
     },
     "execution_count": 628,
     "metadata": {},
     "output_type": "execute_result"
    }
   ],
   "source": [
    "features"
   ]
  },
  {
   "cell_type": "code",
   "execution_count": 629,
   "metadata": {},
   "outputs": [
    {
     "data": {
      "text/html": "<div>\n<style scoped>\n    .dataframe tbody tr th:only-of-type {\n        vertical-align: middle;\n    }\n\n    .dataframe tbody tr th {\n        vertical-align: top;\n    }\n\n    .dataframe thead th {\n        text-align: right;\n    }\n</style>\n<table border=\"1\" class=\"dataframe\">\n  <thead>\n    <tr style=\"text-align: right;\">\n      <th></th>\n      <th>pk_cid</th>\n      <th>active_customer</th>\n      <th>country_id</th>\n      <th>region_code</th>\n      <th>age</th>\n      <th>salary</th>\n      <th>total</th>\n      <th>tiempo_ult_compra</th>\n      <th>inversion</th>\n      <th>year</th>\n      <th>month</th>\n      <th>id</th>\n    </tr>\n  </thead>\n  <tbody>\n    <tr>\n      <th>0</th>\n      <td>1217904</td>\n      <td>0.0</td>\n      <td>15</td>\n      <td>312364.0</td>\n      <td>24</td>\n      <td>242661.03</td>\n      <td>0.0</td>\n      <td>3.0</td>\n      <td>10.0</td>\n      <td>2018</td>\n      <td>10</td>\n      <td>0</td>\n    </tr>\n    <tr>\n      <th>1</th>\n      <td>1504821</td>\n      <td>0.0</td>\n      <td>15</td>\n      <td>64214.0</td>\n      <td>20</td>\n      <td>-9999.00</td>\n      <td>0.0</td>\n      <td>5.0</td>\n      <td>40.0</td>\n      <td>2019</td>\n      <td>1</td>\n      <td>1</td>\n    </tr>\n    <tr>\n      <th>2</th>\n      <td>1078654</td>\n      <td>0.0</td>\n      <td>15</td>\n      <td>74010.0</td>\n      <td>23</td>\n      <td>-9999.00</td>\n      <td>0.0</td>\n      <td>2.0</td>\n      <td>10.0</td>\n      <td>2018</td>\n      <td>3</td>\n      <td>2</td>\n    </tr>\n    <tr>\n      <th>3</th>\n      <td>1110770</td>\n      <td>1.0</td>\n      <td>15</td>\n      <td>312364.0</td>\n      <td>41</td>\n      <td>181481.97</td>\n      <td>0.0</td>\n      <td>3.0</td>\n      <td>10.0</td>\n      <td>2018</td>\n      <td>3</td>\n      <td>3</td>\n    </tr>\n    <tr>\n      <th>4</th>\n      <td>1062030</td>\n      <td>0.0</td>\n      <td>15</td>\n      <td>74614.0</td>\n      <td>31</td>\n      <td>-9999.00</td>\n      <td>0.0</td>\n      <td>3.0</td>\n      <td>10.0</td>\n      <td>2019</td>\n      <td>3</td>\n      <td>4</td>\n    </tr>\n    <tr>\n      <th>...</th>\n      <td>...</td>\n      <td>...</td>\n      <td>...</td>\n      <td>...</td>\n      <td>...</td>\n      <td>...</td>\n      <td>...</td>\n      <td>...</td>\n      <td>...</td>\n      <td>...</td>\n      <td>...</td>\n      <td>...</td>\n    </tr>\n    <tr>\n      <th>1532269</th>\n      <td>1553456</td>\n      <td>1.0</td>\n      <td>15</td>\n      <td>312364.0</td>\n      <td>32</td>\n      <td>-9999.00</td>\n      <td>1.0</td>\n      <td>1.0</td>\n      <td>10.0</td>\n      <td>2019</td>\n      <td>5</td>\n      <td>1532269</td>\n    </tr>\n    <tr>\n      <th>1532270</th>\n      <td>1553541</td>\n      <td>1.0</td>\n      <td>15</td>\n      <td>7858.0</td>\n      <td>54</td>\n      <td>-9999.00</td>\n      <td>1.0</td>\n      <td>5.0</td>\n      <td>10.0</td>\n      <td>2019</td>\n      <td>5</td>\n      <td>1532270</td>\n    </tr>\n    <tr>\n      <th>1532271</th>\n      <td>1553559</td>\n      <td>1.0</td>\n      <td>15</td>\n      <td>151301.0</td>\n      <td>43</td>\n      <td>-9999.00</td>\n      <td>1.0</td>\n      <td>3.0</td>\n      <td>10.0</td>\n      <td>2019</td>\n      <td>5</td>\n      <td>1532271</td>\n    </tr>\n    <tr>\n      <th>1532272</th>\n      <td>1553565</td>\n      <td>0.0</td>\n      <td>15</td>\n      <td>26201.0</td>\n      <td>68</td>\n      <td>-9999.00</td>\n      <td>1.0</td>\n      <td>1.0</td>\n      <td>10.0</td>\n      <td>2019</td>\n      <td>5</td>\n      <td>1532272</td>\n    </tr>\n    <tr>\n      <th>1532273</th>\n      <td>1553571</td>\n      <td>1.0</td>\n      <td>15</td>\n      <td>64214.0</td>\n      <td>30</td>\n      <td>-9999.00</td>\n      <td>1.0</td>\n      <td>2.0</td>\n      <td>10.0</td>\n      <td>2019</td>\n      <td>5</td>\n      <td>1532273</td>\n    </tr>\n  </tbody>\n</table>\n<p>1532274 rows × 12 columns</p>\n</div>",
      "text/plain": "          pk_cid  active_customer  country_id  region_code  age     salary  \\\n0        1217904              0.0          15     312364.0   24  242661.03   \n1        1504821              0.0          15      64214.0   20   -9999.00   \n2        1078654              0.0          15      74010.0   23   -9999.00   \n3        1110770              1.0          15     312364.0   41  181481.97   \n4        1062030              0.0          15      74614.0   31   -9999.00   \n...          ...              ...         ...          ...  ...        ...   \n1532269  1553456              1.0          15     312364.0   32   -9999.00   \n1532270  1553541              1.0          15       7858.0   54   -9999.00   \n1532271  1553559              1.0          15     151301.0   43   -9999.00   \n1532272  1553565              0.0          15      26201.0   68   -9999.00   \n1532273  1553571              1.0          15      64214.0   30   -9999.00   \n\n         total  tiempo_ult_compra  inversion  year  month       id  \n0          0.0                3.0       10.0  2018     10        0  \n1          0.0                5.0       40.0  2019      1        1  \n2          0.0                2.0       10.0  2018      3        2  \n3          0.0                3.0       10.0  2018      3        3  \n4          0.0                3.0       10.0  2019      3        4  \n...        ...                ...        ...   ...    ...      ...  \n1532269    1.0                1.0       10.0  2019      5  1532269  \n1532270    1.0                5.0       10.0  2019      5  1532270  \n1532271    1.0                3.0       10.0  2019      5  1532271  \n1532272    1.0                1.0       10.0  2019      5  1532272  \n1532273    1.0                2.0       10.0  2019      5  1532273  \n\n[1532274 rows x 12 columns]"
     },
     "execution_count": 629,
     "metadata": {},
     "output_type": "execute_result"
    }
   ],
   "source": [
    "df_final"
   ]
  },
  {
   "cell_type": "code",
   "execution_count": 630,
   "metadata": {},
   "outputs": [],
   "source": [
    "from sklearn.model_selection import train_test_split\n",
    "import lightgbm as lgbm\n",
    "from sklearn.tree import DecisionTreeClassifier\n",
    "\n",
    "# Validation and Train-Test\n",
    "X_train_test, X_validation, y_train_test, y_validation =  train_test_split(X, y, test_size=0.1, random_state=42)\n",
    "\n",
    "# Train and Test\n",
    "X_train, X_test, y_train, y_test =  train_test_split(X_train_test, y_train_test, test_size=0.2, random_state=42)"
   ]
  },
  {
   "cell_type": "code",
   "execution_count": 657,
   "metadata": {},
   "outputs": [],
   "source": [
    "dt = DecisionTreeClassifier( max_depth=10, min_samples_leaf=150, random_state=42 )\n",
    "dt.fit(X_train,y_train)\n",
    "\n",
    "y_train_pred = dt.predict(X_train)\n",
    "y_train_score = dt.predict_proba(X_train)[:,1]\n",
    "\n",
    "#Predict the response for test dataset\n",
    "y_pred = dt.predict(X_test)\n",
    "y_test_score = dt.predict_proba(X_test)[:,1]"
   ]
  },
  {
   "cell_type": "code",
   "execution_count": 658,
   "metadata": {},
   "outputs": [],
   "source": [
    "from sklearn.metrics import accuracy_score, f1_score, recall_score, precision_score, roc_auc_score, roc_curve"
   ]
  },
  {
   "cell_type": "code",
   "execution_count": 659,
   "metadata": {},
   "outputs": [],
   "source": [
    "def metricas(y_test, y_pred, y_test_score, y_train, y_train_pred, y_train_score):\n",
    "    print(\"----------- TEST -----------\")\n",
    "    print(\"Accuracy:\",accuracy_score(y_test, y_pred))\n",
    "    print(\"Precision:\",precision_score(y_test, y_pred))\n",
    "    print(\"Recall:\",recall_score(y_test, y_pred))\n",
    "    print(\"F1-score:\",f1_score(y_test, y_pred))\n",
    "    print(\"ROC AUC score:\",roc_auc_score(y_test, y_test_score))\n",
    "    print(\"----------- TRAIN -----------\")\n",
    "    print(\"Accuracy:\",accuracy_score(y_train, y_train_pred))\n",
    "    print(\"Precision:\",precision_score(y_train, y_train_pred))\n",
    "    print(\"Recall:\",recall_score(y_train, y_train_pred))\n",
    "    print(\"F1-score:\",f1_score(y_train, y_train_pred))\n",
    "    print(\"ROC AUC score:\",roc_auc_score(y_train, y_train_score))"
   ]
  },
  {
   "cell_type": "code",
   "execution_count": 660,
   "metadata": {},
   "outputs": [
    {
     "name": "stdout",
     "output_type": "stream",
     "text": [
      "----------- TEST -----------\n",
      "Accuracy: 0.8878648344875095\n",
      "Precision: 0.7701075499338979\n",
      "Recall: 0.4680652376919235\n",
      "F1-score: 0.5822459950833401\n",
      "ROC AUC score: 0.902129434520581\n",
      "----------- TRAIN -----------\n",
      "Accuracy: 0.8892440058156188\n",
      "Precision: 0.7727155544097645\n",
      "Recall: 0.4735732381704759\n",
      "F1-score: 0.5872433571819453\n",
      "ROC AUC score: 0.9044613858632352\n"
     ]
    }
   ],
   "source": [
    "metricas(y_test, y_pred, y_test_score, y_train, y_train_pred, y_train_score)\n"
   ]
  },
  {
   "cell_type": "code",
   "execution_count": 661,
   "metadata": {},
   "outputs": [
    {
     "data": {
      "text/plain": "inversion            0.458323\nactive_customer      0.186545\nmonth                0.151407\nage                  0.097900\nsalary               0.047999\ntiempo_ult_compra    0.024165\nregion_code          0.016998\nyear                 0.016663\ndtype: float64"
     },
     "execution_count": 661,
     "metadata": {},
     "output_type": "execute_result"
    }
   ],
   "source": [
    "pd.Series( dt.feature_importances_, index=features ).sort_values(ascending=False).head(20)"
   ]
  },
  {
   "cell_type": "code",
   "execution_count": 636,
   "metadata": {},
   "outputs": [],
   "source": [
    "from sklearn.tree import export_graphviz"
   ]
  },
  {
   "cell_type": "code",
   "execution_count": 637,
   "metadata": {},
   "outputs": [],
   "source": [
    "#df[ df['pk_cid'] == 17457][['pk_partition','total']]"
   ]
  },
  {
   "cell_type": "code",
   "execution_count": 638,
   "metadata": {},
   "outputs": [],
   "source": [
    "#16502"
   ]
  }
 ],
 "metadata": {
  "kernelspec": {
   "display_name": "Python 3.8.5 64-bit ('base': conda)",
   "name": "python385jvsc74a57bd01f1ade11a66f379951eb785ed5ab9940defd282e53b6a037182efca5c962c31b"
  },
  "language_info": {
   "codemirror_mode": {
    "name": "ipython",
    "version": 3
   },
   "file_extension": ".py",
   "mimetype": "text/x-python",
   "name": "python",
   "nbconvert_exporter": "python",
   "pygments_lexer": "ipython3",
   "version": "3.8.5"
  },
  "metadata": {
   "interpreter": {
    "hash": "1f1ade11a66f379951eb785ed5ab9940defd282e53b6a037182efca5c962c31b"
   }
  },
  "orig_nbformat": 2
 },
 "nbformat": 4,
 "nbformat_minor": 2
}